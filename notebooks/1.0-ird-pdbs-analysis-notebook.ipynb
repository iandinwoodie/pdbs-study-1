{
 "cells": [
  {
   "cell_type": "raw",
   "metadata": {},
   "source": [
    "<script>\n",
    "  function code_toggle() {\n",
    "    if (code_shown){\n",
    "      $('div.input').hide('500');\n",
    "      $('#toggleButton').val('Show Code')\n",
    "    } else {\n",
    "      $('div.input').show('500');\n",
    "      $('#toggleButton').val('Hide Code')\n",
    "    }\n",
    "    code_shown = !code_shown\n",
    "  }\n",
    "\n",
    "  $( document ).ready(function(){\n",
    "    code_shown=false;\n",
    "    $('div.input').hide()\n",
    "  });\n",
    "</script>\n",
    "<form action=\"javascript:code_toggle()\"><input type=\"submit\" id=\"toggleButton\" value=\"Show Code\"></form>"
   ]
  },
  {
   "cell_type": "markdown",
   "metadata": {},
   "source": [
    "# <center>Pet Dog Behavior Study</center>\n",
    "<center>Dinwoodie, Dodman, et al.</center>\n",
    "<center>Tufts University</center>"
   ]
  },
  {
   "cell_type": "code",
   "execution_count": 6,
   "metadata": {},
   "outputs": [
    {
     "data": {
      "text/html": [
       "<script>requirejs.config({paths: { 'plotly': ['https://cdn.plot.ly/plotly-latest.min']},});if(!window.Plotly) {{require(['plotly'],function(plotly) {window.Plotly=plotly;});}}</script>"
      ],
      "text/vnd.plotly.v1+html": [
       "<script>requirejs.config({paths: { 'plotly': ['https://cdn.plot.ly/plotly-latest.min']},});if(!window.Plotly) {{require(['plotly'],function(plotly) {window.Plotly=plotly;});}}</script>"
      ]
     },
     "metadata": {},
     "output_type": "display_data"
    }
   ],
   "source": [
    "import sqlite3\n",
    "import pandas as pd\n",
    "import plotly.offline as py\n",
    "import plotly.graph_objs as go\n",
    "from matplotlib_venn import venn2, venn3\n",
    "import scipy.stats as scs\n",
    "import textwrap\n",
    "import matplotlib.pyplot as plt\n",
    "import numpy as np\n",
    "import seaborn as sns\n",
    "from  itertools import combinations\n",
    "\n",
    "# IPython magics for this notebook.\n",
    "%matplotlib inline\n",
    "\n",
    "# Initiate plotly IPython notebook mode.\n",
    "py.init_notebook_mode(connected=True)"
   ]
  },
  {
   "cell_type": "code",
   "execution_count": 7,
   "metadata": {},
   "outputs": [],
   "source": [
    "class FieldRegistry:\n",
    "    \n",
    "    def __init__(self):\n",
    "        self.fields = {}\n",
    "        self.labels = {}\n",
    "    \n",
    "    def addToRegistry(self, index, labels, fields, category):\n",
    "        self.labels[category] = {}\n",
    "        for counter, value in enumerate(labels, 1):\n",
    "            key = '{}{:02}'.format(index, counter)\n",
    "            self.labels[category][key] = value\n",
    "        self.fields[category] = fields\n",
    "        \n",
    "FR = FieldRegistry()   \n",
    "CATEGORY = ['Aggression', 'Fear/Anxiety', 'Compulsion', 'House Soiling', 'Excessive Barking', \n",
    "            'Jumping', 'Mounting/Humping', 'Consuming Feces', 'Destructive Behavior',\n",
    "            'Rolling in Repulsive Material', 'Running Away/Escaping', \n",
    "            'Overactivity/Hyperactivity']\n",
    "        \n",
    "# Aggression.\n",
    "labels = ['Familiar people in the home', 'Stangers visiting the home',\n",
    "          'Stangers away from the home', 'Another dog in the home',\n",
    "          'Unfamiliar dogs visiting the home', 'Unfamiliar dogs on walks (off lead)',\n",
    "          'Unfamiliar dogs on walks (on lead)', 'Veterinarians', 'Trainers', 'Groomers',\n",
    "          'Animals other than dogs in the home']\n",
    "fields = ['q03_main_1', 'q03_main_2', 'q03_main_3', 'q03_main_4', 'q03_main_5', 'q03_main_6',\n",
    "          'q03_main_7', 'q03_main_8', 'q03_main_9', 'q03_main_10', 'q03_main_11']\n",
    "FR.addToRegistry('A', labels, fields, CATEGORY[0])\n",
    "\n",
    "# Fear/anxiety.\n",
    "labels = ['Thunderstorm phobia', 'Noise phobia', 'Crowd phobia', 'Phobia of other dogs',\n",
    "          'PTSD', 'Generalized anxiety', 'Situational anxiety', 'Veterinarian phobia',\n",
    "          'Separation anxiety', 'Travel anxiety', 'Other']\n",
    "fields = ['q04_1', 'q04_2', 'q04_3', 'q04_4', 'q04_5', 'q04_6', 'q04_7', 'q04_8', 'q04_9',\n",
    "          'q04_10', 'q04_11']\n",
    "FR.addToRegistry('B', labels, fields, CATEGORY[1])\n",
    "\n",
    "# Compulsion.\n",
    "labels = ['Spinning', 'Tail chasing', 'Shadow/light chasing', 'Running in geometric patterns',\n",
    "          'Licking of wrist/hock', 'Fly snapping', 'Sucking flank region/blankets',\n",
    "          'Tennis ball fetish', 'Collecting/arranging objects', 'Nail biting',\n",
    "          'Digging in yard', 'Stone/rock chewing', 'Other']\n",
    "fields = ['q05_main_1', 'q05_main_2', 'q05_main_3', 'q05_main_4', 'q05_main_5', 'q05_main_6',\n",
    "          'q05_main_7', 'q05_main_8', 'q05_main_9', 'q05_main_10', 'q05_main_11',\n",
    "          'q05_main_12', 'q05_main_13']\n",
    "FR.addToRegistry('C', labels, fields, CATEGORY[2])\n",
    "\n",
    "# House soiling.\n",
    "## soil_type = ['Urine', 'Feces', 'Urine and feces']\n",
    "labels = ['Urine', 'Feces', 'Urine and feces', 'Specific locations', 'Anywhere',\n",
    "          'Owner present', 'Owner away', 'Excited/overwhelmed']\n",
    "fields = ['q06_soil_type_1', 'q06_soil_type_2', 'q06_soil_type_3','q06_soil_location_1',\n",
    "          'q06_soil_location_2', 'q06_situation_1', 'q06_situation_2', 'q06_situation_3']\n",
    "FR.addToRegistry('D', labels, fields, CATEGORY[3])\n",
    "\n",
    "# Excessive barking.\n",
    "labels = ['Owner present', 'Owner away', 'To get attention', 'At tiggers (inside)',\n",
    "          'At triggers (outside)', 'During car rides']\n",
    "fields = ['q07_sitatuon_1', 'q07_sitatuon_2', 'q07_sitatuon_3', 'q07_sitatuon_4',\n",
    "          'q07_sitatuon_5', 'q07_sitatuon_6']\n",
    "FR.addToRegistry('E', labels, fields, CATEGORY[4])\n",
    "\n",
    "# Jumping.\n",
    "labels = ['Owner', 'Family members', 'Strangers']\n",
    "fields = ['q08_who_1', 'q08_who_2', 'q08_who_3']\n",
    "FR.addToRegistry('F', labels, fields, CATEGORY[5])\n",
    "\n",
    "# Mounting/humping.\n",
    "labels = ['People', 'Familiar dogs', 'Unfamiliar dogs', 'Inanimate objects']\n",
    "fields = ['q09_main_1', 'q09_main_2', 'q09_main_3', 'q09_main_4']\n",
    "FR.addToRegistry('G', labels, fields, CATEGORY[6])\n",
    "\n",
    "# Consuming feces.\n",
    "labels = ['Their own', \"Other dogs'\", \"Other species'\"]\n",
    "fields = ['q10_main_1', 'q10_main_2', 'q10_main_3']\n",
    "FR.addToRegistry('H', labels, fields, CATEGORY[7])\n",
    "\n",
    "# Destructive behavior.\n",
    "labels = ['Owner is home', 'Owner is away']\n",
    "fields = ['q11_situation_1', 'q11_situation_2']\n",
    "FR.addToRegistry('H', labels, fields, CATEGORY[8])\n",
    "\n",
    "# Rolling in repulsive materials.\n",
    "labels = ['Urine', 'Feces', 'Dead Stuff', 'Garbage']\n",
    "fields = ['q12_main_1', 'q12_main_2', 'q12_main_3', 'q12_main_4']\n",
    "FR.addToRegistry('J', labels, fields, CATEGORY[9])\n",
    "\n",
    "# Running away/escaping.\n",
    "labels = ['Escapes when out', 'Escapes from home', 'Escapes from confinement',\n",
    "          'Returns home after escape']\n",
    "fields = ['q14_out', 'q14_house', 'q14_conf', 'q14_return']\n",
    "FR.addToRegistry('K', labels, fields, CATEGORY[10])\n",
    "\n",
    "# Overactivity/hyperactivity.\n",
    "labels = ['Constant moving/jumping', 'Difficulty settling', 'Highly distractible',\n",
    "          'Impulsive']\n",
    "fields = ['q15_main_1', 'q15_main_2', 'q15_main_3', 'q15_main_4']\n",
    "FR.addToRegistry('L', labels, fields, CATEGORY[11])"
   ]
  },
  {
   "cell_type": "code",
   "execution_count": 8,
   "metadata": {},
   "outputs": [],
   "source": [
    "# Data Globals\n",
    "SIG_P = 0.01\n",
    "TOTAL_USERS = 0\n",
    "TOTAL_DOGS = 0\n",
    "REMAINING_DOGS = 0\n",
    "PREVALENCE = lambda x: (x / REMAINING_DOGS) * 100\n",
    "CHI2_MATRIX = pd.DataFrame()\n",
    "\n",
    "# Database Globals\n",
    "USER_TABLE = 'users'\n",
    "DOG_TABLE = 'dogs'\n",
    "BIAS_FILTER = '''\n",
    "    JOIN users\n",
    "    USING (record_id)\n",
    "    WHERE question_reason_for_part_3 = 0\n",
    "    OR (question_reason_for_part_3 = 1 AND q01_main != 1)'''\n",
    "CON = sqlite3.connect('../data/processed/processed.db')"
   ]
  },
  {
   "cell_type": "code",
   "execution_count": 9,
   "metadata": {},
   "outputs": [],
   "source": [
    "def createStringDataFrame(table, fields, labels, filtered):\n",
    "    query = 'SELECT ' + fields + ' FROM ' + table\n",
    "    if filtered:\n",
    "        query += ' ' + BIAS_FILTER\n",
    "    df = pd.read_sql_query(query, CON)\n",
    "    df.columns = labels\n",
    "    return df\n",
    "\n",
    "def convertToNumeric(df):\n",
    "    for col in df:\n",
    "        df[col] = pd.to_numeric(df[col])\n",
    "    return df\n",
    "\n",
    "def createNumericDataFrame(table, fields, labels, filtered):\n",
    "    df = createStringDataFrame(table, fields, labels, filtered)\n",
    "    return convertToNumeric(df)\n",
    "\n",
    "def replaceFields(df, replacement_dict):\n",
    "    for key, value in replacement_dict.items():\n",
    "        df = df.replace(key, value)\n",
    "    return df\n",
    "\n",
    "def getValueCountAndPrevalence(df, field):\n",
    "    s = df[field].value_counts()\n",
    "    p = s.apply(PREVALENCE)\n",
    "    rv = pd.concat([s, p], axis=1)\n",
    "    rv.columns = ['sum', 'prevalence']\n",
    "    return rv\n",
    "    \n",
    "def createChiSquaredMatrix():\n",
    "    fields = ''\n",
    "    for cat, sublist in FR.fields.items():\n",
    "        for field in sublist:\n",
    "            fields += '{}, '.format(field)\n",
    "    fields = fields[:-2]\n",
    "    labels = []\n",
    "    for cat, subdict in FR.labels.items():\n",
    "        for key, value in  subdict.items():\n",
    "            labels.append(key)\n",
    "    print(fields)\n",
    "    print(labels)\n",
    "    df = createNumericDataFrame(DOG_TABLE, fields, labels, filtered=True)\n",
    "    cols = []\n",
    "    chi2 = {}\n",
    "    for col in df:\n",
    "        cols.append(col)\n",
    "        chi2[col] = {}\n",
    "    pairs = list(combinations(df.columns,2))\n",
    "    for pair in pairs:\n",
    "        contingency = pd.crosstab(df[pair[0]], df[pair[1]])\n",
    "        c, p, dof, expected = scs.chi2_contingency(contingency, correction=False)\n",
    "        chi2[pair[0]][pair[1]] = c\n",
    "        chi2[pair[1]][pair[0]] = c\n",
    "    df = pd.DataFrame(chi2).sort_index(ascending=True)\n",
    "    return df\n",
    "\n",
    "def checkSignificance(p, sig=SIG_P):\n",
    "    if p < sig:\n",
    "        print('The resulting p-value is below the set significance threshold (%.2f).' %sig)"
   ]
  },
  {
   "cell_type": "code",
   "execution_count": 10,
   "metadata": {},
   "outputs": [
    {
     "name": "stdout",
     "output_type": "stream",
     "text": [
      "q03_main_1, q03_main_2, q03_main_3, q03_main_4, q03_main_5, q03_main_6, q03_main_7, q03_main_8, q03_main_9, q03_main_10, q03_main_11, q04_1, q04_2, q04_3, q04_4, q04_5, q04_6, q04_7, q04_8, q04_9, q04_10, q04_11, q05_main_1, q05_main_2, q05_main_3, q05_main_4, q05_main_5, q05_main_6, q05_main_7, q05_main_8, q05_main_9, q05_main_10, q05_main_11, q05_main_12, q05_main_13, q06_soil_type_1, q06_soil_type_2, q06_soil_type_3, q06_soil_location_1, q06_soil_location_2, q06_situation_1, q06_situation_2, q06_situation_3, q07_sitatuon_1, q07_sitatuon_2, q07_sitatuon_3, q07_sitatuon_4, q07_sitatuon_5, q07_sitatuon_6, q08_who_1, q08_who_2, q08_who_3, q09_main_1, q09_main_2, q09_main_3, q09_main_4, q10_main_1, q10_main_2, q10_main_3, q11_situation_1, q11_situation_2, q12_main_1, q12_main_2, q12_main_3, q12_main_4, q14_out, q14_house, q14_conf, q14_return, q15_main_1, q15_main_2, q15_main_3, q15_main_4\n",
      "['A01', 'A02', 'A03', 'A04', 'A05', 'A06', 'A07', 'A08', 'A09', 'A10', 'A11', 'B01', 'B02', 'B03', 'B04', 'B05', 'B06', 'B07', 'B08', 'B09', 'B10', 'B11', 'C01', 'C02', 'C03', 'C04', 'C05', 'C06', 'C07', 'C08', 'C09', 'C10', 'C11', 'C12', 'C13', 'D01', 'D02', 'D03', 'D04', 'D05', 'D06', 'D07', 'D08', 'E01', 'E02', 'E03', 'E04', 'E05', 'E06', 'F01', 'F02', 'F03', 'G01', 'G02', 'G03', 'G04', 'H01', 'H02', 'H03', 'H01', 'H02', 'J01', 'J02', 'J03', 'J04', 'K01', 'K02', 'K03', 'K04', 'L01', 'L02', 'L03', 'L04']\n"
     ]
    },
    {
     "ename": "DatabaseError",
     "evalue": "Execution failed on sql 'SELECT q03_main_1, q03_main_2, q03_main_3, q03_main_4, q03_main_5, q03_main_6, q03_main_7, q03_main_8, q03_main_9, q03_main_10, q03_main_11, q04_1, q04_2, q04_3, q04_4, q04_5, q04_6, q04_7, q04_8, q04_9, q04_10, q04_11, q05_main_1, q05_main_2, q05_main_3, q05_main_4, q05_main_5, q05_main_6, q05_main_7, q05_main_8, q05_main_9, q05_main_10, q05_main_11, q05_main_12, q05_main_13, q06_soil_type_1, q06_soil_type_2, q06_soil_type_3, q06_soil_location_1, q06_soil_location_2, q06_situation_1, q06_situation_2, q06_situation_3, q07_sitatuon_1, q07_sitatuon_2, q07_sitatuon_3, q07_sitatuon_4, q07_sitatuon_5, q07_sitatuon_6, q08_who_1, q08_who_2, q08_who_3, q09_main_1, q09_main_2, q09_main_3, q09_main_4, q10_main_1, q10_main_2, q10_main_3, q11_situation_1, q11_situation_2, q12_main_1, q12_main_2, q12_main_3, q12_main_4, q14_out, q14_house, q14_conf, q14_return, q15_main_1, q15_main_2, q15_main_3, q15_main_4 FROM dogs \n    JOIN users\n    USING (record_id)\n    WHERE question_reason_for_part_3 = 0\n    OR (question_reason_for_part_3 = 1 AND q01_main != 1)': no such column: q06_soil_type_1",
     "output_type": "error",
     "traceback": [
      "\u001b[0;31m---------------------------------------------------------------------------\u001b[0m",
      "\u001b[0;31mOperationalError\u001b[0m                          Traceback (most recent call last)",
      "\u001b[0;32m/Library/Frameworks/Python.framework/Versions/3.6/lib/python3.6/site-packages/pandas/io/sql.py\u001b[0m in \u001b[0;36mexecute\u001b[0;34m(self, *args, **kwargs)\u001b[0m\n\u001b[1;32m   1399\u001b[0m             \u001b[0;32melse\u001b[0m\u001b[0;34m:\u001b[0m\u001b[0;34m\u001b[0m\u001b[0m\n\u001b[0;32m-> 1400\u001b[0;31m                 \u001b[0mcur\u001b[0m\u001b[0;34m.\u001b[0m\u001b[0mexecute\u001b[0m\u001b[0;34m(\u001b[0m\u001b[0;34m*\u001b[0m\u001b[0margs\u001b[0m\u001b[0;34m)\u001b[0m\u001b[0;34m\u001b[0m\u001b[0m\n\u001b[0m\u001b[1;32m   1401\u001b[0m             \u001b[0;32mreturn\u001b[0m \u001b[0mcur\u001b[0m\u001b[0;34m\u001b[0m\u001b[0m\n",
      "\u001b[0;31mOperationalError\u001b[0m: no such column: q06_soil_type_1",
      "\nDuring handling of the above exception, another exception occurred:\n",
      "\u001b[0;31mDatabaseError\u001b[0m                             Traceback (most recent call last)",
      "\u001b[0;32m<ipython-input-10-897093cd4e12>\u001b[0m in \u001b[0;36m<module>\u001b[0;34m()\u001b[0m\n\u001b[1;32m      1\u001b[0m \u001b[0;32mif\u001b[0m \u001b[0mCHI2_MATRIX\u001b[0m\u001b[0;34m.\u001b[0m\u001b[0mempty\u001b[0m\u001b[0;34m:\u001b[0m\u001b[0;34m\u001b[0m\u001b[0m\n\u001b[0;32m----> 2\u001b[0;31m     \u001b[0mCHI2_MATRIX\u001b[0m \u001b[0;34m=\u001b[0m \u001b[0mcreateChiSquaredMatrix\u001b[0m\u001b[0;34m(\u001b[0m\u001b[0;34m)\u001b[0m\u001b[0;34m\u001b[0m\u001b[0m\n\u001b[0m",
      "\u001b[0;32m<ipython-input-9-5c6603e078b8>\u001b[0m in \u001b[0;36mcreateChiSquaredMatrix\u001b[0;34m()\u001b[0m\n\u001b[1;32m     40\u001b[0m     \u001b[0mprint\u001b[0m\u001b[0;34m(\u001b[0m\u001b[0mfields\u001b[0m\u001b[0;34m)\u001b[0m\u001b[0;34m\u001b[0m\u001b[0m\n\u001b[1;32m     41\u001b[0m     \u001b[0mprint\u001b[0m\u001b[0;34m(\u001b[0m\u001b[0mlabels\u001b[0m\u001b[0;34m)\u001b[0m\u001b[0;34m\u001b[0m\u001b[0m\n\u001b[0;32m---> 42\u001b[0;31m     \u001b[0mdf\u001b[0m \u001b[0;34m=\u001b[0m \u001b[0mcreateNumericDataFrame\u001b[0m\u001b[0;34m(\u001b[0m\u001b[0mDOG_TABLE\u001b[0m\u001b[0;34m,\u001b[0m \u001b[0mfields\u001b[0m\u001b[0;34m,\u001b[0m \u001b[0mlabels\u001b[0m\u001b[0;34m,\u001b[0m \u001b[0mfiltered\u001b[0m\u001b[0;34m=\u001b[0m\u001b[0;32mTrue\u001b[0m\u001b[0;34m)\u001b[0m\u001b[0;34m\u001b[0m\u001b[0m\n\u001b[0m\u001b[1;32m     43\u001b[0m     \u001b[0mcols\u001b[0m \u001b[0;34m=\u001b[0m \u001b[0;34m[\u001b[0m\u001b[0;34m]\u001b[0m\u001b[0;34m\u001b[0m\u001b[0m\n\u001b[1;32m     44\u001b[0m     \u001b[0mchi2\u001b[0m \u001b[0;34m=\u001b[0m \u001b[0;34m{\u001b[0m\u001b[0;34m}\u001b[0m\u001b[0;34m\u001b[0m\u001b[0m\n",
      "\u001b[0;32m<ipython-input-9-5c6603e078b8>\u001b[0m in \u001b[0;36mcreateNumericDataFrame\u001b[0;34m(table, fields, labels, filtered)\u001b[0m\n\u001b[1;32m     13\u001b[0m \u001b[0;34m\u001b[0m\u001b[0m\n\u001b[1;32m     14\u001b[0m \u001b[0;32mdef\u001b[0m \u001b[0mcreateNumericDataFrame\u001b[0m\u001b[0;34m(\u001b[0m\u001b[0mtable\u001b[0m\u001b[0;34m,\u001b[0m \u001b[0mfields\u001b[0m\u001b[0;34m,\u001b[0m \u001b[0mlabels\u001b[0m\u001b[0;34m,\u001b[0m \u001b[0mfiltered\u001b[0m\u001b[0;34m)\u001b[0m\u001b[0;34m:\u001b[0m\u001b[0;34m\u001b[0m\u001b[0m\n\u001b[0;32m---> 15\u001b[0;31m     \u001b[0mdf\u001b[0m \u001b[0;34m=\u001b[0m \u001b[0mcreateStringDataFrame\u001b[0m\u001b[0;34m(\u001b[0m\u001b[0mtable\u001b[0m\u001b[0;34m,\u001b[0m \u001b[0mfields\u001b[0m\u001b[0;34m,\u001b[0m \u001b[0mlabels\u001b[0m\u001b[0;34m,\u001b[0m \u001b[0mfiltered\u001b[0m\u001b[0;34m)\u001b[0m\u001b[0;34m\u001b[0m\u001b[0m\n\u001b[0m\u001b[1;32m     16\u001b[0m     \u001b[0;32mreturn\u001b[0m \u001b[0mconvertToNumeric\u001b[0m\u001b[0;34m(\u001b[0m\u001b[0mdf\u001b[0m\u001b[0;34m)\u001b[0m\u001b[0;34m\u001b[0m\u001b[0m\n\u001b[1;32m     17\u001b[0m \u001b[0;34m\u001b[0m\u001b[0m\n",
      "\u001b[0;32m<ipython-input-9-5c6603e078b8>\u001b[0m in \u001b[0;36mcreateStringDataFrame\u001b[0;34m(table, fields, labels, filtered)\u001b[0m\n\u001b[1;32m      3\u001b[0m     \u001b[0;32mif\u001b[0m \u001b[0mfiltered\u001b[0m\u001b[0;34m:\u001b[0m\u001b[0;34m\u001b[0m\u001b[0m\n\u001b[1;32m      4\u001b[0m         \u001b[0mquery\u001b[0m \u001b[0;34m+=\u001b[0m \u001b[0;34m' '\u001b[0m \u001b[0;34m+\u001b[0m \u001b[0mBIAS_FILTER\u001b[0m\u001b[0;34m\u001b[0m\u001b[0m\n\u001b[0;32m----> 5\u001b[0;31m     \u001b[0mdf\u001b[0m \u001b[0;34m=\u001b[0m \u001b[0mpd\u001b[0m\u001b[0;34m.\u001b[0m\u001b[0mread_sql_query\u001b[0m\u001b[0;34m(\u001b[0m\u001b[0mquery\u001b[0m\u001b[0;34m,\u001b[0m \u001b[0mCON\u001b[0m\u001b[0;34m)\u001b[0m\u001b[0;34m\u001b[0m\u001b[0m\n\u001b[0m\u001b[1;32m      6\u001b[0m     \u001b[0mdf\u001b[0m\u001b[0;34m.\u001b[0m\u001b[0mcolumns\u001b[0m \u001b[0;34m=\u001b[0m \u001b[0mlabels\u001b[0m\u001b[0;34m\u001b[0m\u001b[0m\n\u001b[1;32m      7\u001b[0m     \u001b[0;32mreturn\u001b[0m \u001b[0mdf\u001b[0m\u001b[0;34m\u001b[0m\u001b[0m\n",
      "\u001b[0;32m/Library/Frameworks/Python.framework/Versions/3.6/lib/python3.6/site-packages/pandas/io/sql.py\u001b[0m in \u001b[0;36mread_sql_query\u001b[0;34m(sql, con, index_col, coerce_float, params, parse_dates, chunksize)\u001b[0m\n\u001b[1;32m    312\u001b[0m     return pandas_sql.read_query(\n\u001b[1;32m    313\u001b[0m         \u001b[0msql\u001b[0m\u001b[0;34m,\u001b[0m \u001b[0mindex_col\u001b[0m\u001b[0;34m=\u001b[0m\u001b[0mindex_col\u001b[0m\u001b[0;34m,\u001b[0m \u001b[0mparams\u001b[0m\u001b[0;34m=\u001b[0m\u001b[0mparams\u001b[0m\u001b[0;34m,\u001b[0m \u001b[0mcoerce_float\u001b[0m\u001b[0;34m=\u001b[0m\u001b[0mcoerce_float\u001b[0m\u001b[0;34m,\u001b[0m\u001b[0;34m\u001b[0m\u001b[0m\n\u001b[0;32m--> 314\u001b[0;31m         parse_dates=parse_dates, chunksize=chunksize)\n\u001b[0m\u001b[1;32m    315\u001b[0m \u001b[0;34m\u001b[0m\u001b[0m\n\u001b[1;32m    316\u001b[0m \u001b[0;34m\u001b[0m\u001b[0m\n",
      "\u001b[0;32m/Library/Frameworks/Python.framework/Versions/3.6/lib/python3.6/site-packages/pandas/io/sql.py\u001b[0m in \u001b[0;36mread_query\u001b[0;34m(self, sql, index_col, coerce_float, params, parse_dates, chunksize)\u001b[0m\n\u001b[1;32m   1433\u001b[0m \u001b[0;34m\u001b[0m\u001b[0m\n\u001b[1;32m   1434\u001b[0m         \u001b[0margs\u001b[0m \u001b[0;34m=\u001b[0m \u001b[0m_convert_params\u001b[0m\u001b[0;34m(\u001b[0m\u001b[0msql\u001b[0m\u001b[0;34m,\u001b[0m \u001b[0mparams\u001b[0m\u001b[0;34m)\u001b[0m\u001b[0;34m\u001b[0m\u001b[0m\n\u001b[0;32m-> 1435\u001b[0;31m         \u001b[0mcursor\u001b[0m \u001b[0;34m=\u001b[0m \u001b[0mself\u001b[0m\u001b[0;34m.\u001b[0m\u001b[0mexecute\u001b[0m\u001b[0;34m(\u001b[0m\u001b[0;34m*\u001b[0m\u001b[0margs\u001b[0m\u001b[0;34m)\u001b[0m\u001b[0;34m\u001b[0m\u001b[0m\n\u001b[0m\u001b[1;32m   1436\u001b[0m         \u001b[0mcolumns\u001b[0m \u001b[0;34m=\u001b[0m \u001b[0;34m[\u001b[0m\u001b[0mcol_desc\u001b[0m\u001b[0;34m[\u001b[0m\u001b[0;36m0\u001b[0m\u001b[0;34m]\u001b[0m \u001b[0;32mfor\u001b[0m \u001b[0mcol_desc\u001b[0m \u001b[0;32min\u001b[0m \u001b[0mcursor\u001b[0m\u001b[0;34m.\u001b[0m\u001b[0mdescription\u001b[0m\u001b[0;34m]\u001b[0m\u001b[0;34m\u001b[0m\u001b[0m\n\u001b[1;32m   1437\u001b[0m \u001b[0;34m\u001b[0m\u001b[0m\n",
      "\u001b[0;32m/Library/Frameworks/Python.framework/Versions/3.6/lib/python3.6/site-packages/pandas/io/sql.py\u001b[0m in \u001b[0;36mexecute\u001b[0;34m(self, *args, **kwargs)\u001b[0m\n\u001b[1;32m   1410\u001b[0m             ex = DatabaseError(\n\u001b[1;32m   1411\u001b[0m                 \"Execution failed on sql '%s': %s\" % (args[0], exc))\n\u001b[0;32m-> 1412\u001b[0;31m             \u001b[0mraise_with_traceback\u001b[0m\u001b[0;34m(\u001b[0m\u001b[0mex\u001b[0m\u001b[0;34m)\u001b[0m\u001b[0;34m\u001b[0m\u001b[0m\n\u001b[0m\u001b[1;32m   1413\u001b[0m \u001b[0;34m\u001b[0m\u001b[0m\n\u001b[1;32m   1414\u001b[0m     \u001b[0;34m@\u001b[0m\u001b[0mstaticmethod\u001b[0m\u001b[0;34m\u001b[0m\u001b[0m\n",
      "\u001b[0;32m/Library/Frameworks/Python.framework/Versions/3.6/lib/python3.6/site-packages/pandas/compat/__init__.py\u001b[0m in \u001b[0;36mraise_with_traceback\u001b[0;34m(exc, traceback)\u001b[0m\n\u001b[1;32m    401\u001b[0m         \u001b[0;32mif\u001b[0m \u001b[0mtraceback\u001b[0m \u001b[0;34m==\u001b[0m \u001b[0mEllipsis\u001b[0m\u001b[0;34m:\u001b[0m\u001b[0;34m\u001b[0m\u001b[0m\n\u001b[1;32m    402\u001b[0m             \u001b[0m_\u001b[0m\u001b[0;34m,\u001b[0m \u001b[0m_\u001b[0m\u001b[0;34m,\u001b[0m \u001b[0mtraceback\u001b[0m \u001b[0;34m=\u001b[0m \u001b[0msys\u001b[0m\u001b[0;34m.\u001b[0m\u001b[0mexc_info\u001b[0m\u001b[0;34m(\u001b[0m\u001b[0;34m)\u001b[0m\u001b[0;34m\u001b[0m\u001b[0m\n\u001b[0;32m--> 403\u001b[0;31m         \u001b[0;32mraise\u001b[0m \u001b[0mexc\u001b[0m\u001b[0;34m.\u001b[0m\u001b[0mwith_traceback\u001b[0m\u001b[0;34m(\u001b[0m\u001b[0mtraceback\u001b[0m\u001b[0;34m)\u001b[0m\u001b[0;34m\u001b[0m\u001b[0m\n\u001b[0m\u001b[1;32m    404\u001b[0m \u001b[0;32melse\u001b[0m\u001b[0;34m:\u001b[0m\u001b[0;34m\u001b[0m\u001b[0m\n\u001b[1;32m    405\u001b[0m     \u001b[0;31m# this version of raise is a syntax error in Python 3\u001b[0m\u001b[0;34m\u001b[0m\u001b[0;34m\u001b[0m\u001b[0m\n",
      "\u001b[0;32m/Library/Frameworks/Python.framework/Versions/3.6/lib/python3.6/site-packages/pandas/io/sql.py\u001b[0m in \u001b[0;36mexecute\u001b[0;34m(self, *args, **kwargs)\u001b[0m\n\u001b[1;32m   1398\u001b[0m                 \u001b[0mcur\u001b[0m\u001b[0;34m.\u001b[0m\u001b[0mexecute\u001b[0m\u001b[0;34m(\u001b[0m\u001b[0;34m*\u001b[0m\u001b[0margs\u001b[0m\u001b[0;34m,\u001b[0m \u001b[0;34m**\u001b[0m\u001b[0mkwargs\u001b[0m\u001b[0;34m)\u001b[0m\u001b[0;34m\u001b[0m\u001b[0m\n\u001b[1;32m   1399\u001b[0m             \u001b[0;32melse\u001b[0m\u001b[0;34m:\u001b[0m\u001b[0;34m\u001b[0m\u001b[0m\n\u001b[0;32m-> 1400\u001b[0;31m                 \u001b[0mcur\u001b[0m\u001b[0;34m.\u001b[0m\u001b[0mexecute\u001b[0m\u001b[0;34m(\u001b[0m\u001b[0;34m*\u001b[0m\u001b[0margs\u001b[0m\u001b[0;34m)\u001b[0m\u001b[0;34m\u001b[0m\u001b[0m\n\u001b[0m\u001b[1;32m   1401\u001b[0m             \u001b[0;32mreturn\u001b[0m \u001b[0mcur\u001b[0m\u001b[0;34m\u001b[0m\u001b[0m\n\u001b[1;32m   1402\u001b[0m         \u001b[0;32mexcept\u001b[0m \u001b[0mException\u001b[0m \u001b[0;32mas\u001b[0m \u001b[0mexc\u001b[0m\u001b[0;34m:\u001b[0m\u001b[0;34m\u001b[0m\u001b[0m\n",
      "\u001b[0;31mDatabaseError\u001b[0m: Execution failed on sql 'SELECT q03_main_1, q03_main_2, q03_main_3, q03_main_4, q03_main_5, q03_main_6, q03_main_7, q03_main_8, q03_main_9, q03_main_10, q03_main_11, q04_1, q04_2, q04_3, q04_4, q04_5, q04_6, q04_7, q04_8, q04_9, q04_10, q04_11, q05_main_1, q05_main_2, q05_main_3, q05_main_4, q05_main_5, q05_main_6, q05_main_7, q05_main_8, q05_main_9, q05_main_10, q05_main_11, q05_main_12, q05_main_13, q06_soil_type_1, q06_soil_type_2, q06_soil_type_3, q06_soil_location_1, q06_soil_location_2, q06_situation_1, q06_situation_2, q06_situation_3, q07_sitatuon_1, q07_sitatuon_2, q07_sitatuon_3, q07_sitatuon_4, q07_sitatuon_5, q07_sitatuon_6, q08_who_1, q08_who_2, q08_who_3, q09_main_1, q09_main_2, q09_main_3, q09_main_4, q10_main_1, q10_main_2, q10_main_3, q11_situation_1, q11_situation_2, q12_main_1, q12_main_2, q12_main_3, q12_main_4, q14_out, q14_house, q14_conf, q14_return, q15_main_1, q15_main_2, q15_main_3, q15_main_4 FROM dogs \n    JOIN users\n    USING (record_id)\n    WHERE question_reason_for_part_3 = 0\n    OR (question_reason_for_part_3 = 1 AND q01_main != 1)': no such column: q06_soil_type_1"
     ]
    }
   ],
   "source": [
    "if CHI2_MATRIX.empty:\n",
    "    CHI2_MATRIX = createChiSquaredMatrix()"
   ]
  },
  {
   "cell_type": "markdown",
   "metadata": {},
   "source": [
    "## 1. Participant Demographics"
   ]
  },
  {
   "cell_type": "markdown",
   "metadata": {},
   "source": [
    "### 1.1 Number of Participants:"
   ]
  },
  {
   "cell_type": "code",
   "execution_count": null,
   "metadata": {},
   "outputs": [],
   "source": [
    "df = createNumericDataFrame(USER_TABLE, 'COUNT(*)', ['count'], filtered=False)\n",
    "# Assign value to global.\n",
    "TOTAL_USERS = df['count'][0]\n",
    "print('Total number of participants: %d' %TOTAL_USERS)"
   ]
  },
  {
   "cell_type": "markdown",
   "metadata": {},
   "source": [
    "### 1.2 Motivation for Enrollment:"
   ]
  },
  {
   "cell_type": "code",
   "execution_count": null,
   "metadata": {},
   "outputs": [],
   "source": [
    "# Create the necessary dataframe.\n",
    "fields = ('question_reason_for_part_1, question_reason_for_part_2, '\n",
    "          'question_reason_for_part_3, question_reason_for_part_4, '\n",
    "          'question_reason_for_part_5')\n",
    "labels = ['Love for dogs', 'You help shelter animals', 'Suspicion of behavior problems',\n",
    "          'Work with animals', 'Other']\n",
    "df = createNumericDataFrame(USER_TABLE, fields, labels, filtered=False)\n",
    "    \n",
    "# Create a bar graph to illustrate breakdown of responses.\n",
    "sums = df.sum()\n",
    "sums = sums.sort_values(ascending=True)\n",
    "data = [go.Bar(y=sums.index.values,\n",
    "               x=sums.values,\n",
    "               orientation='h')]\n",
    "layout = go.Layout(title=\"Motivation for Study Enrollment\",\n",
    "                   xaxis=dict(title='number of participants'),\n",
    "                   yaxis=dict(title='',\n",
    "                              automargin=True,\n",
    "                              tickangle=30,\n",
    "                              tickprefix=' ',\n",
    "                              ticksuffix=' '),\n",
    "                   width=600,\n",
    "                   height=400)\n",
    "fig = go.Figure(data=data, layout=layout)\n",
    "py.iplot(fig)\n",
    "\n",
    "# NOTE: This does not include a count of users who did not provide a reason."
   ]
  },
  {
   "cell_type": "markdown",
   "metadata": {},
   "source": [
    "## 2 Participating Dog Demographics"
   ]
  },
  {
   "cell_type": "markdown",
   "metadata": {},
   "source": [
    "### 2.1 Number of Participating Dogs:"
   ]
  },
  {
   "cell_type": "code",
   "execution_count": null,
   "metadata": {},
   "outputs": [],
   "source": [
    "df = createNumericDataFrame(DOG_TABLE, 'COUNT(*)', ['count'], filtered=False)\n",
    "# Assign value to global.\n",
    "TOTAL_DOGS = df['count'][0]\n",
    "print('Total number of participating dogs: %d' %TOTAL_DOGS)"
   ]
  },
  {
   "cell_type": "markdown",
   "metadata": {},
   "source": [
    "### 2.2 Adjusting Sample for Bias\n",
    "\n",
    "It is in this section that we define and apply a filter to remove bias from the data set.\n",
    " \n",
    "The current bias filter focuses largely on the participants' motivation for enrollment (\"Why did you decide to participate in this survey?\", pg. 1). The answer choice \"my dog may have a behavior problem\" was included to identify participants who enrolled with motivational bias. However, participants may not have a motiivational bias towards all of their participating dogs. To account for this, the question \"do you believe \\[dog name\\] has ever had a behavior problem\" (pg. 4) was used in conjunction with the enrollment motivation to identify the dogs most likely to be influenced by the bias of the participating owner. "
   ]
  },
  {
   "cell_type": "code",
   "execution_count": null,
   "metadata": {},
   "outputs": [],
   "source": [
    "fields = 'q02_score'\n",
    "labels = ['Score']\n",
    "\n",
    "df_gross = createNumericDataFrame(DOG_TABLE, fields, labels, filtered=False)\n",
    "cnt_total_dogs_w_problems = len(df_gross[df_gross[labels[0]] != 0].index)\n",
    "\n",
    "df_adjusted = createNumericDataFrame(DOG_TABLE, fields, labels, filtered=True)\n",
    "REMAINING_DOGS = len(df_adjusted.index)\n",
    "cnt_total_dogs_w_problems_adjusted = len(df_adjusted[df_adjusted[labels[0]] != 0].index)\n",
    "\n",
    "# Display the count results.\n",
    "print('Pre-adjustment Responses (Gross):')\n",
    "print('Total number of dogs: %d' %TOTAL_DOGS)\n",
    "print('Total number of dogs with a reported behavior problem: %d' %cnt_total_dogs_w_problems)\n",
    "\n",
    "print('\\nPost-adjustment Responses (Adjusted):')\n",
    "print('Total number of dogs: %d' %REMAINING_DOGS)\n",
    "print('Total number of dogs with a reported behavior problem: %d'\n",
    "      %cnt_total_dogs_w_problems_adjusted)"
   ]
  },
  {
   "cell_type": "markdown",
   "metadata": {},
   "source": [
    "### 2.3 Prevalence of Overall Behavior Problems\n",
    "\n",
    "Prevalence is defined as the proportion of a population found to be affected by a medical condition. This section aims to calculate the aggregate prevalence of the most common behavior problems in a given canine population."
   ]
  },
  {
   "cell_type": "code",
   "execution_count": null,
   "metadata": {},
   "outputs": [],
   "source": [
    "# Calculate the gross prevalence.\n",
    "prevalence_gross = (cnt_total_dogs_w_problems / TOTAL_DOGS) * 100\n",
    "\n",
    "# Calculate the adjusted prevalence.\n",
    "prevalence_adjusted = PREVALENCE(cnt_total_dogs_w_problems_adjusted)\n",
    "\n",
    "# Calculate the difference between the gross and adjusted prevalence.\n",
    "diff_prevalence = prevalence_adjusted - prevalence_gross\n",
    "sign = '+' if diff_prevalence > 0 else ''\n",
    "\n",
    "# Display the prevalence results.\n",
    "print('Pre-adjustment prevalence: %.2f%% (%d/%d dogs)'\n",
    "      %(prevalence_gross, cnt_total_dogs_w_problems, TOTAL_DOGS))\n",
    "print('Post-adjustment prevalence: %.2f%% (%d/%d dogs)'\n",
    "      %(prevalence_adjusted, cnt_total_dogs_w_problems_adjusted, REMAINING_DOGS))\n",
    "print('Shift in prevalence as a result of adjustment: %s%.2f%%'\n",
    "      %(sign, diff_prevalence))"
   ]
  },
  {
   "cell_type": "markdown",
   "metadata": {},
   "source": [
    "### 2.2 Gender:"
   ]
  },
  {
   "cell_type": "code",
   "execution_count": null,
   "metadata": {},
   "outputs": [],
   "source": [
    "# Construct the dataframe.\n",
    "fields = 'dog_sex'\n",
    "labels = ['Gender']\n",
    "df = createStringDataFrame(DOG_TABLE, fields, labels, filtered=True)\n",
    "replacements = {'':'No response', '1':'Male', '2':'Female'}\n",
    "df = replaceFields(df, replacements)\n",
    "\n",
    "# Calculate sums and prevalences.\n",
    "calc = getValueCountAndPrevalence(df, labels[0])\n",
    "\n",
    "# Display the results as a table.\n",
    "data = [go.Table(header=dict(values=[labels[0], 'Number of Dogs', 'Prevalence (%)'],\n",
    "                             fill = dict(color='#B0C4DE'),\n",
    "                             align = ['left'] * 3),\n",
    "                 cells=dict(values=[calc.index.values, calc['sum'].values, \n",
    "                                    calc['prevalence'].values],\n",
    "                            align = ['left'] * 3,\n",
    "                            format = [None, 'd', '.2f']))]\n",
    "layout = go.Layout(title='Gender of Participating Dogs',\n",
    "                   width=700,\n",
    "                   height=200,\n",
    "                   margin=go.Margin(l=50, r=50, b=50, t=50, pad=4))\n",
    "fig = dict(data=data, layout=layout)\n",
    "py.iplot(fig)"
   ]
  },
  {
   "cell_type": "markdown",
   "metadata": {},
   "source": [
    "### 2.3 Neutered Status:"
   ]
  },
  {
   "cell_type": "code",
   "execution_count": null,
   "metadata": {},
   "outputs": [],
   "source": [
    "# Construct the dataframe.\n",
    "fields = 'dog_spayed'\n",
    "labels = ['Neutered']\n",
    "df = createStringDataFrame(DOG_TABLE, fields, labels, filtered=True)\n",
    "replacements = {'':'No response', '0':'No', '1':'Yes', '2':\"I don't know\"}\n",
    "df = replaceFields(df, replacements)\n",
    "\n",
    "# Calculate sums and prevalences.\n",
    "calc = getValueCountAndPrevalence(df, labels[0])\n",
    "\n",
    "data = [go.Table(header=dict(values=[labels[0], 'Number of Dogs', 'Prevalence (%)'],\n",
    "                             fill = dict(color='#B0C4DE'),\n",
    "                             align = ['left'] * 3),\n",
    "                 cells=dict(values=[calc.index.values, calc['sum'].values, \n",
    "                                    calc['prevalence'].values],\n",
    "                            align = ['left'] * 3,\n",
    "                            format = [None, 'd', '.2f']))]\n",
    "layout = go.Layout(title='Neutered Status of Participating Dogs',\n",
    "                   width=500,\n",
    "                   height=225,\n",
    "                   margin=go.Margin(l=50, r=50, b=50, t=50, pad=4))\n",
    "fig = dict(data=data, layout=layout)\n",
    "py.iplot(fig)"
   ]
  },
  {
   "cell_type": "markdown",
   "metadata": {},
   "source": [
    "### 2.4 Breakdown of Participating Purebred Breeds:"
   ]
  },
  {
   "cell_type": "code",
   "execution_count": null,
   "metadata": {
    "scrolled": false
   },
   "outputs": [],
   "source": [
    "# Create the necessary dataframe.\n",
    "fields = 'purebred_breed'\n",
    "labels = ['Breed']\n",
    "df = createStringDataFrame(DOG_TABLE, fields, labels, filtered=False)\n",
    "\n",
    "df = df.replace('', np.nan, regex=True)\n",
    "df = df.replace('118', 'Labrador retriever', regex=True)\n",
    "df = df.replace('92', 'German shepherd', regex=True)\n",
    "df = df.replace('97', 'Golden retriever', regex=True)\n",
    "df = df.replace('151', 'Poodle', regex=True)\n",
    "df = df.replace('43', 'Border collie', regex=True)\n",
    "df = df.replace('71', 'Cocker spaniel', regex=True)\n",
    "df = df.replace('16', 'Australian shepherd', regex=True)\n",
    "df = df.replace('75', 'Dachshund', regex=True)\n",
    "df = df.replace('64', 'Chihuahua', regex=True)\n",
    "df = df.replace('170', 'Shetland sheepdog', regex=True)\n",
    "\n",
    "# Calculate sums and prevalences.\n",
    "calc = getValueCountAndPrevalence(df, labels[0])\n",
    "calc = calc[:10]\n",
    "\n",
    "data = [go.Table(columnwidth = [100, 100, 100],\n",
    "                 header=dict(values=[labels[0], 'Number of Dogs', 'Prevalence (%)'],\n",
    "                             fill = dict(color='#B0C4DE'),\n",
    "                             align = ['left'] * 3),\n",
    "                 cells=dict(values=[calc.index.values, calc['sum'].values, \n",
    "                                    calc['prevalence'].values],\n",
    "\n",
    "                            align = ['left'] * 3,\n",
    "                            format = [None, 'd', '.2f']))]\n",
    "layout = go.Layout(title='Top 10 Participating Breeds',\n",
    "                   width=700,\n",
    "                   height=350,\n",
    "                   margin=go.Margin(l=50, r=50, b=50, t=50, pad=4))\n",
    "fig = dict(data=data, layout=layout)\n",
    "py.iplot(fig)"
   ]
  },
  {
   "cell_type": "markdown",
   "metadata": {},
   "source": [
    "## 4 Prevalence of Individual Behavior Problems\n",
    "\n",
    "This section aims to calculate the prevalence for each behavior problem included in the study. The adjusted dataset is utilized to eliminate potential bias."
   ]
  },
  {
   "cell_type": "code",
   "execution_count": null,
   "metadata": {},
   "outputs": [],
   "source": [
    "# Create the necessary dataframe.\n",
    "fields = []\n",
    "labels = []\n",
    "for counter, category in enumerate(CATEGORY, 1):\n",
    "    if counter > 10:\n",
    "        counter += 1;\n",
    "    fields.append('q02_main_{}'.format(counter))\n",
    "    labels.append(category)\n",
    "fields = ', '.join(fields)\n",
    "df = createNumericDataFrame(DOG_TABLE, fields, labels, filtered=True)\n",
    "\n",
    "# Get individual behavior problem counts and display as a table.\n",
    "sums = df.sum()\n",
    "sums = sums.sort_values(ascending=False)\n",
    "\n",
    "# Calculate the prevalence of each behavior problem.\n",
    "total_dogs = len(df.index)\n",
    "prevalences = sums.apply(PREVALENCE)\n",
    "\n",
    "# Get individual behavior problem counts and display as a table.\n",
    "data = [go.Table(header=dict(values=['Behavior Problem', 'Number of Dogs', 'Prevalence (%)'],\n",
    "                             fill = dict(color='#B0C4DE'),\n",
    "                             align = ['left'] * 3),\n",
    "                 cells=dict(values=[sums.index.values, sums.values, prevalences.values],\n",
    "                            align = ['left'] * 3,\n",
    "                            format = [None, 'd', '.2f']))]\n",
    "layout = go.Layout(title='Prevalence of Individual Behavior Problems',\n",
    "                   width=700,\n",
    "                   height=375,\n",
    "                   margin=go.Margin(l=50, r=50, b=50, t=50, pad=4))\n",
    "fig = dict(data=data, layout=layout)\n",
    "py.iplot(fig)"
   ]
  },
  {
   "cell_type": "code",
   "execution_count": null,
   "metadata": {},
   "outputs": [],
   "source": [
    "prevalences = prevalences.sort_values(ascending=True)\n",
    "data = [go.Bar(x=prevalences.values,\n",
    "               y=prevalences.index.values,\n",
    "               orientation='h')]\n",
    "layout = go.Layout(title='Prevalence of Individual Behavior Problems',\n",
    "                   xaxis=dict(title='prevalence (%)'),\n",
    "                   yaxis=dict(title='', automargin=True, tickangle=30, tickprefix=' ',\n",
    "                              ticksuffix=' '),\n",
    "                   width=700,\n",
    "                   height=500)\n",
    "fig = dict(data=data, layout=layout)\n",
    "py.iplot(fig)"
   ]
  },
  {
   "cell_type": "markdown",
   "metadata": {},
   "source": [
    "## 5 Behavior Problem Compositions"
   ]
  },
  {
   "cell_type": "markdown",
   "metadata": {},
   "source": [
    "### 5.1 Aggression:"
   ]
  },
  {
   "cell_type": "code",
   "execution_count": null,
   "metadata": {},
   "outputs": [],
   "source": [
    "# Create the necessary dataframe.\n",
    "fields = ', '.join(FR.fields[CATEGORY[0]])\n",
    "labels = list(FR.labels[CATEGORY[0]].values())\n",
    "df = createNumericDataFrame(DOG_TABLE, fields, labels, filtered=True)\n",
    "\n",
    "# Get individual behavior problem counts and display as a table.\n",
    "sums = df.sum()\n",
    "sums = sums.sort_values(ascending=False)\n",
    "\n",
    "# Calculate the prevalence of each behavior problem.\n",
    "prevalences = sums.apply(PREVALENCE)\n",
    "\n",
    "# Get individual behavior problem counts and display as a table.\n",
    "data = [go.Table(columnwidth = [200, 100, 100],\n",
    "                 header=dict(values=[CATEGORY[0], 'Number of Dogs', 'Prevalence (%)'],\n",
    "                             fill = dict(color='#B0C4DE'),\n",
    "                             align = ['left'] * 3),\n",
    "                 cells=dict(values=[sums.index.values, sums.values, prevalences.values],\n",
    "                            align = ['left'] * 3,\n",
    "                            format = [None, 'd', '.2f']))]\n",
    "layout = go.Layout(title='Prevalence of {}'.format(CATEGORY[0]),\n",
    "                   width=700,\n",
    "                   height=350,\n",
    "                   margin=go.Margin(l=50, r=50, b=50, t=50, pad=4))\n",
    "fig = dict(data=data, layout=layout)\n",
    "py.iplot(fig)"
   ]
  },
  {
   "cell_type": "code",
   "execution_count": null,
   "metadata": {},
   "outputs": [],
   "source": [
    "# Generate a bar graph.\n",
    "prevalences = prevalences.sort_values(ascending=True)\n",
    "data = [go.Bar(x=prevalences.values,\n",
    "               y=prevalences.index.values,\n",
    "               orientation='h')]\n",
    "layout = go.Layout(title='Prevalence of {}'.format(CATEGORY[0]),\n",
    "                   xaxis=dict(title='prevalence (%)'),\n",
    "                   yaxis=dict(title='', automargin=True, tickangle=30, tickprefix=' ',\n",
    "                              ticksuffix=' '),\n",
    "                   width=700,\n",
    "                   height=500\n",
    "                  )\n",
    "fig = dict(data=data, layout=layout)\n",
    "py.iplot(fig)"
   ]
  },
  {
   "cell_type": "markdown",
   "metadata": {},
   "source": [
    "### 5.2 Fear/Anxiety:"
   ]
  },
  {
   "cell_type": "code",
   "execution_count": null,
   "metadata": {},
   "outputs": [],
   "source": [
    "# Create the necessary dataframe.\n",
    "fields = ', '.join(FR.fields[CATEGORY[1]])\n",
    "labels = list(FR.labels[CATEGORY[1]].values())\n",
    "df = createNumericDataFrame(DOG_TABLE, fields, labels, filtered=True)\n",
    "\n",
    "# Get individual behavior problem counts and display as a table.\n",
    "sums = df.sum()\n",
    "sums = sums.sort_values(ascending=False)\n",
    "\n",
    "# Calculate the prevalence of each behavior problem.\n",
    "prevalences = sums.apply(PREVALENCE)\n",
    "\n",
    "# Get individual behavior problem counts and display as a table.\n",
    "data = [go.Table(columnwidth = [200, 100, 100],\n",
    "                 header=dict(values=[CATEGORY[1], 'Number of Dogs', 'Prevalence (%)'],\n",
    "                             fill = dict(color='#B0C4DE'),\n",
    "                             align = ['left'] * 3),\n",
    "                 cells=dict(values=[sums.index.values, sums.values, prevalences.values],\n",
    "                            align = ['left'] * 3,\n",
    "                            format = [None, 'd', '.2f']))]\n",
    "layout = go.Layout(title='Prevalence of {}'.format(CATEGORY[1]),\n",
    "                   width=700,\n",
    "                   height=350,\n",
    "                   margin=go.Margin(l=50, r=50, b=50, t=50, pad=4))\n",
    "fig = dict(data=data, layout=layout)\n",
    "py.iplot(fig)"
   ]
  },
  {
   "cell_type": "code",
   "execution_count": null,
   "metadata": {},
   "outputs": [],
   "source": [
    "# Generate a bar graph.\n",
    "prevalences = prevalences.sort_values(ascending=True)\n",
    "data = [go.Bar(x=prevalences.values,\n",
    "               y=prevalences.index.values,\n",
    "               orientation='h')]\n",
    "layout = go.Layout(title='Prevalence of {}'.format(CATEGORY[1]),\n",
    "                   xaxis=dict(title='prevalence (%)'),\n",
    "                   yaxis=dict(title='', automargin=True, tickangle=30, tickprefix=' ',\n",
    "                              ticksuffix=' '),\n",
    "                   width=700,\n",
    "                   height=500)\n",
    "fig = dict(data=data, layout=layout)\n",
    "py.iplot(fig)"
   ]
  },
  {
   "cell_type": "markdown",
   "metadata": {},
   "source": [
    "### 5.3 Compulsion:"
   ]
  },
  {
   "cell_type": "code",
   "execution_count": null,
   "metadata": {},
   "outputs": [],
   "source": [
    "# Create the necessary dataframe.\n",
    "fields = ', '.join(FR.fields[CATEGORY[2]])\n",
    "labels = list(FR.labels[CATEGORY[2]].values())\n",
    "df = createNumericDataFrame(DOG_TABLE, fields, labels, filtered=True)\n",
    "\n",
    "# Get individual behavior problem counts and display as a table.\n",
    "sums = df.sum()\n",
    "sums = sums.sort_values(ascending=False)\n",
    "\n",
    "# Calculate the prevalence of each behavior problem.\n",
    "prevalences = sums.apply(PREVALENCE)\n",
    "\n",
    "# Get individual behavior problem counts and display as a table.\n",
    "data = [go.Table(columnwidth = [200, 100, 100],\n",
    "                 header=dict(values=[CATEGORY[2], 'Number of Dogs', 'Prevalence (%)'],\n",
    "                             fill = dict(color='#B0C4DE'),\n",
    "                             align = ['left'] * 3),\n",
    "                 cells=dict(values=[sums.index.values, sums.values, prevalences.values],\n",
    "                            align = ['left'] * 3,\n",
    "                            format = [None, 'd', '.2f']))]\n",
    "layout = go.Layout(title='Prevalence of {}'.format(CATEGORY[2]),\n",
    "                   width=700,\n",
    "                   height=400,\n",
    "                   margin=go.Margin(l=50, r=50, b=50, t=50, pad=4))\n",
    "fig = dict(data=data, layout=layout)\n",
    "py.iplot(fig)"
   ]
  },
  {
   "cell_type": "code",
   "execution_count": null,
   "metadata": {},
   "outputs": [],
   "source": [
    "# Generate a bar graph.\n",
    "prevalences = prevalences.sort_values(ascending=True)\n",
    "data = [go.Bar(x=prevalences.values,\n",
    "               y=prevalences.index.values,\n",
    "               orientation='h')]\n",
    "layout = go.Layout(title='Prevalence of {}'.format(CATEGORY[2]),\n",
    "                   xaxis=dict(title='prevalence (%)'),\n",
    "                   yaxis=dict(title='', automargin=True, tickangle=30, tickprefix=' ',\n",
    "                              ticksuffix=' '),\n",
    "                   width=700,\n",
    "                   height=500)\n",
    "fig = dict(data=data, layout=layout)\n",
    "py.iplot(fig)"
   ]
  },
  {
   "cell_type": "markdown",
   "metadata": {},
   "source": [
    "### 5.4 House Soiling:"
   ]
  },
  {
   "cell_type": "code",
   "execution_count": null,
   "metadata": {},
   "outputs": [],
   "source": [
    "# Create the necessary dataframe.\n",
    "fields = ', '.join(FR.fields[CATEGORY[3]])\n",
    "labels = list(FR.labels[CATEGORY[3]].values())\n",
    "df = createNumericDataFrame(DOG_TABLE, fields, labels, filtered=True)\n",
    "\n",
    "# Get individual behavior problem counts and display as a table.\n",
    "sums = df.sum()\n",
    "sums = sums.sort_values(ascending=False)\n",
    "\n",
    "# Calculate the prevalence of each behavior problem.\n",
    "prevalences = sums.apply(PREVALENCE)\n",
    "\n",
    "# Get individual behavior problem counts and display as a table.\n",
    "data = [go.Table(columnwidth = [200, 100, 100],\n",
    "                 header=dict(values=[CATEGORY[3], 'Number of Dogs', 'Prevalence (%)'],\n",
    "                             fill = dict(color='#B0C4DE'),\n",
    "                             align = ['left'] * 3),\n",
    "                 cells=dict(values=[sums.index.values, sums.values, prevalences.values],\n",
    "                            align = ['left'] * 3,\n",
    "                            format = [None, 'd', '.2f']))]\n",
    "layout = go.Layout(title='Prevalence of {}'.format(CATEGORY[3]),\n",
    "                   width=700,\n",
    "                   height=300,\n",
    "                   margin=go.Margin(l=50, r=50, b=50, t=50, pad=4))\n",
    "fig = dict(data=data, layout=layout)\n",
    "py.iplot(fig)"
   ]
  },
  {
   "cell_type": "markdown",
   "metadata": {},
   "source": [
    "### 5.5 Excessive Barking:"
   ]
  },
  {
   "cell_type": "code",
   "execution_count": null,
   "metadata": {},
   "outputs": [],
   "source": [
    "# Create the necessary dataframe.\n",
    "fields = ', '.join(FR.fields[CATEGORY[4]])\n",
    "labels = list(FR.labels[CATEGORY[4]].values())\n",
    "df = createNumericDataFrame(DOG_TABLE, fields, labels, filtered=True)\n",
    "\n",
    "# Get individual behavior problem counts and display as a table.\n",
    "sums = df.sum()\n",
    "sums = sums.sort_values(ascending=False)\n",
    "\n",
    "# Calculate the prevalence of each behavior problem.\n",
    "prevalences = sums.apply(PREVALENCE)\n",
    "\n",
    "# Get individual behavior problem counts and display as a table.\n",
    "data = [go.Table(columnwidth = [200, 100, 100],\n",
    "                 header=dict(values=[CATEGORY[4], 'Number of Dogs', 'Prevalence (%)'],\n",
    "                             fill = dict(color='#B0C4DE'),\n",
    "                             align = ['left'] * 3),\n",
    "                 cells=dict(values=[sums.index.values, sums.values, prevalences.values],\n",
    "                            align = ['left'] * 3,\n",
    "                            format = [None, 'd', '.2f']))]\n",
    "layout = go.Layout(title='Prevalence of {}'.format(CATEGORY[4]),\n",
    "                   width=700,\n",
    "                   height=250,\n",
    "                   margin=go.Margin(l=50, r=50, b=50, t=50, pad=4))\n",
    "fig = dict(data=data, layout=layout)\n",
    "py.iplot(fig)"
   ]
  },
  {
   "cell_type": "markdown",
   "metadata": {},
   "source": [
    "### 5.6 Jumping:"
   ]
  },
  {
   "cell_type": "code",
   "execution_count": null,
   "metadata": {},
   "outputs": [],
   "source": [
    "# Create the necessary dataframe.\n",
    "fields = ', '.join(FR.fields[CATEGORY[5]])\n",
    "labels = list(FR.labels[CATEGORY[5]].values())\n",
    "df = createNumericDataFrame(DOG_TABLE, fields, labels, filtered=True)\n",
    "\n",
    "# Get individual behavior problem counts and display as a table.\n",
    "sums = df.sum()\n",
    "sums = sums.sort_values(ascending=False)\n",
    "\n",
    "# Calculate the prevalence of each behavior problem.\n",
    "prevalences = sums.apply(PREVALENCE)\n",
    "\n",
    "# Get individual behavior problem counts and display as a table.\n",
    "data = [go.Table(columnwidth = [200, 100, 100],\n",
    "                 header=dict(values=[CATEGORY[5], 'Number of Dogs', 'Prevalence (%)'],\n",
    "                             fill = dict(color='#B0C4DE'),\n",
    "                             align = ['left'] * 3),\n",
    "                 cells=dict(values=[sums.index.values, sums.values, prevalences.values],\n",
    "                            align = ['left'] * 3,\n",
    "                            format = [None, 'd', '.2f']))]\n",
    "layout = go.Layout(title='Prevalence of {}'.format(CATEGORY[5]),\n",
    "                   width=700,\n",
    "                   height=200,\n",
    "                   margin=go.Margin(l=50, r=50, b=50, t=50, pad=4))\n",
    "fig = dict(data=data, layout=layout)\n",
    "py.iplot(fig)"
   ]
  },
  {
   "cell_type": "markdown",
   "metadata": {},
   "source": [
    "### 5.7 Mounting/Humping:"
   ]
  },
  {
   "cell_type": "code",
   "execution_count": null,
   "metadata": {},
   "outputs": [],
   "source": [
    "# Create the necessary dataframe.\n",
    "fields = ', '.join(FR.fields[CATEGORY[6]])\n",
    "labels = list(FR.labels[CATEGORY[6]].values())\n",
    "df = createNumericDataFrame(DOG_TABLE, fields, labels, filtered=True)\n",
    "\n",
    "# Get individual behavior problem counts and display as a table.\n",
    "sums = df.sum()\n",
    "sums = sums.sort_values(ascending=False)\n",
    "\n",
    "# Calculate the prevalence of each behavior problem.\n",
    "prevalences = sums.apply(PREVALENCE)\n",
    "\n",
    "# Get individual behavior problem counts and display as a table.\n",
    "data = [go.Table(columnwidth = [200, 100, 100],\n",
    "                 header=dict(values=[CATEGORY[6], 'Number of Dogs', 'Prevalence (%)'],\n",
    "                             fill = dict(color='#B0C4DE'),\n",
    "                             align = ['left'] * 3),\n",
    "                 cells=dict(values=[sums.index.values, sums.values, prevalences.values],\n",
    "                            align = ['left'] * 3,\n",
    "                            format = [None, 'd', '.2f']))]\n",
    "layout = go.Layout(title='Prevalence of {}'.format(CATEGORY[6]),\n",
    "                   width=700,\n",
    "                   height=225,\n",
    "                   margin=go.Margin(l=50, r=50, b=50, t=50, pad=4))\n",
    "fig = dict(data=data, layout=layout)\n",
    "py.iplot(fig)"
   ]
  },
  {
   "cell_type": "markdown",
   "metadata": {},
   "source": [
    "### 5.8 Consumption of Feces:"
   ]
  },
  {
   "cell_type": "code",
   "execution_count": null,
   "metadata": {},
   "outputs": [],
   "source": [
    "# Create the necessary dataframe.\n",
    "fields = ', '.join(FR.fields[CATEGORY[7]])\n",
    "labels = list(FR.labels[CATEGORY[7]].values())\n",
    "df = createNumericDataFrame(DOG_TABLE, fields, labels, filtered=True)\n",
    "\n",
    "# Get individual behavior problem counts and display as a table.\n",
    "sums = df.sum()\n",
    "sums = sums.sort_values(ascending=False)\n",
    "\n",
    "# Calculate the prevalence of each behavior problem.\n",
    "prevalences = sums.apply(PREVALENCE)\n",
    "\n",
    "# Get individual behavior problem counts and display as a table.\n",
    "data = [go.Table(columnwidth = [200, 100, 100],\n",
    "                 header=dict(values=[CATEGORY[7], 'Number of Dogs', 'Prevalence (%)'],\n",
    "                             fill = dict(color='#B0C4DE'),\n",
    "                             align = ['left'] * 3),\n",
    "                 cells=dict(values=[sums.index.values, sums.values, prevalences.values],\n",
    "                            align = ['left'] * 3,\n",
    "                            format = [None, 'd', '.2f']))]\n",
    "layout = go.Layout(title='Prevalence of {}'.format(CATEGORY[7]),\n",
    "                   width=700,\n",
    "                   height=200,\n",
    "                   margin=go.Margin(l=50, r=50, b=50, t=50, pad=4))\n",
    "fig = dict(data=data, layout=layout)\n",
    "py.iplot(fig)"
   ]
  },
  {
   "cell_type": "markdown",
   "metadata": {},
   "source": [
    "### 5.9 Destructive Behavior:"
   ]
  },
  {
   "cell_type": "code",
   "execution_count": null,
   "metadata": {},
   "outputs": [],
   "source": [
    "# Create the necessary dataframe.\n",
    "fields = ', '.join(FR.fields[CATEGORY[8]])\n",
    "labels = list(FR.labels[CATEGORY[8]].values())\n",
    "df = createNumericDataFrame(DOG_TABLE, fields, labels, filtered=True)\n",
    "\n",
    "# Get individual behavior problem counts and display as a table.\n",
    "sums = df.sum()\n",
    "sums = sums.sort_values(ascending=False)\n",
    "\n",
    "# Calculate the prevalence of each behavior problem.\n",
    "prevalences = sums.apply(PREVALENCE)\n",
    "\n",
    "# Get individual behavior problem counts and display as a table.\n",
    "data = [go.Table(columnwidth = [200, 100, 100],\n",
    "                 header=dict(values=[CATEGORY[8], 'Number of Dogs', 'Prevalence (%)'],\n",
    "                             fill = dict(color='#B0C4DE'),\n",
    "                             align = ['left'] * 3),\n",
    "                 cells=dict(values=[sums.index.values, sums.values, prevalences.values],\n",
    "                            align = ['left'] * 3,\n",
    "                            format = [None, 'd', '.2f']))]\n",
    "layout = go.Layout(title='Prevalence of {}'.format(CATEGORY[8]),\n",
    "                   width=700,\n",
    "                   height=175,\n",
    "                   margin=go.Margin(l=50, r=50, b=50, t=50, pad=4))\n",
    "fig = dict(data=data, layout=layout)\n",
    "py.iplot(fig)"
   ]
  },
  {
   "cell_type": "markdown",
   "metadata": {},
   "source": [
    "### 5.10 Rolling in Repulsive Materials:"
   ]
  },
  {
   "cell_type": "code",
   "execution_count": null,
   "metadata": {},
   "outputs": [],
   "source": [
    "# Create the necessary dataframe.\n",
    "fields = ', '.join(FR.fields[CATEGORY[9]])\n",
    "labels = list(FR.labels[CATEGORY[9]].values())\n",
    "df = createNumericDataFrame(DOG_TABLE, fields, labels, filtered=True)\n",
    "\n",
    "# Get individual behavior problem counts and display as a table.\n",
    "sums = df.sum()\n",
    "sums = sums.sort_values(ascending=False)\n",
    "\n",
    "# Calculate the prevalence of each behavior problem.\n",
    "prevalences = sums.apply(PREVALENCE)\n",
    "\n",
    "# Get individual behavior problem counts and display as a table.\n",
    "data = [go.Table(columnwidth = [200, 100, 100],\n",
    "                 header=dict(values=[CATEGORY[9], 'Number of Dogs', 'Prevalence (%)'],\n",
    "                             fill = dict(color='#B0C4DE'),\n",
    "                             align = ['left'] * 3),\n",
    "                 cells=dict(values=[sums.index.values, sums.values, prevalences.values],\n",
    "                            align = ['left'] * 3,\n",
    "                            format = [None, 'd', '.2f']))]\n",
    "layout = go.Layout(title='Prevalence of {}'.format(CATEGORY[9]),\n",
    "                   width=700,\n",
    "                   height=225,\n",
    "                   margin=go.Margin(l=50, r=50, b=50, t=50, pad=4))\n",
    "fig = dict(data=data, layout=layout)\n",
    "py.iplot(fig)"
   ]
  },
  {
   "cell_type": "markdown",
   "metadata": {},
   "source": [
    "### 5.11 Running Away/Escaping:"
   ]
  },
  {
   "cell_type": "code",
   "execution_count": null,
   "metadata": {},
   "outputs": [],
   "source": [
    "# Create the necessary dataframe.\n",
    "fields = ', '.join(FR.fields[CATEGORY[10]])\n",
    "labels = list(FR.labels[CATEGORY[10]].values())\n",
    "df = createNumericDataFrame(DOG_TABLE, fields, labels, filtered=True)\n",
    "\n",
    "# Get individual behavior problem counts and display as a table.\n",
    "sums = df.sum()\n",
    "sums = sums.sort_values(ascending=False)\n",
    "\n",
    "# Calculate the prevalence of each behavior problem.\n",
    "prevalences = sums.apply(PREVALENCE)\n",
    "\n",
    "# Get individual behavior problem counts and display as a table.\n",
    "data = [go.Table(columnwidth = [200, 100, 100],\n",
    "                 header=dict(values=[CATEGORY[10], 'Number of Dogs', 'Prevalence (%)'],\n",
    "                             fill = dict(color='#B0C4DE'),\n",
    "                             align = ['left'] * 3),\n",
    "                 cells=dict(values=[sums.index.values, sums.values, prevalences.values],\n",
    "                            align = ['left'] * 3,\n",
    "                            format = [None, 'd', '.2f']))]\n",
    "layout = go.Layout(title='Prevalence of {}'.format(CATEGORY[10]),\n",
    "                   width=700,\n",
    "                   height=225,\n",
    "                   margin=go.Margin(l=50, r=50, b=50, t=50, pad=4))\n",
    "fig = dict(data=data, layout=layout)\n",
    "py.iplot(fig)"
   ]
  },
  {
   "cell_type": "markdown",
   "metadata": {},
   "source": [
    "### 5.12 Overactivity/Hyperactivity:"
   ]
  },
  {
   "cell_type": "code",
   "execution_count": null,
   "metadata": {},
   "outputs": [],
   "source": [
    "# Create the necessary dataframe.\n",
    "fields = ', '.join(FR.fields[CATEGORY[11]])\n",
    "labels = list(FR.labels[CATEGORY[11]].values())\n",
    "df = createNumericDataFrame(DOG_TABLE, fields, labels, filtered=True)\n",
    "\n",
    "# Get individual behavior problem counts and display as a table.\n",
    "sums = df.sum()\n",
    "sums = sums.sort_values(ascending=False)\n",
    "\n",
    "# Calculate the prevalence of each behavior problem.\n",
    "prevalences = sums.apply(PREVALENCE)\n",
    "\n",
    "# Get individual behavior problem counts and display as a table.\n",
    "data = [go.Table(columnwidth = [200, 100, 100],\n",
    "                 header=dict(values=[CATEGORY[11], 'Number of Dogs', 'Prevalence (%)'],\n",
    "                             fill = dict(color='#B0C4DE'),\n",
    "                             align = ['left'] * 3),\n",
    "                 cells=dict(values=[sums.index.values, sums.values, prevalences.values],\n",
    "                            align = ['left'] * 3,\n",
    "                            format = [None, 'd', '.2f']))]\n",
    "layout = go.Layout(title='Prevalence of {}'.format(CATEGORY[11]),\n",
    "                   width=700,\n",
    "                   height=225,\n",
    "                   margin=go.Margin(l=50, r=50, b=50, t=50, pad=4))\n",
    "fig = dict(data=data, layout=layout)\n",
    "py.iplot(fig)"
   ]
  },
  {
   "cell_type": "markdown",
   "metadata": {},
   "source": [
    "## 6 Separation Anxiety, Noise Phobia, and Thunderstorm Phobia"
   ]
  },
  {
   "cell_type": "markdown",
   "metadata": {},
   "source": [
    "### 6.1 Individual Independence:"
   ]
  },
  {
   "cell_type": "code",
   "execution_count": null,
   "metadata": {},
   "outputs": [],
   "source": [
    "# Create the necessary dataframe.\n",
    "fields = 'q04_1, q04_2, q04_9'\n",
    "labels = ['thunderstorm phobia', 'noise phobia', 'separation anxiety']\n",
    "df = createNumericDataFrame(DOG_TABLE, fields, labels, filtered=True)\n",
    "\n",
    "pairs = [['thunderstorm phobia', 'noise phobia'],\n",
    "         ['thunderstorm phobia', 'separation anxiety'],\n",
    "         ['noise phobia', 'separation anxiety']]\n",
    "\n",
    "titles = ['Thunderstorm Phobia and Noise Phobia',\n",
    "          'Thunderstorm Phobia and Separation Anxiety',\n",
    "          'Noise Phobia and Separation Anxiety']\n",
    "\n",
    "counter = 0\n",
    "for pair in pairs:\n",
    "    # Create a contingency table.\n",
    "    contingency = pd.crosstab(df[pair[0]], df[pair[1]])\n",
    "    # Convert the cross tabulated dataframe to a series of sums.\n",
    "    d = {pair[0]: contingency[0][1],\n",
    "         pair[1]: contingency[1][0],\n",
    "         'both': contingency[1][1]}   \n",
    "    cross_sums = pd.Series(d)\n",
    "    # Display the cross tabulated data as a venn diagram.\n",
    "    labels = cross_sums.index.values\n",
    "    venn2(cross_sums, set_labels=labels[0:2])\n",
    "    plt.title(titles[counter])\n",
    "    plt.show()\n",
    "    # Execute a chi-squared test of independence.\n",
    "    print('Chi-squared Test of Independence for %s and %s:' %(pair[0], pair[1]))\n",
    "    c, p, dof, expected = scs.chi2_contingency(contingency, correction=False)\n",
    "    print('chi2 = %f, p = %.2E, dof = %d' %(c, p, dof))\n",
    "    checkSignificance(p)\n",
    "    counter += 1"
   ]
  },
  {
   "cell_type": "markdown",
   "metadata": {},
   "source": [
    "### 6.2 Grouped Independence:"
   ]
  },
  {
   "cell_type": "code",
   "execution_count": null,
   "metadata": {},
   "outputs": [],
   "source": [
    "# Create a contingency table.\n",
    "contingency = pd.crosstab(df['separation anxiety'], [df['noise phobia'],\n",
    "                                                     df['thunderstorm phobia']])\n",
    "\n",
    "# Convert the cross tabulated dataframe to a series of sums.\n",
    "d = {'separation anxiety': contingency[0][0][1],\n",
    "     'noise phobia': contingency[1][0][0],\n",
    "     'separation-noise': contingency[1][0][1],\n",
    "     'thunderstorm phobia': contingency[0][1][0],\n",
    "     'separation-thunderstorm': contingency[0][1][1],\n",
    "     'noise-thunderstorm': contingency[1][1][0],     \n",
    "     'all': contingency[1][1][1]}   \n",
    "cross_sums = pd.Series(d)\n",
    "\n",
    "# Display the cross tabulated data as a venn diagram.\n",
    "labels = [cross_sums.index.values[i] for i in [0, 1, 3]]\n",
    "venn3(cross_sums, set_labels=labels)\n",
    "plt.title('Separation Anxiety, Noise Phobia, and Thunderstorm Phobia')\n",
    "plt.show()\n",
    "\n",
    "# Execute a chi-squared test of independence.\n",
    "title = ('Chi-squared Test of Independence for separation anxiety and the combination of '\n",
    "         'noise and thunderstorm phobia:')\n",
    "print(textwrap.fill(title, width=90))\n",
    "c, p, dof, expected = scs.chi2_contingency(contingency, correction=False)\n",
    "print('chi2 = %f, p = %.2E, dof = %d' %(c, p, dof))\n",
    "checkSignificance(p)"
   ]
  },
  {
   "cell_type": "markdown",
   "metadata": {},
   "source": [
    "## 7 Compulsion and Fearful/Anxious Behaviors"
   ]
  },
  {
   "cell_type": "code",
   "execution_count": null,
   "metadata": {},
   "outputs": [],
   "source": [
    "# Create the necessary hdataframe.\n",
    "fields = 'q02_main_2, q02_main_3'\n",
    "labels = ['fear/anxiety', 'compulsion']\n",
    "df = createNumericDataFrame(DOG_TABLE, fields, labels, filtered=True)\n",
    "\n",
    "# Cross tabulate the relevant columns.\n",
    "contingency = pd.crosstab(df['fear/anxiety'], df['compulsion'])\n",
    "\n",
    "# Convert the cross tabulated dataframe to a series of sums.\n",
    "d = {'fear/anxiety': contingency[0][1],\n",
    "     'compulsion': contingency[1][0],\n",
    "     'both': contingency[1][1]}   \n",
    "cross_sums = pd.Series(d)\n",
    "\n",
    "# Display the cross tabulated data as a venn diagram.\n",
    "labels = cross_sums.index.values\n",
    "venn2(cross_sums, set_labels=labels[0:2])\n",
    "plt.title('Fear/Anxiety and Compulsion')\n",
    "plt.show()"
   ]
  },
  {
   "cell_type": "code",
   "execution_count": null,
   "metadata": {},
   "outputs": [],
   "source": [
    "# Execute a chi-squared test of independence.\n",
    "c, p, dof, expected = scs.chi2_contingency(contingency, correction=False)\n",
    "print('Chi-square Test of Independence:')\n",
    "print('chi2 = %f, p = %.2E, dof = %d' %(c, p, dof))\n",
    "checkSignificance(p)"
   ]
  },
  {
   "cell_type": "markdown",
   "metadata": {},
   "source": [
    "## 8 Aggression and Fearful/Anxious Behavior"
   ]
  },
  {
   "cell_type": "markdown",
   "metadata": {},
   "source": [
    "### 8.1 Overall Aggression and Fearful/Anxious Behavior:"
   ]
  },
  {
   "cell_type": "code",
   "execution_count": null,
   "metadata": {},
   "outputs": [],
   "source": [
    "# Create the necessary dataframe.\n",
    "fields = 'q02_main_1, q02_main_2'\n",
    "labels = ['aggression', 'fear/anxiety']\n",
    "df = createNumericDataFrame(DOG_TABLE, fields, labels, filtered=True)\n",
    "    \n",
    "# Create a contingency table.\n",
    "contingency = pd.crosstab(df['aggression'], df['fear/anxiety'])\n",
    "\n",
    "# Convert the cross tabulated dataframe to a series of sums.\n",
    "d = {'aggression': contingency[0][1],\n",
    "     'fear/anxiety': contingency[1][0],\n",
    "     'both': contingency[1][1]}   \n",
    "cross_sums = pd.Series(d)\n",
    "\n",
    "# Display the cross tabulated data as a venn diagram.\n",
    "labels = cross_sums.index.values\n",
    "venn2(cross_sums, set_labels=labels[0:2])\n",
    "plt.title('Aggression and Fear/Anxiety')\n",
    "plt.show()\n",
    "\n",
    "# Execute a chi-squared test of independence.\n",
    "c, p, dof, expected = scs.chi2_contingency(contingency, correction=False)\n",
    "print('Chi-square Test of Independence:')\n",
    "print('chi2 = %f, p = %.2E, dof = %d' %(c, p, dof))\n",
    "checkSignificance(p)"
   ]
  },
  {
   "cell_type": "markdown",
   "metadata": {},
   "source": [
    "### 8.2 Owner Directed Aggression and Fearful/Anxious Behavior:"
   ]
  },
  {
   "cell_type": "code",
   "execution_count": null,
   "metadata": {},
   "outputs": [],
   "source": [
    "# Create the necessary dataframe.\n",
    "fields = 'q03_main_1, q02_main_2'\n",
    "labels = ['aggression', 'fear/anxiety']\n",
    "df = createNumericDataFrame(DOG_TABLE, fields, labels, filtered=True)\n",
    "    \n",
    "# Create a contingency table.\n",
    "contingency = pd.crosstab(df['aggression'], df['fear/anxiety'])\n",
    "\n",
    "# Convert the cross tabulated dataframe to a series of sums.\n",
    "d = {'owner directed aggression': contingency[0][1],\n",
    "     'fear/anxiety': contingency[1][0],\n",
    "     'both': contingency[1][1]}   \n",
    "cross_sums = pd.Series(d)\n",
    "\n",
    "# Display the cross tabulated data as a venn diagram.\n",
    "labels = cross_sums.index.values\n",
    "venn2(cross_sums, set_labels=labels[0:2])\n",
    "plt.title('Owner Directed Aggression and Fear/Anxiety')\n",
    "plt.show()\n",
    "\n",
    "# Execute a chi-squared test of independence.\n",
    "c, p, dof, expected = scs.chi2_contingency(contingency, correction=False)\n",
    "print('Chi-square Test of Independence:')\n",
    "print('chi2 = %f, p = %.2E, dof = %d' %(c, p, dof))\n",
    "checkSignificance(p)"
   ]
  },
  {
   "cell_type": "markdown",
   "metadata": {},
   "source": [
    "### 8.3 Owner Directed Aggression and Separation Anxiety:"
   ]
  },
  {
   "cell_type": "code",
   "execution_count": null,
   "metadata": {},
   "outputs": [],
   "source": [
    "# Create the necessary dataframe.\n",
    "fields = 'q03_main_1, q04_9'\n",
    "labels = ['aggression', 'anxiety']\n",
    "df = createNumericDataFrame(DOG_TABLE, fields, labels, filtered=True)\n",
    "    \n",
    "# Create a contingency table.\n",
    "contingency = pd.crosstab(df['aggression'], df['anxiety'])\n",
    "\n",
    "# Convert the cross tabulated dataframe to a series of sums.\n",
    "d = {'owner directed aggression': contingency[0][1],\n",
    "     'separation anxiety': contingency[1][0],\n",
    "     'both': contingency[1][1]}   \n",
    "cross_sums = pd.Series(d)\n",
    "\n",
    "# Display the cross tabulated data as a venn diagram.\n",
    "labels = cross_sums.index.values\n",
    "venn2(cross_sums, set_labels=labels[0:2])\n",
    "plt.title('Owner Direct Aggression and Separation Anxiety')\n",
    "plt.show()\n",
    "\n",
    "# Execute a chi-squared test of independence.\n",
    "c, p, dof, expected = scs.chi2_contingency(contingency, correction=False)\n",
    "print('Chi-square Test of Independence:')\n",
    "print('chi2 = %f, p = %.2E, dof = %d' %(c, p, dof))\n",
    "checkSignificance(p)"
   ]
  },
  {
   "cell_type": "markdown",
   "metadata": {},
   "source": [
    "## 9 Impact of Gender and Neutered Status"
   ]
  },
  {
   "cell_type": "markdown",
   "metadata": {},
   "source": [
    "### 9.1 On Study Prevalence:\n",
    "\n",
    "This section examines the impact gender and neutered status had on the prevalence among all participating dogs (i.e. the probability of selecting a dog with the specific sex, neutered status, and behavior problem from the entire study population).\n",
    "\n",
    "Note: \\[I\\] = intact, \\[N\\] = neutered"
   ]
  },
  {
   "cell_type": "code",
   "execution_count": null,
   "metadata": {},
   "outputs": [],
   "source": [
    "# Create the necessary dataframe.\n",
    "fields = []\n",
    "labels = []\n",
    "for counter, cat in enumerate(CATEGORY, 1):\n",
    "    if counter > 10:\n",
    "        counter += 1;\n",
    "    fields.append('q02_main_{}'.format(counter))\n",
    "    labels.append(cat)   \n",
    "fields.extend(('dog_sex', 'dog_spayed'))\n",
    "labels.extend(('Gender', 'Neutered'))\n",
    "fields = ', '.join(fields)\n",
    "df = createNumericDataFrame(DOG_TABLE, fields, labels, filtered=True)\n",
    "\n",
    "df_intact_male = df[(df['Gender'] == 1) & (df['Neutered'] == 0)].drop(\n",
    "    columns=['Gender', 'Neutered'])\n",
    "df_neutered_male = df[(df['Gender'] == 1) & (df['Neutered'] == 1)].drop(\n",
    "    columns=['Gender', 'Neutered'])\n",
    "df_intact_female = df[(df['Gender'] == 2) & (df['Neutered'] == 0)].drop(\n",
    "    columns=['Gender', 'Neutered'])\n",
    "df_neutered_female = df[(df['Gender'] == 2) & (df['Neutered'] == 1)].drop(\n",
    "    columns=['Gender', 'Neutered'])\n",
    "\n",
    "intact_male_s = df_intact_male.sum()\n",
    "neutered_male_s = df_neutered_male.sum()\n",
    "intact_female_s = df_intact_female.sum()\n",
    "neutered_female_s = df_neutered_female.sum()\n",
    "\n",
    "intact_male_p = intact_male_s.apply(PREVALENCE)\n",
    "neutered_male_p = neutered_male_s.apply(PREVALENCE)\n",
    "intact_female_p = intact_female_s.apply(PREVALENCE)\n",
    "neutered_female_p = neutered_female_s.apply(PREVALENCE)\n",
    "\n",
    "# Get individual behavior problem counts and display as a table.\n",
    "data = [go.Table(columnwidth = [200, 100, 105, 115, 120],\n",
    "                 header=dict(values=['Behavior Problem', 'Male [I] (%)',\n",
    "                                     'Male [N] (%)', 'Female [I] (%)',\n",
    "                                     'Female [N] (%)'],\n",
    "                             fill = dict(color='#B0C4DE'),\n",
    "                             align = ['left'] * 5),\n",
    "                 cells=dict(values=[labels[:-2], intact_male_p.values,\n",
    "                                    neutered_male_p.values, intact_female_p.values,\n",
    "                                    neutered_female_p],\n",
    "                            align = ['left'] * 5,\n",
    "                            format = [None, '.2f' * 4]))]\n",
    "layout = go.Layout(title='Impact of Gender and Neutered Status on Study Prevalence',\n",
    "                   width=740,\n",
    "                   height=400,\n",
    "                   margin=go.Margin(l=50, r=50, b=50, t=50, pad=4))\n",
    "fig = dict(data=data, layout=layout)\n",
    "py.iplot(fig)"
   ]
  },
  {
   "cell_type": "markdown",
   "metadata": {},
   "source": [
    "### 9.2 On Group Prevalence:\n",
    "\n",
    "This section looks at the impact gender and neutered status had on the prevalence among dogs of the same group (i.e. the probability of selecting a dog with the specific sex, neutered status, and behavior problem from the group of the study population that shares the same sex and neutered status).\n",
    "\n",
    "Note: \\[I\\] = intact, \\[N\\] = neutered"
   ]
  },
  {
   "cell_type": "code",
   "execution_count": null,
   "metadata": {},
   "outputs": [],
   "source": [
    "# Create the necessary dataframe.\n",
    "fields = []\n",
    "labels = []\n",
    "for counter, cat in enumerate(CATEGORY, 1):\n",
    "    if counter > 10:\n",
    "        counter += 1;\n",
    "    fields.append('q02_main_{}'.format(counter))\n",
    "    labels.append(cat)   \n",
    "fields.extend(('dog_sex', 'dog_spayed'))\n",
    "labels.extend(('Gender', 'Neutered'))\n",
    "fields = ', '.join(fields)\n",
    "df = createNumericDataFrame(DOG_TABLE, fields, labels, filtered=True)\n",
    "\n",
    "df_intact_male = df[(df['Gender'] == 1) & (df['Neutered'] == 0)].drop(\n",
    "    columns=['Gender', 'Neutered'])\n",
    "df_neutered_male = df[(df['Gender'] == 1) & (df['Neutered'] == 1)].drop(\n",
    "    columns=['Gender', 'Neutered'])\n",
    "df_intact_female = df[(df['Gender'] == 2) & (df['Neutered'] == 0)].drop(\n",
    "    columns=['Gender', 'Neutered'])\n",
    "df_neutered_female = df[(df['Gender'] == 2) & (df['Neutered'] == 1)].drop(\n",
    "    columns=['Gender', 'Neutered'])\n",
    "\n",
    "intact_male_c = len(df_intact_male.index)\n",
    "neutered_male_c = len(df_neutered_male.index)\n",
    "intact_female_c = len(df_intact_female.index)\n",
    "neutered_female_c = len(df_neutered_female.index)\n",
    "\n",
    "intact_male_s = df_intact_male.sum()\n",
    "neutered_male_s = df_neutered_male.sum()\n",
    "intact_female_s = df_intact_female.sum()\n",
    "neutered_female_s = df_neutered_female.sum()\n",
    "\n",
    "intact_male_p = intact_male_s.apply(lambda x: (x / intact_male_c) * 100)\n",
    "neutered_male_p = neutered_male_s.apply(lambda x: (x / neutered_male_c) * 100)\n",
    "intact_female_p = intact_female_s.apply(lambda x: (x / intact_female_c) * 100)\n",
    "neutered_female_p = neutered_female_s.apply(lambda x: (x / neutered_female_c) * 100)\n",
    "\n",
    "# Get individual behavior problem counts and display as a table.\n",
    "data = [go.Table(columnwidth = [200, 100, 105, 115, 120],\n",
    "                 header=dict(values=['Behavior Problem', 'Male [I] (%)',\n",
    "                                     'Male [N] (%)', 'Female [I] (%)',\n",
    "                                     'Female [N] (%)'],\n",
    "                             fill = dict(color='#B0C4DE'),\n",
    "                             align = ['left'] * 5),\n",
    "                 cells=dict(values=[labels[:-2], intact_male_p.values,\n",
    "                                    neutered_male_p.values, intact_female_p.values,\n",
    "                                    neutered_female_p],\n",
    "                            align = ['left'] * 5,\n",
    "                            format = [None, '.2f' * 4]))]\n",
    "layout = go.Layout(title='Impact of Gender and Neutered Status on Group Prevalence',\n",
    "                   width=740,\n",
    "                   height=400,\n",
    "                   margin=go.Margin(l=50, r=50, b=50, t=50, pad=4))\n",
    "fig = dict(data=data, layout=layout)\n",
    "py.iplot(fig)"
   ]
  },
  {
   "cell_type": "markdown",
   "metadata": {},
   "source": [
    "## 10 Chi-squared Matrix"
   ]
  },
  {
   "cell_type": "markdown",
   "metadata": {},
   "source": [
    "### 10.1 Reference Chart:"
   ]
  },
  {
   "cell_type": "code",
   "execution_count": null,
   "metadata": {
    "scrolled": false
   },
   "outputs": [],
   "source": [
    "# Construct lists.\n",
    "locs = []\n",
    "labels = []\n",
    "categories = []\n",
    "for cat, subdict in FR.labels.items():\n",
    "    for key, value in  subdict.items():\n",
    "        locs.append(key)\n",
    "        labels.append(value)\n",
    "        categories.append(cat)\n",
    "\n",
    "# Display lists in a chart for use as a reference.\n",
    "data = [go.Table(columnwidth = [125, 225, 300],\n",
    "                 header=dict(values=['Location', 'Category', 'Label'],\n",
    "                             fill = dict(color='#B0C4DE'),\n",
    "                             align = ['left'] * 3),\n",
    "                 cells=dict(values=[locs, categories, labels],\n",
    "                            align = ['left'] * 3))]\n",
    "layout = go.Layout(width=650,\n",
    "                   height=1600,\n",
    "                   margin=go.Margin(l=50, r=50, b=50, t=50, pad=4))\n",
    "fig = dict(data=data, layout=layout)\n",
    "if SAVE_OUTPUT:\n",
    "    py.plot(fig, image='svg', image_filename='heatmap_reference', image_height=1600,\n",
    "            image_width=650)\n",
    "py.iplot(fig)"
   ]
  },
  {
   "cell_type": "markdown",
   "metadata": {},
   "source": [
    "### 10.2 Linear Heatmap:"
   ]
  },
  {
   "cell_type": "code",
   "execution_count": null,
   "metadata": {},
   "outputs": [],
   "source": [
    "if CHI2_MATRIX.empty:\n",
    "    CHI2_MATRIX = createChiSquaredMatrix()\n",
    "\n",
    "# Heatmap\n",
    "fig, ax = plt.subplots(figsize=(20, 15))\n",
    "sns.heatmap(ax=ax, data=CHI2_MATRIX, cmap=\"PiYG\", linewidths=.008, linecolor='black',\n",
    "            cbar_kws={'label': 'chi-square values'})\n",
    "plt.xticks(rotation=90)\n",
    "plt.title('Linear Heatmap of Study Chi-squared Values', weight='bold')\n",
    "if SAVE_OUTPUT:\n",
    "    fig.savefig('../references/heatmap_linear', format='pdf')\n",
    "plt.show()"
   ]
  },
  {
   "cell_type": "markdown",
   "metadata": {},
   "source": [
    "### 10.3 Logarithmic Heatmap:"
   ]
  },
  {
   "cell_type": "code",
   "execution_count": null,
   "metadata": {
    "scrolled": false
   },
   "outputs": [],
   "source": [
    "if CHI2_MATRIX.empty:\n",
    "    CHI2_MATRIX = createChiSquaredMatrix()\n",
    "\n",
    "# Heatmap\n",
    "from matplotlib.colors import LogNorm\n",
    "from matplotlib import ticker\n",
    "fig, ax = plt.subplots(figsize=(20, 15))\n",
    "chi2_min = CHI2_MATRIX.min(skipna=True).min()\n",
    "chi2_max = CHI2_MATRIX.max(skipna=True).max()\n",
    "data = CHI2_MATRIX.fillna(1e-5)\n",
    "cmap = sns.cubehelix_palette(light=1, as_cmap=True)\n",
    "sns.heatmap(ax = ax, data=data, norm=LogNorm(vmin=chi2_min, vmax=chi2_max),\n",
    "            cmap=cmap, linewidths=.008, linecolor='black',\n",
    "            cbar_kws={'ticks': [0,1,10,1e2,1e3,1e4], 'label': 'chi-square values'})\n",
    "plt.xticks(rotation=90)\n",
    "plt.title('Logarithmic Heatmap of Study Chi-squared Values', weight='bold')\n",
    "if SAVE_OUTPUT:\n",
    "    fig.savefig('../references/heatmap_logarithmic', format='pdf')\n",
    "plt.show()"
   ]
  },
  {
   "cell_type": "raw",
   "metadata": {},
   "source": [
    "<script>\n",
    "  $(document).ready(function(){\n",
    "    $('div.prompt').hide();\n",
    "    $('div.back-to-top').hide();\n",
    "    $('nav#menubar').hide();\n",
    "    $('.breadcrumb').hide();\n",
    "    $('.hidden-print').hide();\n",
    "  });\n",
    "</script>\n",
    "\n",
    "<footer id=\"attribution\" style=\"float:right; color:#999; background:#fff;\">\n",
    "Created with Jupyter, delivered by Fastly, rendered by Rackspace.\n",
    "</footer>"
   ]
  }
 ],
 "metadata": {
  "kernelspec": {
   "display_name": "Python 3",
   "language": "python",
   "name": "python3"
  },
  "language_info": {
   "codemirror_mode": {
    "name": "ipython",
    "version": 3
   },
   "file_extension": ".py",
   "mimetype": "text/x-python",
   "name": "python",
   "nbconvert_exporter": "python",
   "pygments_lexer": "ipython3",
   "version": "3.6.3"
  }
 },
 "nbformat": 4,
 "nbformat_minor": 2
}
