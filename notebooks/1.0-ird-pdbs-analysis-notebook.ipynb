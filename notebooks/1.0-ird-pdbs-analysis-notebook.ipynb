{
 "cells": [
  {
   "cell_type": "markdown",
   "metadata": {},
   "source": [
    "# Pet Dog Behavior Study Analysis"
   ]
  },
  {
   "cell_type": "markdown",
   "metadata": {},
   "source": [
    "## Table of Contents\n",
    "\n",
    "1. [Overall Incidence](#toc1)  \n",
    "    1.1 [Total survey participants](#toc1.1)  \n",
    "    1.2 [Total participants that reported a behavior problem](#toc1.2)  \n",
    "    1.3 [Total participants that reported a bahvior problem but joined for other reasons](#toc1.3)  \n",
    "    1.4 [Overall incidence summary](#toc1.4)  \n",
    "2. [First Investigation](#)\n",
    "3. [Second Investigation](#)\n",
    "4. [Third Investigation](#)"
   ]
  },
  {
   "cell_type": "markdown",
   "metadata": {},
   "source": [
    "<a id='toc1'></a>\n",
    "## 1. Overall Incidence"
   ]
  },
  {
   "cell_type": "markdown",
   "metadata": {},
   "source": [
    "<a id='toc1.1'></a>\n",
    "### 1.1 Total survey participants"
   ]
  },
  {
   "cell_type": "code",
   "execution_count": 1,
   "metadata": {},
   "outputs": [
    {
     "name": "stdout",
     "output_type": "stream",
     "text": [
      "Total participants: 2986\n"
     ]
    }
   ],
   "source": [
    "import sqlite3\n",
    "import pandas as pd\n",
    "import textwrap\n",
    "import scipy.stats as scs\n",
    "from IPython.display import display\n",
    "\n",
    "\n",
    "# Create the necessary dataframe.\n",
    "con = sqlite3.connect('../data/processed/processed.db')\n",
    "query = ('SELECT record_id, question_reason_for_part_3, q02_score FROM users JOIN dogs '\n",
    "         'USING(record_id)')\n",
    "df = pd.read_sql_query(query, con)\n",
    "df.columns = ['id', 'reason', 'problems']\n",
    "df['problems'] = pd.to_numeric(df['problems'])\n",
    "df = df.sort_values('problems', ascending=False).drop_duplicates('id').sort_index()\n",
    "\n",
    "# Get a count of the total number of participants.\n",
    "cnt_total_users = len(df.index)\n",
    "print('Total participants: %d' %cnt_total_users)"
   ]
  },
  {
   "cell_type": "markdown",
   "metadata": {},
   "source": [
    "<a id='toc1.2'></a>\n",
    "### 1.2 Total participants that reported a behavior problem"
   ]
  },
  {
   "cell_type": "code",
   "execution_count": 2,
   "metadata": {},
   "outputs": [
    {
     "name": "stdout",
     "output_type": "stream",
     "text": [
      "Total participants who reported behavior problems: 2810 \n"
     ]
    }
   ],
   "source": [
    "# Determine the total number of participants who reported behavior problems.\n",
    "cnt_any_w_problems = len(df[df.problems != 0].index)\n",
    "print('Total participants who reported behavior problems: %d ' %cnt_any_w_problems)"
   ]
  },
  {
   "cell_type": "markdown",
   "metadata": {},
   "source": [
    "<a id='toc1.3'></a>\n",
    "### 1.3 Total participants that reported a bahvior problem but joined for other reasons"
   ]
  },
  {
   "cell_type": "code",
   "execution_count": 3,
   "metadata": {},
   "outputs": [
    {
     "name": "stdout",
     "output_type": "stream",
     "text": [
      "Participants who reported behavior problems, but did not list the behavior problems as the\n",
      "reason for joining the study: 2043\n"
     ]
    }
   ],
   "source": [
    "diff_reason = df[df.reason != '1']\n",
    "diff_w_problem = diff_reason[diff_reason.problems != 0]\n",
    "cnt_diff_w_problem = len(diff_w_problem.index)\n",
    "result = ('Participants who reported behavior problems, but did not list the behavior '\n",
    "          'problems as the reason for joining the study: %d' %cnt_diff_w_problem)\n",
    "print(textwrap.fill(result, width=90))"
   ]
  },
  {
   "cell_type": "markdown",
   "metadata": {},
   "source": [
    "<a id='toc1.4'></a>\n",
    "### 1.4 Overall incidence summary"
   ]
  },
  {
   "cell_type": "code",
   "execution_count": 4,
   "metadata": {},
   "outputs": [
    {
     "name": "stdout",
     "output_type": "stream",
     "text": [
      "Behavior problems were reported by 2810 of the total 2986 participants (0.94%). After\n",
      "removing participants who listed behavior problems as a reason for joining the study,\n",
      "behavior problems were reported by 2043 of the remaining 2219 participants (0.92%).\n"
     ]
    }
   ],
   "source": [
    "pct_any_reason = cnt_any_w_problems / cnt_total_users\n",
    "summary = ('Behavior problems were reported by %d of the total %d participants (%.2f%%). '\n",
    "           %(cnt_any_w_problems, cnt_total_users, pct_any_reason))\n",
    "\n",
    "cnt_diff_reason = cnt_total_users - (cnt_any_w_problems - cnt_diff_w_problem)\n",
    "pct_diff_reason = cnt_diff_w_problem / cnt_diff_reason\n",
    "summary += ('After removing participants who listed behavior problems as a reason for '\n",
    "            'joining the study, behavior problems were reported by %d of the remaining %d '\n",
    "            'participants (%.2f%%).' %(cnt_diff_w_problem, cnt_diff_reason, pct_diff_reason))\n",
    "\n",
    "print(textwrap.fill(summary, width=90))"
   ]
  },
  {
   "cell_type": "markdown",
   "metadata": {},
   "source": [
    "## 2. First Investigation"
   ]
  },
  {
   "cell_type": "markdown",
   "metadata": {},
   "source": [
    "### 2.1 Preparation of data"
   ]
  },
  {
   "cell_type": "code",
   "execution_count": 5,
   "metadata": {},
   "outputs": [
    {
     "name": "stdout",
     "output_type": "stream",
     "text": [
      "Total dogs: 5018\n"
     ]
    }
   ],
   "source": [
    "# Create the necessary dataframe.\n",
    "query = ('SELECT q04_1, q04_2, q04_9 FROM dogs')\n",
    "df = pd.read_sql_query(query, con)\n",
    "df.columns = ['thunderstorm phobia', 'noise phobia', 'separation anxiety']\n",
    "for col in df:\n",
    "    df[col] = pd.to_numeric(df[col])\n",
    "    \n",
    "# Set a significance level.\n",
    "sig_p = 0.01\n",
    "    \n",
    "# Record the total number of dogs.\n",
    "cnt_total_dogs = len(df.index)\n",
    "print('Total dogs: %d' %cnt_total_dogs)"
   ]
  },
  {
   "cell_type": "markdown",
   "metadata": {},
   "source": [
    "### 2.2 Looping through pairs"
   ]
  },
  {
   "cell_type": "code",
   "execution_count": 6,
   "metadata": {},
   "outputs": [
    {
     "data": {
      "text/html": [
       "<div>\n",
       "<style scoped>\n",
       "    .dataframe tbody tr th:only-of-type {\n",
       "        vertical-align: middle;\n",
       "    }\n",
       "\n",
       "    .dataframe tbody tr th {\n",
       "        vertical-align: top;\n",
       "    }\n",
       "\n",
       "    .dataframe thead th {\n",
       "        text-align: right;\n",
       "    }\n",
       "</style>\n",
       "<table border=\"1\" class=\"dataframe\">\n",
       "  <thead>\n",
       "    <tr style=\"text-align: right;\">\n",
       "      <th>noise phobia</th>\n",
       "      <th>0</th>\n",
       "      <th>1</th>\n",
       "    </tr>\n",
       "    <tr>\n",
       "      <th>thunderstorm phobia</th>\n",
       "      <th></th>\n",
       "      <th></th>\n",
       "    </tr>\n",
       "  </thead>\n",
       "  <tbody>\n",
       "    <tr>\n",
       "      <th>0</th>\n",
       "      <td>3839</td>\n",
       "      <td>427</td>\n",
       "    </tr>\n",
       "    <tr>\n",
       "      <th>1</th>\n",
       "      <td>210</td>\n",
       "      <td>542</td>\n",
       "    </tr>\n",
       "  </tbody>\n",
       "</table>\n",
       "</div>"
      ],
      "text/plain": [
       "noise phobia            0    1\n",
       "thunderstorm phobia           \n",
       "0                    3839  427\n",
       "1                     210  542"
      ]
     },
     "metadata": {},
     "output_type": "display_data"
    },
    {
     "name": "stdout",
     "output_type": "stream",
     "text": [
      "Chi-squared Test of Independence for thunderstorm phobia and noise phobia:\n",
      "chi2 = 1580.493072, p = 0.00E+00, dof = 1\n",
      "The resulting p-value is below the set significance threshold (0.01).\n"
     ]
    },
    {
     "data": {
      "text/html": [
       "<div>\n",
       "<style scoped>\n",
       "    .dataframe tbody tr th:only-of-type {\n",
       "        vertical-align: middle;\n",
       "    }\n",
       "\n",
       "    .dataframe tbody tr th {\n",
       "        vertical-align: top;\n",
       "    }\n",
       "\n",
       "    .dataframe thead th {\n",
       "        text-align: right;\n",
       "    }\n",
       "</style>\n",
       "<table border=\"1\" class=\"dataframe\">\n",
       "  <thead>\n",
       "    <tr style=\"text-align: right;\">\n",
       "      <th>separation anxiety</th>\n",
       "      <th>0</th>\n",
       "      <th>1</th>\n",
       "    </tr>\n",
       "    <tr>\n",
       "      <th>thunderstorm phobia</th>\n",
       "      <th></th>\n",
       "      <th></th>\n",
       "    </tr>\n",
       "  </thead>\n",
       "  <tbody>\n",
       "    <tr>\n",
       "      <th>0</th>\n",
       "      <td>3750</td>\n",
       "      <td>516</td>\n",
       "    </tr>\n",
       "    <tr>\n",
       "      <th>1</th>\n",
       "      <td>501</td>\n",
       "      <td>251</td>\n",
       "    </tr>\n",
       "  </tbody>\n",
       "</table>\n",
       "</div>"
      ],
      "text/plain": [
       "separation anxiety      0    1\n",
       "thunderstorm phobia           \n",
       "0                    3750  516\n",
       "1                     501  251"
      ]
     },
     "metadata": {},
     "output_type": "display_data"
    },
    {
     "name": "stdout",
     "output_type": "stream",
     "text": [
      "Chi-squared Test of Independence for thunderstorm phobia and separation anxiety:\n",
      "chi2 = 223.618927, p = 1.47E-50, dof = 1\n",
      "The resulting p-value is below the set significance threshold (0.01).\n"
     ]
    },
    {
     "data": {
      "text/html": [
       "<div>\n",
       "<style scoped>\n",
       "    .dataframe tbody tr th:only-of-type {\n",
       "        vertical-align: middle;\n",
       "    }\n",
       "\n",
       "    .dataframe tbody tr th {\n",
       "        vertical-align: top;\n",
       "    }\n",
       "\n",
       "    .dataframe thead th {\n",
       "        text-align: right;\n",
       "    }\n",
       "</style>\n",
       "<table border=\"1\" class=\"dataframe\">\n",
       "  <thead>\n",
       "    <tr style=\"text-align: right;\">\n",
       "      <th>separation anxiety</th>\n",
       "      <th>0</th>\n",
       "      <th>1</th>\n",
       "    </tr>\n",
       "    <tr>\n",
       "      <th>noise phobia</th>\n",
       "      <th></th>\n",
       "      <th></th>\n",
       "    </tr>\n",
       "  </thead>\n",
       "  <tbody>\n",
       "    <tr>\n",
       "      <th>0</th>\n",
       "      <td>3592</td>\n",
       "      <td>457</td>\n",
       "    </tr>\n",
       "    <tr>\n",
       "      <th>1</th>\n",
       "      <td>659</td>\n",
       "      <td>310</td>\n",
       "    </tr>\n",
       "  </tbody>\n",
       "</table>\n",
       "</div>"
      ],
      "text/plain": [
       "separation anxiety     0    1\n",
       "noise phobia                 \n",
       "0                   3592  457\n",
       "1                    659  310"
      ]
     },
     "metadata": {},
     "output_type": "display_data"
    },
    {
     "name": "stdout",
     "output_type": "stream",
     "text": [
      "Chi-squared Test of Independence for noise phobia and separation anxiety:\n",
      "chi2 = 258.860919, p = 3.04E-58, dof = 1\n",
      "The resulting p-value is below the set significance threshold (0.01).\n"
     ]
    }
   ],
   "source": [
    "pairs = [['thunderstorm phobia', 'noise phobia'],\n",
    "         ['thunderstorm phobia', 'separation anxiety'],\n",
    "         ['noise phobia', 'separation anxiety']\n",
    "        ]\n",
    "for pair in pairs:\n",
    "    contingency = pd.crosstab(df[pair[0]], df[pair[1]])\n",
    "    display(contingency)\n",
    "    print('Chi-squared Test of Independence for %s and %s:' %(pair[0], pair[1]))\n",
    "    c, p, dof, expected = scs.chi2_contingency(contingency, correction=False)\n",
    "    print('chi2 = %f, p = %.2E, dof = %d' %(c, p, dof))\n",
    "    if p < sig_p:\n",
    "        print('The resulting p-value is below the set significance threshold (%.2f).' %sig_p)"
   ]
  },
  {
   "cell_type": "code",
   "execution_count": 7,
   "metadata": {},
   "outputs": [
    {
     "data": {
      "text/html": [
       "<style  type=\"text/css\" >\n",
       "</style>  \n",
       "<table id=\"T_c2ffd246_622d_11e8_8a7b_685b35c02a60\" > \n",
       "<thead>    <tr> \n",
       "        <th class=\"index_name level0\" >noise phobia</th> \n",
       "        <th class=\"col_heading level0 col0\" colspan=2>0</th> \n",
       "        <th class=\"col_heading level0 col2\" colspan=2>1</th> \n",
       "    </tr>    <tr> \n",
       "        <th class=\"index_name level1\" >thunderstorm phobia</th> \n",
       "        <th class=\"col_heading level1 col0\" >0</th> \n",
       "        <th class=\"col_heading level1 col1\" >1</th> \n",
       "        <th class=\"col_heading level1 col2\" >0</th> \n",
       "        <th class=\"col_heading level1 col3\" >1</th> \n",
       "    </tr>    <tr> \n",
       "        <th class=\"index_name level0\" >separation anxiety</th> \n",
       "        <th class=\"blank\" ></th> \n",
       "        <th class=\"blank\" ></th> \n",
       "        <th class=\"blank\" ></th> \n",
       "        <th class=\"blank\" ></th> \n",
       "    </tr></thead> \n",
       "<tbody>    <tr> \n",
       "        <th id=\"T_c2ffd246_622d_11e8_8a7b_685b35c02a60level0_row0\" class=\"row_heading level0 row0\" >0</th> \n",
       "        <td id=\"T_c2ffd246_622d_11e8_8a7b_685b35c02a60row0_col0\" class=\"data row0 col0\" >3452</td> \n",
       "        <td id=\"T_c2ffd246_622d_11e8_8a7b_685b35c02a60row0_col1\" class=\"data row0 col1\" >140</td> \n",
       "        <td id=\"T_c2ffd246_622d_11e8_8a7b_685b35c02a60row0_col2\" class=\"data row0 col2\" >298</td> \n",
       "        <td id=\"T_c2ffd246_622d_11e8_8a7b_685b35c02a60row0_col3\" class=\"data row0 col3\" >361</td> \n",
       "    </tr>    <tr> \n",
       "        <th id=\"T_c2ffd246_622d_11e8_8a7b_685b35c02a60level0_row1\" class=\"row_heading level0 row1\" >1</th> \n",
       "        <td id=\"T_c2ffd246_622d_11e8_8a7b_685b35c02a60row1_col0\" class=\"data row1 col0\" >387</td> \n",
       "        <td id=\"T_c2ffd246_622d_11e8_8a7b_685b35c02a60row1_col1\" class=\"data row1 col1\" >70</td> \n",
       "        <td id=\"T_c2ffd246_622d_11e8_8a7b_685b35c02a60row1_col2\" class=\"data row1 col2\" >129</td> \n",
       "        <td id=\"T_c2ffd246_622d_11e8_8a7b_685b35c02a60row1_col3\" class=\"data row1 col3\" >181</td> \n",
       "    </tr></tbody> \n",
       "</table> "
      ],
      "text/plain": [
       "<pandas.io.formats.style.Styler at 0x112564780>"
      ]
     },
     "metadata": {},
     "output_type": "display_data"
    },
    {
     "name": "stdout",
     "output_type": "stream",
     "text": [
      "Chi-squared Test of Independence for separation anxiety and the combination of noise and\n",
      "thunderstorm phobia:\n",
      "chi2 = 343.870316, p = 3.17E-74, dof = 3\n",
      "The resulting p-value is below the set significance threshold (0.01).\n"
     ]
    }
   ],
   "source": [
    "contingency = pd.crosstab(df['separation anxiety'], [df['noise phobia'],\n",
    "                                                     df['thunderstorm phobia']])\n",
    "display(contingency.style)\n",
    "title = ('Chi-squared Test of Independence for separation anxiety and the combination of '\n",
    "         'noise and thunderstorm phobia:')\n",
    "print(textwrap.fill(title, width=90))\n",
    "c, p, dof, expected = scs.chi2_contingency(contingency, correction=False)\n",
    "print('chi2 = %f, p = %.2E, dof = %d' %(c, p, dof))\n",
    "if p < sig_p:\n",
    "    print('The resulting p-value is below the set significance threshold (%.2f).' %sig_p)"
   ]
  },
  {
   "cell_type": "markdown",
   "metadata": {},
   "source": [
    "## 3. Second Investigation"
   ]
  },
  {
   "cell_type": "code",
   "execution_count": 8,
   "metadata": {},
   "outputs": [
    {
     "data": {
      "text/html": [
       "<div>\n",
       "<style scoped>\n",
       "    .dataframe tbody tr th:only-of-type {\n",
       "        vertical-align: middle;\n",
       "    }\n",
       "\n",
       "    .dataframe tbody tr th {\n",
       "        vertical-align: top;\n",
       "    }\n",
       "\n",
       "    .dataframe thead th {\n",
       "        text-align: right;\n",
       "    }\n",
       "</style>\n",
       "<table border=\"1\" class=\"dataframe\">\n",
       "  <thead>\n",
       "    <tr style=\"text-align: right;\">\n",
       "      <th>repetitive behavior</th>\n",
       "      <th>0</th>\n",
       "      <th>1</th>\n",
       "    </tr>\n",
       "    <tr>\n",
       "      <th>fearful/anxious behavior</th>\n",
       "      <th></th>\n",
       "      <th></th>\n",
       "    </tr>\n",
       "  </thead>\n",
       "  <tbody>\n",
       "    <tr>\n",
       "      <th>0</th>\n",
       "      <td>2307</td>\n",
       "      <td>324</td>\n",
       "    </tr>\n",
       "    <tr>\n",
       "      <th>1</th>\n",
       "      <td>1893</td>\n",
       "      <td>494</td>\n",
       "    </tr>\n",
       "  </tbody>\n",
       "</table>\n",
       "</div>"
      ],
      "text/plain": [
       "repetitive behavior          0    1\n",
       "fearful/anxious behavior           \n",
       "0                         2307  324\n",
       "1                         1893  494"
      ]
     },
     "metadata": {},
     "output_type": "display_data"
    },
    {
     "name": "stdout",
     "output_type": "stream",
     "text": [
      "Chi-square Test of Independence:\n",
      "chi2 = 64.426486, p = 1.00E-15, dof = 1\n",
      "The resulting p-value is below the set significance threshold (0.01).\n"
     ]
    }
   ],
   "source": [
    "# Create the necessary dataframe.\n",
    "query = ('SELECT q02_main_2, q02_main_3 FROM dogs')\n",
    "df = pd.read_sql_query(query, con)\n",
    "df.columns = ['fearful/anxious behavior', 'repetitive behavior']\n",
    "for col in df:\n",
    "    df[col] = pd.to_numeric(df[col])\n",
    "\n",
    "contingency = pd.crosstab(df['fearful/anxious behavior'], df['repetitive behavior'])\n",
    "display(contingency)\n",
    "c, p, dof, expected = scs.chi2_contingency(contingency,\n",
    "                                           correction=False)\n",
    "print('Chi-square Test of Independence:')\n",
    "print('chi2 = %f, p = %.2E, dof = %d' %(c, p, dof))\n",
    "if p < sig_p:\n",
    "    print('The resulting p-value is below the set significance threshold (%.2f).' %sig_p)"
   ]
  },
  {
   "cell_type": "code",
   "execution_count": null,
   "metadata": {},
   "outputs": [],
   "source": []
  },
  {
   "cell_type": "code",
   "execution_count": null,
   "metadata": {},
   "outputs": [],
   "source": []
  }
 ],
 "metadata": {
  "kernelspec": {
   "display_name": "Python 3",
   "language": "python",
   "name": "python3"
  },
  "language_info": {
   "codemirror_mode": {
    "name": "ipython",
    "version": 3
   },
   "file_extension": ".py",
   "mimetype": "text/x-python",
   "name": "python",
   "nbconvert_exporter": "python",
   "pygments_lexer": "ipython3",
   "version": "3.6.3"
  }
 },
 "nbformat": 4,
 "nbformat_minor": 2
}
