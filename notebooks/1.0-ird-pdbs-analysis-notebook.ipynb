{
 "cells": [
  {
   "cell_type": "markdown",
   "metadata": {},
   "source": [
    "# Pet Dog Behavior Study Analysis"
   ]
  },
  {
   "cell_type": "markdown",
   "metadata": {},
   "source": [
    "## 1. Workspace Setup"
   ]
  },
  {
   "cell_type": "code",
   "execution_count": null,
   "metadata": {},
   "outputs": [],
   "source": [
    "# Imports accounted for.\n",
    "import sqlite3\n",
    "import pandas as pd\n",
    "import plotly.offline as py\n",
    "import plotly.graph_objs as go\n",
    "from matplotlib_venn import venn2, venn3\n",
    "import matplotlib.pyplot as plt\n",
    "\n",
    "# Imports unaccounted for.\n",
    "import textwrap\n",
    "import scipy.stats as scs\n",
    "from IPython.display import display\n",
    "import plotly.figure_factory as ff\n",
    "\n",
    "# IPython magics for this notebook.\n",
    "%matplotlib inline\n",
    "\n",
    "# Initiate plotly IPython notebook mode.\n",
    "py.init_notebook_mode(connected=True)\n",
    "\n",
    "# Establish a connection to the database.\n",
    "con = sqlite3.connect('../data/processed/processed.db')"
   ]
  },
  {
   "cell_type": "markdown",
   "metadata": {},
   "source": [
    "## 2. Overall Prevalence of Behavior Problems\n",
    "\n",
    "Prevalence is defined as the proportion of a population found to be affected by a medical condition. This section aims to calculate the aggregate prevalence of the most common behavior problems in a given canine population."
   ]
  },
  {
   "cell_type": "markdown",
   "metadata": {},
   "source": [
    "### 2.1 Count gross and adjusted responses:"
   ]
  },
  {
   "cell_type": "code",
   "execution_count": null,
   "metadata": {},
   "outputs": [],
   "source": [
    "# Create the necessary dataframe.\n",
    "query = ('SELECT record_id, question_reason_for_part_3, q02_score FROM users JOIN dogs '\n",
    "         'USING(record_id)')\n",
    "df_gross = pd.read_sql_query(query, con)\n",
    "df_gross.columns = ['id', 'suspicion', 'problems']\n",
    "\n",
    "# Get a count of the total number of dogs.\n",
    "cnt_total_dogs = len(df_gross.index)\n",
    "\n",
    "# Get a count of the dogs with reported behavior problem.\n",
    "# If the \"problems\" column does not equal zero, then a behavior problem was reported.\n",
    "cnt_total_dogs_w_problems = len(df_gross[df_gross['problems'] != '0'].index)\n",
    "\n",
    "# Create an adjusted dataframe by removing biased results.\n",
    "# A result is considered biased if a participant listed \"suspicion of a behavior problem\" as a\n",
    "# reason for joining the study.\n",
    "df_adjusted = df_gross[df_gross['suspicion'] == '0']\n",
    "\n",
    "# Get a count of the total number of dogs from the adjusted dataframe.\n",
    "cnt_total_dogs_adjusted = len(df_adjusted.index)\n",
    "\n",
    "# Get a count of the dogs with a reported behavior problem from the adjusted dataframe.\n",
    "cnt_total_dogs_w_problems_adjusted = len(df_adjusted[df_adjusted['problems'] != '0'].index)\n",
    "\n",
    "# Display the count results.\n",
    "print('Total number of dogs: %d' %cnt_total_dogs)\n",
    "print('Total number of dogs with a reported behavior problem: %d' %cnt_total_dogs_w_problems)\n",
    "print('Adjusted total number of dogs: %d' %cnt_total_dogs_adjusted)\n",
    "print('Adjusted total number of dogs with a reported behavior problem: %d'\n",
    "      %cnt_total_dogs_w_problems_adjusted)"
   ]
  },
  {
   "cell_type": "markdown",
   "metadata": {},
   "source": [
    "### 2.2 Calculate prevalence:"
   ]
  },
  {
   "cell_type": "code",
   "execution_count": null,
   "metadata": {},
   "outputs": [],
   "source": [
    "# Calculate the gross prevalence.\n",
    "prevalence_gross = (cnt_total_dogs_w_problems / cnt_total_dogs) * 100\n",
    "\n",
    "# Calculate the adjusted prevalence.\n",
    "prevalence_adjusted = (cnt_total_dogs_w_problems_adjusted / cnt_total_dogs_adjusted) * 100\n",
    "\n",
    "# Calculate the difference between the gross and adjusted prevalence.\n",
    "diff_prevalence = prevalence_adjusted - prevalence_gross\n",
    "sign = '+' if diff_prevalence > 0 else ''\n",
    "\n",
    "# Display the prevalence results.\n",
    "print('Gross prevalence: %.2f%% (%d/%d)'\n",
    "      %(prevalence_gross, cnt_total_dogs_w_problems, cnt_total_dogs))\n",
    "print('Adjusted prevalence: %.2f%% (%d/%d)'\n",
    "      %(prevalence_adjusted, cnt_total_dogs_w_problems_adjusted, cnt_total_dogs_adjusted))\n",
    "print('Shift in prevalence as a result of adjustment: %s%.2f%%' %(sign, diff_prevalence))"
   ]
  },
  {
   "cell_type": "markdown",
   "metadata": {},
   "source": [
    "## 3. Prevalence of Individual Behavior Problems\n",
    "\n",
    "This section aims to calculate the prevalence for each behavior problem included in the study. The adjusted dataset is utilized to eliminate potential bias."
   ]
  },
  {
   "cell_type": "markdown",
   "metadata": {},
   "source": [
    "### 3.1 Determine count and prevalence for each behavior problem:"
   ]
  },
  {
   "cell_type": "code",
   "execution_count": null,
   "metadata": {},
   "outputs": [],
   "source": [
    "# Create the necessary dataframe.\n",
    "query = ('SELECT question_reason_for_part_3, q02_main_1, q02_main_2, q02_main_3, '\n",
    "         'q02_main_4, q02_main_5, q02_main_6, q02_main_7, q02_main_8, q02_main_9, '\n",
    "         'q02_main_10, q02_main_12, q02_main_13 FROM users JOIN dogs '\n",
    "         'USING(record_id)')\n",
    "df = pd.read_sql_query(query, con)\n",
    "df.columns = ['suspicion', 'aggression', 'fear/anxiety', 'compulsion', 'house soiling',\n",
    "              'excessive barking', 'jumping', 'mounting', 'fecal consumption', 'destruction',\n",
    "              'rolling in repulsive objects', 'escape', 'hyperactivity']\n",
    "\n",
    "# Remove biased results and discard suspicion column.\n",
    "df = df[df['suspicion'] == '0']\n",
    "df.drop('suspicion', axis=1, inplace=True)\n",
    "\n",
    "# Convert columns to integer type.\n",
    "for col in df:\n",
    "    df[col] = pd.to_numeric(df[col])\n",
    "\n",
    "# Get individual behavior problem counts and display as a table.\n",
    "sums = df.sum()\n",
    "sums = sums.sort_values(ascending=False)\n",
    "\n",
    "# Calculate the prevalence of each behavior problem.\n",
    "total_dogs = len(df.index)\n",
    "prevalence_cal = lambda x: (x / total_dogs) * 100\n",
    "prevalences = sums.apply(prevalence_cal)\n",
    "\n",
    "# Get individual behavior problem counts and display as a table.\n",
    "trace = go.Table(\n",
    "    header=dict(values=['Behavior Problem', 'Count', 'Prevalence (%)'],\n",
    "                fill = dict(color='#B0C4DE'),\n",
    "                align = ['left'] * 5),\n",
    "    cells=dict(values=[sums.index.values, sums.values, prevalences.values],\n",
    "               align = ['left'] * 5,\n",
    "               format = [None, 'd', '.2f']))\n",
    "data = [trace] \n",
    "layout = dict(width=700, height=450)\n",
    "fig = dict(data=data, layout=layout)\n",
    "py.iplot(fig)"
   ]
  },
  {
   "cell_type": "markdown",
   "metadata": {},
   "source": [
    "### 3.2 Graphical presentation of individual prevalences:"
   ]
  },
  {
   "cell_type": "code",
   "execution_count": null,
   "metadata": {},
   "outputs": [],
   "source": [
    "prevalences = prevalences.sort_values(ascending=True)\n",
    "trace = go.Bar(\n",
    "    x=prevalences.values,\n",
    "    y=prevalences.index.values,\n",
    "    orientation='h')\n",
    "data = [trace]\n",
    "layout = go.Layout(title='Prevalence of Behavior Problems',\n",
    "                   xaxis=dict(title='Prevalence (%)'),\n",
    "                   yaxis=dict(title='Behavior Problem',\n",
    "                              automargin=True,\n",
    "                              tickangle=30,\n",
    "                              tickprefix=' ',\n",
    "                              ticksuffix=' '),\n",
    "                   width=700,\n",
    "                   height=500\n",
    "                  )\n",
    "fig = dict(data=data, layout=layout)\n",
    "py.iplot(fig)"
   ]
  },
  {
   "cell_type": "markdown",
   "metadata": {},
   "source": [
    "## 4. Reasons for Joining the Study"
   ]
  },
  {
   "cell_type": "markdown",
   "metadata": {},
   "source": [
    "### 4.1 Preparation of data:"
   ]
  },
  {
   "cell_type": "code",
   "execution_count": null,
   "metadata": {},
   "outputs": [],
   "source": [
    "# Create the necessary dataframe.\n",
    "query = ('SELECT question_reason_for_part_1, question_reason_for_part_2, '  \n",
    "         'question_reason_for_part_3, question_reason_for_part_4, '\n",
    "         'question_reason_for_part_5 FROM users')\n",
    "df = pd.read_sql_query(query, con)\n",
    "df.columns = ['Love', 'Shelter Animals', 'Behavior Problems', 'Work', 'Other']\n",
    "for col in df:\n",
    "    df[col] = pd.to_numeric(df[col])"
   ]
  },
  {
   "cell_type": "markdown",
   "metadata": {},
   "source": [
    "### 4.2 Breakdown of reasons for joining the study:"
   ]
  },
  {
   "cell_type": "code",
   "execution_count": null,
   "metadata": {},
   "outputs": [],
   "source": [
    "# Create a bar graph to illustrate breakdown of responses.\n",
    "data = [go.Bar(x=df.columns, y=df.sum())]\n",
    "layout = go.Layout(title=\"Motivation for Participation\",\n",
    "                   xaxis=dict(title='Motivation'),\n",
    "                   yaxis=dict(title='Count'),\n",
    "                   autosize=False, width=500, height=500)\n",
    "fig = go.Figure(data=data, layout=layout)\n",
    "py.iplot(fig)\n",
    "\n",
    "# NOTE: This does not include a count of users who did not provide a reason."
   ]
  },
  {
   "cell_type": "markdown",
   "metadata": {},
   "source": [
    "## ?. Separation Anxiety, Noise Phobia, and Thunderstorm Phobia"
   ]
  },
  {
   "cell_type": "markdown",
   "metadata": {},
   "source": [
    "### ?.1 Preparation of data"
   ]
  },
  {
   "cell_type": "code",
   "execution_count": null,
   "metadata": {},
   "outputs": [],
   "source": [
    "# Create the necessary dataframe.\n",
    "query = ('SELECT question_reason_for_part_3, q04_1, q04_2, q04_9 FROM users JOIN dogs '\n",
    "         'USING(record_id)')\n",
    "df = pd.read_sql_query(query, con)\n",
    "df.columns = ['suspicion', 'thunderstorm phobia', 'noise phobia', 'separation anxiety']\n",
    "\n",
    "# Remove biased results and discard suspicion column.\n",
    "df = df[df['suspicion'] == '0']\n",
    "df.drop('suspicion', axis=1, inplace=True)\n",
    "\n",
    "# Convert all columns to type integer.\n",
    "for col in df:\n",
    "    df[col] = pd.to_numeric(df[col])\n",
    "\n",
    "# Set a significance level.\n",
    "sig_p = 0.01\n",
    "\n",
    "pairs = [['thunderstorm phobia', 'noise phobia'],\n",
    "         ['thunderstorm phobia', 'separation anxiety'],\n",
    "         ['noise phobia', 'separation anxiety']]\n",
    "\n",
    "titles = ['Thunderstorm Phobia and Noise Phobia',\n",
    "          'Thunderstorm Phobia and Separation Anxiety',\n",
    "          'Noise Phobia and Separation Anxiety']\n",
    "\n",
    "counter = 0\n",
    "for pair in pairs:\n",
    "    # Create a contingency table.\n",
    "    contingency = pd.crosstab(df[pair[0]], df[pair[1]])\n",
    "    # Convert the cross tabulated dataframe to a series of sums.\n",
    "    d = {pair[0]: contingency[0][1],\n",
    "         pair[1]: contingency[1][0],\n",
    "         'both': contingency[1][1]}   \n",
    "    cross_sums = pd.Series(d)\n",
    "    # Display the cross tabulated data as a venn diagram.\n",
    "    labels = cross_sums.index.values\n",
    "    venn2(cross_sums, set_labels=labels[0:2])\n",
    "    plt.title(titles[counter])\n",
    "    plt.show()\n",
    "    # Execute a chi-squared test of independence.\n",
    "    print('Chi-squared Test of Independence for %s and %s:' %(pair[0], pair[1]))\n",
    "    c, p, dof, expected = scs.chi2_contingency(contingency, correction=False)\n",
    "    print('chi2 = %f, p = %.2E, dof = %d' %(c, p, dof))\n",
    "    if p < sig_p:\n",
    "        print('The resulting p-value is below the set significance threshold (%.2f).' %sig_p)\n",
    "    counter += 1"
   ]
  },
  {
   "cell_type": "markdown",
   "metadata": {},
   "source": [
    "### ?.2 Further exploration"
   ]
  },
  {
   "cell_type": "code",
   "execution_count": null,
   "metadata": {},
   "outputs": [],
   "source": [
    "# Create a contingency table.\n",
    "contingency = pd.crosstab(df['separation anxiety'], [df['noise phobia'],\n",
    "                                                     df['thunderstorm phobia']])\n",
    "\n",
    "# Convert the cross tabulated dataframe to a series of sums.\n",
    "d = {'separation anxiety': contingency[0][0][1],\n",
    "     'noise phobia': contingency[1][0][0],\n",
    "     'separation-noise': contingency[1][0][1],\n",
    "     'thunderstorm phobia': contingency[0][1][0],\n",
    "     'separation-thunderstorm': contingency[0][1][1],\n",
    "     'noise-thunderstorm': contingency[1][1][0],     \n",
    "     'all': contingency[1][1][1]}   \n",
    "cross_sums = pd.Series(d)\n",
    "\n",
    "# Display the cross tabulated data as a venn diagram.\n",
    "labels = [cross_sums.index.values[i] for i in [0, 1, 3]]\n",
    "venn3(cross_sums, set_labels=labels)\n",
    "plt.title('Separation Anxiety, Noise Phobia, and Thunderstorm Phobia')\n",
    "plt.show()\n",
    "\n",
    "# Execute a chi-squared test of independence.\n",
    "title = ('Chi-squared Test of Independence for separation anxiety and the combination of '\n",
    "         'noise and thunderstorm phobia:')\n",
    "print(textwrap.fill(title, width=90))\n",
    "c, p, dof, expected = scs.chi2_contingency(contingency, correction=False)\n",
    "print('chi2 = %f, p = %.2E, dof = %d' %(c, p, dof))\n",
    "if p < sig_p:\n",
    "    print('The resulting p-value is below the set significance threshold (%.2f).' %sig_p)"
   ]
  },
  {
   "cell_type": "markdown",
   "metadata": {},
   "source": [
    "## ?. Compulsion and Fearful/Anxious Behaviors"
   ]
  },
  {
   "cell_type": "markdown",
   "metadata": {},
   "source": [
    "### ?.1 Preparation of data"
   ]
  },
  {
   "cell_type": "code",
   "execution_count": null,
   "metadata": {},
   "outputs": [],
   "source": [
    "# Create the necessary hdataframe.\n",
    "query = ('SELECT question_reason_for_part_3, q02_main_2, q02_main_3 FROM users JOIN dogs '\n",
    "         'USING(record_id)')\n",
    "df = pd.read_sql_query(query, con)\n",
    "df.columns = ['suspicion', 'fear/anxiety', 'compulsion']\n",
    "\n",
    "# Remove biased results and discard suspicion column.\n",
    "df = df[df['suspicion'] == '0']\n",
    "df.drop('suspicion', axis=1, inplace=True)\n",
    "\n",
    "# Convert all columns to type integer.\n",
    "for col in df:\n",
    "    df[col] = pd.to_numeric(df[col])\n",
    "\n",
    "# Cross tabulate the relevant columns.\n",
    "contingency = pd.crosstab(df['fear/anxiety'], df['compulsion'])\n",
    "\n",
    "# Convert the cross tabulated dataframe to a series of sums.\n",
    "d = {'fear/anxiety': contingency[0][1],\n",
    "     'compulsion': contingency[1][0],\n",
    "     'both': contingency[1][1]}   \n",
    "cross_sums = pd.Series(d)\n",
    "\n",
    "# Display the cross tabulated data as a venn diagram.\n",
    "labels = cross_sums.index.values\n",
    "venn2(cross_sums, set_labels=labels[0:2])\n",
    "plt.title('Fear/Anxiety and Compulsion')\n",
    "plt.show()"
   ]
  },
  {
   "cell_type": "code",
   "execution_count": null,
   "metadata": {},
   "outputs": [],
   "source": [
    "# Execute a chi-squared test of independence.\n",
    "c, p, dof, expected = scs.chi2_contingency(contingency, correction=False)\n",
    "print('Chi-square Test of Independence:')\n",
    "print('chi2 = %f, p = %.2E, dof = %d' %(c, p, dof))\n",
    "if p < sig_p:\n",
    "    print('The resulting p-value is below the set significance threshold (%.2f).' %sig_p)"
   ]
  },
  {
   "cell_type": "markdown",
   "metadata": {},
   "source": [
    "## ?. Aggression and Fearful/Anxious Behavior"
   ]
  },
  {
   "cell_type": "markdown",
   "metadata": {},
   "source": [
    "### ?.1 Preparation of data"
   ]
  },
  {
   "cell_type": "code",
   "execution_count": null,
   "metadata": {},
   "outputs": [],
   "source": [
    "# Create the necessary dataframe.\n",
    "query = ('SELECT question_reason_for_part_3, q02_main_1, q02_main_2 FROM users JOIN dogs '\n",
    "         'USING(record_id)')\n",
    "df = pd.read_sql_query(query, con)\n",
    "df.columns = ['suspicion', 'aggression', 'fear/anxiety']\n",
    "\n",
    "# Remove biased results and discard suspicion column.\n",
    "df = df[df['suspicion'] == '0']\n",
    "df.drop('suspicion', axis=1, inplace=True)\n",
    "\n",
    "# Convert all columns to type integer.\n",
    "for col in df:\n",
    "    df[col] = pd.to_numeric(df[col])\n",
    "    \n",
    "# Create a contingency table.\n",
    "contingency = pd.crosstab(df['aggression'], df['fear/anxiety'])\n",
    "\n",
    "# Convert the cross tabulated dataframe to a series of sums.\n",
    "d = {'aggresion': contingency[0][1],\n",
    "     'fear/anxiety': contingency[1][0],\n",
    "     'both': contingency[1][1]}   \n",
    "cross_sums = pd.Series(d)\n",
    "\n",
    "# Display the cross tabulated data as a venn diagram.\n",
    "labels = cross_sums.index.values\n",
    "venn2(cross_sums, set_labels=labels[0:2])\n",
    "plt.title('Aggression and Fear/Anxiety')\n",
    "plt.show()\n",
    "\n",
    "# Execute a chi-squared test of independence.\n",
    "c, p, dof, expected = scs.chi2_contingency(contingency, correction=False)\n",
    "print('Chi-square Test of Independence:')\n",
    "print('chi2 = %f, p = %.2E, dof = %d' %(c, p, dof))\n",
    "if p < sig_p:\n",
    "    print('The resulting p-value is below the set significance threshold (%.2f).' %sig_p)"
   ]
  }
 ],
 "metadata": {
  "kernelspec": {
   "display_name": "Python 3",
   "language": "python",
   "name": "python3"
  },
  "language_info": {
   "codemirror_mode": {
    "name": "ipython",
    "version": 3
   },
   "file_extension": ".py",
   "mimetype": "text/x-python",
   "name": "python",
   "nbconvert_exporter": "python",
   "pygments_lexer": "ipython3",
   "version": "3.6.3"
  }
 },
 "nbformat": 4,
 "nbformat_minor": 2
}
