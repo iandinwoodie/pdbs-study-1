{
 "cells": [
  {
   "cell_type": "markdown",
   "metadata": {},
   "source": [
    "# Pet Dog Behavior Study Analysis"
   ]
  },
  {
   "cell_type": "markdown",
   "metadata": {},
   "source": [
    "## 1. Workspace Setup"
   ]
  },
  {
   "cell_type": "code",
   "execution_count": null,
   "metadata": {},
   "outputs": [],
   "source": [
    "import sqlite3\n",
    "import pandas as pd\n",
    "import plotly.plotly as py\n",
    "import plotly.graph_objs as go\n",
    "\n",
    "import textwrap\n",
    "import scipy.stats as scs\n",
    "from IPython.display import display\n",
    "%matplotlib inline\n",
    "import matplotlib.pyplot as plt\n",
    "import plotly.figure_factory as ff\n",
    "\n",
    "\n",
    "# Establish a connection to the database.\n",
    "con = sqlite3.connect('../data/processed/processed.db')"
   ]
  },
  {
   "cell_type": "markdown",
   "metadata": {},
   "source": [
    "## 2. Overall Prevalence of Behavior Problems\n",
    "\n",
    "Prevalence is defined as the proportion of a population found to be affected by a medical condition. This section aims to calculate the aggregate prevalence of the most common behavior problems in a given canine population."
   ]
  },
  {
   "cell_type": "markdown",
   "metadata": {},
   "source": [
    "### 2.1 Count gross and adjusted responses:"
   ]
  },
  {
   "cell_type": "code",
   "execution_count": null,
   "metadata": {},
   "outputs": [],
   "source": [
    "# Create the necessary dataframe.\n",
    "query = ('SELECT record_id, question_reason_for_part_3, q02_score FROM users JOIN dogs '\n",
    "         'USING(record_id)')\n",
    "df_gross = pd.read_sql_query(query, con)\n",
    "df_gross.columns = ['id', 'suspicion', 'problems']\n",
    "\n",
    "# Get a count of the total number of dogs.\n",
    "cnt_total_dogs = len(df_gross.index)\n",
    "\n",
    "# Get a count of the dogs with reported behavior problem.\n",
    "# If the \"problems\" column does not equal zero, then a behavior problem was reported.\n",
    "cnt_total_dogs_w_problems = len(df_gross[df_gross['problems'] != '0'].index)\n",
    "\n",
    "# Create an adjusted dataframe by removing biased results.\n",
    "# A result is considered biased if a participant listed \"suspicion of a behavior problem\" as a\n",
    "# reason for joining the study.\n",
    "df_adjusted = df_gross[df_gross['suspicion'] == '0']\n",
    "\n",
    "# Get a count of the total number of dogs from the adjusted dataframe.\n",
    "cnt_total_dogs_adjusted = len(df_adjusted.index)\n",
    "\n",
    "# Get a count of the dogs with a reported behavior problem from the adjusted dataframe.\n",
    "cnt_total_dogs_w_problems_adjusted = len(df_adjusted[df_adjusted['problems'] != '0'].index)\n",
    "\n",
    "# Display the count results.\n",
    "print('Total number of dogs: %d' %cnt_total_dogs)\n",
    "print('Total number of dogs with a reported behavior problem: %d' %cnt_total_dogs_w_problems)\n",
    "print('Adjusted total number of dogs: %d' %cnt_total_dogs_adjusted)\n",
    "print('Adjusted total number of dogs with a reported behavior problem: %d'\n",
    "      %cnt_total_dogs_w_problems_adjusted)"
   ]
  },
  {
   "cell_type": "markdown",
   "metadata": {},
   "source": [
    "### 2.2 Calculate prevalence:"
   ]
  },
  {
   "cell_type": "code",
   "execution_count": null,
   "metadata": {},
   "outputs": [],
   "source": [
    "# Calculate the gross prevalence.\n",
    "prevalence_gross = (cnt_total_dogs_w_problems / cnt_total_dogs) * 100\n",
    "\n",
    "# Calculate the adjusted prevalence.\n",
    "prevalence_adjusted = (cnt_total_dogs_w_problems_adjusted / cnt_total_dogs_adjusted) * 100\n",
    "\n",
    "# Calculate the difference between the gross and adjusted prevalence.\n",
    "diff_prevalence = prevalence_adjusted - prevalence_gross\n",
    "sign = '+' if diff_prevalence > 0 else ''\n",
    "\n",
    "# Display the prevalence results.\n",
    "print('Gross prevalence: %.2f%% (%d/%d)'\n",
    "      %(prevalence_gross, cnt_total_dogs_w_problems, cnt_total_dogs))\n",
    "print('Adjusted prevalence: %.2f%% (%d/%d)'\n",
    "      %(prevalence_adjusted, cnt_total_dogs_w_problems_adjusted, cnt_total_dogs_adjusted))\n",
    "print('Shift in prevalence as a result of adjustment: %s%.2f%%' %(sign, diff_prevalence))"
   ]
  },
  {
   "cell_type": "markdown",
   "metadata": {},
   "source": [
    "## 3. Prevalence of Individual Behavior Problems\n",
    "\n",
    "This section aims to calculate the prevalence for each behavior problem included in the study. The adjusted dataset is utilized to eliminate potential bias."
   ]
  },
  {
   "cell_type": "markdown",
   "metadata": {},
   "source": [
    "### 3.1 Determine count and prevalence for each behavior problem:"
   ]
  },
  {
   "cell_type": "code",
   "execution_count": null,
   "metadata": {},
   "outputs": [],
   "source": [
    "# Create the necessary dataframe.\n",
    "query = ('SELECT question_reason_for_part_3, q02_main_1, q02_main_2, q02_main_3, '\n",
    "         'q02_main_4, q02_main_5, q02_main_6, q02_main_7, q02_main_8, q02_main_9, '\n",
    "         'q02_main_10, q02_main_12, q02_main_13 FROM users JOIN dogs '\n",
    "         'USING(record_id)')\n",
    "df = pd.read_sql_query(query, con)\n",
    "df.columns = ['suspicion', 'aggression', 'fear/anxiety', 'compulsion', 'house soiling',\n",
    "              'excessive barking', 'jumping', 'mounting', 'fecal consumption', 'destruction',\n",
    "              'rolling in repulsive objects', 'escape', 'hyperactivity']\n",
    "\n",
    "# Remove biased results and discard suspicion column.\n",
    "df = df[df['suspicion'] == '0']\n",
    "df.drop('suspicion', axis=1, inplace=True)\n",
    "\n",
    "# Convert columns to integer type.\n",
    "for col in df:\n",
    "    df[col] = pd.to_numeric(df[col])\n",
    "\n",
    "# Get individual behavior problem counts and display as a table.\n",
    "sums = df.sum()\n",
    "sums = sums.sort_values(ascending=False)\n",
    "\n",
    "# Calculate the prevalence of each behavior problem.\n",
    "total_dogs = len(df.index)\n",
    "prevalence_cal = lambda x: (x / total_dogs) * 100\n",
    "prevalences = sums.apply(prevalence_cal)\n",
    "\n",
    "# Get individual behavior problem counts and display as a table.\n",
    "trace = go.Table(\n",
    "    header=dict(values=['Behavior Problem', 'Count', 'Prevalence (%)'],\n",
    "                fill = dict(color='#B0C4DE'),\n",
    "                align = ['left'] * 5),\n",
    "    cells=dict(values=[sums.index.values, sums.values, prevalences.values],\n",
    "               align = ['left'] * 5,\n",
    "               format = [None, 'd', '.2f']))\n",
    "data = [trace] \n",
    "layout = dict(width=700, height=450)\n",
    "fig = dict(data=data, layout=layout)\n",
    "py.iplot(fig, filename = 'styled_table')"
   ]
  },
  {
   "cell_type": "markdown",
   "metadata": {},
   "source": [
    "### 3.2 Graphical presentation of individual prevalences:"
   ]
  },
  {
   "cell_type": "code",
   "execution_count": null,
   "metadata": {},
   "outputs": [],
   "source": [
    "trace = go.Bar(\n",
    "    y=prevalences.values,\n",
    "    x=prevalences.index.values)\n",
    "data = [trace] \n",
    "layout = dict(width=700, height=450)\n",
    "fig = dict(data=data, layout=layout)\n",
    "py.iplot(data, filename='bar')"
   ]
  },
  {
   "cell_type": "markdown",
   "metadata": {},
   "source": [
    "## 3. Separation Anxiety, Noise Phobia, and Thunderstorm Phobia"
   ]
  },
  {
   "cell_type": "markdown",
   "metadata": {},
   "source": [
    "### 3.1 Preparation of data"
   ]
  },
  {
   "cell_type": "code",
   "execution_count": null,
   "metadata": {},
   "outputs": [],
   "source": [
    "# Create the necessary dataframe.\n",
    "query = ('SELECT q04_1, q04_2, q04_9 FROM dogs')\n",
    "df = pd.read_sql_query(query, con)\n",
    "df.columns = ['thunderstorm phobia', 'noise phobia', 'separation anxiety']\n",
    "for col in df:\n",
    "    df[col] = pd.to_numeric(df[col])\n",
    "    \n",
    "# Set a significance level.\n",
    "sig_p = 0.01\n",
    "    \n",
    "# Record the total number of dogs.\n",
    "cnt_total_dogs = len(df.index)\n",
    "print('Total dogs: %d' %cnt_total_dogs)"
   ]
  },
  {
   "cell_type": "markdown",
   "metadata": {},
   "source": [
    "### 3.2 Tables and calculations"
   ]
  },
  {
   "cell_type": "code",
   "execution_count": null,
   "metadata": {},
   "outputs": [],
   "source": [
    "pairs = [['thunderstorm phobia', 'noise phobia'],\n",
    "         ['thunderstorm phobia', 'separation anxiety'],\n",
    "         ['noise phobia', 'separation anxiety']\n",
    "        ]\n",
    "for pair in pairs:\n",
    "    # Create a contingency table.\n",
    "    contingency = pd.crosstab(df[pair[0]], df[pair[1]])\n",
    "    display(contingency)\n",
    "    # Execute a chi-squared test of independence.\n",
    "    print('Chi-squared Test of Independence for %s and %s:' %(pair[0], pair[1]))\n",
    "    c, p, dof, expected = scs.chi2_contingency(contingency, correction=False)\n",
    "    print('chi2 = %f, p = %.2E, dof = %d' %(c, p, dof))\n",
    "    if p < sig_p:\n",
    "        print('The resulting p-value is below the set significance threshold (%.2f).' %sig_p)"
   ]
  },
  {
   "cell_type": "markdown",
   "metadata": {},
   "source": [
    "### 3.3 Further exploration"
   ]
  },
  {
   "cell_type": "code",
   "execution_count": null,
   "metadata": {},
   "outputs": [],
   "source": [
    "# Create a contingency table.\n",
    "contingency = pd.crosstab(df['separation anxiety'], [df['noise phobia'],\n",
    "                                                     df['thunderstorm phobia']])\n",
    "display(contingency)\n",
    "\n",
    "\n",
    "# Execute a chi-squared test of independence.\n",
    "title = ('Chi-squared Test of Independence for separation anxiety and the combination of '\n",
    "         'noise and thunderstorm phobia:')\n",
    "print(textwrap.fill(title, width=90))\n",
    "c, p, dof, expected = scs.chi2_contingency(contingency, correction=False)\n",
    "print('chi2 = %f, p = %.2E, dof = %d' %(c, p, dof))\n",
    "if p < sig_p:\n",
    "    print('The resulting p-value is below the set significance threshold (%.2f).' %sig_p)"
   ]
  },
  {
   "cell_type": "markdown",
   "metadata": {},
   "source": [
    "## 4. Compulsion and Fearful/Anxious Behaviors"
   ]
  },
  {
   "cell_type": "markdown",
   "metadata": {},
   "source": [
    "### 4.1 Preparation of data"
   ]
  },
  {
   "cell_type": "code",
   "execution_count": null,
   "metadata": {},
   "outputs": [],
   "source": [
    "# Create the necessary hdataframe.\n",
    "query = ('SELECT q02_main_2, q02_main_3 FROM dogs')\n",
    "df = pd.read_sql_query(query, con)\n",
    "df.columns = ['fearful/anxious behavior', 'repetitive behavior']\n",
    "for col in df:\n",
    "    df[col] = pd.to_numeric(df[col])"
   ]
  },
  {
   "cell_type": "markdown",
   "metadata": {},
   "source": [
    "### 4.1 Tables and calculations"
   ]
  },
  {
   "cell_type": "code",
   "execution_count": null,
   "metadata": {},
   "outputs": [],
   "source": [
    "# Create a contingency table.\n",
    "contingency = pd.crosstab(df['fearful/anxious behavior'], df['repetitive behavior'])\n",
    "c_df = pd.DataFrame({'fearful/anxious': contingency[0][1],\n",
    "                     'repetitive': contingency[1][0],\n",
    "                     'both': contingency[1][1]}, index=[0])\n",
    "#display(c_df)\n",
    "table = ff.create_table(c_df)\n",
    "py.iplot(table, filename='jupyter-styled-table')"
   ]
  },
  {
   "cell_type": "code",
   "execution_count": null,
   "metadata": {},
   "outputs": [],
   "source": [
    "data = [go.Scatter(x=c_df.columns, y=c_df.sum())]\n",
    "layout = {\n",
    "    'xaxis': {\n",
    "        'showticklabels': False,\n",
    "        'autotick': False,\n",
    "        'showgrid': False,\n",
    "        'zeroline': False,\n",
    "    },\n",
    "    'yaxis': {\n",
    "        'showticklabels': False,\n",
    "        'autotick': False,\n",
    "        'showgrid': False,\n",
    "        'zeroline': False,\n",
    "    },\n",
    "    'shapes': [\n",
    "        {\n",
    "            'opacity': 0.3,\n",
    "            'xref': 'x',\n",
    "            'yref': 'y',\n",
    "            'fillcolor': 'blue',\n",
    "            'x0': 0,\n",
    "            'y0': 0,\n",
    "            'x1': 2,\n",
    "            'y1': 2,\n",
    "            'type': 'circle',\n",
    "            'line': {\n",
    "                'color': 'blue',\n",
    "            },\n",
    "        },\n",
    "        {\n",
    "            'opacity': 0.3,\n",
    "            'xref': 'x',\n",
    "            'yref': 'y',\n",
    "            'fillcolor': 'gray',\n",
    "            'x0': 1.5,\n",
    "            'y0': 0,\n",
    "            'x1': 3.5,\n",
    "            'y1': 2,\n",
    "            'type': 'circle',\n",
    "            'line': {\n",
    "                'color': 'gray',\n",
    "            },\n",
    "        }\n",
    "    ],\n",
    "    'margin': {\n",
    "        'l': 20,\n",
    "        'r': 20,\n",
    "        'b': 100\n",
    "    },\n",
    "    'height': 600,\n",
    "    'width': 800,\n",
    "}\n",
    "fig = {\n",
    "    'data': data,\n",
    "    'layout': layout,\n",
    "}\n",
    "py.iplot(fig, filename='venn-diagram')"
   ]
  },
  {
   "cell_type": "code",
   "execution_count": null,
   "metadata": {},
   "outputs": [],
   "source": [
    "# Execute a chi-squared test of independence.\n",
    "c, p, dof, expected = scs.chi2_contingency(contingency, correction=False)\n",
    "print('Chi-square Test of Independence:')\n",
    "print('chi2 = %f, p = %.2E, dof = %d' %(c, p, dof))\n",
    "if p < sig_p:\n",
    "    print('The resulting p-value is below the set significance threshold (%.2f).' %sig_p)"
   ]
  },
  {
   "cell_type": "markdown",
   "metadata": {},
   "source": [
    "## 5. Aggression and Fearful/Anxious Behavior"
   ]
  },
  {
   "cell_type": "markdown",
   "metadata": {},
   "source": [
    "### 5.1 Preparation of data"
   ]
  },
  {
   "cell_type": "code",
   "execution_count": null,
   "metadata": {},
   "outputs": [],
   "source": [
    "# Create the necessary dataframe.\n",
    "query = ('SELECT q02_main_1, q02_main_2 FROM dogs')\n",
    "df = pd.read_sql_query(query, con)\n",
    "df.columns = ['aggression', 'fearful/anxious behavior']\n",
    "for col in df:\n",
    "    df[col] = pd.to_numeric(df[col])"
   ]
  },
  {
   "cell_type": "markdown",
   "metadata": {},
   "source": [
    "### 5.1 Tables and calculations"
   ]
  },
  {
   "cell_type": "code",
   "execution_count": null,
   "metadata": {},
   "outputs": [],
   "source": [
    "# Create a contingency table.\n",
    "contingency = pd.crosstab(df['aggression'], df['fearful/anxious behavior'])\n",
    "display(contingency)\n",
    "\n",
    "# Execute a chi-squared test of independence.\n",
    "c, p, dof, expected = scs.chi2_contingency(contingency, correction=False)\n",
    "print('Chi-square Test of Independence:')\n",
    "print('chi2 = %f, p = %.2E, dof = %d' %(c, p, dof))\n",
    "if p < sig_p:\n",
    "    print('The resulting p-value is below the set significance threshold (%.2f).' %sig_p)"
   ]
  },
  {
   "cell_type": "markdown",
   "metadata": {},
   "source": [
    "## 6. Reasons for Joining the Study"
   ]
  },
  {
   "cell_type": "markdown",
   "metadata": {},
   "source": [
    "### 6.1 Preparation of data"
   ]
  },
  {
   "cell_type": "code",
   "execution_count": null,
   "metadata": {},
   "outputs": [],
   "source": [
    "# Create the necessary dataframe.\n",
    "query = ('SELECT question_reason_for_part_1, question_reason_for_part_2, '  \n",
    "         'question_reason_for_part_3, question_reason_for_part_4, '\n",
    "         'question_reason_for_part_5 FROM users')\n",
    "df = pd.read_sql_query(query, con)\n",
    "df.columns = ['Love', 'Shelter Animals', 'Behavior Problems', 'Work', 'Other']\n",
    "for col in df:\n",
    "    df[col] = pd.to_numeric(df[col])"
   ]
  },
  {
   "cell_type": "markdown",
   "metadata": {},
   "source": [
    "### 6.2 Breakdown of reasons for joining the study"
   ]
  },
  {
   "cell_type": "code",
   "execution_count": null,
   "metadata": {},
   "outputs": [],
   "source": [
    "# Create a bar graph to illustrate breakdown of responses.\n",
    "data = [go.Bar(x=df.columns, y=df.sum())]\n",
    "layout = go.Layout(title=\"Motivation for Participation\",\n",
    "                   xaxis=dict(title='Motivation'),\n",
    "                   yaxis=dict(title='Total'),\n",
    "                   autosize=False, width=500, height=500)\n",
    "fig = go.Figure(data=data, layout=layout)\n",
    "py.iplot(fig, filename='jupyter-styled-bar')\n",
    "\n",
    "# NOTE: This does not include a count of users who did not provide a reason."
   ]
  }
 ],
 "metadata": {
  "kernelspec": {
   "display_name": "Python 3",
   "language": "python",
   "name": "python3"
  },
  "language_info": {
   "codemirror_mode": {
    "name": "ipython",
    "version": 3
   },
   "file_extension": ".py",
   "mimetype": "text/x-python",
   "name": "python",
   "nbconvert_exporter": "python",
   "pygments_lexer": "ipython3",
   "version": "3.6.3"
  }
 },
 "nbformat": 4,
 "nbformat_minor": 2
}
