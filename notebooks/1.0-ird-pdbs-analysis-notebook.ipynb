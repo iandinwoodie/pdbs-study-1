{
 "cells": [
  {
   "cell_type": "raw",
   "metadata": {},
   "source": [
    "<script>\n",
    "  function code_toggle() {\n",
    "    if (code_shown){\n",
    "      $('div.input').hide('500');\n",
    "      $('#toggleButton').val('Show Code')\n",
    "    } else {\n",
    "      $('div.input').show('500');\n",
    "      $('#toggleButton').val('Hide Code')\n",
    "    }\n",
    "    code_shown = !code_shown\n",
    "  }\n",
    "\n",
    "  $( document ).ready(function(){\n",
    "    code_shown=false;\n",
    "    $('div.input').hide()\n",
    "  });\n",
    "</script>\n",
    "<form action=\"javascript:code_toggle()\"><input type=\"submit\" id=\"toggleButton\" value=\"Show Code\"></form>"
   ]
  },
  {
   "cell_type": "markdown",
   "metadata": {},
   "source": [
    "# <center>Demographics and Comorbidity of Behavior Problems in Dogs</center>\n",
    "<center>Ian R. Dinwoodie, Vivian Zottola, Barbara Dwyer, Donna Gleason, Nicholas H. Dodman</center>"
   ]
  },
  {
   "cell_type": "code",
   "execution_count": 54,
   "metadata": {},
   "outputs": [
    {
     "data": {
      "text/html": [
       "<script>requirejs.config({paths: { 'plotly': ['https://cdn.plot.ly/plotly-latest.min']},});if(!window.Plotly) {{require(['plotly'],function(plotly) {window.Plotly=plotly;});}}</script>"
      ],
      "text/vnd.plotly.v1+html": [
       "<script>requirejs.config({paths: { 'plotly': ['https://cdn.plot.ly/plotly-latest.min']},});if(!window.Plotly) {{require(['plotly'],function(plotly) {window.Plotly=plotly;});}}</script>"
      ]
     },
     "metadata": {},
     "output_type": "display_data"
    }
   ],
   "source": [
    "import sqlite3\n",
    "import pandas as pd\n",
    "import plotly.offline as py\n",
    "import plotly.graph_objs as go\n",
    "from matplotlib_venn import venn2, venn3\n",
    "import scipy.stats as scs\n",
    "import textwrap\n",
    "import matplotlib.pyplot as plt\n",
    "import numpy as np\n",
    "import seaborn as sns\n",
    "from  itertools import combinations\n",
    "import os\n",
    "\n",
    "# IPython magics for this notebook.\n",
    "%matplotlib inline\n",
    "\n",
    "# Initiate plotly IPython notebook mode.\n",
    "py.init_notebook_mode(connected=True)"
   ]
  },
  {
   "cell_type": "code",
   "execution_count": 55,
   "metadata": {},
   "outputs": [],
   "source": [
    "# Document Settings\n",
    "SAVE_OUTPUT = False\n",
    "SAVE_DIR = os.path.join(os.getcwd(), '..', 'reports', 'figures')"
   ]
  },
  {
   "cell_type": "code",
   "execution_count": 56,
   "metadata": {},
   "outputs": [],
   "source": [
    "class FieldRegistry:\n",
    "    \n",
    "    def __init__(self):\n",
    "        self.fields = {}\n",
    "        self.labels = {}\n",
    "    \n",
    "    def addToRegistry(self, index, labels, fields, category):\n",
    "        self.labels[category] = {}\n",
    "        for counter, value in enumerate(labels, 1):\n",
    "            key = '{}{:02}'.format(index, counter)\n",
    "            self.labels[category][key] = value\n",
    "        self.fields[category] = fields\n",
    "        \n",
    "FR = FieldRegistry()   \n",
    "CATEGORY = ['Aggression', 'Fear/Anxiety', 'Compulsion', 'House Soiling', 'Excessive Barking', \n",
    "            'Jumping', 'Mounting/Humping', 'Consuming Feces', 'Destructive Behavior',\n",
    "            'Rolling in Repulsive Material', 'Running Away/Escaping', \n",
    "            'Overactivity/Hyperactivity']\n",
    "        \n",
    "# Aggression.\n",
    "labels = ['Familiar people in the home', 'Stangers visiting the home',\n",
    "          'Stangers away from the home', 'Another dog in the home',\n",
    "          'Unfamiliar dogs visiting the home', 'Unfamiliar dogs on walks (off lead)',\n",
    "          'Unfamiliar dogs on walks (on lead)', 'Veterinarians', 'Trainers', 'Groomers',\n",
    "          'Animals other than dogs in the home']\n",
    "fields = ['q03_main_1', 'q03_main_2', 'q03_main_3', 'q03_main_4', 'q03_main_5', 'q03_main_6',\n",
    "          'q03_main_7', 'q03_main_8', 'q03_main_9', 'q03_main_10', 'q03_main_11']\n",
    "FR.addToRegistry('A', labels, fields, CATEGORY[0])\n",
    "\n",
    "# Fear/anxiety.\n",
    "labels = ['Thunderstorm phobia', 'Noise phobia', 'Crowd phobia', 'Phobia of other dogs',\n",
    "          'PTSD', 'Generalized anxiety', 'Situational anxiety', 'Veterinarian phobia',\n",
    "          'Separation anxiety', 'Travel anxiety', 'Other']\n",
    "fields = ['q04_1', 'q04_2', 'q04_3', 'q04_4', 'q04_5', 'q04_6', 'q04_7', 'q04_8', 'q04_9',\n",
    "          'q04_10', 'q04_11']\n",
    "FR.addToRegistry('B', labels, fields, CATEGORY[1])\n",
    "\n",
    "# Compulsion.\n",
    "labels = ['Spinning', 'Tail chasing', 'Shadow/light chasing', 'Running in geometric patterns',\n",
    "          'Licking of wrist/hock', 'Fly snapping', 'Sucking flank region/blankets',\n",
    "          'Tennis ball fetish', 'Collecting/arranging objects', 'Nail biting',\n",
    "          'Digging in yard', 'Stone/rock chewing', 'Other']\n",
    "fields = ['q05_main_1', 'q05_main_2', 'q05_main_3', 'q05_main_4', 'q05_main_5', 'q05_main_6',\n",
    "          'q05_main_7', 'q05_main_8', 'q05_main_9', 'q05_main_10', 'q05_main_11',\n",
    "          'q05_main_12', 'q05_main_13']\n",
    "FR.addToRegistry('C', labels, fields, CATEGORY[2])\n",
    "\n",
    "# House soiling.\n",
    "## soil_type = ['Urine', 'Feces', 'Urine and feces']\n",
    "labels = ['Urine', 'Feces', 'Urine and feces', 'Specific locations', 'Anywhere',\n",
    "          'Owner present', 'Owner away', 'Excited/overwhelmed']\n",
    "fields = ['q06_soil_type_1', 'q06_soil_type_2', 'q06_soil_type_3','q06_soil_location_1',\n",
    "          'q06_soil_location_2', 'q06_situation_1', 'q06_situation_2', 'q06_situation_3']\n",
    "FR.addToRegistry('D', labels, fields, CATEGORY[3])\n",
    "\n",
    "# Excessive barking.\n",
    "labels = ['Owner present', 'Owner away', 'To get attention', 'At tiggers (inside)',\n",
    "          'At triggers (outside)', 'During car rides']\n",
    "fields = ['q07_sitatuon_1', 'q07_sitatuon_2', 'q07_sitatuon_3', 'q07_sitatuon_4',\n",
    "          'q07_sitatuon_5', 'q07_sitatuon_6']\n",
    "FR.addToRegistry('E', labels, fields, CATEGORY[4])\n",
    "\n",
    "# Jumping.\n",
    "labels = ['Owner', 'Family members', 'Strangers']\n",
    "fields = ['q08_who_1', 'q08_who_2', 'q08_who_3']\n",
    "FR.addToRegistry('F', labels, fields, CATEGORY[5])\n",
    "\n",
    "# Mounting/humping.\n",
    "labels = ['People', 'Familiar dogs', 'Unfamiliar dogs', 'Inanimate objects']\n",
    "fields = ['q09_main_1', 'q09_main_2', 'q09_main_3', 'q09_main_4']\n",
    "FR.addToRegistry('G', labels, fields, CATEGORY[6])\n",
    "\n",
    "# Consuming feces.\n",
    "labels = ['Their own', \"Other dogs'\", \"Other species'\"]\n",
    "fields = ['q10_main_1', 'q10_main_2', 'q10_main_3']\n",
    "FR.addToRegistry('H', labels, fields, CATEGORY[7])\n",
    "\n",
    "# Destructive behavior.\n",
    "labels = ['Owner is home', 'Owner is away']\n",
    "fields = ['q11_situation_1', 'q11_situation_2']\n",
    "FR.addToRegistry('I', labels, fields, CATEGORY[8])\n",
    "\n",
    "# Rolling in repulsive materials.\n",
    "labels = ['Urine', 'Feces', 'Dead Stuff', 'Garbage']\n",
    "fields = ['q12_main_1', 'q12_main_2', 'q12_main_3', 'q12_main_4']\n",
    "FR.addToRegistry('J', labels, fields, CATEGORY[9])\n",
    "\n",
    "# Running away/escaping.\n",
    "labels = ['Escapes when out', 'Escapes from home', 'Escapes from confinement',\n",
    "          'Returns home after escape']\n",
    "fields = ['q14_out', 'q14_house', 'q14_conf', 'q14_return']\n",
    "FR.addToRegistry('K', labels, fields, CATEGORY[10])\n",
    "\n",
    "# Overactivity/hyperactivity.\n",
    "labels = ['Constant moving/jumping', 'Difficulty settling', 'Highly distractible',\n",
    "          'Impulsive']\n",
    "fields = ['q15_main_1', 'q15_main_2', 'q15_main_3', 'q15_main_4']\n",
    "FR.addToRegistry('L', labels, fields, CATEGORY[11])"
   ]
  },
  {
   "cell_type": "code",
   "execution_count": 57,
   "metadata": {},
   "outputs": [],
   "source": [
    "# Data Globals\n",
    "SIG_P = 0.01\n",
    "TOTAL_USERS = 0\n",
    "REMAINING_USERS = 0\n",
    "TOTAL_DOGS = 0\n",
    "REMAINING_DOGS = 0\n",
    "PREVALENCE = lambda x: (x / REMAINING_DOGS) * 100\n",
    "CHI2_MATRIX = pd.DataFrame()\n",
    "\n",
    "# Database Globals\n",
    "USER_TABLE = 'users'\n",
    "DOG_TABLE = 'dogs'\n",
    "BIAS_FILTER = '''\n",
    "    USING (record_id)\n",
    "    WHERE question_reason_for_part_3 = 0\n",
    "    OR (question_reason_for_part_3 = 1 AND q01_main != 1)'''\n",
    "CON = sqlite3.connect('../data/processed/processed.db')"
   ]
  },
  {
   "cell_type": "code",
   "execution_count": 58,
   "metadata": {},
   "outputs": [],
   "source": [
    "def createStringDataFrame(table, fields, labels, filtered=True):\n",
    "    query = 'SELECT ' + fields + ' FROM ' + table\n",
    "    if filtered:\n",
    "        table2 = USER_TABLE if table == DOG_TABLE else DOG_TABLE\n",
    "        query += ' JOIN ' + table2 + ' ' + BIAS_FILTER\n",
    "    df = pd.read_sql_query(query, CON)\n",
    "    df.columns = labels\n",
    "    return df\n",
    "\n",
    "def convertToNumeric(df):\n",
    "    for col in df:\n",
    "        df[col] = pd.to_numeric(df[col])\n",
    "    return df\n",
    "\n",
    "def createNumericDataFrame(table, fields, labels, filtered=True):\n",
    "    df = createStringDataFrame(table, fields, labels, filtered)\n",
    "    return convertToNumeric(df)\n",
    "\n",
    "def replaceFields(df, column, replacement_dict):\n",
    "    df[column].replace(replacement_dict, inplace=True)\n",
    "\n",
    "def getValueCountAndPrevalence(df, field):\n",
    "    s = df[field].value_counts()\n",
    "    p = s.apply(PREVALENCE)\n",
    "    rv = pd.concat([s, p], axis=1)\n",
    "    rv.columns = ['sum', 'prevalence']\n",
    "    return rv\n",
    "    \n",
    "def createChiSquaredMatrix():\n",
    "    fields = ''\n",
    "    for cat, sublist in FR.fields.items():\n",
    "        for field in sublist:\n",
    "            fields += '{}, '.format(field)\n",
    "    fields = fields[:-2]\n",
    "    labels = []\n",
    "    for cat, subdict in FR.labels.items():\n",
    "        for key, value in  subdict.items():\n",
    "            labels.append(key)\n",
    "    df = createNumericDataFrame(DOG_TABLE, fields, labels, filtered=True)\n",
    "    cols = []\n",
    "    chi2 = {}\n",
    "    for col in df:\n",
    "        cols.append(col)\n",
    "        chi2[col] = {}\n",
    "    pairs = list(combinations(df.columns,2))\n",
    "    for pair in pairs:\n",
    "        contingency = pd.crosstab(df[pair[0]], df[pair[1]])\n",
    "        c, p, dof, expected = scs.chi2_contingency(contingency, correction=False)\n",
    "        chi2[pair[0]][pair[1]] = c\n",
    "        chi2[pair[1]][pair[0]] = c\n",
    "    df = pd.DataFrame(chi2).sort_index(ascending=True)\n",
    "    return df\n",
    "\n",
    "def checkSignificance(p, sig=SIG_P):\n",
    "    if p < sig:\n",
    "        print('The resulting p-value is below the set significance threshold (%.2f).' %sig)"
   ]
  },
  {
   "cell_type": "markdown",
   "metadata": {},
   "source": [
    "## 1. Participant Demographics"
   ]
  },
  {
   "cell_type": "markdown",
   "metadata": {},
   "source": [
    "### 1.1 Number of Participants:"
   ]
  },
  {
   "cell_type": "code",
   "execution_count": 59,
   "metadata": {},
   "outputs": [
    {
     "name": "stdout",
     "output_type": "stream",
     "text": [
      "Total number of participants: 3201\n"
     ]
    }
   ],
   "source": [
    "df = createNumericDataFrame(USER_TABLE, 'COUNT(*)', ['count'], filtered=False)\n",
    "# Assign value to global.\n",
    "TOTAL_USERS = df['count'][0]\n",
    "print('Total number of participants: %d' %TOTAL_USERS)"
   ]
  },
  {
   "cell_type": "markdown",
   "metadata": {},
   "source": [
    "### 1.2 Motivation for Enrollment:"
   ]
  },
  {
   "cell_type": "code",
   "execution_count": 60,
   "metadata": {},
   "outputs": [
    {
     "data": {
      "text/html": [
       "<div>\n",
       "<style scoped>\n",
       "    .dataframe tbody tr th:only-of-type {\n",
       "        vertical-align: middle;\n",
       "    }\n",
       "\n",
       "    .dataframe tbody tr th {\n",
       "        vertical-align: top;\n",
       "    }\n",
       "\n",
       "    .dataframe thead th {\n",
       "        text-align: right;\n",
       "    }\n",
       "</style>\n",
       "<table border=\"1\" class=\"dataframe\">\n",
       "  <thead>\n",
       "    <tr style=\"text-align: right;\">\n",
       "      <th>Motivation</th>\n",
       "      <th>Total</th>\n",
       "    </tr>\n",
       "  </thead>\n",
       "  <tbody>\n",
       "    <tr>\n",
       "      <th>Love for dogs</th>\n",
       "      <td>2595</td>\n",
       "    </tr>\n",
       "    <tr>\n",
       "      <th>You help shelter animals</th>\n",
       "      <td>1377</td>\n",
       "    </tr>\n",
       "    <tr>\n",
       "      <th>Suspicion of behavior problems</th>\n",
       "      <td>830</td>\n",
       "    </tr>\n",
       "    <tr>\n",
       "      <th>Work with animals</th>\n",
       "      <td>1049</td>\n",
       "    </tr>\n",
       "    <tr>\n",
       "      <th>Other</th>\n",
       "      <td>273</td>\n",
       "    </tr>\n",
       "  </tbody>\n",
       "</table>\n",
       "</div>"
      ],
      "text/plain": [
       "Motivation                      Total\n",
       "Love for dogs                    2595\n",
       "You help shelter animals         1377\n",
       "Suspicion of behavior problems    830\n",
       "Work with animals                1049\n",
       "Other                             273"
      ]
     },
     "metadata": {},
     "output_type": "display_data"
    }
   ],
   "source": [
    "# Create the necessary dataframe.\n",
    "fields = ('question_reason_for_part_1, question_reason_for_part_2, '\n",
    "          'question_reason_for_part_3, question_reason_for_part_4, '\n",
    "          'question_reason_for_part_5')\n",
    "labels = ['Love for dogs', 'You help shelter animals', 'Suspicion of behavior problems',\n",
    "          'Work with animals', 'Other']\n",
    "df = createNumericDataFrame(USER_TABLE, fields, labels, filtered=False)\n",
    "s = df.sum(0, skipna=False)\n",
    "df = pd.DataFrame(index=s.index, data={'Total':s.values})\n",
    "df.columns.name = 'Motivation'\n",
    "display(df)\n",
    "# NOTE: This does not include a count of users who did not provide a reason."
   ]
  },
  {
   "cell_type": "markdown",
   "metadata": {},
   "source": [
    "### 1.3 Suspicion of behavior problems as sole motivating factor:"
   ]
  },
  {
   "cell_type": "code",
   "execution_count": 134,
   "metadata": {},
   "outputs": [
    {
     "name": "stdout",
     "output_type": "stream",
     "text": [
      "Number of users who reported suspicion of behavior problems as their sole motivation: 98\n"
     ]
    }
   ],
   "source": [
    "# Create the necessary dataframe.\n",
    "fields = ('question_reason_for_part_1, question_reason_for_part_2, '\n",
    "          'question_reason_for_part_3, question_reason_for_part_4, '\n",
    "          'question_reason_for_part_5')\n",
    "labels = ['love for dogs', 'you help shelter animals', 'suspicion of behavior problems',\n",
    "          'work with animals', 'other']\n",
    "df = createNumericDataFrame(USER_TABLE, fields, labels, filtered=False)\n",
    "df = df[df[labels[2]] == 1]\n",
    "df['sum'] = df.sum(axis=1)\n",
    "df = df[df['sum'] == 1]\n",
    "s = df.sum(0, skipna=False)\n",
    "\n",
    "print('Number of users who reported suspicion of behavior problems as their sole motivation: %d' %(s.iloc[2]))"
   ]
  },
  {
   "cell_type": "markdown",
   "metadata": {},
   "source": [
    "## 2 Participating Dog Demographics"
   ]
  },
  {
   "cell_type": "markdown",
   "metadata": {},
   "source": [
    "### 2.1 Number of Participating Dogs:"
   ]
  },
  {
   "cell_type": "code",
   "execution_count": 61,
   "metadata": {},
   "outputs": [
    {
     "name": "stdout",
     "output_type": "stream",
     "text": [
      "Total number of participating dogs: 5018\n"
     ]
    }
   ],
   "source": [
    "df = createNumericDataFrame(DOG_TABLE, 'COUNT(*)', ['count'], filtered=False)\n",
    "# Assign value to global.\n",
    "TOTAL_DOGS = df['count'][0]\n",
    "print('Total number of participating dogs: %d' %TOTAL_DOGS)"
   ]
  },
  {
   "cell_type": "markdown",
   "metadata": {},
   "source": [
    "### 2.2 Adjusting Sample for Bias\n",
    "\n",
    "It is in this section that we define and apply a filter to remove bias from the data set.\n",
    " \n",
    "The current bias filter focuses largely on the participants' motivation for enrollment (\"Why did you decide to participate in this survey?\", pg. 1). The answer choice \"my dog may have a behavior problem\" was included to identify participants who enrolled with motivational bias. However, participants may not have a motiivational bias towards all of their participating dogs. To account for this, the question \"do you believe \\[dog name\\] has ever had a behavior problem\" (pg. 4) was used in conjunction with the enrollment motivation to identify the dogs most likely to be influenced by the bias of the participating owner. "
   ]
  },
  {
   "cell_type": "code",
   "execution_count": 62,
   "metadata": {},
   "outputs": [
    {
     "name": "stdout",
     "output_type": "stream",
     "text": [
      "Pre-adjustment Responses (Gross):\n",
      "Total number of owners: 3201\n",
      "Total number of dogs: 5018\n",
      "Total number of dogs with a reported behavior problem: 4407\n",
      "\n",
      "Post-adjustment Responses (Adjusted):\n",
      "Total number of owners: 2480\n",
      "Total number of dogs: 4114\n",
      "Total number of dogs with a reported behavior problem: 3512\n"
     ]
    }
   ],
   "source": [
    "fields = 'q02_score'\n",
    "labels = ['Score']\n",
    "\n",
    "df_gross = createNumericDataFrame(DOG_TABLE, fields, labels, filtered=False)\n",
    "cnt_total_dogs_w_problems = len(df_gross[df_gross[labels[0]] != 0].index)\n",
    "\n",
    "df_adjusted_dogs = createNumericDataFrame(DOG_TABLE, fields, labels)\n",
    "REMAINING_DOGS = len(df_adjusted_dogs.index)\n",
    "cnt_total_dogs_w_problems_adjusted = len(df_adjusted_dogs[df_adjusted_dogs[labels[0]] != 0].index)\n",
    "\n",
    "df_adjusted_users = createNumericDataFrame(USER_TABLE, 'COUNT(DISTINCT email)', ['count'])\n",
    "REMAINING_USERS = df_adjusted_users['count'][0]\n",
    "\n",
    "\n",
    "# Display the count results.\n",
    "print('Pre-adjustment Responses (Gross):')\n",
    "print('Total number of owners: %d' %TOTAL_USERS)\n",
    "print('Total number of dogs: %d' %TOTAL_DOGS)\n",
    "print('Total number of dogs with a reported behavior problem: %d' %cnt_total_dogs_w_problems)\n",
    "\n",
    "print('\\nPost-adjustment Responses (Adjusted):')\n",
    "print('Total number of owners: %d' %REMAINING_USERS)\n",
    "print('Total number of dogs: %d' %REMAINING_DOGS)\n",
    "print('Total number of dogs with a reported behavior problem: %d'\n",
    "      %cnt_total_dogs_w_problems_adjusted)"
   ]
  },
  {
   "cell_type": "markdown",
   "metadata": {},
   "source": [
    "### 2.3 Prevalence of Overall Behavior Problems\n",
    "\n",
    "Prevalence is defined as the proportion of a population found to be affected by a medical condition. This section aims to calculate the aggregate prevalence of the most common behavior problems in a given canine population."
   ]
  },
  {
   "cell_type": "code",
   "execution_count": 63,
   "metadata": {},
   "outputs": [
    {
     "name": "stdout",
     "output_type": "stream",
     "text": [
      "Pre-adjustment prevalence: 87.82% (4407/5018 dogs)\n",
      "Post-adjustment prevalence: 85.37% (3512/4114 dogs)\n",
      "Shift in prevalence as a result of adjustment: -2.46%\n"
     ]
    }
   ],
   "source": [
    "# Calculate the gross prevalence.\n",
    "prevalence_gross = (cnt_total_dogs_w_problems / TOTAL_DOGS) * 100\n",
    "\n",
    "# Calculate the adjusted prevalence.\n",
    "prevalence_adjusted = PREVALENCE(cnt_total_dogs_w_problems_adjusted)\n",
    "\n",
    "# Calculate the difference between the gross and adjusted prevalence.\n",
    "diff_prevalence = prevalence_adjusted - prevalence_gross\n",
    "sign = '+' if diff_prevalence > 0 else ''\n",
    "\n",
    "# Display the prevalence results.\n",
    "print('Pre-adjustment prevalence: %.2f%% (%d/%d dogs)'\n",
    "      %(prevalence_gross, cnt_total_dogs_w_problems, TOTAL_DOGS))\n",
    "print('Post-adjustment prevalence: %.2f%% (%d/%d dogs)'\n",
    "      %(prevalence_adjusted, cnt_total_dogs_w_problems_adjusted, REMAINING_DOGS))\n",
    "print('Shift in prevalence as a result of adjustment: %s%.2f%%'\n",
    "      %(sign, diff_prevalence))"
   ]
  },
  {
   "cell_type": "markdown",
   "metadata": {},
   "source": [
    "### 2.X Number of behavior problems per dog:"
   ]
  },
  {
   "cell_type": "code",
   "execution_count": 102,
   "metadata": {},
   "outputs": [
    {
     "data": {
      "text/html": [
       "<div>\n",
       "<style scoped>\n",
       "    .dataframe tbody tr th:only-of-type {\n",
       "        vertical-align: middle;\n",
       "    }\n",
       "\n",
       "    .dataframe tbody tr th {\n",
       "        vertical-align: top;\n",
       "    }\n",
       "\n",
       "    .dataframe thead th {\n",
       "        text-align: right;\n",
       "    }\n",
       "</style>\n",
       "<table border=\"1\" class=\"dataframe\">\n",
       "  <thead>\n",
       "    <tr style=\"text-align: right;\">\n",
       "      <th></th>\n",
       "      <th>number of behavior problems</th>\n",
       "    </tr>\n",
       "  </thead>\n",
       "  <tbody>\n",
       "    <tr>\n",
       "      <th>count</th>\n",
       "      <td>4114.000000</td>\n",
       "    </tr>\n",
       "    <tr>\n",
       "      <th>mean</th>\n",
       "      <td>2.266650</td>\n",
       "    </tr>\n",
       "    <tr>\n",
       "      <th>std</th>\n",
       "      <td>1.824842</td>\n",
       "    </tr>\n",
       "    <tr>\n",
       "      <th>min</th>\n",
       "      <td>0.000000</td>\n",
       "    </tr>\n",
       "    <tr>\n",
       "      <th>25%</th>\n",
       "      <td>1.000000</td>\n",
       "    </tr>\n",
       "    <tr>\n",
       "      <th>50%</th>\n",
       "      <td>2.000000</td>\n",
       "    </tr>\n",
       "    <tr>\n",
       "      <th>75%</th>\n",
       "      <td>3.000000</td>\n",
       "    </tr>\n",
       "    <tr>\n",
       "      <th>max</th>\n",
       "      <td>12.000000</td>\n",
       "    </tr>\n",
       "  </tbody>\n",
       "</table>\n",
       "</div>"
      ],
      "text/plain": [
       "       number of behavior problems\n",
       "count                  4114.000000\n",
       "mean                      2.266650\n",
       "std                       1.824842\n",
       "min                       0.000000\n",
       "25%                       1.000000\n",
       "50%                       2.000000\n",
       "75%                       3.000000\n",
       "max                      12.000000"
      ]
     },
     "metadata": {},
     "output_type": "display_data"
    },
    {
     "data": {
      "text/html": [
       "<div>\n",
       "<style scoped>\n",
       "    .dataframe tbody tr th:only-of-type {\n",
       "        vertical-align: middle;\n",
       "    }\n",
       "\n",
       "    .dataframe tbody tr th {\n",
       "        vertical-align: top;\n",
       "    }\n",
       "\n",
       "    .dataframe thead th {\n",
       "        text-align: right;\n",
       "    }\n",
       "</style>\n",
       "<table border=\"1\" class=\"dataframe\">\n",
       "  <thead>\n",
       "    <tr style=\"text-align: right;\">\n",
       "      <th>number of behavior problems</th>\n",
       "      <th>total</th>\n",
       "    </tr>\n",
       "  </thead>\n",
       "  <tbody>\n",
       "    <tr>\n",
       "      <th>1</th>\n",
       "      <td>1058</td>\n",
       "    </tr>\n",
       "    <tr>\n",
       "      <th>2</th>\n",
       "      <td>912</td>\n",
       "    </tr>\n",
       "    <tr>\n",
       "      <th>3</th>\n",
       "      <td>659</td>\n",
       "    </tr>\n",
       "    <tr>\n",
       "      <th>0</th>\n",
       "      <td>602</td>\n",
       "    </tr>\n",
       "    <tr>\n",
       "      <th>4</th>\n",
       "      <td>416</td>\n",
       "    </tr>\n",
       "    <tr>\n",
       "      <th>5</th>\n",
       "      <td>218</td>\n",
       "    </tr>\n",
       "    <tr>\n",
       "      <th>6</th>\n",
       "      <td>123</td>\n",
       "    </tr>\n",
       "    <tr>\n",
       "      <th>7</th>\n",
       "      <td>71</td>\n",
       "    </tr>\n",
       "    <tr>\n",
       "      <th>8</th>\n",
       "      <td>30</td>\n",
       "    </tr>\n",
       "    <tr>\n",
       "      <th>9</th>\n",
       "      <td>17</td>\n",
       "    </tr>\n",
       "    <tr>\n",
       "      <th>10</th>\n",
       "      <td>5</td>\n",
       "    </tr>\n",
       "    <tr>\n",
       "      <th>11</th>\n",
       "      <td>2</td>\n",
       "    </tr>\n",
       "    <tr>\n",
       "      <th>12</th>\n",
       "      <td>1</td>\n",
       "    </tr>\n",
       "  </tbody>\n",
       "</table>\n",
       "</div>"
      ],
      "text/plain": [
       "number of behavior problems  total\n",
       "1                             1058\n",
       "2                              912\n",
       "3                              659\n",
       "0                              602\n",
       "4                              416\n",
       "5                              218\n",
       "6                              123\n",
       "7                               71\n",
       "8                               30\n",
       "9                               17\n",
       "10                               5\n",
       "11                               2\n",
       "12                               1"
      ]
     },
     "metadata": {},
     "output_type": "display_data"
    }
   ],
   "source": [
    "fields = 'q02_score'\n",
    "labels = ['number of behavior problems']\n",
    "df = createNumericDataFrame(DOG_TABLE, fields, labels)\n",
    "display(df.describe())\n",
    "\n",
    "df = df.apply(pd.value_counts)\n",
    "df.rename(index=str, columns={labels[0]: \"total\"}, inplace=True)\n",
    "df.columns.name = labels[0]\n",
    "display(df)"
   ]
  },
  {
   "cell_type": "markdown",
   "metadata": {},
   "source": [
    "### 2.X Number of dogs per source of origin:"
   ]
  },
  {
   "cell_type": "code",
   "execution_count": 65,
   "metadata": {},
   "outputs": [
    {
     "data": {
      "text/html": [
       "<div>\n",
       "<style scoped>\n",
       "    .dataframe tbody tr th:only-of-type {\n",
       "        vertical-align: middle;\n",
       "    }\n",
       "\n",
       "    .dataframe tbody tr th {\n",
       "        vertical-align: top;\n",
       "    }\n",
       "\n",
       "    .dataframe thead th {\n",
       "        text-align: right;\n",
       "    }\n",
       "</style>\n",
       "<table border=\"1\" class=\"dataframe\">\n",
       "  <thead>\n",
       "    <tr style=\"text-align: right;\">\n",
       "      <th>origin</th>\n",
       "      <th>total</th>\n",
       "    </tr>\n",
       "  </thead>\n",
       "  <tbody>\n",
       "    <tr>\n",
       "      <th>rescue</th>\n",
       "      <td>1787</td>\n",
       "    </tr>\n",
       "    <tr>\n",
       "      <th>breeder</th>\n",
       "      <td>1350</td>\n",
       "    </tr>\n",
       "    <tr>\n",
       "      <th>friends/family</th>\n",
       "      <td>343</td>\n",
       "    </tr>\n",
       "    <tr>\n",
       "      <th>other</th>\n",
       "      <td>224</td>\n",
       "    </tr>\n",
       "    <tr>\n",
       "      <th>self-bred</th>\n",
       "      <td>136</td>\n",
       "    </tr>\n",
       "    <tr>\n",
       "      <th>found</th>\n",
       "      <td>115</td>\n",
       "    </tr>\n",
       "    <tr>\n",
       "      <th>online (non-rescue)</th>\n",
       "      <td>77</td>\n",
       "    </tr>\n",
       "    <tr>\n",
       "      <th>pet store</th>\n",
       "      <td>51</td>\n",
       "    </tr>\n",
       "    <tr>\n",
       "      <th>no response</th>\n",
       "      <td>31</td>\n",
       "    </tr>\n",
       "  </tbody>\n",
       "</table>\n",
       "</div>"
      ],
      "text/plain": [
       "origin               total\n",
       "rescue                1787\n",
       "breeder               1350\n",
       "friends/family         343\n",
       "other                  224\n",
       "self-bred              136\n",
       "found                  115\n",
       "online (non-rescue)     77\n",
       "pet store               51\n",
       "no response             31"
      ]
     },
     "metadata": {},
     "output_type": "display_data"
    }
   ],
   "source": [
    "# Construct the dataframe.\n",
    "fields = 'acquisition_source'\n",
    "labels = ['origin']\n",
    "df = createStringDataFrame(DOG_TABLE, fields, labels)\n",
    "# Rescue fields (online: 1, in-person: 4) were combined in the database.\n",
    "replacements = {'':'no response', '1': 'rescue', '2': 'online (non-rescue)', '3': 'pet store', '5': 'breeder',\n",
    "                '6': 'self-bred', '7': 'friends/family', '8': 'found', '9': 'other'}\n",
    "replaceFields(df, labels[0], replacements)\n",
    "df = df.apply(pd.value_counts)\n",
    "df.rename(index=str, columns={labels[0]: \"total\"}, inplace=True)\n",
    "df.columns.name = labels[0]\n",
    "display(df)"
   ]
  },
  {
   "cell_type": "markdown",
   "metadata": {},
   "source": [
    "### 2.4 Gender:"
   ]
  },
  {
   "cell_type": "code",
   "execution_count": 66,
   "metadata": {},
   "outputs": [
    {
     "data": {
      "text/html": [
       "<div>\n",
       "<style scoped>\n",
       "    .dataframe tbody tr th:only-of-type {\n",
       "        vertical-align: middle;\n",
       "    }\n",
       "\n",
       "    .dataframe tbody tr th {\n",
       "        vertical-align: top;\n",
       "    }\n",
       "\n",
       "    .dataframe thead th {\n",
       "        text-align: right;\n",
       "    }\n",
       "</style>\n",
       "<table border=\"1\" class=\"dataframe\">\n",
       "  <thead>\n",
       "    <tr style=\"text-align: right;\">\n",
       "      <th>gender</th>\n",
       "      <th>total</th>\n",
       "    </tr>\n",
       "  </thead>\n",
       "  <tbody>\n",
       "    <tr>\n",
       "      <th>female</th>\n",
       "      <td>2095</td>\n",
       "    </tr>\n",
       "    <tr>\n",
       "      <th>male</th>\n",
       "      <td>2005</td>\n",
       "    </tr>\n",
       "    <tr>\n",
       "      <th>no response</th>\n",
       "      <td>14</td>\n",
       "    </tr>\n",
       "  </tbody>\n",
       "</table>\n",
       "</div>"
      ],
      "text/plain": [
       "gender       total\n",
       "female        2095\n",
       "male          2005\n",
       "no response     14"
      ]
     },
     "metadata": {},
     "output_type": "display_data"
    }
   ],
   "source": [
    "# Construct the dataframe.\n",
    "fields = 'dog_sex'\n",
    "labels = ['gender']\n",
    "df = createStringDataFrame(DOG_TABLE, fields, labels)\n",
    "replacements = {'':'no response', '1':'male', '2':'female'}\n",
    "replaceFields(df, labels[0], replacements)\n",
    "df = df.apply(pd.value_counts)\n",
    "df.rename(index=str, columns={labels[0]: \"total\"}, inplace=True)\n",
    "df.columns.name = labels[0]\n",
    "display(df)"
   ]
  },
  {
   "cell_type": "markdown",
   "metadata": {},
   "source": [
    "### 2.5 Neutered Status:"
   ]
  },
  {
   "cell_type": "code",
   "execution_count": 67,
   "metadata": {},
   "outputs": [
    {
     "data": {
      "text/html": [
       "<div>\n",
       "<style scoped>\n",
       "    .dataframe tbody tr th:only-of-type {\n",
       "        vertical-align: middle;\n",
       "    }\n",
       "\n",
       "    .dataframe tbody tr th {\n",
       "        vertical-align: top;\n",
       "    }\n",
       "\n",
       "    .dataframe thead th {\n",
       "        text-align: right;\n",
       "    }\n",
       "</style>\n",
       "<table border=\"1\" class=\"dataframe\">\n",
       "  <thead>\n",
       "    <tr style=\"text-align: right;\">\n",
       "      <th>Neutered</th>\n",
       "      <th>I don't know</th>\n",
       "      <th>No</th>\n",
       "      <th>No response</th>\n",
       "      <th>Yes</th>\n",
       "      <th>All</th>\n",
       "    </tr>\n",
       "    <tr>\n",
       "      <th>Gender</th>\n",
       "      <th></th>\n",
       "      <th></th>\n",
       "      <th></th>\n",
       "      <th></th>\n",
       "      <th></th>\n",
       "    </tr>\n",
       "  </thead>\n",
       "  <tbody>\n",
       "    <tr>\n",
       "      <th>Female</th>\n",
       "      <td>3</td>\n",
       "      <td>308</td>\n",
       "      <td>6</td>\n",
       "      <td>1778</td>\n",
       "      <td>2095</td>\n",
       "    </tr>\n",
       "    <tr>\n",
       "      <th>Male</th>\n",
       "      <td>1</td>\n",
       "      <td>312</td>\n",
       "      <td>10</td>\n",
       "      <td>1682</td>\n",
       "      <td>2005</td>\n",
       "    </tr>\n",
       "    <tr>\n",
       "      <th>No response</th>\n",
       "      <td>0</td>\n",
       "      <td>0</td>\n",
       "      <td>2</td>\n",
       "      <td>12</td>\n",
       "      <td>14</td>\n",
       "    </tr>\n",
       "    <tr>\n",
       "      <th>All</th>\n",
       "      <td>4</td>\n",
       "      <td>620</td>\n",
       "      <td>18</td>\n",
       "      <td>3472</td>\n",
       "      <td>4114</td>\n",
       "    </tr>\n",
       "  </tbody>\n",
       "</table>\n",
       "</div>"
      ],
      "text/plain": [
       "Neutered     I don't know   No  No response   Yes   All\n",
       "Gender                                                 \n",
       "Female                  3  308            6  1778  2095\n",
       "Male                    1  312           10  1682  2005\n",
       "No response             0    0            2    12    14\n",
       "All                     4  620           18  3472  4114"
      ]
     },
     "metadata": {},
     "output_type": "display_data"
    }
   ],
   "source": [
    "# status: unverified\n",
    "# Construct the dataframe.\n",
    "fields = 'dog_sex, dog_spayed'\n",
    "labels = ['Gender', 'Neutered']\n",
    "df = createStringDataFrame(DOG_TABLE, fields, labels)\n",
    "replacements = {'':'No response', '1':'Male', '2':'Female'}\n",
    "replaceFields(df, labels[0], replacements)\n",
    "replacements = {'':'No response', '0':'No', '1':'Yes', '2':\"I don't know\"}\n",
    "replaceFields(df, labels[1], replacements)\n",
    "display(pd.crosstab(df[labels[0]], df[labels[1]], margins=True))"
   ]
  },
  {
   "cell_type": "markdown",
   "metadata": {},
   "source": [
    "### 2.X Number of purebred dogs:"
   ]
  },
  {
   "cell_type": "code",
   "execution_count": 68,
   "metadata": {},
   "outputs": [
    {
     "data": {
      "text/html": [
       "<div>\n",
       "<style scoped>\n",
       "    .dataframe tbody tr th:only-of-type {\n",
       "        vertical-align: middle;\n",
       "    }\n",
       "\n",
       "    .dataframe tbody tr th {\n",
       "        vertical-align: top;\n",
       "    }\n",
       "\n",
       "    .dataframe thead th {\n",
       "        text-align: right;\n",
       "    }\n",
       "</style>\n",
       "<table border=\"1\" class=\"dataframe\">\n",
       "  <thead>\n",
       "    <tr style=\"text-align: right;\">\n",
       "      <th>purebred</th>\n",
       "      <th>total</th>\n",
       "    </tr>\n",
       "  </thead>\n",
       "  <tbody>\n",
       "    <tr>\n",
       "      <th>Yes</th>\n",
       "      <td>2335</td>\n",
       "    </tr>\n",
       "    <tr>\n",
       "      <th>No</th>\n",
       "      <td>1723</td>\n",
       "    </tr>\n",
       "    <tr>\n",
       "      <th>No response</th>\n",
       "      <td>56</td>\n",
       "    </tr>\n",
       "  </tbody>\n",
       "</table>\n",
       "</div>"
      ],
      "text/plain": [
       "purebred     total\n",
       "Yes           2335\n",
       "No            1723\n",
       "No response     56"
      ]
     },
     "metadata": {},
     "output_type": "display_data"
    }
   ],
   "source": [
    "# status: verified\n",
    "fields = 'purebred'\n",
    "labels = ['purebred']\n",
    "df = createStringDataFrame(DOG_TABLE, fields, labels)\n",
    "df.head()\n",
    "replacements = {'':'No response', '0':'No', '1':'Yes'}\n",
    "replaceFields(df, labels[0], replacements)\n",
    "df = df.apply(pd.value_counts)\n",
    "df.rename(index=str, columns={labels[0]: \"total\"}, inplace=True)\n",
    "df.columns.name = labels[0]\n",
    "display(df)"
   ]
  },
  {
   "cell_type": "markdown",
   "metadata": {},
   "source": [
    "### 2.X Number of purebred dogs without a breed designated:"
   ]
  },
  {
   "cell_type": "code",
   "execution_count": 69,
   "metadata": {},
   "outputs": [
    {
     "name": "stdout",
     "output_type": "stream",
     "text": [
      "Number of purebreds without breed designated: 197 dogs\n"
     ]
    }
   ],
   "source": [
    "# status: verified\n",
    "# Create the necessary dataframe.\n",
    "fields = 'purebred_breed, purebred'\n",
    "labels = ['breed', 'purebred']\n",
    "df = createStringDataFrame(DOG_TABLE, fields, labels)\n",
    "df = df[df[labels[1]] == '1']\n",
    "df.drop(columns=labels[1], inplace=True)\n",
    "df = df[df[labels[0]] == '']\n",
    "purebred_missing_breed = df.describe().iloc[0][0]\n",
    "print('Number of purebreds without breed designated: %d dogs' %(purebred_missing_breed))\n"
   ]
  },
  {
   "cell_type": "markdown",
   "metadata": {},
   "source": [
    "### 2.X Number of purebred breeds:"
   ]
  },
  {
   "cell_type": "code",
   "execution_count": 70,
   "metadata": {},
   "outputs": [
    {
     "data": {
      "text/html": [
       "<div>\n",
       "<style scoped>\n",
       "    .dataframe tbody tr th:only-of-type {\n",
       "        vertical-align: middle;\n",
       "    }\n",
       "\n",
       "    .dataframe tbody tr th {\n",
       "        vertical-align: top;\n",
       "    }\n",
       "\n",
       "    .dataframe thead th {\n",
       "        text-align: right;\n",
       "    }\n",
       "</style>\n",
       "<table border=\"1\" class=\"dataframe\">\n",
       "  <thead>\n",
       "    <tr style=\"text-align: right;\">\n",
       "      <th></th>\n",
       "      <th>breed</th>\n",
       "    </tr>\n",
       "  </thead>\n",
       "  <tbody>\n",
       "    <tr>\n",
       "      <th>count</th>\n",
       "      <td>2138</td>\n",
       "    </tr>\n",
       "    <tr>\n",
       "      <th>unique</th>\n",
       "      <td>142</td>\n",
       "    </tr>\n",
       "    <tr>\n",
       "      <th>top</th>\n",
       "      <td>labrador retriever</td>\n",
       "    </tr>\n",
       "    <tr>\n",
       "      <th>freq</th>\n",
       "      <td>382</td>\n",
       "    </tr>\n",
       "  </tbody>\n",
       "</table>\n",
       "</div>"
      ],
      "text/plain": [
       "                     breed\n",
       "count                 2138\n",
       "unique                 142\n",
       "top     labrador retriever\n",
       "freq                   382"
      ]
     },
     "metadata": {},
     "output_type": "display_data"
    }
   ],
   "source": [
    "# status: verified\n",
    "# Create the necessary dataframe.\n",
    "fields = 'purebred_breed, purebred'\n",
    "labels = ['breed', 'purebred']\n",
    "df = createStringDataFrame(DOG_TABLE, fields, labels)\n",
    "df = df[df[labels[1]] == '1']\n",
    "df.drop(columns=labels[1], inplace=True)\n",
    "df = df[df[labels[0]] != '']\n",
    "display(df.describe())"
   ]
  },
  {
   "cell_type": "markdown",
   "metadata": {},
   "source": [
    "### 2.6 Numbers of dogs per purebred breed:"
   ]
  },
  {
   "cell_type": "code",
   "execution_count": 71,
   "metadata": {
    "scrolled": false
   },
   "outputs": [
    {
     "data": {
      "text/html": [
       "<div>\n",
       "<style scoped>\n",
       "    .dataframe tbody tr th:only-of-type {\n",
       "        vertical-align: middle;\n",
       "    }\n",
       "\n",
       "    .dataframe tbody tr th {\n",
       "        vertical-align: top;\n",
       "    }\n",
       "\n",
       "    .dataframe thead th {\n",
       "        text-align: right;\n",
       "    }\n",
       "</style>\n",
       "<table border=\"1\" class=\"dataframe\">\n",
       "  <thead>\n",
       "    <tr style=\"text-align: right;\">\n",
       "      <th>breed</th>\n",
       "      <th>sum</th>\n",
       "      <th>prevalence</th>\n",
       "    </tr>\n",
       "  </thead>\n",
       "  <tbody>\n",
       "    <tr>\n",
       "      <th>labrador retriever</th>\n",
       "      <td>382</td>\n",
       "      <td>9.29</td>\n",
       "    </tr>\n",
       "    <tr>\n",
       "      <th>golden retriever</th>\n",
       "      <td>138</td>\n",
       "      <td>3.35</td>\n",
       "    </tr>\n",
       "    <tr>\n",
       "      <th>german shepherd dog</th>\n",
       "      <td>132</td>\n",
       "      <td>3.21</td>\n",
       "    </tr>\n",
       "    <tr>\n",
       "      <th>poodle</th>\n",
       "      <td>104</td>\n",
       "      <td>2.53</td>\n",
       "    </tr>\n",
       "    <tr>\n",
       "      <th>border collie</th>\n",
       "      <td>89</td>\n",
       "      <td>2.16</td>\n",
       "    </tr>\n",
       "    <tr>\n",
       "      <th>cocker spaniel</th>\n",
       "      <td>71</td>\n",
       "      <td>1.73</td>\n",
       "    </tr>\n",
       "    <tr>\n",
       "      <th>australian shepherd</th>\n",
       "      <td>58</td>\n",
       "      <td>1.41</td>\n",
       "    </tr>\n",
       "    <tr>\n",
       "      <th>dachshund</th>\n",
       "      <td>43</td>\n",
       "      <td>1.05</td>\n",
       "    </tr>\n",
       "    <tr>\n",
       "      <th>shetland sheepdog</th>\n",
       "      <td>36</td>\n",
       "      <td>0.88</td>\n",
       "    </tr>\n",
       "    <tr>\n",
       "      <th>chihuahua</th>\n",
       "      <td>33</td>\n",
       "      <td>0.80</td>\n",
       "    </tr>\n",
       "    <tr>\n",
       "      <th>beagle</th>\n",
       "      <td>31</td>\n",
       "      <td>0.75</td>\n",
       "    </tr>\n",
       "    <tr>\n",
       "      <th>greyhound</th>\n",
       "      <td>31</td>\n",
       "      <td>0.75</td>\n",
       "    </tr>\n",
       "    <tr>\n",
       "      <th>rhodesian ridgeback</th>\n",
       "      <td>31</td>\n",
       "      <td>0.75</td>\n",
       "    </tr>\n",
       "    <tr>\n",
       "      <th>yorkshire terrier</th>\n",
       "      <td>28</td>\n",
       "      <td>0.68</td>\n",
       "    </tr>\n",
       "    <tr>\n",
       "      <th>collie</th>\n",
       "      <td>28</td>\n",
       "      <td>0.68</td>\n",
       "    </tr>\n",
       "    <tr>\n",
       "      <th>pembroke welsh corgi</th>\n",
       "      <td>27</td>\n",
       "      <td>0.66</td>\n",
       "    </tr>\n",
       "    <tr>\n",
       "      <th>english springer spaniel</th>\n",
       "      <td>26</td>\n",
       "      <td>0.63</td>\n",
       "    </tr>\n",
       "    <tr>\n",
       "      <th>west highland white terrier</th>\n",
       "      <td>21</td>\n",
       "      <td>0.51</td>\n",
       "    </tr>\n",
       "    <tr>\n",
       "      <th>boxer</th>\n",
       "      <td>20</td>\n",
       "      <td>0.49</td>\n",
       "    </tr>\n",
       "    <tr>\n",
       "      <th>bull terrrier</th>\n",
       "      <td>20</td>\n",
       "      <td>0.49</td>\n",
       "    </tr>\n",
       "    <tr>\n",
       "      <th>australian cattle dog</th>\n",
       "      <td>20</td>\n",
       "      <td>0.49</td>\n",
       "    </tr>\n",
       "    <tr>\n",
       "      <th>portuguese water dog</th>\n",
       "      <td>20</td>\n",
       "      <td>0.49</td>\n",
       "    </tr>\n",
       "    <tr>\n",
       "      <th>great dane</th>\n",
       "      <td>20</td>\n",
       "      <td>0.49</td>\n",
       "    </tr>\n",
       "    <tr>\n",
       "      <th>doberman pinscher</th>\n",
       "      <td>20</td>\n",
       "      <td>0.49</td>\n",
       "    </tr>\n",
       "    <tr>\n",
       "      <th>siberian husky</th>\n",
       "      <td>19</td>\n",
       "      <td>0.46</td>\n",
       "    </tr>\n",
       "    <tr>\n",
       "      <th>shih tzu</th>\n",
       "      <td>17</td>\n",
       "      <td>0.41</td>\n",
       "    </tr>\n",
       "    <tr>\n",
       "      <th>pug</th>\n",
       "      <td>17</td>\n",
       "      <td>0.41</td>\n",
       "    </tr>\n",
       "    <tr>\n",
       "      <th>cavalier king charles spaniel</th>\n",
       "      <td>17</td>\n",
       "      <td>0.41</td>\n",
       "    </tr>\n",
       "    <tr>\n",
       "      <th>german shorthaired pointer</th>\n",
       "      <td>17</td>\n",
       "      <td>0.41</td>\n",
       "    </tr>\n",
       "    <tr>\n",
       "      <th>papillon</th>\n",
       "      <td>16</td>\n",
       "      <td>0.39</td>\n",
       "    </tr>\n",
       "  </tbody>\n",
       "</table>\n",
       "</div>"
      ],
      "text/plain": [
       "breed                          sum  prevalence\n",
       "labrador retriever             382        9.29\n",
       "golden retriever               138        3.35\n",
       "german shepherd dog            132        3.21\n",
       "poodle                         104        2.53\n",
       "border collie                   89        2.16\n",
       "cocker spaniel                  71        1.73\n",
       "australian shepherd             58        1.41\n",
       "dachshund                       43        1.05\n",
       "shetland sheepdog               36        0.88\n",
       "chihuahua                       33        0.80\n",
       "beagle                          31        0.75\n",
       "greyhound                       31        0.75\n",
       "rhodesian ridgeback             31        0.75\n",
       "yorkshire terrier               28        0.68\n",
       "collie                          28        0.68\n",
       "pembroke welsh corgi            27        0.66\n",
       "english springer spaniel        26        0.63\n",
       "west highland white terrier     21        0.51\n",
       "boxer                           20        0.49\n",
       "bull terrrier                   20        0.49\n",
       "australian cattle dog           20        0.49\n",
       "portuguese water dog            20        0.49\n",
       "great dane                      20        0.49\n",
       "doberman pinscher               20        0.49\n",
       "siberian husky                  19        0.46\n",
       "shih tzu                        17        0.41\n",
       "pug                             17        0.41\n",
       "cavalier king charles spaniel   17        0.41\n",
       "german shorthaired pointer      17        0.41\n",
       "papillon                        16        0.39"
      ]
     },
     "metadata": {},
     "output_type": "display_data"
    }
   ],
   "source": [
    "# status: verified\n",
    "# Create the necessary dataframe.\n",
    "fields = 'purebred_breed, purebred'\n",
    "labels = ['breed', 'purebred']\n",
    "df = createStringDataFrame(DOG_TABLE, fields, labels)\n",
    "df = df[df[labels[1]] == '1']\n",
    "df.drop(columns=labels[1], inplace=True)\n",
    "df = df[df[labels[0]] != '']\n",
    "\n",
    "# Calculate sums and prevalences.\n",
    "df = getValueCountAndPrevalence(df, labels[0])\n",
    "df = df.round(2)\n",
    "df.columns.name = labels[0]\n",
    "display(df[:30])"
   ]
  },
  {
   "cell_type": "markdown",
   "metadata": {},
   "source": [
    "## 3 Prevalence of Individual Behavior Problems\n",
    "\n",
    "This section aims to calculate the prevalence for each behavior problem included in the study. The adjusted dataset is utilized to eliminate potential bias."
   ]
  },
  {
   "cell_type": "code",
   "execution_count": 72,
   "metadata": {},
   "outputs": [
    {
     "data": {
      "application/vnd.plotly.v1+json": {
       "data": [
        {
         "cells": {
          "align": [
           "left",
           "left",
           "left"
          ],
          "format": [
           null,
           "d",
           ".2f"
          ],
          "values": [
           [
            "Fear/Anxiety",
            "Aggression",
            "Jumping",
            "Excessive Barking",
            "Consuming Feces",
            "Compulsion",
            "House Soiling",
            "Rolling in Repulsive Material",
            "Overactivity/Hyperactivity",
            "Destructive Behavior",
            "Running Away/Escaping",
            "Mounting/Humping"
           ],
           [
            1814,
            1239,
            1159,
            758,
            718,
            639,
            614,
            515,
            505,
            489,
            442,
            433
           ],
           [
            44.09333981526495,
            30.116674769081186,
            28.17209528439475,
            18.424890617403985,
            17.452600875060767,
            15.532328633932913,
            14.9246475449684,
            12.518230432668936,
            12.27515799708313,
            11.886242100145845,
            10.743801652892563,
            10.525036460865337
           ]
          ]
         },
         "header": {
          "align": [
           "left",
           "left",
           "left"
          ],
          "fill": {
           "color": "#B0C4DE"
          },
          "values": [
           "Behavior Problem",
           "Number of Dogs",
           "Prevalence (%)"
          ]
         },
         "type": "table"
        }
       ],
       "layout": {
        "height": 375,
        "margin": {
         "b": 50,
         "l": 50,
         "pad": 4,
         "r": 50,
         "t": 50
        },
        "title": "Prevalence of Individual Behavior Problems",
        "width": 700
       }
      },
      "text/html": [
       "<div id=\"fcc2d816-4bb5-42c8-80d3-81296381c9c8\" style=\"height: 375px; width: 700px;\" class=\"plotly-graph-div\"></div><script type=\"text/javascript\">require([\"plotly\"], function(Plotly) { window.PLOTLYENV=window.PLOTLYENV || {};window.PLOTLYENV.BASE_URL=\"https://plot.ly\";Plotly.newPlot(\"fcc2d816-4bb5-42c8-80d3-81296381c9c8\", [{\"type\": \"table\", \"header\": {\"values\": [\"Behavior Problem\", \"Number of Dogs\", \"Prevalence (%)\"], \"fill\": {\"color\": \"#B0C4DE\"}, \"align\": [\"left\", \"left\", \"left\"]}, \"cells\": {\"values\": [[\"Fear/Anxiety\", \"Aggression\", \"Jumping\", \"Excessive Barking\", \"Consuming Feces\", \"Compulsion\", \"House Soiling\", \"Rolling in Repulsive Material\", \"Overactivity/Hyperactivity\", \"Destructive Behavior\", \"Running Away/Escaping\", \"Mounting/Humping\"], [1814, 1239, 1159, 758, 718, 639, 614, 515, 505, 489, 442, 433], [44.09333981526495, 30.116674769081186, 28.17209528439475, 18.424890617403985, 17.452600875060767, 15.532328633932913, 14.9246475449684, 12.518230432668936, 12.27515799708313, 11.886242100145845, 10.743801652892563, 10.525036460865337]], \"align\": [\"left\", \"left\", \"left\"], \"format\": [null, \"d\", \".2f\"]}}], {\"title\": \"Prevalence of Individual Behavior Problems\", \"width\": 700, \"height\": 375, \"margin\": {\"l\": 50, \"r\": 50, \"b\": 50, \"t\": 50, \"pad\": 4}}, {\"showLink\": true, \"linkText\": \"Export to plot.ly\"})});</script>"
      ],
      "text/vnd.plotly.v1+html": [
       "<div id=\"fcc2d816-4bb5-42c8-80d3-81296381c9c8\" style=\"height: 375px; width: 700px;\" class=\"plotly-graph-div\"></div><script type=\"text/javascript\">require([\"plotly\"], function(Plotly) { window.PLOTLYENV=window.PLOTLYENV || {};window.PLOTLYENV.BASE_URL=\"https://plot.ly\";Plotly.newPlot(\"fcc2d816-4bb5-42c8-80d3-81296381c9c8\", [{\"type\": \"table\", \"header\": {\"values\": [\"Behavior Problem\", \"Number of Dogs\", \"Prevalence (%)\"], \"fill\": {\"color\": \"#B0C4DE\"}, \"align\": [\"left\", \"left\", \"left\"]}, \"cells\": {\"values\": [[\"Fear/Anxiety\", \"Aggression\", \"Jumping\", \"Excessive Barking\", \"Consuming Feces\", \"Compulsion\", \"House Soiling\", \"Rolling in Repulsive Material\", \"Overactivity/Hyperactivity\", \"Destructive Behavior\", \"Running Away/Escaping\", \"Mounting/Humping\"], [1814, 1239, 1159, 758, 718, 639, 614, 515, 505, 489, 442, 433], [44.09333981526495, 30.116674769081186, 28.17209528439475, 18.424890617403985, 17.452600875060767, 15.532328633932913, 14.9246475449684, 12.518230432668936, 12.27515799708313, 11.886242100145845, 10.743801652892563, 10.525036460865337]], \"align\": [\"left\", \"left\", \"left\"], \"format\": [null, \"d\", \".2f\"]}}], {\"title\": \"Prevalence of Individual Behavior Problems\", \"width\": 700, \"height\": 375, \"margin\": {\"l\": 50, \"r\": 50, \"b\": 50, \"t\": 50, \"pad\": 4}}, {\"showLink\": true, \"linkText\": \"Export to plot.ly\"})});</script>"
      ]
     },
     "metadata": {},
     "output_type": "display_data"
    }
   ],
   "source": [
    "# Create the necessary dataframe.\n",
    "fields = []\n",
    "labels = []\n",
    "for counter, category in enumerate(CATEGORY, 1):\n",
    "    if counter > 10:\n",
    "        counter += 1;\n",
    "    fields.append('q02_main_{}'.format(counter))\n",
    "    labels.append(category)\n",
    "fields = ', '.join(fields)\n",
    "df = createNumericDataFrame(DOG_TABLE, fields, labels, filtered=True)\n",
    "\n",
    "# Get individual behavior problem counts and display as a table.\n",
    "sums = df.sum()\n",
    "sums = sums.sort_values(ascending=False)\n",
    "\n",
    "# Calculate the prevalence of each behavior problem.\n",
    "total_dogs = len(df.index)\n",
    "prevalences = sums.apply(PREVALENCE)\n",
    "\n",
    "# Get individual behavior problem counts and display as a table.\n",
    "data = [go.Table(header=dict(values=['Behavior Problem', 'Number of Dogs', 'Prevalence (%)'],\n",
    "                             fill = dict(color='#B0C4DE'),\n",
    "                             align = ['left'] * 3),\n",
    "                 cells=dict(values=[sums.index.values, sums.values, prevalences.values],\n",
    "                            align = ['left'] * 3,\n",
    "                            format = [None, 'd', '.2f']))]\n",
    "layout = go.Layout(title='Prevalence of Individual Behavior Problems',\n",
    "                   width=700,\n",
    "                   height=375,\n",
    "                   margin=go.Margin(l=50, r=50, b=50, t=50, pad=4))\n",
    "fig = dict(data=data, layout=layout)\n",
    "if SAVE_OUTPUT:\n",
    "    py.plot(fig, image='png', image_width=700, image_height=375,\n",
    "            image_filename='3_0_prevelence_of_categories')\n",
    "py.iplot(fig)"
   ]
  },
  {
   "cell_type": "markdown",
   "metadata": {},
   "source": [
    "## 4 Behavior Problem Compositions"
   ]
  },
  {
   "cell_type": "markdown",
   "metadata": {},
   "source": [
    "### 4.1 Aggression:"
   ]
  },
  {
   "cell_type": "code",
   "execution_count": 73,
   "metadata": {},
   "outputs": [
    {
     "data": {
      "application/vnd.plotly.v1+json": {
       "data": [
        {
         "cells": {
          "align": [
           "left",
           "left",
           "left"
          ],
          "format": [
           null,
           "d",
           ".2f"
          ],
          "values": [
           [
            "Unfamiliar dogs on walks (on lead)",
            "Another dog in the home",
            "Stangers visiting the home",
            "Unfamiliar dogs on walks (off lead)",
            "Unfamiliar dogs visiting the home",
            "Stangers away from the home",
            "Familiar people in the home",
            "Animals other than dogs in the home",
            "Veterinarians",
            "Groomers",
            "Trainers"
           ],
           [
            674,
            447,
            391,
            371,
            371,
            325,
            296,
            172,
            159,
            55,
            34
           ],
           [
            16.383082158483226,
            10.865337870685464,
            9.50413223140496,
            9.01798736023335,
            9.01798736023335,
            7.899854156538648,
            7.194944093339815,
            4.180845892075839,
            3.8648517258142925,
            1.3368983957219251,
            0.8264462809917356
           ]
          ]
         },
         "columnwidth": [
          200,
          100,
          100
         ],
         "header": {
          "align": [
           "left",
           "left",
           "left"
          ],
          "fill": {
           "color": "#B0C4DE"
          },
          "values": [
           "Aggression",
           "Number of Dogs",
           "Prevalence (%)"
          ]
         },
         "type": "table"
        }
       ],
       "layout": {
        "height": 350,
        "margin": {
         "b": 50,
         "l": 50,
         "pad": 4,
         "r": 50,
         "t": 50
        },
        "title": "Prevalence of Aggression",
        "width": 700
       }
      },
      "text/html": [
       "<div id=\"5214e486-330d-4fb6-8615-c99e30cb1645\" style=\"height: 350px; width: 700px;\" class=\"plotly-graph-div\"></div><script type=\"text/javascript\">require([\"plotly\"], function(Plotly) { window.PLOTLYENV=window.PLOTLYENV || {};window.PLOTLYENV.BASE_URL=\"https://plot.ly\";Plotly.newPlot(\"5214e486-330d-4fb6-8615-c99e30cb1645\", [{\"type\": \"table\", \"columnwidth\": [200, 100, 100], \"header\": {\"values\": [\"Aggression\", \"Number of Dogs\", \"Prevalence (%)\"], \"fill\": {\"color\": \"#B0C4DE\"}, \"align\": [\"left\", \"left\", \"left\"]}, \"cells\": {\"values\": [[\"Unfamiliar dogs on walks (on lead)\", \"Another dog in the home\", \"Stangers visiting the home\", \"Unfamiliar dogs on walks (off lead)\", \"Unfamiliar dogs visiting the home\", \"Stangers away from the home\", \"Familiar people in the home\", \"Animals other than dogs in the home\", \"Veterinarians\", \"Groomers\", \"Trainers\"], [674, 447, 391, 371, 371, 325, 296, 172, 159, 55, 34], [16.383082158483226, 10.865337870685464, 9.50413223140496, 9.01798736023335, 9.01798736023335, 7.899854156538648, 7.194944093339815, 4.180845892075839, 3.8648517258142925, 1.3368983957219251, 0.8264462809917356]], \"align\": [\"left\", \"left\", \"left\"], \"format\": [null, \"d\", \".2f\"]}}], {\"title\": \"Prevalence of Aggression\", \"width\": 700, \"height\": 350, \"margin\": {\"l\": 50, \"r\": 50, \"b\": 50, \"t\": 50, \"pad\": 4}}, {\"showLink\": true, \"linkText\": \"Export to plot.ly\"})});</script>"
      ],
      "text/vnd.plotly.v1+html": [
       "<div id=\"5214e486-330d-4fb6-8615-c99e30cb1645\" style=\"height: 350px; width: 700px;\" class=\"plotly-graph-div\"></div><script type=\"text/javascript\">require([\"plotly\"], function(Plotly) { window.PLOTLYENV=window.PLOTLYENV || {};window.PLOTLYENV.BASE_URL=\"https://plot.ly\";Plotly.newPlot(\"5214e486-330d-4fb6-8615-c99e30cb1645\", [{\"type\": \"table\", \"columnwidth\": [200, 100, 100], \"header\": {\"values\": [\"Aggression\", \"Number of Dogs\", \"Prevalence (%)\"], \"fill\": {\"color\": \"#B0C4DE\"}, \"align\": [\"left\", \"left\", \"left\"]}, \"cells\": {\"values\": [[\"Unfamiliar dogs on walks (on lead)\", \"Another dog in the home\", \"Stangers visiting the home\", \"Unfamiliar dogs on walks (off lead)\", \"Unfamiliar dogs visiting the home\", \"Stangers away from the home\", \"Familiar people in the home\", \"Animals other than dogs in the home\", \"Veterinarians\", \"Groomers\", \"Trainers\"], [674, 447, 391, 371, 371, 325, 296, 172, 159, 55, 34], [16.383082158483226, 10.865337870685464, 9.50413223140496, 9.01798736023335, 9.01798736023335, 7.899854156538648, 7.194944093339815, 4.180845892075839, 3.8648517258142925, 1.3368983957219251, 0.8264462809917356]], \"align\": [\"left\", \"left\", \"left\"], \"format\": [null, \"d\", \".2f\"]}}], {\"title\": \"Prevalence of Aggression\", \"width\": 700, \"height\": 350, \"margin\": {\"l\": 50, \"r\": 50, \"b\": 50, \"t\": 50, \"pad\": 4}}, {\"showLink\": true, \"linkText\": \"Export to plot.ly\"})});</script>"
      ]
     },
     "metadata": {},
     "output_type": "display_data"
    }
   ],
   "source": [
    "# Create the necessary dataframe.\n",
    "fields = ', '.join(FR.fields[CATEGORY[0]])\n",
    "labels = list(FR.labels[CATEGORY[0]].values())\n",
    "df = createNumericDataFrame(DOG_TABLE, fields, labels, filtered=True)\n",
    "\n",
    "# Get individual behavior problem counts and display as a table.\n",
    "sums = df.sum()\n",
    "sums = sums.sort_values(ascending=False)\n",
    "\n",
    "# Calculate the prevalence of each behavior problem.\n",
    "prevalences = sums.apply(PREVALENCE)\n",
    "\n",
    "# Get individual behavior problem counts and display as a table.\n",
    "data = [go.Table(columnwidth = [200, 100, 100],\n",
    "                 header=dict(values=[CATEGORY[0], 'Number of Dogs', 'Prevalence (%)'],\n",
    "                             fill = dict(color='#B0C4DE'),\n",
    "                             align = ['left'] * 3),\n",
    "                 cells=dict(values=[sums.index.values, sums.values, prevalences.values],\n",
    "                            align = ['left'] * 3,\n",
    "                            format = [None, 'd', '.2f']))]\n",
    "layout = go.Layout(title='Prevalence of {}'.format(CATEGORY[0]),\n",
    "                   width=700,\n",
    "                   height=350,\n",
    "                   margin=go.Margin(l=50, r=50, b=50, t=50, pad=4))\n",
    "fig = dict(data=data, layout=layout)\n",
    "if SAVE_OUTPUT:\n",
    "    py.plot(fig, image='png', image_width=700, image_height=350,\n",
    "            image_filename='4_1_aggression')\n",
    "py.iplot(fig)"
   ]
  },
  {
   "cell_type": "markdown",
   "metadata": {},
   "source": [
    "### 4.2 Fear/Anxiety:"
   ]
  },
  {
   "cell_type": "code",
   "execution_count": 74,
   "metadata": {},
   "outputs": [
    {
     "data": {
      "application/vnd.plotly.v1+json": {
       "data": [
        {
         "cells": {
          "align": [
           "left",
           "left",
           "left"
          ],
          "format": [
           null,
           "d",
           ".2f"
          ],
          "values": [
           [
            "Crowd phobia",
            "Situational anxiety",
            "Noise phobia",
            "Veterinarian phobia",
            "Thunderstorm phobia",
            "Separation anxiety",
            "Travel anxiety",
            "Phobia of other dogs",
            "Generalized anxiety",
            "Other",
            "PTSD"
           ],
           [
            784,
            741,
            716,
            684,
            573,
            550,
            438,
            428,
            359,
            231,
            176
           ],
           [
            19.05687894992708,
            18.01166747690812,
            17.403986387943608,
            16.626154594069032,
            13.928050559066602,
            13.368983957219251,
            10.646572678658242,
            10.403500243072436,
            8.726300437530384,
            5.614973262032086,
            4.27807486631016
           ]
          ]
         },
         "columnwidth": [
          200,
          100,
          100
         ],
         "header": {
          "align": [
           "left",
           "left",
           "left"
          ],
          "fill": {
           "color": "#B0C4DE"
          },
          "values": [
           "Fear/Anxiety",
           "Number of Dogs",
           "Prevalence (%)"
          ]
         },
         "type": "table"
        }
       ],
       "layout": {
        "height": 350,
        "margin": {
         "b": 50,
         "l": 50,
         "pad": 4,
         "r": 50,
         "t": 50
        },
        "title": "Prevalence of Fear/Anxiety",
        "width": 700
       }
      },
      "text/html": [
       "<div id=\"324ae3ac-10df-4a83-9897-b49a980c0a5a\" style=\"height: 350px; width: 700px;\" class=\"plotly-graph-div\"></div><script type=\"text/javascript\">require([\"plotly\"], function(Plotly) { window.PLOTLYENV=window.PLOTLYENV || {};window.PLOTLYENV.BASE_URL=\"https://plot.ly\";Plotly.newPlot(\"324ae3ac-10df-4a83-9897-b49a980c0a5a\", [{\"type\": \"table\", \"columnwidth\": [200, 100, 100], \"header\": {\"values\": [\"Fear/Anxiety\", \"Number of Dogs\", \"Prevalence (%)\"], \"fill\": {\"color\": \"#B0C4DE\"}, \"align\": [\"left\", \"left\", \"left\"]}, \"cells\": {\"values\": [[\"Crowd phobia\", \"Situational anxiety\", \"Noise phobia\", \"Veterinarian phobia\", \"Thunderstorm phobia\", \"Separation anxiety\", \"Travel anxiety\", \"Phobia of other dogs\", \"Generalized anxiety\", \"Other\", \"PTSD\"], [784, 741, 716, 684, 573, 550, 438, 428, 359, 231, 176], [19.05687894992708, 18.01166747690812, 17.403986387943608, 16.626154594069032, 13.928050559066602, 13.368983957219251, 10.646572678658242, 10.403500243072436, 8.726300437530384, 5.614973262032086, 4.27807486631016]], \"align\": [\"left\", \"left\", \"left\"], \"format\": [null, \"d\", \".2f\"]}}], {\"title\": \"Prevalence of Fear/Anxiety\", \"width\": 700, \"height\": 350, \"margin\": {\"l\": 50, \"r\": 50, \"b\": 50, \"t\": 50, \"pad\": 4}}, {\"showLink\": true, \"linkText\": \"Export to plot.ly\"})});</script>"
      ],
      "text/vnd.plotly.v1+html": [
       "<div id=\"324ae3ac-10df-4a83-9897-b49a980c0a5a\" style=\"height: 350px; width: 700px;\" class=\"plotly-graph-div\"></div><script type=\"text/javascript\">require([\"plotly\"], function(Plotly) { window.PLOTLYENV=window.PLOTLYENV || {};window.PLOTLYENV.BASE_URL=\"https://plot.ly\";Plotly.newPlot(\"324ae3ac-10df-4a83-9897-b49a980c0a5a\", [{\"type\": \"table\", \"columnwidth\": [200, 100, 100], \"header\": {\"values\": [\"Fear/Anxiety\", \"Number of Dogs\", \"Prevalence (%)\"], \"fill\": {\"color\": \"#B0C4DE\"}, \"align\": [\"left\", \"left\", \"left\"]}, \"cells\": {\"values\": [[\"Crowd phobia\", \"Situational anxiety\", \"Noise phobia\", \"Veterinarian phobia\", \"Thunderstorm phobia\", \"Separation anxiety\", \"Travel anxiety\", \"Phobia of other dogs\", \"Generalized anxiety\", \"Other\", \"PTSD\"], [784, 741, 716, 684, 573, 550, 438, 428, 359, 231, 176], [19.05687894992708, 18.01166747690812, 17.403986387943608, 16.626154594069032, 13.928050559066602, 13.368983957219251, 10.646572678658242, 10.403500243072436, 8.726300437530384, 5.614973262032086, 4.27807486631016]], \"align\": [\"left\", \"left\", \"left\"], \"format\": [null, \"d\", \".2f\"]}}], {\"title\": \"Prevalence of Fear/Anxiety\", \"width\": 700, \"height\": 350, \"margin\": {\"l\": 50, \"r\": 50, \"b\": 50, \"t\": 50, \"pad\": 4}}, {\"showLink\": true, \"linkText\": \"Export to plot.ly\"})});</script>"
      ]
     },
     "metadata": {},
     "output_type": "display_data"
    }
   ],
   "source": [
    "# Create the necessary dataframe.\n",
    "fields = ', '.join(FR.fields[CATEGORY[1]])\n",
    "labels = list(FR.labels[CATEGORY[1]].values())\n",
    "df = createNumericDataFrame(DOG_TABLE, fields, labels, filtered=True)\n",
    "\n",
    "# Get individual behavior problem counts and display as a table.\n",
    "sums = df.sum()\n",
    "sums = sums.sort_values(ascending=False)\n",
    "\n",
    "# Calculate the prevalence of each behavior problem.\n",
    "prevalences = sums.apply(PREVALENCE)\n",
    "\n",
    "# Get individual behavior problem counts and display as a table.\n",
    "data = [go.Table(columnwidth = [200, 100, 100],\n",
    "                 header=dict(values=[CATEGORY[1], 'Number of Dogs', 'Prevalence (%)'],\n",
    "                             fill = dict(color='#B0C4DE'),\n",
    "                             align = ['left'] * 3),\n",
    "                 cells=dict(values=[sums.index.values, sums.values, prevalences.values],\n",
    "                            align = ['left'] * 3,\n",
    "                            format = [None, 'd', '.2f']))]\n",
    "layout = go.Layout(title='Prevalence of {}'.format(CATEGORY[1]),\n",
    "                   width=700,\n",
    "                   height=350,\n",
    "                   margin=go.Margin(l=50, r=50, b=50, t=50, pad=4))\n",
    "fig = dict(data=data, layout=layout)\n",
    "if SAVE_OUTPUT:\n",
    "    py.plot(fig, image='png', image_width=700, image_height=350,\n",
    "            image_filename='4_2_fear_and_anxiety')\n",
    "py.iplot(fig)"
   ]
  },
  {
   "cell_type": "markdown",
   "metadata": {},
   "source": [
    "### 4.3 Compulsion:"
   ]
  },
  {
   "cell_type": "code",
   "execution_count": 75,
   "metadata": {},
   "outputs": [
    {
     "data": {
      "application/vnd.plotly.v1+json": {
       "data": [
        {
         "cells": {
          "align": [
           "left",
           "left",
           "left"
          ],
          "format": [
           null,
           "d",
           ".2f"
          ],
          "values": [
           [
            "Licking of wrist/hock",
            "Tail chasing",
            "Digging in yard",
            "Other",
            "Tennis ball fetish",
            "Spinning",
            "Nail biting",
            "Shadow/light chasing",
            "Sucking flank region/blankets",
            "Running in geometric patterns",
            "Collecting/arranging objects",
            "Stone/rock chewing",
            "Fly snapping"
           ],
           [
            335,
            126,
            106,
            97,
            87,
            82,
            73,
            65,
            58,
            43,
            39,
            32,
            25
           ],
           [
            8.142926592124452,
            3.0627126883811377,
            2.5765678172095283,
            2.3578026251823045,
            2.1147301895964996,
            1.9931939718035974,
            1.7744287797763734,
            1.5799708313077296,
            1.4098201263976664,
            1.0452114730189597,
            0.9479824987846379,
            0.7778317938745746,
            0.6076810889645113
           ]
          ]
         },
         "columnwidth": [
          200,
          100,
          100
         ],
         "header": {
          "align": [
           "left",
           "left",
           "left"
          ],
          "fill": {
           "color": "#B0C4DE"
          },
          "values": [
           "Compulsion",
           "Number of Dogs",
           "Prevalence (%)"
          ]
         },
         "type": "table"
        }
       ],
       "layout": {
        "height": 400,
        "margin": {
         "b": 50,
         "l": 50,
         "pad": 4,
         "r": 50,
         "t": 50
        },
        "title": "Prevalence of Compulsion",
        "width": 700
       }
      },
      "text/html": [
       "<div id=\"7f1702b5-99ac-4a41-b1fd-0d16c59f205a\" style=\"height: 400px; width: 700px;\" class=\"plotly-graph-div\"></div><script type=\"text/javascript\">require([\"plotly\"], function(Plotly) { window.PLOTLYENV=window.PLOTLYENV || {};window.PLOTLYENV.BASE_URL=\"https://plot.ly\";Plotly.newPlot(\"7f1702b5-99ac-4a41-b1fd-0d16c59f205a\", [{\"type\": \"table\", \"columnwidth\": [200, 100, 100], \"header\": {\"values\": [\"Compulsion\", \"Number of Dogs\", \"Prevalence (%)\"], \"fill\": {\"color\": \"#B0C4DE\"}, \"align\": [\"left\", \"left\", \"left\"]}, \"cells\": {\"values\": [[\"Licking of wrist/hock\", \"Tail chasing\", \"Digging in yard\", \"Other\", \"Tennis ball fetish\", \"Spinning\", \"Nail biting\", \"Shadow/light chasing\", \"Sucking flank region/blankets\", \"Running in geometric patterns\", \"Collecting/arranging objects\", \"Stone/rock chewing\", \"Fly snapping\"], [335, 126, 106, 97, 87, 82, 73, 65, 58, 43, 39, 32, 25], [8.142926592124452, 3.0627126883811377, 2.5765678172095283, 2.3578026251823045, 2.1147301895964996, 1.9931939718035974, 1.7744287797763734, 1.5799708313077296, 1.4098201263976664, 1.0452114730189597, 0.9479824987846379, 0.7778317938745746, 0.6076810889645113]], \"align\": [\"left\", \"left\", \"left\"], \"format\": [null, \"d\", \".2f\"]}}], {\"title\": \"Prevalence of Compulsion\", \"width\": 700, \"height\": 400, \"margin\": {\"l\": 50, \"r\": 50, \"b\": 50, \"t\": 50, \"pad\": 4}}, {\"showLink\": true, \"linkText\": \"Export to plot.ly\"})});</script>"
      ],
      "text/vnd.plotly.v1+html": [
       "<div id=\"7f1702b5-99ac-4a41-b1fd-0d16c59f205a\" style=\"height: 400px; width: 700px;\" class=\"plotly-graph-div\"></div><script type=\"text/javascript\">require([\"plotly\"], function(Plotly) { window.PLOTLYENV=window.PLOTLYENV || {};window.PLOTLYENV.BASE_URL=\"https://plot.ly\";Plotly.newPlot(\"7f1702b5-99ac-4a41-b1fd-0d16c59f205a\", [{\"type\": \"table\", \"columnwidth\": [200, 100, 100], \"header\": {\"values\": [\"Compulsion\", \"Number of Dogs\", \"Prevalence (%)\"], \"fill\": {\"color\": \"#B0C4DE\"}, \"align\": [\"left\", \"left\", \"left\"]}, \"cells\": {\"values\": [[\"Licking of wrist/hock\", \"Tail chasing\", \"Digging in yard\", \"Other\", \"Tennis ball fetish\", \"Spinning\", \"Nail biting\", \"Shadow/light chasing\", \"Sucking flank region/blankets\", \"Running in geometric patterns\", \"Collecting/arranging objects\", \"Stone/rock chewing\", \"Fly snapping\"], [335, 126, 106, 97, 87, 82, 73, 65, 58, 43, 39, 32, 25], [8.142926592124452, 3.0627126883811377, 2.5765678172095283, 2.3578026251823045, 2.1147301895964996, 1.9931939718035974, 1.7744287797763734, 1.5799708313077296, 1.4098201263976664, 1.0452114730189597, 0.9479824987846379, 0.7778317938745746, 0.6076810889645113]], \"align\": [\"left\", \"left\", \"left\"], \"format\": [null, \"d\", \".2f\"]}}], {\"title\": \"Prevalence of Compulsion\", \"width\": 700, \"height\": 400, \"margin\": {\"l\": 50, \"r\": 50, \"b\": 50, \"t\": 50, \"pad\": 4}}, {\"showLink\": true, \"linkText\": \"Export to plot.ly\"})});</script>"
      ]
     },
     "metadata": {},
     "output_type": "display_data"
    }
   ],
   "source": [
    "# Create the necessary dataframe.\n",
    "fields = ', '.join(FR.fields[CATEGORY[2]])\n",
    "labels = list(FR.labels[CATEGORY[2]].values())\n",
    "df = createNumericDataFrame(DOG_TABLE, fields, labels, filtered=True)\n",
    "\n",
    "# Get individual behavior problem counts and display as a table.\n",
    "sums = df.sum()\n",
    "sums = sums.sort_values(ascending=False)\n",
    "\n",
    "# Calculate the prevalence of each behavior problem.\n",
    "prevalences = sums.apply(PREVALENCE)\n",
    "\n",
    "# Get individual behavior problem counts and display as a table.\n",
    "data = [go.Table(columnwidth = [200, 100, 100],\n",
    "                 header=dict(values=[CATEGORY[2], 'Number of Dogs', 'Prevalence (%)'],\n",
    "                             fill = dict(color='#B0C4DE'),\n",
    "                             align = ['left'] * 3),\n",
    "                 cells=dict(values=[sums.index.values, sums.values, prevalences.values],\n",
    "                            align = ['left'] * 3,\n",
    "                            format = [None, 'd', '.2f']))]\n",
    "layout = go.Layout(title='Prevalence of {}'.format(CATEGORY[2]),\n",
    "                   width=700,\n",
    "                   height=400,\n",
    "                   margin=go.Margin(l=50, r=50, b=50, t=50, pad=4))\n",
    "fig = dict(data=data, layout=layout)\n",
    "if SAVE_OUTPUT:\n",
    "    py.plot(fig, image='png', image_width=700, image_height=400,\n",
    "            image_filename='4_3_compulsion')\n",
    "py.iplot(fig)"
   ]
  },
  {
   "cell_type": "markdown",
   "metadata": {},
   "source": [
    "### 4.4 House Soiling:"
   ]
  },
  {
   "cell_type": "code",
   "execution_count": 76,
   "metadata": {},
   "outputs": [
    {
     "data": {
      "application/vnd.plotly.v1+json": {
       "data": [
        {
         "cells": {
          "align": [
           "left",
           "left",
           "left"
          ],
          "format": [
           null,
           "d",
           ".2f"
          ],
          "values": [
           [
            "Urine and feces",
            "Owner away",
            "Owner present",
            "Urine",
            "Specific locations",
            "Anywhere",
            "Excited/overwhelmed",
            "Feces"
           ],
           [
            751,
            451,
            420,
            379,
            344,
            292,
            127,
            71
           ],
           [
            18.25473991249392,
            10.962566844919785,
            10.209042294603792,
            9.212445308701993,
            8.361691784151677,
            7.0977151191054935,
            3.087019931939718,
            1.7258142926592124
           ]
          ]
         },
         "columnwidth": [
          200,
          100,
          100
         ],
         "header": {
          "align": [
           "left",
           "left",
           "left"
          ],
          "fill": {
           "color": "#B0C4DE"
          },
          "values": [
           "House Soiling",
           "Number of Dogs",
           "Prevalence (%)"
          ]
         },
         "type": "table"
        }
       ],
       "layout": {
        "height": 300,
        "margin": {
         "b": 50,
         "l": 50,
         "pad": 4,
         "r": 50,
         "t": 50
        },
        "title": "Prevalence of House Soiling",
        "width": 700
       }
      },
      "text/html": [
       "<div id=\"af404e2d-0ec2-4e2e-ad1f-e44b86014599\" style=\"height: 300px; width: 700px;\" class=\"plotly-graph-div\"></div><script type=\"text/javascript\">require([\"plotly\"], function(Plotly) { window.PLOTLYENV=window.PLOTLYENV || {};window.PLOTLYENV.BASE_URL=\"https://plot.ly\";Plotly.newPlot(\"af404e2d-0ec2-4e2e-ad1f-e44b86014599\", [{\"type\": \"table\", \"columnwidth\": [200, 100, 100], \"header\": {\"values\": [\"House Soiling\", \"Number of Dogs\", \"Prevalence (%)\"], \"fill\": {\"color\": \"#B0C4DE\"}, \"align\": [\"left\", \"left\", \"left\"]}, \"cells\": {\"values\": [[\"Urine and feces\", \"Owner away\", \"Owner present\", \"Urine\", \"Specific locations\", \"Anywhere\", \"Excited/overwhelmed\", \"Feces\"], [751, 451, 420, 379, 344, 292, 127, 71], [18.25473991249392, 10.962566844919785, 10.209042294603792, 9.212445308701993, 8.361691784151677, 7.0977151191054935, 3.087019931939718, 1.7258142926592124]], \"align\": [\"left\", \"left\", \"left\"], \"format\": [null, \"d\", \".2f\"]}}], {\"title\": \"Prevalence of House Soiling\", \"width\": 700, \"height\": 300, \"margin\": {\"l\": 50, \"r\": 50, \"b\": 50, \"t\": 50, \"pad\": 4}}, {\"showLink\": true, \"linkText\": \"Export to plot.ly\"})});</script>"
      ],
      "text/vnd.plotly.v1+html": [
       "<div id=\"af404e2d-0ec2-4e2e-ad1f-e44b86014599\" style=\"height: 300px; width: 700px;\" class=\"plotly-graph-div\"></div><script type=\"text/javascript\">require([\"plotly\"], function(Plotly) { window.PLOTLYENV=window.PLOTLYENV || {};window.PLOTLYENV.BASE_URL=\"https://plot.ly\";Plotly.newPlot(\"af404e2d-0ec2-4e2e-ad1f-e44b86014599\", [{\"type\": \"table\", \"columnwidth\": [200, 100, 100], \"header\": {\"values\": [\"House Soiling\", \"Number of Dogs\", \"Prevalence (%)\"], \"fill\": {\"color\": \"#B0C4DE\"}, \"align\": [\"left\", \"left\", \"left\"]}, \"cells\": {\"values\": [[\"Urine and feces\", \"Owner away\", \"Owner present\", \"Urine\", \"Specific locations\", \"Anywhere\", \"Excited/overwhelmed\", \"Feces\"], [751, 451, 420, 379, 344, 292, 127, 71], [18.25473991249392, 10.962566844919785, 10.209042294603792, 9.212445308701993, 8.361691784151677, 7.0977151191054935, 3.087019931939718, 1.7258142926592124]], \"align\": [\"left\", \"left\", \"left\"], \"format\": [null, \"d\", \".2f\"]}}], {\"title\": \"Prevalence of House Soiling\", \"width\": 700, \"height\": 300, \"margin\": {\"l\": 50, \"r\": 50, \"b\": 50, \"t\": 50, \"pad\": 4}}, {\"showLink\": true, \"linkText\": \"Export to plot.ly\"})});</script>"
      ]
     },
     "metadata": {},
     "output_type": "display_data"
    }
   ],
   "source": [
    "# Create the necessary dataframe.\n",
    "fields = ', '.join(FR.fields[CATEGORY[3]])\n",
    "labels = list(FR.labels[CATEGORY[3]].values())\n",
    "df = createNumericDataFrame(DOG_TABLE, fields, labels, filtered=True)\n",
    "\n",
    "# Get individual behavior problem counts and display as a table.\n",
    "sums = df.sum()\n",
    "sums = sums.sort_values(ascending=False)\n",
    "\n",
    "# Calculate the prevalence of each behavior problem.\n",
    "prevalences = sums.apply(PREVALENCE)\n",
    "\n",
    "# Get individual behavior problem counts and display as a table.\n",
    "data = [go.Table(columnwidth = [200, 100, 100],\n",
    "                 header=dict(values=[CATEGORY[3], 'Number of Dogs', 'Prevalence (%)'],\n",
    "                             fill = dict(color='#B0C4DE'),\n",
    "                             align = ['left'] * 3),\n",
    "                 cells=dict(values=[sums.index.values, sums.values, prevalences.values],\n",
    "                            align = ['left'] * 3,\n",
    "                            format = [None, 'd', '.2f']))]\n",
    "layout = go.Layout(title='Prevalence of {}'.format(CATEGORY[3]),\n",
    "                   width=700,\n",
    "                   height=300,\n",
    "                   margin=go.Margin(l=50, r=50, b=50, t=50, pad=4))\n",
    "fig = dict(data=data, layout=layout)\n",
    "if SAVE_OUTPUT:\n",
    "    py.plot(fig, image='png', image_width=700, image_height=300,\n",
    "            image_filename='4_4_house_soiling')\n",
    "py.iplot(fig)"
   ]
  },
  {
   "cell_type": "markdown",
   "metadata": {},
   "source": [
    "### 4.5 Excessive Barking:"
   ]
  },
  {
   "cell_type": "code",
   "execution_count": 77,
   "metadata": {},
   "outputs": [
    {
     "data": {
      "application/vnd.plotly.v1+json": {
       "data": [
        {
         "cells": {
          "align": [
           "left",
           "left",
           "left"
          ],
          "format": [
           null,
           "d",
           ".2f"
          ],
          "values": [
           [
            "At tiggers (inside)",
            "At triggers (outside)",
            "Owner present",
            "To get attention",
            "Owner away",
            "During car rides"
           ],
           [
            498,
            497,
            402,
            304,
            214,
            98
           ],
           [
            12.105007292173067,
            12.080700048614487,
            9.771511910549343,
            7.3894020418084585,
            5.201750121536218,
            2.382109868740885
           ]
          ]
         },
         "columnwidth": [
          200,
          100,
          100
         ],
         "header": {
          "align": [
           "left",
           "left",
           "left"
          ],
          "fill": {
           "color": "#B0C4DE"
          },
          "values": [
           "Excessive Barking",
           "Number of Dogs",
           "Prevalence (%)"
          ]
         },
         "type": "table"
        }
       ],
       "layout": {
        "height": 250,
        "margin": {
         "b": 50,
         "l": 50,
         "pad": 4,
         "r": 50,
         "t": 50
        },
        "title": "Prevalence of Excessive Barking",
        "width": 700
       }
      },
      "text/html": [
       "<div id=\"2f70a89a-9783-4f48-977b-3d3eefc0f294\" style=\"height: 250px; width: 700px;\" class=\"plotly-graph-div\"></div><script type=\"text/javascript\">require([\"plotly\"], function(Plotly) { window.PLOTLYENV=window.PLOTLYENV || {};window.PLOTLYENV.BASE_URL=\"https://plot.ly\";Plotly.newPlot(\"2f70a89a-9783-4f48-977b-3d3eefc0f294\", [{\"type\": \"table\", \"columnwidth\": [200, 100, 100], \"header\": {\"values\": [\"Excessive Barking\", \"Number of Dogs\", \"Prevalence (%)\"], \"fill\": {\"color\": \"#B0C4DE\"}, \"align\": [\"left\", \"left\", \"left\"]}, \"cells\": {\"values\": [[\"At tiggers (inside)\", \"At triggers (outside)\", \"Owner present\", \"To get attention\", \"Owner away\", \"During car rides\"], [498, 497, 402, 304, 214, 98], [12.105007292173067, 12.080700048614487, 9.771511910549343, 7.3894020418084585, 5.201750121536218, 2.382109868740885]], \"align\": [\"left\", \"left\", \"left\"], \"format\": [null, \"d\", \".2f\"]}}], {\"title\": \"Prevalence of Excessive Barking\", \"width\": 700, \"height\": 250, \"margin\": {\"l\": 50, \"r\": 50, \"b\": 50, \"t\": 50, \"pad\": 4}}, {\"showLink\": true, \"linkText\": \"Export to plot.ly\"})});</script>"
      ],
      "text/vnd.plotly.v1+html": [
       "<div id=\"2f70a89a-9783-4f48-977b-3d3eefc0f294\" style=\"height: 250px; width: 700px;\" class=\"plotly-graph-div\"></div><script type=\"text/javascript\">require([\"plotly\"], function(Plotly) { window.PLOTLYENV=window.PLOTLYENV || {};window.PLOTLYENV.BASE_URL=\"https://plot.ly\";Plotly.newPlot(\"2f70a89a-9783-4f48-977b-3d3eefc0f294\", [{\"type\": \"table\", \"columnwidth\": [200, 100, 100], \"header\": {\"values\": [\"Excessive Barking\", \"Number of Dogs\", \"Prevalence (%)\"], \"fill\": {\"color\": \"#B0C4DE\"}, \"align\": [\"left\", \"left\", \"left\"]}, \"cells\": {\"values\": [[\"At tiggers (inside)\", \"At triggers (outside)\", \"Owner present\", \"To get attention\", \"Owner away\", \"During car rides\"], [498, 497, 402, 304, 214, 98], [12.105007292173067, 12.080700048614487, 9.771511910549343, 7.3894020418084585, 5.201750121536218, 2.382109868740885]], \"align\": [\"left\", \"left\", \"left\"], \"format\": [null, \"d\", \".2f\"]}}], {\"title\": \"Prevalence of Excessive Barking\", \"width\": 700, \"height\": 250, \"margin\": {\"l\": 50, \"r\": 50, \"b\": 50, \"t\": 50, \"pad\": 4}}, {\"showLink\": true, \"linkText\": \"Export to plot.ly\"})});</script>"
      ]
     },
     "metadata": {},
     "output_type": "display_data"
    }
   ],
   "source": [
    "# Create the necessary dataframe.\n",
    "fields = ', '.join(FR.fields[CATEGORY[4]])\n",
    "labels = list(FR.labels[CATEGORY[4]].values())\n",
    "df = createNumericDataFrame(DOG_TABLE, fields, labels, filtered=True)\n",
    "\n",
    "# Get individual behavior problem counts and display as a table.\n",
    "sums = df.sum()\n",
    "sums = sums.sort_values(ascending=False)\n",
    "\n",
    "# Calculate the prevalence of each behavior problem.\n",
    "prevalences = sums.apply(PREVALENCE)\n",
    "\n",
    "# Get individual behavior problem counts and display as a table.\n",
    "data = [go.Table(columnwidth = [200, 100, 100],\n",
    "                 header=dict(values=[CATEGORY[4], 'Number of Dogs', 'Prevalence (%)'],\n",
    "                             fill = dict(color='#B0C4DE'),\n",
    "                             align = ['left'] * 3),\n",
    "                 cells=dict(values=[sums.index.values, sums.values, prevalences.values],\n",
    "                            align = ['left'] * 3,\n",
    "                            format = [None, 'd', '.2f']))]\n",
    "layout = go.Layout(title='Prevalence of {}'.format(CATEGORY[4]),\n",
    "                   width=700,\n",
    "                   height=250,\n",
    "                   margin=go.Margin(l=50, r=50, b=50, t=50, pad=4))\n",
    "fig = dict(data=data, layout=layout)\n",
    "if SAVE_OUTPUT:\n",
    "    py.plot(fig, image='png', image_width=700, image_height=250,\n",
    "            image_filename='4_5_excessive_barking')\n",
    "py.iplot(fig)"
   ]
  },
  {
   "cell_type": "markdown",
   "metadata": {},
   "source": [
    "### 4.6 Jumping:"
   ]
  },
  {
   "cell_type": "code",
   "execution_count": 78,
   "metadata": {},
   "outputs": [
    {
     "data": {
      "application/vnd.plotly.v1+json": {
       "data": [
        {
         "cells": {
          "align": [
           "left",
           "left",
           "left"
          ],
          "format": [
           null,
           "d",
           ".2f"
          ],
          "values": [
           [
            "Family members",
            "Owner",
            "Strangers"
           ],
           [
            915,
            763,
            694
           ],
           [
            22.241127856101116,
            18.54642683519689,
            16.869227029654837
           ]
          ]
         },
         "columnwidth": [
          200,
          100,
          100
         ],
         "header": {
          "align": [
           "left",
           "left",
           "left"
          ],
          "fill": {
           "color": "#B0C4DE"
          },
          "values": [
           "Jumping",
           "Number of Dogs",
           "Prevalence (%)"
          ]
         },
         "type": "table"
        }
       ],
       "layout": {
        "height": 200,
        "margin": {
         "b": 50,
         "l": 50,
         "pad": 4,
         "r": 50,
         "t": 50
        },
        "title": "Prevalence of Jumping",
        "width": 700
       }
      },
      "text/html": [
       "<div id=\"7d0404ef-516b-49e7-8647-99b81b2d6099\" style=\"height: 200px; width: 700px;\" class=\"plotly-graph-div\"></div><script type=\"text/javascript\">require([\"plotly\"], function(Plotly) { window.PLOTLYENV=window.PLOTLYENV || {};window.PLOTLYENV.BASE_URL=\"https://plot.ly\";Plotly.newPlot(\"7d0404ef-516b-49e7-8647-99b81b2d6099\", [{\"type\": \"table\", \"columnwidth\": [200, 100, 100], \"header\": {\"values\": [\"Jumping\", \"Number of Dogs\", \"Prevalence (%)\"], \"fill\": {\"color\": \"#B0C4DE\"}, \"align\": [\"left\", \"left\", \"left\"]}, \"cells\": {\"values\": [[\"Family members\", \"Owner\", \"Strangers\"], [915, 763, 694], [22.241127856101116, 18.54642683519689, 16.869227029654837]], \"align\": [\"left\", \"left\", \"left\"], \"format\": [null, \"d\", \".2f\"]}}], {\"title\": \"Prevalence of Jumping\", \"width\": 700, \"height\": 200, \"margin\": {\"l\": 50, \"r\": 50, \"b\": 50, \"t\": 50, \"pad\": 4}}, {\"showLink\": true, \"linkText\": \"Export to plot.ly\"})});</script>"
      ],
      "text/vnd.plotly.v1+html": [
       "<div id=\"7d0404ef-516b-49e7-8647-99b81b2d6099\" style=\"height: 200px; width: 700px;\" class=\"plotly-graph-div\"></div><script type=\"text/javascript\">require([\"plotly\"], function(Plotly) { window.PLOTLYENV=window.PLOTLYENV || {};window.PLOTLYENV.BASE_URL=\"https://plot.ly\";Plotly.newPlot(\"7d0404ef-516b-49e7-8647-99b81b2d6099\", [{\"type\": \"table\", \"columnwidth\": [200, 100, 100], \"header\": {\"values\": [\"Jumping\", \"Number of Dogs\", \"Prevalence (%)\"], \"fill\": {\"color\": \"#B0C4DE\"}, \"align\": [\"left\", \"left\", \"left\"]}, \"cells\": {\"values\": [[\"Family members\", \"Owner\", \"Strangers\"], [915, 763, 694], [22.241127856101116, 18.54642683519689, 16.869227029654837]], \"align\": [\"left\", \"left\", \"left\"], \"format\": [null, \"d\", \".2f\"]}}], {\"title\": \"Prevalence of Jumping\", \"width\": 700, \"height\": 200, \"margin\": {\"l\": 50, \"r\": 50, \"b\": 50, \"t\": 50, \"pad\": 4}}, {\"showLink\": true, \"linkText\": \"Export to plot.ly\"})});</script>"
      ]
     },
     "metadata": {},
     "output_type": "display_data"
    }
   ],
   "source": [
    "# Create the necessary dataframe.\n",
    "fields = ', '.join(FR.fields[CATEGORY[5]])\n",
    "labels = list(FR.labels[CATEGORY[5]].values())\n",
    "df = createNumericDataFrame(DOG_TABLE, fields, labels, filtered=True)\n",
    "\n",
    "# Get individual behavior problem counts and display as a table.\n",
    "sums = df.sum()\n",
    "sums = sums.sort_values(ascending=False)\n",
    "\n",
    "# Calculate the prevalence of each behavior problem.\n",
    "prevalences = sums.apply(PREVALENCE)\n",
    "\n",
    "# Get individual behavior problem counts and display as a table.\n",
    "data = [go.Table(columnwidth = [200, 100, 100],\n",
    "                 header=dict(values=[CATEGORY[5], 'Number of Dogs', 'Prevalence (%)'],\n",
    "                             fill = dict(color='#B0C4DE'),\n",
    "                             align = ['left'] * 3),\n",
    "                 cells=dict(values=[sums.index.values, sums.values, prevalences.values],\n",
    "                            align = ['left'] * 3,\n",
    "                            format = [None, 'd', '.2f']))]\n",
    "layout = go.Layout(title='Prevalence of {}'.format(CATEGORY[5]),\n",
    "                   width=700,\n",
    "                   height=200,\n",
    "                   margin=go.Margin(l=50, r=50, b=50, t=50, pad=4))\n",
    "fig = dict(data=data, layout=layout)\n",
    "if SAVE_OUTPUT:\n",
    "    py.plot(fig, image='png', image_width=700, image_height=200,\n",
    "            image_filename='4_6_jumping')\n",
    "py.iplot(fig)"
   ]
  },
  {
   "cell_type": "markdown",
   "metadata": {},
   "source": [
    "### 4.7 Mounting/Humping:"
   ]
  },
  {
   "cell_type": "code",
   "execution_count": 79,
   "metadata": {},
   "outputs": [
    {
     "data": {
      "application/vnd.plotly.v1+json": {
       "data": [
        {
         "cells": {
          "align": [
           "left",
           "left",
           "left"
          ],
          "format": [
           null,
           "d",
           ".2f"
          ],
          "values": [
           [
            "Familiar dogs",
            "People",
            "Unfamiliar dogs",
            "Inanimate objects"
           ],
           [
            259,
            151,
            110,
            102
           ],
           [
            6.295576081672339,
            3.6703937773456494,
            2.6737967914438503,
            2.479338842975207
           ]
          ]
         },
         "columnwidth": [
          200,
          100,
          100
         ],
         "header": {
          "align": [
           "left",
           "left",
           "left"
          ],
          "fill": {
           "color": "#B0C4DE"
          },
          "values": [
           "Mounting/Humping",
           "Number of Dogs",
           "Prevalence (%)"
          ]
         },
         "type": "table"
        }
       ],
       "layout": {
        "height": 225,
        "margin": {
         "b": 50,
         "l": 50,
         "pad": 4,
         "r": 50,
         "t": 50
        },
        "title": "Prevalence of Mounting/Humping",
        "width": 700
       }
      },
      "text/html": [
       "<div id=\"d9967206-e058-48aa-8eba-c5d341faed24\" style=\"height: 225px; width: 700px;\" class=\"plotly-graph-div\"></div><script type=\"text/javascript\">require([\"plotly\"], function(Plotly) { window.PLOTLYENV=window.PLOTLYENV || {};window.PLOTLYENV.BASE_URL=\"https://plot.ly\";Plotly.newPlot(\"d9967206-e058-48aa-8eba-c5d341faed24\", [{\"type\": \"table\", \"columnwidth\": [200, 100, 100], \"header\": {\"values\": [\"Mounting/Humping\", \"Number of Dogs\", \"Prevalence (%)\"], \"fill\": {\"color\": \"#B0C4DE\"}, \"align\": [\"left\", \"left\", \"left\"]}, \"cells\": {\"values\": [[\"Familiar dogs\", \"People\", \"Unfamiliar dogs\", \"Inanimate objects\"], [259, 151, 110, 102], [6.295576081672339, 3.6703937773456494, 2.6737967914438503, 2.479338842975207]], \"align\": [\"left\", \"left\", \"left\"], \"format\": [null, \"d\", \".2f\"]}}], {\"title\": \"Prevalence of Mounting/Humping\", \"width\": 700, \"height\": 225, \"margin\": {\"l\": 50, \"r\": 50, \"b\": 50, \"t\": 50, \"pad\": 4}}, {\"showLink\": true, \"linkText\": \"Export to plot.ly\"})});</script>"
      ],
      "text/vnd.plotly.v1+html": [
       "<div id=\"d9967206-e058-48aa-8eba-c5d341faed24\" style=\"height: 225px; width: 700px;\" class=\"plotly-graph-div\"></div><script type=\"text/javascript\">require([\"plotly\"], function(Plotly) { window.PLOTLYENV=window.PLOTLYENV || {};window.PLOTLYENV.BASE_URL=\"https://plot.ly\";Plotly.newPlot(\"d9967206-e058-48aa-8eba-c5d341faed24\", [{\"type\": \"table\", \"columnwidth\": [200, 100, 100], \"header\": {\"values\": [\"Mounting/Humping\", \"Number of Dogs\", \"Prevalence (%)\"], \"fill\": {\"color\": \"#B0C4DE\"}, \"align\": [\"left\", \"left\", \"left\"]}, \"cells\": {\"values\": [[\"Familiar dogs\", \"People\", \"Unfamiliar dogs\", \"Inanimate objects\"], [259, 151, 110, 102], [6.295576081672339, 3.6703937773456494, 2.6737967914438503, 2.479338842975207]], \"align\": [\"left\", \"left\", \"left\"], \"format\": [null, \"d\", \".2f\"]}}], {\"title\": \"Prevalence of Mounting/Humping\", \"width\": 700, \"height\": 225, \"margin\": {\"l\": 50, \"r\": 50, \"b\": 50, \"t\": 50, \"pad\": 4}}, {\"showLink\": true, \"linkText\": \"Export to plot.ly\"})});</script>"
      ]
     },
     "metadata": {},
     "output_type": "display_data"
    }
   ],
   "source": [
    "# Create the necessary dataframe.\n",
    "fields = ', '.join(FR.fields[CATEGORY[6]])\n",
    "labels = list(FR.labels[CATEGORY[6]].values())\n",
    "df = createNumericDataFrame(DOG_TABLE, fields, labels, filtered=True)\n",
    "\n",
    "# Get individual behavior problem counts and display as a table.\n",
    "sums = df.sum()\n",
    "sums = sums.sort_values(ascending=False)\n",
    "\n",
    "# Calculate the prevalence of each behavior problem.\n",
    "prevalences = sums.apply(PREVALENCE)\n",
    "\n",
    "# Get individual behavior problem counts and display as a table.\n",
    "data = [go.Table(columnwidth = [200, 100, 100],\n",
    "                 header=dict(values=[CATEGORY[6], 'Number of Dogs', 'Prevalence (%)'],\n",
    "                             fill = dict(color='#B0C4DE'),\n",
    "                             align = ['left'] * 3),\n",
    "                 cells=dict(values=[sums.index.values, sums.values, prevalences.values],\n",
    "                            align = ['left'] * 3,\n",
    "                            format = [None, 'd', '.2f']))]\n",
    "layout = go.Layout(title='Prevalence of {}'.format(CATEGORY[6]),\n",
    "                   width=700,\n",
    "                   height=225,\n",
    "                   margin=go.Margin(l=50, r=50, b=50, t=50, pad=4))\n",
    "fig = dict(data=data, layout=layout)\n",
    "if SAVE_OUTPUT:\n",
    "    py.plot(fig, image='png', image_width=700, image_height=225,\n",
    "            image_filename='4_7_mounting')\n",
    "py.iplot(fig)"
   ]
  },
  {
   "cell_type": "markdown",
   "metadata": {},
   "source": [
    "### 4.8 Consumption of Feces:"
   ]
  },
  {
   "cell_type": "code",
   "execution_count": 80,
   "metadata": {},
   "outputs": [
    {
     "data": {
      "application/vnd.plotly.v1+json": {
       "data": [
        {
         "cells": {
          "align": [
           "left",
           "left",
           "left"
          ],
          "format": [
           null,
           "d",
           ".2f"
          ],
          "values": [
           [
            "Other species'",
            "Other dogs'",
            "Their own"
           ],
           [
            420,
            416,
            344
           ],
           [
            10.209042294603792,
            10.11181332036947,
            8.361691784151677
           ]
          ]
         },
         "columnwidth": [
          200,
          100,
          100
         ],
         "header": {
          "align": [
           "left",
           "left",
           "left"
          ],
          "fill": {
           "color": "#B0C4DE"
          },
          "values": [
           "Consuming Feces",
           "Number of Dogs",
           "Prevalence (%)"
          ]
         },
         "type": "table"
        }
       ],
       "layout": {
        "height": 200,
        "margin": {
         "b": 50,
         "l": 50,
         "pad": 4,
         "r": 50,
         "t": 50
        },
        "title": "Prevalence of Consuming Feces",
        "width": 700
       }
      },
      "text/html": [
       "<div id=\"783af714-93db-4356-accd-3440f9e5ba4a\" style=\"height: 200px; width: 700px;\" class=\"plotly-graph-div\"></div><script type=\"text/javascript\">require([\"plotly\"], function(Plotly) { window.PLOTLYENV=window.PLOTLYENV || {};window.PLOTLYENV.BASE_URL=\"https://plot.ly\";Plotly.newPlot(\"783af714-93db-4356-accd-3440f9e5ba4a\", [{\"type\": \"table\", \"columnwidth\": [200, 100, 100], \"header\": {\"values\": [\"Consuming Feces\", \"Number of Dogs\", \"Prevalence (%)\"], \"fill\": {\"color\": \"#B0C4DE\"}, \"align\": [\"left\", \"left\", \"left\"]}, \"cells\": {\"values\": [[\"Other species'\", \"Other dogs'\", \"Their own\"], [420, 416, 344], [10.209042294603792, 10.11181332036947, 8.361691784151677]], \"align\": [\"left\", \"left\", \"left\"], \"format\": [null, \"d\", \".2f\"]}}], {\"title\": \"Prevalence of Consuming Feces\", \"width\": 700, \"height\": 200, \"margin\": {\"l\": 50, \"r\": 50, \"b\": 50, \"t\": 50, \"pad\": 4}}, {\"showLink\": true, \"linkText\": \"Export to plot.ly\"})});</script>"
      ],
      "text/vnd.plotly.v1+html": [
       "<div id=\"783af714-93db-4356-accd-3440f9e5ba4a\" style=\"height: 200px; width: 700px;\" class=\"plotly-graph-div\"></div><script type=\"text/javascript\">require([\"plotly\"], function(Plotly) { window.PLOTLYENV=window.PLOTLYENV || {};window.PLOTLYENV.BASE_URL=\"https://plot.ly\";Plotly.newPlot(\"783af714-93db-4356-accd-3440f9e5ba4a\", [{\"type\": \"table\", \"columnwidth\": [200, 100, 100], \"header\": {\"values\": [\"Consuming Feces\", \"Number of Dogs\", \"Prevalence (%)\"], \"fill\": {\"color\": \"#B0C4DE\"}, \"align\": [\"left\", \"left\", \"left\"]}, \"cells\": {\"values\": [[\"Other species'\", \"Other dogs'\", \"Their own\"], [420, 416, 344], [10.209042294603792, 10.11181332036947, 8.361691784151677]], \"align\": [\"left\", \"left\", \"left\"], \"format\": [null, \"d\", \".2f\"]}}], {\"title\": \"Prevalence of Consuming Feces\", \"width\": 700, \"height\": 200, \"margin\": {\"l\": 50, \"r\": 50, \"b\": 50, \"t\": 50, \"pad\": 4}}, {\"showLink\": true, \"linkText\": \"Export to plot.ly\"})});</script>"
      ]
     },
     "metadata": {},
     "output_type": "display_data"
    }
   ],
   "source": [
    "# Create the necessary dataframe.\n",
    "fields = ', '.join(FR.fields[CATEGORY[7]])\n",
    "labels = list(FR.labels[CATEGORY[7]].values())\n",
    "df = createNumericDataFrame(DOG_TABLE, fields, labels, filtered=True)\n",
    "\n",
    "# Get individual behavior problem counts and display as a table.\n",
    "sums = df.sum()\n",
    "sums = sums.sort_values(ascending=False)\n",
    "\n",
    "# Calculate the prevalence of each behavior problem.\n",
    "prevalences = sums.apply(PREVALENCE)\n",
    "\n",
    "# Get individual behavior problem counts and display as a table.\n",
    "data = [go.Table(columnwidth = [200, 100, 100],\n",
    "                 header=dict(values=[CATEGORY[7], 'Number of Dogs', 'Prevalence (%)'],\n",
    "                             fill = dict(color='#B0C4DE'),\n",
    "                             align = ['left'] * 3),\n",
    "                 cells=dict(values=[sums.index.values, sums.values, prevalences.values],\n",
    "                            align = ['left'] * 3,\n",
    "                            format = [None, 'd', '.2f']))]\n",
    "layout = go.Layout(title='Prevalence of {}'.format(CATEGORY[7]),\n",
    "                   width=700,\n",
    "                   height=200,\n",
    "                   margin=go.Margin(l=50, r=50, b=50, t=50, pad=4))\n",
    "fig = dict(data=data, layout=layout)\n",
    "if SAVE_OUTPUT:\n",
    "    py.plot(fig, image='png', image_width=700, image_height=200,\n",
    "            image_filename='4_8_feces_consumption')\n",
    "py.iplot(fig)"
   ]
  },
  {
   "cell_type": "markdown",
   "metadata": {},
   "source": [
    "### 4.9 Destructive Behavior:"
   ]
  },
  {
   "cell_type": "code",
   "execution_count": 81,
   "metadata": {},
   "outputs": [
    {
     "data": {
      "application/vnd.plotly.v1+json": {
       "data": [
        {
         "cells": {
          "align": [
           "left",
           "left",
           "left"
          ],
          "format": [
           null,
           "d",
           ".2f"
          ],
          "values": [
           [
            "Owner is away",
            "Owner is home"
           ],
           [
            397,
            222
           ],
           [
            9.649975692756442,
            5.396208070004861
           ]
          ]
         },
         "columnwidth": [
          200,
          100,
          100
         ],
         "header": {
          "align": [
           "left",
           "left",
           "left"
          ],
          "fill": {
           "color": "#B0C4DE"
          },
          "values": [
           "Destructive Behavior",
           "Number of Dogs",
           "Prevalence (%)"
          ]
         },
         "type": "table"
        }
       ],
       "layout": {
        "height": 175,
        "margin": {
         "b": 50,
         "l": 50,
         "pad": 4,
         "r": 50,
         "t": 50
        },
        "title": "Prevalence of Destructive Behavior",
        "width": 700
       }
      },
      "text/html": [
       "<div id=\"3c905325-f2c8-49c4-a71e-3548d3aaac94\" style=\"height: 175px; width: 700px;\" class=\"plotly-graph-div\"></div><script type=\"text/javascript\">require([\"plotly\"], function(Plotly) { window.PLOTLYENV=window.PLOTLYENV || {};window.PLOTLYENV.BASE_URL=\"https://plot.ly\";Plotly.newPlot(\"3c905325-f2c8-49c4-a71e-3548d3aaac94\", [{\"type\": \"table\", \"columnwidth\": [200, 100, 100], \"header\": {\"values\": [\"Destructive Behavior\", \"Number of Dogs\", \"Prevalence (%)\"], \"fill\": {\"color\": \"#B0C4DE\"}, \"align\": [\"left\", \"left\", \"left\"]}, \"cells\": {\"values\": [[\"Owner is away\", \"Owner is home\"], [397, 222], [9.649975692756442, 5.396208070004861]], \"align\": [\"left\", \"left\", \"left\"], \"format\": [null, \"d\", \".2f\"]}}], {\"title\": \"Prevalence of Destructive Behavior\", \"width\": 700, \"height\": 175, \"margin\": {\"l\": 50, \"r\": 50, \"b\": 50, \"t\": 50, \"pad\": 4}}, {\"showLink\": true, \"linkText\": \"Export to plot.ly\"})});</script>"
      ],
      "text/vnd.plotly.v1+html": [
       "<div id=\"3c905325-f2c8-49c4-a71e-3548d3aaac94\" style=\"height: 175px; width: 700px;\" class=\"plotly-graph-div\"></div><script type=\"text/javascript\">require([\"plotly\"], function(Plotly) { window.PLOTLYENV=window.PLOTLYENV || {};window.PLOTLYENV.BASE_URL=\"https://plot.ly\";Plotly.newPlot(\"3c905325-f2c8-49c4-a71e-3548d3aaac94\", [{\"type\": \"table\", \"columnwidth\": [200, 100, 100], \"header\": {\"values\": [\"Destructive Behavior\", \"Number of Dogs\", \"Prevalence (%)\"], \"fill\": {\"color\": \"#B0C4DE\"}, \"align\": [\"left\", \"left\", \"left\"]}, \"cells\": {\"values\": [[\"Owner is away\", \"Owner is home\"], [397, 222], [9.649975692756442, 5.396208070004861]], \"align\": [\"left\", \"left\", \"left\"], \"format\": [null, \"d\", \".2f\"]}}], {\"title\": \"Prevalence of Destructive Behavior\", \"width\": 700, \"height\": 175, \"margin\": {\"l\": 50, \"r\": 50, \"b\": 50, \"t\": 50, \"pad\": 4}}, {\"showLink\": true, \"linkText\": \"Export to plot.ly\"})});</script>"
      ]
     },
     "metadata": {},
     "output_type": "display_data"
    }
   ],
   "source": [
    "# Create the necessary dataframe.\n",
    "fields = ', '.join(FR.fields[CATEGORY[8]])\n",
    "labels = list(FR.labels[CATEGORY[8]].values())\n",
    "df = createNumericDataFrame(DOG_TABLE, fields, labels, filtered=True)\n",
    "\n",
    "# Get individual behavior problem counts and display as a table.\n",
    "sums = df.sum()\n",
    "sums = sums.sort_values(ascending=False)\n",
    "\n",
    "# Calculate the prevalence of each behavior problem.\n",
    "prevalences = sums.apply(PREVALENCE)\n",
    "\n",
    "# Get individual behavior problem counts and display as a table.\n",
    "data = [go.Table(columnwidth = [200, 100, 100],\n",
    "                 header=dict(values=[CATEGORY[8], 'Number of Dogs', 'Prevalence (%)'],\n",
    "                             fill = dict(color='#B0C4DE'),\n",
    "                             align = ['left'] * 3),\n",
    "                 cells=dict(values=[sums.index.values, sums.values, prevalences.values],\n",
    "                            align = ['left'] * 3,\n",
    "                            format = [None, 'd', '.2f']))]\n",
    "layout = go.Layout(title='Prevalence of {}'.format(CATEGORY[8]),\n",
    "                   width=700,\n",
    "                   height=175,\n",
    "                   margin=go.Margin(l=50, r=50, b=50, t=50, pad=4))\n",
    "fig = dict(data=data, layout=layout)\n",
    "if SAVE_OUTPUT:\n",
    "    py.plot(fig, image='png', image_width=700, image_height=175,\n",
    "            image_filename='4_9_destructive')\n",
    "py.iplot(fig)"
   ]
  },
  {
   "cell_type": "markdown",
   "metadata": {},
   "source": [
    "### 4.10 Rolling in Repulsive Materials:"
   ]
  },
  {
   "cell_type": "code",
   "execution_count": 82,
   "metadata": {},
   "outputs": [
    {
     "data": {
      "application/vnd.plotly.v1+json": {
       "data": [
        {
         "cells": {
          "align": [
           "left",
           "left",
           "left"
          ],
          "format": [
           null,
           "d",
           ".2f"
          ],
          "values": [
           [
            "Dead Stuff",
            "Feces",
            "Urine",
            "Garbage"
           ],
           [
            436,
            321,
            72,
            66
           ],
           [
            10.597958191541078,
            7.802625182304326,
            1.750121536217793,
            1.6042780748663104
           ]
          ]
         },
         "columnwidth": [
          200,
          100,
          100
         ],
         "header": {
          "align": [
           "left",
           "left",
           "left"
          ],
          "fill": {
           "color": "#B0C4DE"
          },
          "values": [
           "Rolling in Repulsive Material",
           "Number of Dogs",
           "Prevalence (%)"
          ]
         },
         "type": "table"
        }
       ],
       "layout": {
        "height": 225,
        "margin": {
         "b": 50,
         "l": 50,
         "pad": 4,
         "r": 50,
         "t": 50
        },
        "title": "Prevalence of Rolling in Repulsive Material",
        "width": 700
       }
      },
      "text/html": [
       "<div id=\"722d897c-75b8-4618-870f-a7f26ce5623f\" style=\"height: 225px; width: 700px;\" class=\"plotly-graph-div\"></div><script type=\"text/javascript\">require([\"plotly\"], function(Plotly) { window.PLOTLYENV=window.PLOTLYENV || {};window.PLOTLYENV.BASE_URL=\"https://plot.ly\";Plotly.newPlot(\"722d897c-75b8-4618-870f-a7f26ce5623f\", [{\"type\": \"table\", \"columnwidth\": [200, 100, 100], \"header\": {\"values\": [\"Rolling in Repulsive Material\", \"Number of Dogs\", \"Prevalence (%)\"], \"fill\": {\"color\": \"#B0C4DE\"}, \"align\": [\"left\", \"left\", \"left\"]}, \"cells\": {\"values\": [[\"Dead Stuff\", \"Feces\", \"Urine\", \"Garbage\"], [436, 321, 72, 66], [10.597958191541078, 7.802625182304326, 1.750121536217793, 1.6042780748663104]], \"align\": [\"left\", \"left\", \"left\"], \"format\": [null, \"d\", \".2f\"]}}], {\"title\": \"Prevalence of Rolling in Repulsive Material\", \"width\": 700, \"height\": 225, \"margin\": {\"l\": 50, \"r\": 50, \"b\": 50, \"t\": 50, \"pad\": 4}}, {\"showLink\": true, \"linkText\": \"Export to plot.ly\"})});</script>"
      ],
      "text/vnd.plotly.v1+html": [
       "<div id=\"722d897c-75b8-4618-870f-a7f26ce5623f\" style=\"height: 225px; width: 700px;\" class=\"plotly-graph-div\"></div><script type=\"text/javascript\">require([\"plotly\"], function(Plotly) { window.PLOTLYENV=window.PLOTLYENV || {};window.PLOTLYENV.BASE_URL=\"https://plot.ly\";Plotly.newPlot(\"722d897c-75b8-4618-870f-a7f26ce5623f\", [{\"type\": \"table\", \"columnwidth\": [200, 100, 100], \"header\": {\"values\": [\"Rolling in Repulsive Material\", \"Number of Dogs\", \"Prevalence (%)\"], \"fill\": {\"color\": \"#B0C4DE\"}, \"align\": [\"left\", \"left\", \"left\"]}, \"cells\": {\"values\": [[\"Dead Stuff\", \"Feces\", \"Urine\", \"Garbage\"], [436, 321, 72, 66], [10.597958191541078, 7.802625182304326, 1.750121536217793, 1.6042780748663104]], \"align\": [\"left\", \"left\", \"left\"], \"format\": [null, \"d\", \".2f\"]}}], {\"title\": \"Prevalence of Rolling in Repulsive Material\", \"width\": 700, \"height\": 225, \"margin\": {\"l\": 50, \"r\": 50, \"b\": 50, \"t\": 50, \"pad\": 4}}, {\"showLink\": true, \"linkText\": \"Export to plot.ly\"})});</script>"
      ]
     },
     "metadata": {},
     "output_type": "display_data"
    }
   ],
   "source": [
    "# Create the necessary dataframe.\n",
    "fields = ', '.join(FR.fields[CATEGORY[9]])\n",
    "labels = list(FR.labels[CATEGORY[9]].values())\n",
    "df = createNumericDataFrame(DOG_TABLE, fields, labels, filtered=True)\n",
    "\n",
    "# Get individual behavior problem counts and display as a table.\n",
    "sums = df.sum()\n",
    "sums = sums.sort_values(ascending=False)\n",
    "\n",
    "# Calculate the prevalence of each behavior problem.\n",
    "prevalences = sums.apply(PREVALENCE)\n",
    "\n",
    "# Get individual behavior problem counts and display as a table.\n",
    "data = [go.Table(columnwidth = [200, 100, 100],\n",
    "                 header=dict(values=[CATEGORY[9], 'Number of Dogs', 'Prevalence (%)'],\n",
    "                             fill = dict(color='#B0C4DE'),\n",
    "                             align = ['left'] * 3),\n",
    "                 cells=dict(values=[sums.index.values, sums.values, prevalences.values],\n",
    "                            align = ['left'] * 3,\n",
    "                            format = [None, 'd', '.2f']))]\n",
    "layout = go.Layout(title='Prevalence of {}'.format(CATEGORY[9]),\n",
    "                   width=700,\n",
    "                   height=225,\n",
    "                   margin=go.Margin(l=50, r=50, b=50, t=50, pad=4))\n",
    "fig = dict(data=data, layout=layout)\n",
    "if SAVE_OUTPUT:\n",
    "    py.plot(fig, image='png', image_width=700, image_height=225,\n",
    "            image_filename='4_10_rolling_in_repulsive')\n",
    "py.iplot(fig)"
   ]
  },
  {
   "cell_type": "markdown",
   "metadata": {},
   "source": [
    "### 4.11 Running Away/Escaping:"
   ]
  },
  {
   "cell_type": "code",
   "execution_count": 83,
   "metadata": {},
   "outputs": [
    {
     "data": {
      "application/vnd.plotly.v1+json": {
       "data": [
        {
         "cells": {
          "align": [
           "left",
           "left",
           "left"
          ],
          "format": [
           null,
           "d",
           ".2f"
          ],
          "values": [
           [
            "Escapes from home",
            "Escapes when out",
            "Escapes from confinement",
            "Returns home after escape"
           ],
           [
            239,
            207,
            192,
            147
           ],
           [
            5.809431210500729,
            5.031599416626155,
            4.666990763247448,
            3.573164803111327
           ]
          ]
         },
         "columnwidth": [
          200,
          100,
          100
         ],
         "header": {
          "align": [
           "left",
           "left",
           "left"
          ],
          "fill": {
           "color": "#B0C4DE"
          },
          "values": [
           "Running Away/Escaping",
           "Number of Dogs",
           "Prevalence (%)"
          ]
         },
         "type": "table"
        }
       ],
       "layout": {
        "height": 225,
        "margin": {
         "b": 50,
         "l": 50,
         "pad": 4,
         "r": 50,
         "t": 50
        },
        "title": "Prevalence of Running Away/Escaping",
        "width": 700
       }
      },
      "text/html": [
       "<div id=\"8a7a1fc8-ba56-4e60-b6a3-d17abcfa5dba\" style=\"height: 225px; width: 700px;\" class=\"plotly-graph-div\"></div><script type=\"text/javascript\">require([\"plotly\"], function(Plotly) { window.PLOTLYENV=window.PLOTLYENV || {};window.PLOTLYENV.BASE_URL=\"https://plot.ly\";Plotly.newPlot(\"8a7a1fc8-ba56-4e60-b6a3-d17abcfa5dba\", [{\"type\": \"table\", \"columnwidth\": [200, 100, 100], \"header\": {\"values\": [\"Running Away/Escaping\", \"Number of Dogs\", \"Prevalence (%)\"], \"fill\": {\"color\": \"#B0C4DE\"}, \"align\": [\"left\", \"left\", \"left\"]}, \"cells\": {\"values\": [[\"Escapes from home\", \"Escapes when out\", \"Escapes from confinement\", \"Returns home after escape\"], [239.0, 207.0, 192.0, 147.0], [5.809431210500729, 5.031599416626155, 4.666990763247448, 3.573164803111327]], \"align\": [\"left\", \"left\", \"left\"], \"format\": [null, \"d\", \".2f\"]}}], {\"title\": \"Prevalence of Running Away/Escaping\", \"width\": 700, \"height\": 225, \"margin\": {\"l\": 50, \"r\": 50, \"b\": 50, \"t\": 50, \"pad\": 4}}, {\"showLink\": true, \"linkText\": \"Export to plot.ly\"})});</script>"
      ],
      "text/vnd.plotly.v1+html": [
       "<div id=\"8a7a1fc8-ba56-4e60-b6a3-d17abcfa5dba\" style=\"height: 225px; width: 700px;\" class=\"plotly-graph-div\"></div><script type=\"text/javascript\">require([\"plotly\"], function(Plotly) { window.PLOTLYENV=window.PLOTLYENV || {};window.PLOTLYENV.BASE_URL=\"https://plot.ly\";Plotly.newPlot(\"8a7a1fc8-ba56-4e60-b6a3-d17abcfa5dba\", [{\"type\": \"table\", \"columnwidth\": [200, 100, 100], \"header\": {\"values\": [\"Running Away/Escaping\", \"Number of Dogs\", \"Prevalence (%)\"], \"fill\": {\"color\": \"#B0C4DE\"}, \"align\": [\"left\", \"left\", \"left\"]}, \"cells\": {\"values\": [[\"Escapes from home\", \"Escapes when out\", \"Escapes from confinement\", \"Returns home after escape\"], [239.0, 207.0, 192.0, 147.0], [5.809431210500729, 5.031599416626155, 4.666990763247448, 3.573164803111327]], \"align\": [\"left\", \"left\", \"left\"], \"format\": [null, \"d\", \".2f\"]}}], {\"title\": \"Prevalence of Running Away/Escaping\", \"width\": 700, \"height\": 225, \"margin\": {\"l\": 50, \"r\": 50, \"b\": 50, \"t\": 50, \"pad\": 4}}, {\"showLink\": true, \"linkText\": \"Export to plot.ly\"})});</script>"
      ]
     },
     "metadata": {},
     "output_type": "display_data"
    }
   ],
   "source": [
    "# Create the necessary dataframe.\n",
    "fields = ', '.join(FR.fields[CATEGORY[10]])\n",
    "labels = list(FR.labels[CATEGORY[10]].values())\n",
    "df = createNumericDataFrame(DOG_TABLE, fields, labels, filtered=True)\n",
    "\n",
    "# Get individual behavior problem counts and display as a table.\n",
    "sums = df.sum()\n",
    "sums = sums.sort_values(ascending=False)\n",
    "\n",
    "# Calculate the prevalence of each behavior problem.\n",
    "prevalences = sums.apply(PREVALENCE)\n",
    "\n",
    "# Get individual behavior problem counts and display as a table.\n",
    "data = [go.Table(columnwidth = [200, 100, 100],\n",
    "                 header=dict(values=[CATEGORY[10], 'Number of Dogs', 'Prevalence (%)'],\n",
    "                             fill = dict(color='#B0C4DE'),\n",
    "                             align = ['left'] * 3),\n",
    "                 cells=dict(values=[sums.index.values, sums.values, prevalences.values],\n",
    "                            align = ['left'] * 3,\n",
    "                            format = [None, 'd', '.2f']))]\n",
    "layout = go.Layout(title='Prevalence of {}'.format(CATEGORY[10]),\n",
    "                   width=700,\n",
    "                   height=225,\n",
    "                   margin=go.Margin(l=50, r=50, b=50, t=50, pad=4))\n",
    "fig = dict(data=data, layout=layout)\n",
    "if SAVE_OUTPUT:\n",
    "    py.plot(fig, image='png', image_width=700, image_height=225,\n",
    "            image_filename='4_11_running_away')\n",
    "py.iplot(fig)"
   ]
  },
  {
   "cell_type": "markdown",
   "metadata": {},
   "source": [
    "### 4.12 Overactivity/Hyperactivity:"
   ]
  },
  {
   "cell_type": "code",
   "execution_count": 84,
   "metadata": {},
   "outputs": [
    {
     "data": {
      "application/vnd.plotly.v1+json": {
       "data": [
        {
         "cells": {
          "align": [
           "left",
           "left",
           "left"
          ],
          "format": [
           null,
           "d",
           ".2f"
          ],
          "values": [
           [
            "Difficulty settling",
            "Constant moving/jumping",
            "Impulsive",
            "Highly distractible"
           ],
           [
            314,
            276,
            270,
            224
           ],
           [
            7.632474477394263,
            6.7087992221682065,
            6.562955760816723,
            5.444822557122023
           ]
          ]
         },
         "columnwidth": [
          200,
          100,
          100
         ],
         "header": {
          "align": [
           "left",
           "left",
           "left"
          ],
          "fill": {
           "color": "#B0C4DE"
          },
          "values": [
           "Overactivity/Hyperactivity",
           "Number of Dogs",
           "Prevalence (%)"
          ]
         },
         "type": "table"
        }
       ],
       "layout": {
        "height": 225,
        "margin": {
         "b": 50,
         "l": 50,
         "pad": 4,
         "r": 50,
         "t": 50
        },
        "title": "Prevalence of Overactivity/Hyperactivity",
        "width": 700
       }
      },
      "text/html": [
       "<div id=\"49b0e308-d5ad-4888-9918-e40d060798db\" style=\"height: 225px; width: 700px;\" class=\"plotly-graph-div\"></div><script type=\"text/javascript\">require([\"plotly\"], function(Plotly) { window.PLOTLYENV=window.PLOTLYENV || {};window.PLOTLYENV.BASE_URL=\"https://plot.ly\";Plotly.newPlot(\"49b0e308-d5ad-4888-9918-e40d060798db\", [{\"type\": \"table\", \"columnwidth\": [200, 100, 100], \"header\": {\"values\": [\"Overactivity/Hyperactivity\", \"Number of Dogs\", \"Prevalence (%)\"], \"fill\": {\"color\": \"#B0C4DE\"}, \"align\": [\"left\", \"left\", \"left\"]}, \"cells\": {\"values\": [[\"Difficulty settling\", \"Constant moving/jumping\", \"Impulsive\", \"Highly distractible\"], [314, 276, 270, 224], [7.632474477394263, 6.7087992221682065, 6.562955760816723, 5.444822557122023]], \"align\": [\"left\", \"left\", \"left\"], \"format\": [null, \"d\", \".2f\"]}}], {\"title\": \"Prevalence of Overactivity/Hyperactivity\", \"width\": 700, \"height\": 225, \"margin\": {\"l\": 50, \"r\": 50, \"b\": 50, \"t\": 50, \"pad\": 4}}, {\"showLink\": true, \"linkText\": \"Export to plot.ly\"})});</script>"
      ],
      "text/vnd.plotly.v1+html": [
       "<div id=\"49b0e308-d5ad-4888-9918-e40d060798db\" style=\"height: 225px; width: 700px;\" class=\"plotly-graph-div\"></div><script type=\"text/javascript\">require([\"plotly\"], function(Plotly) { window.PLOTLYENV=window.PLOTLYENV || {};window.PLOTLYENV.BASE_URL=\"https://plot.ly\";Plotly.newPlot(\"49b0e308-d5ad-4888-9918-e40d060798db\", [{\"type\": \"table\", \"columnwidth\": [200, 100, 100], \"header\": {\"values\": [\"Overactivity/Hyperactivity\", \"Number of Dogs\", \"Prevalence (%)\"], \"fill\": {\"color\": \"#B0C4DE\"}, \"align\": [\"left\", \"left\", \"left\"]}, \"cells\": {\"values\": [[\"Difficulty settling\", \"Constant moving/jumping\", \"Impulsive\", \"Highly distractible\"], [314, 276, 270, 224], [7.632474477394263, 6.7087992221682065, 6.562955760816723, 5.444822557122023]], \"align\": [\"left\", \"left\", \"left\"], \"format\": [null, \"d\", \".2f\"]}}], {\"title\": \"Prevalence of Overactivity/Hyperactivity\", \"width\": 700, \"height\": 225, \"margin\": {\"l\": 50, \"r\": 50, \"b\": 50, \"t\": 50, \"pad\": 4}}, {\"showLink\": true, \"linkText\": \"Export to plot.ly\"})});</script>"
      ]
     },
     "metadata": {},
     "output_type": "display_data"
    }
   ],
   "source": [
    "# Create the necessary dataframe.\n",
    "fields = ', '.join(FR.fields[CATEGORY[11]])\n",
    "labels = list(FR.labels[CATEGORY[11]].values())\n",
    "df = createNumericDataFrame(DOG_TABLE, fields, labels, filtered=True)\n",
    "\n",
    "# Get individual behavior problem counts and display as a table.\n",
    "sums = df.sum()\n",
    "sums = sums.sort_values(ascending=False)\n",
    "\n",
    "# Calculate the prevalence of each behavior problem.\n",
    "prevalences = sums.apply(PREVALENCE)\n",
    "\n",
    "# Get individual behavior problem counts and display as a table.\n",
    "data = [go.Table(columnwidth = [200, 100, 100],\n",
    "                 header=dict(values=[CATEGORY[11], 'Number of Dogs', 'Prevalence (%)'],\n",
    "                             fill = dict(color='#B0C4DE'),\n",
    "                             align = ['left'] * 3),\n",
    "                 cells=dict(values=[sums.index.values, sums.values, prevalences.values],\n",
    "                            align = ['left'] * 3,\n",
    "                            format = [None, 'd', '.2f']))]\n",
    "layout = go.Layout(title='Prevalence of {}'.format(CATEGORY[11]),\n",
    "                   width=700,\n",
    "                   height=225,\n",
    "                   margin=go.Margin(l=50, r=50, b=50, t=50, pad=4))\n",
    "fig = dict(data=data, layout=layout)\n",
    "if SAVE_OUTPUT:\n",
    "    py.plot(fig, image='png', image_width=700, image_height=225,\n",
    "            image_filename='4_12_hyperactivity')\n",
    "py.iplot(fig)"
   ]
  },
  {
   "cell_type": "markdown",
   "metadata": {},
   "source": [
    "## 5 Separation Anxiety, Noise Phobia, and Thunderstorm Phobia"
   ]
  },
  {
   "cell_type": "markdown",
   "metadata": {},
   "source": [
    "### 5.1 Individual Independence:"
   ]
  },
  {
   "cell_type": "code",
   "execution_count": 85,
   "metadata": {},
   "outputs": [
    {
     "data": {
      "image/png": "[encoded data removed]",
      "text/plain": [
       "<Figure size 432x288 with 1 Axes>"
      ]
     },
     "metadata": {},
     "output_type": "display_data"
    },
    {
     "name": "stdout",
     "output_type": "stream",
     "text": [
      "Chi-squared Test of Independence for thunderstorm phobia and noise phobia:\n",
      "chi2 = 1331.774877, p = 1.41E-291, dof = 1\n",
      "The resulting p-value is below the set significance threshold (0.01).\n"
     ]
    },
    {
     "data": {
      "image/png": "[encoded data removed]",
      "text/plain": [
       "<Figure size 432x288 with 1 Axes>"
      ]
     },
     "metadata": {},
     "output_type": "display_data"
    },
    {
     "name": "stdout",
     "output_type": "stream",
     "text": [
      "Chi-squared Test of Independence for thunderstorm phobia and separation anxiety:\n",
      "chi2 = 183.558945, p = 8.10E-42, dof = 1\n",
      "The resulting p-value is below the set significance threshold (0.01).\n"
     ]
    },
    {
     "data": {
      "image/png": "[encoded data removed]",
      "text/plain": [
       "<Figure size 432x288 with 1 Axes>"
      ]
     },
     "metadata": {},
     "output_type": "display_data"
    },
    {
     "name": "stdout",
     "output_type": "stream",
     "text": [
      "Chi-squared Test of Independence for noise phobia and separation anxiety:\n",
      "chi2 = 218.299764, p = 2.12E-49, dof = 1\n",
      "The resulting p-value is below the set significance threshold (0.01).\n"
     ]
    }
   ],
   "source": [
    "# Create the necessary dataframe.\n",
    "fields = 'q04_1, q04_2, q04_9'\n",
    "labels = ['thunderstorm phobia', 'noise phobia', 'separation anxiety']\n",
    "df = createNumericDataFrame(DOG_TABLE, fields, labels, filtered=True)\n",
    "\n",
    "pairs = [['thunderstorm phobia', 'noise phobia'],\n",
    "         ['thunderstorm phobia', 'separation anxiety'],\n",
    "         ['noise phobia', 'separation anxiety']]\n",
    "\n",
    "titles = ['Thunderstorm Phobia and Noise Phobia',\n",
    "          'Thunderstorm Phobia and Separation Anxiety',\n",
    "          'Noise Phobia and Separation Anxiety']\n",
    "\n",
    "counter = 0\n",
    "for pair in pairs:\n",
    "    # Create a contingency table.\n",
    "    contingency = pd.crosstab(df[pair[0]], df[pair[1]])\n",
    "    # Convert the cross tabulated dataframe to a series of sums.\n",
    "    d = {pair[0]: contingency[0][1],\n",
    "         pair[1]: contingency[1][0],\n",
    "         'both': contingency[1][1]}   \n",
    "    cross_sums = pd.Series(d)\n",
    "    # Display the cross tabulated data as a venn diagram.\n",
    "    labels = cross_sums.index.values\n",
    "    venn2(cross_sums, set_labels=labels[0:2])\n",
    "    plt.title(titles[counter])\n",
    "    plt.show()\n",
    "    # Execute a chi-squared test of independence.\n",
    "    print('Chi-squared Test of Independence for %s and %s:' %(pair[0], pair[1]))\n",
    "    c, p, dof, expected = scs.chi2_contingency(contingency, correction=False)\n",
    "    print('chi2 = %f, p = %.2E, dof = %d' %(c, p, dof))\n",
    "    checkSignificance(p)\n",
    "    counter += 1"
   ]
  },
  {
   "cell_type": "markdown",
   "metadata": {},
   "source": [
    "### 5.2 Grouped Independence:"
   ]
  },
  {
   "cell_type": "code",
   "execution_count": 86,
   "metadata": {},
   "outputs": [
    {
     "data": {
      "image/png": "[encoded data removed]",
      "text/plain": [
       "<Figure size 432x288 with 1 Axes>"
      ]
     },
     "metadata": {},
     "output_type": "display_data"
    },
    {
     "name": "stdout",
     "output_type": "stream",
     "text": [
      "Chi-squared Test of Independence for separation anxiety and the combination of noise and\n",
      "thunderstorm phobia:\n",
      "chi2 = 285.272663, p = 1.53E-61, dof = 3\n",
      "The resulting p-value is below the set significance threshold (0.01).\n"
     ]
    }
   ],
   "source": [
    "# Create a contingency table.\n",
    "contingency = pd.crosstab(df['separation anxiety'], [df['noise phobia'],\n",
    "                                                     df['thunderstorm phobia']])\n",
    "\n",
    "# Convert the cross tabulated dataframe to a series of sums.\n",
    "d = {'separation anxiety': contingency[0][0][1],\n",
    "     'noise phobia': contingency[1][0][0],\n",
    "     'separation-noise': contingency[1][0][1],\n",
    "     'thunderstorm phobia': contingency[0][1][0],\n",
    "     'separation-thunderstorm': contingency[0][1][1],\n",
    "     'noise-thunderstorm': contingency[1][1][0],     \n",
    "     'all': contingency[1][1][1]}   \n",
    "cross_sums = pd.Series(d)\n",
    "\n",
    "# Display the cross tabulated data as a venn diagram.\n",
    "labels = [cross_sums.index.values[i] for i in [0, 1, 3]]\n",
    "venn3(cross_sums, set_labels=labels)\n",
    "plt.title('Separation Anxiety, Noise Phobia, and Thunderstorm Phobia')\n",
    "plt.show()\n",
    "\n",
    "# Execute a chi-squared test of independence.\n",
    "title = ('Chi-squared Test of Independence for separation anxiety and the combination of '\n",
    "         'noise and thunderstorm phobia:')\n",
    "print(textwrap.fill(title, width=90))\n",
    "c, p, dof, expected = scs.chi2_contingency(contingency, correction=False)\n",
    "print('chi2 = %f, p = %.2E, dof = %d' %(c, p, dof))\n",
    "checkSignificance(p)"
   ]
  },
  {
   "cell_type": "markdown",
   "metadata": {},
   "source": [
    "## 6 Compulsion and Fearful/Anxious Behaviors"
   ]
  },
  {
   "cell_type": "code",
   "execution_count": 87,
   "metadata": {},
   "outputs": [
    {
     "data": {
      "image/png": "[encoded data removed]",
      "text/plain": [
       "<Figure size 432x288 with 1 Axes>"
      ]
     },
     "metadata": {},
     "output_type": "display_data"
    }
   ],
   "source": [
    "# Create the necessary hdataframe.\n",
    "fields = 'q02_main_2, q02_main_3'\n",
    "labels = ['fear/anxiety', 'compulsion']\n",
    "df = createNumericDataFrame(DOG_TABLE, fields, labels, filtered=True)\n",
    "\n",
    "# Cross tabulate the relevant columns.\n",
    "contingency = pd.crosstab(df['fear/anxiety'], df['compulsion'])\n",
    "\n",
    "# Convert the cross tabulated dataframe to a series of sums.\n",
    "d = {'fear/anxiety': contingency[0][1],\n",
    "     'compulsion': contingency[1][0],\n",
    "     'both': contingency[1][1]}   \n",
    "cross_sums = pd.Series(d)\n",
    "\n",
    "# Display the cross tabulated data as a venn diagram.\n",
    "labels = cross_sums.index.values\n",
    "venn2(cross_sums, set_labels=labels[0:2])\n",
    "plt.title('Fear/Anxiety and Compulsion')\n",
    "plt.show()"
   ]
  },
  {
   "cell_type": "code",
   "execution_count": 88,
   "metadata": {},
   "outputs": [
    {
     "name": "stdout",
     "output_type": "stream",
     "text": [
      "Chi-square Test of Independence:\n",
      "chi2 = 44.843203, p = 2.13E-11, dof = 1\n",
      "The resulting p-value is below the set significance threshold (0.01).\n"
     ]
    }
   ],
   "source": [
    "# Execute a chi-squared test of independence.\n",
    "c, p, dof, expected = scs.chi2_contingency(contingency, correction=False)\n",
    "print('Chi-square Test of Independence:')\n",
    "print('chi2 = %f, p = %.2E, dof = %d' %(c, p, dof))\n",
    "checkSignificance(p)"
   ]
  },
  {
   "cell_type": "markdown",
   "metadata": {},
   "source": [
    "## 7 Aggression and Fearful/Anxious Behavior"
   ]
  },
  {
   "cell_type": "markdown",
   "metadata": {},
   "source": [
    "### 7.1 Overall Aggression and Fearful/Anxious Behavior:"
   ]
  },
  {
   "cell_type": "code",
   "execution_count": 89,
   "metadata": {},
   "outputs": [
    {
     "data": {
      "image/png": "[encoded data removed]",
      "text/plain": [
       "<Figure size 432x288 with 1 Axes>"
      ]
     },
     "metadata": {},
     "output_type": "display_data"
    },
    {
     "name": "stdout",
     "output_type": "stream",
     "text": [
      "Chi-square Test of Independence:\n",
      "chi2 = 116.490685, p = 3.71E-27, dof = 1\n",
      "The resulting p-value is below the set significance threshold (0.01).\n"
     ]
    }
   ],
   "source": [
    "# Create the necessary dataframe.\n",
    "fields = 'q02_main_1, q02_main_2'\n",
    "labels = ['aggression', 'fear/anxiety']\n",
    "df = createNumericDataFrame(DOG_TABLE, fields, labels, filtered=True)\n",
    "    \n",
    "# Create a contingency table.\n",
    "contingency = pd.crosstab(df['aggression'], df['fear/anxiety'])\n",
    "\n",
    "# Convert the cross tabulated dataframe to a series of sums.\n",
    "d = {'aggression': contingency[0][1],\n",
    "     'fear/anxiety': contingency[1][0],\n",
    "     'both': contingency[1][1]}   \n",
    "cross_sums = pd.Series(d)\n",
    "\n",
    "# Display the cross tabulated data as a venn diagram.\n",
    "labels = cross_sums.index.values\n",
    "venn2(cross_sums, set_labels=labels[0:2])\n",
    "plt.title('Aggression and Fear/Anxiety')\n",
    "plt.show()\n",
    "\n",
    "# Execute a chi-squared test of independence.\n",
    "c, p, dof, expected = scs.chi2_contingency(contingency, correction=False)\n",
    "print('Chi-square Test of Independence:')\n",
    "print('chi2 = %f, p = %.2E, dof = %d' %(c, p, dof))\n",
    "checkSignificance(p)"
   ]
  },
  {
   "cell_type": "markdown",
   "metadata": {},
   "source": [
    "### 7.2 Owner Directed Aggression and Fearful/Anxious Behavior:"
   ]
  },
  {
   "cell_type": "code",
   "execution_count": 90,
   "metadata": {},
   "outputs": [
    {
     "data": {
      "image/png": "[encoded data removed]",
      "text/plain": [
       "<Figure size 432x288 with 1 Axes>"
      ]
     },
     "metadata": {},
     "output_type": "display_data"
    },
    {
     "name": "stdout",
     "output_type": "stream",
     "text": [
      "Chi-square Test of Independence:\n",
      "chi2 = 59.514770, p = 1.21E-14, dof = 1\n",
      "The resulting p-value is below the set significance threshold (0.01).\n"
     ]
    }
   ],
   "source": [
    "# Create the necessary dataframe.\n",
    "fields = 'q03_main_1, q02_main_2'\n",
    "labels = ['aggression', 'fear/anxiety']\n",
    "df = createNumericDataFrame(DOG_TABLE, fields, labels, filtered=True)\n",
    "    \n",
    "# Create a contingency table.\n",
    "contingency = pd.crosstab(df['aggression'], df['fear/anxiety'])\n",
    "\n",
    "# Convert the cross tabulated dataframe to a series of sums.\n",
    "d = {'owner directed aggression': contingency[0][1],\n",
    "     'fear/anxiety': contingency[1][0],\n",
    "     'both': contingency[1][1]}   \n",
    "cross_sums = pd.Series(d)\n",
    "\n",
    "# Display the cross tabulated data as a venn diagram.\n",
    "labels = cross_sums.index.values\n",
    "venn2(cross_sums, set_labels=labels[0:2])\n",
    "plt.title('Owner Directed Aggression and Fear/Anxiety')\n",
    "plt.show()\n",
    "\n",
    "# Execute a chi-squared test of independence.\n",
    "c, p, dof, expected = scs.chi2_contingency(contingency, correction=False)\n",
    "print('Chi-square Test of Independence:')\n",
    "print('chi2 = %f, p = %.2E, dof = %d' %(c, p, dof))\n",
    "checkSignificance(p)"
   ]
  },
  {
   "cell_type": "markdown",
   "metadata": {},
   "source": [
    "### 7.3 Owner Directed Aggression and Separation Anxiety:"
   ]
  },
  {
   "cell_type": "code",
   "execution_count": 91,
   "metadata": {},
   "outputs": [
    {
     "data": {
      "image/png": "[encoded data removed]",
      "text/plain": [
       "<Figure size 432x288 with 1 Axes>"
      ]
     },
     "metadata": {},
     "output_type": "display_data"
    },
    {
     "name": "stdout",
     "output_type": "stream",
     "text": [
      "Chi-square Test of Independence:\n",
      "chi2 = 41.709109, p = 1.06E-10, dof = 1\n",
      "The resulting p-value is below the set significance threshold (0.01).\n"
     ]
    }
   ],
   "source": [
    "# Create the necessary dataframe.\n",
    "fields = 'q03_main_1, q04_9'\n",
    "labels = ['aggression', 'anxiety']\n",
    "df = createNumericDataFrame(DOG_TABLE, fields, labels, filtered=True)\n",
    "    \n",
    "# Create a contingency table.\n",
    "contingency = pd.crosstab(df['aggression'], df['anxiety'])\n",
    "\n",
    "# Convert the cross tabulated dataframe to a series of sums.\n",
    "d = {'owner directed aggression': contingency[0][1],\n",
    "     'separation anxiety': contingency[1][0],\n",
    "     'both': contingency[1][1]}   \n",
    "cross_sums = pd.Series(d)\n",
    "\n",
    "# Display the cross tabulated data as a venn diagram.\n",
    "labels = cross_sums.index.values\n",
    "venn2(cross_sums, set_labels=labels[0:2])\n",
    "plt.title('Owner Direct Aggression and Separation Anxiety')\n",
    "plt.show()\n",
    "\n",
    "# Execute a chi-squared test of independence.\n",
    "c, p, dof, expected = scs.chi2_contingency(contingency, correction=False)\n",
    "print('Chi-square Test of Independence:')\n",
    "print('chi2 = %f, p = %.2E, dof = %d' %(c, p, dof))\n",
    "checkSignificance(p)"
   ]
  },
  {
   "cell_type": "markdown",
   "metadata": {},
   "source": [
    "## 8 Impact of Gender and Neutered Status"
   ]
  },
  {
   "cell_type": "markdown",
   "metadata": {},
   "source": [
    "### 8.1 On Study Prevalence:\n",
    "\n",
    "This section examines the impact gender and neutered status had on the prevalence among all participating dogs (i.e. the probability of selecting a dog with the specific sex, neutered status, and behavior problem from the entire study population).\n",
    "\n",
    "Note: \\[I\\] = intact, \\[N\\] = neutered"
   ]
  },
  {
   "cell_type": "code",
   "execution_count": 92,
   "metadata": {},
   "outputs": [
    {
     "data": {
      "application/vnd.plotly.v1+json": {
       "data": [
        {
         "cells": {
          "align": [
           "left",
           "left",
           "left",
           "left",
           "left"
          ],
          "format": [
           null,
           ".2f.2f.2f.2f"
          ],
          "values": [
           [
            "Aggression",
            "Fear/Anxiety",
            "Compulsion",
            "House Soiling",
            "Excessive Barking",
            "Jumping",
            "Mounting/Humping",
            "Consuming Feces",
            "Destructive Behavior",
            "Rolling in Repulsive Material",
            "Running Away/Escaping",
            "Overactivity/Hyperactivity"
           ],
           [
            1.4827418570734079,
            2.236266407389402,
            0.8264462809917356,
            0.8507535245503159,
            0.7778317938745746,
            2.5279533300923673,
            1.3125911521633447,
            0.8021390374331552,
            0.8993680116674769,
            0.3889158969372873,
            0.583373845405931,
            0.9479824987846379
           ],
           [
            14.560038891589693,
            18.71657754010695,
            7.073407875546913,
            6.3441905687895,
            8.313077297034516,
            11.15702479338843,
            5.420515313563442,
            7.2921730675741365,
            4.861448711716091,
            4.691298006806028,
            4.76421973748177,
            5.493437044239183
           ],
           [
            1.2153621779290227,
            2.236266407389402,
            0.5590666018473505,
            0.7292173067574137,
            0.8750607681088965,
            2.4307243558580454,
            0.5104521147301896,
            0.9965969859017987,
            0.8750607681088965,
            0.7778317938745746,
            0.7778317938745746,
            0.8507535245503159
           ],
           [
            12.566844919786096,
            20.539620807000485,
            6.951871657754011,
            6.92756441419543,
            8.361691784151677,
            11.837627613028683,
            3.2328633932912005,
            8.288770053475936,
            5.153135634419057,
            6.538648517258143,
            4.496840058337384,
            4.837141468157511
           ]
          ]
         },
         "columnwidth": [
          200,
          100,
          105,
          115,
          120
         ],
         "header": {
          "align": [
           "left",
           "left",
           "left",
           "left",
           "left"
          ],
          "fill": {
           "color": "#B0C4DE"
          },
          "values": [
           "Behavior Problem",
           "Male [I] (%)",
           "Male [N] (%)",
           "Female [I] (%)",
           "Female [N] (%)"
          ]
         },
         "type": "table"
        }
       ],
       "layout": {
        "height": 400,
        "margin": {
         "b": 50,
         "l": 50,
         "pad": 4,
         "r": 50,
         "t": 50
        },
        "title": "Impact of Gender and Neutered Status on Study Prevalence",
        "width": 740
       }
      },
      "text/html": [
       "<div id=\"0a5242b0-ce2f-48da-ab44-cd648af0d6a5\" style=\"height: 400px; width: 740px;\" class=\"plotly-graph-div\"></div><script type=\"text/javascript\">require([\"plotly\"], function(Plotly) { window.PLOTLYENV=window.PLOTLYENV || {};window.PLOTLYENV.BASE_URL=\"https://plot.ly\";Plotly.newPlot(\"0a5242b0-ce2f-48da-ab44-cd648af0d6a5\", [{\"type\": \"table\", \"columnwidth\": [200, 100, 105, 115, 120], \"header\": {\"values\": [\"Behavior Problem\", \"Male [I] (%)\", \"Male [N] (%)\", \"Female [I] (%)\", \"Female [N] (%)\"], \"fill\": {\"color\": \"#B0C4DE\"}, \"align\": [\"left\", \"left\", \"left\", \"left\", \"left\"]}, \"cells\": {\"values\": [[\"Aggression\", \"Fear/Anxiety\", \"Compulsion\", \"House Soiling\", \"Excessive Barking\", \"Jumping\", \"Mounting/Humping\", \"Consuming Feces\", \"Destructive Behavior\", \"Rolling in Repulsive Material\", \"Running Away/Escaping\", \"Overactivity/Hyperactivity\"], [1.4827418570734079, 2.236266407389402, 0.8264462809917356, 0.8507535245503159, 0.7778317938745746, 2.5279533300923673, 1.3125911521633447, 0.8021390374331552, 0.8993680116674769, 0.3889158969372873, 0.583373845405931, 0.9479824987846379], [14.560038891589693, 18.71657754010695, 7.073407875546913, 6.3441905687895, 8.313077297034516, 11.15702479338843, 5.420515313563442, 7.2921730675741365, 4.861448711716091, 4.691298006806028, 4.76421973748177, 5.493437044239183], [1.2153621779290227, 2.236266407389402, 0.5590666018473505, 0.7292173067574137, 0.8750607681088965, 2.4307243558580454, 0.5104521147301896, 0.9965969859017987, 0.8750607681088965, 0.7778317938745746, 0.7778317938745746, 0.8507535245503159], [12.566844919786096, 20.539620807000485, 6.951871657754011, 6.92756441419543, 8.361691784151677, 11.837627613028683, 3.2328633932912005, 8.288770053475936, 5.153135634419057, 6.538648517258143, 4.496840058337384, 4.837141468157511]], \"align\": [\"left\", \"left\", \"left\", \"left\", \"left\"], \"format\": [null, \".2f.2f.2f.2f\"]}}], {\"title\": \"Impact of Gender and Neutered Status on Study Prevalence\", \"width\": 740, \"height\": 400, \"margin\": {\"l\": 50, \"r\": 50, \"b\": 50, \"t\": 50, \"pad\": 4}}, {\"showLink\": true, \"linkText\": \"Export to plot.ly\"})});</script>"
      ],
      "text/vnd.plotly.v1+html": [
       "<div id=\"0a5242b0-ce2f-48da-ab44-cd648af0d6a5\" style=\"height: 400px; width: 740px;\" class=\"plotly-graph-div\"></div><script type=\"text/javascript\">require([\"plotly\"], function(Plotly) { window.PLOTLYENV=window.PLOTLYENV || {};window.PLOTLYENV.BASE_URL=\"https://plot.ly\";Plotly.newPlot(\"0a5242b0-ce2f-48da-ab44-cd648af0d6a5\", [{\"type\": \"table\", \"columnwidth\": [200, 100, 105, 115, 120], \"header\": {\"values\": [\"Behavior Problem\", \"Male [I] (%)\", \"Male [N] (%)\", \"Female [I] (%)\", \"Female [N] (%)\"], \"fill\": {\"color\": \"#B0C4DE\"}, \"align\": [\"left\", \"left\", \"left\", \"left\", \"left\"]}, \"cells\": {\"values\": [[\"Aggression\", \"Fear/Anxiety\", \"Compulsion\", \"House Soiling\", \"Excessive Barking\", \"Jumping\", \"Mounting/Humping\", \"Consuming Feces\", \"Destructive Behavior\", \"Rolling in Repulsive Material\", \"Running Away/Escaping\", \"Overactivity/Hyperactivity\"], [1.4827418570734079, 2.236266407389402, 0.8264462809917356, 0.8507535245503159, 0.7778317938745746, 2.5279533300923673, 1.3125911521633447, 0.8021390374331552, 0.8993680116674769, 0.3889158969372873, 0.583373845405931, 0.9479824987846379], [14.560038891589693, 18.71657754010695, 7.073407875546913, 6.3441905687895, 8.313077297034516, 11.15702479338843, 5.420515313563442, 7.2921730675741365, 4.861448711716091, 4.691298006806028, 4.76421973748177, 5.493437044239183], [1.2153621779290227, 2.236266407389402, 0.5590666018473505, 0.7292173067574137, 0.8750607681088965, 2.4307243558580454, 0.5104521147301896, 0.9965969859017987, 0.8750607681088965, 0.7778317938745746, 0.7778317938745746, 0.8507535245503159], [12.566844919786096, 20.539620807000485, 6.951871657754011, 6.92756441419543, 8.361691784151677, 11.837627613028683, 3.2328633932912005, 8.288770053475936, 5.153135634419057, 6.538648517258143, 4.496840058337384, 4.837141468157511]], \"align\": [\"left\", \"left\", \"left\", \"left\", \"left\"], \"format\": [null, \".2f.2f.2f.2f\"]}}], {\"title\": \"Impact of Gender and Neutered Status on Study Prevalence\", \"width\": 740, \"height\": 400, \"margin\": {\"l\": 50, \"r\": 50, \"b\": 50, \"t\": 50, \"pad\": 4}}, {\"showLink\": true, \"linkText\": \"Export to plot.ly\"})});</script>"
      ]
     },
     "metadata": {},
     "output_type": "display_data"
    }
   ],
   "source": [
    "# Create the necessary dataframe.\n",
    "fields = []\n",
    "labels = []\n",
    "for counter, cat in enumerate(CATEGORY, 1):\n",
    "    if counter > 10:\n",
    "        counter += 1;\n",
    "    fields.append('q02_main_{}'.format(counter))\n",
    "    labels.append(cat)   \n",
    "fields.extend(('dog_sex', 'dog_spayed'))\n",
    "labels.extend(('Gender', 'Neutered'))\n",
    "fields = ', '.join(fields)\n",
    "df = createNumericDataFrame(DOG_TABLE, fields, labels, filtered=True)\n",
    "\n",
    "df_intact_male = df[(df['Gender'] == 1) & (df['Neutered'] == 0)].drop(\n",
    "    columns=['Gender', 'Neutered'])\n",
    "df_neutered_male = df[(df['Gender'] == 1) & (df['Neutered'] == 1)].drop(\n",
    "    columns=['Gender', 'Neutered'])\n",
    "df_intact_female = df[(df['Gender'] == 2) & (df['Neutered'] == 0)].drop(\n",
    "    columns=['Gender', 'Neutered'])\n",
    "df_neutered_female = df[(df['Gender'] == 2) & (df['Neutered'] == 1)].drop(\n",
    "    columns=['Gender', 'Neutered'])\n",
    "\n",
    "intact_male_s = df_intact_male.sum()\n",
    "neutered_male_s = df_neutered_male.sum()\n",
    "intact_female_s = df_intact_female.sum()\n",
    "neutered_female_s = df_neutered_female.sum()\n",
    "\n",
    "intact_male_p = intact_male_s.apply(PREVALENCE)\n",
    "neutered_male_p = neutered_male_s.apply(PREVALENCE)\n",
    "intact_female_p = intact_female_s.apply(PREVALENCE)\n",
    "neutered_female_p = neutered_female_s.apply(PREVALENCE)\n",
    "\n",
    "# Get individual behavior problem counts and display as a table.\n",
    "data = [go.Table(columnwidth = [200, 100, 105, 115, 120],\n",
    "                 header=dict(values=['Behavior Problem', 'Male [I] (%)',\n",
    "                                     'Male [N] (%)', 'Female [I] (%)',\n",
    "                                     'Female [N] (%)'],\n",
    "                             fill = dict(color='#B0C4DE'),\n",
    "                             align = ['left'] * 5),\n",
    "                 cells=dict(values=[labels[:-2], intact_male_p.values,\n",
    "                                    neutered_male_p.values, intact_female_p.values,\n",
    "                                    neutered_female_p],\n",
    "                            align = ['left'] * 5,\n",
    "                            format = [None, '.2f' * 4]))]\n",
    "layout = go.Layout(title='Impact of Gender and Neutered Status on Study Prevalence',\n",
    "                   width=740,\n",
    "                   height=400,\n",
    "                   margin=go.Margin(l=50, r=50, b=50, t=50, pad=4))\n",
    "fig = dict(data=data, layout=layout)\n",
    "if SAVE_OUTPUT:\n",
    "    py.plot(fig, image='png', image_width=740, image_height=400,\n",
    "            image_filename='8_1_study_prevalence')\n",
    "py.iplot(fig)"
   ]
  },
  {
   "cell_type": "markdown",
   "metadata": {},
   "source": [
    "### 8.2 On Group Prevalence:\n",
    "\n",
    "This section looks at the impact gender and neutered status had on the prevalence among dogs of the same group (i.e. the probability of selecting a dog with the specific sex, neutered status, and behavior problem from the group of the study population that shares the same sex and neutered status).\n",
    "\n",
    "Note: \\[I\\] = intact, \\[N\\] = neutered"
   ]
  },
  {
   "cell_type": "code",
   "execution_count": 93,
   "metadata": {},
   "outputs": [
    {
     "data": {
      "application/vnd.plotly.v1+json": {
       "data": [
        {
         "cells": {
          "align": [
           "left",
           "left",
           "left",
           "left",
           "left"
          ],
          "format": [
           null,
           ".2f.2f.2f.2f"
          ],
          "values": [
           [
            "Aggression",
            "Fear/Anxiety",
            "Compulsion",
            "House Soiling",
            "Excessive Barking",
            "Jumping",
            "Mounting/Humping",
            "Consuming Feces",
            "Destructive Behavior",
            "Rolling in Repulsive Material",
            "Running Away/Escaping",
            "Overactivity/Hyperactivity"
           ],
           [
            19.55128205128205,
            29.48717948717949,
            10.897435897435898,
            11.217948717948719,
            10.256410256410255,
            33.33333333333333,
            17.307692307692307,
            10.576923076923077,
            11.858974358974358,
            5.128205128205128,
            7.6923076923076925,
            12.5
           ],
           [
            35.612366230677765,
            45.77883472057075,
            17.300832342449464,
            15.517241379310345,
            20.332936979785966,
            27.288941736028537,
            13.258026159334127,
            17.8359096313912,
            11.890606420927467,
            11.474435196195005,
            11.652794292508919,
            13.436385255648037
           ],
           [
            16.233766233766232,
            29.87012987012987,
            7.467532467532467,
            9.740259740259742,
            11.688311688311687,
            32.467532467532465,
            6.8181818181818175,
            13.311688311688311,
            11.688311688311687,
            10.38961038961039,
            10.38961038961039,
            11.363636363636363
           ],
           [
            29.07761529808774,
            47.52530933633296,
            16.085489313835772,
            16.029246344206975,
            19.34758155230596,
            27.390326209223847,
            7.480314960629922,
            19.17885264341957,
            11.923509561304838,
            15.12935883014623,
            10.404949381327334,
            11.192350956130484
           ]
          ]
         },
         "columnwidth": [
          200,
          100,
          105,
          115,
          120
         ],
         "header": {
          "align": [
           "left",
           "left",
           "left",
           "left",
           "left"
          ],
          "fill": {
           "color": "#B0C4DE"
          },
          "values": [
           "Behavior Problem",
           "Male [I] (%)",
           "Male [N] (%)",
           "Female [I] (%)",
           "Female [N] (%)"
          ]
         },
         "type": "table"
        }
       ],
       "layout": {
        "height": 400,
        "margin": {
         "b": 50,
         "l": 50,
         "pad": 4,
         "r": 50,
         "t": 50
        },
        "title": "Impact of Gender and Neutered Status on Group Prevalence",
        "width": 740
       }
      },
      "text/html": [
       "<div id=\"231e1a46-f1a9-413a-85f9-ce69a3651dfa\" style=\"height: 400px; width: 740px;\" class=\"plotly-graph-div\"></div><script type=\"text/javascript\">require([\"plotly\"], function(Plotly) { window.PLOTLYENV=window.PLOTLYENV || {};window.PLOTLYENV.BASE_URL=\"https://plot.ly\";Plotly.newPlot(\"231e1a46-f1a9-413a-85f9-ce69a3651dfa\", [{\"type\": \"table\", \"columnwidth\": [200, 100, 105, 115, 120], \"header\": {\"values\": [\"Behavior Problem\", \"Male [I] (%)\", \"Male [N] (%)\", \"Female [I] (%)\", \"Female [N] (%)\"], \"fill\": {\"color\": \"#B0C4DE\"}, \"align\": [\"left\", \"left\", \"left\", \"left\", \"left\"]}, \"cells\": {\"values\": [[\"Aggression\", \"Fear/Anxiety\", \"Compulsion\", \"House Soiling\", \"Excessive Barking\", \"Jumping\", \"Mounting/Humping\", \"Consuming Feces\", \"Destructive Behavior\", \"Rolling in Repulsive Material\", \"Running Away/Escaping\", \"Overactivity/Hyperactivity\"], [19.55128205128205, 29.48717948717949, 10.897435897435898, 11.217948717948719, 10.256410256410255, 33.33333333333333, 17.307692307692307, 10.576923076923077, 11.858974358974358, 5.128205128205128, 7.6923076923076925, 12.5], [35.612366230677765, 45.77883472057075, 17.300832342449464, 15.517241379310345, 20.332936979785966, 27.288941736028537, 13.258026159334127, 17.8359096313912, 11.890606420927467, 11.474435196195005, 11.652794292508919, 13.436385255648037], [16.233766233766232, 29.87012987012987, 7.467532467532467, 9.740259740259742, 11.688311688311687, 32.467532467532465, 6.8181818181818175, 13.311688311688311, 11.688311688311687, 10.38961038961039, 10.38961038961039, 11.363636363636363], [29.07761529808774, 47.52530933633296, 16.085489313835772, 16.029246344206975, 19.34758155230596, 27.390326209223847, 7.480314960629922, 19.17885264341957, 11.923509561304838, 15.12935883014623, 10.404949381327334, 11.192350956130484]], \"align\": [\"left\", \"left\", \"left\", \"left\", \"left\"], \"format\": [null, \".2f.2f.2f.2f\"]}}], {\"title\": \"Impact of Gender and Neutered Status on Group Prevalence\", \"width\": 740, \"height\": 400, \"margin\": {\"l\": 50, \"r\": 50, \"b\": 50, \"t\": 50, \"pad\": 4}}, {\"showLink\": true, \"linkText\": \"Export to plot.ly\"})});</script>"
      ],
      "text/vnd.plotly.v1+html": [
       "<div id=\"231e1a46-f1a9-413a-85f9-ce69a3651dfa\" style=\"height: 400px; width: 740px;\" class=\"plotly-graph-div\"></div><script type=\"text/javascript\">require([\"plotly\"], function(Plotly) { window.PLOTLYENV=window.PLOTLYENV || {};window.PLOTLYENV.BASE_URL=\"https://plot.ly\";Plotly.newPlot(\"231e1a46-f1a9-413a-85f9-ce69a3651dfa\", [{\"type\": \"table\", \"columnwidth\": [200, 100, 105, 115, 120], \"header\": {\"values\": [\"Behavior Problem\", \"Male [I] (%)\", \"Male [N] (%)\", \"Female [I] (%)\", \"Female [N] (%)\"], \"fill\": {\"color\": \"#B0C4DE\"}, \"align\": [\"left\", \"left\", \"left\", \"left\", \"left\"]}, \"cells\": {\"values\": [[\"Aggression\", \"Fear/Anxiety\", \"Compulsion\", \"House Soiling\", \"Excessive Barking\", \"Jumping\", \"Mounting/Humping\", \"Consuming Feces\", \"Destructive Behavior\", \"Rolling in Repulsive Material\", \"Running Away/Escaping\", \"Overactivity/Hyperactivity\"], [19.55128205128205, 29.48717948717949, 10.897435897435898, 11.217948717948719, 10.256410256410255, 33.33333333333333, 17.307692307692307, 10.576923076923077, 11.858974358974358, 5.128205128205128, 7.6923076923076925, 12.5], [35.612366230677765, 45.77883472057075, 17.300832342449464, 15.517241379310345, 20.332936979785966, 27.288941736028537, 13.258026159334127, 17.8359096313912, 11.890606420927467, 11.474435196195005, 11.652794292508919, 13.436385255648037], [16.233766233766232, 29.87012987012987, 7.467532467532467, 9.740259740259742, 11.688311688311687, 32.467532467532465, 6.8181818181818175, 13.311688311688311, 11.688311688311687, 10.38961038961039, 10.38961038961039, 11.363636363636363], [29.07761529808774, 47.52530933633296, 16.085489313835772, 16.029246344206975, 19.34758155230596, 27.390326209223847, 7.480314960629922, 19.17885264341957, 11.923509561304838, 15.12935883014623, 10.404949381327334, 11.192350956130484]], \"align\": [\"left\", \"left\", \"left\", \"left\", \"left\"], \"format\": [null, \".2f.2f.2f.2f\"]}}], {\"title\": \"Impact of Gender and Neutered Status on Group Prevalence\", \"width\": 740, \"height\": 400, \"margin\": {\"l\": 50, \"r\": 50, \"b\": 50, \"t\": 50, \"pad\": 4}}, {\"showLink\": true, \"linkText\": \"Export to plot.ly\"})});</script>"
      ]
     },
     "metadata": {},
     "output_type": "display_data"
    }
   ],
   "source": [
    "# Create the necessary dataframe.\n",
    "fields = []\n",
    "labels = []\n",
    "for counter, cat in enumerate(CATEGORY, 1):\n",
    "    if counter > 10:\n",
    "        counter += 1;\n",
    "    fields.append('q02_main_{}'.format(counter))\n",
    "    labels.append(cat)   \n",
    "fields.extend(('dog_sex', 'dog_spayed'))\n",
    "labels.extend(('Gender', 'Neutered'))\n",
    "fields = ', '.join(fields)\n",
    "df = createNumericDataFrame(DOG_TABLE, fields, labels, filtered=True)\n",
    "\n",
    "df_intact_male = df[(df['Gender'] == 1) & (df['Neutered'] == 0)].drop(\n",
    "    columns=['Gender', 'Neutered'])\n",
    "df_neutered_male = df[(df['Gender'] == 1) & (df['Neutered'] == 1)].drop(\n",
    "    columns=['Gender', 'Neutered'])\n",
    "df_intact_female = df[(df['Gender'] == 2) & (df['Neutered'] == 0)].drop(\n",
    "    columns=['Gender', 'Neutered'])\n",
    "df_neutered_female = df[(df['Gender'] == 2) & (df['Neutered'] == 1)].drop(\n",
    "    columns=['Gender', 'Neutered'])\n",
    "\n",
    "intact_male_c = len(df_intact_male.index)\n",
    "neutered_male_c = len(df_neutered_male.index)\n",
    "intact_female_c = len(df_intact_female.index)\n",
    "neutered_female_c = len(df_neutered_female.index)\n",
    "\n",
    "intact_male_s = df_intact_male.sum()\n",
    "neutered_male_s = df_neutered_male.sum()\n",
    "intact_female_s = df_intact_female.sum()\n",
    "neutered_female_s = df_neutered_female.sum()\n",
    "\n",
    "intact_male_p = intact_male_s.apply(lambda x: (x / intact_male_c) * 100)\n",
    "neutered_male_p = neutered_male_s.apply(lambda x: (x / neutered_male_c) * 100)\n",
    "intact_female_p = intact_female_s.apply(lambda x: (x / intact_female_c) * 100)\n",
    "neutered_female_p = neutered_female_s.apply(lambda x: (x / neutered_female_c) * 100)\n",
    "\n",
    "# Get individual behavior problem counts and display as a table.\n",
    "data = [go.Table(columnwidth = [200, 100, 105, 115, 120],\n",
    "                 header=dict(values=['Behavior Problem', 'Male [I] (%)',\n",
    "                                     'Male [N] (%)', 'Female [I] (%)',\n",
    "                                     'Female [N] (%)'],\n",
    "                             fill = dict(color='#B0C4DE'),\n",
    "                             align = ['left'] * 5),\n",
    "                 cells=dict(values=[labels[:-2], intact_male_p.values,\n",
    "                                    neutered_male_p.values, intact_female_p.values,\n",
    "                                    neutered_female_p],\n",
    "                            align = ['left'] * 5,\n",
    "                            format = [None, '.2f' * 4]))]\n",
    "layout = go.Layout(title='Impact of Gender and Neutered Status on Group Prevalence',\n",
    "                   width=740,\n",
    "                   height=400,\n",
    "                   margin=go.Margin(l=50, r=50, b=50, t=50, pad=4))\n",
    "fig = dict(data=data, layout=layout)\n",
    "if SAVE_OUTPUT:\n",
    "    py.plot(fig, image='png', image_width=740, image_height=400,\n",
    "            image_filename='8_2_group_prevalence')\n",
    "py.iplot(fig)"
   ]
  },
  {
   "cell_type": "markdown",
   "metadata": {},
   "source": [
    "## 9 Patterns in Behavior Problem Frequency"
   ]
  },
  {
   "cell_type": "markdown",
   "metadata": {},
   "source": [
    "### 9.X Impact of gender on behavior problem frequency:"
   ]
  },
  {
   "cell_type": "code",
   "execution_count": 106,
   "metadata": {},
   "outputs": [
    {
     "data": {
      "text/html": [
       "<div>\n",
       "<style scoped>\n",
       "    .dataframe tbody tr th:only-of-type {\n",
       "        vertical-align: middle;\n",
       "    }\n",
       "\n",
       "    .dataframe tbody tr th {\n",
       "        vertical-align: top;\n",
       "    }\n",
       "\n",
       "    .dataframe thead th {\n",
       "        text-align: right;\n",
       "    }\n",
       "</style>\n",
       "<table border=\"1\" class=\"dataframe\">\n",
       "  <thead>\n",
       "    <tr style=\"text-align: right;\">\n",
       "      <th>gender</th>\n",
       "      <th>female</th>\n",
       "      <th>male</th>\n",
       "      <th>All</th>\n",
       "    </tr>\n",
       "    <tr>\n",
       "      <th>number of behavior problems</th>\n",
       "      <th></th>\n",
       "      <th></th>\n",
       "      <th></th>\n",
       "    </tr>\n",
       "  </thead>\n",
       "  <tbody>\n",
       "    <tr>\n",
       "      <th>0</th>\n",
       "      <td>331</td>\n",
       "      <td>268</td>\n",
       "      <td>599</td>\n",
       "    </tr>\n",
       "    <tr>\n",
       "      <th>1</th>\n",
       "      <td>544</td>\n",
       "      <td>510</td>\n",
       "      <td>1054</td>\n",
       "    </tr>\n",
       "    <tr>\n",
       "      <th>10</th>\n",
       "      <td>2</td>\n",
       "      <td>3</td>\n",
       "      <td>5</td>\n",
       "    </tr>\n",
       "    <tr>\n",
       "      <th>11</th>\n",
       "      <td>0</td>\n",
       "      <td>2</td>\n",
       "      <td>2</td>\n",
       "    </tr>\n",
       "    <tr>\n",
       "      <th>12</th>\n",
       "      <td>0</td>\n",
       "      <td>1</td>\n",
       "      <td>1</td>\n",
       "    </tr>\n",
       "    <tr>\n",
       "      <th>2</th>\n",
       "      <td>455</td>\n",
       "      <td>457</td>\n",
       "      <td>912</td>\n",
       "    </tr>\n",
       "    <tr>\n",
       "      <th>3</th>\n",
       "      <td>322</td>\n",
       "      <td>333</td>\n",
       "      <td>655</td>\n",
       "    </tr>\n",
       "    <tr>\n",
       "      <th>4</th>\n",
       "      <td>200</td>\n",
       "      <td>214</td>\n",
       "      <td>414</td>\n",
       "    </tr>\n",
       "    <tr>\n",
       "      <th>5</th>\n",
       "      <td>121</td>\n",
       "      <td>96</td>\n",
       "      <td>217</td>\n",
       "    </tr>\n",
       "    <tr>\n",
       "      <th>6</th>\n",
       "      <td>62</td>\n",
       "      <td>61</td>\n",
       "      <td>123</td>\n",
       "    </tr>\n",
       "    <tr>\n",
       "      <th>7</th>\n",
       "      <td>35</td>\n",
       "      <td>36</td>\n",
       "      <td>71</td>\n",
       "    </tr>\n",
       "    <tr>\n",
       "      <th>8</th>\n",
       "      <td>17</td>\n",
       "      <td>13</td>\n",
       "      <td>30</td>\n",
       "    </tr>\n",
       "    <tr>\n",
       "      <th>9</th>\n",
       "      <td>6</td>\n",
       "      <td>11</td>\n",
       "      <td>17</td>\n",
       "    </tr>\n",
       "    <tr>\n",
       "      <th>All</th>\n",
       "      <td>2095</td>\n",
       "      <td>2005</td>\n",
       "      <td>4100</td>\n",
       "    </tr>\n",
       "  </tbody>\n",
       "</table>\n",
       "</div>"
      ],
      "text/plain": [
       "gender                       female  male   All\n",
       "number of behavior problems                    \n",
       "0                               331   268   599\n",
       "1                               544   510  1054\n",
       "10                                2     3     5\n",
       "11                                0     2     2\n",
       "12                                0     1     1\n",
       "2                               455   457   912\n",
       "3                               322   333   655\n",
       "4                               200   214   414\n",
       "5                               121    96   217\n",
       "6                                62    61   123\n",
       "7                                35    36    71\n",
       "8                                17    13    30\n",
       "9                                 6    11    17\n",
       "All                            2095  2005  4100"
      ]
     },
     "metadata": {},
     "output_type": "display_data"
    }
   ],
   "source": [
    "# status: unverified\n",
    "fields = 'q02_score, dog_sex'\n",
    "labels = ['number of behavior problems', 'gender']\n",
    "df = createStringDataFrame(DOG_TABLE, fields, labels)\n",
    "df = df[df[labels[1]] != '']\n",
    "replacements = {'1':'male', '2':'female'}\n",
    "replaceFields(df, labels[1], replacements)\n",
    "display(pd.crosstab(df[labels[0]], df[labels[1]], margins=True))"
   ]
  },
  {
   "cell_type": "markdown",
   "metadata": {},
   "source": [
    "### 9.X Impact of neutered status on behavior problem frequency:"
   ]
  },
  {
   "cell_type": "code",
   "execution_count": 108,
   "metadata": {},
   "outputs": [
    {
     "data": {
      "text/html": [
       "<div>\n",
       "<style scoped>\n",
       "    .dataframe tbody tr th:only-of-type {\n",
       "        vertical-align: middle;\n",
       "    }\n",
       "\n",
       "    .dataframe tbody tr th {\n",
       "        vertical-align: top;\n",
       "    }\n",
       "\n",
       "    .dataframe thead th {\n",
       "        text-align: right;\n",
       "    }\n",
       "</style>\n",
       "<table border=\"1\" class=\"dataframe\">\n",
       "  <thead>\n",
       "    <tr style=\"text-align: right;\">\n",
       "      <th>neutered</th>\n",
       "      <th>no</th>\n",
       "      <th>yes</th>\n",
       "      <th>All</th>\n",
       "    </tr>\n",
       "    <tr>\n",
       "      <th>number of behavior problems</th>\n",
       "      <th></th>\n",
       "      <th></th>\n",
       "      <th></th>\n",
       "    </tr>\n",
       "  </thead>\n",
       "  <tbody>\n",
       "    <tr>\n",
       "      <th>0</th>\n",
       "      <td>139</td>\n",
       "      <td>458</td>\n",
       "      <td>597</td>\n",
       "    </tr>\n",
       "    <tr>\n",
       "      <th>1</th>\n",
       "      <td>200</td>\n",
       "      <td>853</td>\n",
       "      <td>1053</td>\n",
       "    </tr>\n",
       "    <tr>\n",
       "      <th>10</th>\n",
       "      <td>1</td>\n",
       "      <td>4</td>\n",
       "      <td>5</td>\n",
       "    </tr>\n",
       "    <tr>\n",
       "      <th>11</th>\n",
       "      <td>0</td>\n",
       "      <td>2</td>\n",
       "      <td>2</td>\n",
       "    </tr>\n",
       "    <tr>\n",
       "      <th>12</th>\n",
       "      <td>0</td>\n",
       "      <td>1</td>\n",
       "      <td>1</td>\n",
       "    </tr>\n",
       "    <tr>\n",
       "      <th>2</th>\n",
       "      <td>125</td>\n",
       "      <td>784</td>\n",
       "      <td>909</td>\n",
       "    </tr>\n",
       "    <tr>\n",
       "      <th>3</th>\n",
       "      <td>73</td>\n",
       "      <td>583</td>\n",
       "      <td>656</td>\n",
       "    </tr>\n",
       "    <tr>\n",
       "      <th>4</th>\n",
       "      <td>44</td>\n",
       "      <td>368</td>\n",
       "      <td>412</td>\n",
       "    </tr>\n",
       "    <tr>\n",
       "      <th>5</th>\n",
       "      <td>14</td>\n",
       "      <td>203</td>\n",
       "      <td>217</td>\n",
       "    </tr>\n",
       "    <tr>\n",
       "      <th>6</th>\n",
       "      <td>12</td>\n",
       "      <td>110</td>\n",
       "      <td>122</td>\n",
       "    </tr>\n",
       "    <tr>\n",
       "      <th>7</th>\n",
       "      <td>4</td>\n",
       "      <td>67</td>\n",
       "      <td>71</td>\n",
       "    </tr>\n",
       "    <tr>\n",
       "      <th>8</th>\n",
       "      <td>8</td>\n",
       "      <td>22</td>\n",
       "      <td>30</td>\n",
       "    </tr>\n",
       "    <tr>\n",
       "      <th>9</th>\n",
       "      <td>0</td>\n",
       "      <td>17</td>\n",
       "      <td>17</td>\n",
       "    </tr>\n",
       "    <tr>\n",
       "      <th>All</th>\n",
       "      <td>620</td>\n",
       "      <td>3472</td>\n",
       "      <td>4092</td>\n",
       "    </tr>\n",
       "  </tbody>\n",
       "</table>\n",
       "</div>"
      ],
      "text/plain": [
       "neutered                      no   yes   All\n",
       "number of behavior problems                 \n",
       "0                            139   458   597\n",
       "1                            200   853  1053\n",
       "10                             1     4     5\n",
       "11                             0     2     2\n",
       "12                             0     1     1\n",
       "2                            125   784   909\n",
       "3                             73   583   656\n",
       "4                             44   368   412\n",
       "5                             14   203   217\n",
       "6                             12   110   122\n",
       "7                              4    67    71\n",
       "8                              8    22    30\n",
       "9                              0    17    17\n",
       "All                          620  3472  4092"
      ]
     },
     "metadata": {},
     "output_type": "display_data"
    }
   ],
   "source": [
    "# status: unverified\n",
    "fields = 'q02_score, dog_spayed'\n",
    "labels = ['number of behavior problems', 'neutered']\n",
    "df = createStringDataFrame(DOG_TABLE, fields, labels)\n",
    "df = df[df[labels[1]] != '']\n",
    "df = df[df[labels[1]] != '2']\n",
    "replacements = {'0':'no', '1':'yes'}\n",
    "replaceFields(df, labels[1], replacements)\n",
    "display(pd.crosstab(df[labels[0]], df[labels[1]], margins=True))"
   ]
  },
  {
   "cell_type": "markdown",
   "metadata": {},
   "source": [
    "### 9.X Impact of source of origin on behavior problem frequency:"
   ]
  },
  {
   "cell_type": "code",
   "execution_count": 110,
   "metadata": {},
   "outputs": [
    {
     "data": {
      "text/html": [
       "<div>\n",
       "<style scoped>\n",
       "    .dataframe tbody tr th:only-of-type {\n",
       "        vertical-align: middle;\n",
       "    }\n",
       "\n",
       "    .dataframe tbody tr th {\n",
       "        vertical-align: top;\n",
       "    }\n",
       "\n",
       "    .dataframe thead th {\n",
       "        text-align: right;\n",
       "    }\n",
       "</style>\n",
       "<table border=\"1\" class=\"dataframe\">\n",
       "  <thead>\n",
       "    <tr style=\"text-align: right;\">\n",
       "      <th>origin</th>\n",
       "      <th>breeder</th>\n",
       "      <th>found</th>\n",
       "      <th>friends/family</th>\n",
       "      <th>no response</th>\n",
       "      <th>online (non-rescue)</th>\n",
       "      <th>other</th>\n",
       "      <th>pet store</th>\n",
       "      <th>rescue</th>\n",
       "      <th>self-bred</th>\n",
       "      <th>All</th>\n",
       "    </tr>\n",
       "    <tr>\n",
       "      <th>number of behavior problems</th>\n",
       "      <th></th>\n",
       "      <th></th>\n",
       "      <th></th>\n",
       "      <th></th>\n",
       "      <th></th>\n",
       "      <th></th>\n",
       "      <th></th>\n",
       "      <th></th>\n",
       "      <th></th>\n",
       "      <th></th>\n",
       "    </tr>\n",
       "  </thead>\n",
       "  <tbody>\n",
       "    <tr>\n",
       "      <th>0</th>\n",
       "      <td>298</td>\n",
       "      <td>14</td>\n",
       "      <td>46</td>\n",
       "      <td>7</td>\n",
       "      <td>6</td>\n",
       "      <td>36</td>\n",
       "      <td>4</td>\n",
       "      <td>146</td>\n",
       "      <td>45</td>\n",
       "      <td>602</td>\n",
       "    </tr>\n",
       "    <tr>\n",
       "      <th>1</th>\n",
       "      <td>387</td>\n",
       "      <td>29</td>\n",
       "      <td>84</td>\n",
       "      <td>9</td>\n",
       "      <td>17</td>\n",
       "      <td>51</td>\n",
       "      <td>12</td>\n",
       "      <td>418</td>\n",
       "      <td>51</td>\n",
       "      <td>1058</td>\n",
       "    </tr>\n",
       "    <tr>\n",
       "      <th>10</th>\n",
       "      <td>3</td>\n",
       "      <td>0</td>\n",
       "      <td>0</td>\n",
       "      <td>0</td>\n",
       "      <td>0</td>\n",
       "      <td>0</td>\n",
       "      <td>0</td>\n",
       "      <td>2</td>\n",
       "      <td>0</td>\n",
       "      <td>5</td>\n",
       "    </tr>\n",
       "    <tr>\n",
       "      <th>11</th>\n",
       "      <td>1</td>\n",
       "      <td>0</td>\n",
       "      <td>0</td>\n",
       "      <td>0</td>\n",
       "      <td>0</td>\n",
       "      <td>0</td>\n",
       "      <td>0</td>\n",
       "      <td>1</td>\n",
       "      <td>0</td>\n",
       "      <td>2</td>\n",
       "    </tr>\n",
       "    <tr>\n",
       "      <th>12</th>\n",
       "      <td>0</td>\n",
       "      <td>0</td>\n",
       "      <td>0</td>\n",
       "      <td>0</td>\n",
       "      <td>0</td>\n",
       "      <td>1</td>\n",
       "      <td>0</td>\n",
       "      <td>0</td>\n",
       "      <td>0</td>\n",
       "      <td>1</td>\n",
       "    </tr>\n",
       "    <tr>\n",
       "      <th>2</th>\n",
       "      <td>290</td>\n",
       "      <td>22</td>\n",
       "      <td>66</td>\n",
       "      <td>6</td>\n",
       "      <td>9</td>\n",
       "      <td>64</td>\n",
       "      <td>10</td>\n",
       "      <td>418</td>\n",
       "      <td>27</td>\n",
       "      <td>912</td>\n",
       "    </tr>\n",
       "    <tr>\n",
       "      <th>3</th>\n",
       "      <td>171</td>\n",
       "      <td>21</td>\n",
       "      <td>64</td>\n",
       "      <td>4</td>\n",
       "      <td>18</td>\n",
       "      <td>34</td>\n",
       "      <td>7</td>\n",
       "      <td>332</td>\n",
       "      <td>8</td>\n",
       "      <td>659</td>\n",
       "    </tr>\n",
       "    <tr>\n",
       "      <th>4</th>\n",
       "      <td>96</td>\n",
       "      <td>13</td>\n",
       "      <td>42</td>\n",
       "      <td>5</td>\n",
       "      <td>13</td>\n",
       "      <td>12</td>\n",
       "      <td>7</td>\n",
       "      <td>225</td>\n",
       "      <td>3</td>\n",
       "      <td>416</td>\n",
       "    </tr>\n",
       "    <tr>\n",
       "      <th>5</th>\n",
       "      <td>48</td>\n",
       "      <td>7</td>\n",
       "      <td>21</td>\n",
       "      <td>0</td>\n",
       "      <td>6</td>\n",
       "      <td>12</td>\n",
       "      <td>7</td>\n",
       "      <td>116</td>\n",
       "      <td>1</td>\n",
       "      <td>218</td>\n",
       "    </tr>\n",
       "    <tr>\n",
       "      <th>6</th>\n",
       "      <td>26</td>\n",
       "      <td>6</td>\n",
       "      <td>13</td>\n",
       "      <td>0</td>\n",
       "      <td>5</td>\n",
       "      <td>8</td>\n",
       "      <td>1</td>\n",
       "      <td>63</td>\n",
       "      <td>1</td>\n",
       "      <td>123</td>\n",
       "    </tr>\n",
       "    <tr>\n",
       "      <th>7</th>\n",
       "      <td>19</td>\n",
       "      <td>3</td>\n",
       "      <td>4</td>\n",
       "      <td>0</td>\n",
       "      <td>2</td>\n",
       "      <td>2</td>\n",
       "      <td>2</td>\n",
       "      <td>39</td>\n",
       "      <td>0</td>\n",
       "      <td>71</td>\n",
       "    </tr>\n",
       "    <tr>\n",
       "      <th>8</th>\n",
       "      <td>9</td>\n",
       "      <td>0</td>\n",
       "      <td>0</td>\n",
       "      <td>0</td>\n",
       "      <td>0</td>\n",
       "      <td>4</td>\n",
       "      <td>1</td>\n",
       "      <td>16</td>\n",
       "      <td>0</td>\n",
       "      <td>30</td>\n",
       "    </tr>\n",
       "    <tr>\n",
       "      <th>9</th>\n",
       "      <td>2</td>\n",
       "      <td>0</td>\n",
       "      <td>3</td>\n",
       "      <td>0</td>\n",
       "      <td>1</td>\n",
       "      <td>0</td>\n",
       "      <td>0</td>\n",
       "      <td>11</td>\n",
       "      <td>0</td>\n",
       "      <td>17</td>\n",
       "    </tr>\n",
       "    <tr>\n",
       "      <th>All</th>\n",
       "      <td>1350</td>\n",
       "      <td>115</td>\n",
       "      <td>343</td>\n",
       "      <td>31</td>\n",
       "      <td>77</td>\n",
       "      <td>224</td>\n",
       "      <td>51</td>\n",
       "      <td>1787</td>\n",
       "      <td>136</td>\n",
       "      <td>4114</td>\n",
       "    </tr>\n",
       "  </tbody>\n",
       "</table>\n",
       "</div>"
      ],
      "text/plain": [
       "origin                       breeder  found  friends/family  no response  \\\n",
       "number of behavior problems                                                \n",
       "0                                298     14              46            7   \n",
       "1                                387     29              84            9   \n",
       "10                                 3      0               0            0   \n",
       "11                                 1      0               0            0   \n",
       "12                                 0      0               0            0   \n",
       "2                                290     22              66            6   \n",
       "3                                171     21              64            4   \n",
       "4                                 96     13              42            5   \n",
       "5                                 48      7              21            0   \n",
       "6                                 26      6              13            0   \n",
       "7                                 19      3               4            0   \n",
       "8                                  9      0               0            0   \n",
       "9                                  2      0               3            0   \n",
       "All                             1350    115             343           31   \n",
       "\n",
       "origin                       online (non-rescue)  other  pet store  rescue  \\\n",
       "number of behavior problems                                                  \n",
       "0                                              6     36          4     146   \n",
       "1                                             17     51         12     418   \n",
       "10                                             0      0          0       2   \n",
       "11                                             0      0          0       1   \n",
       "12                                             0      1          0       0   \n",
       "2                                              9     64         10     418   \n",
       "3                                             18     34          7     332   \n",
       "4                                             13     12          7     225   \n",
       "5                                              6     12          7     116   \n",
       "6                                              5      8          1      63   \n",
       "7                                              2      2          2      39   \n",
       "8                                              0      4          1      16   \n",
       "9                                              1      0          0      11   \n",
       "All                                           77    224         51    1787   \n",
       "\n",
       "origin                       self-bred   All  \n",
       "number of behavior problems                   \n",
       "0                                   45   602  \n",
       "1                                   51  1058  \n",
       "10                                   0     5  \n",
       "11                                   0     2  \n",
       "12                                   0     1  \n",
       "2                                   27   912  \n",
       "3                                    8   659  \n",
       "4                                    3   416  \n",
       "5                                    1   218  \n",
       "6                                    1   123  \n",
       "7                                    0    71  \n",
       "8                                    0    30  \n",
       "9                                    0    17  \n",
       "All                                136  4114  "
      ]
     },
     "metadata": {},
     "output_type": "display_data"
    }
   ],
   "source": [
    "# status: unverified\n",
    "fields = 'q02_score, acquisition_source'\n",
    "labels = ['number of behavior problems', 'origin']\n",
    "df = createStringDataFrame(DOG_TABLE, fields, labels)\n",
    "# Rescue fields (online: 1, in-person: 4) were combined in the database.\n",
    "replacements = {'':'no response', '1': 'rescue', '2': 'online (non-rescue)', '3': 'pet store', '5': 'breeder',\n",
    "                '6': 'self-bred', '7': 'friends/family', '8': 'found', '9': 'other'}\n",
    "replaceFields(df, labels[1], replacements)\n",
    "display(pd.crosstab(df[labels[0]], df[labels[1]], margins=True))"
   ]
  },
  {
   "cell_type": "markdown",
   "metadata": {},
   "source": [
    "### 9.X Impact of purebred status on behavior problem frequency:"
   ]
  },
  {
   "cell_type": "code",
   "execution_count": 111,
   "metadata": {},
   "outputs": [
    {
     "data": {
      "text/html": [
       "<div>\n",
       "<style scoped>\n",
       "    .dataframe tbody tr th:only-of-type {\n",
       "        vertical-align: middle;\n",
       "    }\n",
       "\n",
       "    .dataframe tbody tr th {\n",
       "        vertical-align: top;\n",
       "    }\n",
       "\n",
       "    .dataframe thead th {\n",
       "        text-align: right;\n",
       "    }\n",
       "</style>\n",
       "<table border=\"1\" class=\"dataframe\">\n",
       "  <thead>\n",
       "    <tr style=\"text-align: right;\">\n",
       "      <th>purebred</th>\n",
       "      <th>no</th>\n",
       "      <th>yes</th>\n",
       "      <th>All</th>\n",
       "    </tr>\n",
       "    <tr>\n",
       "      <th>number of behavior problems</th>\n",
       "      <th></th>\n",
       "      <th></th>\n",
       "      <th></th>\n",
       "    </tr>\n",
       "  </thead>\n",
       "  <tbody>\n",
       "    <tr>\n",
       "      <th>0</th>\n",
       "      <td>143</td>\n",
       "      <td>447</td>\n",
       "      <td>590</td>\n",
       "    </tr>\n",
       "    <tr>\n",
       "      <th>1</th>\n",
       "      <td>412</td>\n",
       "      <td>631</td>\n",
       "      <td>1043</td>\n",
       "    </tr>\n",
       "    <tr>\n",
       "      <th>10</th>\n",
       "      <td>1</td>\n",
       "      <td>4</td>\n",
       "      <td>5</td>\n",
       "    </tr>\n",
       "    <tr>\n",
       "      <th>11</th>\n",
       "      <td>1</td>\n",
       "      <td>1</td>\n",
       "      <td>2</td>\n",
       "    </tr>\n",
       "    <tr>\n",
       "      <th>12</th>\n",
       "      <td>0</td>\n",
       "      <td>1</td>\n",
       "      <td>1</td>\n",
       "    </tr>\n",
       "    <tr>\n",
       "      <th>2</th>\n",
       "      <td>388</td>\n",
       "      <td>513</td>\n",
       "      <td>901</td>\n",
       "    </tr>\n",
       "    <tr>\n",
       "      <th>3</th>\n",
       "      <td>320</td>\n",
       "      <td>331</td>\n",
       "      <td>651</td>\n",
       "    </tr>\n",
       "    <tr>\n",
       "      <th>4</th>\n",
       "      <td>206</td>\n",
       "      <td>204</td>\n",
       "      <td>410</td>\n",
       "    </tr>\n",
       "    <tr>\n",
       "      <th>5</th>\n",
       "      <td>110</td>\n",
       "      <td>105</td>\n",
       "      <td>215</td>\n",
       "    </tr>\n",
       "    <tr>\n",
       "      <th>6</th>\n",
       "      <td>68</td>\n",
       "      <td>54</td>\n",
       "      <td>122</td>\n",
       "    </tr>\n",
       "    <tr>\n",
       "      <th>7</th>\n",
       "      <td>46</td>\n",
       "      <td>25</td>\n",
       "      <td>71</td>\n",
       "    </tr>\n",
       "    <tr>\n",
       "      <th>8</th>\n",
       "      <td>15</td>\n",
       "      <td>15</td>\n",
       "      <td>30</td>\n",
       "    </tr>\n",
       "    <tr>\n",
       "      <th>9</th>\n",
       "      <td>13</td>\n",
       "      <td>4</td>\n",
       "      <td>17</td>\n",
       "    </tr>\n",
       "    <tr>\n",
       "      <th>All</th>\n",
       "      <td>1723</td>\n",
       "      <td>2335</td>\n",
       "      <td>4058</td>\n",
       "    </tr>\n",
       "  </tbody>\n",
       "</table>\n",
       "</div>"
      ],
      "text/plain": [
       "purebred                       no   yes   All\n",
       "number of behavior problems                  \n",
       "0                             143   447   590\n",
       "1                             412   631  1043\n",
       "10                              1     4     5\n",
       "11                              1     1     2\n",
       "12                              0     1     1\n",
       "2                             388   513   901\n",
       "3                             320   331   651\n",
       "4                             206   204   410\n",
       "5                             110   105   215\n",
       "6                              68    54   122\n",
       "7                              46    25    71\n",
       "8                              15    15    30\n",
       "9                              13     4    17\n",
       "All                          1723  2335  4058"
      ]
     },
     "metadata": {},
     "output_type": "display_data"
    }
   ],
   "source": [
    "# status: unverified\n",
    "fields = 'q02_score, purebred'\n",
    "labels = ['number of behavior problems', 'purebred']\n",
    "df = createStringDataFrame(DOG_TABLE, fields, labels)\n",
    "replacements = {'0':'no', '1':'yes'}\n",
    "df = df[df[labels[1]] != '']\n",
    "replaceFields(df, labels[1], replacements)\n",
    "display(pd.crosstab(df[labels[0]], df[labels[1]], margins=True))"
   ]
  },
  {
   "cell_type": "markdown",
   "metadata": {},
   "source": [
    "### 9.X Impact of behavior problem suspicion on behavior problem frequency:"
   ]
  },
  {
   "cell_type": "code",
   "execution_count": 120,
   "metadata": {},
   "outputs": [
    {
     "data": {
      "text/html": [
       "<div>\n",
       "<style scoped>\n",
       "    .dataframe tbody tr th:only-of-type {\n",
       "        vertical-align: middle;\n",
       "    }\n",
       "\n",
       "    .dataframe tbody tr th {\n",
       "        vertical-align: top;\n",
       "    }\n",
       "\n",
       "    .dataframe thead th {\n",
       "        text-align: right;\n",
       "    }\n",
       "</style>\n",
       "<table border=\"1\" class=\"dataframe\">\n",
       "  <thead>\n",
       "    <tr style=\"text-align: right;\">\n",
       "      <th>breed</th>\n",
       "      <th>affenpinscher</th>\n",
       "      <th>afghan hound</th>\n",
       "      <th>airedale terrier</th>\n",
       "      <th>akita</th>\n",
       "      <th>alaskan malamute</th>\n",
       "      <th>american eskimo dog</th>\n",
       "      <th>american staffordshire terrier</th>\n",
       "      <th>american water spaniel</th>\n",
       "      <th>australian cattle dog</th>\n",
       "      <th>australian shepherd</th>\n",
       "      <th>...</th>\n",
       "      <th>weimaraner</th>\n",
       "      <th>welsh springer spaniel</th>\n",
       "      <th>welsh terrier</th>\n",
       "      <th>west highland white terrier</th>\n",
       "      <th>whippet</th>\n",
       "      <th>wire fox terrier</th>\n",
       "      <th>wirehaired pointing griffon</th>\n",
       "      <th>wirehaired vizsla</th>\n",
       "      <th>yorkshire terrier</th>\n",
       "      <th>All</th>\n",
       "    </tr>\n",
       "    <tr>\n",
       "      <th>number of behavior problems</th>\n",
       "      <th></th>\n",
       "      <th></th>\n",
       "      <th></th>\n",
       "      <th></th>\n",
       "      <th></th>\n",
       "      <th></th>\n",
       "      <th></th>\n",
       "      <th></th>\n",
       "      <th></th>\n",
       "      <th></th>\n",
       "      <th></th>\n",
       "      <th></th>\n",
       "      <th></th>\n",
       "      <th></th>\n",
       "      <th></th>\n",
       "      <th></th>\n",
       "      <th></th>\n",
       "      <th></th>\n",
       "      <th></th>\n",
       "      <th></th>\n",
       "      <th></th>\n",
       "    </tr>\n",
       "  </thead>\n",
       "  <tbody>\n",
       "    <tr>\n",
       "      <th>0</th>\n",
       "      <td>0</td>\n",
       "      <td>1</td>\n",
       "      <td>3</td>\n",
       "      <td>2</td>\n",
       "      <td>0</td>\n",
       "      <td>0</td>\n",
       "      <td>1</td>\n",
       "      <td>0</td>\n",
       "      <td>1</td>\n",
       "      <td>10</td>\n",
       "      <td>...</td>\n",
       "      <td>1</td>\n",
       "      <td>0</td>\n",
       "      <td>1</td>\n",
       "      <td>3</td>\n",
       "      <td>1</td>\n",
       "      <td>0</td>\n",
       "      <td>0</td>\n",
       "      <td>2</td>\n",
       "      <td>4</td>\n",
       "      <td>415</td>\n",
       "    </tr>\n",
       "    <tr>\n",
       "      <th>1</th>\n",
       "      <td>3</td>\n",
       "      <td>0</td>\n",
       "      <td>4</td>\n",
       "      <td>2</td>\n",
       "      <td>1</td>\n",
       "      <td>0</td>\n",
       "      <td>2</td>\n",
       "      <td>0</td>\n",
       "      <td>6</td>\n",
       "      <td>17</td>\n",
       "      <td>...</td>\n",
       "      <td>4</td>\n",
       "      <td>0</td>\n",
       "      <td>2</td>\n",
       "      <td>4</td>\n",
       "      <td>3</td>\n",
       "      <td>2</td>\n",
       "      <td>0</td>\n",
       "      <td>1</td>\n",
       "      <td>7</td>\n",
       "      <td>572</td>\n",
       "    </tr>\n",
       "    <tr>\n",
       "      <th>10</th>\n",
       "      <td>0</td>\n",
       "      <td>0</td>\n",
       "      <td>0</td>\n",
       "      <td>0</td>\n",
       "      <td>0</td>\n",
       "      <td>0</td>\n",
       "      <td>0</td>\n",
       "      <td>0</td>\n",
       "      <td>0</td>\n",
       "      <td>0</td>\n",
       "      <td>...</td>\n",
       "      <td>0</td>\n",
       "      <td>0</td>\n",
       "      <td>0</td>\n",
       "      <td>0</td>\n",
       "      <td>0</td>\n",
       "      <td>1</td>\n",
       "      <td>0</td>\n",
       "      <td>0</td>\n",
       "      <td>0</td>\n",
       "      <td>4</td>\n",
       "    </tr>\n",
       "    <tr>\n",
       "      <th>11</th>\n",
       "      <td>0</td>\n",
       "      <td>0</td>\n",
       "      <td>0</td>\n",
       "      <td>0</td>\n",
       "      <td>0</td>\n",
       "      <td>0</td>\n",
       "      <td>0</td>\n",
       "      <td>0</td>\n",
       "      <td>0</td>\n",
       "      <td>0</td>\n",
       "      <td>...</td>\n",
       "      <td>0</td>\n",
       "      <td>0</td>\n",
       "      <td>0</td>\n",
       "      <td>0</td>\n",
       "      <td>0</td>\n",
       "      <td>0</td>\n",
       "      <td>0</td>\n",
       "      <td>0</td>\n",
       "      <td>0</td>\n",
       "      <td>1</td>\n",
       "    </tr>\n",
       "    <tr>\n",
       "      <th>12</th>\n",
       "      <td>0</td>\n",
       "      <td>0</td>\n",
       "      <td>0</td>\n",
       "      <td>0</td>\n",
       "      <td>0</td>\n",
       "      <td>0</td>\n",
       "      <td>0</td>\n",
       "      <td>0</td>\n",
       "      <td>0</td>\n",
       "      <td>0</td>\n",
       "      <td>...</td>\n",
       "      <td>0</td>\n",
       "      <td>0</td>\n",
       "      <td>0</td>\n",
       "      <td>0</td>\n",
       "      <td>0</td>\n",
       "      <td>0</td>\n",
       "      <td>0</td>\n",
       "      <td>0</td>\n",
       "      <td>0</td>\n",
       "      <td>1</td>\n",
       "    </tr>\n",
       "    <tr>\n",
       "      <th>2</th>\n",
       "      <td>0</td>\n",
       "      <td>0</td>\n",
       "      <td>2</td>\n",
       "      <td>2</td>\n",
       "      <td>0</td>\n",
       "      <td>0</td>\n",
       "      <td>4</td>\n",
       "      <td>0</td>\n",
       "      <td>5</td>\n",
       "      <td>6</td>\n",
       "      <td>...</td>\n",
       "      <td>2</td>\n",
       "      <td>1</td>\n",
       "      <td>1</td>\n",
       "      <td>10</td>\n",
       "      <td>4</td>\n",
       "      <td>0</td>\n",
       "      <td>1</td>\n",
       "      <td>1</td>\n",
       "      <td>7</td>\n",
       "      <td>463</td>\n",
       "    </tr>\n",
       "    <tr>\n",
       "      <th>3</th>\n",
       "      <td>0</td>\n",
       "      <td>0</td>\n",
       "      <td>0</td>\n",
       "      <td>2</td>\n",
       "      <td>2</td>\n",
       "      <td>1</td>\n",
       "      <td>8</td>\n",
       "      <td>1</td>\n",
       "      <td>2</td>\n",
       "      <td>9</td>\n",
       "      <td>...</td>\n",
       "      <td>1</td>\n",
       "      <td>0</td>\n",
       "      <td>0</td>\n",
       "      <td>2</td>\n",
       "      <td>3</td>\n",
       "      <td>0</td>\n",
       "      <td>1</td>\n",
       "      <td>0</td>\n",
       "      <td>3</td>\n",
       "      <td>308</td>\n",
       "    </tr>\n",
       "    <tr>\n",
       "      <th>4</th>\n",
       "      <td>0</td>\n",
       "      <td>1</td>\n",
       "      <td>0</td>\n",
       "      <td>0</td>\n",
       "      <td>2</td>\n",
       "      <td>0</td>\n",
       "      <td>1</td>\n",
       "      <td>0</td>\n",
       "      <td>4</td>\n",
       "      <td>10</td>\n",
       "      <td>...</td>\n",
       "      <td>2</td>\n",
       "      <td>0</td>\n",
       "      <td>1</td>\n",
       "      <td>0</td>\n",
       "      <td>1</td>\n",
       "      <td>0</td>\n",
       "      <td>0</td>\n",
       "      <td>0</td>\n",
       "      <td>1</td>\n",
       "      <td>189</td>\n",
       "    </tr>\n",
       "    <tr>\n",
       "      <th>5</th>\n",
       "      <td>0</td>\n",
       "      <td>0</td>\n",
       "      <td>1</td>\n",
       "      <td>0</td>\n",
       "      <td>0</td>\n",
       "      <td>0</td>\n",
       "      <td>0</td>\n",
       "      <td>0</td>\n",
       "      <td>0</td>\n",
       "      <td>4</td>\n",
       "      <td>...</td>\n",
       "      <td>1</td>\n",
       "      <td>0</td>\n",
       "      <td>0</td>\n",
       "      <td>0</td>\n",
       "      <td>0</td>\n",
       "      <td>1</td>\n",
       "      <td>0</td>\n",
       "      <td>0</td>\n",
       "      <td>2</td>\n",
       "      <td>94</td>\n",
       "    </tr>\n",
       "    <tr>\n",
       "      <th>6</th>\n",
       "      <td>0</td>\n",
       "      <td>0</td>\n",
       "      <td>1</td>\n",
       "      <td>0</td>\n",
       "      <td>0</td>\n",
       "      <td>0</td>\n",
       "      <td>0</td>\n",
       "      <td>0</td>\n",
       "      <td>2</td>\n",
       "      <td>2</td>\n",
       "      <td>...</td>\n",
       "      <td>2</td>\n",
       "      <td>0</td>\n",
       "      <td>0</td>\n",
       "      <td>2</td>\n",
       "      <td>0</td>\n",
       "      <td>0</td>\n",
       "      <td>0</td>\n",
       "      <td>0</td>\n",
       "      <td>4</td>\n",
       "      <td>51</td>\n",
       "    </tr>\n",
       "    <tr>\n",
       "      <th>7</th>\n",
       "      <td>0</td>\n",
       "      <td>0</td>\n",
       "      <td>0</td>\n",
       "      <td>0</td>\n",
       "      <td>0</td>\n",
       "      <td>0</td>\n",
       "      <td>0</td>\n",
       "      <td>0</td>\n",
       "      <td>0</td>\n",
       "      <td>0</td>\n",
       "      <td>...</td>\n",
       "      <td>0</td>\n",
       "      <td>0</td>\n",
       "      <td>0</td>\n",
       "      <td>0</td>\n",
       "      <td>1</td>\n",
       "      <td>0</td>\n",
       "      <td>0</td>\n",
       "      <td>0</td>\n",
       "      <td>0</td>\n",
       "      <td>25</td>\n",
       "    </tr>\n",
       "    <tr>\n",
       "      <th>8</th>\n",
       "      <td>0</td>\n",
       "      <td>0</td>\n",
       "      <td>0</td>\n",
       "      <td>0</td>\n",
       "      <td>0</td>\n",
       "      <td>0</td>\n",
       "      <td>0</td>\n",
       "      <td>0</td>\n",
       "      <td>0</td>\n",
       "      <td>0</td>\n",
       "      <td>...</td>\n",
       "      <td>0</td>\n",
       "      <td>0</td>\n",
       "      <td>0</td>\n",
       "      <td>0</td>\n",
       "      <td>0</td>\n",
       "      <td>0</td>\n",
       "      <td>0</td>\n",
       "      <td>1</td>\n",
       "      <td>0</td>\n",
       "      <td>12</td>\n",
       "    </tr>\n",
       "    <tr>\n",
       "      <th>9</th>\n",
       "      <td>0</td>\n",
       "      <td>0</td>\n",
       "      <td>0</td>\n",
       "      <td>0</td>\n",
       "      <td>0</td>\n",
       "      <td>0</td>\n",
       "      <td>0</td>\n",
       "      <td>0</td>\n",
       "      <td>0</td>\n",
       "      <td>0</td>\n",
       "      <td>...</td>\n",
       "      <td>0</td>\n",
       "      <td>0</td>\n",
       "      <td>0</td>\n",
       "      <td>0</td>\n",
       "      <td>1</td>\n",
       "      <td>0</td>\n",
       "      <td>0</td>\n",
       "      <td>0</td>\n",
       "      <td>0</td>\n",
       "      <td>3</td>\n",
       "    </tr>\n",
       "    <tr>\n",
       "      <th>All</th>\n",
       "      <td>3</td>\n",
       "      <td>2</td>\n",
       "      <td>11</td>\n",
       "      <td>8</td>\n",
       "      <td>5</td>\n",
       "      <td>1</td>\n",
       "      <td>16</td>\n",
       "      <td>1</td>\n",
       "      <td>20</td>\n",
       "      <td>58</td>\n",
       "      <td>...</td>\n",
       "      <td>13</td>\n",
       "      <td>1</td>\n",
       "      <td>5</td>\n",
       "      <td>21</td>\n",
       "      <td>14</td>\n",
       "      <td>4</td>\n",
       "      <td>2</td>\n",
       "      <td>5</td>\n",
       "      <td>28</td>\n",
       "      <td>2138</td>\n",
       "    </tr>\n",
       "  </tbody>\n",
       "</table>\n",
       "<p>14 rows × 143 columns</p>\n",
       "</div>"
      ],
      "text/plain": [
       "breed                        affenpinscher  afghan hound  airedale terrier  \\\n",
       "number of behavior problems                                                  \n",
       "0                                        0             1                 3   \n",
       "1                                        3             0                 4   \n",
       "10                                       0             0                 0   \n",
       "11                                       0             0                 0   \n",
       "12                                       0             0                 0   \n",
       "2                                        0             0                 2   \n",
       "3                                        0             0                 0   \n",
       "4                                        0             1                 0   \n",
       "5                                        0             0                 1   \n",
       "6                                        0             0                 1   \n",
       "7                                        0             0                 0   \n",
       "8                                        0             0                 0   \n",
       "9                                        0             0                 0   \n",
       "All                                      3             2                11   \n",
       "\n",
       "breed                        akita  alaskan malamute  american eskimo dog  \\\n",
       "number of behavior problems                                                 \n",
       "0                                2                 0                    0   \n",
       "1                                2                 1                    0   \n",
       "10                               0                 0                    0   \n",
       "11                               0                 0                    0   \n",
       "12                               0                 0                    0   \n",
       "2                                2                 0                    0   \n",
       "3                                2                 2                    1   \n",
       "4                                0                 2                    0   \n",
       "5                                0                 0                    0   \n",
       "6                                0                 0                    0   \n",
       "7                                0                 0                    0   \n",
       "8                                0                 0                    0   \n",
       "9                                0                 0                    0   \n",
       "All                              8                 5                    1   \n",
       "\n",
       "breed                        american staffordshire terrier  \\\n",
       "number of behavior problems                                   \n",
       "0                                                         1   \n",
       "1                                                         2   \n",
       "10                                                        0   \n",
       "11                                                        0   \n",
       "12                                                        0   \n",
       "2                                                         4   \n",
       "3                                                         8   \n",
       "4                                                         1   \n",
       "5                                                         0   \n",
       "6                                                         0   \n",
       "7                                                         0   \n",
       "8                                                         0   \n",
       "9                                                         0   \n",
       "All                                                      16   \n",
       "\n",
       "breed                        american water spaniel  australian cattle dog  \\\n",
       "number of behavior problems                                                  \n",
       "0                                                 0                      1   \n",
       "1                                                 0                      6   \n",
       "10                                                0                      0   \n",
       "11                                                0                      0   \n",
       "12                                                0                      0   \n",
       "2                                                 0                      5   \n",
       "3                                                 1                      2   \n",
       "4                                                 0                      4   \n",
       "5                                                 0                      0   \n",
       "6                                                 0                      2   \n",
       "7                                                 0                      0   \n",
       "8                                                 0                      0   \n",
       "9                                                 0                      0   \n",
       "All                                               1                     20   \n",
       "\n",
       "breed                        australian shepherd  ...   weimaraner  \\\n",
       "number of behavior problems                       ...                \n",
       "0                                             10  ...            1   \n",
       "1                                             17  ...            4   \n",
       "10                                             0  ...            0   \n",
       "11                                             0  ...            0   \n",
       "12                                             0  ...            0   \n",
       "2                                              6  ...            2   \n",
       "3                                              9  ...            1   \n",
       "4                                             10  ...            2   \n",
       "5                                              4  ...            1   \n",
       "6                                              2  ...            2   \n",
       "7                                              0  ...            0   \n",
       "8                                              0  ...            0   \n",
       "9                                              0  ...            0   \n",
       "All                                           58  ...           13   \n",
       "\n",
       "breed                        welsh springer spaniel  welsh terrier  \\\n",
       "number of behavior problems                                          \n",
       "0                                                 0              1   \n",
       "1                                                 0              2   \n",
       "10                                                0              0   \n",
       "11                                                0              0   \n",
       "12                                                0              0   \n",
       "2                                                 1              1   \n",
       "3                                                 0              0   \n",
       "4                                                 0              1   \n",
       "5                                                 0              0   \n",
       "6                                                 0              0   \n",
       "7                                                 0              0   \n",
       "8                                                 0              0   \n",
       "9                                                 0              0   \n",
       "All                                               1              5   \n",
       "\n",
       "breed                        west highland white terrier  whippet  \\\n",
       "number of behavior problems                                         \n",
       "0                                                      3        1   \n",
       "1                                                      4        3   \n",
       "10                                                     0        0   \n",
       "11                                                     0        0   \n",
       "12                                                     0        0   \n",
       "2                                                     10        4   \n",
       "3                                                      2        3   \n",
       "4                                                      0        1   \n",
       "5                                                      0        0   \n",
       "6                                                      2        0   \n",
       "7                                                      0        1   \n",
       "8                                                      0        0   \n",
       "9                                                      0        1   \n",
       "All                                                   21       14   \n",
       "\n",
       "breed                        wire fox terrier  wirehaired pointing griffon  \\\n",
       "number of behavior problems                                                  \n",
       "0                                           0                            0   \n",
       "1                                           2                            0   \n",
       "10                                          1                            0   \n",
       "11                                          0                            0   \n",
       "12                                          0                            0   \n",
       "2                                           0                            1   \n",
       "3                                           0                            1   \n",
       "4                                           0                            0   \n",
       "5                                           1                            0   \n",
       "6                                           0                            0   \n",
       "7                                           0                            0   \n",
       "8                                           0                            0   \n",
       "9                                           0                            0   \n",
       "All                                         4                            2   \n",
       "\n",
       "breed                        wirehaired vizsla  yorkshire terrier   All  \n",
       "number of behavior problems                                              \n",
       "0                                            2                  4   415  \n",
       "1                                            1                  7   572  \n",
       "10                                           0                  0     4  \n",
       "11                                           0                  0     1  \n",
       "12                                           0                  0     1  \n",
       "2                                            1                  7   463  \n",
       "3                                            0                  3   308  \n",
       "4                                            0                  1   189  \n",
       "5                                            0                  2    94  \n",
       "6                                            0                  4    51  \n",
       "7                                            0                  0    25  \n",
       "8                                            1                  0    12  \n",
       "9                                            0                  0     3  \n",
       "All                                          5                 28  2138  \n",
       "\n",
       "[14 rows x 143 columns]"
      ]
     },
     "metadata": {},
     "output_type": "display_data"
    }
   ],
   "source": [
    "# status: verified\n",
    "# Create the necessary dataframe.\n",
    "fields = 'q02_score, purebred_breed, purebred'\n",
    "labels = ['number of behavior problems', 'breed', 'purebred']\n",
    "df = createStringDataFrame(DOG_TABLE, fields, labels)\n",
    "df = df[df[labels[2]] == '1']\n",
    "df.drop(columns=labels[2], inplace=True)\n",
    "df = df[df[labels[1]] != '']\n",
    "display(pd.crosstab(df[labels[0]], df[labels[1]], margins=True))"
   ]
  },
  {
   "cell_type": "markdown",
   "metadata": {},
   "source": [
    "## 10 Chi-squared Matrix"
   ]
  },
  {
   "cell_type": "markdown",
   "metadata": {},
   "source": [
    "### 10.1 Reference Chart:"
   ]
  },
  {
   "cell_type": "code",
   "execution_count": 40,
   "metadata": {
    "scrolled": false
   },
   "outputs": [
    {
     "data": {
      "application/vnd.plotly.v1+json": {
       "data": [
        {
         "cells": {
          "align": [
           "left",
           "left",
           "left"
          ],
          "values": [
           [
            "A01",
            "A02",
            "A03",
            "A04",
            "A05",
            "A06",
            "A07",
            "A08",
            "A09",
            "A10",
            "A11",
            "B01",
            "B02",
            "B03",
            "B04",
            "B05",
            "B06",
            "B07",
            "B08",
            "B09",
            "B10",
            "B11",
            "C01",
            "C02",
            "C03",
            "C04",
            "C05",
            "C06",
            "C07",
            "C08",
            "C09",
            "C10",
            "C11",
            "C12",
            "C13",
            "D01",
            "D02",
            "D03",
            "D04",
            "D05",
            "D06",
            "D07",
            "D08",
            "E01",
            "E02",
            "E03",
            "E04",
            "E05",
            "E06",
            "F01",
            "F02",
            "F03",
            "G01",
            "G02",
            "G03",
            "G04",
            "H01",
            "H02",
            "H03",
            "I01",
            "I02",
            "J01",
            "J02",
            "J03",
            "J04",
            "K01",
            "K02",
            "K03",
            "K04",
            "L01",
            "L02",
            "L03",
            "L04"
           ],
           [
            "Aggression",
            "Aggression",
            "Aggression",
            "Aggression",
            "Aggression",
            "Aggression",
            "Aggression",
            "Aggression",
            "Aggression",
            "Aggression",
            "Aggression",
            "Fear/Anxiety",
            "Fear/Anxiety",
            "Fear/Anxiety",
            "Fear/Anxiety",
            "Fear/Anxiety",
            "Fear/Anxiety",
            "Fear/Anxiety",
            "Fear/Anxiety",
            "Fear/Anxiety",
            "Fear/Anxiety",
            "Fear/Anxiety",
            "Compulsion",
            "Compulsion",
            "Compulsion",
            "Compulsion",
            "Compulsion",
            "Compulsion",
            "Compulsion",
            "Compulsion",
            "Compulsion",
            "Compulsion",
            "Compulsion",
            "Compulsion",
            "Compulsion",
            "House Soiling",
            "House Soiling",
            "House Soiling",
            "House Soiling",
            "House Soiling",
            "House Soiling",
            "House Soiling",
            "House Soiling",
            "Excessive Barking",
            "Excessive Barking",
            "Excessive Barking",
            "Excessive Barking",
            "Excessive Barking",
            "Excessive Barking",
            "Jumping",
            "Jumping",
            "Jumping",
            "Mounting/Humping",
            "Mounting/Humping",
            "Mounting/Humping",
            "Mounting/Humping",
            "Consuming Feces",
            "Consuming Feces",
            "Consuming Feces",
            "Destructive Behavior",
            "Destructive Behavior",
            "Rolling in Repulsive Material",
            "Rolling in Repulsive Material",
            "Rolling in Repulsive Material",
            "Rolling in Repulsive Material",
            "Running Away/Escaping",
            "Running Away/Escaping",
            "Running Away/Escaping",
            "Running Away/Escaping",
            "Overactivity/Hyperactivity",
            "Overactivity/Hyperactivity",
            "Overactivity/Hyperactivity",
            "Overactivity/Hyperactivity"
           ],
           [
            "Familiar people in the home",
            "Stangers visiting the home",
            "Stangers away from the home",
            "Another dog in the home",
            "Unfamiliar dogs visiting the home",
            "Unfamiliar dogs on walks (off lead)",
            "Unfamiliar dogs on walks (on lead)",
            "Veterinarians",
            "Trainers",
            "Groomers",
            "Animals other than dogs in the home",
            "Thunderstorm phobia",
            "Noise phobia",
            "Crowd phobia",
            "Phobia of other dogs",
            "PTSD",
            "Generalized anxiety",
            "Situational anxiety",
            "Veterinarian phobia",
            "Separation anxiety",
            "Travel anxiety",
            "Other",
            "Spinning",
            "Tail chasing",
            "Shadow/light chasing",
            "Running in geometric patterns",
            "Licking of wrist/hock",
            "Fly snapping",
            "Sucking flank region/blankets",
            "Tennis ball fetish",
            "Collecting/arranging objects",
            "Nail biting",
            "Digging in yard",
            "Stone/rock chewing",
            "Other",
            "Urine",
            "Feces",
            "Urine and feces",
            "Specific locations",
            "Anywhere",
            "Owner present",
            "Owner away",
            "Excited/overwhelmed",
            "Owner present",
            "Owner away",
            "To get attention",
            "At tiggers (inside)",
            "At triggers (outside)",
            "During car rides",
            "Owner",
            "Family members",
            "Strangers",
            "People",
            "Familiar dogs",
            "Unfamiliar dogs",
            "Inanimate objects",
            "Their own",
            "Other dogs'",
            "Other species'",
            "Owner is home",
            "Owner is away",
            "Urine",
            "Feces",
            "Dead Stuff",
            "Garbage",
            "Escapes when out",
            "Escapes from home",
            "Escapes from confinement",
            "Returns home after escape",
            "Constant moving/jumping",
            "Difficulty settling",
            "Highly distractible",
            "Impulsive"
           ]
          ]
         },
         "columnwidth": [
          125,
          225,
          300
         ],
         "header": {
          "align": [
           "left",
           "left",
           "left"
          ],
          "fill": {
           "color": "#B0C4DE"
          },
          "values": [
           "Location",
           "Category",
           "Label"
          ]
         },
         "type": "table"
        }
       ],
       "layout": {
        "height": 1600,
        "margin": {
         "b": 50,
         "l": 50,
         "pad": 4,
         "r": 50,
         "t": 50
        },
        "width": 650
       }
      },
      "text/html": [
       "<div id=\"9c9cbca8-ba9a-47e6-bef2-b36346cbbe75\" style=\"height: 1600px; width: 650px;\" class=\"plotly-graph-div\"></div><script type=\"text/javascript\">require([\"plotly\"], function(Plotly) { window.PLOTLYENV=window.PLOTLYENV || {};window.PLOTLYENV.BASE_URL=\"https://plot.ly\";Plotly.newPlot(\"9c9cbca8-ba9a-47e6-bef2-b36346cbbe75\", [{\"type\": \"table\", \"columnwidth\": [125, 225, 300], \"header\": {\"values\": [\"Location\", \"Category\", \"Label\"], \"fill\": {\"color\": \"#B0C4DE\"}, \"align\": [\"left\", \"left\", \"left\"]}, \"cells\": {\"values\": [[\"A01\", \"A02\", \"A03\", \"A04\", \"A05\", \"A06\", \"A07\", \"A08\", \"A09\", \"A10\", \"A11\", \"B01\", \"B02\", \"B03\", \"B04\", \"B05\", \"B06\", \"B07\", \"B08\", \"B09\", \"B10\", \"B11\", \"C01\", \"C02\", \"C03\", \"C04\", \"C05\", \"C06\", \"C07\", \"C08\", \"C09\", \"C10\", \"C11\", \"C12\", \"C13\", \"D01\", \"D02\", \"D03\", \"D04\", \"D05\", \"D06\", \"D07\", \"D08\", \"E01\", \"E02\", \"E03\", \"E04\", \"E05\", \"E06\", \"F01\", \"F02\", \"F03\", \"G01\", \"G02\", \"G03\", \"G04\", \"H01\", \"H02\", \"H03\", \"I01\", \"I02\", \"J01\", \"J02\", \"J03\", \"J04\", \"K01\", \"K02\", \"K03\", \"K04\", \"L01\", \"L02\", \"L03\", \"L04\"], [\"Aggression\", \"Aggression\", \"Aggression\", \"Aggression\", \"Aggression\", \"Aggression\", \"Aggression\", \"Aggression\", \"Aggression\", \"Aggression\", \"Aggression\", \"Fear/Anxiety\", \"Fear/Anxiety\", \"Fear/Anxiety\", \"Fear/Anxiety\", \"Fear/Anxiety\", \"Fear/Anxiety\", \"Fear/Anxiety\", \"Fear/Anxiety\", \"Fear/Anxiety\", \"Fear/Anxiety\", \"Fear/Anxiety\", \"Compulsion\", \"Compulsion\", \"Compulsion\", \"Compulsion\", \"Compulsion\", \"Compulsion\", \"Compulsion\", \"Compulsion\", \"Compulsion\", \"Compulsion\", \"Compulsion\", \"Compulsion\", \"Compulsion\", \"House Soiling\", \"House Soiling\", \"House Soiling\", \"House Soiling\", \"House Soiling\", \"House Soiling\", \"House Soiling\", \"House Soiling\", \"Excessive Barking\", \"Excessive Barking\", \"Excessive Barking\", \"Excessive Barking\", \"Excessive Barking\", \"Excessive Barking\", \"Jumping\", \"Jumping\", \"Jumping\", \"Mounting/Humping\", \"Mounting/Humping\", \"Mounting/Humping\", \"Mounting/Humping\", \"Consuming Feces\", \"Consuming Feces\", \"Consuming Feces\", \"Destructive Behavior\", \"Destructive Behavior\", \"Rolling in Repulsive Material\", \"Rolling in Repulsive Material\", \"Rolling in Repulsive Material\", \"Rolling in Repulsive Material\", \"Running Away/Escaping\", \"Running Away/Escaping\", \"Running Away/Escaping\", \"Running Away/Escaping\", \"Overactivity/Hyperactivity\", \"Overactivity/Hyperactivity\", \"Overactivity/Hyperactivity\", \"Overactivity/Hyperactivity\"], [\"Familiar people in the home\", \"Stangers visiting the home\", \"Stangers away from the home\", \"Another dog in the home\", \"Unfamiliar dogs visiting the home\", \"Unfamiliar dogs on walks (off lead)\", \"Unfamiliar dogs on walks (on lead)\", \"Veterinarians\", \"Trainers\", \"Groomers\", \"Animals other than dogs in the home\", \"Thunderstorm phobia\", \"Noise phobia\", \"Crowd phobia\", \"Phobia of other dogs\", \"PTSD\", \"Generalized anxiety\", \"Situational anxiety\", \"Veterinarian phobia\", \"Separation anxiety\", \"Travel anxiety\", \"Other\", \"Spinning\", \"Tail chasing\", \"Shadow/light chasing\", \"Running in geometric patterns\", \"Licking of wrist/hock\", \"Fly snapping\", \"Sucking flank region/blankets\", \"Tennis ball fetish\", \"Collecting/arranging objects\", \"Nail biting\", \"Digging in yard\", \"Stone/rock chewing\", \"Other\", \"Urine\", \"Feces\", \"Urine and feces\", \"Specific locations\", \"Anywhere\", \"Owner present\", \"Owner away\", \"Excited/overwhelmed\", \"Owner present\", \"Owner away\", \"To get attention\", \"At tiggers (inside)\", \"At triggers (outside)\", \"During car rides\", \"Owner\", \"Family members\", \"Strangers\", \"People\", \"Familiar dogs\", \"Unfamiliar dogs\", \"Inanimate objects\", \"Their own\", \"Other dogs'\", \"Other species'\", \"Owner is home\", \"Owner is away\", \"Urine\", \"Feces\", \"Dead Stuff\", \"Garbage\", \"Escapes when out\", \"Escapes from home\", \"Escapes from confinement\", \"Returns home after escape\", \"Constant moving/jumping\", \"Difficulty settling\", \"Highly distractible\", \"Impulsive\"]], \"align\": [\"left\", \"left\", \"left\"]}}], {\"width\": 650, \"height\": 1600, \"margin\": {\"l\": 50, \"r\": 50, \"b\": 50, \"t\": 50, \"pad\": 4}}, {\"showLink\": true, \"linkText\": \"Export to plot.ly\"})});</script>"
      ],
      "text/vnd.plotly.v1+html": [
       "<div id=\"9c9cbca8-ba9a-47e6-bef2-b36346cbbe75\" style=\"height: 1600px; width: 650px;\" class=\"plotly-graph-div\"></div><script type=\"text/javascript\">require([\"plotly\"], function(Plotly) { window.PLOTLYENV=window.PLOTLYENV || {};window.PLOTLYENV.BASE_URL=\"https://plot.ly\";Plotly.newPlot(\"9c9cbca8-ba9a-47e6-bef2-b36346cbbe75\", [{\"type\": \"table\", \"columnwidth\": [125, 225, 300], \"header\": {\"values\": [\"Location\", \"Category\", \"Label\"], \"fill\": {\"color\": \"#B0C4DE\"}, \"align\": [\"left\", \"left\", \"left\"]}, \"cells\": {\"values\": [[\"A01\", \"A02\", \"A03\", \"A04\", \"A05\", \"A06\", \"A07\", \"A08\", \"A09\", \"A10\", \"A11\", \"B01\", \"B02\", \"B03\", \"B04\", \"B05\", \"B06\", \"B07\", \"B08\", \"B09\", \"B10\", \"B11\", \"C01\", \"C02\", \"C03\", \"C04\", \"C05\", \"C06\", \"C07\", \"C08\", \"C09\", \"C10\", \"C11\", \"C12\", \"C13\", \"D01\", \"D02\", \"D03\", \"D04\", \"D05\", \"D06\", \"D07\", \"D08\", \"E01\", \"E02\", \"E03\", \"E04\", \"E05\", \"E06\", \"F01\", \"F02\", \"F03\", \"G01\", \"G02\", \"G03\", \"G04\", \"H01\", \"H02\", \"H03\", \"I01\", \"I02\", \"J01\", \"J02\", \"J03\", \"J04\", \"K01\", \"K02\", \"K03\", \"K04\", \"L01\", \"L02\", \"L03\", \"L04\"], [\"Aggression\", \"Aggression\", \"Aggression\", \"Aggression\", \"Aggression\", \"Aggression\", \"Aggression\", \"Aggression\", \"Aggression\", \"Aggression\", \"Aggression\", \"Fear/Anxiety\", \"Fear/Anxiety\", \"Fear/Anxiety\", \"Fear/Anxiety\", \"Fear/Anxiety\", \"Fear/Anxiety\", \"Fear/Anxiety\", \"Fear/Anxiety\", \"Fear/Anxiety\", \"Fear/Anxiety\", \"Fear/Anxiety\", \"Compulsion\", \"Compulsion\", \"Compulsion\", \"Compulsion\", \"Compulsion\", \"Compulsion\", \"Compulsion\", \"Compulsion\", \"Compulsion\", \"Compulsion\", \"Compulsion\", \"Compulsion\", \"Compulsion\", \"House Soiling\", \"House Soiling\", \"House Soiling\", \"House Soiling\", \"House Soiling\", \"House Soiling\", \"House Soiling\", \"House Soiling\", \"Excessive Barking\", \"Excessive Barking\", \"Excessive Barking\", \"Excessive Barking\", \"Excessive Barking\", \"Excessive Barking\", \"Jumping\", \"Jumping\", \"Jumping\", \"Mounting/Humping\", \"Mounting/Humping\", \"Mounting/Humping\", \"Mounting/Humping\", \"Consuming Feces\", \"Consuming Feces\", \"Consuming Feces\", \"Destructive Behavior\", \"Destructive Behavior\", \"Rolling in Repulsive Material\", \"Rolling in Repulsive Material\", \"Rolling in Repulsive Material\", \"Rolling in Repulsive Material\", \"Running Away/Escaping\", \"Running Away/Escaping\", \"Running Away/Escaping\", \"Running Away/Escaping\", \"Overactivity/Hyperactivity\", \"Overactivity/Hyperactivity\", \"Overactivity/Hyperactivity\", \"Overactivity/Hyperactivity\"], [\"Familiar people in the home\", \"Stangers visiting the home\", \"Stangers away from the home\", \"Another dog in the home\", \"Unfamiliar dogs visiting the home\", \"Unfamiliar dogs on walks (off lead)\", \"Unfamiliar dogs on walks (on lead)\", \"Veterinarians\", \"Trainers\", \"Groomers\", \"Animals other than dogs in the home\", \"Thunderstorm phobia\", \"Noise phobia\", \"Crowd phobia\", \"Phobia of other dogs\", \"PTSD\", \"Generalized anxiety\", \"Situational anxiety\", \"Veterinarian phobia\", \"Separation anxiety\", \"Travel anxiety\", \"Other\", \"Spinning\", \"Tail chasing\", \"Shadow/light chasing\", \"Running in geometric patterns\", \"Licking of wrist/hock\", \"Fly snapping\", \"Sucking flank region/blankets\", \"Tennis ball fetish\", \"Collecting/arranging objects\", \"Nail biting\", \"Digging in yard\", \"Stone/rock chewing\", \"Other\", \"Urine\", \"Feces\", \"Urine and feces\", \"Specific locations\", \"Anywhere\", \"Owner present\", \"Owner away\", \"Excited/overwhelmed\", \"Owner present\", \"Owner away\", \"To get attention\", \"At tiggers (inside)\", \"At triggers (outside)\", \"During car rides\", \"Owner\", \"Family members\", \"Strangers\", \"People\", \"Familiar dogs\", \"Unfamiliar dogs\", \"Inanimate objects\", \"Their own\", \"Other dogs'\", \"Other species'\", \"Owner is home\", \"Owner is away\", \"Urine\", \"Feces\", \"Dead Stuff\", \"Garbage\", \"Escapes when out\", \"Escapes from home\", \"Escapes from confinement\", \"Returns home after escape\", \"Constant moving/jumping\", \"Difficulty settling\", \"Highly distractible\", \"Impulsive\"]], \"align\": [\"left\", \"left\", \"left\"]}}], {\"width\": 650, \"height\": 1600, \"margin\": {\"l\": 50, \"r\": 50, \"b\": 50, \"t\": 50, \"pad\": 4}}, {\"showLink\": true, \"linkText\": \"Export to plot.ly\"})});</script>"
      ]
     },
     "metadata": {},
     "output_type": "display_data"
    }
   ],
   "source": [
    "# Construct lists.\n",
    "locs = []\n",
    "labels = []\n",
    "categories = []\n",
    "for cat, subdict in FR.labels.items():\n",
    "    for key, value in  subdict.items():\n",
    "        locs.append(key)\n",
    "        labels.append(value)\n",
    "        categories.append(cat)\n",
    "\n",
    "# Display lists in a chart for use as a reference.\n",
    "data = [go.Table(columnwidth = [125, 225, 300],\n",
    "                 header=dict(values=['Location', 'Category', 'Label'],\n",
    "                             fill = dict(color='#B0C4DE'),\n",
    "                             align = ['left'] * 3),\n",
    "                 cells=dict(values=[locs, categories, labels],\n",
    "                            align = ['left'] * 3))]\n",
    "layout = go.Layout(width=650,\n",
    "                   height=1600,\n",
    "                   margin=go.Margin(l=50, r=50, b=50, t=50, pad=4))\n",
    "fig = dict(data=data, layout=layout)\n",
    "if SAVE_OUTPUT:\n",
    "    py.plot(fig, image='png', image_width=650, image_height=1600,\n",
    "            image_filename='9_1_heatmap_reference')\n",
    "py.iplot(fig)"
   ]
  },
  {
   "cell_type": "markdown",
   "metadata": {},
   "source": [
    "### 10.2 Linear Heatmap:"
   ]
  },
  {
   "cell_type": "code",
   "execution_count": 41,
   "metadata": {},
   "outputs": [
    {
     "data": {
      "image/png": "[encoded data removed]",
      "text/plain": [
       "<Figure size 1440x1080 with 2 Axes>"
      ]
     },
     "metadata": {},
     "output_type": "display_data"
    }
   ],
   "source": [
    "if CHI2_MATRIX.empty:\n",
    "    CHI2_MATRIX = createChiSquaredMatrix()\n",
    "\n",
    "# Heatmap\n",
    "fig, ax = plt.subplots(figsize=(20, 15))\n",
    "sns.heatmap(ax=ax, data=CHI2_MATRIX, cmap=\"PiYG\", linewidths=.008, linecolor='black',\n",
    "            cbar_kws={'label': 'chi-square values'})\n",
    "plt.xticks(rotation=90)\n",
    "plt.title('Linear Heatmap of Study Chi-squared Values', weight='bold')\n",
    "if SAVE_OUTPUT:\n",
    "    fig.savefig(os.path.join(SAVE_DIR, '9_2_heatmap_linear.pdf'))\n",
    "plt.show()"
   ]
  },
  {
   "cell_type": "markdown",
   "metadata": {},
   "source": [
    "### 10.3 Logarithmic Heatmap:"
   ]
  },
  {
   "cell_type": "code",
   "execution_count": 42,
   "metadata": {
    "scrolled": false
   },
   "outputs": [
    {
     "data": {
      "image/png": "[encoded data removed]",
      "text/plain": [
       "<Figure size 1440x1080 with 2 Axes>"
      ]
     },
     "metadata": {},
     "output_type": "display_data"
    }
   ],
   "source": [
    "if CHI2_MATRIX.empty:\n",
    "    CHI2_MATRIX = createChiSquaredMatrix()\n",
    "\n",
    "# Heatmap\n",
    "from matplotlib.colors import LogNorm\n",
    "from matplotlib import ticker\n",
    "fig, ax = plt.subplots(figsize=(20, 15))\n",
    "chi2_min = CHI2_MATRIX.min(skipna=True).min()\n",
    "chi2_max = CHI2_MATRIX.max(skipna=True).max()\n",
    "data = CHI2_MATRIX.fillna(1e-5)\n",
    "cmap = sns.cubehelix_palette(light=1, as_cmap=True)\n",
    "sns.heatmap(ax = ax, data=data, norm=LogNorm(vmin=chi2_min, vmax=chi2_max),\n",
    "            cmap=cmap, linewidths=.008, linecolor='black',\n",
    "            cbar_kws={'ticks': [0,1,10,1e2,1e3,1e4], 'label': 'chi-square values'})\n",
    "plt.xticks(rotation=90)\n",
    "plt.title('Logarithmic Heatmap of Study Chi-squared Values', weight='bold')\n",
    "if SAVE_OUTPUT:\n",
    "    fig.savefig(os.path.join(SAVE_DIR, '9_3_heatmap_logarithmic.pdf'))\n",
    "plt.show()"
   ]
  },
  {
   "cell_type": "raw",
   "metadata": {},
   "source": [
    "<script>\n",
    "  $(document).ready(function(){\n",
    "    $('div.prompt').hide();\n",
    "    $('div.back-to-top').hide();\n",
    "    $('nav#menubar').hide();\n",
    "    $('.breadcrumb').hide();\n",
    "    $('.hidden-print').hide();\n",
    "  });\n",
    "</script>\n",
    "\n",
    "<footer id=\"attribution\" style=\"float:right; color:#999; background:#fff;\">\n",
    "Created with Jupyter, delivered by Fastly, rendered by Rackspace.\n",
    "</footer>"
   ]
  }
 ],
 "metadata": {
  "kernelspec": {
   "display_name": "Python 3",
   "language": "python",
   "name": "python3"
  },
  "language_info": {
   "codemirror_mode": {
    "name": "ipython",
    "version": 3
   },
   "file_extension": ".py",
   "mimetype": "text/x-python",
   "name": "python",
   "nbconvert_exporter": "python",
   "pygments_lexer": "ipython3",
   "version": "3.6.3"
  }
 },
 "nbformat": 4,
 "nbformat_minor": 2
}
