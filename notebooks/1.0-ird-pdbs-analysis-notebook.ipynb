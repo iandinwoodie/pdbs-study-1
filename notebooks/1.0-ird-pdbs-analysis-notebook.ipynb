{
 "cells": [
  {
   "cell_type": "raw",
   "metadata": {},
   "source": [
    "<script>\n",
    "  function code_toggle() {\n",
    "    if (code_shown){\n",
    "      $('div.input').hide('500');\n",
    "      $('#toggleButton').val('Show Code')\n",
    "    } else {\n",
    "      $('div.input').show('500');\n",
    "      $('#toggleButton').val('Hide Code')\n",
    "    }\n",
    "    code_shown = !code_shown\n",
    "  }\n",
    "\n",
    "  $( document ).ready(function(){\n",
    "    code_shown=false;\n",
    "    $('div.input').hide()\n",
    "  });\n",
    "</script>\n",
    "<form action=\"javascript:code_toggle()\"><input type=\"submit\" id=\"toggleButton\" value=\"Show Code\"></form>"
   ]
  },
  {
   "cell_type": "markdown",
   "metadata": {},
   "source": [
    "# Pet Dog Behavior Study - Phase I"
   ]
  },
  {
   "cell_type": "code",
   "execution_count": 1,
   "metadata": {},
   "outputs": [
    {
     "data": {
      "text/html": [
       "<script>requirejs.config({paths: { 'plotly': ['https://cdn.plot.ly/plotly-latest.min']},});if(!window.Plotly) {{require(['plotly'],function(plotly) {window.Plotly=plotly;});}}</script>"
      ],
      "text/vnd.plotly.v1+html": [
       "<script>requirejs.config({paths: { 'plotly': ['https://cdn.plot.ly/plotly-latest.min']},});if(!window.Plotly) {{require(['plotly'],function(plotly) {window.Plotly=plotly;});}}</script>"
      ]
     },
     "metadata": {},
     "output_type": "display_data"
    }
   ],
   "source": [
    "import sqlite3\n",
    "import pandas as pd\n",
    "import plotly.offline as py\n",
    "import plotly.graph_objs as go\n",
    "from matplotlib_venn import venn2, venn3\n",
    "import scipy.stats as scs\n",
    "import textwrap\n",
    "import matplotlib.pyplot as plt\n",
    "import numpy as np\n",
    "import seaborn as sns\n",
    "from  itertools import combinations\n",
    "\n",
    "# IPython magics for this notebook.\n",
    "%matplotlib inline\n",
    "\n",
    "# Initiate plotly IPython notebook mode.\n",
    "py.init_notebook_mode(connected=True)"
   ]
  },
  {
   "cell_type": "code",
   "execution_count": 2,
   "metadata": {},
   "outputs": [],
   "source": [
    "TOTAL_USERS = 0\n",
    "TOTAL_DOGS = 0\n",
    "prevalence_cal = lambda x: (x / TOTAL_DOGS) * 100\n",
    "USER_TABLE = 'users'\n",
    "DOG_TABLE = 'dogs'\n",
    "SIG_P = 0.01\n",
    "BIAS_FILTER = '''\n",
    "    JOIN users\n",
    "    USING (record_id)\n",
    "    WHERE question_reason_for_part_3 = 0\n",
    "    OR (question_reason_for_part_3 = 1 AND q01_main != 1)'''\n",
    "CON = sqlite3.connect('../data/processed/processed.db')\n",
    "CATEGORY = ['Aggression', 'Fear/Anxiety', 'Compulsion', 'House Soiling', 'Excessive Barking', \n",
    "            'Jumping', 'Mounting/Humping', 'Consuming Feces', 'Destructive Behavior',\n",
    "            'Rolling in Repulsive Material', 'Running Away/Escaping', \n",
    "            'Overactivity/Hyperactivity']\n",
    "LABELS = {}\n",
    "FIELDS = {}\n",
    "CHI2_MATRIX = pd.DataFrame()"
   ]
  },
  {
   "cell_type": "code",
   "execution_count": 3,
   "metadata": {},
   "outputs": [],
   "source": [
    "def dataFrameFromQuery(query, labels):\n",
    "    df = pd.read_sql_query(query, CON)\n",
    "    df.columns = labels\n",
    "    return df\n",
    "\n",
    "def replaceFields(df, replacement_dict):\n",
    "    for key, value in replacement_dict.items():\n",
    "        df = df.replace(key, value)\n",
    "    return df\n",
    "\n",
    "def getValueCountAndPrevalence(df, field):\n",
    "    s = df[field].value_counts()\n",
    "    p = s.apply(prevalence_cal)\n",
    "    rv = pd.concat([s, p], axis=1)\n",
    "    rv.columns = ['sum', 'prevalence']\n",
    "    return rv\n",
    "\n",
    "def convertToNumeric(df):\n",
    "    for col in df:\n",
    "        df[col] = pd.to_numeric(df[col])\n",
    "    return df\n",
    "\n",
    "def createDataFrame(table, fields, labels, filtered):\n",
    "    query = 'SELECT ' + fields + ' FROM ' + table\n",
    "    if filtered:\n",
    "        query += ' ' + BIAS_FILTER\n",
    "    df = pd.read_sql_query(query, CON)\n",
    "    df.columns = labels\n",
    "    return df\n",
    "\n",
    "def createNumericDataFrame(table, fields, labels, filtered):\n",
    "    df = createDataFrame(table, fields, labels, filtered)\n",
    "    return convertToNumeric(df)\n",
    "\n",
    "def addToLabels(letter, labels, category):\n",
    "    LABELS[category] = {}\n",
    "    for counter, value in enumerate(labels, 1):\n",
    "        key = '{}{:02}'.format(letter, counter)\n",
    "        LABELS[category][key] = value\n",
    "\n",
    "def addToFields(fields, category):\n",
    "    FIELDS[category] = fields\n",
    "    \n",
    "def createChiSquaredMatrix():\n",
    "    fields = ''\n",
    "    for cat, sublist in FIELDS.items():\n",
    "        for field in sublist:\n",
    "            fields += '{}, '.format(field)\n",
    "    fields = fields[:-2]\n",
    "    locs = []\n",
    "    for cat, subdict in LABELS.items():\n",
    "        for key, value in  subdict.items():\n",
    "            locs.append(key)\n",
    "    df = createNumericDataFrame(DOG_TABLE, fields, locs, filtered=True)\n",
    "    cols = []\n",
    "    chi2 = {}\n",
    "    for col in df:\n",
    "        cols.append(col)\n",
    "        chi2[col] = {}\n",
    "    pairs = list(combinations(df.columns,2))\n",
    "    for pair in pairs:\n",
    "        contingency = pd.crosstab(df[pair[0]], df[pair[1]])\n",
    "        c, p, dof, expected = scs.chi2_contingency(contingency, correction=False)\n",
    "        chi2[pair[0]][pair[1]] = c\n",
    "        chi2[pair[1]][pair[0]] = c\n",
    "    df = pd.DataFrame(chi2).sort_index(ascending=True)\n",
    "    return df\n",
    "\n",
    "def checkSignificance(p, sig=SIG_P):\n",
    "    if p < sig:\n",
    "        print('The resulting p-value is below the set significance threshold (%.2f).' %sig)"
   ]
  },
  {
   "cell_type": "code",
   "execution_count": 4,
   "metadata": {},
   "outputs": [],
   "source": [
    "# Aggression.\n",
    "labels = ['Familiar people in the home', 'Stangers visiting the home',\n",
    "          'Stangers away from the home', 'Another dog in the home',\n",
    "          'Unfamiliar dogs visiting the home', 'Unfamiliar dogs on walks (off lead)',\n",
    "          'Unfamiliar dogs on walks (on lead)', 'Veterinarians', 'Trainers', 'Groomers',\n",
    "          'Animals other than dogs in the home']\n",
    "addToLabels('A', labels, CATEGORY[0])\n",
    "fields = ['q03_main_1', 'q03_main_2', 'q03_main_3', 'q03_main_4', 'q03_main_5', 'q03_main_6',\n",
    "          'q03_main_7', 'q03_main_8', 'q03_main_9', 'q03_main_10', 'q03_main_11']\n",
    "addToFields(fields, CATEGORY[0])\n",
    "\n",
    "# Fear/anxiety.\n",
    "labels = ['Thunderstorm phobia', 'Noise phobia', 'Crowd phobia', 'Phobia of other dogs',\n",
    "          'PTSD', 'Generalized anxiety', 'Situational anxiety', 'Veterinarian phobia',\n",
    "          'Separation anxiety', 'Travel anxiety', 'Other']\n",
    "addToLabels('B', labels, CATEGORY[1])\n",
    "fields = ['q04_1', 'q04_2', 'q04_3', 'q04_4', 'q04_5', 'q04_6', 'q04_7', 'q04_8', 'q04_9',\n",
    "          'q04_10', 'q04_11']\n",
    "addToFields(fields, CATEGORY[1])\n",
    "\n",
    "# Compulsion.\n",
    "labels = ['Spinning', 'Tail chasing', 'Shadow/light chasing', 'Running in geometric patterns',\n",
    "          'Licking of wrist/hock', 'Fly snapping', 'Sucking flank region/blankets',\n",
    "          'Tennis ball fetish', 'Collecting/arranging objects', 'Nail biting',\n",
    "          'Digging in yard', 'Stone/rock chewing', 'Other']\n",
    "addToLabels('C', labels, CATEGORY[2])\n",
    "fields = ['q05_main_1', 'q05_main_2', 'q05_main_3', 'q05_main_4', 'q05_main_5', 'q05_main_6',\n",
    "          'q05_main_7', 'q05_main_8', 'q05_main_9', 'q05_main_10', 'q05_main_11',\n",
    "          'q05_main_12', 'q05_main_13']\n",
    "addToFields(fields, CATEGORY[2])\n",
    "\n",
    "# House soiling.\n",
    "labels = ['Urine', 'Feces', 'Urine and feces', 'Specific locations', 'Anywhere',\n",
    "          'Owner present', 'Owner away', 'Excited/overwhelmed']\n",
    "addToLabels('D', labels, CATEGORY[3])\n",
    "fields = ['q06_situation_1', 'q06_situation_2', 'q06_situation_3', 'q06_soil_location_1',\n",
    "          'q06_soil_location_2', 'q06_situation_1', 'q06_situation_2', 'q06_situation_3']\n",
    "addToFields(fields, CATEGORY[3])\n",
    "\n",
    "# Excessive barking.\n",
    "labels = ['Owner present', 'Owner away', 'To get attention', 'At tiggers (inside)',\n",
    "          'At triggers (outside)', 'During car rides']\n",
    "addToLabels('E', labels, CATEGORY[4])\n",
    "fields = ['q07_sitatuon_1', 'q07_sitatuon_2', 'q07_sitatuon_3', 'q07_sitatuon_4',\n",
    "          'q07_sitatuon_5', 'q07_sitatuon_6']\n",
    "addToFields(fields, CATEGORY[4])\n",
    "\n",
    "# Jumping.\n",
    "labels = ['Owner', 'Family members', 'Strangers']\n",
    "addToLabels('F', labels, CATEGORY[5])\n",
    "fields = ['q08_who_1', 'q08_who_2', 'q08_who_3']\n",
    "addToFields(fields, CATEGORY[5])\n",
    "\n",
    "# Mounting/humping.\n",
    "labels = ['People', 'Familiar dogs', 'Unfamiliar dogs', 'Inanimate objects']\n",
    "addToLabels('G', labels, CATEGORY[6])\n",
    "fields = ['q09_main_1', 'q09_main_2', 'q09_main_3', 'q09_main_4']\n",
    "addToFields(fields, CATEGORY[6])\n",
    "\n",
    "# Consuming feces.\n",
    "labels = ['Their own', \"Other dogs'\", \"Other species'\"]\n",
    "addToLabels('H', labels, CATEGORY[7])\n",
    "fields = ['q10_main_1', 'q10_main_2', 'q10_main_3']\n",
    "addToFields(fields, CATEGORY[7])\n",
    "\n",
    "# Destructive behavior.\n",
    "labels = ['Owner is home', 'Owner is away']\n",
    "addToLabels('I', labels, CATEGORY[8])\n",
    "fields = ['q11_situation_1', 'q11_situation_2']\n",
    "addToFields(fields, CATEGORY[8])\n",
    "\n",
    "# Rolling in repulsive materials.\n",
    "labels = ['Urine', 'Feces', 'Dead Stuff', 'Garbage']\n",
    "addToLabels('J', labels, CATEGORY[9])\n",
    "fields = ['q12_main_1', 'q12_main_2', 'q12_main_3', 'q12_main_4']\n",
    "addToFields(fields, CATEGORY[9])\n",
    "\n",
    "# Running away/escaping.\n",
    "labels = ['Escapes when out', 'Escapes from home', 'Escapes from confinement',\n",
    "          'Returns home after escape']\n",
    "addToLabels('K', labels, CATEGORY[10])\n",
    "fields = ['q14_out', 'q14_house', 'q14_conf', 'q14_return']\n",
    "addToFields(fields, CATEGORY[10])\n",
    "\n",
    "# Overactivity/hyperactivity.\n",
    "labels = ['Constant moving/jumping', 'Difficulty settling', 'Highly distractible',\n",
    "          'Impulsive']\n",
    "addToLabels('L', labels, CATEGORY[11])\n",
    "fields = ['q15_main_1', 'q15_main_2', 'q15_main_3', 'q15_main_4']\n",
    "addToFields(fields, CATEGORY[11])"
   ]
  },
  {
   "cell_type": "markdown",
   "metadata": {},
   "source": [
    "## 1. Participant Demographics"
   ]
  },
  {
   "cell_type": "markdown",
   "metadata": {},
   "source": [
    "### 1.1 Number of Participants:"
   ]
  },
  {
   "cell_type": "code",
   "execution_count": 5,
   "metadata": {},
   "outputs": [
    {
     "name": "stdout",
     "output_type": "stream",
     "text": [
      "Total number of participants: 3201\n"
     ]
    }
   ],
   "source": [
    "df = dataFrameFromQuery('SELECT COUNT(*) FROM users', ['count'])\n",
    "# Assign value to global.\n",
    "TOTAL_USERS = df['count'][0]\n",
    "print('Total number of participants: %d' %TOTAL_USERS)"
   ]
  },
  {
   "cell_type": "markdown",
   "metadata": {},
   "source": [
    "### 1.2 Motivation for Enrollment:"
   ]
  },
  {
   "cell_type": "code",
   "execution_count": 6,
   "metadata": {},
   "outputs": [
    {
     "data": {
      "application/vnd.plotly.v1+json": {
       "data": [
        {
         "orientation": "h",
         "type": "bar",
         "x": [
          273,
          830,
          1049,
          1377,
          2595
         ],
         "y": [
          "Other",
          "Suspicion of behavior problems",
          "Work with animals",
          "Yo help shelter animals",
          "Love for dogs"
         ]
        }
       ],
       "layout": {
        "height": 400,
        "title": "Motivation for Study Enrollment",
        "width": 600,
        "xaxis": {
         "title": "number of participants"
        },
        "yaxis": {
         "automargin": true,
         "tickangle": 30,
         "tickprefix": " ",
         "ticksuffix": " ",
         "title": ""
        }
       }
      },
      "text/html": [
       "<div id=\"88d9d4ff-9bd2-4da2-a3f9-f2eef1c86b63\" style=\"height: 400px; width: 600px;\" class=\"plotly-graph-div\"></div><script type=\"text/javascript\">require([\"plotly\"], function(Plotly) { window.PLOTLYENV=window.PLOTLYENV || {};window.PLOTLYENV.BASE_URL=\"https://plot.ly\";Plotly.newPlot(\"88d9d4ff-9bd2-4da2-a3f9-f2eef1c86b63\", [{\"type\": \"bar\", \"y\": [\"Other\", \"Suspicion of behavior problems\", \"Work with animals\", \"Yo help shelter animals\", \"Love for dogs\"], \"x\": [273, 830, 1049, 1377, 2595], \"orientation\": \"h\"}], {\"title\": \"Motivation for Study Enrollment\", \"xaxis\": {\"title\": \"number of participants\"}, \"yaxis\": {\"title\": \"\", \"automargin\": true, \"tickangle\": 30, \"tickprefix\": \" \", \"ticksuffix\": \" \"}, \"width\": 600, \"height\": 400}, {\"showLink\": true, \"linkText\": \"Export to plot.ly\"})});</script>"
      ],
      "text/vnd.plotly.v1+html": [
       "<div id=\"88d9d4ff-9bd2-4da2-a3f9-f2eef1c86b63\" style=\"height: 400px; width: 600px;\" class=\"plotly-graph-div\"></div><script type=\"text/javascript\">require([\"plotly\"], function(Plotly) { window.PLOTLYENV=window.PLOTLYENV || {};window.PLOTLYENV.BASE_URL=\"https://plot.ly\";Plotly.newPlot(\"88d9d4ff-9bd2-4da2-a3f9-f2eef1c86b63\", [{\"type\": \"bar\", \"y\": [\"Other\", \"Suspicion of behavior problems\", \"Work with animals\", \"Yo help shelter animals\", \"Love for dogs\"], \"x\": [273, 830, 1049, 1377, 2595], \"orientation\": \"h\"}], {\"title\": \"Motivation for Study Enrollment\", \"xaxis\": {\"title\": \"number of participants\"}, \"yaxis\": {\"title\": \"\", \"automargin\": true, \"tickangle\": 30, \"tickprefix\": \" \", \"ticksuffix\": \" \"}, \"width\": 600, \"height\": 400}, {\"showLink\": true, \"linkText\": \"Export to plot.ly\"})});</script>"
      ]
     },
     "metadata": {},
     "output_type": "display_data"
    }
   ],
   "source": [
    "# Create the necessary dataframe.\n",
    "fields = ('question_reason_for_part_1, question_reason_for_part_2, '\n",
    "          'question_reason_for_part_3, question_reason_for_part_4, '\n",
    "          'question_reason_for_part_5')\n",
    "labels = ['Love for dogs', 'Yo help shelter animals', 'Suspicion of behavior problems',\n",
    "          'Work with animals', 'Other']\n",
    "df = createNumericDataFrame(USER_TABLE, fields, labels, filtered=False)\n",
    "    \n",
    "# Create a bar graph to illustrate breakdown of responses.\n",
    "sums = df.sum()\n",
    "sums = sums.sort_values(ascending=True)\n",
    "data = [go.Bar(y=sums.index.values,\n",
    "               x=sums.values,\n",
    "               orientation='h')]\n",
    "layout = go.Layout(title=\"Motivation for Study Enrollment\",\n",
    "                   xaxis=dict(title='number of participants'),\n",
    "                   yaxis=dict(title='',\n",
    "                              automargin=True,\n",
    "                              tickangle=30,\n",
    "                              tickprefix=' ',\n",
    "                              ticksuffix=' '),\n",
    "                   width=600,\n",
    "                   height=400)\n",
    "fig = go.Figure(data=data, layout=layout)\n",
    "py.iplot(fig)\n",
    "\n",
    "# NOTE: This does not include a count of users who did not provide a reason."
   ]
  },
  {
   "cell_type": "markdown",
   "metadata": {},
   "source": [
    "## 2 Participating Dog Demographics"
   ]
  },
  {
   "cell_type": "markdown",
   "metadata": {},
   "source": [
    "### 2.1 Number of Participating Dogs:"
   ]
  },
  {
   "cell_type": "code",
   "execution_count": 7,
   "metadata": {},
   "outputs": [
    {
     "name": "stdout",
     "output_type": "stream",
     "text": [
      "Total number of participating dogs: 5018\n"
     ]
    }
   ],
   "source": [
    "df = dataFrameFromQuery('SELECT COUNT(*) FROM dogs', ['count'])\n",
    "# Assign value to global.\n",
    "TOTAL_DOGS = df['count'][0]\n",
    "print('Total number of participating dogs: %d' %TOTAL_DOGS)"
   ]
  },
  {
   "cell_type": "markdown",
   "metadata": {},
   "source": [
    "### 2.2 Gender:"
   ]
  },
  {
   "cell_type": "code",
   "execution_count": 8,
   "metadata": {},
   "outputs": [
    {
     "data": {
      "application/vnd.plotly.v1+json": {
       "data": [
        {
         "cells": {
          "align": [
           "left",
           "left",
           "left"
          ],
          "format": [
           null,
           "d",
           ".2f"
          ],
          "values": [
           [
            "Female",
            "Male",
            "No response"
           ],
           [
            2520,
            2482,
            16
           ],
           [
            50.219210840972494,
            49.461937026703865,
            0.3188521323236349
           ]
          ]
         },
         "header": {
          "align": [
           "left",
           "left",
           "left"
          ],
          "fill": {
           "color": "#B0C4DE"
          },
          "values": [
           "Gender",
           "Number of Dogs",
           "Prevalence (%)"
          ]
         },
         "type": "table"
        }
       ],
       "layout": {
        "height": 200,
        "margin": {
         "b": 50,
         "l": 50,
         "pad": 4,
         "r": 50,
         "t": 50
        },
        "title": "Gender of Participating Dogs",
        "width": 500
       }
      },
      "text/html": [
       "<div id=\"4720cd92-f2fb-4825-a025-740d81b38914\" style=\"height: 200px; width: 500px;\" class=\"plotly-graph-div\"></div><script type=\"text/javascript\">require([\"plotly\"], function(Plotly) { window.PLOTLYENV=window.PLOTLYENV || {};window.PLOTLYENV.BASE_URL=\"https://plot.ly\";Plotly.newPlot(\"4720cd92-f2fb-4825-a025-740d81b38914\", [{\"type\": \"table\", \"header\": {\"values\": [\"Gender\", \"Number of Dogs\", \"Prevalence (%)\"], \"fill\": {\"color\": \"#B0C4DE\"}, \"align\": [\"left\", \"left\", \"left\"]}, \"cells\": {\"values\": [[\"Female\", \"Male\", \"No response\"], [2520, 2482, 16], [50.219210840972494, 49.461937026703865, 0.3188521323236349]], \"align\": [\"left\", \"left\", \"left\"], \"format\": [null, \"d\", \".2f\"]}}], {\"title\": \"Gender of Participating Dogs\", \"width\": 500, \"height\": 200, \"margin\": {\"l\": 50, \"r\": 50, \"b\": 50, \"t\": 50, \"pad\": 4}}, {\"showLink\": true, \"linkText\": \"Export to plot.ly\"})});</script>"
      ],
      "text/vnd.plotly.v1+html": [
       "<div id=\"4720cd92-f2fb-4825-a025-740d81b38914\" style=\"height: 200px; width: 500px;\" class=\"plotly-graph-div\"></div><script type=\"text/javascript\">require([\"plotly\"], function(Plotly) { window.PLOTLYENV=window.PLOTLYENV || {};window.PLOTLYENV.BASE_URL=\"https://plot.ly\";Plotly.newPlot(\"4720cd92-f2fb-4825-a025-740d81b38914\", [{\"type\": \"table\", \"header\": {\"values\": [\"Gender\", \"Number of Dogs\", \"Prevalence (%)\"], \"fill\": {\"color\": \"#B0C4DE\"}, \"align\": [\"left\", \"left\", \"left\"]}, \"cells\": {\"values\": [[\"Female\", \"Male\", \"No response\"], [2520, 2482, 16], [50.219210840972494, 49.461937026703865, 0.3188521323236349]], \"align\": [\"left\", \"left\", \"left\"], \"format\": [null, \"d\", \".2f\"]}}], {\"title\": \"Gender of Participating Dogs\", \"width\": 500, \"height\": 200, \"margin\": {\"l\": 50, \"r\": 50, \"b\": 50, \"t\": 50, \"pad\": 4}}, {\"showLink\": true, \"linkText\": \"Export to plot.ly\"})});</script>"
      ]
     },
     "metadata": {},
     "output_type": "display_data"
    }
   ],
   "source": [
    "# Construct the dataframe.\n",
    "fields = 'dog_sex'\n",
    "labels = ['Gender']\n",
    "df = createDataFrame(DOG_TABLE, fields, labels, filtered=False)\n",
    "replacements = {'':'No response', '1':'Male', '2':'Female'}\n",
    "df = replaceFields(df, replacements)\n",
    "\n",
    "# Calculate sums and prevalences.\n",
    "calc = getValueCountAndPrevalence(df, labels[0])\n",
    "\n",
    "# Display the results as a table.\n",
    "data = [go.Table(header=dict(values=[labels[0], 'Number of Dogs', 'Prevalence (%)'],\n",
    "                             fill = dict(color='#B0C4DE'),\n",
    "                             align = ['left'] * 3),\n",
    "                 cells=dict(values=[calc.index.values, calc['sum'].values, \n",
    "                                    calc['prevalence'].values],\n",
    "                            align = ['left'] * 3,\n",
    "                            format = [None, 'd', '.2f']))]\n",
    "layout = go.Layout(title='Gender of Participating Dogs',\n",
    "                   width=500,\n",
    "                   height=200,\n",
    "                   margin=go.Margin(l=50, r=50, b=50, t=50, pad=4))\n",
    "fig = dict(data=data, layout=layout)\n",
    "py.iplot(fig)"
   ]
  },
  {
   "cell_type": "markdown",
   "metadata": {},
   "source": [
    "### 2.3 Neutered Status:"
   ]
  },
  {
   "cell_type": "code",
   "execution_count": 9,
   "metadata": {},
   "outputs": [
    {
     "data": {
      "application/vnd.plotly.v1+json": {
       "data": [
        {
         "cells": {
          "align": [
           "left",
           "left",
           "left"
          ],
          "format": [
           null,
           "d",
           ".2f"
          ],
          "values": [
           [
            "Yes",
            "No",
            "No response",
            "I don't know"
           ],
           [
            4288,
            706,
            18,
            6
           ],
           [
            85.45237146273415,
            14.06935033878039,
            0.35870864886408926,
            0.11956954962136308
           ]
          ]
         },
         "header": {
          "align": [
           "left",
           "left",
           "left"
          ],
          "fill": {
           "color": "#B0C4DE"
          },
          "values": [
           "Neutered",
           "Number of Dogs",
           "Prevalence (%)"
          ]
         },
         "type": "table"
        }
       ],
       "layout": {
        "height": 225,
        "margin": {
         "b": 50,
         "l": 50,
         "pad": 4,
         "r": 50,
         "t": 50
        },
        "title": "Neutered Status of Participating Dogs",
        "width": 500
       }
      },
      "text/html": [
       "<div id=\"1cafe721-5698-4923-b6ee-bcf9b83a526d\" style=\"height: 225px; width: 500px;\" class=\"plotly-graph-div\"></div><script type=\"text/javascript\">require([\"plotly\"], function(Plotly) { window.PLOTLYENV=window.PLOTLYENV || {};window.PLOTLYENV.BASE_URL=\"https://plot.ly\";Plotly.newPlot(\"1cafe721-5698-4923-b6ee-bcf9b83a526d\", [{\"type\": \"table\", \"header\": {\"values\": [\"Neutered\", \"Number of Dogs\", \"Prevalence (%)\"], \"fill\": {\"color\": \"#B0C4DE\"}, \"align\": [\"left\", \"left\", \"left\"]}, \"cells\": {\"values\": [[\"Yes\", \"No\", \"No response\", \"I don't know\"], [4288, 706, 18, 6], [85.45237146273415, 14.06935033878039, 0.35870864886408926, 0.11956954962136308]], \"align\": [\"left\", \"left\", \"left\"], \"format\": [null, \"d\", \".2f\"]}}], {\"title\": \"Neutered Status of Participating Dogs\", \"width\": 500, \"height\": 225, \"margin\": {\"l\": 50, \"r\": 50, \"b\": 50, \"t\": 50, \"pad\": 4}}, {\"showLink\": true, \"linkText\": \"Export to plot.ly\"})});</script>"
      ],
      "text/vnd.plotly.v1+html": [
       "<div id=\"1cafe721-5698-4923-b6ee-bcf9b83a526d\" style=\"height: 225px; width: 500px;\" class=\"plotly-graph-div\"></div><script type=\"text/javascript\">require([\"plotly\"], function(Plotly) { window.PLOTLYENV=window.PLOTLYENV || {};window.PLOTLYENV.BASE_URL=\"https://plot.ly\";Plotly.newPlot(\"1cafe721-5698-4923-b6ee-bcf9b83a526d\", [{\"type\": \"table\", \"header\": {\"values\": [\"Neutered\", \"Number of Dogs\", \"Prevalence (%)\"], \"fill\": {\"color\": \"#B0C4DE\"}, \"align\": [\"left\", \"left\", \"left\"]}, \"cells\": {\"values\": [[\"Yes\", \"No\", \"No response\", \"I don't know\"], [4288, 706, 18, 6], [85.45237146273415, 14.06935033878039, 0.35870864886408926, 0.11956954962136308]], \"align\": [\"left\", \"left\", \"left\"], \"format\": [null, \"d\", \".2f\"]}}], {\"title\": \"Neutered Status of Participating Dogs\", \"width\": 500, \"height\": 225, \"margin\": {\"l\": 50, \"r\": 50, \"b\": 50, \"t\": 50, \"pad\": 4}}, {\"showLink\": true, \"linkText\": \"Export to plot.ly\"})});</script>"
      ]
     },
     "metadata": {},
     "output_type": "display_data"
    }
   ],
   "source": [
    "# Construct the dataframe.\n",
    "fields = 'dog_spayed'\n",
    "labels = ['Neutered']\n",
    "df = createDataFrame(DOG_TABLE, fields, labels, filtered=False)\n",
    "replacements = {'':'No response', '0':'No', '1':'Yes', '2':\"I don't know\"}\n",
    "df = replaceFields(df, replacements)\n",
    "\n",
    "# Calculate sums and prevalences.\n",
    "calc = getValueCountAndPrevalence(df, labels[0])\n",
    "\n",
    "data = [go.Table(header=dict(values=[labels[0], 'Number of Dogs', 'Prevalence (%)'],\n",
    "                             fill = dict(color='#B0C4DE'),\n",
    "                             align = ['left'] * 3),\n",
    "                 cells=dict(values=[calc.index.values, calc['sum'].values, \n",
    "                                    calc['prevalence'].values],\n",
    "                            align = ['left'] * 3,\n",
    "                            format = [None, 'd', '.2f']))]\n",
    "layout = go.Layout(title='Neutered Status of Participating Dogs',\n",
    "                   width=500,\n",
    "                   height=225,\n",
    "                   margin=go.Margin(l=50, r=50, b=50, t=50, pad=4))\n",
    "fig = dict(data=data, layout=layout)\n",
    "py.iplot(fig)"
   ]
  },
  {
   "cell_type": "markdown",
   "metadata": {},
   "source": [
    "### 2.4 Breakdown of Participating Purebred Breeds:"
   ]
  },
  {
   "cell_type": "code",
   "execution_count": 10,
   "metadata": {
    "scrolled": false
   },
   "outputs": [
    {
     "data": {
      "application/vnd.plotly.v1+json": {
       "data": [
        {
         "cells": {
          "align": [
           "left",
           "left",
           "left"
          ],
          "format": [
           null,
           "d",
           ".2f"
          ],
          "values": [
           [
            "Labrador retriever",
            "German shepherd",
            "Golden retriever",
            "Poodle",
            "Border collie",
            "Cocker spaniel",
            "Australian shepherd",
            "Dachshund",
            "Chihuahua",
            "Shetland sheepdog"
           ],
           [
            420,
            163,
            155,
            125,
            111,
            78,
            72,
            61,
            49,
            44
           ],
           [
            8.369868473495416,
            3.248306098047031,
            3.088880031885213,
            2.491032283778398,
            2.2120366679952173,
            1.5544041450777202,
            1.434834595456357,
            1.2156237544838582,
            0.9764846552411319,
            0.876843363889996
           ]
          ]
         },
         "columnwidth": [
          100,
          100,
          100
         ],
         "header": {
          "align": [
           "left",
           "left",
           "left"
          ],
          "fill": {
           "color": "#B0C4DE"
          },
          "values": [
           "Breed",
           "Number of Dogs",
           "Prevalence (%)"
          ]
         },
         "type": "table"
        }
       ],
       "layout": {
        "height": 350,
        "margin": {
         "b": 50,
         "l": 50,
         "pad": 4,
         "r": 50,
         "t": 50
        },
        "title": "Top 10 Participating Breeds",
        "width": 700
       }
      },
      "text/html": [
       "<div id=\"c39517cb-5fe6-4039-a007-11f456033545\" style=\"height: 350px; width: 700px;\" class=\"plotly-graph-div\"></div><script type=\"text/javascript\">require([\"plotly\"], function(Plotly) { window.PLOTLYENV=window.PLOTLYENV || {};window.PLOTLYENV.BASE_URL=\"https://plot.ly\";Plotly.newPlot(\"c39517cb-5fe6-4039-a007-11f456033545\", [{\"type\": \"table\", \"columnwidth\": [100, 100, 100], \"header\": {\"values\": [\"Breed\", \"Number of Dogs\", \"Prevalence (%)\"], \"fill\": {\"color\": \"#B0C4DE\"}, \"align\": [\"left\", \"left\", \"left\"]}, \"cells\": {\"values\": [[\"Labrador retriever\", \"German shepherd\", \"Golden retriever\", \"Poodle\", \"Border collie\", \"Cocker spaniel\", \"Australian shepherd\", \"Dachshund\", \"Chihuahua\", \"Shetland sheepdog\"], [420, 163, 155, 125, 111, 78, 72, 61, 49, 44], [8.369868473495416, 3.248306098047031, 3.088880031885213, 2.491032283778398, 2.2120366679952173, 1.5544041450777202, 1.434834595456357, 1.2156237544838582, 0.9764846552411319, 0.876843363889996]], \"align\": [\"left\", \"left\", \"left\"], \"format\": [null, \"d\", \".2f\"]}}], {\"title\": \"Top 10 Participating Breeds\", \"width\": 700, \"height\": 350, \"margin\": {\"l\": 50, \"r\": 50, \"b\": 50, \"t\": 50, \"pad\": 4}}, {\"showLink\": true, \"linkText\": \"Export to plot.ly\"})});</script>"
      ],
      "text/vnd.plotly.v1+html": [
       "<div id=\"c39517cb-5fe6-4039-a007-11f456033545\" style=\"height: 350px; width: 700px;\" class=\"plotly-graph-div\"></div><script type=\"text/javascript\">require([\"plotly\"], function(Plotly) { window.PLOTLYENV=window.PLOTLYENV || {};window.PLOTLYENV.BASE_URL=\"https://plot.ly\";Plotly.newPlot(\"c39517cb-5fe6-4039-a007-11f456033545\", [{\"type\": \"table\", \"columnwidth\": [100, 100, 100], \"header\": {\"values\": [\"Breed\", \"Number of Dogs\", \"Prevalence (%)\"], \"fill\": {\"color\": \"#B0C4DE\"}, \"align\": [\"left\", \"left\", \"left\"]}, \"cells\": {\"values\": [[\"Labrador retriever\", \"German shepherd\", \"Golden retriever\", \"Poodle\", \"Border collie\", \"Cocker spaniel\", \"Australian shepherd\", \"Dachshund\", \"Chihuahua\", \"Shetland sheepdog\"], [420, 163, 155, 125, 111, 78, 72, 61, 49, 44], [8.369868473495416, 3.248306098047031, 3.088880031885213, 2.491032283778398, 2.2120366679952173, 1.5544041450777202, 1.434834595456357, 1.2156237544838582, 0.9764846552411319, 0.876843363889996]], \"align\": [\"left\", \"left\", \"left\"], \"format\": [null, \"d\", \".2f\"]}}], {\"title\": \"Top 10 Participating Breeds\", \"width\": 700, \"height\": 350, \"margin\": {\"l\": 50, \"r\": 50, \"b\": 50, \"t\": 50, \"pad\": 4}}, {\"showLink\": true, \"linkText\": \"Export to plot.ly\"})});</script>"
      ]
     },
     "metadata": {},
     "output_type": "display_data"
    }
   ],
   "source": [
    "# Create the necessary dataframe.\n",
    "fields = 'purebred_breed'\n",
    "labels = ['Breed']\n",
    "df = createDataFrame(DOG_TABLE, fields, labels, filtered=False)\n",
    "\n",
    "df = df.replace('', np.nan, regex=True)\n",
    "df = df.replace('118', 'Labrador retriever', regex=True)\n",
    "df = df.replace('92', 'German shepherd', regex=True)\n",
    "df = df.replace('97', 'Golden retriever', regex=True)\n",
    "df = df.replace('151', 'Poodle', regex=True)\n",
    "df = df.replace('43', 'Border collie', regex=True)\n",
    "df = df.replace('71', 'Cocker spaniel', regex=True)\n",
    "df = df.replace('16', 'Australian shepherd', regex=True)\n",
    "df = df.replace('75', 'Dachshund', regex=True)\n",
    "df = df.replace('64', 'Chihuahua', regex=True)\n",
    "df = df.replace('170', 'Shetland sheepdog', regex=True)\n",
    "\n",
    "# Calculate sums and prevalences.\n",
    "calc = getValueCountAndPrevalence(df, labels[0])\n",
    "calc = calc[:10]\n",
    "\n",
    "data = [go.Table(columnwidth = [100, 100, 100],\n",
    "                 header=dict(values=[labels[0], 'Number of Dogs', 'Prevalence (%)'],\n",
    "                             fill = dict(color='#B0C4DE'),\n",
    "                             align = ['left'] * 3),\n",
    "                 cells=dict(values=[calc.index.values, calc['sum'].values, \n",
    "                                    calc['prevalence'].values],\n",
    "\n",
    "                            align = ['left'] * 3,\n",
    "                            format = [None, 'd', '.2f']))]\n",
    "layout = go.Layout(title='Top 10 Participating Breeds',\n",
    "                   width=700,\n",
    "                   height=350,\n",
    "                   margin=go.Margin(l=50, r=50, b=50, t=50, pad=4))\n",
    "fig = dict(data=data, layout=layout)\n",
    "py.iplot(fig)"
   ]
  },
  {
   "cell_type": "markdown",
   "metadata": {},
   "source": [
    "## 3 Prevalence of Overall Behavior Problems\n",
    "\n",
    "Prevalence is defined as the proportion of a population found to be affected by a medical condition. This section aims to calculate the aggregate prevalence of the most common behavior problems in a given canine population. It is in this section that we define and apply a filter to remove bias from the data set."
   ]
  },
  {
   "cell_type": "markdown",
   "metadata": {},
   "source": [
    "### 3.1 Bias Filter:"
   ]
  },
  {
   "cell_type": "markdown",
   "metadata": {},
   "source": [
    "The current bias filter focuses largely on the participants' motivation for enrollment (\"Why did you decide to participate in this survey?\", pg. 1). The answer choice \"my dog may have a behavior problem\" was included to identify participants who enrolled with motivational bias. However, participants may not have a motiivational bias towards all of their participating dogs. To account for this, the question \"do you believe \\[dog\\] has ever had a behavior problem\" (pg. 4) was used in conjunction with the enrollment motivation to identify the dogs most likely to be influenced by the bias of the participating owner. "
   ]
  },
  {
   "cell_type": "markdown",
   "metadata": {},
   "source": [
    "### 3.2 Gross and Adjusted Sums:"
   ]
  },
  {
   "cell_type": "code",
   "execution_count": 11,
   "metadata": {},
   "outputs": [
    {
     "name": "stdout",
     "output_type": "stream",
     "text": [
      "Pre-adjustment Responses (Gross):\n",
      "Total number of dogs: 5018\n",
      "Total number of dogs with a reported behavior problem: 4407\n",
      "\n",
      "Post-adjustment Responses:\n",
      "Adjusted total number of dogs: 4114\n",
      "Adjusted total number of dogs with a reported behavior problem: 3512\n"
     ]
    }
   ],
   "source": [
    "fields = 'q02_score'\n",
    "labels = ['Score']\n",
    "\n",
    "df_gross = createNumericDataFrame(DOG_TABLE, fields, labels, filtered=False)\n",
    "cnt_total_dogs_w_problems = len(df_gross[df_gross[labels[0]] != 0].index)\n",
    "\n",
    "df_adjusted = createNumericDataFrame(DOG_TABLE, fields, labels, filtered=True)\n",
    "cnt_total_dogs_adjusted = len(df_adjusted.index)\n",
    "cnt_total_dogs_w_problems_adjusted = len(df_adjusted[df_adjusted[labels[0]] != 0].index)\n",
    "\n",
    "# Display the count results.\n",
    "print('Pre-adjustment Responses (Gross):')\n",
    "print('Total number of dogs: %d' %TOTAL_DOGS)\n",
    "print('Total number of dogs with a reported behavior problem: %d' %cnt_total_dogs_w_problems)\n",
    "\n",
    "print('\\nPost-adjustment Responses:')\n",
    "print('Adjusted total number of dogs: %d' %cnt_total_dogs_adjusted)\n",
    "print('Adjusted total number of dogs with a reported behavior problem: %d'\n",
    "      %cnt_total_dogs_w_problems_adjusted)"
   ]
  },
  {
   "cell_type": "markdown",
   "metadata": {},
   "source": [
    "### 3.3 Gross and Adjusted Prevalence:"
   ]
  },
  {
   "cell_type": "code",
   "execution_count": 12,
   "metadata": {},
   "outputs": [
    {
     "name": "stdout",
     "output_type": "stream",
     "text": [
      "Pre-adjustment prevalence: 87.82% (4407/5018 dogs)\n",
      "Post-adjustment prevalence: 85.37% (3512/4114 dogs)\n",
      "Shift in prevalence as a result of adjustment: -2.46%\n"
     ]
    }
   ],
   "source": [
    "# Calculate the gross prevalence.\n",
    "prevalence_gross = (cnt_total_dogs_w_problems / TOTAL_DOGS) * 100\n",
    "\n",
    "# Calculate the adjusted prevalence.\n",
    "prevalence_adjusted = (cnt_total_dogs_w_problems_adjusted / cnt_total_dogs_adjusted) * 100\n",
    "\n",
    "# Calculate the difference between the gross and adjusted prevalence.\n",
    "diff_prevalence = prevalence_adjusted - prevalence_gross\n",
    "sign = '+' if diff_prevalence > 0 else ''\n",
    "\n",
    "# Display the prevalence results.\n",
    "print('Pre-adjustment prevalence: %.2f%% (%d/%d dogs)'\n",
    "      %(prevalence_gross, cnt_total_dogs_w_problems, TOTAL_DOGS))\n",
    "print('Post-adjustment prevalence: %.2f%% (%d/%d dogs)'\n",
    "      %(prevalence_adjusted, cnt_total_dogs_w_problems_adjusted, cnt_total_dogs_adjusted))\n",
    "print('Shift in prevalence as a result of adjustment: %s%.2f%%' %(sign, diff_prevalence))"
   ]
  },
  {
   "cell_type": "markdown",
   "metadata": {},
   "source": [
    "## 4 Prevalence of Individual Behavior Problems\n",
    "\n",
    "This section aims to calculate the prevalence for each behavior problem included in the study. The adjusted dataset is utilized to eliminate potential bias."
   ]
  },
  {
   "cell_type": "code",
   "execution_count": 13,
   "metadata": {},
   "outputs": [
    {
     "data": {
      "application/vnd.plotly.v1+json": {
       "data": [
        {
         "cells": {
          "align": [
           "left",
           "left",
           "left"
          ],
          "format": [
           null,
           "d",
           ".2f"
          ],
          "values": [
           [
            "Fear/Anxiety",
            "Aggression",
            "Jumping",
            "Excessive Barking",
            "Consuming Feces",
            "Compulsion",
            "House Soiling",
            "Rolling in Repulsive Material",
            "Overactivity/Hyperactivity",
            "Destructive Behavior",
            "Running Away/Escaping",
            "Mounting/Humping"
           ],
           [
            1814,
            1239,
            1159,
            758,
            718,
            639,
            614,
            515,
            505,
            489,
            442,
            433
           ],
           [
            36.14986050219211,
            24.69111199681148,
            23.096851335193307,
            15.105619768832204,
            14.308489438023116,
            12.73415703467517,
            12.235950577919489,
            10.263053009166999,
            10.063770426464727,
            9.744918294141092,
            8.808290155440414,
            8.62893583100837
           ]
          ]
         },
         "header": {
          "align": [
           "left",
           "left",
           "left"
          ],
          "fill": {
           "color": "#B0C4DE"
          },
          "values": [
           "Behavior Problem",
           "Number of Dogs",
           "Prevalence (%)"
          ]
         },
         "type": "table"
        }
       ],
       "layout": {
        "height": 375,
        "margin": {
         "b": 50,
         "l": 50,
         "pad": 4,
         "r": 50,
         "t": 50
        },
        "title": "Prevalence of Individual Behavior Problems",
        "width": 700
       }
      },
      "text/html": [
       "<div id=\"92d2d2c2-f417-4993-94a9-696af6d3f747\" style=\"height: 375px; width: 700px;\" class=\"plotly-graph-div\"></div><script type=\"text/javascript\">require([\"plotly\"], function(Plotly) { window.PLOTLYENV=window.PLOTLYENV || {};window.PLOTLYENV.BASE_URL=\"https://plot.ly\";Plotly.newPlot(\"92d2d2c2-f417-4993-94a9-696af6d3f747\", [{\"type\": \"table\", \"header\": {\"values\": [\"Behavior Problem\", \"Number of Dogs\", \"Prevalence (%)\"], \"fill\": {\"color\": \"#B0C4DE\"}, \"align\": [\"left\", \"left\", \"left\"]}, \"cells\": {\"values\": [[\"Fear/Anxiety\", \"Aggression\", \"Jumping\", \"Excessive Barking\", \"Consuming Feces\", \"Compulsion\", \"House Soiling\", \"Rolling in Repulsive Material\", \"Overactivity/Hyperactivity\", \"Destructive Behavior\", \"Running Away/Escaping\", \"Mounting/Humping\"], [1814, 1239, 1159, 758, 718, 639, 614, 515, 505, 489, 442, 433], [36.14986050219211, 24.69111199681148, 23.096851335193307, 15.105619768832204, 14.308489438023116, 12.73415703467517, 12.235950577919489, 10.263053009166999, 10.063770426464727, 9.744918294141092, 8.808290155440414, 8.62893583100837]], \"align\": [\"left\", \"left\", \"left\"], \"format\": [null, \"d\", \".2f\"]}}], {\"title\": \"Prevalence of Individual Behavior Problems\", \"width\": 700, \"height\": 375, \"margin\": {\"l\": 50, \"r\": 50, \"b\": 50, \"t\": 50, \"pad\": 4}}, {\"showLink\": true, \"linkText\": \"Export to plot.ly\"})});</script>"
      ],
      "text/vnd.plotly.v1+html": [
       "<div id=\"92d2d2c2-f417-4993-94a9-696af6d3f747\" style=\"height: 375px; width: 700px;\" class=\"plotly-graph-div\"></div><script type=\"text/javascript\">require([\"plotly\"], function(Plotly) { window.PLOTLYENV=window.PLOTLYENV || {};window.PLOTLYENV.BASE_URL=\"https://plot.ly\";Plotly.newPlot(\"92d2d2c2-f417-4993-94a9-696af6d3f747\", [{\"type\": \"table\", \"header\": {\"values\": [\"Behavior Problem\", \"Number of Dogs\", \"Prevalence (%)\"], \"fill\": {\"color\": \"#B0C4DE\"}, \"align\": [\"left\", \"left\", \"left\"]}, \"cells\": {\"values\": [[\"Fear/Anxiety\", \"Aggression\", \"Jumping\", \"Excessive Barking\", \"Consuming Feces\", \"Compulsion\", \"House Soiling\", \"Rolling in Repulsive Material\", \"Overactivity/Hyperactivity\", \"Destructive Behavior\", \"Running Away/Escaping\", \"Mounting/Humping\"], [1814, 1239, 1159, 758, 718, 639, 614, 515, 505, 489, 442, 433], [36.14986050219211, 24.69111199681148, 23.096851335193307, 15.105619768832204, 14.308489438023116, 12.73415703467517, 12.235950577919489, 10.263053009166999, 10.063770426464727, 9.744918294141092, 8.808290155440414, 8.62893583100837]], \"align\": [\"left\", \"left\", \"left\"], \"format\": [null, \"d\", \".2f\"]}}], {\"title\": \"Prevalence of Individual Behavior Problems\", \"width\": 700, \"height\": 375, \"margin\": {\"l\": 50, \"r\": 50, \"b\": 50, \"t\": 50, \"pad\": 4}}, {\"showLink\": true, \"linkText\": \"Export to plot.ly\"})});</script>"
      ]
     },
     "metadata": {},
     "output_type": "display_data"
    }
   ],
   "source": [
    "# Create the necessary dataframe.\n",
    "fields = []\n",
    "labels = []\n",
    "for counter, cat in enumerate(CATEGORY, 1):\n",
    "    if counter > 10:\n",
    "        counter += 1;\n",
    "    fields.append('q02_main_{}'.format(counter))\n",
    "    labels.append(cat)\n",
    "fields = ', '.join(fields)\n",
    "df = createNumericDataFrame(DOG_TABLE, fields, labels, filtered=True)\n",
    "\n",
    "# Get individual behavior problem counts and display as a table.\n",
    "sums = df.sum()\n",
    "sums = sums.sort_values(ascending=False)\n",
    "\n",
    "# Calculate the prevalence of each behavior problem.\n",
    "total_dogs = len(df.index)\n",
    "prevalences = sums.apply(prevalence_cal)\n",
    "\n",
    "# Get individual behavior problem counts and display as a table.\n",
    "data = [go.Table(header=dict(values=['Behavior Problem', 'Number of Dogs', 'Prevalence (%)'],\n",
    "                             fill = dict(color='#B0C4DE'),\n",
    "                             align = ['left'] * 3),\n",
    "                 cells=dict(values=[sums.index.values, sums.values, prevalences.values],\n",
    "                            align = ['left'] * 3,\n",
    "                            format = [None, 'd', '.2f']))]\n",
    "layout = go.Layout(title='Prevalence of Individual Behavior Problems',\n",
    "                   width=700,\n",
    "                   height=375,\n",
    "                   margin=go.Margin(l=50, r=50, b=50, t=50, pad=4))\n",
    "fig = dict(data=data, layout=layout)\n",
    "py.iplot(fig)"
   ]
  },
  {
   "cell_type": "code",
   "execution_count": 14,
   "metadata": {},
   "outputs": [
    {
     "data": {
      "application/vnd.plotly.v1+json": {
       "data": [
        {
         "orientation": "h",
         "type": "bar",
         "x": [
          8.62893583100837,
          8.808290155440414,
          9.744918294141092,
          10.063770426464727,
          10.263053009166999,
          12.235950577919489,
          12.73415703467517,
          14.308489438023116,
          15.105619768832204,
          23.096851335193307,
          24.69111199681148,
          36.14986050219211
         ],
         "y": [
          "Mounting/Humping",
          "Running Away/Escaping",
          "Destructive Behavior",
          "Overactivity/Hyperactivity",
          "Rolling in Repulsive Material",
          "House Soiling",
          "Compulsion",
          "Consuming Feces",
          "Excessive Barking",
          "Jumping",
          "Aggression",
          "Fear/Anxiety"
         ]
        }
       ],
       "layout": {
        "height": 500,
        "title": "Prevalence of Individual Behavior Problems",
        "width": 700,
        "xaxis": {
         "title": "prevalence (%)"
        },
        "yaxis": {
         "automargin": true,
         "tickangle": 30,
         "tickprefix": " ",
         "ticksuffix": " ",
         "title": ""
        }
       }
      },
      "text/html": [
       "<div id=\"fab350cd-94d0-4623-b196-4fb9b9104c1f\" style=\"height: 500px; width: 700px;\" class=\"plotly-graph-div\"></div><script type=\"text/javascript\">require([\"plotly\"], function(Plotly) { window.PLOTLYENV=window.PLOTLYENV || {};window.PLOTLYENV.BASE_URL=\"https://plot.ly\";Plotly.newPlot(\"fab350cd-94d0-4623-b196-4fb9b9104c1f\", [{\"type\": \"bar\", \"x\": [8.62893583100837, 8.808290155440414, 9.744918294141092, 10.063770426464727, 10.263053009166999, 12.235950577919489, 12.73415703467517, 14.308489438023116, 15.105619768832204, 23.096851335193307, 24.69111199681148, 36.14986050219211], \"y\": [\"Mounting/Humping\", \"Running Away/Escaping\", \"Destructive Behavior\", \"Overactivity/Hyperactivity\", \"Rolling in Repulsive Material\", \"House Soiling\", \"Compulsion\", \"Consuming Feces\", \"Excessive Barking\", \"Jumping\", \"Aggression\", \"Fear/Anxiety\"], \"orientation\": \"h\"}], {\"title\": \"Prevalence of Individual Behavior Problems\", \"xaxis\": {\"title\": \"prevalence (%)\"}, \"yaxis\": {\"title\": \"\", \"automargin\": true, \"tickangle\": 30, \"tickprefix\": \" \", \"ticksuffix\": \" \"}, \"width\": 700, \"height\": 500}, {\"showLink\": true, \"linkText\": \"Export to plot.ly\"})});</script>"
      ],
      "text/vnd.plotly.v1+html": [
       "<div id=\"fab350cd-94d0-4623-b196-4fb9b9104c1f\" style=\"height: 500px; width: 700px;\" class=\"plotly-graph-div\"></div><script type=\"text/javascript\">require([\"plotly\"], function(Plotly) { window.PLOTLYENV=window.PLOTLYENV || {};window.PLOTLYENV.BASE_URL=\"https://plot.ly\";Plotly.newPlot(\"fab350cd-94d0-4623-b196-4fb9b9104c1f\", [{\"type\": \"bar\", \"x\": [8.62893583100837, 8.808290155440414, 9.744918294141092, 10.063770426464727, 10.263053009166999, 12.235950577919489, 12.73415703467517, 14.308489438023116, 15.105619768832204, 23.096851335193307, 24.69111199681148, 36.14986050219211], \"y\": [\"Mounting/Humping\", \"Running Away/Escaping\", \"Destructive Behavior\", \"Overactivity/Hyperactivity\", \"Rolling in Repulsive Material\", \"House Soiling\", \"Compulsion\", \"Consuming Feces\", \"Excessive Barking\", \"Jumping\", \"Aggression\", \"Fear/Anxiety\"], \"orientation\": \"h\"}], {\"title\": \"Prevalence of Individual Behavior Problems\", \"xaxis\": {\"title\": \"prevalence (%)\"}, \"yaxis\": {\"title\": \"\", \"automargin\": true, \"tickangle\": 30, \"tickprefix\": \" \", \"ticksuffix\": \" \"}, \"width\": 700, \"height\": 500}, {\"showLink\": true, \"linkText\": \"Export to plot.ly\"})});</script>"
      ]
     },
     "metadata": {},
     "output_type": "display_data"
    }
   ],
   "source": [
    "prevalences = prevalences.sort_values(ascending=True)\n",
    "data = [go.Bar(x=prevalences.values,\n",
    "               y=prevalences.index.values,\n",
    "               orientation='h')]\n",
    "layout = go.Layout(title='Prevalence of Individual Behavior Problems',\n",
    "                   xaxis=dict(title='prevalence (%)'),\n",
    "                   yaxis=dict(title='', automargin=True, tickangle=30, tickprefix=' ',\n",
    "                              ticksuffix=' '),\n",
    "                   width=700,\n",
    "                   height=500)\n",
    "fig = dict(data=data, layout=layout)\n",
    "py.iplot(fig)"
   ]
  },
  {
   "cell_type": "markdown",
   "metadata": {},
   "source": [
    "## 5 Behavior Problem Compositions"
   ]
  },
  {
   "cell_type": "markdown",
   "metadata": {},
   "source": [
    "### 5.1 Aggression:"
   ]
  },
  {
   "cell_type": "code",
   "execution_count": 15,
   "metadata": {},
   "outputs": [
    {
     "data": {
      "application/vnd.plotly.v1+json": {
       "data": [
        {
         "cells": {
          "align": [
           "left",
           "left",
           "left"
          ],
          "format": [
           null,
           "d",
           ".2f"
          ],
          "values": [
           [
            "Unfamiliar dogs on walks (on lead)",
            "Another dog in the home",
            "Stangers visiting the home",
            "Unfamiliar dogs on walks (off lead)",
            "Unfamiliar dogs visiting the home",
            "Stangers away from the home",
            "Familiar people in the home",
            "Animals other than dogs in the home",
            "Veterinarians",
            "Groomers",
            "Trainers"
           ],
           [
            674,
            447,
            391,
            371,
            371,
            325,
            296,
            172,
            159,
            55,
            34
           ],
           [
            13.431646074133122,
            8.907931446791551,
            7.791948983658828,
            7.393383818254284,
            7.393383818254284,
            6.476683937823833,
            5.898764447987246,
            3.427660422479075,
            3.1685930649661223,
            1.096054204862495,
            0.6775607811877242
           ]
          ]
         },
         "columnwidth": [
          200,
          100,
          100
         ],
         "header": {
          "align": [
           "left",
           "left",
           "left"
          ],
          "fill": {
           "color": "#B0C4DE"
          },
          "values": [
           "Aggression",
           "Number of Dogs",
           "Prevalence (%)"
          ]
         },
         "type": "table"
        }
       ],
       "layout": {
        "height": 350,
        "margin": {
         "b": 50,
         "l": 50,
         "pad": 4,
         "r": 50,
         "t": 50
        },
        "title": "Prevalence of Aggression",
        "width": 700
       }
      },
      "text/html": [
       "<div id=\"b38f484f-f02f-4e3b-8ed1-b470884619cc\" style=\"height: 350px; width: 700px;\" class=\"plotly-graph-div\"></div><script type=\"text/javascript\">require([\"plotly\"], function(Plotly) { window.PLOTLYENV=window.PLOTLYENV || {};window.PLOTLYENV.BASE_URL=\"https://plot.ly\";Plotly.newPlot(\"b38f484f-f02f-4e3b-8ed1-b470884619cc\", [{\"type\": \"table\", \"columnwidth\": [200, 100, 100], \"header\": {\"values\": [\"Aggression\", \"Number of Dogs\", \"Prevalence (%)\"], \"fill\": {\"color\": \"#B0C4DE\"}, \"align\": [\"left\", \"left\", \"left\"]}, \"cells\": {\"values\": [[\"Unfamiliar dogs on walks (on lead)\", \"Another dog in the home\", \"Stangers visiting the home\", \"Unfamiliar dogs on walks (off lead)\", \"Unfamiliar dogs visiting the home\", \"Stangers away from the home\", \"Familiar people in the home\", \"Animals other than dogs in the home\", \"Veterinarians\", \"Groomers\", \"Trainers\"], [674, 447, 391, 371, 371, 325, 296, 172, 159, 55, 34], [13.431646074133122, 8.907931446791551, 7.791948983658828, 7.393383818254284, 7.393383818254284, 6.476683937823833, 5.898764447987246, 3.427660422479075, 3.1685930649661223, 1.096054204862495, 0.6775607811877242]], \"align\": [\"left\", \"left\", \"left\"], \"format\": [null, \"d\", \".2f\"]}}], {\"title\": \"Prevalence of Aggression\", \"width\": 700, \"height\": 350, \"margin\": {\"l\": 50, \"r\": 50, \"b\": 50, \"t\": 50, \"pad\": 4}}, {\"showLink\": true, \"linkText\": \"Export to plot.ly\"})});</script>"
      ],
      "text/vnd.plotly.v1+html": [
       "<div id=\"b38f484f-f02f-4e3b-8ed1-b470884619cc\" style=\"height: 350px; width: 700px;\" class=\"plotly-graph-div\"></div><script type=\"text/javascript\">require([\"plotly\"], function(Plotly) { window.PLOTLYENV=window.PLOTLYENV || {};window.PLOTLYENV.BASE_URL=\"https://plot.ly\";Plotly.newPlot(\"b38f484f-f02f-4e3b-8ed1-b470884619cc\", [{\"type\": \"table\", \"columnwidth\": [200, 100, 100], \"header\": {\"values\": [\"Aggression\", \"Number of Dogs\", \"Prevalence (%)\"], \"fill\": {\"color\": \"#B0C4DE\"}, \"align\": [\"left\", \"left\", \"left\"]}, \"cells\": {\"values\": [[\"Unfamiliar dogs on walks (on lead)\", \"Another dog in the home\", \"Stangers visiting the home\", \"Unfamiliar dogs on walks (off lead)\", \"Unfamiliar dogs visiting the home\", \"Stangers away from the home\", \"Familiar people in the home\", \"Animals other than dogs in the home\", \"Veterinarians\", \"Groomers\", \"Trainers\"], [674, 447, 391, 371, 371, 325, 296, 172, 159, 55, 34], [13.431646074133122, 8.907931446791551, 7.791948983658828, 7.393383818254284, 7.393383818254284, 6.476683937823833, 5.898764447987246, 3.427660422479075, 3.1685930649661223, 1.096054204862495, 0.6775607811877242]], \"align\": [\"left\", \"left\", \"left\"], \"format\": [null, \"d\", \".2f\"]}}], {\"title\": \"Prevalence of Aggression\", \"width\": 700, \"height\": 350, \"margin\": {\"l\": 50, \"r\": 50, \"b\": 50, \"t\": 50, \"pad\": 4}}, {\"showLink\": true, \"linkText\": \"Export to plot.ly\"})});</script>"
      ]
     },
     "metadata": {},
     "output_type": "display_data"
    }
   ],
   "source": [
    "# Create the necessary dataframe.\n",
    "fields = ', '.join(FIELDS[CATEGORY[0]])\n",
    "labels = list(LABELS[CATEGORY[0]].values())\n",
    "df = createNumericDataFrame(DOG_TABLE, fields, labels, filtered=True)\n",
    "\n",
    "# Get individual behavior problem counts and display as a table.\n",
    "sums = df.sum()\n",
    "sums = sums.sort_values(ascending=False)\n",
    "\n",
    "# Calculate the prevalence of each behavior problem.\n",
    "prevalences = sums.apply(prevalence_cal)\n",
    "\n",
    "# Get individual behavior problem counts and display as a table.\n",
    "data = [go.Table(columnwidth = [200, 100, 100],\n",
    "                 header=dict(values=[CATEGORY[0], 'Number of Dogs', 'Prevalence (%)'],\n",
    "                             fill = dict(color='#B0C4DE'),\n",
    "                             align = ['left'] * 3),\n",
    "                 cells=dict(values=[sums.index.values, sums.values, prevalences.values],\n",
    "                            align = ['left'] * 3,\n",
    "                            format = [None, 'd', '.2f']))]\n",
    "layout = go.Layout(title='Prevalence of {}'.format(CATEGORY[0]),\n",
    "                   width=700,\n",
    "                   height=350,\n",
    "                   margin=go.Margin(l=50, r=50, b=50, t=50, pad=4))\n",
    "fig = dict(data=data, layout=layout)\n",
    "py.iplot(fig)"
   ]
  },
  {
   "cell_type": "code",
   "execution_count": 16,
   "metadata": {},
   "outputs": [
    {
     "data": {
      "application/vnd.plotly.v1+json": {
       "data": [
        {
         "orientation": "h",
         "type": "bar",
         "x": [
          0.6775607811877242,
          1.096054204862495,
          3.1685930649661223,
          3.427660422479075,
          5.898764447987246,
          6.476683937823833,
          7.393383818254284,
          7.393383818254284,
          7.791948983658828,
          8.907931446791551,
          13.431646074133122
         ],
         "y": [
          "Trainers",
          "Groomers",
          "Veterinarians",
          "Animals other than dogs in the home",
          "Familiar people in the home",
          "Stangers away from the home",
          "Unfamiliar dogs on walks (off lead)",
          "Unfamiliar dogs visiting the home",
          "Stangers visiting the home",
          "Another dog in the home",
          "Unfamiliar dogs on walks (on lead)"
         ]
        }
       ],
       "layout": {
        "height": 500,
        "title": "Prevalence of Aggression",
        "width": 700,
        "xaxis": {
         "title": "prevalence (%)"
        },
        "yaxis": {
         "automargin": true,
         "tickangle": 30,
         "tickprefix": " ",
         "ticksuffix": " ",
         "title": ""
        }
       }
      },
      "text/html": [
       "<div id=\"ee58b576-f2ea-402b-94e9-bf4bc1a21056\" style=\"height: 500px; width: 700px;\" class=\"plotly-graph-div\"></div><script type=\"text/javascript\">require([\"plotly\"], function(Plotly) { window.PLOTLYENV=window.PLOTLYENV || {};window.PLOTLYENV.BASE_URL=\"https://plot.ly\";Plotly.newPlot(\"ee58b576-f2ea-402b-94e9-bf4bc1a21056\", [{\"type\": \"bar\", \"x\": [0.6775607811877242, 1.096054204862495, 3.1685930649661223, 3.427660422479075, 5.898764447987246, 6.476683937823833, 7.393383818254284, 7.393383818254284, 7.791948983658828, 8.907931446791551, 13.431646074133122], \"y\": [\"Trainers\", \"Groomers\", \"Veterinarians\", \"Animals other than dogs in the home\", \"Familiar people in the home\", \"Stangers away from the home\", \"Unfamiliar dogs on walks (off lead)\", \"Unfamiliar dogs visiting the home\", \"Stangers visiting the home\", \"Another dog in the home\", \"Unfamiliar dogs on walks (on lead)\"], \"orientation\": \"h\"}], {\"title\": \"Prevalence of Aggression\", \"xaxis\": {\"title\": \"prevalence (%)\"}, \"yaxis\": {\"title\": \"\", \"automargin\": true, \"tickangle\": 30, \"tickprefix\": \" \", \"ticksuffix\": \" \"}, \"width\": 700, \"height\": 500}, {\"showLink\": true, \"linkText\": \"Export to plot.ly\"})});</script>"
      ],
      "text/vnd.plotly.v1+html": [
       "<div id=\"ee58b576-f2ea-402b-94e9-bf4bc1a21056\" style=\"height: 500px; width: 700px;\" class=\"plotly-graph-div\"></div><script type=\"text/javascript\">require([\"plotly\"], function(Plotly) { window.PLOTLYENV=window.PLOTLYENV || {};window.PLOTLYENV.BASE_URL=\"https://plot.ly\";Plotly.newPlot(\"ee58b576-f2ea-402b-94e9-bf4bc1a21056\", [{\"type\": \"bar\", \"x\": [0.6775607811877242, 1.096054204862495, 3.1685930649661223, 3.427660422479075, 5.898764447987246, 6.476683937823833, 7.393383818254284, 7.393383818254284, 7.791948983658828, 8.907931446791551, 13.431646074133122], \"y\": [\"Trainers\", \"Groomers\", \"Veterinarians\", \"Animals other than dogs in the home\", \"Familiar people in the home\", \"Stangers away from the home\", \"Unfamiliar dogs on walks (off lead)\", \"Unfamiliar dogs visiting the home\", \"Stangers visiting the home\", \"Another dog in the home\", \"Unfamiliar dogs on walks (on lead)\"], \"orientation\": \"h\"}], {\"title\": \"Prevalence of Aggression\", \"xaxis\": {\"title\": \"prevalence (%)\"}, \"yaxis\": {\"title\": \"\", \"automargin\": true, \"tickangle\": 30, \"tickprefix\": \" \", \"ticksuffix\": \" \"}, \"width\": 700, \"height\": 500}, {\"showLink\": true, \"linkText\": \"Export to plot.ly\"})});</script>"
      ]
     },
     "metadata": {},
     "output_type": "display_data"
    }
   ],
   "source": [
    "# Generate a bar graph.\n",
    "prevalences = prevalences.sort_values(ascending=True)\n",
    "data = [go.Bar(x=prevalences.values,\n",
    "               y=prevalences.index.values,\n",
    "               orientation='h')]\n",
    "layout = go.Layout(title='Prevalence of {}'.format(CATEGORY[0]),\n",
    "                   xaxis=dict(title='prevalence (%)'),\n",
    "                   yaxis=dict(title='', automargin=True, tickangle=30, tickprefix=' ',\n",
    "                              ticksuffix=' '),\n",
    "                   width=700,\n",
    "                   height=500\n",
    "                  )\n",
    "fig = dict(data=data, layout=layout)\n",
    "py.iplot(fig)"
   ]
  },
  {
   "cell_type": "markdown",
   "metadata": {},
   "source": [
    "### 5.2 Fear/Anxiety:"
   ]
  },
  {
   "cell_type": "code",
   "execution_count": 17,
   "metadata": {},
   "outputs": [
    {
     "data": {
      "application/vnd.plotly.v1+json": {
       "data": [
        {
         "cells": {
          "align": [
           "left",
           "left",
           "left"
          ],
          "format": [
           null,
           "d",
           ".2f"
          ],
          "values": [
           [
            "Crowd phobia",
            "Situational anxiety",
            "Noise phobia",
            "Veterinarian phobia",
            "Thunderstorm phobia",
            "Separation anxiety",
            "Travel anxiety",
            "Phobia of other dogs",
            "Generalized anxiety",
            "Other",
            "PTSD"
           ],
           [
            784,
            741,
            716,
            684,
            573,
            550,
            438,
            428,
            359,
            231,
            176
           ],
           [
            15.62375448385811,
            14.766839378238341,
            14.268632921482663,
            13.630928656835392,
            11.418891988840176,
            10.960542048624951,
            8.728577122359505,
            8.529294539657235,
            7.154244719011558,
            4.603427660422479,
            3.507373455559984
           ]
          ]
         },
         "columnwidth": [
          200,
          100,
          100
         ],
         "header": {
          "align": [
           "left",
           "left",
           "left"
          ],
          "fill": {
           "color": "#B0C4DE"
          },
          "values": [
           "Fear/Anxiety",
           "Number of Dogs",
           "Prevalence (%)"
          ]
         },
         "type": "table"
        }
       ],
       "layout": {
        "height": 350,
        "margin": {
         "b": 50,
         "l": 50,
         "pad": 4,
         "r": 50,
         "t": 50
        },
        "title": "Prevalence of Fear/Anxiety",
        "width": 700
       }
      },
      "text/html": [
       "<div id=\"2617b661-bac0-47fa-a771-697e74714964\" style=\"height: 350px; width: 700px;\" class=\"plotly-graph-div\"></div><script type=\"text/javascript\">require([\"plotly\"], function(Plotly) { window.PLOTLYENV=window.PLOTLYENV || {};window.PLOTLYENV.BASE_URL=\"https://plot.ly\";Plotly.newPlot(\"2617b661-bac0-47fa-a771-697e74714964\", [{\"type\": \"table\", \"columnwidth\": [200, 100, 100], \"header\": {\"values\": [\"Fear/Anxiety\", \"Number of Dogs\", \"Prevalence (%)\"], \"fill\": {\"color\": \"#B0C4DE\"}, \"align\": [\"left\", \"left\", \"left\"]}, \"cells\": {\"values\": [[\"Crowd phobia\", \"Situational anxiety\", \"Noise phobia\", \"Veterinarian phobia\", \"Thunderstorm phobia\", \"Separation anxiety\", \"Travel anxiety\", \"Phobia of other dogs\", \"Generalized anxiety\", \"Other\", \"PTSD\"], [784, 741, 716, 684, 573, 550, 438, 428, 359, 231, 176], [15.62375448385811, 14.766839378238341, 14.268632921482663, 13.630928656835392, 11.418891988840176, 10.960542048624951, 8.728577122359505, 8.529294539657235, 7.154244719011558, 4.603427660422479, 3.507373455559984]], \"align\": [\"left\", \"left\", \"left\"], \"format\": [null, \"d\", \".2f\"]}}], {\"title\": \"Prevalence of Fear/Anxiety\", \"width\": 700, \"height\": 350, \"margin\": {\"l\": 50, \"r\": 50, \"b\": 50, \"t\": 50, \"pad\": 4}}, {\"showLink\": true, \"linkText\": \"Export to plot.ly\"})});</script>"
      ],
      "text/vnd.plotly.v1+html": [
       "<div id=\"2617b661-bac0-47fa-a771-697e74714964\" style=\"height: 350px; width: 700px;\" class=\"plotly-graph-div\"></div><script type=\"text/javascript\">require([\"plotly\"], function(Plotly) { window.PLOTLYENV=window.PLOTLYENV || {};window.PLOTLYENV.BASE_URL=\"https://plot.ly\";Plotly.newPlot(\"2617b661-bac0-47fa-a771-697e74714964\", [{\"type\": \"table\", \"columnwidth\": [200, 100, 100], \"header\": {\"values\": [\"Fear/Anxiety\", \"Number of Dogs\", \"Prevalence (%)\"], \"fill\": {\"color\": \"#B0C4DE\"}, \"align\": [\"left\", \"left\", \"left\"]}, \"cells\": {\"values\": [[\"Crowd phobia\", \"Situational anxiety\", \"Noise phobia\", \"Veterinarian phobia\", \"Thunderstorm phobia\", \"Separation anxiety\", \"Travel anxiety\", \"Phobia of other dogs\", \"Generalized anxiety\", \"Other\", \"PTSD\"], [784, 741, 716, 684, 573, 550, 438, 428, 359, 231, 176], [15.62375448385811, 14.766839378238341, 14.268632921482663, 13.630928656835392, 11.418891988840176, 10.960542048624951, 8.728577122359505, 8.529294539657235, 7.154244719011558, 4.603427660422479, 3.507373455559984]], \"align\": [\"left\", \"left\", \"left\"], \"format\": [null, \"d\", \".2f\"]}}], {\"title\": \"Prevalence of Fear/Anxiety\", \"width\": 700, \"height\": 350, \"margin\": {\"l\": 50, \"r\": 50, \"b\": 50, \"t\": 50, \"pad\": 4}}, {\"showLink\": true, \"linkText\": \"Export to plot.ly\"})});</script>"
      ]
     },
     "metadata": {},
     "output_type": "display_data"
    }
   ],
   "source": [
    "# Create the necessary dataframe.\n",
    "fields = ', '.join(FIELDS[CATEGORY[1]])\n",
    "labels = list(LABELS[CATEGORY[1]].values())\n",
    "df = createNumericDataFrame(DOG_TABLE, fields, labels, filtered=True)\n",
    "\n",
    "# Get individual behavior problem counts and display as a table.\n",
    "sums = df.sum()\n",
    "sums = sums.sort_values(ascending=False)\n",
    "\n",
    "# Calculate the prevalence of each behavior problem.\n",
    "prevalences = sums.apply(prevalence_cal)\n",
    "\n",
    "# Get individual behavior problem counts and display as a table.\n",
    "data = [go.Table(columnwidth = [200, 100, 100],\n",
    "                 header=dict(values=[CATEGORY[1], 'Number of Dogs', 'Prevalence (%)'],\n",
    "                             fill = dict(color='#B0C4DE'),\n",
    "                             align = ['left'] * 3),\n",
    "                 cells=dict(values=[sums.index.values, sums.values, prevalences.values],\n",
    "                            align = ['left'] * 3,\n",
    "                            format = [None, 'd', '.2f']))]\n",
    "layout = go.Layout(title='Prevalence of {}'.format(CATEGORY[1]),\n",
    "                   width=700,\n",
    "                   height=350,\n",
    "                   margin=go.Margin(l=50, r=50, b=50, t=50, pad=4))\n",
    "fig = dict(data=data, layout=layout)\n",
    "py.iplot(fig)"
   ]
  },
  {
   "cell_type": "code",
   "execution_count": 18,
   "metadata": {},
   "outputs": [
    {
     "data": {
      "application/vnd.plotly.v1+json": {
       "data": [
        {
         "orientation": "h",
         "type": "bar",
         "x": [
          3.507373455559984,
          4.603427660422479,
          7.154244719011558,
          8.529294539657235,
          8.728577122359505,
          10.960542048624951,
          11.418891988840176,
          13.630928656835392,
          14.268632921482663,
          14.766839378238341,
          15.62375448385811
         ],
         "y": [
          "PTSD",
          "Other",
          "Generalized anxiety",
          "Phobia of other dogs",
          "Travel anxiety",
          "Separation anxiety",
          "Thunderstorm phobia",
          "Veterinarian phobia",
          "Noise phobia",
          "Situational anxiety",
          "Crowd phobia"
         ]
        }
       ],
       "layout": {
        "height": 500,
        "title": "Prevalence of Fear/Anxiety",
        "width": 700,
        "xaxis": {
         "title": "prevalence (%)"
        },
        "yaxis": {
         "automargin": true,
         "tickangle": 30,
         "tickprefix": " ",
         "ticksuffix": " ",
         "title": ""
        }
       }
      },
      "text/html": [
       "<div id=\"592e3a13-9f8f-4027-99ca-692bd7be9e26\" style=\"height: 500px; width: 700px;\" class=\"plotly-graph-div\"></div><script type=\"text/javascript\">require([\"plotly\"], function(Plotly) { window.PLOTLYENV=window.PLOTLYENV || {};window.PLOTLYENV.BASE_URL=\"https://plot.ly\";Plotly.newPlot(\"592e3a13-9f8f-4027-99ca-692bd7be9e26\", [{\"type\": \"bar\", \"x\": [3.507373455559984, 4.603427660422479, 7.154244719011558, 8.529294539657235, 8.728577122359505, 10.960542048624951, 11.418891988840176, 13.630928656835392, 14.268632921482663, 14.766839378238341, 15.62375448385811], \"y\": [\"PTSD\", \"Other\", \"Generalized anxiety\", \"Phobia of other dogs\", \"Travel anxiety\", \"Separation anxiety\", \"Thunderstorm phobia\", \"Veterinarian phobia\", \"Noise phobia\", \"Situational anxiety\", \"Crowd phobia\"], \"orientation\": \"h\"}], {\"title\": \"Prevalence of Fear/Anxiety\", \"xaxis\": {\"title\": \"prevalence (%)\"}, \"yaxis\": {\"title\": \"\", \"automargin\": true, \"tickangle\": 30, \"tickprefix\": \" \", \"ticksuffix\": \" \"}, \"width\": 700, \"height\": 500}, {\"showLink\": true, \"linkText\": \"Export to plot.ly\"})});</script>"
      ],
      "text/vnd.plotly.v1+html": [
       "<div id=\"592e3a13-9f8f-4027-99ca-692bd7be9e26\" style=\"height: 500px; width: 700px;\" class=\"plotly-graph-div\"></div><script type=\"text/javascript\">require([\"plotly\"], function(Plotly) { window.PLOTLYENV=window.PLOTLYENV || {};window.PLOTLYENV.BASE_URL=\"https://plot.ly\";Plotly.newPlot(\"592e3a13-9f8f-4027-99ca-692bd7be9e26\", [{\"type\": \"bar\", \"x\": [3.507373455559984, 4.603427660422479, 7.154244719011558, 8.529294539657235, 8.728577122359505, 10.960542048624951, 11.418891988840176, 13.630928656835392, 14.268632921482663, 14.766839378238341, 15.62375448385811], \"y\": [\"PTSD\", \"Other\", \"Generalized anxiety\", \"Phobia of other dogs\", \"Travel anxiety\", \"Separation anxiety\", \"Thunderstorm phobia\", \"Veterinarian phobia\", \"Noise phobia\", \"Situational anxiety\", \"Crowd phobia\"], \"orientation\": \"h\"}], {\"title\": \"Prevalence of Fear/Anxiety\", \"xaxis\": {\"title\": \"prevalence (%)\"}, \"yaxis\": {\"title\": \"\", \"automargin\": true, \"tickangle\": 30, \"tickprefix\": \" \", \"ticksuffix\": \" \"}, \"width\": 700, \"height\": 500}, {\"showLink\": true, \"linkText\": \"Export to plot.ly\"})});</script>"
      ]
     },
     "metadata": {},
     "output_type": "display_data"
    }
   ],
   "source": [
    "# Generate a bar graph.\n",
    "prevalences = prevalences.sort_values(ascending=True)\n",
    "data = [go.Bar(x=prevalences.values,\n",
    "               y=prevalences.index.values,\n",
    "               orientation='h')]\n",
    "layout = go.Layout(title='Prevalence of {}'.format(CATEGORY[1]),\n",
    "                   xaxis=dict(title='prevalence (%)'),\n",
    "                   yaxis=dict(title='', automargin=True, tickangle=30, tickprefix=' ',\n",
    "                              ticksuffix=' '),\n",
    "                   width=700,\n",
    "                   height=500)\n",
    "fig = dict(data=data, layout=layout)\n",
    "py.iplot(fig)"
   ]
  },
  {
   "cell_type": "markdown",
   "metadata": {},
   "source": [
    "### 5.3 Compulsion:"
   ]
  },
  {
   "cell_type": "code",
   "execution_count": 19,
   "metadata": {},
   "outputs": [
    {
     "data": {
      "application/vnd.plotly.v1+json": {
       "data": [
        {
         "cells": {
          "align": [
           "left",
           "left",
           "left"
          ],
          "format": [
           null,
           "d",
           ".2f"
          ],
          "values": [
           [
            "Licking of wrist/hock",
            "Tail chasing",
            "Digging in yard",
            "Other",
            "Tennis ball fetish",
            "Spinning",
            "Nail biting",
            "Shadow/light chasing",
            "Sucking flank region/blankets",
            "Running in geometric patterns",
            "Collecting/arranging objects",
            "Stone/rock chewing",
            "Fly snapping"
           ],
           [
            335,
            126,
            106,
            97,
            87,
            82,
            73,
            65,
            58,
            43,
            39,
            32,
            25
           ],
           [
            6.675966520526106,
            2.510960542048625,
            2.1123953766440815,
            1.9330410522120367,
            1.733758469509765,
            1.634117178158629,
            1.4547628537265842,
            1.2953367875647668,
            1.1558389796731765,
            0.8569151056197688,
            0.7772020725388601,
            0.6377042646472698,
            0.49820645675567954
           ]
          ]
         },
         "columnwidth": [
          200,
          100,
          100
         ],
         "header": {
          "align": [
           "left",
           "left",
           "left"
          ],
          "fill": {
           "color": "#B0C4DE"
          },
          "values": [
           "Compulsion",
           "Number of Dogs",
           "Prevalence (%)"
          ]
         },
         "type": "table"
        }
       ],
       "layout": {
        "height": 400,
        "margin": {
         "b": 50,
         "l": 50,
         "pad": 4,
         "r": 50,
         "t": 50
        },
        "title": "Prevalence of Compulsion",
        "width": 700
       }
      },
      "text/html": [
       "<div id=\"4b5c0a0b-d297-4605-bc48-7989373900fe\" style=\"height: 400px; width: 700px;\" class=\"plotly-graph-div\"></div><script type=\"text/javascript\">require([\"plotly\"], function(Plotly) { window.PLOTLYENV=window.PLOTLYENV || {};window.PLOTLYENV.BASE_URL=\"https://plot.ly\";Plotly.newPlot(\"4b5c0a0b-d297-4605-bc48-7989373900fe\", [{\"type\": \"table\", \"columnwidth\": [200, 100, 100], \"header\": {\"values\": [\"Compulsion\", \"Number of Dogs\", \"Prevalence (%)\"], \"fill\": {\"color\": \"#B0C4DE\"}, \"align\": [\"left\", \"left\", \"left\"]}, \"cells\": {\"values\": [[\"Licking of wrist/hock\", \"Tail chasing\", \"Digging in yard\", \"Other\", \"Tennis ball fetish\", \"Spinning\", \"Nail biting\", \"Shadow/light chasing\", \"Sucking flank region/blankets\", \"Running in geometric patterns\", \"Collecting/arranging objects\", \"Stone/rock chewing\", \"Fly snapping\"], [335, 126, 106, 97, 87, 82, 73, 65, 58, 43, 39, 32, 25], [6.675966520526106, 2.510960542048625, 2.1123953766440815, 1.9330410522120367, 1.733758469509765, 1.634117178158629, 1.4547628537265842, 1.2953367875647668, 1.1558389796731765, 0.8569151056197688, 0.7772020725388601, 0.6377042646472698, 0.49820645675567954]], \"align\": [\"left\", \"left\", \"left\"], \"format\": [null, \"d\", \".2f\"]}}], {\"title\": \"Prevalence of Compulsion\", \"width\": 700, \"height\": 400, \"margin\": {\"l\": 50, \"r\": 50, \"b\": 50, \"t\": 50, \"pad\": 4}}, {\"showLink\": true, \"linkText\": \"Export to plot.ly\"})});</script>"
      ],
      "text/vnd.plotly.v1+html": [
       "<div id=\"4b5c0a0b-d297-4605-bc48-7989373900fe\" style=\"height: 400px; width: 700px;\" class=\"plotly-graph-div\"></div><script type=\"text/javascript\">require([\"plotly\"], function(Plotly) { window.PLOTLYENV=window.PLOTLYENV || {};window.PLOTLYENV.BASE_URL=\"https://plot.ly\";Plotly.newPlot(\"4b5c0a0b-d297-4605-bc48-7989373900fe\", [{\"type\": \"table\", \"columnwidth\": [200, 100, 100], \"header\": {\"values\": [\"Compulsion\", \"Number of Dogs\", \"Prevalence (%)\"], \"fill\": {\"color\": \"#B0C4DE\"}, \"align\": [\"left\", \"left\", \"left\"]}, \"cells\": {\"values\": [[\"Licking of wrist/hock\", \"Tail chasing\", \"Digging in yard\", \"Other\", \"Tennis ball fetish\", \"Spinning\", \"Nail biting\", \"Shadow/light chasing\", \"Sucking flank region/blankets\", \"Running in geometric patterns\", \"Collecting/arranging objects\", \"Stone/rock chewing\", \"Fly snapping\"], [335, 126, 106, 97, 87, 82, 73, 65, 58, 43, 39, 32, 25], [6.675966520526106, 2.510960542048625, 2.1123953766440815, 1.9330410522120367, 1.733758469509765, 1.634117178158629, 1.4547628537265842, 1.2953367875647668, 1.1558389796731765, 0.8569151056197688, 0.7772020725388601, 0.6377042646472698, 0.49820645675567954]], \"align\": [\"left\", \"left\", \"left\"], \"format\": [null, \"d\", \".2f\"]}}], {\"title\": \"Prevalence of Compulsion\", \"width\": 700, \"height\": 400, \"margin\": {\"l\": 50, \"r\": 50, \"b\": 50, \"t\": 50, \"pad\": 4}}, {\"showLink\": true, \"linkText\": \"Export to plot.ly\"})});</script>"
      ]
     },
     "metadata": {},
     "output_type": "display_data"
    }
   ],
   "source": [
    "# Create the necessary dataframe.\n",
    "fields = ', '.join(FIELDS[CATEGORY[2]])\n",
    "labels = list(LABELS[CATEGORY[2]].values())\n",
    "df = createNumericDataFrame(DOG_TABLE, fields, labels, filtered=True)\n",
    "\n",
    "# Get individual behavior problem counts and display as a table.\n",
    "sums = df.sum()\n",
    "sums = sums.sort_values(ascending=False)\n",
    "\n",
    "# Calculate the prevalence of each behavior problem.\n",
    "prevalences = sums.apply(prevalence_cal)\n",
    "\n",
    "# Get individual behavior problem counts and display as a table.\n",
    "data = [go.Table(columnwidth = [200, 100, 100],\n",
    "                 header=dict(values=[CATEGORY[2], 'Number of Dogs', 'Prevalence (%)'],\n",
    "                             fill = dict(color='#B0C4DE'),\n",
    "                             align = ['left'] * 3),\n",
    "                 cells=dict(values=[sums.index.values, sums.values, prevalences.values],\n",
    "                            align = ['left'] * 3,\n",
    "                            format = [None, 'd', '.2f']))]\n",
    "layout = go.Layout(title='Prevalence of {}'.format(CATEGORY[2]),\n",
    "                   width=700,\n",
    "                   height=400,\n",
    "                   margin=go.Margin(l=50, r=50, b=50, t=50, pad=4))\n",
    "fig = dict(data=data, layout=layout)\n",
    "py.iplot(fig)"
   ]
  },
  {
   "cell_type": "code",
   "execution_count": 20,
   "metadata": {},
   "outputs": [
    {
     "data": {
      "application/vnd.plotly.v1+json": {
       "data": [
        {
         "orientation": "h",
         "type": "bar",
         "x": [
          0.49820645675567954,
          0.6377042646472698,
          0.7772020725388601,
          0.8569151056197688,
          1.1558389796731765,
          1.2953367875647668,
          1.4547628537265842,
          1.634117178158629,
          1.733758469509765,
          1.9330410522120367,
          2.1123953766440815,
          2.510960542048625,
          6.675966520526106
         ],
         "y": [
          "Fly snapping",
          "Stone/rock chewing",
          "Collecting/arranging objects",
          "Running in geometric patterns",
          "Sucking flank region/blankets",
          "Shadow/light chasing",
          "Nail biting",
          "Spinning",
          "Tennis ball fetish",
          "Other",
          "Digging in yard",
          "Tail chasing",
          "Licking of wrist/hock"
         ]
        }
       ],
       "layout": {
        "height": 500,
        "title": "Prevalence of Compulsion",
        "width": 700,
        "xaxis": {
         "title": "prevalence (%)"
        },
        "yaxis": {
         "automargin": true,
         "tickangle": 30,
         "tickprefix": " ",
         "ticksuffix": " ",
         "title": ""
        }
       }
      },
      "text/html": [
       "<div id=\"243590f7-1923-4d2c-b0ab-52af02b14a08\" style=\"height: 500px; width: 700px;\" class=\"plotly-graph-div\"></div><script type=\"text/javascript\">require([\"plotly\"], function(Plotly) { window.PLOTLYENV=window.PLOTLYENV || {};window.PLOTLYENV.BASE_URL=\"https://plot.ly\";Plotly.newPlot(\"243590f7-1923-4d2c-b0ab-52af02b14a08\", [{\"type\": \"bar\", \"x\": [0.49820645675567954, 0.6377042646472698, 0.7772020725388601, 0.8569151056197688, 1.1558389796731765, 1.2953367875647668, 1.4547628537265842, 1.634117178158629, 1.733758469509765, 1.9330410522120367, 2.1123953766440815, 2.510960542048625, 6.675966520526106], \"y\": [\"Fly snapping\", \"Stone/rock chewing\", \"Collecting/arranging objects\", \"Running in geometric patterns\", \"Sucking flank region/blankets\", \"Shadow/light chasing\", \"Nail biting\", \"Spinning\", \"Tennis ball fetish\", \"Other\", \"Digging in yard\", \"Tail chasing\", \"Licking of wrist/hock\"], \"orientation\": \"h\"}], {\"title\": \"Prevalence of Compulsion\", \"xaxis\": {\"title\": \"prevalence (%)\"}, \"yaxis\": {\"title\": \"\", \"automargin\": true, \"tickangle\": 30, \"tickprefix\": \" \", \"ticksuffix\": \" \"}, \"width\": 700, \"height\": 500}, {\"showLink\": true, \"linkText\": \"Export to plot.ly\"})});</script>"
      ],
      "text/vnd.plotly.v1+html": [
       "<div id=\"243590f7-1923-4d2c-b0ab-52af02b14a08\" style=\"height: 500px; width: 700px;\" class=\"plotly-graph-div\"></div><script type=\"text/javascript\">require([\"plotly\"], function(Plotly) { window.PLOTLYENV=window.PLOTLYENV || {};window.PLOTLYENV.BASE_URL=\"https://plot.ly\";Plotly.newPlot(\"243590f7-1923-4d2c-b0ab-52af02b14a08\", [{\"type\": \"bar\", \"x\": [0.49820645675567954, 0.6377042646472698, 0.7772020725388601, 0.8569151056197688, 1.1558389796731765, 1.2953367875647668, 1.4547628537265842, 1.634117178158629, 1.733758469509765, 1.9330410522120367, 2.1123953766440815, 2.510960542048625, 6.675966520526106], \"y\": [\"Fly snapping\", \"Stone/rock chewing\", \"Collecting/arranging objects\", \"Running in geometric patterns\", \"Sucking flank region/blankets\", \"Shadow/light chasing\", \"Nail biting\", \"Spinning\", \"Tennis ball fetish\", \"Other\", \"Digging in yard\", \"Tail chasing\", \"Licking of wrist/hock\"], \"orientation\": \"h\"}], {\"title\": \"Prevalence of Compulsion\", \"xaxis\": {\"title\": \"prevalence (%)\"}, \"yaxis\": {\"title\": \"\", \"automargin\": true, \"tickangle\": 30, \"tickprefix\": \" \", \"ticksuffix\": \" \"}, \"width\": 700, \"height\": 500}, {\"showLink\": true, \"linkText\": \"Export to plot.ly\"})});</script>"
      ]
     },
     "metadata": {},
     "output_type": "display_data"
    }
   ],
   "source": [
    "# Generate a bar graph.\n",
    "prevalences = prevalences.sort_values(ascending=True)\n",
    "data = [go.Bar(x=prevalences.values,\n",
    "               y=prevalences.index.values,\n",
    "               orientation='h')]\n",
    "layout = go.Layout(title='Prevalence of {}'.format(CATEGORY[2]),\n",
    "                   xaxis=dict(title='prevalence (%)'),\n",
    "                   yaxis=dict(title='', automargin=True, tickangle=30, tickprefix=' ',\n",
    "                              ticksuffix=' '),\n",
    "                   width=700,\n",
    "                   height=500)\n",
    "fig = dict(data=data, layout=layout)\n",
    "py.iplot(fig)"
   ]
  },
  {
   "cell_type": "markdown",
   "metadata": {},
   "source": [
    "### 5.4 House Soiling:"
   ]
  },
  {
   "cell_type": "code",
   "execution_count": 21,
   "metadata": {},
   "outputs": [
    {
     "data": {
      "application/vnd.plotly.v1+json": {
       "data": [
        {
         "cells": {
          "align": [
           "left",
           "left",
           "left"
          ],
          "format": [
           null,
           "d",
           ".2f"
          ],
          "values": [
           [
            "Owner away",
            "Feces",
            "Owner present",
            "Urine",
            "Specific locations",
            "Anywhere",
            "Excited/overwhelmed",
            "Urine and feces"
           ],
           [
            451,
            451,
            420,
            420,
            344,
            292,
            127,
            127
           ],
           [
            8.987644479872458,
            8.987644479872458,
            8.369868473495416,
            8.369868473495416,
            6.85532084495815,
            5.819051414906337,
            2.530888800318852,
            2.530888800318852
           ]
          ]
         },
         "columnwidth": [
          200,
          100,
          100
         ],
         "header": {
          "align": [
           "left",
           "left",
           "left"
          ],
          "fill": {
           "color": "#B0C4DE"
          },
          "values": [
           "House Soiling",
           "Number of Dogs",
           "Prevalence (%)"
          ]
         },
         "type": "table"
        }
       ],
       "layout": {
        "height": 300,
        "margin": {
         "b": 50,
         "l": 50,
         "pad": 4,
         "r": 50,
         "t": 50
        },
        "title": "Prevalence of House Soiling",
        "width": 700
       }
      },
      "text/html": [
       "<div id=\"01ad334b-0ace-4289-a8db-c7e2675af269\" style=\"height: 300px; width: 700px;\" class=\"plotly-graph-div\"></div><script type=\"text/javascript\">require([\"plotly\"], function(Plotly) { window.PLOTLYENV=window.PLOTLYENV || {};window.PLOTLYENV.BASE_URL=\"https://plot.ly\";Plotly.newPlot(\"01ad334b-0ace-4289-a8db-c7e2675af269\", [{\"type\": \"table\", \"columnwidth\": [200, 100, 100], \"header\": {\"values\": [\"House Soiling\", \"Number of Dogs\", \"Prevalence (%)\"], \"fill\": {\"color\": \"#B0C4DE\"}, \"align\": [\"left\", \"left\", \"left\"]}, \"cells\": {\"values\": [[\"Owner away\", \"Feces\", \"Owner present\", \"Urine\", \"Specific locations\", \"Anywhere\", \"Excited/overwhelmed\", \"Urine and feces\"], [451, 451, 420, 420, 344, 292, 127, 127], [8.987644479872458, 8.987644479872458, 8.369868473495416, 8.369868473495416, 6.85532084495815, 5.819051414906337, 2.530888800318852, 2.530888800318852]], \"align\": [\"left\", \"left\", \"left\"], \"format\": [null, \"d\", \".2f\"]}}], {\"title\": \"Prevalence of House Soiling\", \"width\": 700, \"height\": 300, \"margin\": {\"l\": 50, \"r\": 50, \"b\": 50, \"t\": 50, \"pad\": 4}}, {\"showLink\": true, \"linkText\": \"Export to plot.ly\"})});</script>"
      ],
      "text/vnd.plotly.v1+html": [
       "<div id=\"01ad334b-0ace-4289-a8db-c7e2675af269\" style=\"height: 300px; width: 700px;\" class=\"plotly-graph-div\"></div><script type=\"text/javascript\">require([\"plotly\"], function(Plotly) { window.PLOTLYENV=window.PLOTLYENV || {};window.PLOTLYENV.BASE_URL=\"https://plot.ly\";Plotly.newPlot(\"01ad334b-0ace-4289-a8db-c7e2675af269\", [{\"type\": \"table\", \"columnwidth\": [200, 100, 100], \"header\": {\"values\": [\"House Soiling\", \"Number of Dogs\", \"Prevalence (%)\"], \"fill\": {\"color\": \"#B0C4DE\"}, \"align\": [\"left\", \"left\", \"left\"]}, \"cells\": {\"values\": [[\"Owner away\", \"Feces\", \"Owner present\", \"Urine\", \"Specific locations\", \"Anywhere\", \"Excited/overwhelmed\", \"Urine and feces\"], [451, 451, 420, 420, 344, 292, 127, 127], [8.987644479872458, 8.987644479872458, 8.369868473495416, 8.369868473495416, 6.85532084495815, 5.819051414906337, 2.530888800318852, 2.530888800318852]], \"align\": [\"left\", \"left\", \"left\"], \"format\": [null, \"d\", \".2f\"]}}], {\"title\": \"Prevalence of House Soiling\", \"width\": 700, \"height\": 300, \"margin\": {\"l\": 50, \"r\": 50, \"b\": 50, \"t\": 50, \"pad\": 4}}, {\"showLink\": true, \"linkText\": \"Export to plot.ly\"})});</script>"
      ]
     },
     "metadata": {},
     "output_type": "display_data"
    }
   ],
   "source": [
    "# Create the necessary dataframe.\n",
    "fields = ', '.join(FIELDS[CATEGORY[3]])\n",
    "labels = list(LABELS[CATEGORY[3]].values())\n",
    "df = createNumericDataFrame(DOG_TABLE, fields, labels, filtered=True)\n",
    "\n",
    "# Get individual behavior problem counts and display as a table.\n",
    "sums = df.sum()\n",
    "sums = sums.sort_values(ascending=False)\n",
    "\n",
    "# Calculate the prevalence of each behavior problem.\n",
    "prevalences = sums.apply(prevalence_cal)\n",
    "\n",
    "# Get individual behavior problem counts and display as a table.\n",
    "data = [go.Table(columnwidth = [200, 100, 100],\n",
    "                 header=dict(values=[CATEGORY[3], 'Number of Dogs', 'Prevalence (%)'],\n",
    "                             fill = dict(color='#B0C4DE'),\n",
    "                             align = ['left'] * 3),\n",
    "                 cells=dict(values=[sums.index.values, sums.values, prevalences.values],\n",
    "                            align = ['left'] * 3,\n",
    "                            format = [None, 'd', '.2f']))]\n",
    "layout = go.Layout(title='Prevalence of {}'.format(CATEGORY[3]),\n",
    "                   width=700,\n",
    "                   height=300,\n",
    "                   margin=go.Margin(l=50, r=50, b=50, t=50, pad=4))\n",
    "fig = dict(data=data, layout=layout)\n",
    "py.iplot(fig)"
   ]
  },
  {
   "cell_type": "markdown",
   "metadata": {},
   "source": [
    "### 5.5 Excessive Barking:"
   ]
  },
  {
   "cell_type": "code",
   "execution_count": 22,
   "metadata": {},
   "outputs": [
    {
     "data": {
      "application/vnd.plotly.v1+json": {
       "data": [
        {
         "cells": {
          "align": [
           "left",
           "left",
           "left"
          ],
          "format": [
           null,
           "d",
           ".2f"
          ],
          "values": [
           [
            "At tiggers (inside)",
            "At triggers (outside)",
            "Owner present",
            "To get attention",
            "Owner away",
            "During car rides"
           ],
           [
            498,
            497,
            402,
            304,
            214,
            98
           ],
           [
            9.924272618573136,
            9.90434436030291,
            8.011159824631326,
            6.0581905141490635,
            4.264647269828617,
            1.9529693104822639
           ]
          ]
         },
         "columnwidth": [
          200,
          100,
          100
         ],
         "header": {
          "align": [
           "left",
           "left",
           "left"
          ],
          "fill": {
           "color": "#B0C4DE"
          },
          "values": [
           "Excessive Barking",
           "Number of Dogs",
           "Prevalence (%)"
          ]
         },
         "type": "table"
        }
       ],
       "layout": {
        "height": 250,
        "margin": {
         "b": 50,
         "l": 50,
         "pad": 4,
         "r": 50,
         "t": 50
        },
        "title": "Prevalence of Excessive Barking",
        "width": 700
       }
      },
      "text/html": [
       "<div id=\"bf606a52-17b5-47e6-b93d-9bdbdf125596\" style=\"height: 250px; width: 700px;\" class=\"plotly-graph-div\"></div><script type=\"text/javascript\">require([\"plotly\"], function(Plotly) { window.PLOTLYENV=window.PLOTLYENV || {};window.PLOTLYENV.BASE_URL=\"https://plot.ly\";Plotly.newPlot(\"bf606a52-17b5-47e6-b93d-9bdbdf125596\", [{\"type\": \"table\", \"columnwidth\": [200, 100, 100], \"header\": {\"values\": [\"Excessive Barking\", \"Number of Dogs\", \"Prevalence (%)\"], \"fill\": {\"color\": \"#B0C4DE\"}, \"align\": [\"left\", \"left\", \"left\"]}, \"cells\": {\"values\": [[\"At tiggers (inside)\", \"At triggers (outside)\", \"Owner present\", \"To get attention\", \"Owner away\", \"During car rides\"], [498, 497, 402, 304, 214, 98], [9.924272618573136, 9.90434436030291, 8.011159824631326, 6.0581905141490635, 4.264647269828617, 1.9529693104822639]], \"align\": [\"left\", \"left\", \"left\"], \"format\": [null, \"d\", \".2f\"]}}], {\"title\": \"Prevalence of Excessive Barking\", \"width\": 700, \"height\": 250, \"margin\": {\"l\": 50, \"r\": 50, \"b\": 50, \"t\": 50, \"pad\": 4}}, {\"showLink\": true, \"linkText\": \"Export to plot.ly\"})});</script>"
      ],
      "text/vnd.plotly.v1+html": [
       "<div id=\"bf606a52-17b5-47e6-b93d-9bdbdf125596\" style=\"height: 250px; width: 700px;\" class=\"plotly-graph-div\"></div><script type=\"text/javascript\">require([\"plotly\"], function(Plotly) { window.PLOTLYENV=window.PLOTLYENV || {};window.PLOTLYENV.BASE_URL=\"https://plot.ly\";Plotly.newPlot(\"bf606a52-17b5-47e6-b93d-9bdbdf125596\", [{\"type\": \"table\", \"columnwidth\": [200, 100, 100], \"header\": {\"values\": [\"Excessive Barking\", \"Number of Dogs\", \"Prevalence (%)\"], \"fill\": {\"color\": \"#B0C4DE\"}, \"align\": [\"left\", \"left\", \"left\"]}, \"cells\": {\"values\": [[\"At tiggers (inside)\", \"At triggers (outside)\", \"Owner present\", \"To get attention\", \"Owner away\", \"During car rides\"], [498, 497, 402, 304, 214, 98], [9.924272618573136, 9.90434436030291, 8.011159824631326, 6.0581905141490635, 4.264647269828617, 1.9529693104822639]], \"align\": [\"left\", \"left\", \"left\"], \"format\": [null, \"d\", \".2f\"]}}], {\"title\": \"Prevalence of Excessive Barking\", \"width\": 700, \"height\": 250, \"margin\": {\"l\": 50, \"r\": 50, \"b\": 50, \"t\": 50, \"pad\": 4}}, {\"showLink\": true, \"linkText\": \"Export to plot.ly\"})});</script>"
      ]
     },
     "metadata": {},
     "output_type": "display_data"
    }
   ],
   "source": [
    "# Create the necessary dataframe.\n",
    "fields = ', '.join(FIELDS[CATEGORY[4]])\n",
    "labels = list(LABELS[CATEGORY[4]].values())\n",
    "df = createNumericDataFrame(DOG_TABLE, fields, labels, filtered=True)\n",
    "\n",
    "# Get individual behavior problem counts and display as a table.\n",
    "sums = df.sum()\n",
    "sums = sums.sort_values(ascending=False)\n",
    "\n",
    "# Calculate the prevalence of each behavior problem.\n",
    "prevalences = sums.apply(prevalence_cal)\n",
    "\n",
    "# Get individual behavior problem counts and display as a table.\n",
    "data = [go.Table(columnwidth = [200, 100, 100],\n",
    "                 header=dict(values=[CATEGORY[4], 'Number of Dogs', 'Prevalence (%)'],\n",
    "                             fill = dict(color='#B0C4DE'),\n",
    "                             align = ['left'] * 3),\n",
    "                 cells=dict(values=[sums.index.values, sums.values, prevalences.values],\n",
    "                            align = ['left'] * 3,\n",
    "                            format = [None, 'd', '.2f']))]\n",
    "layout = go.Layout(title='Prevalence of {}'.format(CATEGORY[4]),\n",
    "                   width=700,\n",
    "                   height=250,\n",
    "                   margin=go.Margin(l=50, r=50, b=50, t=50, pad=4))\n",
    "fig = dict(data=data, layout=layout)\n",
    "py.iplot(fig)"
   ]
  },
  {
   "cell_type": "markdown",
   "metadata": {},
   "source": [
    "### 5.6 Jumping:"
   ]
  },
  {
   "cell_type": "code",
   "execution_count": 23,
   "metadata": {},
   "outputs": [
    {
     "data": {
      "application/vnd.plotly.v1+json": {
       "data": [
        {
         "cells": {
          "align": [
           "left",
           "left",
           "left"
          ],
          "format": [
           null,
           "d",
           ".2f"
          ],
          "values": [
           [
            "Family members",
            "Owner",
            "Strangers"
           ],
           [
            915,
            763,
            694
           ],
           [
            18.23435631725787,
            15.20526106018334,
            13.830211239537665
           ]
          ]
         },
         "columnwidth": [
          200,
          100,
          100
         ],
         "header": {
          "align": [
           "left",
           "left",
           "left"
          ],
          "fill": {
           "color": "#B0C4DE"
          },
          "values": [
           "Jumping",
           "Number of Dogs",
           "Prevalence (%)"
          ]
         },
         "type": "table"
        }
       ],
       "layout": {
        "height": 200,
        "margin": {
         "b": 50,
         "l": 50,
         "pad": 4,
         "r": 50,
         "t": 50
        },
        "title": "Prevalence of Jumping",
        "width": 700
       }
      },
      "text/html": [
       "<div id=\"22c76d07-534b-4c25-a578-dadcd68c2751\" style=\"height: 200px; width: 700px;\" class=\"plotly-graph-div\"></div><script type=\"text/javascript\">require([\"plotly\"], function(Plotly) { window.PLOTLYENV=window.PLOTLYENV || {};window.PLOTLYENV.BASE_URL=\"https://plot.ly\";Plotly.newPlot(\"22c76d07-534b-4c25-a578-dadcd68c2751\", [{\"type\": \"table\", \"columnwidth\": [200, 100, 100], \"header\": {\"values\": [\"Jumping\", \"Number of Dogs\", \"Prevalence (%)\"], \"fill\": {\"color\": \"#B0C4DE\"}, \"align\": [\"left\", \"left\", \"left\"]}, \"cells\": {\"values\": [[\"Family members\", \"Owner\", \"Strangers\"], [915, 763, 694], [18.23435631725787, 15.20526106018334, 13.830211239537665]], \"align\": [\"left\", \"left\", \"left\"], \"format\": [null, \"d\", \".2f\"]}}], {\"title\": \"Prevalence of Jumping\", \"width\": 700, \"height\": 200, \"margin\": {\"l\": 50, \"r\": 50, \"b\": 50, \"t\": 50, \"pad\": 4}}, {\"showLink\": true, \"linkText\": \"Export to plot.ly\"})});</script>"
      ],
      "text/vnd.plotly.v1+html": [
       "<div id=\"22c76d07-534b-4c25-a578-dadcd68c2751\" style=\"height: 200px; width: 700px;\" class=\"plotly-graph-div\"></div><script type=\"text/javascript\">require([\"plotly\"], function(Plotly) { window.PLOTLYENV=window.PLOTLYENV || {};window.PLOTLYENV.BASE_URL=\"https://plot.ly\";Plotly.newPlot(\"22c76d07-534b-4c25-a578-dadcd68c2751\", [{\"type\": \"table\", \"columnwidth\": [200, 100, 100], \"header\": {\"values\": [\"Jumping\", \"Number of Dogs\", \"Prevalence (%)\"], \"fill\": {\"color\": \"#B0C4DE\"}, \"align\": [\"left\", \"left\", \"left\"]}, \"cells\": {\"values\": [[\"Family members\", \"Owner\", \"Strangers\"], [915, 763, 694], [18.23435631725787, 15.20526106018334, 13.830211239537665]], \"align\": [\"left\", \"left\", \"left\"], \"format\": [null, \"d\", \".2f\"]}}], {\"title\": \"Prevalence of Jumping\", \"width\": 700, \"height\": 200, \"margin\": {\"l\": 50, \"r\": 50, \"b\": 50, \"t\": 50, \"pad\": 4}}, {\"showLink\": true, \"linkText\": \"Export to plot.ly\"})});</script>"
      ]
     },
     "metadata": {},
     "output_type": "display_data"
    }
   ],
   "source": [
    "# Create the necessary dataframe.\n",
    "fields = ', '.join(FIELDS[CATEGORY[5]])\n",
    "labels = list(LABELS[CATEGORY[5]].values())\n",
    "df = createNumericDataFrame(DOG_TABLE, fields, labels, filtered=True)\n",
    "\n",
    "# Get individual behavior problem counts and display as a table.\n",
    "sums = df.sum()\n",
    "sums = sums.sort_values(ascending=False)\n",
    "\n",
    "# Calculate the prevalence of each behavior problem.\n",
    "prevalences = sums.apply(prevalence_cal)\n",
    "\n",
    "# Get individual behavior problem counts and display as a table.\n",
    "data = [go.Table(columnwidth = [200, 100, 100],\n",
    "                 header=dict(values=[CATEGORY[5], 'Number of Dogs', 'Prevalence (%)'],\n",
    "                             fill = dict(color='#B0C4DE'),\n",
    "                             align = ['left'] * 3),\n",
    "                 cells=dict(values=[sums.index.values, sums.values, prevalences.values],\n",
    "                            align = ['left'] * 3,\n",
    "                            format = [None, 'd', '.2f']))]\n",
    "layout = go.Layout(title='Prevalence of {}'.format(CATEGORY[5]),\n",
    "                   width=700,\n",
    "                   height=200,\n",
    "                   margin=go.Margin(l=50, r=50, b=50, t=50, pad=4))\n",
    "fig = dict(data=data, layout=layout)\n",
    "py.iplot(fig)"
   ]
  },
  {
   "cell_type": "markdown",
   "metadata": {},
   "source": [
    "### 5.7 Mounting/Humping:"
   ]
  },
  {
   "cell_type": "code",
   "execution_count": 24,
   "metadata": {},
   "outputs": [
    {
     "data": {
      "application/vnd.plotly.v1+json": {
       "data": [
        {
         "cells": {
          "align": [
           "left",
           "left",
           "left"
          ],
          "format": [
           null,
           "d",
           ".2f"
          ],
          "values": [
           [
            "Familiar dogs",
            "People",
            "Unfamiliar dogs",
            "Inanimate objects"
           ],
           [
            259,
            151,
            110,
            102
           ],
           [
            5.16141889198884,
            3.0091669988043046,
            2.19210840972499,
            2.0326823435631725
           ]
          ]
         },
         "columnwidth": [
          200,
          100,
          100
         ],
         "header": {
          "align": [
           "left",
           "left",
           "left"
          ],
          "fill": {
           "color": "#B0C4DE"
          },
          "values": [
           "Mounting/Humping",
           "Number of Dogs",
           "Prevalence (%)"
          ]
         },
         "type": "table"
        }
       ],
       "layout": {
        "height": 225,
        "margin": {
         "b": 50,
         "l": 50,
         "pad": 4,
         "r": 50,
         "t": 50
        },
        "title": "Prevalence of Mounting/Humping",
        "width": 700
       }
      },
      "text/html": [
       "<div id=\"faebcd83-b8e0-4ce2-998b-61d4a6f3ffe4\" style=\"height: 225px; width: 700px;\" class=\"plotly-graph-div\"></div><script type=\"text/javascript\">require([\"plotly\"], function(Plotly) { window.PLOTLYENV=window.PLOTLYENV || {};window.PLOTLYENV.BASE_URL=\"https://plot.ly\";Plotly.newPlot(\"faebcd83-b8e0-4ce2-998b-61d4a6f3ffe4\", [{\"type\": \"table\", \"columnwidth\": [200, 100, 100], \"header\": {\"values\": [\"Mounting/Humping\", \"Number of Dogs\", \"Prevalence (%)\"], \"fill\": {\"color\": \"#B0C4DE\"}, \"align\": [\"left\", \"left\", \"left\"]}, \"cells\": {\"values\": [[\"Familiar dogs\", \"People\", \"Unfamiliar dogs\", \"Inanimate objects\"], [259, 151, 110, 102], [5.16141889198884, 3.0091669988043046, 2.19210840972499, 2.0326823435631725]], \"align\": [\"left\", \"left\", \"left\"], \"format\": [null, \"d\", \".2f\"]}}], {\"title\": \"Prevalence of Mounting/Humping\", \"width\": 700, \"height\": 225, \"margin\": {\"l\": 50, \"r\": 50, \"b\": 50, \"t\": 50, \"pad\": 4}}, {\"showLink\": true, \"linkText\": \"Export to plot.ly\"})});</script>"
      ],
      "text/vnd.plotly.v1+html": [
       "<div id=\"faebcd83-b8e0-4ce2-998b-61d4a6f3ffe4\" style=\"height: 225px; width: 700px;\" class=\"plotly-graph-div\"></div><script type=\"text/javascript\">require([\"plotly\"], function(Plotly) { window.PLOTLYENV=window.PLOTLYENV || {};window.PLOTLYENV.BASE_URL=\"https://plot.ly\";Plotly.newPlot(\"faebcd83-b8e0-4ce2-998b-61d4a6f3ffe4\", [{\"type\": \"table\", \"columnwidth\": [200, 100, 100], \"header\": {\"values\": [\"Mounting/Humping\", \"Number of Dogs\", \"Prevalence (%)\"], \"fill\": {\"color\": \"#B0C4DE\"}, \"align\": [\"left\", \"left\", \"left\"]}, \"cells\": {\"values\": [[\"Familiar dogs\", \"People\", \"Unfamiliar dogs\", \"Inanimate objects\"], [259, 151, 110, 102], [5.16141889198884, 3.0091669988043046, 2.19210840972499, 2.0326823435631725]], \"align\": [\"left\", \"left\", \"left\"], \"format\": [null, \"d\", \".2f\"]}}], {\"title\": \"Prevalence of Mounting/Humping\", \"width\": 700, \"height\": 225, \"margin\": {\"l\": 50, \"r\": 50, \"b\": 50, \"t\": 50, \"pad\": 4}}, {\"showLink\": true, \"linkText\": \"Export to plot.ly\"})});</script>"
      ]
     },
     "metadata": {},
     "output_type": "display_data"
    }
   ],
   "source": [
    "# Create the necessary dataframe.\n",
    "fields = ', '.join(FIELDS[CATEGORY[6]])\n",
    "labels = list(LABELS[CATEGORY[6]].values())\n",
    "df = createNumericDataFrame(DOG_TABLE, fields, labels, filtered=True)\n",
    "\n",
    "# Get individual behavior problem counts and display as a table.\n",
    "sums = df.sum()\n",
    "sums = sums.sort_values(ascending=False)\n",
    "\n",
    "# Calculate the prevalence of each behavior problem.\n",
    "prevalences = sums.apply(prevalence_cal)\n",
    "\n",
    "# Get individual behavior problem counts and display as a table.\n",
    "data = [go.Table(columnwidth = [200, 100, 100],\n",
    "                 header=dict(values=[CATEGORY[6], 'Number of Dogs', 'Prevalence (%)'],\n",
    "                             fill = dict(color='#B0C4DE'),\n",
    "                             align = ['left'] * 3),\n",
    "                 cells=dict(values=[sums.index.values, sums.values, prevalences.values],\n",
    "                            align = ['left'] * 3,\n",
    "                            format = [None, 'd', '.2f']))]\n",
    "layout = go.Layout(title='Prevalence of {}'.format(CATEGORY[6]),\n",
    "                   width=700,\n",
    "                   height=225,\n",
    "                   margin=go.Margin(l=50, r=50, b=50, t=50, pad=4))\n",
    "fig = dict(data=data, layout=layout)\n",
    "py.iplot(fig)"
   ]
  },
  {
   "cell_type": "markdown",
   "metadata": {},
   "source": [
    "### 5.8 Consumption of Feces:"
   ]
  },
  {
   "cell_type": "code",
   "execution_count": 25,
   "metadata": {},
   "outputs": [
    {
     "data": {
      "application/vnd.plotly.v1+json": {
       "data": [
        {
         "cells": {
          "align": [
           "left",
           "left",
           "left"
          ],
          "format": [
           null,
           "d",
           ".2f"
          ],
          "values": [
           [
            "Other species'",
            "Other dogs'",
            "Their own"
           ],
           [
            420,
            416,
            344
           ],
           [
            8.369868473495416,
            8.290155440414509,
            6.85532084495815
           ]
          ]
         },
         "columnwidth": [
          200,
          100,
          100
         ],
         "header": {
          "align": [
           "left",
           "left",
           "left"
          ],
          "fill": {
           "color": "#B0C4DE"
          },
          "values": [
           "Consuming Feces",
           "Number of Dogs",
           "Prevalence (%)"
          ]
         },
         "type": "table"
        }
       ],
       "layout": {
        "height": 200,
        "margin": {
         "b": 50,
         "l": 50,
         "pad": 4,
         "r": 50,
         "t": 50
        },
        "title": "Prevalence of Consuming Feces",
        "width": 700
       }
      },
      "text/html": [
       "<div id=\"5a770137-1f1f-4b7b-a827-56135384cedc\" style=\"height: 200px; width: 700px;\" class=\"plotly-graph-div\"></div><script type=\"text/javascript\">require([\"plotly\"], function(Plotly) { window.PLOTLYENV=window.PLOTLYENV || {};window.PLOTLYENV.BASE_URL=\"https://plot.ly\";Plotly.newPlot(\"5a770137-1f1f-4b7b-a827-56135384cedc\", [{\"type\": \"table\", \"columnwidth\": [200, 100, 100], \"header\": {\"values\": [\"Consuming Feces\", \"Number of Dogs\", \"Prevalence (%)\"], \"fill\": {\"color\": \"#B0C4DE\"}, \"align\": [\"left\", \"left\", \"left\"]}, \"cells\": {\"values\": [[\"Other species'\", \"Other dogs'\", \"Their own\"], [420, 416, 344], [8.369868473495416, 8.290155440414509, 6.85532084495815]], \"align\": [\"left\", \"left\", \"left\"], \"format\": [null, \"d\", \".2f\"]}}], {\"title\": \"Prevalence of Consuming Feces\", \"width\": 700, \"height\": 200, \"margin\": {\"l\": 50, \"r\": 50, \"b\": 50, \"t\": 50, \"pad\": 4}}, {\"showLink\": true, \"linkText\": \"Export to plot.ly\"})});</script>"
      ],
      "text/vnd.plotly.v1+html": [
       "<div id=\"5a770137-1f1f-4b7b-a827-56135384cedc\" style=\"height: 200px; width: 700px;\" class=\"plotly-graph-div\"></div><script type=\"text/javascript\">require([\"plotly\"], function(Plotly) { window.PLOTLYENV=window.PLOTLYENV || {};window.PLOTLYENV.BASE_URL=\"https://plot.ly\";Plotly.newPlot(\"5a770137-1f1f-4b7b-a827-56135384cedc\", [{\"type\": \"table\", \"columnwidth\": [200, 100, 100], \"header\": {\"values\": [\"Consuming Feces\", \"Number of Dogs\", \"Prevalence (%)\"], \"fill\": {\"color\": \"#B0C4DE\"}, \"align\": [\"left\", \"left\", \"left\"]}, \"cells\": {\"values\": [[\"Other species'\", \"Other dogs'\", \"Their own\"], [420, 416, 344], [8.369868473495416, 8.290155440414509, 6.85532084495815]], \"align\": [\"left\", \"left\", \"left\"], \"format\": [null, \"d\", \".2f\"]}}], {\"title\": \"Prevalence of Consuming Feces\", \"width\": 700, \"height\": 200, \"margin\": {\"l\": 50, \"r\": 50, \"b\": 50, \"t\": 50, \"pad\": 4}}, {\"showLink\": true, \"linkText\": \"Export to plot.ly\"})});</script>"
      ]
     },
     "metadata": {},
     "output_type": "display_data"
    }
   ],
   "source": [
    "# Create the necessary dataframe.\n",
    "fields = ', '.join(FIELDS[CATEGORY[7]])\n",
    "labels = list(LABELS[CATEGORY[7]].values())\n",
    "df = createNumericDataFrame(DOG_TABLE, fields, labels, filtered=True)\n",
    "\n",
    "# Get individual behavior problem counts and display as a table.\n",
    "sums = df.sum()\n",
    "sums = sums.sort_values(ascending=False)\n",
    "\n",
    "# Calculate the prevalence of each behavior problem.\n",
    "prevalences = sums.apply(prevalence_cal)\n",
    "\n",
    "# Get individual behavior problem counts and display as a table.\n",
    "data = [go.Table(columnwidth = [200, 100, 100],\n",
    "                 header=dict(values=[CATEGORY[7], 'Number of Dogs', 'Prevalence (%)'],\n",
    "                             fill = dict(color='#B0C4DE'),\n",
    "                             align = ['left'] * 3),\n",
    "                 cells=dict(values=[sums.index.values, sums.values, prevalences.values],\n",
    "                            align = ['left'] * 3,\n",
    "                            format = [None, 'd', '.2f']))]\n",
    "layout = go.Layout(title='Prevalence of {}'.format(CATEGORY[7]),\n",
    "                   width=700,\n",
    "                   height=200,\n",
    "                   margin=go.Margin(l=50, r=50, b=50, t=50, pad=4))\n",
    "fig = dict(data=data, layout=layout)\n",
    "py.iplot(fig)"
   ]
  },
  {
   "cell_type": "markdown",
   "metadata": {},
   "source": [
    "### 5.9 Destructive Behavior:"
   ]
  },
  {
   "cell_type": "code",
   "execution_count": 26,
   "metadata": {},
   "outputs": [
    {
     "data": {
      "application/vnd.plotly.v1+json": {
       "data": [
        {
         "cells": {
          "align": [
           "left",
           "left",
           "left"
          ],
          "format": [
           null,
           "d",
           ".2f"
          ],
          "values": [
           [
            "Owner is away",
            "Owner is home"
           ],
           [
            397,
            222
           ],
           [
            7.911518533280192,
            4.4240733359904345
           ]
          ]
         },
         "columnwidth": [
          200,
          100,
          100
         ],
         "header": {
          "align": [
           "left",
           "left",
           "left"
          ],
          "fill": {
           "color": "#B0C4DE"
          },
          "values": [
           "Destructive Behavior",
           "Number of Dogs",
           "Prevalence (%)"
          ]
         },
         "type": "table"
        }
       ],
       "layout": {
        "height": 175,
        "margin": {
         "b": 50,
         "l": 50,
         "pad": 4,
         "r": 50,
         "t": 50
        },
        "title": "Prevalence of Destructive Behavior",
        "width": 700
       }
      },
      "text/html": [
       "<div id=\"ba8c650f-83d4-454d-a055-9927bc4d7218\" style=\"height: 175px; width: 700px;\" class=\"plotly-graph-div\"></div><script type=\"text/javascript\">require([\"plotly\"], function(Plotly) { window.PLOTLYENV=window.PLOTLYENV || {};window.PLOTLYENV.BASE_URL=\"https://plot.ly\";Plotly.newPlot(\"ba8c650f-83d4-454d-a055-9927bc4d7218\", [{\"type\": \"table\", \"columnwidth\": [200, 100, 100], \"header\": {\"values\": [\"Destructive Behavior\", \"Number of Dogs\", \"Prevalence (%)\"], \"fill\": {\"color\": \"#B0C4DE\"}, \"align\": [\"left\", \"left\", \"left\"]}, \"cells\": {\"values\": [[\"Owner is away\", \"Owner is home\"], [397, 222], [7.911518533280192, 4.4240733359904345]], \"align\": [\"left\", \"left\", \"left\"], \"format\": [null, \"d\", \".2f\"]}}], {\"title\": \"Prevalence of Destructive Behavior\", \"width\": 700, \"height\": 175, \"margin\": {\"l\": 50, \"r\": 50, \"b\": 50, \"t\": 50, \"pad\": 4}}, {\"showLink\": true, \"linkText\": \"Export to plot.ly\"})});</script>"
      ],
      "text/vnd.plotly.v1+html": [
       "<div id=\"ba8c650f-83d4-454d-a055-9927bc4d7218\" style=\"height: 175px; width: 700px;\" class=\"plotly-graph-div\"></div><script type=\"text/javascript\">require([\"plotly\"], function(Plotly) { window.PLOTLYENV=window.PLOTLYENV || {};window.PLOTLYENV.BASE_URL=\"https://plot.ly\";Plotly.newPlot(\"ba8c650f-83d4-454d-a055-9927bc4d7218\", [{\"type\": \"table\", \"columnwidth\": [200, 100, 100], \"header\": {\"values\": [\"Destructive Behavior\", \"Number of Dogs\", \"Prevalence (%)\"], \"fill\": {\"color\": \"#B0C4DE\"}, \"align\": [\"left\", \"left\", \"left\"]}, \"cells\": {\"values\": [[\"Owner is away\", \"Owner is home\"], [397, 222], [7.911518533280192, 4.4240733359904345]], \"align\": [\"left\", \"left\", \"left\"], \"format\": [null, \"d\", \".2f\"]}}], {\"title\": \"Prevalence of Destructive Behavior\", \"width\": 700, \"height\": 175, \"margin\": {\"l\": 50, \"r\": 50, \"b\": 50, \"t\": 50, \"pad\": 4}}, {\"showLink\": true, \"linkText\": \"Export to plot.ly\"})});</script>"
      ]
     },
     "metadata": {},
     "output_type": "display_data"
    }
   ],
   "source": [
    "# Create the necessary dataframe.\n",
    "fields = ', '.join(FIELDS[CATEGORY[8]])\n",
    "labels = list(LABELS[CATEGORY[8]].values())\n",
    "df = createNumericDataFrame(DOG_TABLE, fields, labels, filtered=True)\n",
    "\n",
    "# Get individual behavior problem counts and display as a table.\n",
    "sums = df.sum()\n",
    "sums = sums.sort_values(ascending=False)\n",
    "\n",
    "# Calculate the prevalence of each behavior problem.\n",
    "prevalences = sums.apply(prevalence_cal)\n",
    "\n",
    "# Get individual behavior problem counts and display as a table.\n",
    "data = [go.Table(columnwidth = [200, 100, 100],\n",
    "                 header=dict(values=[CATEGORY[8], 'Number of Dogs', 'Prevalence (%)'],\n",
    "                             fill = dict(color='#B0C4DE'),\n",
    "                             align = ['left'] * 3),\n",
    "                 cells=dict(values=[sums.index.values, sums.values, prevalences.values],\n",
    "                            align = ['left'] * 3,\n",
    "                            format = [None, 'd', '.2f']))]\n",
    "layout = go.Layout(title='Prevalence of {}'.format(CATEGORY[8]),\n",
    "                   width=700,\n",
    "                   height=175,\n",
    "                   margin=go.Margin(l=50, r=50, b=50, t=50, pad=4))\n",
    "fig = dict(data=data, layout=layout)\n",
    "py.iplot(fig)"
   ]
  },
  {
   "cell_type": "markdown",
   "metadata": {},
   "source": [
    "### 5.10 Rolling in Repulsive Materials:"
   ]
  },
  {
   "cell_type": "code",
   "execution_count": 27,
   "metadata": {},
   "outputs": [
    {
     "data": {
      "application/vnd.plotly.v1+json": {
       "data": [
        {
         "cells": {
          "align": [
           "left",
           "left",
           "left"
          ],
          "format": [
           null,
           "d",
           ".2f"
          ],
          "values": [
           [
            "Dead Stuff",
            "Feces",
            "Urine",
            "Garbage"
           ],
           [
            436,
            321,
            72,
            66
           ],
           [
            8.688720605819052,
            6.3969709047429255,
            1.434834595456357,
            1.315265045834994
           ]
          ]
         },
         "columnwidth": [
          200,
          100,
          100
         ],
         "header": {
          "align": [
           "left",
           "left",
           "left"
          ],
          "fill": {
           "color": "#B0C4DE"
          },
          "values": [
           "Rolling in Repulsive Material",
           "Number of Dogs",
           "Prevalence (%)"
          ]
         },
         "type": "table"
        }
       ],
       "layout": {
        "height": 225,
        "margin": {
         "b": 50,
         "l": 50,
         "pad": 4,
         "r": 50,
         "t": 50
        },
        "title": "Prevalence of Rolling in Repulsive Material",
        "width": 700
       }
      },
      "text/html": [
       "<div id=\"844856fa-be21-43e3-8974-7b1524e497a9\" style=\"height: 225px; width: 700px;\" class=\"plotly-graph-div\"></div><script type=\"text/javascript\">require([\"plotly\"], function(Plotly) { window.PLOTLYENV=window.PLOTLYENV || {};window.PLOTLYENV.BASE_URL=\"https://plot.ly\";Plotly.newPlot(\"844856fa-be21-43e3-8974-7b1524e497a9\", [{\"type\": \"table\", \"columnwidth\": [200, 100, 100], \"header\": {\"values\": [\"Rolling in Repulsive Material\", \"Number of Dogs\", \"Prevalence (%)\"], \"fill\": {\"color\": \"#B0C4DE\"}, \"align\": [\"left\", \"left\", \"left\"]}, \"cells\": {\"values\": [[\"Dead Stuff\", \"Feces\", \"Urine\", \"Garbage\"], [436, 321, 72, 66], [8.688720605819052, 6.3969709047429255, 1.434834595456357, 1.315265045834994]], \"align\": [\"left\", \"left\", \"left\"], \"format\": [null, \"d\", \".2f\"]}}], {\"title\": \"Prevalence of Rolling in Repulsive Material\", \"width\": 700, \"height\": 225, \"margin\": {\"l\": 50, \"r\": 50, \"b\": 50, \"t\": 50, \"pad\": 4}}, {\"showLink\": true, \"linkText\": \"Export to plot.ly\"})});</script>"
      ],
      "text/vnd.plotly.v1+html": [
       "<div id=\"844856fa-be21-43e3-8974-7b1524e497a9\" style=\"height: 225px; width: 700px;\" class=\"plotly-graph-div\"></div><script type=\"text/javascript\">require([\"plotly\"], function(Plotly) { window.PLOTLYENV=window.PLOTLYENV || {};window.PLOTLYENV.BASE_URL=\"https://plot.ly\";Plotly.newPlot(\"844856fa-be21-43e3-8974-7b1524e497a9\", [{\"type\": \"table\", \"columnwidth\": [200, 100, 100], \"header\": {\"values\": [\"Rolling in Repulsive Material\", \"Number of Dogs\", \"Prevalence (%)\"], \"fill\": {\"color\": \"#B0C4DE\"}, \"align\": [\"left\", \"left\", \"left\"]}, \"cells\": {\"values\": [[\"Dead Stuff\", \"Feces\", \"Urine\", \"Garbage\"], [436, 321, 72, 66], [8.688720605819052, 6.3969709047429255, 1.434834595456357, 1.315265045834994]], \"align\": [\"left\", \"left\", \"left\"], \"format\": [null, \"d\", \".2f\"]}}], {\"title\": \"Prevalence of Rolling in Repulsive Material\", \"width\": 700, \"height\": 225, \"margin\": {\"l\": 50, \"r\": 50, \"b\": 50, \"t\": 50, \"pad\": 4}}, {\"showLink\": true, \"linkText\": \"Export to plot.ly\"})});</script>"
      ]
     },
     "metadata": {},
     "output_type": "display_data"
    }
   ],
   "source": [
    "# Create the necessary dataframe.\n",
    "fields = ', '.join(FIELDS[CATEGORY[9]])\n",
    "labels = list(LABELS[CATEGORY[9]].values())\n",
    "df = createNumericDataFrame(DOG_TABLE, fields, labels, filtered=True)\n",
    "\n",
    "# Get individual behavior problem counts and display as a table.\n",
    "sums = df.sum()\n",
    "sums = sums.sort_values(ascending=False)\n",
    "\n",
    "# Calculate the prevalence of each behavior problem.\n",
    "prevalences = sums.apply(prevalence_cal)\n",
    "\n",
    "# Get individual behavior problem counts and display as a table.\n",
    "data = [go.Table(columnwidth = [200, 100, 100],\n",
    "                 header=dict(values=[CATEGORY[9], 'Number of Dogs', 'Prevalence (%)'],\n",
    "                             fill = dict(color='#B0C4DE'),\n",
    "                             align = ['left'] * 3),\n",
    "                 cells=dict(values=[sums.index.values, sums.values, prevalences.values],\n",
    "                            align = ['left'] * 3,\n",
    "                            format = [None, 'd', '.2f']))]\n",
    "layout = go.Layout(title='Prevalence of {}'.format(CATEGORY[9]),\n",
    "                   width=700,\n",
    "                   height=225,\n",
    "                   margin=go.Margin(l=50, r=50, b=50, t=50, pad=4))\n",
    "fig = dict(data=data, layout=layout)\n",
    "py.iplot(fig)"
   ]
  },
  {
   "cell_type": "markdown",
   "metadata": {},
   "source": [
    "### 5.11 Running Away/Escaping:"
   ]
  },
  {
   "cell_type": "code",
   "execution_count": 28,
   "metadata": {},
   "outputs": [
    {
     "data": {
      "application/vnd.plotly.v1+json": {
       "data": [
        {
         "cells": {
          "align": [
           "left",
           "left",
           "left"
          ],
          "format": [
           null,
           "d",
           ".2f"
          ],
          "values": [
           [
            "Escapes from home",
            "Escapes when out",
            "Escapes from confinement",
            "Returns home after escape"
           ],
           [
            239,
            207,
            192,
            147
           ],
           [
            4.7628537265842965,
            4.125149461937027,
            3.8262255878836187,
            2.9294539657233956
           ]
          ]
         },
         "columnwidth": [
          200,
          100,
          100
         ],
         "header": {
          "align": [
           "left",
           "left",
           "left"
          ],
          "fill": {
           "color": "#B0C4DE"
          },
          "values": [
           "Running Away/Escaping",
           "Number of Dogs",
           "Prevalence (%)"
          ]
         },
         "type": "table"
        }
       ],
       "layout": {
        "height": 225,
        "margin": {
         "b": 50,
         "l": 50,
         "pad": 4,
         "r": 50,
         "t": 50
        },
        "title": "Prevalence of Running Away/Escaping",
        "width": 700
       }
      },
      "text/html": [
       "<div id=\"bc4205eb-1ba4-46df-9ebe-bc4371cf815c\" style=\"height: 225px; width: 700px;\" class=\"plotly-graph-div\"></div><script type=\"text/javascript\">require([\"plotly\"], function(Plotly) { window.PLOTLYENV=window.PLOTLYENV || {};window.PLOTLYENV.BASE_URL=\"https://plot.ly\";Plotly.newPlot(\"bc4205eb-1ba4-46df-9ebe-bc4371cf815c\", [{\"type\": \"table\", \"columnwidth\": [200, 100, 100], \"header\": {\"values\": [\"Running Away/Escaping\", \"Number of Dogs\", \"Prevalence (%)\"], \"fill\": {\"color\": \"#B0C4DE\"}, \"align\": [\"left\", \"left\", \"left\"]}, \"cells\": {\"values\": [[\"Escapes from home\", \"Escapes when out\", \"Escapes from confinement\", \"Returns home after escape\"], [239.0, 207.0, 192.0, 147.0], [4.7628537265842965, 4.125149461937027, 3.8262255878836187, 2.9294539657233956]], \"align\": [\"left\", \"left\", \"left\"], \"format\": [null, \"d\", \".2f\"]}}], {\"title\": \"Prevalence of Running Away/Escaping\", \"width\": 700, \"height\": 225, \"margin\": {\"l\": 50, \"r\": 50, \"b\": 50, \"t\": 50, \"pad\": 4}}, {\"showLink\": true, \"linkText\": \"Export to plot.ly\"})});</script>"
      ],
      "text/vnd.plotly.v1+html": [
       "<div id=\"bc4205eb-1ba4-46df-9ebe-bc4371cf815c\" style=\"height: 225px; width: 700px;\" class=\"plotly-graph-div\"></div><script type=\"text/javascript\">require([\"plotly\"], function(Plotly) { window.PLOTLYENV=window.PLOTLYENV || {};window.PLOTLYENV.BASE_URL=\"https://plot.ly\";Plotly.newPlot(\"bc4205eb-1ba4-46df-9ebe-bc4371cf815c\", [{\"type\": \"table\", \"columnwidth\": [200, 100, 100], \"header\": {\"values\": [\"Running Away/Escaping\", \"Number of Dogs\", \"Prevalence (%)\"], \"fill\": {\"color\": \"#B0C4DE\"}, \"align\": [\"left\", \"left\", \"left\"]}, \"cells\": {\"values\": [[\"Escapes from home\", \"Escapes when out\", \"Escapes from confinement\", \"Returns home after escape\"], [239.0, 207.0, 192.0, 147.0], [4.7628537265842965, 4.125149461937027, 3.8262255878836187, 2.9294539657233956]], \"align\": [\"left\", \"left\", \"left\"], \"format\": [null, \"d\", \".2f\"]}}], {\"title\": \"Prevalence of Running Away/Escaping\", \"width\": 700, \"height\": 225, \"margin\": {\"l\": 50, \"r\": 50, \"b\": 50, \"t\": 50, \"pad\": 4}}, {\"showLink\": true, \"linkText\": \"Export to plot.ly\"})});</script>"
      ]
     },
     "metadata": {},
     "output_type": "display_data"
    }
   ],
   "source": [
    "# Create the necessary dataframe.\n",
    "fields = ', '.join(FIELDS[CATEGORY[10]])\n",
    "labels = list(LABELS[CATEGORY[10]].values())\n",
    "df = createNumericDataFrame(DOG_TABLE, fields, labels, filtered=True)\n",
    "\n",
    "# Get individual behavior problem counts and display as a table.\n",
    "sums = df.sum()\n",
    "sums = sums.sort_values(ascending=False)\n",
    "\n",
    "# Calculate the prevalence of each behavior problem.\n",
    "prevalences = sums.apply(prevalence_cal)\n",
    "\n",
    "# Get individual behavior problem counts and display as a table.\n",
    "data = [go.Table(columnwidth = [200, 100, 100],\n",
    "                 header=dict(values=[CATEGORY[10], 'Number of Dogs', 'Prevalence (%)'],\n",
    "                             fill = dict(color='#B0C4DE'),\n",
    "                             align = ['left'] * 3),\n",
    "                 cells=dict(values=[sums.index.values, sums.values, prevalences.values],\n",
    "                            align = ['left'] * 3,\n",
    "                            format = [None, 'd', '.2f']))]\n",
    "layout = go.Layout(title='Prevalence of {}'.format(CATEGORY[10]),\n",
    "                   width=700,\n",
    "                   height=225,\n",
    "                   margin=go.Margin(l=50, r=50, b=50, t=50, pad=4))\n",
    "fig = dict(data=data, layout=layout)\n",
    "py.iplot(fig)"
   ]
  },
  {
   "cell_type": "markdown",
   "metadata": {},
   "source": [
    "### 5.12 Overactivity/Hyperactivity:"
   ]
  },
  {
   "cell_type": "code",
   "execution_count": 29,
   "metadata": {},
   "outputs": [
    {
     "data": {
      "application/vnd.plotly.v1+json": {
       "data": [
        {
         "cells": {
          "align": [
           "left",
           "left",
           "left"
          ],
          "format": [
           null,
           "d",
           ".2f"
          ],
          "values": [
           [
            "Difficulty settling",
            "Constant moving/jumping",
            "Impulsive",
            "Highly distractible"
           ],
           [
            314,
            276,
            270,
            224
           ],
           [
            6.257473096851335,
            5.500199282582702,
            5.3806297329613395,
            4.463929852530889
           ]
          ]
         },
         "columnwidth": [
          200,
          100,
          100
         ],
         "header": {
          "align": [
           "left",
           "left",
           "left"
          ],
          "fill": {
           "color": "#B0C4DE"
          },
          "values": [
           "Overactivity/Hyperactivity",
           "Number of Dogs",
           "Prevalence (%)"
          ]
         },
         "type": "table"
        }
       ],
       "layout": {
        "height": 225,
        "margin": {
         "b": 50,
         "l": 50,
         "pad": 4,
         "r": 50,
         "t": 50
        },
        "title": "Prevalence of Overactivity/Hyperactivity",
        "width": 700
       }
      },
      "text/html": [
       "<div id=\"31553f65-1b7a-47aa-a3a2-d17bfe408c5e\" style=\"height: 225px; width: 700px;\" class=\"plotly-graph-div\"></div><script type=\"text/javascript\">require([\"plotly\"], function(Plotly) { window.PLOTLYENV=window.PLOTLYENV || {};window.PLOTLYENV.BASE_URL=\"https://plot.ly\";Plotly.newPlot(\"31553f65-1b7a-47aa-a3a2-d17bfe408c5e\", [{\"type\": \"table\", \"columnwidth\": [200, 100, 100], \"header\": {\"values\": [\"Overactivity/Hyperactivity\", \"Number of Dogs\", \"Prevalence (%)\"], \"fill\": {\"color\": \"#B0C4DE\"}, \"align\": [\"left\", \"left\", \"left\"]}, \"cells\": {\"values\": [[\"Difficulty settling\", \"Constant moving/jumping\", \"Impulsive\", \"Highly distractible\"], [314, 276, 270, 224], [6.257473096851335, 5.500199282582702, 5.3806297329613395, 4.463929852530889]], \"align\": [\"left\", \"left\", \"left\"], \"format\": [null, \"d\", \".2f\"]}}], {\"title\": \"Prevalence of Overactivity/Hyperactivity\", \"width\": 700, \"height\": 225, \"margin\": {\"l\": 50, \"r\": 50, \"b\": 50, \"t\": 50, \"pad\": 4}}, {\"showLink\": true, \"linkText\": \"Export to plot.ly\"})});</script>"
      ],
      "text/vnd.plotly.v1+html": [
       "<div id=\"31553f65-1b7a-47aa-a3a2-d17bfe408c5e\" style=\"height: 225px; width: 700px;\" class=\"plotly-graph-div\"></div><script type=\"text/javascript\">require([\"plotly\"], function(Plotly) { window.PLOTLYENV=window.PLOTLYENV || {};window.PLOTLYENV.BASE_URL=\"https://plot.ly\";Plotly.newPlot(\"31553f65-1b7a-47aa-a3a2-d17bfe408c5e\", [{\"type\": \"table\", \"columnwidth\": [200, 100, 100], \"header\": {\"values\": [\"Overactivity/Hyperactivity\", \"Number of Dogs\", \"Prevalence (%)\"], \"fill\": {\"color\": \"#B0C4DE\"}, \"align\": [\"left\", \"left\", \"left\"]}, \"cells\": {\"values\": [[\"Difficulty settling\", \"Constant moving/jumping\", \"Impulsive\", \"Highly distractible\"], [314, 276, 270, 224], [6.257473096851335, 5.500199282582702, 5.3806297329613395, 4.463929852530889]], \"align\": [\"left\", \"left\", \"left\"], \"format\": [null, \"d\", \".2f\"]}}], {\"title\": \"Prevalence of Overactivity/Hyperactivity\", \"width\": 700, \"height\": 225, \"margin\": {\"l\": 50, \"r\": 50, \"b\": 50, \"t\": 50, \"pad\": 4}}, {\"showLink\": true, \"linkText\": \"Export to plot.ly\"})});</script>"
      ]
     },
     "metadata": {},
     "output_type": "display_data"
    }
   ],
   "source": [
    "# Create the necessary dataframe.\n",
    "fields = ', '.join(FIELDS[CATEGORY[11]])\n",
    "labels = list(LABELS[CATEGORY[11]].values())\n",
    "df = createNumericDataFrame(DOG_TABLE, fields, labels, filtered=True)\n",
    "\n",
    "# Get individual behavior problem counts and display as a table.\n",
    "sums = df.sum()\n",
    "sums = sums.sort_values(ascending=False)\n",
    "\n",
    "# Calculate the prevalence of each behavior problem.\n",
    "prevalences = sums.apply(prevalence_cal)\n",
    "\n",
    "# Get individual behavior problem counts and display as a table.\n",
    "data = [go.Table(columnwidth = [200, 100, 100],\n",
    "                 header=dict(values=[CATEGORY[11], 'Number of Dogs', 'Prevalence (%)'],\n",
    "                             fill = dict(color='#B0C4DE'),\n",
    "                             align = ['left'] * 3),\n",
    "                 cells=dict(values=[sums.index.values, sums.values, prevalences.values],\n",
    "                            align = ['left'] * 3,\n",
    "                            format = [None, 'd', '.2f']))]\n",
    "layout = go.Layout(title='Prevalence of {}'.format(CATEGORY[11]),\n",
    "                   width=700,\n",
    "                   height=225,\n",
    "                   margin=go.Margin(l=50, r=50, b=50, t=50, pad=4))\n",
    "fig = dict(data=data, layout=layout)\n",
    "py.iplot(fig)"
   ]
  },
  {
   "cell_type": "markdown",
   "metadata": {},
   "source": [
    "## 6 Separation Anxiety, Noise Phobia, and Thunderstorm Phobia"
   ]
  },
  {
   "cell_type": "markdown",
   "metadata": {},
   "source": [
    "### 6.1 Individual Independence:"
   ]
  },
  {
   "cell_type": "code",
   "execution_count": 30,
   "metadata": {},
   "outputs": [
    {
     "data": {
      "image/png": "[encoded data removed]",
      "text/plain": [
       "<Figure size 432x288 with 1 Axes>"
      ]
     },
     "metadata": {},
     "output_type": "display_data"
    },
    {
     "name": "stdout",
     "output_type": "stream",
     "text": [
      "Chi-squared Test of Independence for thunderstorm phobia and noise phobia:\n",
      "chi2 = 1331.774877, p = 1.41E-291, dof = 1\n",
      "The resulting p-value is below the set significance threshold (0.01).\n"
     ]
    },
    {
     "data": {
      "image/png": "[encoded data removed]",
      "text/plain": [
       "<Figure size 432x288 with 1 Axes>"
      ]
     },
     "metadata": {},
     "output_type": "display_data"
    },
    {
     "name": "stdout",
     "output_type": "stream",
     "text": [
      "Chi-squared Test of Independence for thunderstorm phobia and separation anxiety:\n",
      "chi2 = 183.558945, p = 8.10E-42, dof = 1\n",
      "The resulting p-value is below the set significance threshold (0.01).\n"
     ]
    },
    {
     "data": {
      "image/png": "[encoded data removed]",
      "text/plain": [
       "<Figure size 432x288 with 1 Axes>"
      ]
     },
     "metadata": {},
     "output_type": "display_data"
    },
    {
     "name": "stdout",
     "output_type": "stream",
     "text": [
      "Chi-squared Test of Independence for noise phobia and separation anxiety:\n",
      "chi2 = 218.299764, p = 2.12E-49, dof = 1\n",
      "The resulting p-value is below the set significance threshold (0.01).\n"
     ]
    }
   ],
   "source": [
    "# Create the necessary dataframe.\n",
    "fields = 'q04_1, q04_2, q04_9'\n",
    "labels = ['thunderstorm phobia', 'noise phobia', 'separation anxiety']\n",
    "df = createNumericDataFrame(DOG_TABLE, fields, labels, filtered=True)\n",
    "\n",
    "pairs = [['thunderstorm phobia', 'noise phobia'],\n",
    "         ['thunderstorm phobia', 'separation anxiety'],\n",
    "         ['noise phobia', 'separation anxiety']]\n",
    "\n",
    "titles = ['Thunderstorm Phobia and Noise Phobia',\n",
    "          'Thunderstorm Phobia and Separation Anxiety',\n",
    "          'Noise Phobia and Separation Anxiety']\n",
    "\n",
    "counter = 0\n",
    "for pair in pairs:\n",
    "    # Create a contingency table.\n",
    "    contingency = pd.crosstab(df[pair[0]], df[pair[1]])\n",
    "    # Convert the cross tabulated dataframe to a series of sums.\n",
    "    d = {pair[0]: contingency[0][1],\n",
    "         pair[1]: contingency[1][0],\n",
    "         'both': contingency[1][1]}   \n",
    "    cross_sums = pd.Series(d)\n",
    "    # Display the cross tabulated data as a venn diagram.\n",
    "    labels = cross_sums.index.values\n",
    "    venn2(cross_sums, set_labels=labels[0:2])\n",
    "    plt.title(titles[counter])\n",
    "    plt.show()\n",
    "    # Execute a chi-squared test of independence.\n",
    "    print('Chi-squared Test of Independence for %s and %s:' %(pair[0], pair[1]))\n",
    "    c, p, dof, expected = scs.chi2_contingency(contingency, correction=False)\n",
    "    print('chi2 = %f, p = %.2E, dof = %d' %(c, p, dof))\n",
    "    checkSignificance(p)\n",
    "    counter += 1"
   ]
  },
  {
   "cell_type": "markdown",
   "metadata": {},
   "source": [
    "### 6.2 Grouped Independence:"
   ]
  },
  {
   "cell_type": "code",
   "execution_count": 31,
   "metadata": {},
   "outputs": [
    {
     "data": {
      "image/png": "[encoded data removed]",
      "text/plain": [
       "<Figure size 432x288 with 1 Axes>"
      ]
     },
     "metadata": {},
     "output_type": "display_data"
    },
    {
     "name": "stdout",
     "output_type": "stream",
     "text": [
      "Chi-squared Test of Independence for separation anxiety and the combination of noise and\n",
      "thunderstorm phobia:\n",
      "chi2 = 285.272663, p = 1.53E-61, dof = 3\n",
      "The resulting p-value is below the set significance threshold (0.01).\n"
     ]
    }
   ],
   "source": [
    "# Create a contingency table.\n",
    "contingency = pd.crosstab(df['separation anxiety'], [df['noise phobia'],\n",
    "                                                     df['thunderstorm phobia']])\n",
    "\n",
    "# Convert the cross tabulated dataframe to a series of sums.\n",
    "d = {'separation anxiety': contingency[0][0][1],\n",
    "     'noise phobia': contingency[1][0][0],\n",
    "     'separation-noise': contingency[1][0][1],\n",
    "     'thunderstorm phobia': contingency[0][1][0],\n",
    "     'separation-thunderstorm': contingency[0][1][1],\n",
    "     'noise-thunderstorm': contingency[1][1][0],     \n",
    "     'all': contingency[1][1][1]}   \n",
    "cross_sums = pd.Series(d)\n",
    "\n",
    "# Display the cross tabulated data as a venn diagram.\n",
    "labels = [cross_sums.index.values[i] for i in [0, 1, 3]]\n",
    "venn3(cross_sums, set_labels=labels)\n",
    "plt.title('Separation Anxiety, Noise Phobia, and Thunderstorm Phobia')\n",
    "plt.show()\n",
    "\n",
    "# Execute a chi-squared test of independence.\n",
    "title = ('Chi-squared Test of Independence for separation anxiety and the combination of '\n",
    "         'noise and thunderstorm phobia:')\n",
    "print(textwrap.fill(title, width=90))\n",
    "c, p, dof, expected = scs.chi2_contingency(contingency, correction=False)\n",
    "print('chi2 = %f, p = %.2E, dof = %d' %(c, p, dof))\n",
    "checkSignificance(p)"
   ]
  },
  {
   "cell_type": "markdown",
   "metadata": {},
   "source": [
    "## 7 Compulsion and Fearful/Anxious Behaviors"
   ]
  },
  {
   "cell_type": "code",
   "execution_count": 32,
   "metadata": {},
   "outputs": [
    {
     "data": {
      "image/png": "[encoded data removed]",
      "text/plain": [
       "<Figure size 432x288 with 1 Axes>"
      ]
     },
     "metadata": {},
     "output_type": "display_data"
    }
   ],
   "source": [
    "# Create the necessary hdataframe.\n",
    "fields = 'q02_main_2, q02_main_3'\n",
    "labels = ['fear/anxiety', 'compulsion']\n",
    "df = createNumericDataFrame(DOG_TABLE, fields, labels, filtered=True)\n",
    "\n",
    "# Cross tabulate the relevant columns.\n",
    "contingency = pd.crosstab(df['fear/anxiety'], df['compulsion'])\n",
    "\n",
    "# Convert the cross tabulated dataframe to a series of sums.\n",
    "d = {'fear/anxiety': contingency[0][1],\n",
    "     'compulsion': contingency[1][0],\n",
    "     'both': contingency[1][1]}   \n",
    "cross_sums = pd.Series(d)\n",
    "\n",
    "# Display the cross tabulated data as a venn diagram.\n",
    "labels = cross_sums.index.values\n",
    "venn2(cross_sums, set_labels=labels[0:2])\n",
    "plt.title('Fear/Anxiety and Compulsion')\n",
    "plt.show()"
   ]
  },
  {
   "cell_type": "code",
   "execution_count": 33,
   "metadata": {},
   "outputs": [
    {
     "name": "stdout",
     "output_type": "stream",
     "text": [
      "Chi-square Test of Independence:\n",
      "chi2 = 44.843203, p = 2.13E-11, dof = 1\n",
      "The resulting p-value is below the set significance threshold (0.01).\n"
     ]
    }
   ],
   "source": [
    "# Execute a chi-squared test of independence.\n",
    "c, p, dof, expected = scs.chi2_contingency(contingency, correction=False)\n",
    "print('Chi-square Test of Independence:')\n",
    "print('chi2 = %f, p = %.2E, dof = %d' %(c, p, dof))\n",
    "checkSignificance(p)"
   ]
  },
  {
   "cell_type": "markdown",
   "metadata": {},
   "source": [
    "## 8 Aggression and Fearful/Anxious Behavior"
   ]
  },
  {
   "cell_type": "markdown",
   "metadata": {},
   "source": [
    "### 8.1 Overall Aggression and Fearful/Anxious Behavior:"
   ]
  },
  {
   "cell_type": "code",
   "execution_count": 34,
   "metadata": {},
   "outputs": [
    {
     "data": {
      "image/png": "[encoded data removed]",
      "text/plain": [
       "<Figure size 432x288 with 1 Axes>"
      ]
     },
     "metadata": {},
     "output_type": "display_data"
    },
    {
     "name": "stdout",
     "output_type": "stream",
     "text": [
      "Chi-square Test of Independence:\n",
      "chi2 = 116.490685, p = 3.71E-27, dof = 1\n",
      "The resulting p-value is below the set significance threshold (0.01).\n"
     ]
    }
   ],
   "source": [
    "# Create the necessary dataframe.\n",
    "fields = 'q02_main_1, q02_main_2'\n",
    "labels = ['aggression', 'fear/anxiety']\n",
    "df = createNumericDataFrame(DOG_TABLE, fields, labels, filtered=True)\n",
    "    \n",
    "# Create a contingency table.\n",
    "contingency = pd.crosstab(df['aggression'], df['fear/anxiety'])\n",
    "\n",
    "# Convert the cross tabulated dataframe to a series of sums.\n",
    "d = {'aggression': contingency[0][1],\n",
    "     'fear/anxiety': contingency[1][0],\n",
    "     'both': contingency[1][1]}   \n",
    "cross_sums = pd.Series(d)\n",
    "\n",
    "# Display the cross tabulated data as a venn diagram.\n",
    "labels = cross_sums.index.values\n",
    "venn2(cross_sums, set_labels=labels[0:2])\n",
    "plt.title('Aggression and Fear/Anxiety')\n",
    "plt.show()\n",
    "\n",
    "# Execute a chi-squared test of independence.\n",
    "c, p, dof, expected = scs.chi2_contingency(contingency, correction=False)\n",
    "print('Chi-square Test of Independence:')\n",
    "print('chi2 = %f, p = %.2E, dof = %d' %(c, p, dof))\n",
    "checkSignificance(p)"
   ]
  },
  {
   "cell_type": "markdown",
   "metadata": {},
   "source": [
    "### 8.2 Owner Directed Aggression and Fearful/Anxious Behavior:"
   ]
  },
  {
   "cell_type": "code",
   "execution_count": 35,
   "metadata": {},
   "outputs": [
    {
     "data": {
      "image/png": "[encoded data removed]",
      "text/plain": [
       "<Figure size 432x288 with 1 Axes>"
      ]
     },
     "metadata": {},
     "output_type": "display_data"
    },
    {
     "name": "stdout",
     "output_type": "stream",
     "text": [
      "Chi-square Test of Independence:\n",
      "chi2 = 59.514770, p = 1.21E-14, dof = 1\n",
      "The resulting p-value is below the set significance threshold (0.01).\n"
     ]
    }
   ],
   "source": [
    "# Create the necessary dataframe.\n",
    "fields = 'q03_main_1, q02_main_2'\n",
    "labels = ['aggression', 'fear/anxiety']\n",
    "df = createNumericDataFrame(DOG_TABLE, fields, labels, filtered=True)\n",
    "    \n",
    "# Create a contingency table.\n",
    "contingency = pd.crosstab(df['aggression'], df['fear/anxiety'])\n",
    "\n",
    "# Convert the cross tabulated dataframe to a series of sums.\n",
    "d = {'owner directed aggression': contingency[0][1],\n",
    "     'fear/anxiety': contingency[1][0],\n",
    "     'both': contingency[1][1]}   \n",
    "cross_sums = pd.Series(d)\n",
    "\n",
    "# Display the cross tabulated data as a venn diagram.\n",
    "labels = cross_sums.index.values\n",
    "venn2(cross_sums, set_labels=labels[0:2])\n",
    "plt.title('Owner Directed Aggression and Fear/Anxiety')\n",
    "plt.show()\n",
    "\n",
    "# Execute a chi-squared test of independence.\n",
    "c, p, dof, expected = scs.chi2_contingency(contingency, correction=False)\n",
    "print('Chi-square Test of Independence:')\n",
    "print('chi2 = %f, p = %.2E, dof = %d' %(c, p, dof))\n",
    "checkSignificance(p)"
   ]
  },
  {
   "cell_type": "markdown",
   "metadata": {},
   "source": [
    "### 8.3 Owner Directed Aggression and Separation Anxiety:"
   ]
  },
  {
   "cell_type": "code",
   "execution_count": 36,
   "metadata": {},
   "outputs": [
    {
     "data": {
      "image/png": "[encoded data removed]",
      "text/plain": [
       "<Figure size 432x288 with 1 Axes>"
      ]
     },
     "metadata": {},
     "output_type": "display_data"
    },
    {
     "name": "stdout",
     "output_type": "stream",
     "text": [
      "Chi-square Test of Independence:\n",
      "chi2 = 41.709109, p = 1.06E-10, dof = 1\n",
      "The resulting p-value is below the set significance threshold (0.01).\n"
     ]
    }
   ],
   "source": [
    "# Create the necessary dataframe.\n",
    "fields = 'q03_main_1, q04_9'\n",
    "labels = ['aggression', 'anxiety']\n",
    "df = createNumericDataFrame(DOG_TABLE, fields, labels, filtered=True)\n",
    "    \n",
    "# Create a contingency table.\n",
    "contingency = pd.crosstab(df['aggression'], df['anxiety'])\n",
    "\n",
    "# Convert the cross tabulated dataframe to a series of sums.\n",
    "d = {'owner directed aggression': contingency[0][1],\n",
    "     'separation anxiety': contingency[1][0],\n",
    "     'both': contingency[1][1]}   \n",
    "cross_sums = pd.Series(d)\n",
    "\n",
    "# Display the cross tabulated data as a venn diagram.\n",
    "labels = cross_sums.index.values\n",
    "venn2(cross_sums, set_labels=labels[0:2])\n",
    "plt.title('Owner Direct Aggression and Separation Anxiety')\n",
    "plt.show()\n",
    "\n",
    "# Execute a chi-squared test of independence.\n",
    "c, p, dof, expected = scs.chi2_contingency(contingency, correction=False)\n",
    "print('Chi-square Test of Independence:')\n",
    "print('chi2 = %f, p = %.2E, dof = %d' %(c, p, dof))\n",
    "checkSignificance(p)"
   ]
  },
  {
   "cell_type": "markdown",
   "metadata": {},
   "source": [
    "## 9 Impact of Gender and Neutered Status"
   ]
  },
  {
   "cell_type": "markdown",
   "metadata": {},
   "source": [
    "### 9.1 On Study Prevalence:\n",
    "\n",
    "This section examines the impact gender and neutered status had on the prevalence among all participating dogs (i.e. the probability of selecting a dog with the specific sex, neutered status, and behavior problem from the entire study population).\n",
    "\n",
    "Note: \\[I\\] = intact, \\[N\\] = neutered"
   ]
  },
  {
   "cell_type": "code",
   "execution_count": 37,
   "metadata": {},
   "outputs": [
    {
     "data": {
      "application/vnd.plotly.v1+json": {
       "data": [
        {
         "cells": {
          "align": [
           "left",
           "left",
           "left",
           "left",
           "left"
          ],
          "format": [
           null,
           ".2f.2f.2f.2f"
          ],
          "values": [
           [
            "Aggression",
            "Fear/Anxiety",
            "Compulsion",
            "House Soiling",
            "Excessive Barking",
            "Jumping",
            "Mounting/Humping",
            "Consuming Feces",
            "Destructive Behavior",
            "Rolling in Repulsive Material",
            "Running Away/Escaping",
            "Overactivity/Hyperactivity"
           ],
           [
            1.2156237544838582,
            1.8333997608609007,
            0.6775607811877242,
            0.6974890394579514,
            0.6377042646472698,
            2.072538860103627,
            1.0761259465922677,
            0.657632522917497,
            0.7373455559984058,
            0.3188521323236349,
            0.47827819848545233,
            0.7772020725388601
           ],
           [
            11.937026703866083,
            15.344758868074932,
            5.79912315663611,
            5.201275408529295,
            6.815464328417696,
            9.147070546034277,
            4.444001594260662,
            5.978477481068155,
            3.9856516540454363,
            3.8461538461538463,
            3.9059386209645277,
            4.503786369071343
           ],
           [
            0.9964129135113591,
            1.8333997608609007,
            0.4583499402152252,
            0.5978477481068154,
            0.7174172977281785,
            1.9928258270227182,
            0.4184934236747709,
            0.8170585890793145,
            0.7174172977281785,
            0.6377042646472698,
            0.6377042646472698,
            0.6974890394579514
           ],
           [
            10.302909525707452,
            16.83937823834197,
            5.699481865284974,
            5.679553607014747,
            6.85532084495815,
            9.705061777600637,
            2.6504583499402155,
            6.795536070147469,
            4.224790753288163,
            5.360701474691112,
            3.6867277799920286,
            3.965723395775209
           ]
          ]
         },
         "columnwidth": [
          200,
          100,
          105,
          115,
          120
         ],
         "header": {
          "align": [
           "left",
           "left",
           "left",
           "left",
           "left"
          ],
          "fill": {
           "color": "#B0C4DE"
          },
          "values": [
           "Behavior Problem",
           "Male [I] (%)",
           "Male [N] (%)",
           "Female [I] (%)",
           "Female [N] (%)"
          ]
         },
         "type": "table"
        }
       ],
       "layout": {
        "height": 400,
        "margin": {
         "b": 50,
         "l": 50,
         "pad": 4,
         "r": 50,
         "t": 50
        },
        "title": "Impact of Gender and Neutered Status on Study Prevalence",
        "width": 740
       }
      },
      "text/html": [
       "<div id=\"244c31ce-0610-4f2d-ad19-e168d26902bc\" style=\"height: 400px; width: 740px;\" class=\"plotly-graph-div\"></div><script type=\"text/javascript\">require([\"plotly\"], function(Plotly) { window.PLOTLYENV=window.PLOTLYENV || {};window.PLOTLYENV.BASE_URL=\"https://plot.ly\";Plotly.newPlot(\"244c31ce-0610-4f2d-ad19-e168d26902bc\", [{\"type\": \"table\", \"columnwidth\": [200, 100, 105, 115, 120], \"header\": {\"values\": [\"Behavior Problem\", \"Male [I] (%)\", \"Male [N] (%)\", \"Female [I] (%)\", \"Female [N] (%)\"], \"fill\": {\"color\": \"#B0C4DE\"}, \"align\": [\"left\", \"left\", \"left\", \"left\", \"left\"]}, \"cells\": {\"values\": [[\"Aggression\", \"Fear/Anxiety\", \"Compulsion\", \"House Soiling\", \"Excessive Barking\", \"Jumping\", \"Mounting/Humping\", \"Consuming Feces\", \"Destructive Behavior\", \"Rolling in Repulsive Material\", \"Running Away/Escaping\", \"Overactivity/Hyperactivity\"], [1.2156237544838582, 1.8333997608609007, 0.6775607811877242, 0.6974890394579514, 0.6377042646472698, 2.072538860103627, 1.0761259465922677, 0.657632522917497, 0.7373455559984058, 0.3188521323236349, 0.47827819848545233, 0.7772020725388601], [11.937026703866083, 15.344758868074932, 5.79912315663611, 5.201275408529295, 6.815464328417696, 9.147070546034277, 4.444001594260662, 5.978477481068155, 3.9856516540454363, 3.8461538461538463, 3.9059386209645277, 4.503786369071343], [0.9964129135113591, 1.8333997608609007, 0.4583499402152252, 0.5978477481068154, 0.7174172977281785, 1.9928258270227182, 0.4184934236747709, 0.8170585890793145, 0.7174172977281785, 0.6377042646472698, 0.6377042646472698, 0.6974890394579514], [10.302909525707452, 16.83937823834197, 5.699481865284974, 5.679553607014747, 6.85532084495815, 9.705061777600637, 2.6504583499402155, 6.795536070147469, 4.224790753288163, 5.360701474691112, 3.6867277799920286, 3.965723395775209]], \"align\": [\"left\", \"left\", \"left\", \"left\", \"left\"], \"format\": [null, \".2f.2f.2f.2f\"]}}], {\"title\": \"Impact of Gender and Neutered Status on Study Prevalence\", \"width\": 740, \"height\": 400, \"margin\": {\"l\": 50, \"r\": 50, \"b\": 50, \"t\": 50, \"pad\": 4}}, {\"showLink\": true, \"linkText\": \"Export to plot.ly\"})});</script>"
      ],
      "text/vnd.plotly.v1+html": [
       "<div id=\"244c31ce-0610-4f2d-ad19-e168d26902bc\" style=\"height: 400px; width: 740px;\" class=\"plotly-graph-div\"></div><script type=\"text/javascript\">require([\"plotly\"], function(Plotly) { window.PLOTLYENV=window.PLOTLYENV || {};window.PLOTLYENV.BASE_URL=\"https://plot.ly\";Plotly.newPlot(\"244c31ce-0610-4f2d-ad19-e168d26902bc\", [{\"type\": \"table\", \"columnwidth\": [200, 100, 105, 115, 120], \"header\": {\"values\": [\"Behavior Problem\", \"Male [I] (%)\", \"Male [N] (%)\", \"Female [I] (%)\", \"Female [N] (%)\"], \"fill\": {\"color\": \"#B0C4DE\"}, \"align\": [\"left\", \"left\", \"left\", \"left\", \"left\"]}, \"cells\": {\"values\": [[\"Aggression\", \"Fear/Anxiety\", \"Compulsion\", \"House Soiling\", \"Excessive Barking\", \"Jumping\", \"Mounting/Humping\", \"Consuming Feces\", \"Destructive Behavior\", \"Rolling in Repulsive Material\", \"Running Away/Escaping\", \"Overactivity/Hyperactivity\"], [1.2156237544838582, 1.8333997608609007, 0.6775607811877242, 0.6974890394579514, 0.6377042646472698, 2.072538860103627, 1.0761259465922677, 0.657632522917497, 0.7373455559984058, 0.3188521323236349, 0.47827819848545233, 0.7772020725388601], [11.937026703866083, 15.344758868074932, 5.79912315663611, 5.201275408529295, 6.815464328417696, 9.147070546034277, 4.444001594260662, 5.978477481068155, 3.9856516540454363, 3.8461538461538463, 3.9059386209645277, 4.503786369071343], [0.9964129135113591, 1.8333997608609007, 0.4583499402152252, 0.5978477481068154, 0.7174172977281785, 1.9928258270227182, 0.4184934236747709, 0.8170585890793145, 0.7174172977281785, 0.6377042646472698, 0.6377042646472698, 0.6974890394579514], [10.302909525707452, 16.83937823834197, 5.699481865284974, 5.679553607014747, 6.85532084495815, 9.705061777600637, 2.6504583499402155, 6.795536070147469, 4.224790753288163, 5.360701474691112, 3.6867277799920286, 3.965723395775209]], \"align\": [\"left\", \"left\", \"left\", \"left\", \"left\"], \"format\": [null, \".2f.2f.2f.2f\"]}}], {\"title\": \"Impact of Gender and Neutered Status on Study Prevalence\", \"width\": 740, \"height\": 400, \"margin\": {\"l\": 50, \"r\": 50, \"b\": 50, \"t\": 50, \"pad\": 4}}, {\"showLink\": true, \"linkText\": \"Export to plot.ly\"})});</script>"
      ]
     },
     "metadata": {},
     "output_type": "display_data"
    }
   ],
   "source": [
    "# Create the necessary dataframe.\n",
    "fields = []\n",
    "labels = []\n",
    "for counter, cat in enumerate(CATEGORY, 1):\n",
    "    if counter > 10:\n",
    "        counter += 1;\n",
    "    fields.append('q02_main_{}'.format(counter))\n",
    "    labels.append(cat)   \n",
    "fields.extend(('dog_sex', 'dog_spayed'))\n",
    "labels.extend(('Gender', 'Neutered'))\n",
    "fields = ', '.join(fields)\n",
    "df = createNumericDataFrame(DOG_TABLE, fields, labels, filtered=True)\n",
    "\n",
    "df_intact_male = df[(df['Gender'] == 1) & (df['Neutered'] == 0)].drop(\n",
    "    columns=['Gender', 'Neutered'])\n",
    "df_neutered_male = df[(df['Gender'] == 1) & (df['Neutered'] == 1)].drop(\n",
    "    columns=['Gender', 'Neutered'])\n",
    "df_intact_female = df[(df['Gender'] == 2) & (df['Neutered'] == 0)].drop(\n",
    "    columns=['Gender', 'Neutered'])\n",
    "df_neutered_female = df[(df['Gender'] == 2) & (df['Neutered'] == 1)].drop(\n",
    "    columns=['Gender', 'Neutered'])\n",
    "\n",
    "intact_male_s = df_intact_male.sum()\n",
    "neutered_male_s = df_neutered_male.sum()\n",
    "intact_female_s = df_intact_female.sum()\n",
    "neutered_female_s = df_neutered_female.sum()\n",
    "\n",
    "intact_male_p = intact_male_s.apply(prevalence_cal)\n",
    "neutered_male_p = neutered_male_s.apply(prevalence_cal)\n",
    "intact_female_p = intact_female_s.apply(prevalence_cal)\n",
    "neutered_female_p = neutered_female_s.apply(prevalence_cal)\n",
    "\n",
    "# Get individual behavior problem counts and display as a table.\n",
    "data = [go.Table(columnwidth = [200, 100, 105, 115, 120],\n",
    "                 header=dict(values=['Behavior Problem', 'Male [I] (%)',\n",
    "                                     'Male [N] (%)', 'Female [I] (%)',\n",
    "                                     'Female [N] (%)'],\n",
    "                             fill = dict(color='#B0C4DE'),\n",
    "                             align = ['left'] * 5),\n",
    "                 cells=dict(values=[labels[:-2], intact_male_p.values,\n",
    "                                    neutered_male_p.values, intact_female_p.values,\n",
    "                                    neutered_female_p],\n",
    "                            align = ['left'] * 5,\n",
    "                            format = [None, '.2f' * 4]))]\n",
    "layout = go.Layout(title='Impact of Gender and Neutered Status on Study Prevalence',\n",
    "                   width=740,\n",
    "                   height=400,\n",
    "                   margin=go.Margin(l=50, r=50, b=50, t=50, pad=4))\n",
    "fig = dict(data=data, layout=layout)\n",
    "py.iplot(fig)"
   ]
  },
  {
   "cell_type": "markdown",
   "metadata": {},
   "source": [
    "### 9.2 On Group Prevalence:\n",
    "\n",
    "This section looks at the impact gender and neutered status had on the prevalence among dogs of the same group (i.e. the probability of selecting a dog with the specific sex, neutered status, and behavior problem from the group of the study population that shares the same sex and neutered status).\n",
    "\n",
    "Note: \\[I\\] = intact, \\[N\\] = neutered"
   ]
  },
  {
   "cell_type": "code",
   "execution_count": 38,
   "metadata": {},
   "outputs": [
    {
     "data": {
      "application/vnd.plotly.v1+json": {
       "data": [
        {
         "cells": {
          "align": [
           "left",
           "left",
           "left",
           "left",
           "left"
          ],
          "format": [
           null,
           ".2f.2f.2f.2f"
          ],
          "values": [
           [
            "Aggression",
            "Fear/Anxiety",
            "Compulsion",
            "House Soiling",
            "Excessive Barking",
            "Jumping",
            "Mounting/Humping",
            "Consuming Feces",
            "Destructive Behavior",
            "Rolling in Repulsive Material",
            "Running Away/Escaping",
            "Overactivity/Hyperactivity"
           ],
           [
            19.55128205128205,
            29.48717948717949,
            10.897435897435898,
            11.217948717948719,
            10.256410256410255,
            33.33333333333333,
            17.307692307692307,
            10.576923076923077,
            11.858974358974358,
            5.128205128205128,
            7.6923076923076925,
            12.5
           ],
           [
            35.612366230677765,
            45.77883472057075,
            17.300832342449464,
            15.517241379310345,
            20.332936979785966,
            27.288941736028537,
            13.258026159334127,
            17.8359096313912,
            11.890606420927467,
            11.474435196195005,
            11.652794292508919,
            13.436385255648037
           ],
           [
            16.233766233766232,
            29.87012987012987,
            7.467532467532467,
            9.740259740259742,
            11.688311688311687,
            32.467532467532465,
            6.8181818181818175,
            13.311688311688311,
            11.688311688311687,
            10.38961038961039,
            10.38961038961039,
            11.363636363636363
           ],
           [
            29.07761529808774,
            47.52530933633296,
            16.085489313835772,
            16.029246344206975,
            19.34758155230596,
            27.390326209223847,
            7.480314960629922,
            19.17885264341957,
            11.923509561304838,
            15.12935883014623,
            10.404949381327334,
            11.192350956130484
           ]
          ]
         },
         "columnwidth": [
          200,
          100,
          105,
          115,
          120
         ],
         "header": {
          "align": [
           "left",
           "left",
           "left",
           "left",
           "left"
          ],
          "fill": {
           "color": "#B0C4DE"
          },
          "values": [
           "Behavior Problem",
           "Male [I] (%)",
           "Male [N] (%)",
           "Female [I] (%)",
           "Female [N] (%)"
          ]
         },
         "type": "table"
        }
       ],
       "layout": {
        "height": 400,
        "margin": {
         "b": 50,
         "l": 50,
         "pad": 4,
         "r": 50,
         "t": 50
        },
        "title": "Impact of Gender and Neutered Status on Group Prevalence",
        "width": 740
       }
      },
      "text/html": [
       "<div id=\"22a4819e-d739-403e-b3cf-70d60688fab7\" style=\"height: 400px; width: 740px;\" class=\"plotly-graph-div\"></div><script type=\"text/javascript\">require([\"plotly\"], function(Plotly) { window.PLOTLYENV=window.PLOTLYENV || {};window.PLOTLYENV.BASE_URL=\"https://plot.ly\";Plotly.newPlot(\"22a4819e-d739-403e-b3cf-70d60688fab7\", [{\"type\": \"table\", \"columnwidth\": [200, 100, 105, 115, 120], \"header\": {\"values\": [\"Behavior Problem\", \"Male [I] (%)\", \"Male [N] (%)\", \"Female [I] (%)\", \"Female [N] (%)\"], \"fill\": {\"color\": \"#B0C4DE\"}, \"align\": [\"left\", \"left\", \"left\", \"left\", \"left\"]}, \"cells\": {\"values\": [[\"Aggression\", \"Fear/Anxiety\", \"Compulsion\", \"House Soiling\", \"Excessive Barking\", \"Jumping\", \"Mounting/Humping\", \"Consuming Feces\", \"Destructive Behavior\", \"Rolling in Repulsive Material\", \"Running Away/Escaping\", \"Overactivity/Hyperactivity\"], [19.55128205128205, 29.48717948717949, 10.897435897435898, 11.217948717948719, 10.256410256410255, 33.33333333333333, 17.307692307692307, 10.576923076923077, 11.858974358974358, 5.128205128205128, 7.6923076923076925, 12.5], [35.612366230677765, 45.77883472057075, 17.300832342449464, 15.517241379310345, 20.332936979785966, 27.288941736028537, 13.258026159334127, 17.8359096313912, 11.890606420927467, 11.474435196195005, 11.652794292508919, 13.436385255648037], [16.233766233766232, 29.87012987012987, 7.467532467532467, 9.740259740259742, 11.688311688311687, 32.467532467532465, 6.8181818181818175, 13.311688311688311, 11.688311688311687, 10.38961038961039, 10.38961038961039, 11.363636363636363], [29.07761529808774, 47.52530933633296, 16.085489313835772, 16.029246344206975, 19.34758155230596, 27.390326209223847, 7.480314960629922, 19.17885264341957, 11.923509561304838, 15.12935883014623, 10.404949381327334, 11.192350956130484]], \"align\": [\"left\", \"left\", \"left\", \"left\", \"left\"], \"format\": [null, \".2f.2f.2f.2f\"]}}], {\"title\": \"Impact of Gender and Neutered Status on Group Prevalence\", \"width\": 740, \"height\": 400, \"margin\": {\"l\": 50, \"r\": 50, \"b\": 50, \"t\": 50, \"pad\": 4}}, {\"showLink\": true, \"linkText\": \"Export to plot.ly\"})});</script>"
      ],
      "text/vnd.plotly.v1+html": [
       "<div id=\"22a4819e-d739-403e-b3cf-70d60688fab7\" style=\"height: 400px; width: 740px;\" class=\"plotly-graph-div\"></div><script type=\"text/javascript\">require([\"plotly\"], function(Plotly) { window.PLOTLYENV=window.PLOTLYENV || {};window.PLOTLYENV.BASE_URL=\"https://plot.ly\";Plotly.newPlot(\"22a4819e-d739-403e-b3cf-70d60688fab7\", [{\"type\": \"table\", \"columnwidth\": [200, 100, 105, 115, 120], \"header\": {\"values\": [\"Behavior Problem\", \"Male [I] (%)\", \"Male [N] (%)\", \"Female [I] (%)\", \"Female [N] (%)\"], \"fill\": {\"color\": \"#B0C4DE\"}, \"align\": [\"left\", \"left\", \"left\", \"left\", \"left\"]}, \"cells\": {\"values\": [[\"Aggression\", \"Fear/Anxiety\", \"Compulsion\", \"House Soiling\", \"Excessive Barking\", \"Jumping\", \"Mounting/Humping\", \"Consuming Feces\", \"Destructive Behavior\", \"Rolling in Repulsive Material\", \"Running Away/Escaping\", \"Overactivity/Hyperactivity\"], [19.55128205128205, 29.48717948717949, 10.897435897435898, 11.217948717948719, 10.256410256410255, 33.33333333333333, 17.307692307692307, 10.576923076923077, 11.858974358974358, 5.128205128205128, 7.6923076923076925, 12.5], [35.612366230677765, 45.77883472057075, 17.300832342449464, 15.517241379310345, 20.332936979785966, 27.288941736028537, 13.258026159334127, 17.8359096313912, 11.890606420927467, 11.474435196195005, 11.652794292508919, 13.436385255648037], [16.233766233766232, 29.87012987012987, 7.467532467532467, 9.740259740259742, 11.688311688311687, 32.467532467532465, 6.8181818181818175, 13.311688311688311, 11.688311688311687, 10.38961038961039, 10.38961038961039, 11.363636363636363], [29.07761529808774, 47.52530933633296, 16.085489313835772, 16.029246344206975, 19.34758155230596, 27.390326209223847, 7.480314960629922, 19.17885264341957, 11.923509561304838, 15.12935883014623, 10.404949381327334, 11.192350956130484]], \"align\": [\"left\", \"left\", \"left\", \"left\", \"left\"], \"format\": [null, \".2f.2f.2f.2f\"]}}], {\"title\": \"Impact of Gender and Neutered Status on Group Prevalence\", \"width\": 740, \"height\": 400, \"margin\": {\"l\": 50, \"r\": 50, \"b\": 50, \"t\": 50, \"pad\": 4}}, {\"showLink\": true, \"linkText\": \"Export to plot.ly\"})});</script>"
      ]
     },
     "metadata": {},
     "output_type": "display_data"
    }
   ],
   "source": [
    "# Create the necessary dataframe.\n",
    "fields = []\n",
    "labels = []\n",
    "for counter, cat in enumerate(CATEGORY, 1):\n",
    "    if counter > 10:\n",
    "        counter += 1;\n",
    "    fields.append('q02_main_{}'.format(counter))\n",
    "    labels.append(cat)   \n",
    "fields.extend(('dog_sex', 'dog_spayed'))\n",
    "labels.extend(('Gender', 'Neutered'))\n",
    "fields = ', '.join(fields)\n",
    "df = createNumericDataFrame(DOG_TABLE, fields, labels, filtered=True)\n",
    "\n",
    "df_intact_male = df[(df['Gender'] == 1) & (df['Neutered'] == 0)].drop(\n",
    "    columns=['Gender', 'Neutered'])\n",
    "df_neutered_male = df[(df['Gender'] == 1) & (df['Neutered'] == 1)].drop(\n",
    "    columns=['Gender', 'Neutered'])\n",
    "df_intact_female = df[(df['Gender'] == 2) & (df['Neutered'] == 0)].drop(\n",
    "    columns=['Gender', 'Neutered'])\n",
    "df_neutered_female = df[(df['Gender'] == 2) & (df['Neutered'] == 1)].drop(\n",
    "    columns=['Gender', 'Neutered'])\n",
    "\n",
    "intact_male_c = len(df_intact_male.index)\n",
    "neutered_male_c = len(df_neutered_male.index)\n",
    "intact_female_c = len(df_intact_female.index)\n",
    "neutered_female_c = len(df_neutered_female.index)\n",
    "\n",
    "intact_male_s = df_intact_male.sum()\n",
    "neutered_male_s = df_neutered_male.sum()\n",
    "intact_female_s = df_intact_female.sum()\n",
    "neutered_female_s = df_neutered_female.sum()\n",
    "\n",
    "intact_male_p = intact_male_s.apply(lambda x: (x / intact_male_c) * 100)\n",
    "neutered_male_p = neutered_male_s.apply(lambda x: (x / neutered_male_c) * 100)\n",
    "intact_female_p = intact_female_s.apply(lambda x: (x / intact_female_c) * 100)\n",
    "neutered_female_p = neutered_female_s.apply(lambda x: (x / neutered_female_c) * 100)\n",
    "\n",
    "# Get individual behavior problem counts and display as a table.\n",
    "data = [go.Table(columnwidth = [200, 100, 105, 115, 120],\n",
    "                 header=dict(values=['Behavior Problem', 'Male [I] (%)',\n",
    "                                     'Male [N] (%)', 'Female [I] (%)',\n",
    "                                     'Female [N] (%)'],\n",
    "                             fill = dict(color='#B0C4DE'),\n",
    "                             align = ['left'] * 5),\n",
    "                 cells=dict(values=[labels[:-2], intact_male_p.values,\n",
    "                                    neutered_male_p.values, intact_female_p.values,\n",
    "                                    neutered_female_p],\n",
    "                            align = ['left'] * 5,\n",
    "                            format = [None, '.2f' * 4]))]\n",
    "layout = go.Layout(title='Impact of Gender and Neutered Status on Group Prevalence',\n",
    "                   width=740,\n",
    "                   height=400,\n",
    "                   margin=go.Margin(l=50, r=50, b=50, t=50, pad=4))\n",
    "fig = dict(data=data, layout=layout)\n",
    "py.iplot(fig)"
   ]
  },
  {
   "cell_type": "markdown",
   "metadata": {},
   "source": [
    "## 10 Chi-squared Matrix"
   ]
  },
  {
   "cell_type": "markdown",
   "metadata": {},
   "source": [
    "### 10.1 Reference Chart:"
   ]
  },
  {
   "cell_type": "code",
   "execution_count": 39,
   "metadata": {
    "scrolled": false
   },
   "outputs": [
    {
     "data": {
      "application/vnd.plotly.v1+json": {
       "data": [
        {
         "cells": {
          "align": [
           "left",
           "left",
           "left"
          ],
          "values": [
           [
            "A01",
            "A02",
            "A03",
            "A04",
            "A05",
            "A06",
            "A07",
            "A08",
            "A09",
            "A10",
            "A11",
            "B01",
            "B02",
            "B03",
            "B04",
            "B05",
            "B06",
            "B07",
            "B08",
            "B09",
            "B10",
            "B11",
            "C01",
            "C02",
            "C03",
            "C04",
            "C05",
            "C06",
            "C07",
            "C08",
            "C09",
            "C10",
            "C11",
            "C12",
            "C13",
            "D01",
            "D02",
            "D03",
            "D04",
            "D05",
            "D06",
            "D07",
            "D08",
            "E01",
            "E02",
            "E03",
            "E04",
            "E05",
            "E06",
            "F01",
            "F02",
            "F03",
            "G01",
            "G02",
            "G03",
            "G04",
            "H01",
            "H02",
            "H03",
            "I01",
            "I02",
            "J01",
            "J02",
            "J03",
            "J04",
            "K01",
            "K02",
            "K03",
            "K04",
            "L01",
            "L02",
            "L03",
            "L04"
           ],
           [
            "Aggression",
            "Aggression",
            "Aggression",
            "Aggression",
            "Aggression",
            "Aggression",
            "Aggression",
            "Aggression",
            "Aggression",
            "Aggression",
            "Aggression",
            "Fear/Anxiety",
            "Fear/Anxiety",
            "Fear/Anxiety",
            "Fear/Anxiety",
            "Fear/Anxiety",
            "Fear/Anxiety",
            "Fear/Anxiety",
            "Fear/Anxiety",
            "Fear/Anxiety",
            "Fear/Anxiety",
            "Fear/Anxiety",
            "Compulsion",
            "Compulsion",
            "Compulsion",
            "Compulsion",
            "Compulsion",
            "Compulsion",
            "Compulsion",
            "Compulsion",
            "Compulsion",
            "Compulsion",
            "Compulsion",
            "Compulsion",
            "Compulsion",
            "House Soiling",
            "House Soiling",
            "House Soiling",
            "House Soiling",
            "House Soiling",
            "House Soiling",
            "House Soiling",
            "House Soiling",
            "Excessive Barking",
            "Excessive Barking",
            "Excessive Barking",
            "Excessive Barking",
            "Excessive Barking",
            "Excessive Barking",
            "Jumping",
            "Jumping",
            "Jumping",
            "Mounting/Humping",
            "Mounting/Humping",
            "Mounting/Humping",
            "Mounting/Humping",
            "Consuming Feces",
            "Consuming Feces",
            "Consuming Feces",
            "Destructive Behavior",
            "Destructive Behavior",
            "Rolling in Repulsive Material",
            "Rolling in Repulsive Material",
            "Rolling in Repulsive Material",
            "Rolling in Repulsive Material",
            "Running Away/Escaping",
            "Running Away/Escaping",
            "Running Away/Escaping",
            "Running Away/Escaping",
            "Overactivity/Hyperactivity",
            "Overactivity/Hyperactivity",
            "Overactivity/Hyperactivity",
            "Overactivity/Hyperactivity"
           ],
           [
            "Familiar people in the home",
            "Stangers visiting the home",
            "Stangers away from the home",
            "Another dog in the home",
            "Unfamiliar dogs visiting the home",
            "Unfamiliar dogs on walks (off lead)",
            "Unfamiliar dogs on walks (on lead)",
            "Veterinarians",
            "Trainers",
            "Groomers",
            "Animals other than dogs in the home",
            "Thunderstorm phobia",
            "Noise phobia",
            "Crowd phobia",
            "Phobia of other dogs",
            "PTSD",
            "Generalized anxiety",
            "Situational anxiety",
            "Veterinarian phobia",
            "Separation anxiety",
            "Travel anxiety",
            "Other",
            "Spinning",
            "Tail chasing",
            "Shadow/light chasing",
            "Running in geometric patterns",
            "Licking of wrist/hock",
            "Fly snapping",
            "Sucking flank region/blankets",
            "Tennis ball fetish",
            "Collecting/arranging objects",
            "Nail biting",
            "Digging in yard",
            "Stone/rock chewing",
            "Other",
            "Urine",
            "Feces",
            "Urine and feces",
            "Specific locations",
            "Anywhere",
            "Owner present",
            "Owner away",
            "Excited/overwhelmed",
            "Owner present",
            "Owner away",
            "To get attention",
            "At tiggers (inside)",
            "At triggers (outside)",
            "During car rides",
            "Owner",
            "Family members",
            "Strangers",
            "People",
            "Familiar dogs",
            "Unfamiliar dogs",
            "Inanimate objects",
            "Their own",
            "Other dogs'",
            "Other species'",
            "Owner is home",
            "Owner is away",
            "Urine",
            "Feces",
            "Dead Stuff",
            "Garbage",
            "Escapes when out",
            "Escapes from home",
            "Escapes from confinement",
            "Returns home after escape",
            "Constant moving/jumping",
            "Difficulty settling",
            "Highly distractible",
            "Impulsive"
           ]
          ]
         },
         "columnwidth": [
          125,
          225,
          300
         ],
         "header": {
          "align": [
           "left",
           "left",
           "left"
          ],
          "fill": {
           "color": "#B0C4DE"
          },
          "values": [
           "Location",
           "Category",
           "Label"
          ]
         },
         "type": "table"
        }
       ],
       "layout": {
        "height": 1600,
        "margin": {
         "b": 50,
         "l": 50,
         "pad": 4,
         "r": 50,
         "t": 50
        },
        "width": 650
       }
      },
      "text/html": [
       "<div id=\"1c5dd81f-1668-4318-891d-365b45881465\" style=\"height: 1600px; width: 650px;\" class=\"plotly-graph-div\"></div><script type=\"text/javascript\">require([\"plotly\"], function(Plotly) { window.PLOTLYENV=window.PLOTLYENV || {};window.PLOTLYENV.BASE_URL=\"https://plot.ly\";Plotly.newPlot(\"1c5dd81f-1668-4318-891d-365b45881465\", [{\"type\": \"table\", \"columnwidth\": [125, 225, 300], \"header\": {\"values\": [\"Location\", \"Category\", \"Label\"], \"fill\": {\"color\": \"#B0C4DE\"}, \"align\": [\"left\", \"left\", \"left\"]}, \"cells\": {\"values\": [[\"A01\", \"A02\", \"A03\", \"A04\", \"A05\", \"A06\", \"A07\", \"A08\", \"A09\", \"A10\", \"A11\", \"B01\", \"B02\", \"B03\", \"B04\", \"B05\", \"B06\", \"B07\", \"B08\", \"B09\", \"B10\", \"B11\", \"C01\", \"C02\", \"C03\", \"C04\", \"C05\", \"C06\", \"C07\", \"C08\", \"C09\", \"C10\", \"C11\", \"C12\", \"C13\", \"D01\", \"D02\", \"D03\", \"D04\", \"D05\", \"D06\", \"D07\", \"D08\", \"E01\", \"E02\", \"E03\", \"E04\", \"E05\", \"E06\", \"F01\", \"F02\", \"F03\", \"G01\", \"G02\", \"G03\", \"G04\", \"H01\", \"H02\", \"H03\", \"I01\", \"I02\", \"J01\", \"J02\", \"J03\", \"J04\", \"K01\", \"K02\", \"K03\", \"K04\", \"L01\", \"L02\", \"L03\", \"L04\"], [\"Aggression\", \"Aggression\", \"Aggression\", \"Aggression\", \"Aggression\", \"Aggression\", \"Aggression\", \"Aggression\", \"Aggression\", \"Aggression\", \"Aggression\", \"Fear/Anxiety\", \"Fear/Anxiety\", \"Fear/Anxiety\", \"Fear/Anxiety\", \"Fear/Anxiety\", \"Fear/Anxiety\", \"Fear/Anxiety\", \"Fear/Anxiety\", \"Fear/Anxiety\", \"Fear/Anxiety\", \"Fear/Anxiety\", \"Compulsion\", \"Compulsion\", \"Compulsion\", \"Compulsion\", \"Compulsion\", \"Compulsion\", \"Compulsion\", \"Compulsion\", \"Compulsion\", \"Compulsion\", \"Compulsion\", \"Compulsion\", \"Compulsion\", \"House Soiling\", \"House Soiling\", \"House Soiling\", \"House Soiling\", \"House Soiling\", \"House Soiling\", \"House Soiling\", \"House Soiling\", \"Excessive Barking\", \"Excessive Barking\", \"Excessive Barking\", \"Excessive Barking\", \"Excessive Barking\", \"Excessive Barking\", \"Jumping\", \"Jumping\", \"Jumping\", \"Mounting/Humping\", \"Mounting/Humping\", \"Mounting/Humping\", \"Mounting/Humping\", \"Consuming Feces\", \"Consuming Feces\", \"Consuming Feces\", \"Destructive Behavior\", \"Destructive Behavior\", \"Rolling in Repulsive Material\", \"Rolling in Repulsive Material\", \"Rolling in Repulsive Material\", \"Rolling in Repulsive Material\", \"Running Away/Escaping\", \"Running Away/Escaping\", \"Running Away/Escaping\", \"Running Away/Escaping\", \"Overactivity/Hyperactivity\", \"Overactivity/Hyperactivity\", \"Overactivity/Hyperactivity\", \"Overactivity/Hyperactivity\"], [\"Familiar people in the home\", \"Stangers visiting the home\", \"Stangers away from the home\", \"Another dog in the home\", \"Unfamiliar dogs visiting the home\", \"Unfamiliar dogs on walks (off lead)\", \"Unfamiliar dogs on walks (on lead)\", \"Veterinarians\", \"Trainers\", \"Groomers\", \"Animals other than dogs in the home\", \"Thunderstorm phobia\", \"Noise phobia\", \"Crowd phobia\", \"Phobia of other dogs\", \"PTSD\", \"Generalized anxiety\", \"Situational anxiety\", \"Veterinarian phobia\", \"Separation anxiety\", \"Travel anxiety\", \"Other\", \"Spinning\", \"Tail chasing\", \"Shadow/light chasing\", \"Running in geometric patterns\", \"Licking of wrist/hock\", \"Fly snapping\", \"Sucking flank region/blankets\", \"Tennis ball fetish\", \"Collecting/arranging objects\", \"Nail biting\", \"Digging in yard\", \"Stone/rock chewing\", \"Other\", \"Urine\", \"Feces\", \"Urine and feces\", \"Specific locations\", \"Anywhere\", \"Owner present\", \"Owner away\", \"Excited/overwhelmed\", \"Owner present\", \"Owner away\", \"To get attention\", \"At tiggers (inside)\", \"At triggers (outside)\", \"During car rides\", \"Owner\", \"Family members\", \"Strangers\", \"People\", \"Familiar dogs\", \"Unfamiliar dogs\", \"Inanimate objects\", \"Their own\", \"Other dogs'\", \"Other species'\", \"Owner is home\", \"Owner is away\", \"Urine\", \"Feces\", \"Dead Stuff\", \"Garbage\", \"Escapes when out\", \"Escapes from home\", \"Escapes from confinement\", \"Returns home after escape\", \"Constant moving/jumping\", \"Difficulty settling\", \"Highly distractible\", \"Impulsive\"]], \"align\": [\"left\", \"left\", \"left\"]}}], {\"width\": 650, \"height\": 1600, \"margin\": {\"l\": 50, \"r\": 50, \"b\": 50, \"t\": 50, \"pad\": 4}}, {\"showLink\": true, \"linkText\": \"Export to plot.ly\"})});</script>"
      ],
      "text/vnd.plotly.v1+html": [
       "<div id=\"1c5dd81f-1668-4318-891d-365b45881465\" style=\"height: 1600px; width: 650px;\" class=\"plotly-graph-div\"></div><script type=\"text/javascript\">require([\"plotly\"], function(Plotly) { window.PLOTLYENV=window.PLOTLYENV || {};window.PLOTLYENV.BASE_URL=\"https://plot.ly\";Plotly.newPlot(\"1c5dd81f-1668-4318-891d-365b45881465\", [{\"type\": \"table\", \"columnwidth\": [125, 225, 300], \"header\": {\"values\": [\"Location\", \"Category\", \"Label\"], \"fill\": {\"color\": \"#B0C4DE\"}, \"align\": [\"left\", \"left\", \"left\"]}, \"cells\": {\"values\": [[\"A01\", \"A02\", \"A03\", \"A04\", \"A05\", \"A06\", \"A07\", \"A08\", \"A09\", \"A10\", \"A11\", \"B01\", \"B02\", \"B03\", \"B04\", \"B05\", \"B06\", \"B07\", \"B08\", \"B09\", \"B10\", \"B11\", \"C01\", \"C02\", \"C03\", \"C04\", \"C05\", \"C06\", \"C07\", \"C08\", \"C09\", \"C10\", \"C11\", \"C12\", \"C13\", \"D01\", \"D02\", \"D03\", \"D04\", \"D05\", \"D06\", \"D07\", \"D08\", \"E01\", \"E02\", \"E03\", \"E04\", \"E05\", \"E06\", \"F01\", \"F02\", \"F03\", \"G01\", \"G02\", \"G03\", \"G04\", \"H01\", \"H02\", \"H03\", \"I01\", \"I02\", \"J01\", \"J02\", \"J03\", \"J04\", \"K01\", \"K02\", \"K03\", \"K04\", \"L01\", \"L02\", \"L03\", \"L04\"], [\"Aggression\", \"Aggression\", \"Aggression\", \"Aggression\", \"Aggression\", \"Aggression\", \"Aggression\", \"Aggression\", \"Aggression\", \"Aggression\", \"Aggression\", \"Fear/Anxiety\", \"Fear/Anxiety\", \"Fear/Anxiety\", \"Fear/Anxiety\", \"Fear/Anxiety\", \"Fear/Anxiety\", \"Fear/Anxiety\", \"Fear/Anxiety\", \"Fear/Anxiety\", \"Fear/Anxiety\", \"Fear/Anxiety\", \"Compulsion\", \"Compulsion\", \"Compulsion\", \"Compulsion\", \"Compulsion\", \"Compulsion\", \"Compulsion\", \"Compulsion\", \"Compulsion\", \"Compulsion\", \"Compulsion\", \"Compulsion\", \"Compulsion\", \"House Soiling\", \"House Soiling\", \"House Soiling\", \"House Soiling\", \"House Soiling\", \"House Soiling\", \"House Soiling\", \"House Soiling\", \"Excessive Barking\", \"Excessive Barking\", \"Excessive Barking\", \"Excessive Barking\", \"Excessive Barking\", \"Excessive Barking\", \"Jumping\", \"Jumping\", \"Jumping\", \"Mounting/Humping\", \"Mounting/Humping\", \"Mounting/Humping\", \"Mounting/Humping\", \"Consuming Feces\", \"Consuming Feces\", \"Consuming Feces\", \"Destructive Behavior\", \"Destructive Behavior\", \"Rolling in Repulsive Material\", \"Rolling in Repulsive Material\", \"Rolling in Repulsive Material\", \"Rolling in Repulsive Material\", \"Running Away/Escaping\", \"Running Away/Escaping\", \"Running Away/Escaping\", \"Running Away/Escaping\", \"Overactivity/Hyperactivity\", \"Overactivity/Hyperactivity\", \"Overactivity/Hyperactivity\", \"Overactivity/Hyperactivity\"], [\"Familiar people in the home\", \"Stangers visiting the home\", \"Stangers away from the home\", \"Another dog in the home\", \"Unfamiliar dogs visiting the home\", \"Unfamiliar dogs on walks (off lead)\", \"Unfamiliar dogs on walks (on lead)\", \"Veterinarians\", \"Trainers\", \"Groomers\", \"Animals other than dogs in the home\", \"Thunderstorm phobia\", \"Noise phobia\", \"Crowd phobia\", \"Phobia of other dogs\", \"PTSD\", \"Generalized anxiety\", \"Situational anxiety\", \"Veterinarian phobia\", \"Separation anxiety\", \"Travel anxiety\", \"Other\", \"Spinning\", \"Tail chasing\", \"Shadow/light chasing\", \"Running in geometric patterns\", \"Licking of wrist/hock\", \"Fly snapping\", \"Sucking flank region/blankets\", \"Tennis ball fetish\", \"Collecting/arranging objects\", \"Nail biting\", \"Digging in yard\", \"Stone/rock chewing\", \"Other\", \"Urine\", \"Feces\", \"Urine and feces\", \"Specific locations\", \"Anywhere\", \"Owner present\", \"Owner away\", \"Excited/overwhelmed\", \"Owner present\", \"Owner away\", \"To get attention\", \"At tiggers (inside)\", \"At triggers (outside)\", \"During car rides\", \"Owner\", \"Family members\", \"Strangers\", \"People\", \"Familiar dogs\", \"Unfamiliar dogs\", \"Inanimate objects\", \"Their own\", \"Other dogs'\", \"Other species'\", \"Owner is home\", \"Owner is away\", \"Urine\", \"Feces\", \"Dead Stuff\", \"Garbage\", \"Escapes when out\", \"Escapes from home\", \"Escapes from confinement\", \"Returns home after escape\", \"Constant moving/jumping\", \"Difficulty settling\", \"Highly distractible\", \"Impulsive\"]], \"align\": [\"left\", \"left\", \"left\"]}}], {\"width\": 650, \"height\": 1600, \"margin\": {\"l\": 50, \"r\": 50, \"b\": 50, \"t\": 50, \"pad\": 4}}, {\"showLink\": true, \"linkText\": \"Export to plot.ly\"})});</script>"
      ]
     },
     "metadata": {},
     "output_type": "display_data"
    }
   ],
   "source": [
    "# Construct lists.\n",
    "locs = []\n",
    "labels = []\n",
    "categories = []\n",
    "for cat, subdict in LABELS.items():\n",
    "    for key, value in  subdict.items():\n",
    "        locs.append(key)\n",
    "        labels.append(value)\n",
    "        categories.append(cat)\n",
    "\n",
    "# Display lists in a chart for use as a reference.\n",
    "data = [go.Table(columnwidth = [125, 225, 300],\n",
    "                 header=dict(values=['Location', 'Category', 'Label'],\n",
    "                             fill = dict(color='#B0C4DE'),\n",
    "                             align = ['left'] * 3),\n",
    "                 cells=dict(values=[locs, categories, labels],\n",
    "                            align = ['left'] * 3))]\n",
    "layout = go.Layout(width=650,\n",
    "                   height=1600,\n",
    "                   margin=go.Margin(l=50, r=50, b=50, t=50, pad=4))\n",
    "fig = dict(data=data, layout=layout)\n",
    "py.iplot(fig)"
   ]
  },
  {
   "cell_type": "markdown",
   "metadata": {},
   "source": [
    "### 10.2 Linear Heatmap:"
   ]
  },
  {
   "cell_type": "code",
   "execution_count": 76,
   "metadata": {},
   "outputs": [
    {
     "data": {
      "image/png": "[encoded data removed]",
      "text/plain": [
       "<Figure size 1440x1080 with 2 Axes>"
      ]
     },
     "metadata": {},
     "output_type": "display_data"
    }
   ],
   "source": [
    "if CHI2_MATRIX.empty:\n",
    "    CHI2_MATRIX = createChiSquaredMatrix()\n",
    "\n",
    "# Heatmap\n",
    "fig, ax = plt.subplots(figsize=(20, 15))\n",
    "sns.heatmap(ax=ax, data=CHI2_MATRIX, cmap=\"PiYG\", linewidths=.008, linecolor='black')\n",
    "plt.xticks(rotation=90)\n",
    "plt.title('Linear Heatmap of Study Chi-squared Values')\n",
    "plt.show()"
   ]
  },
  {
   "cell_type": "markdown",
   "metadata": {},
   "source": [
    "### 10.3 Logarithmic Heatmap:"
   ]
  },
  {
   "cell_type": "code",
   "execution_count": 77,
   "metadata": {
    "scrolled": false
   },
   "outputs": [
    {
     "data": {
      "image/png": "[encoded data removed]",
      "text/plain": [
       "<Figure size 1440x1080 with 2 Axes>"
      ]
     },
     "metadata": {},
     "output_type": "display_data"
    }
   ],
   "source": [
    "if CHI2_MATRIX.empty:\n",
    "    CHI2_MATRIX = createChiSquaredMatrix()\n",
    "\n",
    "# Heatmap\n",
    "import warnings; warnings.simplefilter('ignore')\n",
    "from matplotlib.colors import LogNorm\n",
    "fig, ax = plt.subplots(figsize=(20, 15))\n",
    "chi2_min = CHI2_MATRIX.min(skipna=True).min()\n",
    "chi2_max = CHI2_MATRIX.max(skipna=True).max()\n",
    "sns.heatmap(ax = ax, data=CHI2_MATRIX, norm=LogNorm(vmin=chi2_min, vmax=chi2_max),\n",
    "            cmap=\"Blues\", linewidths=.008, linecolor='black')\n",
    "plt.xticks(rotation=90)\n",
    "plt.title('Logarithmic Heatmap of Study Chi-squared Values')\n",
    "plt.show()"
   ]
  },
  {
   "cell_type": "raw",
   "metadata": {},
   "source": [
    "<script>\n",
    "  $(document).ready(function(){\n",
    "    $('div.prompt').hide();\n",
    "    $('div.back-to-top').hide();\n",
    "    $('nav#menubar').hide();\n",
    "    $('.breadcrumb').hide();\n",
    "    $('.hidden-print').hide();\n",
    "  });\n",
    "</script>\n",
    "\n",
    "<footer id=\"attribution\" style=\"float:right; color:#999; background:#fff;\">\n",
    "Created with Jupyter, delivered by Fastly, rendered by Rackspace.\n",
    "</footer>"
   ]
  }
 ],
 "metadata": {
  "kernelspec": {
   "display_name": "Python 3",
   "language": "python",
   "name": "python3"
  },
  "language_info": {
   "codemirror_mode": {
    "name": "ipython",
    "version": 3
   },
   "file_extension": ".py",
   "mimetype": "text/x-python",
   "name": "python",
   "nbconvert_exporter": "python",
   "pygments_lexer": "ipython3",
   "version": "3.6.3"
  }
 },
 "nbformat": 4,
 "nbformat_minor": 2
}
