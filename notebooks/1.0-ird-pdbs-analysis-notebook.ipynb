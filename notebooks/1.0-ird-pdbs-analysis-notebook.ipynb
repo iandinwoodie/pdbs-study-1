{
 "cells": [
  {
   "cell_type": "markdown",
   "metadata": {},
   "source": [
    "# Pet Dog Behavior Study Analysis"
   ]
  },
  {
   "cell_type": "markdown",
   "metadata": {},
   "source": [
    "## 1. Workspace Setup"
   ]
  },
  {
   "cell_type": "code",
   "execution_count": 1,
   "metadata": {},
   "outputs": [
    {
     "data": {
      "text/html": [
       "<script>requirejs.config({paths: { 'plotly': ['https://cdn.plot.ly/plotly-latest.min']},});if(!window.Plotly) {{require(['plotly'],function(plotly) {window.Plotly=plotly;});}}</script>"
      ],
      "text/vnd.plotly.v1+html": [
       "<script>requirejs.config({paths: { 'plotly': ['https://cdn.plot.ly/plotly-latest.min']},});if(!window.Plotly) {{require(['plotly'],function(plotly) {window.Plotly=plotly;});}}</script>"
      ]
     },
     "metadata": {},
     "output_type": "display_data"
    }
   ],
   "source": [
    "# Imports accounted for.\n",
    "import sqlite3\n",
    "import pandas as pd\n",
    "import plotly.offline as py\n",
    "import plotly.graph_objs as go\n",
    "from matplotlib_venn import venn2, venn3\n",
    "import matplotlib.pyplot as plt\n",
    "\n",
    "# Imports unaccounted for.\n",
    "import textwrap\n",
    "import scipy.stats as scs\n",
    "from IPython.display import display\n",
    "import plotly.figure_factory as ff\n",
    "\n",
    "# IPython magics for this notebook.\n",
    "%matplotlib inline\n",
    "\n",
    "# Initiate plotly IPython notebook mode.\n",
    "py.init_notebook_mode(connected=True)\n",
    "\n",
    "# Establish a connection to the database.\n",
    "con = sqlite3.connect('../data/processed/processed.db')"
   ]
  },
  {
   "cell_type": "markdown",
   "metadata": {},
   "source": [
    "## 2. Overall Prevalence of Behavior Problems\n",
    "\n",
    "Prevalence is defined as the proportion of a population found to be affected by a medical condition. This section aims to calculate the aggregate prevalence of the most common behavior problems in a given canine population."
   ]
  },
  {
   "cell_type": "markdown",
   "metadata": {},
   "source": [
    "### 2.1 Count gross and adjusted responses:"
   ]
  },
  {
   "cell_type": "code",
   "execution_count": 2,
   "metadata": {},
   "outputs": [
    {
     "name": "stdout",
     "output_type": "stream",
     "text": [
      "Total number of dogs: 5018\n",
      "Total number of dogs with a reported behavior problem: 4407\n",
      "Adjusted total number of dogs: 3749\n",
      "Adjusted total number of dogs with a reported behavior problem: 3207\n"
     ]
    }
   ],
   "source": [
    "# Create the necessary dataframe.\n",
    "query = ('SELECT record_id, question_reason_for_part_3, q02_score FROM users JOIN dogs '\n",
    "         'USING(record_id)')\n",
    "df_gross = pd.read_sql_query(query, con)\n",
    "df_gross.columns = ['id', 'suspicion', 'problems']\n",
    "\n",
    "# Get a count of the total number of dogs.\n",
    "cnt_total_dogs = len(df_gross.index)\n",
    "\n",
    "# Get a count of the dogs with reported behavior problem.\n",
    "# If the \"problems\" column does not equal zero, then a behavior problem was reported.\n",
    "cnt_total_dogs_w_problems = len(df_gross[df_gross['problems'] != '0'].index)\n",
    "\n",
    "# Create an adjusted dataframe by removing biased results.\n",
    "# A result is considered biased if a participant listed \"suspicion of a behavior problem\" as a\n",
    "# reason for joining the study.\n",
    "df_adjusted = df_gross[df_gross['suspicion'] == '0']\n",
    "\n",
    "# Get a count of the total number of dogs from the adjusted dataframe.\n",
    "cnt_total_dogs_adjusted = len(df_adjusted.index)\n",
    "\n",
    "# Get a count of the dogs with a reported behavior problem from the adjusted dataframe.\n",
    "cnt_total_dogs_w_problems_adjusted = len(df_adjusted[df_adjusted['problems'] != '0'].index)\n",
    "\n",
    "# Display the count results.\n",
    "print('Total number of dogs: %d' %cnt_total_dogs)\n",
    "print('Total number of dogs with a reported behavior problem: %d' %cnt_total_dogs_w_problems)\n",
    "print('Adjusted total number of dogs: %d' %cnt_total_dogs_adjusted)\n",
    "print('Adjusted total number of dogs with a reported behavior problem: %d'\n",
    "      %cnt_total_dogs_w_problems_adjusted)"
   ]
  },
  {
   "cell_type": "markdown",
   "metadata": {},
   "source": [
    "### 2.2 Calculate prevalence:"
   ]
  },
  {
   "cell_type": "code",
   "execution_count": 3,
   "metadata": {},
   "outputs": [
    {
     "name": "stdout",
     "output_type": "stream",
     "text": [
      "Gross prevalence: 87.82% (4407/5018)\n",
      "Adjusted prevalence: 85.54% (3207/3749)\n",
      "Shift in prevalence as a result of adjustment: -2.28%\n"
     ]
    }
   ],
   "source": [
    "# Calculate the gross prevalence.\n",
    "prevalence_gross = (cnt_total_dogs_w_problems / cnt_total_dogs) * 100\n",
    "\n",
    "# Calculate the adjusted prevalence.\n",
    "prevalence_adjusted = (cnt_total_dogs_w_problems_adjusted / cnt_total_dogs_adjusted) * 100\n",
    "\n",
    "# Calculate the difference between the gross and adjusted prevalence.\n",
    "diff_prevalence = prevalence_adjusted - prevalence_gross\n",
    "sign = '+' if diff_prevalence > 0 else ''\n",
    "\n",
    "# Display the prevalence results.\n",
    "print('Gross prevalence: %.2f%% (%d/%d)'\n",
    "      %(prevalence_gross, cnt_total_dogs_w_problems, cnt_total_dogs))\n",
    "print('Adjusted prevalence: %.2f%% (%d/%d)'\n",
    "      %(prevalence_adjusted, cnt_total_dogs_w_problems_adjusted, cnt_total_dogs_adjusted))\n",
    "print('Shift in prevalence as a result of adjustment: %s%.2f%%' %(sign, diff_prevalence))"
   ]
  },
  {
   "cell_type": "markdown",
   "metadata": {},
   "source": [
    "## 3. Prevalence of Individual Behavior Problems\n",
    "\n",
    "This section aims to calculate the prevalence for each behavior problem included in the study. The adjusted dataset is utilized to eliminate potential bias."
   ]
  },
  {
   "cell_type": "markdown",
   "metadata": {},
   "source": [
    "### 3.1 Determine count and prevalence for each behavior problem:"
   ]
  },
  {
   "cell_type": "code",
   "execution_count": 4,
   "metadata": {},
   "outputs": [
    {
     "data": {
      "application/vnd.plotly.v1+json": {
       "data": [
        {
         "cells": {
          "align": [
           "left",
           "left",
           "left",
           "left",
           "left"
          ],
          "format": [
           null,
           "d",
           ".2f"
          ],
          "values": [
           [
            "fear/anxiety",
            "aggression",
            "jumping",
            "excessive barking",
            "fecal consumption",
            "compulsion",
            "house soiling",
            "rolling in repulsive objects",
            "hyperactivity",
            "destruction",
            "escape",
            "mounting"
           ],
           [
            1647,
            1103,
            1045,
            674,
            648,
            571,
            548,
            463,
            456,
            435,
            401,
            392
           ],
           [
            43.931715124033076,
            29.42117898106162,
            27.874099759935984,
            17.978127500666844,
            17.284609229127767,
            15.230728194185117,
            14.617231261669778,
            12.349959989330488,
            12.16324353160843,
            11.60309415844225,
            10.696185649506534,
            10.456121632435316
           ]
          ]
         },
         "header": {
          "align": [
           "left",
           "left",
           "left",
           "left",
           "left"
          ],
          "fill": {
           "color": "#B0C4DE"
          },
          "values": [
           "Behavior Problem",
           "Count",
           "Prevalence (%)"
          ]
         },
         "type": "table"
        }
       ],
       "layout": {
        "height": 450,
        "width": 700
       }
      },
      "text/html": [
       "<div id=\"0732c47b-2763-494f-b96c-f2d9020362b5\" style=\"height: 450px; width: 700px;\" class=\"plotly-graph-div\"></div><script type=\"text/javascript\">require([\"plotly\"], function(Plotly) { window.PLOTLYENV=window.PLOTLYENV || {};window.PLOTLYENV.BASE_URL=\"https://plot.ly\";Plotly.newPlot(\"0732c47b-2763-494f-b96c-f2d9020362b5\", [{\"type\": \"table\", \"header\": {\"values\": [\"Behavior Problem\", \"Count\", \"Prevalence (%)\"], \"fill\": {\"color\": \"#B0C4DE\"}, \"align\": [\"left\", \"left\", \"left\", \"left\", \"left\"]}, \"cells\": {\"values\": [[\"fear/anxiety\", \"aggression\", \"jumping\", \"excessive barking\", \"fecal consumption\", \"compulsion\", \"house soiling\", \"rolling in repulsive objects\", \"hyperactivity\", \"destruction\", \"escape\", \"mounting\"], [1647, 1103, 1045, 674, 648, 571, 548, 463, 456, 435, 401, 392], [43.931715124033076, 29.42117898106162, 27.874099759935984, 17.978127500666844, 17.284609229127767, 15.230728194185117, 14.617231261669778, 12.349959989330488, 12.16324353160843, 11.60309415844225, 10.696185649506534, 10.456121632435316]], \"align\": [\"left\", \"left\", \"left\", \"left\", \"left\"], \"format\": [null, \"d\", \".2f\"]}}], {\"width\": 700, \"height\": 450}, {\"showLink\": true, \"linkText\": \"Export to plot.ly\"})});</script>"
      ],
      "text/vnd.plotly.v1+html": [
       "<div id=\"0732c47b-2763-494f-b96c-f2d9020362b5\" style=\"height: 450px; width: 700px;\" class=\"plotly-graph-div\"></div><script type=\"text/javascript\">require([\"plotly\"], function(Plotly) { window.PLOTLYENV=window.PLOTLYENV || {};window.PLOTLYENV.BASE_URL=\"https://plot.ly\";Plotly.newPlot(\"0732c47b-2763-494f-b96c-f2d9020362b5\", [{\"type\": \"table\", \"header\": {\"values\": [\"Behavior Problem\", \"Count\", \"Prevalence (%)\"], \"fill\": {\"color\": \"#B0C4DE\"}, \"align\": [\"left\", \"left\", \"left\", \"left\", \"left\"]}, \"cells\": {\"values\": [[\"fear/anxiety\", \"aggression\", \"jumping\", \"excessive barking\", \"fecal consumption\", \"compulsion\", \"house soiling\", \"rolling in repulsive objects\", \"hyperactivity\", \"destruction\", \"escape\", \"mounting\"], [1647, 1103, 1045, 674, 648, 571, 548, 463, 456, 435, 401, 392], [43.931715124033076, 29.42117898106162, 27.874099759935984, 17.978127500666844, 17.284609229127767, 15.230728194185117, 14.617231261669778, 12.349959989330488, 12.16324353160843, 11.60309415844225, 10.696185649506534, 10.456121632435316]], \"align\": [\"left\", \"left\", \"left\", \"left\", \"left\"], \"format\": [null, \"d\", \".2f\"]}}], {\"width\": 700, \"height\": 450}, {\"showLink\": true, \"linkText\": \"Export to plot.ly\"})});</script>"
      ]
     },
     "metadata": {},
     "output_type": "display_data"
    }
   ],
   "source": [
    "# Create the necessary dataframe.\n",
    "query = ('SELECT question_reason_for_part_3, q02_main_1, q02_main_2, q02_main_3, '\n",
    "         'q02_main_4, q02_main_5, q02_main_6, q02_main_7, q02_main_8, q02_main_9, '\n",
    "         'q02_main_10, q02_main_12, q02_main_13 FROM users JOIN dogs '\n",
    "         'USING(record_id)')\n",
    "df = pd.read_sql_query(query, con)\n",
    "df.columns = ['suspicion', 'aggression', 'fear/anxiety', 'compulsion', 'house soiling',\n",
    "              'excessive barking', 'jumping', 'mounting', 'fecal consumption', 'destruction',\n",
    "              'rolling in repulsive objects', 'escape', 'hyperactivity']\n",
    "\n",
    "# Remove biased results and discard suspicion column.\n",
    "df = df[df['suspicion'] == '0']\n",
    "df.drop('suspicion', axis=1, inplace=True)\n",
    "\n",
    "# Convert columns to integer type.\n",
    "for col in df:\n",
    "    df[col] = pd.to_numeric(df[col])\n",
    "\n",
    "# Get individual behavior problem counts and display as a table.\n",
    "sums = df.sum()\n",
    "sums = sums.sort_values(ascending=False)\n",
    "\n",
    "# Calculate the prevalence of each behavior problem.\n",
    "total_dogs = len(df.index)\n",
    "prevalence_cal = lambda x: (x / total_dogs) * 100\n",
    "prevalences = sums.apply(prevalence_cal)\n",
    "\n",
    "# Get individual behavior problem counts and display as a table.\n",
    "trace = go.Table(\n",
    "    header=dict(values=['Behavior Problem', 'Count', 'Prevalence (%)'],\n",
    "                fill = dict(color='#B0C4DE'),\n",
    "                align = ['left'] * 5),\n",
    "    cells=dict(values=[sums.index.values, sums.values, prevalences.values],\n",
    "               align = ['left'] * 5,\n",
    "               format = [None, 'd', '.2f']))\n",
    "data = [trace] \n",
    "layout = dict(width=700, height=450)\n",
    "fig = dict(data=data, layout=layout)\n",
    "py.iplot(fig)"
   ]
  },
  {
   "cell_type": "markdown",
   "metadata": {},
   "source": [
    "### 3.2 Graphical presentation of individual prevalences:"
   ]
  },
  {
   "cell_type": "code",
   "execution_count": 5,
   "metadata": {},
   "outputs": [
    {
     "data": {
      "application/vnd.plotly.v1+json": {
       "data": [
        {
         "orientation": "h",
         "type": "bar",
         "x": [
          10.456121632435316,
          10.696185649506534,
          11.60309415844225,
          12.16324353160843,
          12.349959989330488,
          14.617231261669778,
          15.230728194185117,
          17.284609229127767,
          17.978127500666844,
          27.874099759935984,
          29.42117898106162,
          43.931715124033076
         ],
         "y": [
          "mounting",
          "escape",
          "destruction",
          "hyperactivity",
          "rolling in repulsive objects",
          "house soiling",
          "compulsion",
          "fecal consumption",
          "excessive barking",
          "jumping",
          "aggression",
          "fear/anxiety"
         ]
        }
       ],
       "layout": {
        "height": 500,
        "title": "Prevalence of Behavior Problems",
        "width": 700,
        "xaxis": {
         "title": "Prevalence (%)"
        },
        "yaxis": {
         "automargin": true,
         "tickangle": 30,
         "tickprefix": " ",
         "ticksuffix": " ",
         "title": "Behavior Problem"
        }
       }
      },
      "text/html": [
       "<div id=\"88d381a8-e7a2-4376-ab04-fe4f7655b045\" style=\"height: 500px; width: 700px;\" class=\"plotly-graph-div\"></div><script type=\"text/javascript\">require([\"plotly\"], function(Plotly) { window.PLOTLYENV=window.PLOTLYENV || {};window.PLOTLYENV.BASE_URL=\"https://plot.ly\";Plotly.newPlot(\"88d381a8-e7a2-4376-ab04-fe4f7655b045\", [{\"type\": \"bar\", \"x\": [10.456121632435316, 10.696185649506534, 11.60309415844225, 12.16324353160843, 12.349959989330488, 14.617231261669778, 15.230728194185117, 17.284609229127767, 17.978127500666844, 27.874099759935984, 29.42117898106162, 43.931715124033076], \"y\": [\"mounting\", \"escape\", \"destruction\", \"hyperactivity\", \"rolling in repulsive objects\", \"house soiling\", \"compulsion\", \"fecal consumption\", \"excessive barking\", \"jumping\", \"aggression\", \"fear/anxiety\"], \"orientation\": \"h\"}], {\"title\": \"Prevalence of Behavior Problems\", \"xaxis\": {\"title\": \"Prevalence (%)\"}, \"yaxis\": {\"title\": \"Behavior Problem\", \"automargin\": true, \"tickangle\": 30, \"tickprefix\": \" \", \"ticksuffix\": \" \"}, \"width\": 700, \"height\": 500}, {\"showLink\": true, \"linkText\": \"Export to plot.ly\"})});</script>"
      ],
      "text/vnd.plotly.v1+html": [
       "<div id=\"88d381a8-e7a2-4376-ab04-fe4f7655b045\" style=\"height: 500px; width: 700px;\" class=\"plotly-graph-div\"></div><script type=\"text/javascript\">require([\"plotly\"], function(Plotly) { window.PLOTLYENV=window.PLOTLYENV || {};window.PLOTLYENV.BASE_URL=\"https://plot.ly\";Plotly.newPlot(\"88d381a8-e7a2-4376-ab04-fe4f7655b045\", [{\"type\": \"bar\", \"x\": [10.456121632435316, 10.696185649506534, 11.60309415844225, 12.16324353160843, 12.349959989330488, 14.617231261669778, 15.230728194185117, 17.284609229127767, 17.978127500666844, 27.874099759935984, 29.42117898106162, 43.931715124033076], \"y\": [\"mounting\", \"escape\", \"destruction\", \"hyperactivity\", \"rolling in repulsive objects\", \"house soiling\", \"compulsion\", \"fecal consumption\", \"excessive barking\", \"jumping\", \"aggression\", \"fear/anxiety\"], \"orientation\": \"h\"}], {\"title\": \"Prevalence of Behavior Problems\", \"xaxis\": {\"title\": \"Prevalence (%)\"}, \"yaxis\": {\"title\": \"Behavior Problem\", \"automargin\": true, \"tickangle\": 30, \"tickprefix\": \" \", \"ticksuffix\": \" \"}, \"width\": 700, \"height\": 500}, {\"showLink\": true, \"linkText\": \"Export to plot.ly\"})});</script>"
      ]
     },
     "metadata": {},
     "output_type": "display_data"
    }
   ],
   "source": [
    "prevalences = prevalences.sort_values(ascending=True)\n",
    "trace = go.Bar(\n",
    "    x=prevalences.values,\n",
    "    y=prevalences.index.values,\n",
    "    orientation='h')\n",
    "data = [trace]\n",
    "layout = go.Layout(title='Prevalence of Behavior Problems',\n",
    "                   xaxis=dict(title='Prevalence (%)'),\n",
    "                   yaxis=dict(title='Behavior Problem',\n",
    "                              automargin=True,\n",
    "                              tickangle=30,\n",
    "                              tickprefix=' ',\n",
    "                              ticksuffix=' '),\n",
    "                   width=700,\n",
    "                   height=500\n",
    "                  )\n",
    "fig = dict(data=data, layout=layout)\n",
    "py.iplot(fig)"
   ]
  },
  {
   "cell_type": "markdown",
   "metadata": {},
   "source": [
    "### 3.3 Aggression"
   ]
  },
  {
   "cell_type": "code",
   "execution_count": 6,
   "metadata": {},
   "outputs": [
    {
     "data": {
      "application/vnd.plotly.v1+json": {
       "data": [
        {
         "orientation": "h",
         "type": "bar",
         "x": [
          29,
          47,
          140,
          149,
          257,
          290,
          329,
          333,
          351,
          387,
          602
         ],
         "y": [
          "trainers",
          "groomers",
          "veterinarians",
          "animals other than dogs in the home",
          "familiar people in the home",
          "stangers away from the home",
          "unfamiliar dogs visiting the home",
          "unfamilair dogs on walks (off lead)",
          "stangers visiting the home",
          "another dog in the home",
          "unfamilair dogs on walks (on lead)"
         ]
        }
       ],
       "layout": {
        "height": 500,
        "title": "Types of Aggression",
        "width": 700,
        "xaxis": {
         "title": "Count"
        },
        "yaxis": {
         "automargin": true,
         "tickangle": 30,
         "tickprefix": " ",
         "ticksuffix": " ",
         "title": "Type"
        }
       }
      },
      "text/html": [
       "<div id=\"4d260ed0-71f7-4788-bc40-7d7a49f48329\" style=\"height: 500px; width: 700px;\" class=\"plotly-graph-div\"></div><script type=\"text/javascript\">require([\"plotly\"], function(Plotly) { window.PLOTLYENV=window.PLOTLYENV || {};window.PLOTLYENV.BASE_URL=\"https://plot.ly\";Plotly.newPlot(\"4d260ed0-71f7-4788-bc40-7d7a49f48329\", [{\"type\": \"bar\", \"x\": [29, 47, 140, 149, 257, 290, 329, 333, 351, 387, 602], \"y\": [\"trainers\", \"groomers\", \"veterinarians\", \"animals other than dogs in the home\", \"familiar people in the home\", \"stangers away from the home\", \"unfamiliar dogs visiting the home\", \"unfamilair dogs on walks (off lead)\", \"stangers visiting the home\", \"another dog in the home\", \"unfamilair dogs on walks (on lead)\"], \"orientation\": \"h\"}], {\"title\": \"Types of Aggression\", \"xaxis\": {\"title\": \"Count\"}, \"yaxis\": {\"title\": \"Type\", \"automargin\": true, \"tickangle\": 30, \"tickprefix\": \" \", \"ticksuffix\": \" \"}, \"width\": 700, \"height\": 500}, {\"showLink\": true, \"linkText\": \"Export to plot.ly\"})});</script>"
      ],
      "text/vnd.plotly.v1+html": [
       "<div id=\"4d260ed0-71f7-4788-bc40-7d7a49f48329\" style=\"height: 500px; width: 700px;\" class=\"plotly-graph-div\"></div><script type=\"text/javascript\">require([\"plotly\"], function(Plotly) { window.PLOTLYENV=window.PLOTLYENV || {};window.PLOTLYENV.BASE_URL=\"https://plot.ly\";Plotly.newPlot(\"4d260ed0-71f7-4788-bc40-7d7a49f48329\", [{\"type\": \"bar\", \"x\": [29, 47, 140, 149, 257, 290, 329, 333, 351, 387, 602], \"y\": [\"trainers\", \"groomers\", \"veterinarians\", \"animals other than dogs in the home\", \"familiar people in the home\", \"stangers away from the home\", \"unfamiliar dogs visiting the home\", \"unfamilair dogs on walks (off lead)\", \"stangers visiting the home\", \"another dog in the home\", \"unfamilair dogs on walks (on lead)\"], \"orientation\": \"h\"}], {\"title\": \"Types of Aggression\", \"xaxis\": {\"title\": \"Count\"}, \"yaxis\": {\"title\": \"Type\", \"automargin\": true, \"tickangle\": 30, \"tickprefix\": \" \", \"ticksuffix\": \" \"}, \"width\": 700, \"height\": 500}, {\"showLink\": true, \"linkText\": \"Export to plot.ly\"})});</script>"
      ]
     },
     "metadata": {},
     "output_type": "display_data"
    }
   ],
   "source": [
    "# Create the necessary dataframe.\n",
    "query = ('SELECT question_reason_for_part_3, q03_main_1, q03_main_2, q03_main_3, '\n",
    "         'q03_main_4, q03_main_5, q03_main_6, q03_main_7, q03_main_8, q03_main_9, '\n",
    "         'q03_main_10, q03_main_11 FROM users JOIN dogs '\n",
    "         'USING(record_id)')\n",
    "df = pd.read_sql_query(query, con)\n",
    "df.columns = ['suspicion', 'familiar people in the home', 'stangers visiting the home',\n",
    "              'stangers away from the home', 'another dog in the home',\n",
    "              'unfamiliar dogs visiting the home', 'unfamilair dogs on walks (off lead)',\n",
    "              'unfamilair dogs on walks (on lead)', 'veterinarians', 'trainers', 'groomers',\n",
    "              'animals other than dogs in the home']\n",
    "\n",
    "# Remove biased results and discard suspicion column.\n",
    "df = df[df['suspicion'] == '0']\n",
    "df.drop('suspicion', axis=1, inplace=True)\n",
    "\n",
    "# Convert columns to integer type.\n",
    "for col in df:\n",
    "    df[col] = pd.to_numeric(df[col])\n",
    "\n",
    "# Get individual behavior problem counts and display as a table.\n",
    "sums = df.sum()\n",
    "sums = sums.sort_values(ascending=True)\n",
    "\n",
    "# Generate a bar graph.\n",
    "data = [go.Bar(x=sums.values,\n",
    "                y=sums.index.values,\n",
    "                orientation='h')]\n",
    "layout = go.Layout(title='Types of Aggression',\n",
    "                   xaxis=dict(title='Count'),\n",
    "                   yaxis=dict(title='Type',\n",
    "                              automargin=True,\n",
    "                              tickangle=30,\n",
    "                              tickprefix=' ',\n",
    "                              ticksuffix=' '),\n",
    "                   width=700,\n",
    "                   height=500\n",
    "                  )\n",
    "fig = dict(data=data, layout=layout)\n",
    "py.iplot(fig)"
   ]
  },
  {
   "cell_type": "markdown",
   "metadata": {},
   "source": [
    "### 3.4 Fear/Anxiety"
   ]
  },
  {
   "cell_type": "code",
   "execution_count": 7,
   "metadata": {},
   "outputs": [
    {
     "data": {
      "application/vnd.plotly.v1+json": {
       "data": [
        {
         "orientation": "h",
         "type": "bar",
         "x": [
          158,
          202,
          321,
          382,
          387,
          485,
          524,
          623,
          652,
          664,
          703
         ],
         "y": [
          "PTSD",
          "other",
          "general anxiety",
          "phobia of other dogs",
          "travel anxiety",
          "separation anxiety",
          "thunderstorm phobia",
          "veterinarian phobia",
          "noise phobia",
          "situational anxiety",
          "crowd phobia"
         ]
        }
       ],
       "layout": {
        "height": 500,
        "title": "Types of Fear/Anxiety",
        "width": 700,
        "xaxis": {
         "title": "Count"
        },
        "yaxis": {
         "automargin": true,
         "tickangle": 30,
         "tickprefix": " ",
         "ticksuffix": " ",
         "title": "Type"
        }
       }
      },
      "text/html": [
       "<div id=\"a4d1de5a-2484-49ff-b251-26ba41d59c77\" style=\"height: 500px; width: 700px;\" class=\"plotly-graph-div\"></div><script type=\"text/javascript\">require([\"plotly\"], function(Plotly) { window.PLOTLYENV=window.PLOTLYENV || {};window.PLOTLYENV.BASE_URL=\"https://plot.ly\";Plotly.newPlot(\"a4d1de5a-2484-49ff-b251-26ba41d59c77\", [{\"type\": \"bar\", \"x\": [158, 202, 321, 382, 387, 485, 524, 623, 652, 664, 703], \"y\": [\"PTSD\", \"other\", \"general anxiety\", \"phobia of other dogs\", \"travel anxiety\", \"separation anxiety\", \"thunderstorm phobia\", \"veterinarian phobia\", \"noise phobia\", \"situational anxiety\", \"crowd phobia\"], \"orientation\": \"h\"}], {\"title\": \"Types of Fear/Anxiety\", \"xaxis\": {\"title\": \"Count\"}, \"yaxis\": {\"title\": \"Type\", \"automargin\": true, \"tickangle\": 30, \"tickprefix\": \" \", \"ticksuffix\": \" \"}, \"width\": 700, \"height\": 500}, {\"showLink\": true, \"linkText\": \"Export to plot.ly\"})});</script>"
      ],
      "text/vnd.plotly.v1+html": [
       "<div id=\"a4d1de5a-2484-49ff-b251-26ba41d59c77\" style=\"height: 500px; width: 700px;\" class=\"plotly-graph-div\"></div><script type=\"text/javascript\">require([\"plotly\"], function(Plotly) { window.PLOTLYENV=window.PLOTLYENV || {};window.PLOTLYENV.BASE_URL=\"https://plot.ly\";Plotly.newPlot(\"a4d1de5a-2484-49ff-b251-26ba41d59c77\", [{\"type\": \"bar\", \"x\": [158, 202, 321, 382, 387, 485, 524, 623, 652, 664, 703], \"y\": [\"PTSD\", \"other\", \"general anxiety\", \"phobia of other dogs\", \"travel anxiety\", \"separation anxiety\", \"thunderstorm phobia\", \"veterinarian phobia\", \"noise phobia\", \"situational anxiety\", \"crowd phobia\"], \"orientation\": \"h\"}], {\"title\": \"Types of Fear/Anxiety\", \"xaxis\": {\"title\": \"Count\"}, \"yaxis\": {\"title\": \"Type\", \"automargin\": true, \"tickangle\": 30, \"tickprefix\": \" \", \"ticksuffix\": \" \"}, \"width\": 700, \"height\": 500}, {\"showLink\": true, \"linkText\": \"Export to plot.ly\"})});</script>"
      ]
     },
     "metadata": {},
     "output_type": "display_data"
    }
   ],
   "source": [
    "# Create the necessary dataframe.\n",
    "query = ('SELECT question_reason_for_part_3, q04_1, q04_2, q04_3, q04_4, q04_5, q04_6, '\n",
    "         'q04_7, q04_8, q04_9, q04_10, q04_11 FROM users JOIN dogs USING(record_id)')\n",
    "df = pd.read_sql_query(query, con)\n",
    "df.columns = ['suspicion', 'thunderstorm phobia', 'noise phobia', 'crowd phobia',\n",
    "              'phobia of other dogs', 'PTSD',\n",
    "              'general anxiety', 'situational anxiety', 'veterinarian phobia',\n",
    "              'separation anxiety', 'travel anxiety', 'other']\n",
    "\n",
    "# Remove biased results and discard suspicion column.\n",
    "df = df[df['suspicion'] == '0']\n",
    "df.drop('suspicion', axis=1, inplace=True)\n",
    "\n",
    "# Convert columns to integer type.\n",
    "for col in df:\n",
    "    df[col] = pd.to_numeric(df[col])\n",
    "\n",
    "# Get individual behavior problem counts and display as a table.\n",
    "sums = df.sum()\n",
    "sums = sums.sort_values(ascending=True)\n",
    "\n",
    "# Generate a bar graph.\n",
    "data = [go.Bar(x=sums.values,\n",
    "                y=sums.index.values,\n",
    "                orientation='h')]\n",
    "layout = go.Layout(title='Types of Fear/Anxiety',\n",
    "                   xaxis=dict(title='Count'),\n",
    "                   yaxis=dict(title='Type',\n",
    "                              automargin=True,\n",
    "                              tickangle=30,\n",
    "                              tickprefix=' ',\n",
    "                              ticksuffix=' '),\n",
    "                   width=700,\n",
    "                   height=500\n",
    "                  )\n",
    "fig = dict(data=data, layout=layout)\n",
    "py.iplot(fig)"
   ]
  },
  {
   "cell_type": "markdown",
   "metadata": {},
   "source": [
    "### 3.5 Compulsion"
   ]
  },
  {
   "cell_type": "code",
   "execution_count": 8,
   "metadata": {},
   "outputs": [
    {
     "data": {
      "application/vnd.plotly.v1+json": {
       "data": [
        {
         "orientation": "h",
         "type": "bar",
         "x": [
          21,
          27,
          33,
          36,
          52,
          59,
          67,
          71,
          72,
          87,
          94,
          114,
          293
         ],
         "y": [
          "fly snapping",
          "stone/rock chewing",
          "collecting/arranging objects",
          "running in geometric patterns",
          "sucking flank region/blankets",
          "shadow/light chasing",
          "nail biting",
          "spinning",
          "tennis ball fetish",
          "other",
          "digging in yard",
          "tail chasing",
          "licking of wrist/hock"
         ]
        }
       ],
       "layout": {
        "height": 500,
        "title": "Types of Compulsion",
        "width": 700,
        "xaxis": {
         "title": "Count"
        },
        "yaxis": {
         "automargin": true,
         "tickangle": 30,
         "tickprefix": " ",
         "ticksuffix": " ",
         "title": "Type"
        }
       }
      },
      "text/html": [
       "<div id=\"b4880eed-5e6f-4166-89bd-9f7b0a34cf38\" style=\"height: 500px; width: 700px;\" class=\"plotly-graph-div\"></div><script type=\"text/javascript\">require([\"plotly\"], function(Plotly) { window.PLOTLYENV=window.PLOTLYENV || {};window.PLOTLYENV.BASE_URL=\"https://plot.ly\";Plotly.newPlot(\"b4880eed-5e6f-4166-89bd-9f7b0a34cf38\", [{\"type\": \"bar\", \"x\": [21, 27, 33, 36, 52, 59, 67, 71, 72, 87, 94, 114, 293], \"y\": [\"fly snapping\", \"stone/rock chewing\", \"collecting/arranging objects\", \"running in geometric patterns\", \"sucking flank region/blankets\", \"shadow/light chasing\", \"nail biting\", \"spinning\", \"tennis ball fetish\", \"other\", \"digging in yard\", \"tail chasing\", \"licking of wrist/hock\"], \"orientation\": \"h\"}], {\"title\": \"Types of Compulsion\", \"xaxis\": {\"title\": \"Count\"}, \"yaxis\": {\"title\": \"Type\", \"automargin\": true, \"tickangle\": 30, \"tickprefix\": \" \", \"ticksuffix\": \" \"}, \"width\": 700, \"height\": 500}, {\"showLink\": true, \"linkText\": \"Export to plot.ly\"})});</script>"
      ],
      "text/vnd.plotly.v1+html": [
       "<div id=\"b4880eed-5e6f-4166-89bd-9f7b0a34cf38\" style=\"height: 500px; width: 700px;\" class=\"plotly-graph-div\"></div><script type=\"text/javascript\">require([\"plotly\"], function(Plotly) { window.PLOTLYENV=window.PLOTLYENV || {};window.PLOTLYENV.BASE_URL=\"https://plot.ly\";Plotly.newPlot(\"b4880eed-5e6f-4166-89bd-9f7b0a34cf38\", [{\"type\": \"bar\", \"x\": [21, 27, 33, 36, 52, 59, 67, 71, 72, 87, 94, 114, 293], \"y\": [\"fly snapping\", \"stone/rock chewing\", \"collecting/arranging objects\", \"running in geometric patterns\", \"sucking flank region/blankets\", \"shadow/light chasing\", \"nail biting\", \"spinning\", \"tennis ball fetish\", \"other\", \"digging in yard\", \"tail chasing\", \"licking of wrist/hock\"], \"orientation\": \"h\"}], {\"title\": \"Types of Compulsion\", \"xaxis\": {\"title\": \"Count\"}, \"yaxis\": {\"title\": \"Type\", \"automargin\": true, \"tickangle\": 30, \"tickprefix\": \" \", \"ticksuffix\": \" \"}, \"width\": 700, \"height\": 500}, {\"showLink\": true, \"linkText\": \"Export to plot.ly\"})});</script>"
      ]
     },
     "metadata": {},
     "output_type": "display_data"
    }
   ],
   "source": [
    "# Create the necessary dataframe.\n",
    "query = ('SELECT question_reason_for_part_3, q05_main_1, q05_main_2, q05_main_3, '\n",
    "         'q05_main_4, q05_main_5, q05_main_6, q05_main_7, q05_main_8, q05_main_9, '\n",
    "         'q05_main_10, q05_main_11, q05_main_12, q05_main_13 FROM users JOIN dogs '\n",
    "         'USING(record_id)')\n",
    "df = pd.read_sql_query(query, con)\n",
    "df.columns = ['suspicion', 'spinning', 'tail chasing', 'shadow/light chasing',\n",
    "              'running in geometric patterns', 'licking of wrist/hock', 'fly snapping',\n",
    "              'sucking flank region/blankets', 'tennis ball fetish',\n",
    "              'collecting/arranging objects', 'nail biting', 'digging in yard',\n",
    "              'stone/rock chewing', 'other']\n",
    "\n",
    "# Remove biased results and discard suspicion column.\n",
    "df = df[df['suspicion'] == '0']\n",
    "df.drop('suspicion', axis=1, inplace=True)\n",
    "\n",
    "# Convert columns to integer type.\n",
    "for col in df:\n",
    "    df[col] = pd.to_numeric(df[col])\n",
    "\n",
    "# Get individual behavior problem counts and display as a table.\n",
    "sums = df.sum()\n",
    "sums = sums.sort_values(ascending=True)\n",
    "\n",
    "# Generate a bar graph.\n",
    "data = [go.Bar(x=sums.values,\n",
    "                y=sums.index.values,\n",
    "                orientation='h')]\n",
    "layout = go.Layout(title='Types of Compulsion',\n",
    "                   xaxis=dict(title='Count'),\n",
    "                   yaxis=dict(title='Type',\n",
    "                              automargin=True,\n",
    "                              tickangle=30,\n",
    "                              tickprefix=' ',\n",
    "                              ticksuffix=' '),\n",
    "                   width=700,\n",
    "                   height=500\n",
    "                  )\n",
    "fig = dict(data=data, layout=layout)\n",
    "py.iplot(fig)"
   ]
  },
  {
   "cell_type": "markdown",
   "metadata": {},
   "source": [
    "## 4. Reasons for Joining the Study"
   ]
  },
  {
   "cell_type": "markdown",
   "metadata": {},
   "source": [
    "### 4.1 Graphical representation of reasons for joining the study:"
   ]
  },
  {
   "cell_type": "code",
   "execution_count": 9,
   "metadata": {},
   "outputs": [
    {
     "data": {
      "application/vnd.plotly.v1+json": {
       "data": [
        {
         "orientation": "h",
         "type": "bar",
         "x": [
          273,
          830,
          1049,
          1377,
          2595
         ],
         "y": [
          "other",
          "suspicion of behavior problems",
          "work with animals",
          "to help shelter animals",
          "love for dogs"
         ]
        }
       ],
       "layout": {
        "height": 500,
        "title": "Motivation for Participation",
        "width": 700,
        "xaxis": {
         "title": "Count"
        },
        "yaxis": {
         "automargin": true,
         "tickangle": 30,
         "tickprefix": " ",
         "ticksuffix": " ",
         "title": "Motivation"
        }
       }
      },
      "text/html": [
       "<div id=\"0099012c-c5d8-46a6-a4f7-18757db46175\" style=\"height: 500px; width: 700px;\" class=\"plotly-graph-div\"></div><script type=\"text/javascript\">require([\"plotly\"], function(Plotly) { window.PLOTLYENV=window.PLOTLYENV || {};window.PLOTLYENV.BASE_URL=\"https://plot.ly\";Plotly.newPlot(\"0099012c-c5d8-46a6-a4f7-18757db46175\", [{\"type\": \"bar\", \"y\": [\"other\", \"suspicion of behavior problems\", \"work with animals\", \"to help shelter animals\", \"love for dogs\"], \"x\": [273, 830, 1049, 1377, 2595], \"orientation\": \"h\"}], {\"title\": \"Motivation for Participation\", \"xaxis\": {\"title\": \"Count\"}, \"yaxis\": {\"title\": \"Motivation\", \"automargin\": true, \"tickangle\": 30, \"tickprefix\": \" \", \"ticksuffix\": \" \"}, \"width\": 700, \"height\": 500}, {\"showLink\": true, \"linkText\": \"Export to plot.ly\"})});</script>"
      ],
      "text/vnd.plotly.v1+html": [
       "<div id=\"0099012c-c5d8-46a6-a4f7-18757db46175\" style=\"height: 500px; width: 700px;\" class=\"plotly-graph-div\"></div><script type=\"text/javascript\">require([\"plotly\"], function(Plotly) { window.PLOTLYENV=window.PLOTLYENV || {};window.PLOTLYENV.BASE_URL=\"https://plot.ly\";Plotly.newPlot(\"0099012c-c5d8-46a6-a4f7-18757db46175\", [{\"type\": \"bar\", \"y\": [\"other\", \"suspicion of behavior problems\", \"work with animals\", \"to help shelter animals\", \"love for dogs\"], \"x\": [273, 830, 1049, 1377, 2595], \"orientation\": \"h\"}], {\"title\": \"Motivation for Participation\", \"xaxis\": {\"title\": \"Count\"}, \"yaxis\": {\"title\": \"Motivation\", \"automargin\": true, \"tickangle\": 30, \"tickprefix\": \" \", \"ticksuffix\": \" \"}, \"width\": 700, \"height\": 500}, {\"showLink\": true, \"linkText\": \"Export to plot.ly\"})});</script>"
      ]
     },
     "metadata": {},
     "output_type": "display_data"
    }
   ],
   "source": [
    "# Create the necessary dataframe.\n",
    "query = ('SELECT question_reason_for_part_1, question_reason_for_part_2, '  \n",
    "         'question_reason_for_part_3, question_reason_for_part_4, '\n",
    "         'question_reason_for_part_5 FROM users')\n",
    "df = pd.read_sql_query(query, con)\n",
    "df.columns = ['love for dogs', 'to help shelter animals', 'suspicion of behavior problems',\n",
    "              'work with animals', 'other']\n",
    "for col in df:\n",
    "    df[col] = pd.to_numeric(df[col])\n",
    "    \n",
    "# Create a bar graph to illustrate breakdown of responses.\n",
    "sums = df.sum()\n",
    "sums = sums.sort_values(ascending=True)\n",
    "data = [go.Bar(y=sums.index.values,\n",
    "               x=sums.values,\n",
    "               orientation='h')]\n",
    "layout = go.Layout(title=\"Motivation for Participation\",\n",
    "                   xaxis=dict(title='Count'),\n",
    "                   yaxis=dict(title='Motivation',\n",
    "                              automargin=True,\n",
    "                              tickangle=30,\n",
    "                              tickprefix=' ',\n",
    "                              ticksuffix=' '),\n",
    "                   width=700,\n",
    "                   height=500)\n",
    "fig = go.Figure(data=data, layout=layout)\n",
    "py.iplot(fig)\n",
    "\n",
    "# NOTE: This does not include a count of users who did not provide a reason."
   ]
  },
  {
   "cell_type": "markdown",
   "metadata": {},
   "source": [
    "## ?. Separation Anxiety, Noise Phobia, and Thunderstorm Phobia"
   ]
  },
  {
   "cell_type": "markdown",
   "metadata": {},
   "source": [
    "### ?.1 Preparation of data"
   ]
  },
  {
   "cell_type": "code",
   "execution_count": 10,
   "metadata": {},
   "outputs": [
    {
     "data": {
      "image/png": "[encoded data removed]",
      "text/plain": [
       "<Figure size 432x288 with 1 Axes>"
      ]
     },
     "metadata": {},
     "output_type": "display_data"
    },
    {
     "name": "stdout",
     "output_type": "stream",
     "text": [
      "Chi-squared Test of Independence for thunderstorm phobia and noise phobia:\n",
      "chi2 = 1200.877626, p = 3.93E-263, dof = 1\n",
      "The resulting p-value is below the set significance threshold (0.01).\n"
     ]
    },
    {
     "data": {
      "image/png": "[encoded data removed]",
      "text/plain": [
       "<Figure size 432x288 with 1 Axes>"
      ]
     },
     "metadata": {},
     "output_type": "display_data"
    },
    {
     "name": "stdout",
     "output_type": "stream",
     "text": [
      "Chi-squared Test of Independence for thunderstorm phobia and separation anxiety:\n",
      "chi2 = 160.293122, p = 9.76E-37, dof = 1\n",
      "The resulting p-value is below the set significance threshold (0.01).\n"
     ]
    },
    {
     "data": {
      "image/png": "[encoded data removed]",
      "text/plain": [
       "<Figure size 432x288 with 1 Axes>"
      ]
     },
     "metadata": {},
     "output_type": "display_data"
    },
    {
     "name": "stdout",
     "output_type": "stream",
     "text": [
      "Chi-squared Test of Independence for noise phobia and separation anxiety:\n",
      "chi2 = 184.001984, p = 6.48E-42, dof = 1\n",
      "The resulting p-value is below the set significance threshold (0.01).\n"
     ]
    }
   ],
   "source": [
    "# Create the necessary dataframe.\n",
    "query = ('SELECT question_reason_for_part_3, q04_1, q04_2, q04_9 FROM users JOIN dogs '\n",
    "         'USING(record_id)')\n",
    "df = pd.read_sql_query(query, con)\n",
    "df.columns = ['suspicion', 'thunderstorm phobia', 'noise phobia', 'separation anxiety']\n",
    "\n",
    "# Remove biased results and discard suspicion column.\n",
    "df = df[df['suspicion'] == '0']\n",
    "df.drop('suspicion', axis=1, inplace=True)\n",
    "\n",
    "# Convert all columns to type integer.\n",
    "for col in df:\n",
    "    df[col] = pd.to_numeric(df[col])\n",
    "\n",
    "# Set a significance level.\n",
    "sig_p = 0.01\n",
    "\n",
    "pairs = [['thunderstorm phobia', 'noise phobia'],\n",
    "         ['thunderstorm phobia', 'separation anxiety'],\n",
    "         ['noise phobia', 'separation anxiety']]\n",
    "\n",
    "titles = ['Thunderstorm Phobia and Noise Phobia',\n",
    "          'Thunderstorm Phobia and Separation Anxiety',\n",
    "          'Noise Phobia and Separation Anxiety']\n",
    "\n",
    "counter = 0\n",
    "for pair in pairs:\n",
    "    # Create a contingency table.\n",
    "    contingency = pd.crosstab(df[pair[0]], df[pair[1]])\n",
    "    # Convert the cross tabulated dataframe to a series of sums.\n",
    "    d = {pair[0]: contingency[0][1],\n",
    "         pair[1]: contingency[1][0],\n",
    "         'both': contingency[1][1]}   \n",
    "    cross_sums = pd.Series(d)\n",
    "    # Display the cross tabulated data as a venn diagram.\n",
    "    labels = cross_sums.index.values\n",
    "    venn2(cross_sums, set_labels=labels[0:2])\n",
    "    plt.title(titles[counter])\n",
    "    plt.show()\n",
    "    # Execute a chi-squared test of independence.\n",
    "    print('Chi-squared Test of Independence for %s and %s:' %(pair[0], pair[1]))\n",
    "    c, p, dof, expected = scs.chi2_contingency(contingency, correction=False)\n",
    "    print('chi2 = %f, p = %.2E, dof = %d' %(c, p, dof))\n",
    "    if p < sig_p:\n",
    "        print('The resulting p-value is below the set significance threshold (%.2f).' %sig_p)\n",
    "    counter += 1"
   ]
  },
  {
   "cell_type": "markdown",
   "metadata": {},
   "source": [
    "### ?.2 Further exploration"
   ]
  },
  {
   "cell_type": "code",
   "execution_count": 11,
   "metadata": {},
   "outputs": [
    {
     "data": {
      "image/png": "[encoded data removed]",
      "text/plain": [
       "<Figure size 432x288 with 1 Axes>"
      ]
     },
     "metadata": {},
     "output_type": "display_data"
    },
    {
     "name": "stdout",
     "output_type": "stream",
     "text": [
      "Chi-squared Test of Independence for separation anxiety and the combination of noise and\n",
      "thunderstorm phobia:\n",
      "chi2 = 247.979410, p = 1.79E-53, dof = 3\n",
      "The resulting p-value is below the set significance threshold (0.01).\n"
     ]
    }
   ],
   "source": [
    "# Create a contingency table.\n",
    "contingency = pd.crosstab(df['separation anxiety'], [df['noise phobia'],\n",
    "                                                     df['thunderstorm phobia']])\n",
    "\n",
    "# Convert the cross tabulated dataframe to a series of sums.\n",
    "d = {'separation anxiety': contingency[0][0][1],\n",
    "     'noise phobia': contingency[1][0][0],\n",
    "     'separation-noise': contingency[1][0][1],\n",
    "     'thunderstorm phobia': contingency[0][1][0],\n",
    "     'separation-thunderstorm': contingency[0][1][1],\n",
    "     'noise-thunderstorm': contingency[1][1][0],     \n",
    "     'all': contingency[1][1][1]}   \n",
    "cross_sums = pd.Series(d)\n",
    "\n",
    "# Display the cross tabulated data as a venn diagram.\n",
    "labels = [cross_sums.index.values[i] for i in [0, 1, 3]]\n",
    "venn3(cross_sums, set_labels=labels)\n",
    "plt.title('Separation Anxiety, Noise Phobia, and Thunderstorm Phobia')\n",
    "plt.show()\n",
    "\n",
    "# Execute a chi-squared test of independence.\n",
    "title = ('Chi-squared Test of Independence for separation anxiety and the combination of '\n",
    "         'noise and thunderstorm phobia:')\n",
    "print(textwrap.fill(title, width=90))\n",
    "c, p, dof, expected = scs.chi2_contingency(contingency, correction=False)\n",
    "print('chi2 = %f, p = %.2E, dof = %d' %(c, p, dof))\n",
    "if p < sig_p:\n",
    "    print('The resulting p-value is below the set significance threshold (%.2f).' %sig_p)"
   ]
  },
  {
   "cell_type": "markdown",
   "metadata": {},
   "source": [
    "## ?. Compulsion and Fearful/Anxious Behaviors"
   ]
  },
  {
   "cell_type": "markdown",
   "metadata": {},
   "source": [
    "### ?.1 Preparation of data"
   ]
  },
  {
   "cell_type": "code",
   "execution_count": 12,
   "metadata": {},
   "outputs": [
    {
     "data": {
      "image/png": "[encoded data removed]",
      "text/plain": [
       "<Figure size 432x288 with 1 Axes>"
      ]
     },
     "metadata": {},
     "output_type": "display_data"
    }
   ],
   "source": [
    "# Create the necessary hdataframe.\n",
    "query = ('SELECT question_reason_for_part_3, q02_main_2, q02_main_3 FROM users JOIN dogs '\n",
    "         'USING(record_id)')\n",
    "df = pd.read_sql_query(query, con)\n",
    "df.columns = ['suspicion', 'fear/anxiety', 'compulsion']\n",
    "\n",
    "# Remove biased results and discard suspicion column.\n",
    "df = df[df['suspicion'] == '0']\n",
    "df.drop('suspicion', axis=1, inplace=True)\n",
    "\n",
    "# Convert all columns to type integer.\n",
    "for col in df:\n",
    "    df[col] = pd.to_numeric(df[col])\n",
    "\n",
    "# Cross tabulate the relevant columns.\n",
    "contingency = pd.crosstab(df['fear/anxiety'], df['compulsion'])\n",
    "\n",
    "# Convert the cross tabulated dataframe to a series of sums.\n",
    "d = {'fear/anxiety': contingency[0][1],\n",
    "     'compulsion': contingency[1][0],\n",
    "     'both': contingency[1][1]}   \n",
    "cross_sums = pd.Series(d)\n",
    "\n",
    "# Display the cross tabulated data as a venn diagram.\n",
    "labels = cross_sums.index.values\n",
    "venn2(cross_sums, set_labels=labels[0:2])\n",
    "plt.title('Fear/Anxiety and Compulsion')\n",
    "plt.show()"
   ]
  },
  {
   "cell_type": "code",
   "execution_count": 13,
   "metadata": {},
   "outputs": [
    {
     "name": "stdout",
     "output_type": "stream",
     "text": [
      "Chi-square Test of Independence:\n",
      "chi2 = 33.448407, p = 7.32E-09, dof = 1\n",
      "The resulting p-value is below the set significance threshold (0.01).\n"
     ]
    }
   ],
   "source": [
    "# Execute a chi-squared test of independence.\n",
    "c, p, dof, expected = scs.chi2_contingency(contingency, correction=False)\n",
    "print('Chi-square Test of Independence:')\n",
    "print('chi2 = %f, p = %.2E, dof = %d' %(c, p, dof))\n",
    "if p < sig_p:\n",
    "    print('The resulting p-value is below the set significance threshold (%.2f).' %sig_p)"
   ]
  },
  {
   "cell_type": "markdown",
   "metadata": {},
   "source": [
    "## ?. Aggression and Fearful/Anxious Behavior"
   ]
  },
  {
   "cell_type": "markdown",
   "metadata": {},
   "source": [
    "### ?.1 Preparation of data"
   ]
  },
  {
   "cell_type": "code",
   "execution_count": 14,
   "metadata": {},
   "outputs": [
    {
     "data": {
      "image/png": "[encoded data removed]",
      "text/plain": [
       "<Figure size 432x288 with 1 Axes>"
      ]
     },
     "metadata": {},
     "output_type": "display_data"
    },
    {
     "name": "stdout",
     "output_type": "stream",
     "text": [
      "Chi-square Test of Independence:\n",
      "chi2 = 88.721901, p = 4.54E-21, dof = 1\n",
      "The resulting p-value is below the set significance threshold (0.01).\n"
     ]
    }
   ],
   "source": [
    "# Create the necessary dataframe.\n",
    "query = ('SELECT question_reason_for_part_3, q02_main_1, q02_main_2 FROM users JOIN dogs '\n",
    "         'USING(record_id)')\n",
    "df = pd.read_sql_query(query, con)\n",
    "df.columns = ['suspicion', 'aggression', 'fear/anxiety']\n",
    "\n",
    "# Remove biased results and discard suspicion column.\n",
    "df = df[df['suspicion'] == '0']\n",
    "df.drop('suspicion', axis=1, inplace=True)\n",
    "\n",
    "# Convert all columns to type integer.\n",
    "for col in df:\n",
    "    df[col] = pd.to_numeric(df[col])\n",
    "    \n",
    "# Create a contingency table.\n",
    "contingency = pd.crosstab(df['aggression'], df['fear/anxiety'])\n",
    "\n",
    "# Convert the cross tabulated dataframe to a series of sums.\n",
    "d = {'aggresion': contingency[0][1],\n",
    "     'fear/anxiety': contingency[1][0],\n",
    "     'both': contingency[1][1]}   \n",
    "cross_sums = pd.Series(d)\n",
    "\n",
    "# Display the cross tabulated data as a venn diagram.\n",
    "labels = cross_sums.index.values\n",
    "venn2(cross_sums, set_labels=labels[0:2])\n",
    "plt.title('Aggression and Fear/Anxiety')\n",
    "plt.show()\n",
    "\n",
    "# Execute a chi-squared test of independence.\n",
    "c, p, dof, expected = scs.chi2_contingency(contingency, correction=False)\n",
    "print('Chi-square Test of Independence:')\n",
    "print('chi2 = %f, p = %.2E, dof = %d' %(c, p, dof))\n",
    "if p < sig_p:\n",
    "    print('The resulting p-value is below the set significance threshold (%.2f).' %sig_p)"
   ]
  }
 ],
 "metadata": {
  "kernelspec": {
   "display_name": "Python 3",
   "language": "python",
   "name": "python3"
  },
  "language_info": {
   "codemirror_mode": {
    "name": "ipython",
    "version": 3
   },
   "file_extension": ".py",
   "mimetype": "text/x-python",
   "name": "python",
   "nbconvert_exporter": "python",
   "pygments_lexer": "ipython3",
   "version": "3.6.3"
  }
 },
 "nbformat": 4,
 "nbformat_minor": 2
}
