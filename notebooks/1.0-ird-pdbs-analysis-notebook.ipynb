{
 "cells": [
  {
   "cell_type": "raw",
   "metadata": {},
   "source": [
    "<script>\n",
    "  function code_toggle() {\n",
    "    if (code_shown){\n",
    "      $('div.input').hide('500');\n",
    "      $('#toggleButton').val('Show Code')\n",
    "    } else {\n",
    "      $('div.input').show('500');\n",
    "      $('#toggleButton').val('Hide Code')\n",
    "    }\n",
    "    code_shown = !code_shown\n",
    "  }\n",
    "\n",
    "  $( document ).ready(function(){\n",
    "    code_shown=false;\n",
    "    $('div.input').hide()\n",
    "  });\n",
    "</script>\n",
    "<form action=\"javascript:code_toggle()\"><input type=\"submit\" id=\"toggleButton\" value=\"Show Code\"></form>"
   ]
  },
  {
   "cell_type": "markdown",
   "metadata": {},
   "source": [
    "# Pet Dog Behavior Study - Phase I"
   ]
  },
  {
   "cell_type": "code",
   "execution_count": 1,
   "metadata": {},
   "outputs": [
    {
     "data": {
      "text/html": [
       "<script>requirejs.config({paths: { 'plotly': ['https://cdn.plot.ly/plotly-latest.min']},});if(!window.Plotly) {{require(['plotly'],function(plotly) {window.Plotly=plotly;});}}</script>"
      ],
      "text/vnd.plotly.v1+html": [
       "<script>requirejs.config({paths: { 'plotly': ['https://cdn.plot.ly/plotly-latest.min']},});if(!window.Plotly) {{require(['plotly'],function(plotly) {window.Plotly=plotly;});}}</script>"
      ]
     },
     "metadata": {},
     "output_type": "display_data"
    }
   ],
   "source": [
    "import sqlite3\n",
    "import pandas as pd\n",
    "import plotly.offline as py\n",
    "import plotly.graph_objs as go\n",
    "from matplotlib_venn import venn2, venn3\n",
    "import scipy.stats as scs\n",
    "import textwrap\n",
    "import matplotlib.pyplot as plt\n",
    "import numpy as np\n",
    "import seaborn as sns\n",
    "\n",
    "# IPython magics for this notebook.\n",
    "%matplotlib inline\n",
    "\n",
    "# Initiate plotly IPython notebook mode.\n",
    "py.init_notebook_mode(connected=True)"
   ]
  },
  {
   "cell_type": "code",
   "execution_count": 2,
   "metadata": {},
   "outputs": [],
   "source": [
    "# Establish a connection to the database.\n",
    "con = sqlite3.connect('../data/processed/processed.db')\n",
    "\n",
    "# Establish bias filter.\n",
    "bias_filter = '''\n",
    "    JOIN users\n",
    "    USING (record_id)\n",
    "    WHERE (question_reason_for_part_3 = 0)'''\n",
    "\n",
    "# Global variables\n",
    "USER_TABLE = 'users'\n",
    "DOG_TABLE = 'dogs'\n",
    "sig_p = 0.01"
   ]
  },
  {
   "cell_type": "code",
   "execution_count": 3,
   "metadata": {},
   "outputs": [],
   "source": [
    "def convertToNumeric(df):\n",
    "    for col in df:\n",
    "        df[col] = pd.to_numeric(df[col])\n",
    "    return df\n",
    "\n",
    "def createDataFrame(table, fields, labels, filtered):\n",
    "    query = 'SELECT ' + fields + ' FROM ' + table\n",
    "    if filtered:\n",
    "        query += ' ' + bias_filter\n",
    "    df = pd.read_sql_query(query, con)\n",
    "    df.columns = labels\n",
    "    return convertToNumeric(df)"
   ]
  },
  {
   "cell_type": "markdown",
   "metadata": {},
   "source": [
    "## Reasons for Joining the Study"
   ]
  },
  {
   "cell_type": "code",
   "execution_count": 4,
   "metadata": {},
   "outputs": [
    {
     "data": {
      "application/vnd.plotly.v1+json": {
       "data": [
        {
         "orientation": "h",
         "type": "bar",
         "x": [
          273,
          830,
          1049,
          1377,
          2595
         ],
         "y": [
          "other",
          "suspicion of behavior problems",
          "work with animals",
          "to help shelter animals",
          "love for dogs"
         ]
        }
       ],
       "layout": {
        "height": 400,
        "title": "Motivation for Study Enrollment",
        "width": 600,
        "xaxis": {
         "title": "number of participants"
        },
        "yaxis": {
         "automargin": true,
         "tickangle": 30,
         "tickprefix": " ",
         "ticksuffix": " ",
         "title": ""
        }
       }
      },
      "text/html": [
       "<div id=\"5972031f-431f-43df-84bc-6dfe47d92117\" style=\"height: 400px; width: 600px;\" class=\"plotly-graph-div\"></div><script type=\"text/javascript\">require([\"plotly\"], function(Plotly) { window.PLOTLYENV=window.PLOTLYENV || {};window.PLOTLYENV.BASE_URL=\"https://plot.ly\";Plotly.newPlot(\"5972031f-431f-43df-84bc-6dfe47d92117\", [{\"type\": \"bar\", \"y\": [\"other\", \"suspicion of behavior problems\", \"work with animals\", \"to help shelter animals\", \"love for dogs\"], \"x\": [273, 830, 1049, 1377, 2595], \"orientation\": \"h\"}], {\"title\": \"Motivation for Study Enrollment\", \"xaxis\": {\"title\": \"number of participants\"}, \"yaxis\": {\"title\": \"\", \"automargin\": true, \"tickangle\": 30, \"tickprefix\": \" \", \"ticksuffix\": \" \"}, \"width\": 600, \"height\": 400}, {\"showLink\": true, \"linkText\": \"Export to plot.ly\"})});</script>"
      ],
      "text/vnd.plotly.v1+html": [
       "<div id=\"5972031f-431f-43df-84bc-6dfe47d92117\" style=\"height: 400px; width: 600px;\" class=\"plotly-graph-div\"></div><script type=\"text/javascript\">require([\"plotly\"], function(Plotly) { window.PLOTLYENV=window.PLOTLYENV || {};window.PLOTLYENV.BASE_URL=\"https://plot.ly\";Plotly.newPlot(\"5972031f-431f-43df-84bc-6dfe47d92117\", [{\"type\": \"bar\", \"y\": [\"other\", \"suspicion of behavior problems\", \"work with animals\", \"to help shelter animals\", \"love for dogs\"], \"x\": [273, 830, 1049, 1377, 2595], \"orientation\": \"h\"}], {\"title\": \"Motivation for Study Enrollment\", \"xaxis\": {\"title\": \"number of participants\"}, \"yaxis\": {\"title\": \"\", \"automargin\": true, \"tickangle\": 30, \"tickprefix\": \" \", \"ticksuffix\": \" \"}, \"width\": 600, \"height\": 400}, {\"showLink\": true, \"linkText\": \"Export to plot.ly\"})});</script>"
      ]
     },
     "metadata": {},
     "output_type": "display_data"
    }
   ],
   "source": [
    "# Create the necessary dataframe.\n",
    "fields = ('question_reason_for_part_1, question_reason_for_part_2, '\n",
    "          'question_reason_for_part_3, question_reason_for_part_4, '\n",
    "          'question_reason_for_part_5')\n",
    "labels = ['love for dogs', 'to help shelter animals', 'suspicion of behavior problems',\n",
    "          'work with animals', 'other']\n",
    "df = createDataFrame(USER_TABLE, fields, labels, filtered=False)\n",
    "    \n",
    "# Create a bar graph to illustrate breakdown of responses.\n",
    "sums = df.sum()\n",
    "sums = sums.sort_values(ascending=True)\n",
    "data = [go.Bar(y=sums.index.values,\n",
    "               x=sums.values,\n",
    "               orientation='h')]\n",
    "layout = go.Layout(title=\"Motivation for Study Enrollment\",\n",
    "                   xaxis=dict(title='number of participants'),\n",
    "                   yaxis=dict(title='',\n",
    "                              automargin=True,\n",
    "                              tickangle=30,\n",
    "                              tickprefix=' ',\n",
    "                              ticksuffix=' '),\n",
    "                   width=600,\n",
    "                   height=400)\n",
    "fig = go.Figure(data=data, layout=layout)\n",
    "py.iplot(fig)\n",
    "\n",
    "# NOTE: This does not include a count of users who did not provide a reason."
   ]
  },
  {
   "cell_type": "markdown",
   "metadata": {},
   "source": [
    "## Overall Prevalence of Behavior Problems\n",
    "\n",
    "Prevalence is defined as the proportion of a population found to be affected by a medical condition. This section aims to calculate the aggregate prevalence of the most common behavior problems in a given canine population."
   ]
  },
  {
   "cell_type": "markdown",
   "metadata": {},
   "source": [
    "### Gross and Adjusted Responses:"
   ]
  },
  {
   "cell_type": "code",
   "execution_count": 5,
   "metadata": {},
   "outputs": [
    {
     "name": "stdout",
     "output_type": "stream",
     "text": [
      "Total number of dogs: 5018\n",
      "Total number of dogs with a reported behavior problem: 4407\n",
      "Adjusted total number of dogs: 3749\n",
      "Adjusted total number of dogs with a reported behavior problem: 3207\n"
     ]
    }
   ],
   "source": [
    "# Create the necessary dataframe.\n",
    "query = '''\n",
    "    SELECT record_id, question_reason_for_part_3, q02_score\n",
    "    FROM users\n",
    "    JOIN dogs\n",
    "    USING(record_id)'''\n",
    "df_gross = pd.read_sql_query(query, con)\n",
    "df_gross.columns = ['id', 'suspicion', 'problems']\n",
    "\n",
    "# Get a count of the total number of dogs.\n",
    "cnt_total_dogs = len(df_gross.index)\n",
    "\n",
    "# Get a count of the dogs with reported behavior problem.\n",
    "# If the \"problems\" column does not equal zero, then a behavior problem was reported.\n",
    "cnt_total_dogs_w_problems = len(df_gross[df_gross['problems'] != '0'].index)\n",
    "\n",
    "# Create an adjusted dataframe by removing biased results.\n",
    "# A result is considered biased if a participant listed \"suspicion of a behavior problem\" as a\n",
    "# reason for joining the study.\n",
    "df_adjusted = df_gross[df_gross['suspicion'] == '0']\n",
    "\n",
    "# Get a count of the total number of dogs from the adjusted dataframe.\n",
    "cnt_total_dogs_adjusted = len(df_adjusted.index)\n",
    "\n",
    "# Get a count of the dogs with a reported behavior problem from the adjusted dataframe.\n",
    "cnt_total_dogs_w_problems_adjusted = len(df_adjusted[df_adjusted['problems'] != '0'].index)\n",
    "\n",
    "# Display the count results.\n",
    "print('Total number of dogs: %d' %cnt_total_dogs)\n",
    "print('Total number of dogs with a reported behavior problem: %d' %cnt_total_dogs_w_problems)\n",
    "print('Adjusted total number of dogs: %d' %cnt_total_dogs_adjusted)\n",
    "print('Adjusted total number of dogs with a reported behavior problem: %d'\n",
    "      %cnt_total_dogs_w_problems_adjusted)"
   ]
  },
  {
   "cell_type": "markdown",
   "metadata": {},
   "source": [
    "### Prevalence of Behavior Problems:"
   ]
  },
  {
   "cell_type": "code",
   "execution_count": 6,
   "metadata": {},
   "outputs": [
    {
     "name": "stdout",
     "output_type": "stream",
     "text": [
      "Gross prevalence: 87.82% (4407/5018)\n",
      "Adjusted prevalence: 85.54% (3207/3749)\n",
      "Shift in prevalence as a result of adjustment: -2.28%\n"
     ]
    }
   ],
   "source": [
    "# Calculate the gross prevalence.\n",
    "prevalence_gross = (cnt_total_dogs_w_problems / cnt_total_dogs) * 100\n",
    "\n",
    "# Calculate the adjusted prevalence.\n",
    "prevalence_adjusted = (cnt_total_dogs_w_problems_adjusted / cnt_total_dogs_adjusted) * 100\n",
    "\n",
    "# Calculate the difference between the gross and adjusted prevalence.\n",
    "diff_prevalence = prevalence_adjusted - prevalence_gross\n",
    "sign = '+' if diff_prevalence > 0 else ''\n",
    "\n",
    "# Display the prevalence results.\n",
    "print('Gross prevalence: %.2f%% (%d/%d)'\n",
    "      %(prevalence_gross, cnt_total_dogs_w_problems, cnt_total_dogs))\n",
    "print('Adjusted prevalence: %.2f%% (%d/%d)'\n",
    "      %(prevalence_adjusted, cnt_total_dogs_w_problems_adjusted, cnt_total_dogs_adjusted))\n",
    "print('Shift in prevalence as a result of adjustment: %s%.2f%%' %(sign, diff_prevalence))"
   ]
  },
  {
   "cell_type": "markdown",
   "metadata": {},
   "source": [
    "## Prevalence of Individual Behavior Problems\n",
    "\n",
    "This section aims to calculate the prevalence for each behavior problem included in the study. The adjusted dataset is utilized to eliminate potential bias."
   ]
  },
  {
   "cell_type": "code",
   "execution_count": 7,
   "metadata": {},
   "outputs": [
    {
     "data": {
      "application/vnd.plotly.v1+json": {
       "data": [
        {
         "cells": {
          "align": [
           "left",
           "left",
           "left",
           "left",
           "left"
          ],
          "format": [
           null,
           "d",
           ".2f"
          ],
          "values": [
           [
            "fear/anxiety",
            "aggression",
            "jumping",
            "excessive barking",
            "fecal consumption",
            "compulsion",
            "house soiling",
            "rolling in repulsive objects",
            "hyperactivity",
            "destruction",
            "escape",
            "mounting"
           ],
           [
            1647,
            1103,
            1045,
            674,
            648,
            571,
            548,
            463,
            456,
            435,
            401,
            392
           ],
           [
            43.931715124033076,
            29.42117898106162,
            27.874099759935984,
            17.978127500666844,
            17.284609229127767,
            15.230728194185117,
            14.617231261669778,
            12.349959989330488,
            12.16324353160843,
            11.60309415844225,
            10.696185649506534,
            10.456121632435316
           ]
          ]
         },
         "header": {
          "align": [
           "left",
           "left",
           "left",
           "left",
           "left"
          ],
          "fill": {
           "color": "#B0C4DE"
          },
          "values": [
           "Behavior Problem",
           "Number of Dogs",
           "Prevalence (%)"
          ]
         },
         "type": "table"
        }
       ],
       "layout": {
        "height": 375,
        "margin": {
         "b": 50,
         "l": 50,
         "pad": 4,
         "r": 50,
         "t": 50
        },
        "width": 700
       }
      },
      "text/html": [
       "<div id=\"495258c0-27c9-4d7f-90bf-72950a4c5b6b\" style=\"height: 375px; width: 700px;\" class=\"plotly-graph-div\"></div><script type=\"text/javascript\">require([\"plotly\"], function(Plotly) { window.PLOTLYENV=window.PLOTLYENV || {};window.PLOTLYENV.BASE_URL=\"https://plot.ly\";Plotly.newPlot(\"495258c0-27c9-4d7f-90bf-72950a4c5b6b\", [{\"type\": \"table\", \"header\": {\"values\": [\"Behavior Problem\", \"Number of Dogs\", \"Prevalence (%)\"], \"fill\": {\"color\": \"#B0C4DE\"}, \"align\": [\"left\", \"left\", \"left\", \"left\", \"left\"]}, \"cells\": {\"values\": [[\"fear/anxiety\", \"aggression\", \"jumping\", \"excessive barking\", \"fecal consumption\", \"compulsion\", \"house soiling\", \"rolling in repulsive objects\", \"hyperactivity\", \"destruction\", \"escape\", \"mounting\"], [1647, 1103, 1045, 674, 648, 571, 548, 463, 456, 435, 401, 392], [43.931715124033076, 29.42117898106162, 27.874099759935984, 17.978127500666844, 17.284609229127767, 15.230728194185117, 14.617231261669778, 12.349959989330488, 12.16324353160843, 11.60309415844225, 10.696185649506534, 10.456121632435316]], \"align\": [\"left\", \"left\", \"left\", \"left\", \"left\"], \"format\": [null, \"d\", \".2f\"]}}], {\"width\": 700, \"height\": 375, \"margin\": {\"l\": 50, \"r\": 50, \"b\": 50, \"t\": 50, \"pad\": 4}}, {\"showLink\": true, \"linkText\": \"Export to plot.ly\"})});</script>"
      ],
      "text/vnd.plotly.v1+html": [
       "<div id=\"495258c0-27c9-4d7f-90bf-72950a4c5b6b\" style=\"height: 375px; width: 700px;\" class=\"plotly-graph-div\"></div><script type=\"text/javascript\">require([\"plotly\"], function(Plotly) { window.PLOTLYENV=window.PLOTLYENV || {};window.PLOTLYENV.BASE_URL=\"https://plot.ly\";Plotly.newPlot(\"495258c0-27c9-4d7f-90bf-72950a4c5b6b\", [{\"type\": \"table\", \"header\": {\"values\": [\"Behavior Problem\", \"Number of Dogs\", \"Prevalence (%)\"], \"fill\": {\"color\": \"#B0C4DE\"}, \"align\": [\"left\", \"left\", \"left\", \"left\", \"left\"]}, \"cells\": {\"values\": [[\"fear/anxiety\", \"aggression\", \"jumping\", \"excessive barking\", \"fecal consumption\", \"compulsion\", \"house soiling\", \"rolling in repulsive objects\", \"hyperactivity\", \"destruction\", \"escape\", \"mounting\"], [1647, 1103, 1045, 674, 648, 571, 548, 463, 456, 435, 401, 392], [43.931715124033076, 29.42117898106162, 27.874099759935984, 17.978127500666844, 17.284609229127767, 15.230728194185117, 14.617231261669778, 12.349959989330488, 12.16324353160843, 11.60309415844225, 10.696185649506534, 10.456121632435316]], \"align\": [\"left\", \"left\", \"left\", \"left\", \"left\"], \"format\": [null, \"d\", \".2f\"]}}], {\"width\": 700, \"height\": 375, \"margin\": {\"l\": 50, \"r\": 50, \"b\": 50, \"t\": 50, \"pad\": 4}}, {\"showLink\": true, \"linkText\": \"Export to plot.ly\"})});</script>"
      ]
     },
     "metadata": {},
     "output_type": "display_data"
    }
   ],
   "source": [
    "# Create the necessary dataframe.\n",
    "fields = ('q02_main_1, q02_main_2, q02_main_3, q02_main_4, q02_main_5, q02_main_6, '\n",
    "          'q02_main_7, q02_main_8, q02_main_9, q02_main_10, q02_main_12, q02_main_13')\n",
    "labels = ['aggression', 'fear/anxiety', 'compulsion', 'house soiling', 'excessive barking', \n",
    "          'jumping', 'mounting', 'fecal consumption', 'destruction',\n",
    "          'rolling in repulsive objects', 'escape', 'hyperactivity']\n",
    "df = createDataFrame(DOG_TABLE, fields, labels, filtered=True)\n",
    "\n",
    "# Get individual behavior problem counts and display as a table.\n",
    "sums = df.sum()\n",
    "sums = sums.sort_values(ascending=False)\n",
    "\n",
    "# Calculate the prevalence of each behavior problem.\n",
    "total_dogs = len(df.index)\n",
    "prevalence_cal = lambda x: (x / total_dogs) * 100\n",
    "prevalences = sums.apply(prevalence_cal)\n",
    "\n",
    "# Get individual behavior problem counts and display as a table.\n",
    "trace = go.Table(\n",
    "    header=dict(values=['Behavior Problem', 'Number of Dogs', 'Prevalence (%)'],\n",
    "                fill = dict(color='#B0C4DE'),\n",
    "                align = ['left'] * 5),\n",
    "    cells=dict(values=[sums.index.values, sums.values, prevalences.values],\n",
    "               align = ['left'] * 5,\n",
    "               format = [None, 'd', '.2f']))\n",
    "data = [trace] \n",
    "layout = go.Layout(width=700, height=375, margin=go.Margin(l=50, r=50, b=50, t=50, pad=4))\n",
    "fig = dict(data=data, layout=layout)\n",
    "py.iplot(fig)"
   ]
  },
  {
   "cell_type": "code",
   "execution_count": 8,
   "metadata": {},
   "outputs": [
    {
     "data": {
      "application/vnd.plotly.v1+json": {
       "data": [
        {
         "orientation": "h",
         "type": "bar",
         "x": [
          10.456121632435316,
          10.696185649506534,
          11.60309415844225,
          12.16324353160843,
          12.349959989330488,
          14.617231261669778,
          15.230728194185117,
          17.284609229127767,
          17.978127500666844,
          27.874099759935984,
          29.42117898106162,
          43.931715124033076
         ],
         "y": [
          "mounting",
          "escape",
          "destruction",
          "hyperactivity",
          "rolling in repulsive objects",
          "house soiling",
          "compulsion",
          "fecal consumption",
          "excessive barking",
          "jumping",
          "aggression",
          "fear/anxiety"
         ]
        }
       ],
       "layout": {
        "height": 500,
        "title": "Prevalence of Behavior Problems",
        "width": 700,
        "xaxis": {
         "title": "prevalence (%)"
        },
        "yaxis": {
         "automargin": true,
         "tickangle": 30,
         "tickprefix": " ",
         "ticksuffix": " ",
         "title": ""
        }
       }
      },
      "text/html": [
       "<div id=\"7c4fb7b7-b38f-4734-bfbb-55b236827fe0\" style=\"height: 500px; width: 700px;\" class=\"plotly-graph-div\"></div><script type=\"text/javascript\">require([\"plotly\"], function(Plotly) { window.PLOTLYENV=window.PLOTLYENV || {};window.PLOTLYENV.BASE_URL=\"https://plot.ly\";Plotly.newPlot(\"7c4fb7b7-b38f-4734-bfbb-55b236827fe0\", [{\"type\": \"bar\", \"x\": [10.456121632435316, 10.696185649506534, 11.60309415844225, 12.16324353160843, 12.349959989330488, 14.617231261669778, 15.230728194185117, 17.284609229127767, 17.978127500666844, 27.874099759935984, 29.42117898106162, 43.931715124033076], \"y\": [\"mounting\", \"escape\", \"destruction\", \"hyperactivity\", \"rolling in repulsive objects\", \"house soiling\", \"compulsion\", \"fecal consumption\", \"excessive barking\", \"jumping\", \"aggression\", \"fear/anxiety\"], \"orientation\": \"h\"}], {\"title\": \"Prevalence of Behavior Problems\", \"xaxis\": {\"title\": \"prevalence (%)\"}, \"yaxis\": {\"title\": \"\", \"automargin\": true, \"tickangle\": 30, \"tickprefix\": \" \", \"ticksuffix\": \" \"}, \"width\": 700, \"height\": 500}, {\"showLink\": true, \"linkText\": \"Export to plot.ly\"})});</script>"
      ],
      "text/vnd.plotly.v1+html": [
       "<div id=\"7c4fb7b7-b38f-4734-bfbb-55b236827fe0\" style=\"height: 500px; width: 700px;\" class=\"plotly-graph-div\"></div><script type=\"text/javascript\">require([\"plotly\"], function(Plotly) { window.PLOTLYENV=window.PLOTLYENV || {};window.PLOTLYENV.BASE_URL=\"https://plot.ly\";Plotly.newPlot(\"7c4fb7b7-b38f-4734-bfbb-55b236827fe0\", [{\"type\": \"bar\", \"x\": [10.456121632435316, 10.696185649506534, 11.60309415844225, 12.16324353160843, 12.349959989330488, 14.617231261669778, 15.230728194185117, 17.284609229127767, 17.978127500666844, 27.874099759935984, 29.42117898106162, 43.931715124033076], \"y\": [\"mounting\", \"escape\", \"destruction\", \"hyperactivity\", \"rolling in repulsive objects\", \"house soiling\", \"compulsion\", \"fecal consumption\", \"excessive barking\", \"jumping\", \"aggression\", \"fear/anxiety\"], \"orientation\": \"h\"}], {\"title\": \"Prevalence of Behavior Problems\", \"xaxis\": {\"title\": \"prevalence (%)\"}, \"yaxis\": {\"title\": \"\", \"automargin\": true, \"tickangle\": 30, \"tickprefix\": \" \", \"ticksuffix\": \" \"}, \"width\": 700, \"height\": 500}, {\"showLink\": true, \"linkText\": \"Export to plot.ly\"})});</script>"
      ]
     },
     "metadata": {},
     "output_type": "display_data"
    }
   ],
   "source": [
    "prevalences = prevalences.sort_values(ascending=True)\n",
    "trace = go.Bar(\n",
    "    x=prevalences.values,\n",
    "    y=prevalences.index.values,\n",
    "    orientation='h')\n",
    "data = [trace]\n",
    "layout = go.Layout(title='Prevalence of Behavior Problems',\n",
    "                   xaxis=dict(title='prevalence (%)'),\n",
    "                   yaxis=dict(title='',\n",
    "                              automargin=True,\n",
    "                              tickangle=30,\n",
    "                              tickprefix=' ',\n",
    "                              ticksuffix=' '),\n",
    "                   width=700,\n",
    "                   height=500\n",
    "                  )\n",
    "fig = dict(data=data, layout=layout)\n",
    "py.iplot(fig)"
   ]
  },
  {
   "cell_type": "markdown",
   "metadata": {},
   "source": [
    "## Behavior Problem Compositions"
   ]
  },
  {
   "cell_type": "markdown",
   "metadata": {},
   "source": [
    "### Aggression"
   ]
  },
  {
   "cell_type": "code",
   "execution_count": 9,
   "metadata": {},
   "outputs": [
    {
     "data": {
      "application/vnd.plotly.v1+json": {
       "data": [
        {
         "cells": {
          "align": [
           "left",
           "left",
           "left",
           "left",
           "left"
          ],
          "format": [
           null,
           "d",
           ".2f"
          ],
          "values": [
           [
            "unfamilair dogs on walks (on lead)",
            "another dog in the home",
            "stangers visiting the home",
            "unfamilair dogs on walks (off lead)",
            "unfamiliar dogs visiting the home",
            "stangers away from the home",
            "familiar people in the home",
            "animals other than dogs in the home",
            "veterinarians",
            "groomers",
            "trainers"
           ],
           [
            602,
            387,
            351,
            333,
            329,
            290,
            257,
            149,
            140,
            47,
            29
           ],
           [
            16.057615364097092,
            10.322752734062417,
            9.36249666577754,
            8.882368631635103,
            8.775673512936784,
            7.735396105628167,
            6.855161376367032,
            3.9743931715124035,
            3.734329154441184,
            1.2536676447052548,
            0.7735396105628167
           ]
          ]
         },
         "columnwidth": [
          200,
          100,
          100
         ],
         "header": {
          "align": [
           "left",
           "left",
           "left",
           "left",
           "left"
          ],
          "fill": {
           "color": "#B0C4DE"
          },
          "values": [
           "Type of Aggression",
           "Number of Dogs",
           "Prevalence (%)"
          ]
         },
         "type": "table"
        }
       ],
       "layout": {
        "height": 350,
        "margin": {
         "b": 50,
         "l": 50,
         "pad": 4,
         "r": 50,
         "t": 50
        },
        "width": 700
       }
      },
      "text/html": [
       "<div id=\"04d4752c-b49a-4c13-a51f-112c5306f677\" style=\"height: 350px; width: 700px;\" class=\"plotly-graph-div\"></div><script type=\"text/javascript\">require([\"plotly\"], function(Plotly) { window.PLOTLYENV=window.PLOTLYENV || {};window.PLOTLYENV.BASE_URL=\"https://plot.ly\";Plotly.newPlot(\"04d4752c-b49a-4c13-a51f-112c5306f677\", [{\"type\": \"table\", \"columnwidth\": [200, 100, 100], \"header\": {\"values\": [\"Type of Aggression\", \"Number of Dogs\", \"Prevalence (%)\"], \"fill\": {\"color\": \"#B0C4DE\"}, \"align\": [\"left\", \"left\", \"left\", \"left\", \"left\"]}, \"cells\": {\"values\": [[\"unfamilair dogs on walks (on lead)\", \"another dog in the home\", \"stangers visiting the home\", \"unfamilair dogs on walks (off lead)\", \"unfamiliar dogs visiting the home\", \"stangers away from the home\", \"familiar people in the home\", \"animals other than dogs in the home\", \"veterinarians\", \"groomers\", \"trainers\"], [602, 387, 351, 333, 329, 290, 257, 149, 140, 47, 29], [16.057615364097092, 10.322752734062417, 9.36249666577754, 8.882368631635103, 8.775673512936784, 7.735396105628167, 6.855161376367032, 3.9743931715124035, 3.734329154441184, 1.2536676447052548, 0.7735396105628167]], \"align\": [\"left\", \"left\", \"left\", \"left\", \"left\"], \"format\": [null, \"d\", \".2f\"]}}], {\"width\": 700, \"height\": 350, \"margin\": {\"l\": 50, \"r\": 50, \"b\": 50, \"t\": 50, \"pad\": 4}}, {\"showLink\": true, \"linkText\": \"Export to plot.ly\"})});</script>"
      ],
      "text/vnd.plotly.v1+html": [
       "<div id=\"04d4752c-b49a-4c13-a51f-112c5306f677\" style=\"height: 350px; width: 700px;\" class=\"plotly-graph-div\"></div><script type=\"text/javascript\">require([\"plotly\"], function(Plotly) { window.PLOTLYENV=window.PLOTLYENV || {};window.PLOTLYENV.BASE_URL=\"https://plot.ly\";Plotly.newPlot(\"04d4752c-b49a-4c13-a51f-112c5306f677\", [{\"type\": \"table\", \"columnwidth\": [200, 100, 100], \"header\": {\"values\": [\"Type of Aggression\", \"Number of Dogs\", \"Prevalence (%)\"], \"fill\": {\"color\": \"#B0C4DE\"}, \"align\": [\"left\", \"left\", \"left\", \"left\", \"left\"]}, \"cells\": {\"values\": [[\"unfamilair dogs on walks (on lead)\", \"another dog in the home\", \"stangers visiting the home\", \"unfamilair dogs on walks (off lead)\", \"unfamiliar dogs visiting the home\", \"stangers away from the home\", \"familiar people in the home\", \"animals other than dogs in the home\", \"veterinarians\", \"groomers\", \"trainers\"], [602, 387, 351, 333, 329, 290, 257, 149, 140, 47, 29], [16.057615364097092, 10.322752734062417, 9.36249666577754, 8.882368631635103, 8.775673512936784, 7.735396105628167, 6.855161376367032, 3.9743931715124035, 3.734329154441184, 1.2536676447052548, 0.7735396105628167]], \"align\": [\"left\", \"left\", \"left\", \"left\", \"left\"], \"format\": [null, \"d\", \".2f\"]}}], {\"width\": 700, \"height\": 350, \"margin\": {\"l\": 50, \"r\": 50, \"b\": 50, \"t\": 50, \"pad\": 4}}, {\"showLink\": true, \"linkText\": \"Export to plot.ly\"})});</script>"
      ]
     },
     "metadata": {},
     "output_type": "display_data"
    }
   ],
   "source": [
    "# Create the necessary dataframe.\n",
    "fields = ('q03_main_1, q03_main_2, q03_main_3, q03_main_4, q03_main_5, q03_main_6, '\n",
    "          'q03_main_7, q03_main_8, q03_main_9, q03_main_10, q03_main_11')\n",
    "labels = ['familiar people in the home', 'stangers visiting the home',\n",
    "          'stangers away from the home', 'another dog in the home',\n",
    "          'unfamiliar dogs visiting the home', 'unfamilair dogs on walks (off lead)',\n",
    "          'unfamilair dogs on walks (on lead)', 'veterinarians', 'trainers', 'groomers',\n",
    "          'animals other than dogs in the home']\n",
    "df = createDataFrame(DOG_TABLE, fields, labels, filtered=True)\n",
    "\n",
    "# Get individual behavior problem counts and display as a table.\n",
    "sums = df.sum()\n",
    "sums = sums.sort_values(ascending=False)\n",
    "\n",
    "# Calculate the prevalence of each behavior problem.\n",
    "prevalence_cal = lambda x: (x / total_dogs) * 100\n",
    "prevalences = sums.apply(prevalence_cal)\n",
    "\n",
    "# Get individual behavior problem counts and display as a table.\n",
    "trace = go.Table(\n",
    "    columnwidth = [200, 100, 100],\n",
    "    header=dict(values=['Type of Aggression', 'Number of Dogs', 'Prevalence (%)'],\n",
    "                fill = dict(color='#B0C4DE'),\n",
    "                align = ['left'] * 5),\n",
    "    cells=dict(values=[sums.index.values, sums.values, prevalences.values],\n",
    "               align = ['left'] * 5,\n",
    "               format = [None, 'd', '.2f']))\n",
    "data = [trace] \n",
    "layout = go.Layout(width=700, height=350, margin=go.Margin(l=50, r=50, b=50, t=50, pad=4))\n",
    "fig = dict(data=data, layout=layout)\n",
    "py.iplot(fig)"
   ]
  },
  {
   "cell_type": "code",
   "execution_count": 10,
   "metadata": {},
   "outputs": [
    {
     "data": {
      "application/vnd.plotly.v1+json": {
       "data": [
        {
         "orientation": "h",
         "type": "bar",
         "x": [
          0.7735396105628167,
          1.2536676447052548,
          3.734329154441184,
          3.9743931715124035,
          6.855161376367032,
          7.735396105628167,
          8.775673512936784,
          8.882368631635103,
          9.36249666577754,
          10.322752734062417,
          16.057615364097092
         ],
         "y": [
          "trainers",
          "groomers",
          "veterinarians",
          "animals other than dogs in the home",
          "familiar people in the home",
          "stangers away from the home",
          "unfamiliar dogs visiting the home",
          "unfamilair dogs on walks (off lead)",
          "stangers visiting the home",
          "another dog in the home",
          "unfamilair dogs on walks (on lead)"
         ]
        }
       ],
       "layout": {
        "height": 500,
        "title": "Prevalence of Aggression",
        "width": 700,
        "xaxis": {
         "title": "prevalence (%)"
        },
        "yaxis": {
         "automargin": true,
         "tickangle": 30,
         "tickprefix": " ",
         "ticksuffix": " ",
         "title": ""
        }
       }
      },
      "text/html": [
       "<div id=\"c7d1dcca-ea22-47d2-9178-30544f60200c\" style=\"height: 500px; width: 700px;\" class=\"plotly-graph-div\"></div><script type=\"text/javascript\">require([\"plotly\"], function(Plotly) { window.PLOTLYENV=window.PLOTLYENV || {};window.PLOTLYENV.BASE_URL=\"https://plot.ly\";Plotly.newPlot(\"c7d1dcca-ea22-47d2-9178-30544f60200c\", [{\"type\": \"bar\", \"x\": [0.7735396105628167, 1.2536676447052548, 3.734329154441184, 3.9743931715124035, 6.855161376367032, 7.735396105628167, 8.775673512936784, 8.882368631635103, 9.36249666577754, 10.322752734062417, 16.057615364097092], \"y\": [\"trainers\", \"groomers\", \"veterinarians\", \"animals other than dogs in the home\", \"familiar people in the home\", \"stangers away from the home\", \"unfamiliar dogs visiting the home\", \"unfamilair dogs on walks (off lead)\", \"stangers visiting the home\", \"another dog in the home\", \"unfamilair dogs on walks (on lead)\"], \"orientation\": \"h\"}], {\"title\": \"Prevalence of Aggression\", \"xaxis\": {\"title\": \"prevalence (%)\"}, \"yaxis\": {\"title\": \"\", \"automargin\": true, \"tickangle\": 30, \"tickprefix\": \" \", \"ticksuffix\": \" \"}, \"width\": 700, \"height\": 500}, {\"showLink\": true, \"linkText\": \"Export to plot.ly\"})});</script>"
      ],
      "text/vnd.plotly.v1+html": [
       "<div id=\"c7d1dcca-ea22-47d2-9178-30544f60200c\" style=\"height: 500px; width: 700px;\" class=\"plotly-graph-div\"></div><script type=\"text/javascript\">require([\"plotly\"], function(Plotly) { window.PLOTLYENV=window.PLOTLYENV || {};window.PLOTLYENV.BASE_URL=\"https://plot.ly\";Plotly.newPlot(\"c7d1dcca-ea22-47d2-9178-30544f60200c\", [{\"type\": \"bar\", \"x\": [0.7735396105628167, 1.2536676447052548, 3.734329154441184, 3.9743931715124035, 6.855161376367032, 7.735396105628167, 8.775673512936784, 8.882368631635103, 9.36249666577754, 10.322752734062417, 16.057615364097092], \"y\": [\"trainers\", \"groomers\", \"veterinarians\", \"animals other than dogs in the home\", \"familiar people in the home\", \"stangers away from the home\", \"unfamiliar dogs visiting the home\", \"unfamilair dogs on walks (off lead)\", \"stangers visiting the home\", \"another dog in the home\", \"unfamilair dogs on walks (on lead)\"], \"orientation\": \"h\"}], {\"title\": \"Prevalence of Aggression\", \"xaxis\": {\"title\": \"prevalence (%)\"}, \"yaxis\": {\"title\": \"\", \"automargin\": true, \"tickangle\": 30, \"tickprefix\": \" \", \"ticksuffix\": \" \"}, \"width\": 700, \"height\": 500}, {\"showLink\": true, \"linkText\": \"Export to plot.ly\"})});</script>"
      ]
     },
     "metadata": {},
     "output_type": "display_data"
    }
   ],
   "source": [
    "# Generate a bar graph.\n",
    "prevalences = prevalences.sort_values(ascending=True)\n",
    "trace = go.Bar(\n",
    "    x=prevalences.values,\n",
    "    y=prevalences.index.values,\n",
    "    orientation='h')\n",
    "data = [trace]\n",
    "layout = go.Layout(title='Prevalence of Aggression',\n",
    "                   xaxis=dict(title='prevalence (%)'),\n",
    "                   yaxis=dict(title='',\n",
    "                              automargin=True,\n",
    "                              tickangle=30,\n",
    "                              tickprefix=' ',\n",
    "                              ticksuffix=' '),\n",
    "                   width=700,\n",
    "                   height=500\n",
    "                  )\n",
    "fig = dict(data=data, layout=layout)\n",
    "py.iplot(fig)"
   ]
  },
  {
   "cell_type": "markdown",
   "metadata": {},
   "source": [
    "### Fear/Anxiety"
   ]
  },
  {
   "cell_type": "code",
   "execution_count": 11,
   "metadata": {},
   "outputs": [
    {
     "data": {
      "application/vnd.plotly.v1+json": {
       "data": [
        {
         "cells": {
          "align": [
           "left",
           "left",
           "left",
           "left",
           "left"
          ],
          "format": [
           null,
           "d",
           ".2f"
          ],
          "values": [
           [
            "crowd phobia",
            "situational anxiety",
            "noise phobia",
            "veterinarian phobia",
            "thunderstorm phobia",
            "separation anxiety",
            "travel anxiety",
            "phobia of other dogs",
            "general anxiety",
            "other",
            "PTSD"
           ],
           [
            703,
            664,
            652,
            623,
            524,
            485,
            387,
            382,
            321,
            202,
            158
           ],
           [
            18.75166711122966,
            17.711389703921046,
            17.391304347826086,
            16.617764737263272,
            13.97706054947986,
            12.936783142171246,
            10.322752734062417,
            10.189383835689517,
            8.562283275540144,
            5.388103494265137,
            4.214457188583622
           ]
          ]
         },
         "columnwidth": [
          200,
          100,
          100
         ],
         "header": {
          "align": [
           "left",
           "left",
           "left",
           "left",
           "left"
          ],
          "fill": {
           "color": "#B0C4DE"
          },
          "values": [
           "Type of Fear/Anxiety",
           "Number of Dogs",
           "Prevalence (%)"
          ]
         },
         "type": "table"
        }
       ],
       "layout": {
        "height": 350,
        "margin": {
         "b": 50,
         "l": 50,
         "pad": 4,
         "r": 50,
         "t": 50
        },
        "width": 700
       }
      },
      "text/html": [
       "<div id=\"9417c164-d5f0-44da-bb47-8291778307ec\" style=\"height: 350px; width: 700px;\" class=\"plotly-graph-div\"></div><script type=\"text/javascript\">require([\"plotly\"], function(Plotly) { window.PLOTLYENV=window.PLOTLYENV || {};window.PLOTLYENV.BASE_URL=\"https://plot.ly\";Plotly.newPlot(\"9417c164-d5f0-44da-bb47-8291778307ec\", [{\"type\": \"table\", \"columnwidth\": [200, 100, 100], \"header\": {\"values\": [\"Type of Fear/Anxiety\", \"Number of Dogs\", \"Prevalence (%)\"], \"fill\": {\"color\": \"#B0C4DE\"}, \"align\": [\"left\", \"left\", \"left\", \"left\", \"left\"]}, \"cells\": {\"values\": [[\"crowd phobia\", \"situational anxiety\", \"noise phobia\", \"veterinarian phobia\", \"thunderstorm phobia\", \"separation anxiety\", \"travel anxiety\", \"phobia of other dogs\", \"general anxiety\", \"other\", \"PTSD\"], [703, 664, 652, 623, 524, 485, 387, 382, 321, 202, 158], [18.75166711122966, 17.711389703921046, 17.391304347826086, 16.617764737263272, 13.97706054947986, 12.936783142171246, 10.322752734062417, 10.189383835689517, 8.562283275540144, 5.388103494265137, 4.214457188583622]], \"align\": [\"left\", \"left\", \"left\", \"left\", \"left\"], \"format\": [null, \"d\", \".2f\"]}}], {\"width\": 700, \"height\": 350, \"margin\": {\"l\": 50, \"r\": 50, \"b\": 50, \"t\": 50, \"pad\": 4}}, {\"showLink\": true, \"linkText\": \"Export to plot.ly\"})});</script>"
      ],
      "text/vnd.plotly.v1+html": [
       "<div id=\"9417c164-d5f0-44da-bb47-8291778307ec\" style=\"height: 350px; width: 700px;\" class=\"plotly-graph-div\"></div><script type=\"text/javascript\">require([\"plotly\"], function(Plotly) { window.PLOTLYENV=window.PLOTLYENV || {};window.PLOTLYENV.BASE_URL=\"https://plot.ly\";Plotly.newPlot(\"9417c164-d5f0-44da-bb47-8291778307ec\", [{\"type\": \"table\", \"columnwidth\": [200, 100, 100], \"header\": {\"values\": [\"Type of Fear/Anxiety\", \"Number of Dogs\", \"Prevalence (%)\"], \"fill\": {\"color\": \"#B0C4DE\"}, \"align\": [\"left\", \"left\", \"left\", \"left\", \"left\"]}, \"cells\": {\"values\": [[\"crowd phobia\", \"situational anxiety\", \"noise phobia\", \"veterinarian phobia\", \"thunderstorm phobia\", \"separation anxiety\", \"travel anxiety\", \"phobia of other dogs\", \"general anxiety\", \"other\", \"PTSD\"], [703, 664, 652, 623, 524, 485, 387, 382, 321, 202, 158], [18.75166711122966, 17.711389703921046, 17.391304347826086, 16.617764737263272, 13.97706054947986, 12.936783142171246, 10.322752734062417, 10.189383835689517, 8.562283275540144, 5.388103494265137, 4.214457188583622]], \"align\": [\"left\", \"left\", \"left\", \"left\", \"left\"], \"format\": [null, \"d\", \".2f\"]}}], {\"width\": 700, \"height\": 350, \"margin\": {\"l\": 50, \"r\": 50, \"b\": 50, \"t\": 50, \"pad\": 4}}, {\"showLink\": true, \"linkText\": \"Export to plot.ly\"})});</script>"
      ]
     },
     "metadata": {},
     "output_type": "display_data"
    }
   ],
   "source": [
    "# Create the necessary dataframe.\n",
    "fields = 'q04_1, q04_2, q04_3, q04_4, q04_5, q04_6, q04_7, q04_8, q04_9, q04_10, q04_11'\n",
    "labels = ['thunderstorm phobia', 'noise phobia', 'crowd phobia', 'phobia of other dogs', \n",
    "          'PTSD', 'general anxiety', 'situational anxiety', 'veterinarian phobia',\n",
    "          'separation anxiety', 'travel anxiety', 'other']\n",
    "df = createDataFrame(DOG_TABLE, fields, labels, filtered=True)\n",
    "\n",
    "# Get individual behavior problem counts and display as a table.\n",
    "sums = df.sum()\n",
    "sums = sums.sort_values(ascending=False)\n",
    "\n",
    "# Calculate the prevalence of each behavior problem.\n",
    "prevalence_cal = lambda x: (x / total_dogs) * 100\n",
    "prevalences = sums.apply(prevalence_cal)\n",
    "\n",
    "# Get individual behavior problem counts and display as a table.\n",
    "trace = go.Table(\n",
    "    columnwidth = [200, 100, 100],\n",
    "    header=dict(values=['Type of Fear/Anxiety', 'Number of Dogs', 'Prevalence (%)'],\n",
    "                fill = dict(color='#B0C4DE'),\n",
    "                align = ['left'] * 5),\n",
    "    cells=dict(values=[sums.index.values, sums.values, prevalences.values],\n",
    "               align = ['left'] * 5,\n",
    "               format = [None, 'd', '.2f']))\n",
    "\n",
    "data = [trace] \n",
    "layout = go.Layout(width=700, height=350, margin=go.Margin(l=50, r=50, b=50, t=50, pad=4))\n",
    "fig = dict(data=data, layout=layout)\n",
    "py.iplot(fig)"
   ]
  },
  {
   "cell_type": "code",
   "execution_count": 12,
   "metadata": {},
   "outputs": [
    {
     "data": {
      "application/vnd.plotly.v1+json": {
       "data": [
        {
         "orientation": "h",
         "type": "bar",
         "x": [
          4.214457188583622,
          5.388103494265137,
          8.562283275540144,
          10.189383835689517,
          10.322752734062417,
          12.936783142171246,
          13.97706054947986,
          16.617764737263272,
          17.391304347826086,
          17.711389703921046,
          18.75166711122966
         ],
         "y": [
          "PTSD",
          "other",
          "general anxiety",
          "phobia of other dogs",
          "travel anxiety",
          "separation anxiety",
          "thunderstorm phobia",
          "veterinarian phobia",
          "noise phobia",
          "situational anxiety",
          "crowd phobia"
         ]
        }
       ],
       "layout": {
        "height": 500,
        "title": "Prevalence of Fear/Anxiety",
        "width": 700,
        "xaxis": {
         "title": "prevalence (%)"
        },
        "yaxis": {
         "automargin": true,
         "tickangle": 30,
         "tickprefix": " ",
         "ticksuffix": " ",
         "title": ""
        }
       }
      },
      "text/html": [
       "<div id=\"aaf98b4c-c699-4395-b1ea-e187872192c3\" style=\"height: 500px; width: 700px;\" class=\"plotly-graph-div\"></div><script type=\"text/javascript\">require([\"plotly\"], function(Plotly) { window.PLOTLYENV=window.PLOTLYENV || {};window.PLOTLYENV.BASE_URL=\"https://plot.ly\";Plotly.newPlot(\"aaf98b4c-c699-4395-b1ea-e187872192c3\", [{\"type\": \"bar\", \"x\": [4.214457188583622, 5.388103494265137, 8.562283275540144, 10.189383835689517, 10.322752734062417, 12.936783142171246, 13.97706054947986, 16.617764737263272, 17.391304347826086, 17.711389703921046, 18.75166711122966], \"y\": [\"PTSD\", \"other\", \"general anxiety\", \"phobia of other dogs\", \"travel anxiety\", \"separation anxiety\", \"thunderstorm phobia\", \"veterinarian phobia\", \"noise phobia\", \"situational anxiety\", \"crowd phobia\"], \"orientation\": \"h\"}], {\"title\": \"Prevalence of Fear/Anxiety\", \"xaxis\": {\"title\": \"prevalence (%)\"}, \"yaxis\": {\"title\": \"\", \"automargin\": true, \"tickangle\": 30, \"tickprefix\": \" \", \"ticksuffix\": \" \"}, \"width\": 700, \"height\": 500}, {\"showLink\": true, \"linkText\": \"Export to plot.ly\"})});</script>"
      ],
      "text/vnd.plotly.v1+html": [
       "<div id=\"aaf98b4c-c699-4395-b1ea-e187872192c3\" style=\"height: 500px; width: 700px;\" class=\"plotly-graph-div\"></div><script type=\"text/javascript\">require([\"plotly\"], function(Plotly) { window.PLOTLYENV=window.PLOTLYENV || {};window.PLOTLYENV.BASE_URL=\"https://plot.ly\";Plotly.newPlot(\"aaf98b4c-c699-4395-b1ea-e187872192c3\", [{\"type\": \"bar\", \"x\": [4.214457188583622, 5.388103494265137, 8.562283275540144, 10.189383835689517, 10.322752734062417, 12.936783142171246, 13.97706054947986, 16.617764737263272, 17.391304347826086, 17.711389703921046, 18.75166711122966], \"y\": [\"PTSD\", \"other\", \"general anxiety\", \"phobia of other dogs\", \"travel anxiety\", \"separation anxiety\", \"thunderstorm phobia\", \"veterinarian phobia\", \"noise phobia\", \"situational anxiety\", \"crowd phobia\"], \"orientation\": \"h\"}], {\"title\": \"Prevalence of Fear/Anxiety\", \"xaxis\": {\"title\": \"prevalence (%)\"}, \"yaxis\": {\"title\": \"\", \"automargin\": true, \"tickangle\": 30, \"tickprefix\": \" \", \"ticksuffix\": \" \"}, \"width\": 700, \"height\": 500}, {\"showLink\": true, \"linkText\": \"Export to plot.ly\"})});</script>"
      ]
     },
     "metadata": {},
     "output_type": "display_data"
    }
   ],
   "source": [
    "# Generate a bar graph.\n",
    "prevalences = prevalences.sort_values(ascending=True)\n",
    "trace = go.Bar(\n",
    "    x=prevalences.values,\n",
    "    y=prevalences.index.values,\n",
    "    orientation='h')\n",
    "data = [trace]\n",
    "layout = go.Layout(title='Prevalence of Fear/Anxiety',\n",
    "                   xaxis=dict(title='prevalence (%)'),\n",
    "                   yaxis=dict(title='',\n",
    "                              automargin=True,\n",
    "                              tickangle=30,\n",
    "                              tickprefix=' ',\n",
    "                              ticksuffix=' '),\n",
    "                   width=700,\n",
    "                   height=500\n",
    "                  )\n",
    "fig = dict(data=data, layout=layout)\n",
    "py.iplot(fig)"
   ]
  },
  {
   "cell_type": "markdown",
   "metadata": {},
   "source": [
    "### Compulsion"
   ]
  },
  {
   "cell_type": "code",
   "execution_count": 13,
   "metadata": {},
   "outputs": [
    {
     "data": {
      "application/vnd.plotly.v1+json": {
       "data": [
        {
         "cells": {
          "align": [
           "left",
           "left",
           "left",
           "left",
           "left"
          ],
          "format": [
           null,
           "d",
           ".2f"
          ],
          "values": [
           [
            "licking of wrist/hock",
            "tail chasing",
            "digging in yard",
            "other",
            "tennis ball fetish",
            "spinning",
            "nail biting",
            "shadow/light chasing",
            "sucking flank region/blankets",
            "running in geometric patterns",
            "collecting/arranging objects",
            "stone/rock chewing",
            "fly snapping"
           ],
           [
            293,
            114,
            94,
            87,
            72,
            71,
            67,
            59,
            52,
            36,
            33,
            27,
            21
           ],
           [
            7.815417444651908,
            3.0408108829021074,
            2.5073352894105096,
            2.32061883168845,
            1.920512136569752,
            1.8938383568951722,
            1.7871432381968526,
            1.5737530008002134,
            1.3870365430781542,
            0.960256068284876,
            0.8802347292611362,
            0.720192051213657,
            0.5601493731661776
           ]
          ]
         },
         "columnwidth": [
          200,
          100,
          100
         ],
         "header": {
          "align": [
           "left",
           "left",
           "left",
           "left",
           "left"
          ],
          "fill": {
           "color": "#B0C4DE"
          },
          "values": [
           "Type of Compulsion",
           "Number of Dogs",
           "Prevalence (%)"
          ]
         },
         "type": "table"
        }
       ],
       "layout": {
        "height": 400,
        "margin": {
         "b": 50,
         "l": 50,
         "pad": 4,
         "r": 50,
         "t": 50
        },
        "width": 700
       }
      },
      "text/html": [
       "<div id=\"ac8bfcee-b4da-4d1f-9cb9-80e338561b69\" style=\"height: 400px; width: 700px;\" class=\"plotly-graph-div\"></div><script type=\"text/javascript\">require([\"plotly\"], function(Plotly) { window.PLOTLYENV=window.PLOTLYENV || {};window.PLOTLYENV.BASE_URL=\"https://plot.ly\";Plotly.newPlot(\"ac8bfcee-b4da-4d1f-9cb9-80e338561b69\", [{\"type\": \"table\", \"columnwidth\": [200, 100, 100], \"header\": {\"values\": [\"Type of Compulsion\", \"Number of Dogs\", \"Prevalence (%)\"], \"fill\": {\"color\": \"#B0C4DE\"}, \"align\": [\"left\", \"left\", \"left\", \"left\", \"left\"]}, \"cells\": {\"values\": [[\"licking of wrist/hock\", \"tail chasing\", \"digging in yard\", \"other\", \"tennis ball fetish\", \"spinning\", \"nail biting\", \"shadow/light chasing\", \"sucking flank region/blankets\", \"running in geometric patterns\", \"collecting/arranging objects\", \"stone/rock chewing\", \"fly snapping\"], [293, 114, 94, 87, 72, 71, 67, 59, 52, 36, 33, 27, 21], [7.815417444651908, 3.0408108829021074, 2.5073352894105096, 2.32061883168845, 1.920512136569752, 1.8938383568951722, 1.7871432381968526, 1.5737530008002134, 1.3870365430781542, 0.960256068284876, 0.8802347292611362, 0.720192051213657, 0.5601493731661776]], \"align\": [\"left\", \"left\", \"left\", \"left\", \"left\"], \"format\": [null, \"d\", \".2f\"]}}], {\"width\": 700, \"height\": 400, \"margin\": {\"l\": 50, \"r\": 50, \"b\": 50, \"t\": 50, \"pad\": 4}}, {\"showLink\": true, \"linkText\": \"Export to plot.ly\"})});</script>"
      ],
      "text/vnd.plotly.v1+html": [
       "<div id=\"ac8bfcee-b4da-4d1f-9cb9-80e338561b69\" style=\"height: 400px; width: 700px;\" class=\"plotly-graph-div\"></div><script type=\"text/javascript\">require([\"plotly\"], function(Plotly) { window.PLOTLYENV=window.PLOTLYENV || {};window.PLOTLYENV.BASE_URL=\"https://plot.ly\";Plotly.newPlot(\"ac8bfcee-b4da-4d1f-9cb9-80e338561b69\", [{\"type\": \"table\", \"columnwidth\": [200, 100, 100], \"header\": {\"values\": [\"Type of Compulsion\", \"Number of Dogs\", \"Prevalence (%)\"], \"fill\": {\"color\": \"#B0C4DE\"}, \"align\": [\"left\", \"left\", \"left\", \"left\", \"left\"]}, \"cells\": {\"values\": [[\"licking of wrist/hock\", \"tail chasing\", \"digging in yard\", \"other\", \"tennis ball fetish\", \"spinning\", \"nail biting\", \"shadow/light chasing\", \"sucking flank region/blankets\", \"running in geometric patterns\", \"collecting/arranging objects\", \"stone/rock chewing\", \"fly snapping\"], [293, 114, 94, 87, 72, 71, 67, 59, 52, 36, 33, 27, 21], [7.815417444651908, 3.0408108829021074, 2.5073352894105096, 2.32061883168845, 1.920512136569752, 1.8938383568951722, 1.7871432381968526, 1.5737530008002134, 1.3870365430781542, 0.960256068284876, 0.8802347292611362, 0.720192051213657, 0.5601493731661776]], \"align\": [\"left\", \"left\", \"left\", \"left\", \"left\"], \"format\": [null, \"d\", \".2f\"]}}], {\"width\": 700, \"height\": 400, \"margin\": {\"l\": 50, \"r\": 50, \"b\": 50, \"t\": 50, \"pad\": 4}}, {\"showLink\": true, \"linkText\": \"Export to plot.ly\"})});</script>"
      ]
     },
     "metadata": {},
     "output_type": "display_data"
    }
   ],
   "source": [
    "# Create the necessary dataframe.\n",
    "fields = ('q05_main_1, q05_main_2, q05_main_3, q05_main_4, q05_main_5, q05_main_6, '\n",
    "          'q05_main_7, q05_main_8, q05_main_9, q05_main_10, q05_main_11, q05_main_12, '\n",
    "          'q05_main_13')\n",
    "labels = ['spinning', 'tail chasing', 'shadow/light chasing', 'running in geometric patterns', \n",
    "          'licking of wrist/hock', 'fly snapping', 'sucking flank region/blankets',\n",
    "          'tennis ball fetish', 'collecting/arranging objects', 'nail biting',\n",
    "          'digging in yard', 'stone/rock chewing', 'other']\n",
    "df = createDataFrame(DOG_TABLE, fields, labels, filtered=True)\n",
    "\n",
    "# Get individual behavior problem counts and display as a table.\n",
    "sums = df.sum()\n",
    "sums = sums.sort_values(ascending=False)\n",
    "\n",
    "# Calculate the prevalence of each behavior problem.\n",
    "prevalence_cal = lambda x: (x / total_dogs) * 100\n",
    "prevalences = sums.apply(prevalence_cal)\n",
    "\n",
    "# Get individual behavior problem counts and display as a table.\n",
    "trace = go.Table(\n",
    "    columnwidth = [200, 100, 100],\n",
    "    header=dict(values=['Type of Compulsion', 'Number of Dogs', 'Prevalence (%)'],\n",
    "                fill = dict(color='#B0C4DE'),\n",
    "                align = ['left'] * 5),\n",
    "    cells=dict(values=[sums.index.values, sums.values, prevalences.values],\n",
    "               align = ['left'] * 5,\n",
    "               format = [None, 'd', '.2f']))\n",
    "data = [trace] \n",
    "layout = go.Layout(width=700, height=400, margin=go.Margin(l=50, r=50, b=50, t=50, pad=4))\n",
    "fig = dict(data=data, layout=layout)\n",
    "py.iplot(fig)"
   ]
  },
  {
   "cell_type": "code",
   "execution_count": 14,
   "metadata": {},
   "outputs": [
    {
     "data": {
      "application/vnd.plotly.v1+json": {
       "data": [
        {
         "orientation": "h",
         "type": "bar",
         "x": [
          0.5601493731661776,
          0.720192051213657,
          0.8802347292611362,
          0.960256068284876,
          1.3870365430781542,
          1.5737530008002134,
          1.7871432381968526,
          1.8938383568951722,
          1.920512136569752,
          2.32061883168845,
          2.5073352894105096,
          3.0408108829021074,
          7.815417444651908
         ],
         "y": [
          "fly snapping",
          "stone/rock chewing",
          "collecting/arranging objects",
          "running in geometric patterns",
          "sucking flank region/blankets",
          "shadow/light chasing",
          "nail biting",
          "spinning",
          "tennis ball fetish",
          "other",
          "digging in yard",
          "tail chasing",
          "licking of wrist/hock"
         ]
        }
       ],
       "layout": {
        "height": 500,
        "title": "Prevalence of Compulsion",
        "width": 700,
        "xaxis": {
         "title": "prevalence (%)"
        },
        "yaxis": {
         "automargin": true,
         "tickangle": 30,
         "tickprefix": " ",
         "ticksuffix": " ",
         "title": ""
        }
       }
      },
      "text/html": [
       "<div id=\"d96cdcda-e69e-4848-8907-de9046efe27f\" style=\"height: 500px; width: 700px;\" class=\"plotly-graph-div\"></div><script type=\"text/javascript\">require([\"plotly\"], function(Plotly) { window.PLOTLYENV=window.PLOTLYENV || {};window.PLOTLYENV.BASE_URL=\"https://plot.ly\";Plotly.newPlot(\"d96cdcda-e69e-4848-8907-de9046efe27f\", [{\"type\": \"bar\", \"x\": [0.5601493731661776, 0.720192051213657, 0.8802347292611362, 0.960256068284876, 1.3870365430781542, 1.5737530008002134, 1.7871432381968526, 1.8938383568951722, 1.920512136569752, 2.32061883168845, 2.5073352894105096, 3.0408108829021074, 7.815417444651908], \"y\": [\"fly snapping\", \"stone/rock chewing\", \"collecting/arranging objects\", \"running in geometric patterns\", \"sucking flank region/blankets\", \"shadow/light chasing\", \"nail biting\", \"spinning\", \"tennis ball fetish\", \"other\", \"digging in yard\", \"tail chasing\", \"licking of wrist/hock\"], \"orientation\": \"h\"}], {\"title\": \"Prevalence of Compulsion\", \"xaxis\": {\"title\": \"prevalence (%)\"}, \"yaxis\": {\"title\": \"\", \"automargin\": true, \"tickangle\": 30, \"tickprefix\": \" \", \"ticksuffix\": \" \"}, \"width\": 700, \"height\": 500}, {\"showLink\": true, \"linkText\": \"Export to plot.ly\"})});</script>"
      ],
      "text/vnd.plotly.v1+html": [
       "<div id=\"d96cdcda-e69e-4848-8907-de9046efe27f\" style=\"height: 500px; width: 700px;\" class=\"plotly-graph-div\"></div><script type=\"text/javascript\">require([\"plotly\"], function(Plotly) { window.PLOTLYENV=window.PLOTLYENV || {};window.PLOTLYENV.BASE_URL=\"https://plot.ly\";Plotly.newPlot(\"d96cdcda-e69e-4848-8907-de9046efe27f\", [{\"type\": \"bar\", \"x\": [0.5601493731661776, 0.720192051213657, 0.8802347292611362, 0.960256068284876, 1.3870365430781542, 1.5737530008002134, 1.7871432381968526, 1.8938383568951722, 1.920512136569752, 2.32061883168845, 2.5073352894105096, 3.0408108829021074, 7.815417444651908], \"y\": [\"fly snapping\", \"stone/rock chewing\", \"collecting/arranging objects\", \"running in geometric patterns\", \"sucking flank region/blankets\", \"shadow/light chasing\", \"nail biting\", \"spinning\", \"tennis ball fetish\", \"other\", \"digging in yard\", \"tail chasing\", \"licking of wrist/hock\"], \"orientation\": \"h\"}], {\"title\": \"Prevalence of Compulsion\", \"xaxis\": {\"title\": \"prevalence (%)\"}, \"yaxis\": {\"title\": \"\", \"automargin\": true, \"tickangle\": 30, \"tickprefix\": \" \", \"ticksuffix\": \" \"}, \"width\": 700, \"height\": 500}, {\"showLink\": true, \"linkText\": \"Export to plot.ly\"})});</script>"
      ]
     },
     "metadata": {},
     "output_type": "display_data"
    }
   ],
   "source": [
    "# Generate a bar graph.\n",
    "prevalences = prevalences.sort_values(ascending=True)\n",
    "trace = go.Bar(\n",
    "    x=prevalences.values,\n",
    "    y=prevalences.index.values,\n",
    "    orientation='h')\n",
    "data = [trace]\n",
    "layout = go.Layout(title='Prevalence of Compulsion',\n",
    "                   xaxis=dict(title='prevalence (%)'),\n",
    "                   yaxis=dict(title='',\n",
    "                              automargin=True,\n",
    "                              tickangle=30,\n",
    "                              tickprefix=' ',\n",
    "                              ticksuffix=' '),\n",
    "                   width=700,\n",
    "                   height=500\n",
    "                  )\n",
    "fig = dict(data=data, layout=layout)\n",
    "py.iplot(fig)"
   ]
  },
  {
   "cell_type": "markdown",
   "metadata": {},
   "source": [
    "### House Soiling"
   ]
  },
  {
   "cell_type": "code",
   "execution_count": 15,
   "metadata": {},
   "outputs": [
    {
     "data": {
      "application/vnd.plotly.v1+json": {
       "data": [
        {
         "cells": {
          "align": [
           "left",
           "left",
           "left",
           "left",
           "left"
          ],
          "format": [
           null,
           "d",
           ".2f"
          ],
          "values": [
           [
            "feces",
            "urine",
            "both"
           ],
           [
            407,
            373,
            111
           ],
           [
            10.856228327554014,
            9.949319818618298,
            2.9607895438783673
           ]
          ]
         },
         "columnwidth": [
          200,
          100,
          100
         ],
         "header": {
          "align": [
           "left",
           "left",
           "left",
           "left",
           "left"
          ],
          "fill": {
           "color": "#B0C4DE"
          },
          "values": [
           "House Soiling Type",
           "Number of Dogs",
           "Prevalence (%)"
          ]
         },
         "type": "table"
        }
       ],
       "layout": {
        "height": 200,
        "margin": {
         "b": 50,
         "l": 50,
         "pad": 4,
         "r": 50,
         "t": 50
        },
        "width": 700
       }
      },
      "text/html": [
       "<div id=\"bb0064db-f62e-40d6-abcc-8905be981c01\" style=\"height: 200px; width: 700px;\" class=\"plotly-graph-div\"></div><script type=\"text/javascript\">require([\"plotly\"], function(Plotly) { window.PLOTLYENV=window.PLOTLYENV || {};window.PLOTLYENV.BASE_URL=\"https://plot.ly\";Plotly.newPlot(\"bb0064db-f62e-40d6-abcc-8905be981c01\", [{\"type\": \"table\", \"columnwidth\": [200, 100, 100], \"header\": {\"values\": [\"House Soiling Type\", \"Number of Dogs\", \"Prevalence (%)\"], \"fill\": {\"color\": \"#B0C4DE\"}, \"align\": [\"left\", \"left\", \"left\", \"left\", \"left\"]}, \"cells\": {\"values\": [[\"feces\", \"urine\", \"both\"], [407, 373, 111], [10.856228327554014, 9.949319818618298, 2.9607895438783673]], \"align\": [\"left\", \"left\", \"left\", \"left\", \"left\"], \"format\": [null, \"d\", \".2f\"]}}], {\"width\": 700, \"height\": 200, \"margin\": {\"l\": 50, \"r\": 50, \"b\": 50, \"t\": 50, \"pad\": 4}}, {\"showLink\": true, \"linkText\": \"Export to plot.ly\"})});</script>"
      ],
      "text/vnd.plotly.v1+html": [
       "<div id=\"bb0064db-f62e-40d6-abcc-8905be981c01\" style=\"height: 200px; width: 700px;\" class=\"plotly-graph-div\"></div><script type=\"text/javascript\">require([\"plotly\"], function(Plotly) { window.PLOTLYENV=window.PLOTLYENV || {};window.PLOTLYENV.BASE_URL=\"https://plot.ly\";Plotly.newPlot(\"bb0064db-f62e-40d6-abcc-8905be981c01\", [{\"type\": \"table\", \"columnwidth\": [200, 100, 100], \"header\": {\"values\": [\"House Soiling Type\", \"Number of Dogs\", \"Prevalence (%)\"], \"fill\": {\"color\": \"#B0C4DE\"}, \"align\": [\"left\", \"left\", \"left\", \"left\", \"left\"]}, \"cells\": {\"values\": [[\"feces\", \"urine\", \"both\"], [407, 373, 111], [10.856228327554014, 9.949319818618298, 2.9607895438783673]], \"align\": [\"left\", \"left\", \"left\", \"left\", \"left\"], \"format\": [null, \"d\", \".2f\"]}}], {\"width\": 700, \"height\": 200, \"margin\": {\"l\": 50, \"r\": 50, \"b\": 50, \"t\": 50, \"pad\": 4}}, {\"showLink\": true, \"linkText\": \"Export to plot.ly\"})});</script>"
      ]
     },
     "metadata": {},
     "output_type": "display_data"
    }
   ],
   "source": [
    "# Create the necessary dataframe.\n",
    "fields = 'q06_situation_1, q06_situation_2, q06_situation_3'\n",
    "labels = ['urine', 'feces', 'both']\n",
    "df = createDataFrame(DOG_TABLE, fields, labels, filtered=True)\n",
    "\n",
    "# Get individual behavior problem counts and display as a table.\n",
    "sums = df.sum()\n",
    "sums = sums.sort_values(ascending=False)\n",
    "\n",
    "# Calculate the prevalence of each behavior problem.\n",
    "prevalence_cal = lambda x: (x / total_dogs) * 100\n",
    "prevalences = sums.apply(prevalence_cal)\n",
    "\n",
    "# Get individual behavior problem counts and display as a table.\n",
    "trace = go.Table(\n",
    "    columnwidth = [200, 100, 100],\n",
    "    header=dict(values=['House Soiling Type', 'Number of Dogs', 'Prevalence (%)'],\n",
    "                fill = dict(color='#B0C4DE'),\n",
    "                align = ['left'] * 5),\n",
    "    cells=dict(values=[sums.index.values, sums.values, prevalences.values],\n",
    "               align = ['left'] * 5,\n",
    "               format = [None, 'd', '.2f']))\n",
    "data = [trace] \n",
    "layout = go.Layout(width=700, height=200, margin=go.Margin(l=50, r=50, b=50, t=50, pad=4))\n",
    "fig = dict(data=data, layout=layout)\n",
    "py.iplot(fig)"
   ]
  },
  {
   "cell_type": "code",
   "execution_count": 16,
   "metadata": {},
   "outputs": [
    {
     "data": {
      "application/vnd.plotly.v1+json": {
       "data": [
        {
         "cells": {
          "align": [
           "left",
           "left",
           "left",
           "left",
           "left"
          ],
          "format": [
           null,
           "d",
           ".2f"
          ],
          "values": [
           [
            "specific locations",
            "anywhere"
           ],
           [
            306,
            264
           ],
           [
            8.162176580421447,
            7.04187783408909
           ]
          ]
         },
         "columnwidth": [
          200,
          100,
          100
         ],
         "header": {
          "align": [
           "left",
           "left",
           "left",
           "left",
           "left"
          ],
          "fill": {
           "color": "#B0C4DE"
          },
          "values": [
           "House Soiling Location",
           "Number of Dogs",
           "Prevalence (%)"
          ]
         },
         "type": "table"
        }
       ],
       "layout": {
        "height": 175,
        "margin": {
         "b": 50,
         "l": 50,
         "pad": 4,
         "r": 50,
         "t": 50
        },
        "width": 700
       }
      },
      "text/html": [
       "<div id=\"e4a39218-9e22-46a2-84ce-e99312532d32\" style=\"height: 175px; width: 700px;\" class=\"plotly-graph-div\"></div><script type=\"text/javascript\">require([\"plotly\"], function(Plotly) { window.PLOTLYENV=window.PLOTLYENV || {};window.PLOTLYENV.BASE_URL=\"https://plot.ly\";Plotly.newPlot(\"e4a39218-9e22-46a2-84ce-e99312532d32\", [{\"type\": \"table\", \"columnwidth\": [200, 100, 100], \"header\": {\"values\": [\"House Soiling Location\", \"Number of Dogs\", \"Prevalence (%)\"], \"fill\": {\"color\": \"#B0C4DE\"}, \"align\": [\"left\", \"left\", \"left\", \"left\", \"left\"]}, \"cells\": {\"values\": [[\"specific locations\", \"anywhere\"], [306, 264], [8.162176580421447, 7.04187783408909]], \"align\": [\"left\", \"left\", \"left\", \"left\", \"left\"], \"format\": [null, \"d\", \".2f\"]}}], {\"width\": 700, \"height\": 175, \"margin\": {\"l\": 50, \"r\": 50, \"b\": 50, \"t\": 50, \"pad\": 4}}, {\"showLink\": true, \"linkText\": \"Export to plot.ly\"})});</script>"
      ],
      "text/vnd.plotly.v1+html": [
       "<div id=\"e4a39218-9e22-46a2-84ce-e99312532d32\" style=\"height: 175px; width: 700px;\" class=\"plotly-graph-div\"></div><script type=\"text/javascript\">require([\"plotly\"], function(Plotly) { window.PLOTLYENV=window.PLOTLYENV || {};window.PLOTLYENV.BASE_URL=\"https://plot.ly\";Plotly.newPlot(\"e4a39218-9e22-46a2-84ce-e99312532d32\", [{\"type\": \"table\", \"columnwidth\": [200, 100, 100], \"header\": {\"values\": [\"House Soiling Location\", \"Number of Dogs\", \"Prevalence (%)\"], \"fill\": {\"color\": \"#B0C4DE\"}, \"align\": [\"left\", \"left\", \"left\", \"left\", \"left\"]}, \"cells\": {\"values\": [[\"specific locations\", \"anywhere\"], [306, 264], [8.162176580421447, 7.04187783408909]], \"align\": [\"left\", \"left\", \"left\", \"left\", \"left\"], \"format\": [null, \"d\", \".2f\"]}}], {\"width\": 700, \"height\": 175, \"margin\": {\"l\": 50, \"r\": 50, \"b\": 50, \"t\": 50, \"pad\": 4}}, {\"showLink\": true, \"linkText\": \"Export to plot.ly\"})});</script>"
      ]
     },
     "metadata": {},
     "output_type": "display_data"
    }
   ],
   "source": [
    "# Create the necessary dataframe.\n",
    "fields = 'q06_soil_location_1, q06_soil_location_2'\n",
    "labels = ['specific locations', 'anywhere']\n",
    "df = createDataFrame(DOG_TABLE, fields, labels, filtered=True)\n",
    "\n",
    "# Get individual behavior problem counts and display as a table.\n",
    "sums = df.sum()\n",
    "sums = sums.sort_values(ascending=False)\n",
    "\n",
    "# Calculate the prevalence of each behavior problem.\n",
    "prevalence_cal = lambda x: (x / total_dogs) * 100\n",
    "prevalences = sums.apply(prevalence_cal)\n",
    "\n",
    "# Get individual behavior problem counts and display as a table.\n",
    "trace = go.Table(\n",
    "    columnwidth = [200, 100, 100],\n",
    "    header=dict(values=['House Soiling Location', 'Number of Dogs', 'Prevalence (%)'],\n",
    "                fill = dict(color='#B0C4DE'),\n",
    "                align = ['left'] * 5),\n",
    "    cells=dict(values=[sums.index.values, sums.values, prevalences.values],\n",
    "               align = ['left'] * 5,\n",
    "               format = [None, 'd', '.2f']))\n",
    "data = [trace] \n",
    "layout = go.Layout(width=700, height=175, margin=go.Margin(l=50, r=50, b=50, t=50, pad=4))\n",
    "fig = dict(data=data, layout=layout)\n",
    "py.iplot(fig)"
   ]
  },
  {
   "cell_type": "code",
   "execution_count": 17,
   "metadata": {},
   "outputs": [
    {
     "data": {
      "application/vnd.plotly.v1+json": {
       "data": [
        {
         "cells": {
          "align": [
           "left",
           "left",
           "left",
           "left",
           "left"
          ],
          "format": [
           null,
           "d",
           ".2f"
          ],
          "values": [
           [
            "owner away",
            "owner present",
            "excited/overwhelmed"
           ],
           [
            407,
            373,
            111
           ],
           [
            10.856228327554014,
            9.949319818618298,
            2.9607895438783673
           ]
          ]
         },
         "columnwidth": [
          200,
          100,
          100
         ],
         "header": {
          "align": [
           "left",
           "left",
           "left",
           "left",
           "left"
          ],
          "fill": {
           "color": "#B0C4DE"
          },
          "values": [
           "House Soiling Situation",
           "Number of Dogs",
           "Prevalence (%)"
          ]
         },
         "type": "table"
        }
       ],
       "layout": {
        "height": 200,
        "margin": {
         "b": 50,
         "l": 50,
         "pad": 4,
         "r": 50,
         "t": 50
        },
        "width": 700
       }
      },
      "text/html": [
       "<div id=\"96775a41-a856-4e30-a50c-e885faf052dc\" style=\"height: 200px; width: 700px;\" class=\"plotly-graph-div\"></div><script type=\"text/javascript\">require([\"plotly\"], function(Plotly) { window.PLOTLYENV=window.PLOTLYENV || {};window.PLOTLYENV.BASE_URL=\"https://plot.ly\";Plotly.newPlot(\"96775a41-a856-4e30-a50c-e885faf052dc\", [{\"type\": \"table\", \"columnwidth\": [200, 100, 100], \"header\": {\"values\": [\"House Soiling Situation\", \"Number of Dogs\", \"Prevalence (%)\"], \"fill\": {\"color\": \"#B0C4DE\"}, \"align\": [\"left\", \"left\", \"left\", \"left\", \"left\"]}, \"cells\": {\"values\": [[\"owner away\", \"owner present\", \"excited/overwhelmed\"], [407, 373, 111], [10.856228327554014, 9.949319818618298, 2.9607895438783673]], \"align\": [\"left\", \"left\", \"left\", \"left\", \"left\"], \"format\": [null, \"d\", \".2f\"]}}], {\"width\": 700, \"height\": 200, \"margin\": {\"l\": 50, \"r\": 50, \"b\": 50, \"t\": 50, \"pad\": 4}}, {\"showLink\": true, \"linkText\": \"Export to plot.ly\"})});</script>"
      ],
      "text/vnd.plotly.v1+html": [
       "<div id=\"96775a41-a856-4e30-a50c-e885faf052dc\" style=\"height: 200px; width: 700px;\" class=\"plotly-graph-div\"></div><script type=\"text/javascript\">require([\"plotly\"], function(Plotly) { window.PLOTLYENV=window.PLOTLYENV || {};window.PLOTLYENV.BASE_URL=\"https://plot.ly\";Plotly.newPlot(\"96775a41-a856-4e30-a50c-e885faf052dc\", [{\"type\": \"table\", \"columnwidth\": [200, 100, 100], \"header\": {\"values\": [\"House Soiling Situation\", \"Number of Dogs\", \"Prevalence (%)\"], \"fill\": {\"color\": \"#B0C4DE\"}, \"align\": [\"left\", \"left\", \"left\", \"left\", \"left\"]}, \"cells\": {\"values\": [[\"owner away\", \"owner present\", \"excited/overwhelmed\"], [407, 373, 111], [10.856228327554014, 9.949319818618298, 2.9607895438783673]], \"align\": [\"left\", \"left\", \"left\", \"left\", \"left\"], \"format\": [null, \"d\", \".2f\"]}}], {\"width\": 700, \"height\": 200, \"margin\": {\"l\": 50, \"r\": 50, \"b\": 50, \"t\": 50, \"pad\": 4}}, {\"showLink\": true, \"linkText\": \"Export to plot.ly\"})});</script>"
      ]
     },
     "metadata": {},
     "output_type": "display_data"
    }
   ],
   "source": [
    "# Create the necessary dataframe.\n",
    "fields = 'q06_situation_1, q06_situation_2, q06_situation_3'\n",
    "labels = ['owner present', 'owner away', 'excited/overwhelmed']\n",
    "df = createDataFrame(DOG_TABLE, fields, labels, filtered=True)\n",
    "\n",
    "# Get individual behavior problem counts and display as a table.\n",
    "sums = df.sum()\n",
    "sums = sums.sort_values(ascending=False)\n",
    "\n",
    "# Calculate the prevalence of each behavior problem.\n",
    "prevalence_cal = lambda x: (x / total_dogs) * 100\n",
    "prevalences = sums.apply(prevalence_cal)\n",
    "\n",
    "# Get individual behavior problem counts and display as a table.\n",
    "trace = go.Table(\n",
    "    columnwidth = [200, 100, 100],\n",
    "    header=dict(values=['House Soiling Situation', 'Number of Dogs', 'Prevalence (%)'],\n",
    "                fill = dict(color='#B0C4DE'),\n",
    "                align = ['left'] * 5),\n",
    "    cells=dict(values=[sums.index.values, sums.values, prevalences.values],\n",
    "               align = ['left'] * 5,\n",
    "               format = [None, 'd', '.2f']))\n",
    "data = [trace] \n",
    "layout = go.Layout(width=700, height=200, margin=go.Margin(l=50, r=50, b=50, t=50, pad=4))\n",
    "fig = dict(data=data, layout=layout)\n",
    "py.iplot(fig)"
   ]
  },
  {
   "cell_type": "markdown",
   "metadata": {},
   "source": [
    "### Excessive Barking"
   ]
  },
  {
   "cell_type": "code",
   "execution_count": 18,
   "metadata": {},
   "outputs": [
    {
     "data": {
      "application/vnd.plotly.v1+json": {
       "data": [
        {
         "cells": {
          "align": [
           "left",
           "left",
           "left",
           "left",
           "left"
          ],
          "format": [
           null,
           "d",
           ".2f"
          ],
          "values": [
           [
            "at tiggers (inside)",
            "at triggers (outside)",
            "owner present",
            "to get attention",
            "owner away",
            "during car rides"
           ],
           [
            444,
            442,
            355,
            263,
            196,
            88
           ],
           [
            11.84315817551347,
            11.78981061616431,
            9.469191784475859,
            7.01520405441451,
            5.228060816217658,
            2.34729261136303
           ]
          ]
         },
         "columnwidth": [
          200,
          100,
          100
         ],
         "header": {
          "align": [
           "left",
           "left",
           "left",
           "left",
           "left"
          ],
          "fill": {
           "color": "#B0C4DE"
          },
          "values": [
           "Excessive Barking Scenario",
           "Number of Dogs",
           "Prevalence (%)"
          ]
         },
         "type": "table"
        }
       ],
       "layout": {
        "height": 250,
        "margin": {
         "b": 50,
         "l": 50,
         "pad": 4,
         "r": 50,
         "t": 50
        },
        "width": 700
       }
      },
      "text/html": [
       "<div id=\"fc9c9c76-16e2-45da-aad5-fc2421ab4046\" style=\"height: 250px; width: 700px;\" class=\"plotly-graph-div\"></div><script type=\"text/javascript\">require([\"plotly\"], function(Plotly) { window.PLOTLYENV=window.PLOTLYENV || {};window.PLOTLYENV.BASE_URL=\"https://plot.ly\";Plotly.newPlot(\"fc9c9c76-16e2-45da-aad5-fc2421ab4046\", [{\"type\": \"table\", \"columnwidth\": [200, 100, 100], \"header\": {\"values\": [\"Excessive Barking Scenario\", \"Number of Dogs\", \"Prevalence (%)\"], \"fill\": {\"color\": \"#B0C4DE\"}, \"align\": [\"left\", \"left\", \"left\", \"left\", \"left\"]}, \"cells\": {\"values\": [[\"at tiggers (inside)\", \"at triggers (outside)\", \"owner present\", \"to get attention\", \"owner away\", \"during car rides\"], [444, 442, 355, 263, 196, 88], [11.84315817551347, 11.78981061616431, 9.469191784475859, 7.01520405441451, 5.228060816217658, 2.34729261136303]], \"align\": [\"left\", \"left\", \"left\", \"left\", \"left\"], \"format\": [null, \"d\", \".2f\"]}}], {\"width\": 700, \"height\": 250, \"margin\": {\"l\": 50, \"r\": 50, \"b\": 50, \"t\": 50, \"pad\": 4}}, {\"showLink\": true, \"linkText\": \"Export to plot.ly\"})});</script>"
      ],
      "text/vnd.plotly.v1+html": [
       "<div id=\"fc9c9c76-16e2-45da-aad5-fc2421ab4046\" style=\"height: 250px; width: 700px;\" class=\"plotly-graph-div\"></div><script type=\"text/javascript\">require([\"plotly\"], function(Plotly) { window.PLOTLYENV=window.PLOTLYENV || {};window.PLOTLYENV.BASE_URL=\"https://plot.ly\";Plotly.newPlot(\"fc9c9c76-16e2-45da-aad5-fc2421ab4046\", [{\"type\": \"table\", \"columnwidth\": [200, 100, 100], \"header\": {\"values\": [\"Excessive Barking Scenario\", \"Number of Dogs\", \"Prevalence (%)\"], \"fill\": {\"color\": \"#B0C4DE\"}, \"align\": [\"left\", \"left\", \"left\", \"left\", \"left\"]}, \"cells\": {\"values\": [[\"at tiggers (inside)\", \"at triggers (outside)\", \"owner present\", \"to get attention\", \"owner away\", \"during car rides\"], [444, 442, 355, 263, 196, 88], [11.84315817551347, 11.78981061616431, 9.469191784475859, 7.01520405441451, 5.228060816217658, 2.34729261136303]], \"align\": [\"left\", \"left\", \"left\", \"left\", \"left\"], \"format\": [null, \"d\", \".2f\"]}}], {\"width\": 700, \"height\": 250, \"margin\": {\"l\": 50, \"r\": 50, \"b\": 50, \"t\": 50, \"pad\": 4}}, {\"showLink\": true, \"linkText\": \"Export to plot.ly\"})});</script>"
      ]
     },
     "metadata": {},
     "output_type": "display_data"
    }
   ],
   "source": [
    "# Create the necessary dataframe.\n",
    "fields = ('q07_sitatuon_1, q07_sitatuon_2, q07_sitatuon_3, q07_sitatuon_4, q07_sitatuon_5, '\n",
    "          'q07_sitatuon_6')\n",
    "labels = ['owner present', 'owner away', 'to get attention', 'at tiggers (inside)',\n",
    "          'at triggers (outside)', 'during car rides']\n",
    "df = createDataFrame(DOG_TABLE, fields, labels, filtered=True)\n",
    "\n",
    "# Get individual behavior problem counts and display as a table.\n",
    "sums = df.sum()\n",
    "sums = sums.sort_values(ascending=False)\n",
    "\n",
    "# Calculate the prevalence of each behavior problem.\n",
    "prevalence_cal = lambda x: (x / total_dogs) * 100\n",
    "prevalences = sums.apply(prevalence_cal)\n",
    "\n",
    "# Get individual behavior problem counts and display as a table.\n",
    "trace = go.Table(\n",
    "    columnwidth = [200, 100, 100],\n",
    "    header=dict(values=['Excessive Barking Scenario', 'Number of Dogs', 'Prevalence (%)'],\n",
    "                fill = dict(color='#B0C4DE'),\n",
    "                align = ['left'] * 5),\n",
    "    cells=dict(values=[sums.index.values, sums.values, prevalences.values],\n",
    "               align = ['left'] * 5,\n",
    "               format = [None, 'd', '.2f']))\n",
    "data = [trace] \n",
    "layout = go.Layout(width=700, height=250, margin=go.Margin(l=50, r=50, b=50, t=50, pad=4))\n",
    "fig = dict(data=data, layout=layout)\n",
    "py.iplot(fig)"
   ]
  },
  {
   "cell_type": "markdown",
   "metadata": {},
   "source": [
    "### Jumping"
   ]
  },
  {
   "cell_type": "code",
   "execution_count": 19,
   "metadata": {},
   "outputs": [
    {
     "data": {
      "application/vnd.plotly.v1+json": {
       "data": [
        {
         "cells": {
          "align": [
           "left",
           "left",
           "left",
           "left",
           "left"
          ],
          "format": [
           null,
           "d",
           ".2f"
          ],
          "values": [
           [
            "family members",
            "owner",
            "strangers"
           ],
           [
            834,
            694,
            617
           ],
           [
            22.245932248599626,
            18.511603094158442,
            16.45772205921579
           ]
          ]
         },
         "columnwidth": [
          200,
          100,
          100
         ],
         "header": {
          "align": [
           "left",
           "left",
           "left",
           "left",
           "left"
          ],
          "fill": {
           "color": "#B0C4DE"
          },
          "values": [
           "Jumping Target",
           "Number of Dogs",
           "Prevalence (%)"
          ]
         },
         "type": "table"
        }
       ],
       "layout": {
        "height": 200,
        "margin": {
         "b": 50,
         "l": 50,
         "pad": 4,
         "r": 50,
         "t": 50
        },
        "width": 700
       }
      },
      "text/html": [
       "<div id=\"16675d83-6ca1-4826-b0f2-a066f4397759\" style=\"height: 200px; width: 700px;\" class=\"plotly-graph-div\"></div><script type=\"text/javascript\">require([\"plotly\"], function(Plotly) { window.PLOTLYENV=window.PLOTLYENV || {};window.PLOTLYENV.BASE_URL=\"https://plot.ly\";Plotly.newPlot(\"16675d83-6ca1-4826-b0f2-a066f4397759\", [{\"type\": \"table\", \"columnwidth\": [200, 100, 100], \"header\": {\"values\": [\"Jumping Target\", \"Number of Dogs\", \"Prevalence (%)\"], \"fill\": {\"color\": \"#B0C4DE\"}, \"align\": [\"left\", \"left\", \"left\", \"left\", \"left\"]}, \"cells\": {\"values\": [[\"family members\", \"owner\", \"strangers\"], [834, 694, 617], [22.245932248599626, 18.511603094158442, 16.45772205921579]], \"align\": [\"left\", \"left\", \"left\", \"left\", \"left\"], \"format\": [null, \"d\", \".2f\"]}}], {\"width\": 700, \"height\": 200, \"margin\": {\"l\": 50, \"r\": 50, \"b\": 50, \"t\": 50, \"pad\": 4}}, {\"showLink\": true, \"linkText\": \"Export to plot.ly\"})});</script>"
      ],
      "text/vnd.plotly.v1+html": [
       "<div id=\"16675d83-6ca1-4826-b0f2-a066f4397759\" style=\"height: 200px; width: 700px;\" class=\"plotly-graph-div\"></div><script type=\"text/javascript\">require([\"plotly\"], function(Plotly) { window.PLOTLYENV=window.PLOTLYENV || {};window.PLOTLYENV.BASE_URL=\"https://plot.ly\";Plotly.newPlot(\"16675d83-6ca1-4826-b0f2-a066f4397759\", [{\"type\": \"table\", \"columnwidth\": [200, 100, 100], \"header\": {\"values\": [\"Jumping Target\", \"Number of Dogs\", \"Prevalence (%)\"], \"fill\": {\"color\": \"#B0C4DE\"}, \"align\": [\"left\", \"left\", \"left\", \"left\", \"left\"]}, \"cells\": {\"values\": [[\"family members\", \"owner\", \"strangers\"], [834, 694, 617], [22.245932248599626, 18.511603094158442, 16.45772205921579]], \"align\": [\"left\", \"left\", \"left\", \"left\", \"left\"], \"format\": [null, \"d\", \".2f\"]}}], {\"width\": 700, \"height\": 200, \"margin\": {\"l\": 50, \"r\": 50, \"b\": 50, \"t\": 50, \"pad\": 4}}, {\"showLink\": true, \"linkText\": \"Export to plot.ly\"})});</script>"
      ]
     },
     "metadata": {},
     "output_type": "display_data"
    }
   ],
   "source": [
    "# Create the necessary dataframe.\n",
    "fields = 'q08_who_1, q08_who_2, q08_who_3'\n",
    "labels = ['owner', 'family members', 'strangers']\n",
    "df = createDataFrame(DOG_TABLE, fields, labels, filtered=True)\n",
    "\n",
    "# Get individual behavior problem counts and display as a table.\n",
    "sums = df.sum()\n",
    "sums = sums.sort_values(ascending=False)\n",
    "\n",
    "# Calculate the prevalence of each behavior problem.\n",
    "prevalence_cal = lambda x: (x / total_dogs) * 100\n",
    "prevalences = sums.apply(prevalence_cal)\n",
    "\n",
    "# Get individual behavior problem counts and display as a table.\n",
    "trace = go.Table(\n",
    "    columnwidth = [200, 100, 100],\n",
    "    header=dict(values=['Jumping Target', 'Number of Dogs', 'Prevalence (%)'],\n",
    "                fill = dict(color='#B0C4DE'),\n",
    "                align = ['left'] * 5),\n",
    "    cells=dict(values=[sums.index.values, sums.values, prevalences.values],\n",
    "               align = ['left'] * 5,\n",
    "               format = [None, 'd', '.2f']))\n",
    "data = [trace] \n",
    "layout = go.Layout(width=700, height=200, margin=go.Margin(l=50, r=50, b=50, t=50, pad=4))\n",
    "fig = dict(data=data, layout=layout)\n",
    "py.iplot(fig)"
   ]
  },
  {
   "cell_type": "markdown",
   "metadata": {},
   "source": [
    "### Mounting/Humping"
   ]
  },
  {
   "cell_type": "code",
   "execution_count": 20,
   "metadata": {},
   "outputs": [
    {
     "data": {
      "application/vnd.plotly.v1+json": {
       "data": [
        {
         "cells": {
          "align": [
           "left",
           "left",
           "left",
           "left",
           "left"
          ],
          "format": [
           null,
           "d",
           ".2f"
          ],
          "values": [
           [
            "familiar dogs",
            "people",
            "unfamiliar dogs",
            "inanimate objects"
           ],
           [
            236,
            137,
            102,
            94
           ],
           [
            6.295012003200854,
            3.6543078154174444,
            2.7207255268071484,
            2.5073352894105096
           ]
          ]
         },
         "columnwidth": [
          200,
          100,
          100
         ],
         "header": {
          "align": [
           "left",
           "left",
           "left",
           "left",
           "left"
          ],
          "fill": {
           "color": "#B0C4DE"
          },
          "values": [
           "Mounting/Humping Target",
           "Number of Dogs",
           "Prevalence (%)"
          ]
         },
         "type": "table"
        }
       ],
       "layout": {
        "height": 225,
        "margin": {
         "b": 50,
         "l": 50,
         "pad": 4,
         "r": 50,
         "t": 50
        },
        "width": 700
       }
      },
      "text/html": [
       "<div id=\"9d579ef6-1813-460e-a901-3d3a1620f7a7\" style=\"height: 225px; width: 700px;\" class=\"plotly-graph-div\"></div><script type=\"text/javascript\">require([\"plotly\"], function(Plotly) { window.PLOTLYENV=window.PLOTLYENV || {};window.PLOTLYENV.BASE_URL=\"https://plot.ly\";Plotly.newPlot(\"9d579ef6-1813-460e-a901-3d3a1620f7a7\", [{\"type\": \"table\", \"columnwidth\": [200, 100, 100], \"header\": {\"values\": [\"Mounting/Humping Target\", \"Number of Dogs\", \"Prevalence (%)\"], \"fill\": {\"color\": \"#B0C4DE\"}, \"align\": [\"left\", \"left\", \"left\", \"left\", \"left\"]}, \"cells\": {\"values\": [[\"familiar dogs\", \"people\", \"unfamiliar dogs\", \"inanimate objects\"], [236, 137, 102, 94], [6.295012003200854, 3.6543078154174444, 2.7207255268071484, 2.5073352894105096]], \"align\": [\"left\", \"left\", \"left\", \"left\", \"left\"], \"format\": [null, \"d\", \".2f\"]}}], {\"width\": 700, \"height\": 225, \"margin\": {\"l\": 50, \"r\": 50, \"b\": 50, \"t\": 50, \"pad\": 4}}, {\"showLink\": true, \"linkText\": \"Export to plot.ly\"})});</script>"
      ],
      "text/vnd.plotly.v1+html": [
       "<div id=\"9d579ef6-1813-460e-a901-3d3a1620f7a7\" style=\"height: 225px; width: 700px;\" class=\"plotly-graph-div\"></div><script type=\"text/javascript\">require([\"plotly\"], function(Plotly) { window.PLOTLYENV=window.PLOTLYENV || {};window.PLOTLYENV.BASE_URL=\"https://plot.ly\";Plotly.newPlot(\"9d579ef6-1813-460e-a901-3d3a1620f7a7\", [{\"type\": \"table\", \"columnwidth\": [200, 100, 100], \"header\": {\"values\": [\"Mounting/Humping Target\", \"Number of Dogs\", \"Prevalence (%)\"], \"fill\": {\"color\": \"#B0C4DE\"}, \"align\": [\"left\", \"left\", \"left\", \"left\", \"left\"]}, \"cells\": {\"values\": [[\"familiar dogs\", \"people\", \"unfamiliar dogs\", \"inanimate objects\"], [236, 137, 102, 94], [6.295012003200854, 3.6543078154174444, 2.7207255268071484, 2.5073352894105096]], \"align\": [\"left\", \"left\", \"left\", \"left\", \"left\"], \"format\": [null, \"d\", \".2f\"]}}], {\"width\": 700, \"height\": 225, \"margin\": {\"l\": 50, \"r\": 50, \"b\": 50, \"t\": 50, \"pad\": 4}}, {\"showLink\": true, \"linkText\": \"Export to plot.ly\"})});</script>"
      ]
     },
     "metadata": {},
     "output_type": "display_data"
    }
   ],
   "source": [
    "# Create the necessary dataframe.\n",
    "fields = 'q09_main_1, q09_main_2, q09_main_3, q09_main_4'\n",
    "labels = ['people', 'familiar dogs', 'unfamiliar dogs', 'inanimate objects']\n",
    "df = createDataFrame(DOG_TABLE, fields, labels, filtered=True)\n",
    "\n",
    "# Get individual behavior problem counts and display as a table.\n",
    "sums = df.sum()\n",
    "sums = sums.sort_values(ascending=False)\n",
    "\n",
    "# Calculate the prevalence of each behavior problem.\n",
    "prevalence_cal = lambda x: (x / total_dogs) * 100\n",
    "prevalences = sums.apply(prevalence_cal)\n",
    "\n",
    "# Get individual behavior problem counts and display as a table.\n",
    "trace = go.Table(\n",
    "    columnwidth = [200, 100, 100],\n",
    "    header=dict(values=['Mounting/Humping Target', 'Number of Dogs', 'Prevalence (%)'],\n",
    "                fill = dict(color='#B0C4DE'),\n",
    "                align = ['left'] * 5),\n",
    "    cells=dict(values=[sums.index.values, sums.values, prevalences.values],\n",
    "               align = ['left'] * 5,\n",
    "               format = [None, 'd', '.2f']))\n",
    "data = [trace] \n",
    "layout = go.Layout(width=700, height=225, margin=go.Margin(l=50, r=50, b=50, t=50, pad=4))\n",
    "fig = dict(data=data, layout=layout)\n",
    "py.iplot(fig)"
   ]
  },
  {
   "cell_type": "markdown",
   "metadata": {},
   "source": [
    "### Consumption of Feces"
   ]
  },
  {
   "cell_type": "code",
   "execution_count": 21,
   "metadata": {},
   "outputs": [
    {
     "data": {
      "application/vnd.plotly.v1+json": {
       "data": [
        {
         "cells": {
          "align": [
           "left",
           "left",
           "left",
           "left",
           "left"
          ],
          "format": [
           null,
           "d",
           ".2f"
          ],
          "values": [
           [
            "other dogs'",
            "other species'",
            "their own"
           ],
           [
            376,
            373,
            306
           ],
           [
            10.029341157642039,
            9.949319818618298,
            8.162176580421447
           ]
          ]
         },
         "columnwidth": [
          200,
          100,
          100
         ],
         "header": {
          "align": [
           "left",
           "left",
           "left",
           "left",
           "left"
          ],
          "fill": {
           "color": "#B0C4DE"
          },
          "values": [
           "Source of Feces Consumed",
           "Number of Dogs",
           "Prevalence (%)"
          ]
         },
         "type": "table"
        }
       ],
       "layout": {
        "height": 200,
        "margin": {
         "b": 50,
         "l": 50,
         "pad": 4,
         "r": 50,
         "t": 50
        },
        "width": 700
       }
      },
      "text/html": [
       "<div id=\"a8a97566-d176-4e1b-9722-662562f790a2\" style=\"height: 200px; width: 700px;\" class=\"plotly-graph-div\"></div><script type=\"text/javascript\">require([\"plotly\"], function(Plotly) { window.PLOTLYENV=window.PLOTLYENV || {};window.PLOTLYENV.BASE_URL=\"https://plot.ly\";Plotly.newPlot(\"a8a97566-d176-4e1b-9722-662562f790a2\", [{\"type\": \"table\", \"columnwidth\": [200, 100, 100], \"header\": {\"values\": [\"Source of Feces Consumed\", \"Number of Dogs\", \"Prevalence (%)\"], \"fill\": {\"color\": \"#B0C4DE\"}, \"align\": [\"left\", \"left\", \"left\", \"left\", \"left\"]}, \"cells\": {\"values\": [[\"other dogs'\", \"other species'\", \"their own\"], [376, 373, 306], [10.029341157642039, 9.949319818618298, 8.162176580421447]], \"align\": [\"left\", \"left\", \"left\", \"left\", \"left\"], \"format\": [null, \"d\", \".2f\"]}}], {\"width\": 700, \"height\": 200, \"margin\": {\"l\": 50, \"r\": 50, \"b\": 50, \"t\": 50, \"pad\": 4}}, {\"showLink\": true, \"linkText\": \"Export to plot.ly\"})});</script>"
      ],
      "text/vnd.plotly.v1+html": [
       "<div id=\"a8a97566-d176-4e1b-9722-662562f790a2\" style=\"height: 200px; width: 700px;\" class=\"plotly-graph-div\"></div><script type=\"text/javascript\">require([\"plotly\"], function(Plotly) { window.PLOTLYENV=window.PLOTLYENV || {};window.PLOTLYENV.BASE_URL=\"https://plot.ly\";Plotly.newPlot(\"a8a97566-d176-4e1b-9722-662562f790a2\", [{\"type\": \"table\", \"columnwidth\": [200, 100, 100], \"header\": {\"values\": [\"Source of Feces Consumed\", \"Number of Dogs\", \"Prevalence (%)\"], \"fill\": {\"color\": \"#B0C4DE\"}, \"align\": [\"left\", \"left\", \"left\", \"left\", \"left\"]}, \"cells\": {\"values\": [[\"other dogs'\", \"other species'\", \"their own\"], [376, 373, 306], [10.029341157642039, 9.949319818618298, 8.162176580421447]], \"align\": [\"left\", \"left\", \"left\", \"left\", \"left\"], \"format\": [null, \"d\", \".2f\"]}}], {\"width\": 700, \"height\": 200, \"margin\": {\"l\": 50, \"r\": 50, \"b\": 50, \"t\": 50, \"pad\": 4}}, {\"showLink\": true, \"linkText\": \"Export to plot.ly\"})});</script>"
      ]
     },
     "metadata": {},
     "output_type": "display_data"
    }
   ],
   "source": [
    "# Create the necessary dataframe.\n",
    "fields = 'q10_main_1, q10_main_2, q10_main_3'\n",
    "labels = ['their own', \"other dogs'\", \"other species'\"]\n",
    "df = createDataFrame(DOG_TABLE, fields, labels, filtered=True)\n",
    "\n",
    "# Get individual behavior problem counts and display as a table.\n",
    "sums = df.sum()\n",
    "sums = sums.sort_values(ascending=False)\n",
    "\n",
    "# Calculate the prevalence of each behavior problem.\n",
    "prevalence_cal = lambda x: (x / total_dogs) * 100\n",
    "prevalences = sums.apply(prevalence_cal)\n",
    "\n",
    "# Get individual behavior problem counts and display as a table.\n",
    "trace = go.Table(\n",
    "    columnwidth = [200, 100, 100],\n",
    "    header=dict(values=['Source of Feces Consumed', 'Number of Dogs', 'Prevalence (%)'],\n",
    "                fill = dict(color='#B0C4DE'),\n",
    "                align = ['left'] * 5),\n",
    "    cells=dict(values=[sums.index.values, sums.values, prevalences.values],\n",
    "               align = ['left'] * 5,\n",
    "               format = [None, 'd', '.2f']))\n",
    "data = [trace] \n",
    "layout = go.Layout(width=700, height=200, margin=go.Margin(l=50, r=50, b=50, t=50, pad=4))\n",
    "fig = dict(data=data, layout=layout)\n",
    "py.iplot(fig)"
   ]
  },
  {
   "cell_type": "markdown",
   "metadata": {},
   "source": [
    "### Destructive Behavior"
   ]
  },
  {
   "cell_type": "code",
   "execution_count": 22,
   "metadata": {},
   "outputs": [
    {
     "data": {
      "application/vnd.plotly.v1+json": {
       "data": [
        {
         "cells": {
          "align": [
           "left",
           "left",
           "left",
           "left",
           "left"
          ],
          "format": [
           null,
           "d",
           ".2f"
          ],
          "values": [
           [
            "owner is away",
            "owner is home"
           ],
           [
            353,
            194
           ],
           [
            9.4158442251267,
            5.174713256868499
           ]
          ]
         },
         "columnwidth": [
          200,
          100,
          100
         ],
         "header": {
          "align": [
           "left",
           "left",
           "left",
           "left",
           "left"
          ],
          "fill": {
           "color": "#B0C4DE"
          },
          "values": [
           "Destructive Behavior Situation",
           "Number of Dogs",
           "Prevalence (%)"
          ]
         },
         "type": "table"
        }
       ],
       "layout": {
        "height": 175,
        "margin": {
         "b": 50,
         "l": 50,
         "pad": 4,
         "r": 50,
         "t": 50
        },
        "width": 700
       }
      },
      "text/html": [
       "<div id=\"6f5a7b13-c866-43b1-8a43-c230e30a5986\" style=\"height: 175px; width: 700px;\" class=\"plotly-graph-div\"></div><script type=\"text/javascript\">require([\"plotly\"], function(Plotly) { window.PLOTLYENV=window.PLOTLYENV || {};window.PLOTLYENV.BASE_URL=\"https://plot.ly\";Plotly.newPlot(\"6f5a7b13-c866-43b1-8a43-c230e30a5986\", [{\"type\": \"table\", \"columnwidth\": [200, 100, 100], \"header\": {\"values\": [\"Destructive Behavior Situation\", \"Number of Dogs\", \"Prevalence (%)\"], \"fill\": {\"color\": \"#B0C4DE\"}, \"align\": [\"left\", \"left\", \"left\", \"left\", \"left\"]}, \"cells\": {\"values\": [[\"owner is away\", \"owner is home\"], [353, 194], [9.4158442251267, 5.174713256868499]], \"align\": [\"left\", \"left\", \"left\", \"left\", \"left\"], \"format\": [null, \"d\", \".2f\"]}}], {\"width\": 700, \"height\": 175, \"margin\": {\"l\": 50, \"r\": 50, \"b\": 50, \"t\": 50, \"pad\": 4}}, {\"showLink\": true, \"linkText\": \"Export to plot.ly\"})});</script>"
      ],
      "text/vnd.plotly.v1+html": [
       "<div id=\"6f5a7b13-c866-43b1-8a43-c230e30a5986\" style=\"height: 175px; width: 700px;\" class=\"plotly-graph-div\"></div><script type=\"text/javascript\">require([\"plotly\"], function(Plotly) { window.PLOTLYENV=window.PLOTLYENV || {};window.PLOTLYENV.BASE_URL=\"https://plot.ly\";Plotly.newPlot(\"6f5a7b13-c866-43b1-8a43-c230e30a5986\", [{\"type\": \"table\", \"columnwidth\": [200, 100, 100], \"header\": {\"values\": [\"Destructive Behavior Situation\", \"Number of Dogs\", \"Prevalence (%)\"], \"fill\": {\"color\": \"#B0C4DE\"}, \"align\": [\"left\", \"left\", \"left\", \"left\", \"left\"]}, \"cells\": {\"values\": [[\"owner is away\", \"owner is home\"], [353, 194], [9.4158442251267, 5.174713256868499]], \"align\": [\"left\", \"left\", \"left\", \"left\", \"left\"], \"format\": [null, \"d\", \".2f\"]}}], {\"width\": 700, \"height\": 175, \"margin\": {\"l\": 50, \"r\": 50, \"b\": 50, \"t\": 50, \"pad\": 4}}, {\"showLink\": true, \"linkText\": \"Export to plot.ly\"})});</script>"
      ]
     },
     "metadata": {},
     "output_type": "display_data"
    }
   ],
   "source": [
    "# Create the necessary dataframe.\n",
    "fields = 'q11_situation_1, q11_situation_2'\n",
    "labels = ['owner is home', 'owner is away']\n",
    "df = createDataFrame(DOG_TABLE, fields, labels, filtered=True)\n",
    "\n",
    "# Get individual behavior problem counts and display as a table.\n",
    "sums = df.sum()\n",
    "sums = sums.sort_values(ascending=False)\n",
    "\n",
    "# Calculate the prevalence of each behavior problem.\n",
    "prevalence_cal = lambda x: (x / total_dogs) * 100\n",
    "prevalences = sums.apply(prevalence_cal)\n",
    "\n",
    "# Get individual behavior problem counts and display as a table.\n",
    "trace = go.Table(\n",
    "    columnwidth = [200, 100, 100],\n",
    "    header=dict(values=['Destructive Behavior Situation', 'Number of Dogs', 'Prevalence (%)'],\n",
    "                fill = dict(color='#B0C4DE'),\n",
    "                align = ['left'] * 5),\n",
    "    cells=dict(values=[sums.index.values, sums.values, prevalences.values],\n",
    "               align = ['left'] * 5,\n",
    "               format = [None, 'd', '.2f']))\n",
    "data = [trace] \n",
    "layout = go.Layout(width=700, height=175, margin=go.Margin(l=50, r=50, b=50, t=50, pad=4))\n",
    "fig = dict(data=data, layout=layout)\n",
    "py.iplot(fig)"
   ]
  },
  {
   "cell_type": "markdown",
   "metadata": {},
   "source": [
    "### Rolling in Repulsive Materials"
   ]
  },
  {
   "cell_type": "code",
   "execution_count": 23,
   "metadata": {},
   "outputs": [
    {
     "data": {
      "application/vnd.plotly.v1+json": {
       "data": [
        {
         "cells": {
          "align": [
           "left",
           "left",
           "left",
           "left",
           "left"
          ],
          "format": [
           null,
           "d",
           ".2f"
          ],
          "values": [
           [
            "dead stuff",
            "feces",
            "urine",
            "garbage"
           ],
           [
            391,
            285,
            62,
            55
           ],
           [
            10.429447852760736,
            7.602027207255269,
            1.6537743398239533,
            1.4670578821018938
           ]
          ]
         },
         "columnwidth": [
          200,
          100,
          100
         ],
         "header": {
          "align": [
           "left",
           "left",
           "left",
           "left",
           "left"
          ],
          "fill": {
           "color": "#B0C4DE"
          },
          "values": [
           "Rolling in Repulsive Materials",
           "Number of Dogs",
           "Prevalence (%)"
          ]
         },
         "type": "table"
        }
       ],
       "layout": {
        "height": 225,
        "margin": {
         "b": 50,
         "l": 50,
         "pad": 4,
         "r": 50,
         "t": 50
        },
        "width": 700
       }
      },
      "text/html": [
       "<div id=\"a12daee6-acdc-4da9-82f9-d6b57127c130\" style=\"height: 225px; width: 700px;\" class=\"plotly-graph-div\"></div><script type=\"text/javascript\">require([\"plotly\"], function(Plotly) { window.PLOTLYENV=window.PLOTLYENV || {};window.PLOTLYENV.BASE_URL=\"https://plot.ly\";Plotly.newPlot(\"a12daee6-acdc-4da9-82f9-d6b57127c130\", [{\"type\": \"table\", \"columnwidth\": [200, 100, 100], \"header\": {\"values\": [\"Rolling in Repulsive Materials\", \"Number of Dogs\", \"Prevalence (%)\"], \"fill\": {\"color\": \"#B0C4DE\"}, \"align\": [\"left\", \"left\", \"left\", \"left\", \"left\"]}, \"cells\": {\"values\": [[\"dead stuff\", \"feces\", \"urine\", \"garbage\"], [391, 285, 62, 55], [10.429447852760736, 7.602027207255269, 1.6537743398239533, 1.4670578821018938]], \"align\": [\"left\", \"left\", \"left\", \"left\", \"left\"], \"format\": [null, \"d\", \".2f\"]}}], {\"width\": 700, \"height\": 225, \"margin\": {\"l\": 50, \"r\": 50, \"b\": 50, \"t\": 50, \"pad\": 4}}, {\"showLink\": true, \"linkText\": \"Export to plot.ly\"})});</script>"
      ],
      "text/vnd.plotly.v1+html": [
       "<div id=\"a12daee6-acdc-4da9-82f9-d6b57127c130\" style=\"height: 225px; width: 700px;\" class=\"plotly-graph-div\"></div><script type=\"text/javascript\">require([\"plotly\"], function(Plotly) { window.PLOTLYENV=window.PLOTLYENV || {};window.PLOTLYENV.BASE_URL=\"https://plot.ly\";Plotly.newPlot(\"a12daee6-acdc-4da9-82f9-d6b57127c130\", [{\"type\": \"table\", \"columnwidth\": [200, 100, 100], \"header\": {\"values\": [\"Rolling in Repulsive Materials\", \"Number of Dogs\", \"Prevalence (%)\"], \"fill\": {\"color\": \"#B0C4DE\"}, \"align\": [\"left\", \"left\", \"left\", \"left\", \"left\"]}, \"cells\": {\"values\": [[\"dead stuff\", \"feces\", \"urine\", \"garbage\"], [391, 285, 62, 55], [10.429447852760736, 7.602027207255269, 1.6537743398239533, 1.4670578821018938]], \"align\": [\"left\", \"left\", \"left\", \"left\", \"left\"], \"format\": [null, \"d\", \".2f\"]}}], {\"width\": 700, \"height\": 225, \"margin\": {\"l\": 50, \"r\": 50, \"b\": 50, \"t\": 50, \"pad\": 4}}, {\"showLink\": true, \"linkText\": \"Export to plot.ly\"})});</script>"
      ]
     },
     "metadata": {},
     "output_type": "display_data"
    }
   ],
   "source": [
    "# Create the necessary dataframe.\n",
    "fields = 'q12_main_1, q12_main_2, q12_main_3, q12_main_4'\n",
    "labels = ['urine', 'feces', 'dead stuff', 'garbage']\n",
    "df = createDataFrame(DOG_TABLE, fields, labels, filtered=True)\n",
    "\n",
    "# Get individual behavior problem counts and display as a table.\n",
    "sums = df.sum()\n",
    "sums = sums.sort_values(ascending=False)\n",
    "\n",
    "# Calculate the prevalence of each behavior problem.\n",
    "prevalence_cal = lambda x: (x / total_dogs) * 100\n",
    "prevalences = sums.apply(prevalence_cal)\n",
    "\n",
    "# Get individual behavior problem counts and display as a table.\n",
    "trace = go.Table(\n",
    "    columnwidth = [200, 100, 100],\n",
    "    header=dict(values=['Rolling in Repulsive Materials', 'Number of Dogs', 'Prevalence (%)'],\n",
    "                fill = dict(color='#B0C4DE'),\n",
    "                align = ['left'] * 5),\n",
    "    cells=dict(values=[sums.index.values, sums.values, prevalences.values],\n",
    "               align = ['left'] * 5,\n",
    "               format = [None, 'd', '.2f']))\n",
    "data = [trace] \n",
    "layout = go.Layout(width=700, height=225, margin=go.Margin(l=50, r=50, b=50, t=50, pad=4))\n",
    "fig = dict(data=data, layout=layout)\n",
    "py.iplot(fig)"
   ]
  },
  {
   "cell_type": "markdown",
   "metadata": {},
   "source": [
    "### Running Away/Escaping"
   ]
  },
  {
   "cell_type": "code",
   "execution_count": 24,
   "metadata": {},
   "outputs": [
    {
     "data": {
      "application/vnd.plotly.v1+json": {
       "data": [
        {
         "cells": {
          "align": [
           "left",
           "left",
           "left",
           "left",
           "left"
          ],
          "format": [
           null,
           "d",
           ".2f"
          ],
          "values": [
           [
            "escapes from home",
            "escapes when out",
            "escapes from confinement",
            "returns home after escape"
           ],
           [
            219,
            188,
            173,
            140
           ],
           [
            5.8415577487329955,
            5.014670578821019,
            4.614563883702321,
            3.734329154441184
           ]
          ]
         },
         "columnwidth": [
          200,
          100,
          100
         ],
         "header": {
          "align": [
           "left",
           "left",
           "left",
           "left",
           "left"
          ],
          "fill": {
           "color": "#B0C4DE"
          },
          "values": [
           "Running Away",
           "Number of Dogs",
           "Prevalence (%)"
          ]
         },
         "type": "table"
        }
       ],
       "layout": {
        "height": 225,
        "margin": {
         "b": 50,
         "l": 50,
         "pad": 4,
         "r": 50,
         "t": 50
        },
        "width": 700
       }
      },
      "text/html": [
       "<div id=\"ddbf3681-b390-42b9-9339-0afd10b13c54\" style=\"height: 225px; width: 700px;\" class=\"plotly-graph-div\"></div><script type=\"text/javascript\">require([\"plotly\"], function(Plotly) { window.PLOTLYENV=window.PLOTLYENV || {};window.PLOTLYENV.BASE_URL=\"https://plot.ly\";Plotly.newPlot(\"ddbf3681-b390-42b9-9339-0afd10b13c54\", [{\"type\": \"table\", \"columnwidth\": [200, 100, 100], \"header\": {\"values\": [\"Running Away\", \"Number of Dogs\", \"Prevalence (%)\"], \"fill\": {\"color\": \"#B0C4DE\"}, \"align\": [\"left\", \"left\", \"left\", \"left\", \"left\"]}, \"cells\": {\"values\": [[\"escapes from home\", \"escapes when out\", \"escapes from confinement\", \"returns home after escape\"], [219.0, 188.0, 173.0, 140.0], [5.8415577487329955, 5.014670578821019, 4.614563883702321, 3.734329154441184]], \"align\": [\"left\", \"left\", \"left\", \"left\", \"left\"], \"format\": [null, \"d\", \".2f\"]}}], {\"width\": 700, \"height\": 225, \"margin\": {\"l\": 50, \"r\": 50, \"b\": 50, \"t\": 50, \"pad\": 4}}, {\"showLink\": true, \"linkText\": \"Export to plot.ly\"})});</script>"
      ],
      "text/vnd.plotly.v1+html": [
       "<div id=\"ddbf3681-b390-42b9-9339-0afd10b13c54\" style=\"height: 225px; width: 700px;\" class=\"plotly-graph-div\"></div><script type=\"text/javascript\">require([\"plotly\"], function(Plotly) { window.PLOTLYENV=window.PLOTLYENV || {};window.PLOTLYENV.BASE_URL=\"https://plot.ly\";Plotly.newPlot(\"ddbf3681-b390-42b9-9339-0afd10b13c54\", [{\"type\": \"table\", \"columnwidth\": [200, 100, 100], \"header\": {\"values\": [\"Running Away\", \"Number of Dogs\", \"Prevalence (%)\"], \"fill\": {\"color\": \"#B0C4DE\"}, \"align\": [\"left\", \"left\", \"left\", \"left\", \"left\"]}, \"cells\": {\"values\": [[\"escapes from home\", \"escapes when out\", \"escapes from confinement\", \"returns home after escape\"], [219.0, 188.0, 173.0, 140.0], [5.8415577487329955, 5.014670578821019, 4.614563883702321, 3.734329154441184]], \"align\": [\"left\", \"left\", \"left\", \"left\", \"left\"], \"format\": [null, \"d\", \".2f\"]}}], {\"width\": 700, \"height\": 225, \"margin\": {\"l\": 50, \"r\": 50, \"b\": 50, \"t\": 50, \"pad\": 4}}, {\"showLink\": true, \"linkText\": \"Export to plot.ly\"})});</script>"
      ]
     },
     "metadata": {},
     "output_type": "display_data"
    }
   ],
   "source": [
    "# Create the necessary dataframe.\n",
    "fields = 'q14_out, q14_house, q14_conf, q14_return'\n",
    "labels = ['escapes when out', 'escapes from home', 'escapes from confinement',\n",
    "          'returns home after escape']\n",
    "df = createDataFrame(DOG_TABLE, fields, labels, filtered=True)\n",
    "\n",
    "# Get individual behavior problem counts and display as a table.\n",
    "sums = df.sum()\n",
    "sums = sums.sort_values(ascending=False)\n",
    "\n",
    "# Calculate the prevalence of each behavior problem.\n",
    "prevalence_cal = lambda x: (x / total_dogs) * 100\n",
    "prevalences = sums.apply(prevalence_cal)\n",
    "\n",
    "# Get individual behavior problem counts and display as a table.\n",
    "trace = go.Table(\n",
    "    columnwidth = [200, 100, 100],\n",
    "    header=dict(values=['Running Away', 'Number of Dogs', 'Prevalence (%)'],\n",
    "                fill = dict(color='#B0C4DE'),\n",
    "                align = ['left'] * 5),\n",
    "    cells=dict(values=[sums.index.values, sums.values, prevalences.values],\n",
    "               align = ['left'] * 5,\n",
    "               format = [None, 'd', '.2f']))\n",
    "data = [trace] \n",
    "layout = go.Layout(width=700, height=225, margin=go.Margin(l=50, r=50, b=50, t=50, pad=4))\n",
    "fig = dict(data=data, layout=layout)\n",
    "py.iplot(fig)"
   ]
  },
  {
   "cell_type": "markdown",
   "metadata": {},
   "source": [
    "### Overactivity/Hyperactivity"
   ]
  },
  {
   "cell_type": "code",
   "execution_count": 25,
   "metadata": {},
   "outputs": [
    {
     "data": {
      "application/vnd.plotly.v1+json": {
       "data": [
        {
         "cells": {
          "align": [
           "left",
           "left",
           "left",
           "left",
           "left"
          ],
          "format": [
           null,
           "d",
           ".2f"
          ],
          "values": [
           [
            "difficulty settling",
            "constant moving/jumping",
            "impulsive",
            "highly distractible"
           ],
           [
            282,
            250,
            238,
            192
           ],
           [
            7.522005868231528,
            6.668444918644973,
            6.348359562550013,
            5.121365697519339
           ]
          ]
         },
         "columnwidth": [
          200,
          100,
          100
         ],
         "header": {
          "align": [
           "left",
           "left",
           "left",
           "left",
           "left"
          ],
          "fill": {
           "color": "#B0C4DE"
          },
          "values": [
           "Overactivity/Hyperactivity",
           "Number of Dogs",
           "Prevalence (%)"
          ]
         },
         "type": "table"
        }
       ],
       "layout": {
        "height": 225,
        "margin": {
         "b": 50,
         "l": 50,
         "pad": 4,
         "r": 50,
         "t": 50
        },
        "width": 700
       }
      },
      "text/html": [
       "<div id=\"b418d0fe-e64e-42b2-bf08-a564c66e432d\" style=\"height: 225px; width: 700px;\" class=\"plotly-graph-div\"></div><script type=\"text/javascript\">require([\"plotly\"], function(Plotly) { window.PLOTLYENV=window.PLOTLYENV || {};window.PLOTLYENV.BASE_URL=\"https://plot.ly\";Plotly.newPlot(\"b418d0fe-e64e-42b2-bf08-a564c66e432d\", [{\"type\": \"table\", \"columnwidth\": [200, 100, 100], \"header\": {\"values\": [\"Overactivity/Hyperactivity\", \"Number of Dogs\", \"Prevalence (%)\"], \"fill\": {\"color\": \"#B0C4DE\"}, \"align\": [\"left\", \"left\", \"left\", \"left\", \"left\"]}, \"cells\": {\"values\": [[\"difficulty settling\", \"constant moving/jumping\", \"impulsive\", \"highly distractible\"], [282, 250, 238, 192], [7.522005868231528, 6.668444918644973, 6.348359562550013, 5.121365697519339]], \"align\": [\"left\", \"left\", \"left\", \"left\", \"left\"], \"format\": [null, \"d\", \".2f\"]}}], {\"width\": 700, \"height\": 225, \"margin\": {\"l\": 50, \"r\": 50, \"b\": 50, \"t\": 50, \"pad\": 4}}, {\"showLink\": true, \"linkText\": \"Export to plot.ly\"})});</script>"
      ],
      "text/vnd.plotly.v1+html": [
       "<div id=\"b418d0fe-e64e-42b2-bf08-a564c66e432d\" style=\"height: 225px; width: 700px;\" class=\"plotly-graph-div\"></div><script type=\"text/javascript\">require([\"plotly\"], function(Plotly) { window.PLOTLYENV=window.PLOTLYENV || {};window.PLOTLYENV.BASE_URL=\"https://plot.ly\";Plotly.newPlot(\"b418d0fe-e64e-42b2-bf08-a564c66e432d\", [{\"type\": \"table\", \"columnwidth\": [200, 100, 100], \"header\": {\"values\": [\"Overactivity/Hyperactivity\", \"Number of Dogs\", \"Prevalence (%)\"], \"fill\": {\"color\": \"#B0C4DE\"}, \"align\": [\"left\", \"left\", \"left\", \"left\", \"left\"]}, \"cells\": {\"values\": [[\"difficulty settling\", \"constant moving/jumping\", \"impulsive\", \"highly distractible\"], [282, 250, 238, 192], [7.522005868231528, 6.668444918644973, 6.348359562550013, 5.121365697519339]], \"align\": [\"left\", \"left\", \"left\", \"left\", \"left\"], \"format\": [null, \"d\", \".2f\"]}}], {\"width\": 700, \"height\": 225, \"margin\": {\"l\": 50, \"r\": 50, \"b\": 50, \"t\": 50, \"pad\": 4}}, {\"showLink\": true, \"linkText\": \"Export to plot.ly\"})});</script>"
      ]
     },
     "metadata": {},
     "output_type": "display_data"
    }
   ],
   "source": [
    "# Create the necessary dataframe.\n",
    "fields = 'q15_main_1, q15_main_2, q15_main_3, q15_main_4'\n",
    "labels = ['constant moving/jumping', 'difficulty settling', 'highly distractible',\n",
    "          'impulsive']\n",
    "df = createDataFrame(DOG_TABLE, fields, labels, filtered=True)\n",
    "\n",
    "# Get individual behavior problem counts and display as a table.\n",
    "sums = df.sum()\n",
    "sums = sums.sort_values(ascending=False)\n",
    "\n",
    "# Calculate the prevalence of each behavior problem.\n",
    "prevalence_cal = lambda x: (x / total_dogs) * 100\n",
    "prevalences = sums.apply(prevalence_cal)\n",
    "\n",
    "# Get individual behavior problem counts and display as a table.\n",
    "trace = go.Table(\n",
    "    columnwidth = [200, 100, 100],\n",
    "    header=dict(values=['Overactivity/Hyperactivity', 'Number of Dogs', 'Prevalence (%)'],\n",
    "                fill = dict(color='#B0C4DE'),\n",
    "                align = ['left'] * 5),\n",
    "    cells=dict(values=[sums.index.values, sums.values, prevalences.values],\n",
    "               align = ['left'] * 5,\n",
    "               format = [None, 'd', '.2f']))\n",
    "data = [trace] \n",
    "layout = go.Layout(width=700, height=225, margin=go.Margin(l=50, r=50, b=50, t=50, pad=4))\n",
    "fig = dict(data=data, layout=layout)\n",
    "py.iplot(fig)"
   ]
  },
  {
   "cell_type": "markdown",
   "metadata": {},
   "source": [
    "## Separation Anxiety, Noise Phobia, and Thunderstorm Phobia"
   ]
  },
  {
   "cell_type": "code",
   "execution_count": 26,
   "metadata": {},
   "outputs": [
    {
     "data": {
      "image/png": "[encoded data removed]",
      "text/plain": [
       "<Figure size 432x288 with 1 Axes>"
      ]
     },
     "metadata": {},
     "output_type": "display_data"
    },
    {
     "name": "stdout",
     "output_type": "stream",
     "text": [
      "Chi-squared Test of Independence for thunderstorm phobia and noise phobia:\n",
      "chi2 = 1200.877626, p = 3.93E-263, dof = 1\n",
      "The resulting p-value is below the set significance threshold (0.01).\n"
     ]
    },
    {
     "data": {
      "image/png": "[encoded data removed]",
      "text/plain": [
       "<Figure size 432x288 with 1 Axes>"
      ]
     },
     "metadata": {},
     "output_type": "display_data"
    },
    {
     "name": "stdout",
     "output_type": "stream",
     "text": [
      "Chi-squared Test of Independence for thunderstorm phobia and separation anxiety:\n",
      "chi2 = 160.293122, p = 9.76E-37, dof = 1\n",
      "The resulting p-value is below the set significance threshold (0.01).\n"
     ]
    },
    {
     "data": {
      "image/png": "[encoded data removed]",
      "text/plain": [
       "<Figure size 432x288 with 1 Axes>"
      ]
     },
     "metadata": {},
     "output_type": "display_data"
    },
    {
     "name": "stdout",
     "output_type": "stream",
     "text": [
      "Chi-squared Test of Independence for noise phobia and separation anxiety:\n",
      "chi2 = 184.001984, p = 6.48E-42, dof = 1\n",
      "The resulting p-value is below the set significance threshold (0.01).\n"
     ]
    }
   ],
   "source": [
    "# Create the necessary dataframe.\n",
    "fields = 'q04_1, q04_2, q04_9'\n",
    "labels = ['thunderstorm phobia', 'noise phobia', 'separation anxiety']\n",
    "df = createDataFrame(DOG_TABLE, fields, labels, filtered=True)\n",
    "\n",
    "pairs = [['thunderstorm phobia', 'noise phobia'],\n",
    "         ['thunderstorm phobia', 'separation anxiety'],\n",
    "         ['noise phobia', 'separation anxiety']]\n",
    "\n",
    "titles = ['Thunderstorm Phobia and Noise Phobia',\n",
    "          'Thunderstorm Phobia and Separation Anxiety',\n",
    "          'Noise Phobia and Separation Anxiety']\n",
    "\n",
    "counter = 0\n",
    "for pair in pairs:\n",
    "    # Create a contingency table.\n",
    "    contingency = pd.crosstab(df[pair[0]], df[pair[1]])\n",
    "    # Convert the cross tabulated dataframe to a series of sums.\n",
    "    d = {pair[0]: contingency[0][1],\n",
    "         pair[1]: contingency[1][0],\n",
    "         'both': contingency[1][1]}   \n",
    "    cross_sums = pd.Series(d)\n",
    "    # Display the cross tabulated data as a venn diagram.\n",
    "    labels = cross_sums.index.values\n",
    "    venn2(cross_sums, set_labels=labels[0:2])\n",
    "    plt.title(titles[counter])\n",
    "    plt.show()\n",
    "    # Execute a chi-squared test of independence.\n",
    "    print('Chi-squared Test of Independence for %s and %s:' %(pair[0], pair[1]))\n",
    "    c, p, dof, expected = scs.chi2_contingency(contingency, correction=False)\n",
    "    print('chi2 = %f, p = %.2E, dof = %d' %(c, p, dof))\n",
    "    if p < sig_p:\n",
    "        print('The resulting p-value is below the set significance threshold (%.2f).' %sig_p)\n",
    "    counter += 1"
   ]
  },
  {
   "cell_type": "code",
   "execution_count": 27,
   "metadata": {},
   "outputs": [
    {
     "data": {
      "image/png": "[encoded data removed]",
      "text/plain": [
       "<Figure size 432x288 with 1 Axes>"
      ]
     },
     "metadata": {},
     "output_type": "display_data"
    },
    {
     "name": "stdout",
     "output_type": "stream",
     "text": [
      "Chi-squared Test of Independence for separation anxiety and the combination of noise and\n",
      "thunderstorm phobia:\n",
      "chi2 = 247.979410, p = 1.79E-53, dof = 3\n",
      "The resulting p-value is below the set significance threshold (0.01).\n"
     ]
    }
   ],
   "source": [
    "# Create a contingency table.\n",
    "contingency = pd.crosstab(df['separation anxiety'], [df['noise phobia'],\n",
    "                                                     df['thunderstorm phobia']])\n",
    "\n",
    "# Convert the cross tabulated dataframe to a series of sums.\n",
    "d = {'separation anxiety': contingency[0][0][1],\n",
    "     'noise phobia': contingency[1][0][0],\n",
    "     'separation-noise': contingency[1][0][1],\n",
    "     'thunderstorm phobia': contingency[0][1][0],\n",
    "     'separation-thunderstorm': contingency[0][1][1],\n",
    "     'noise-thunderstorm': contingency[1][1][0],     \n",
    "     'all': contingency[1][1][1]}   \n",
    "cross_sums = pd.Series(d)\n",
    "\n",
    "# Display the cross tabulated data as a venn diagram.\n",
    "labels = [cross_sums.index.values[i] for i in [0, 1, 3]]\n",
    "venn3(cross_sums, set_labels=labels)\n",
    "plt.title('Separation Anxiety, Noise Phobia, and Thunderstorm Phobia')\n",
    "plt.show()\n",
    "\n",
    "# Execute a chi-squared test of independence.\n",
    "title = ('Chi-squared Test of Independence for separation anxiety and the combination of '\n",
    "         'noise and thunderstorm phobia:')\n",
    "print(textwrap.fill(title, width=90))\n",
    "c, p, dof, expected = scs.chi2_contingency(contingency, correction=False)\n",
    "print('chi2 = %f, p = %.2E, dof = %d' %(c, p, dof))\n",
    "if p < sig_p:\n",
    "    print('The resulting p-value is below the set significance threshold (%.2f).' %sig_p)"
   ]
  },
  {
   "cell_type": "markdown",
   "metadata": {},
   "source": [
    "## Compulsion and Fearful/Anxious Behaviors"
   ]
  },
  {
   "cell_type": "code",
   "execution_count": 28,
   "metadata": {},
   "outputs": [
    {
     "data": {
      "image/png": "[encoded data removed]",
      "text/plain": [
       "<Figure size 432x288 with 1 Axes>"
      ]
     },
     "metadata": {},
     "output_type": "display_data"
    }
   ],
   "source": [
    "# Create the necessary hdataframe.\n",
    "fields = 'q02_main_2, q02_main_3'\n",
    "labels = ['fear/anxiety', 'compulsion']\n",
    "df = createDataFrame(DOG_TABLE, fields, labels, filtered=True)\n",
    "\n",
    "# Cross tabulate the relevant columns.\n",
    "contingency = pd.crosstab(df['fear/anxiety'], df['compulsion'])\n",
    "\n",
    "# Convert the cross tabulated dataframe to a series of sums.\n",
    "d = {'fear/anxiety': contingency[0][1],\n",
    "     'compulsion': contingency[1][0],\n",
    "     'both': contingency[1][1]}   \n",
    "cross_sums = pd.Series(d)\n",
    "\n",
    "# Display the cross tabulated data as a venn diagram.\n",
    "labels = cross_sums.index.values\n",
    "venn2(cross_sums, set_labels=labels[0:2])\n",
    "plt.title('Fear/Anxiety and Compulsion')\n",
    "plt.show()"
   ]
  },
  {
   "cell_type": "code",
   "execution_count": 29,
   "metadata": {},
   "outputs": [
    {
     "name": "stdout",
     "output_type": "stream",
     "text": [
      "Chi-square Test of Independence:\n",
      "chi2 = 33.448407, p = 7.32E-09, dof = 1\n",
      "The resulting p-value is below the set significance threshold (0.01).\n"
     ]
    }
   ],
   "source": [
    "# Execute a chi-squared test of independence.\n",
    "c, p, dof, expected = scs.chi2_contingency(contingency, correction=False)\n",
    "print('Chi-square Test of Independence:')\n",
    "print('chi2 = %f, p = %.2E, dof = %d' %(c, p, dof))\n",
    "if p < sig_p:\n",
    "    print('The resulting p-value is below the set significance threshold (%.2f).' %sig_p)"
   ]
  },
  {
   "cell_type": "markdown",
   "metadata": {},
   "source": [
    "## Aggression and Fearful/Anxious Behavior"
   ]
  },
  {
   "cell_type": "markdown",
   "metadata": {},
   "source": [
    "### Overall Aggression and Fearful/Anxious Behavior"
   ]
  },
  {
   "cell_type": "code",
   "execution_count": 30,
   "metadata": {},
   "outputs": [
    {
     "data": {
      "image/png": "[encoded data removed]",
      "text/plain": [
       "<Figure size 432x288 with 1 Axes>"
      ]
     },
     "metadata": {},
     "output_type": "display_data"
    },
    {
     "name": "stdout",
     "output_type": "stream",
     "text": [
      "Chi-square Test of Independence:\n",
      "chi2 = 88.721901, p = 4.54E-21, dof = 1\n",
      "The resulting p-value is below the set significance threshold (0.01).\n"
     ]
    }
   ],
   "source": [
    "# Create the necessary dataframe.\n",
    "fields = 'q02_main_1, q02_main_2'\n",
    "labels = ['aggression', 'fear/anxiety']\n",
    "df = createDataFrame(DOG_TABLE, fields, labels, filtered=True)\n",
    "    \n",
    "# Create a contingency table.\n",
    "contingency = pd.crosstab(df['aggression'], df['fear/anxiety'])\n",
    "\n",
    "# Convert the cross tabulated dataframe to a series of sums.\n",
    "d = {'aggression': contingency[0][1],\n",
    "     'fear/anxiety': contingency[1][0],\n",
    "     'both': contingency[1][1]}   \n",
    "cross_sums = pd.Series(d)\n",
    "\n",
    "# Display the cross tabulated data as a venn diagram.\n",
    "labels = cross_sums.index.values\n",
    "venn2(cross_sums, set_labels=labels[0:2])\n",
    "plt.title('Aggression and Fear/Anxiety')\n",
    "plt.show()\n",
    "\n",
    "# Execute a chi-squared test of independence.\n",
    "c, p, dof, expected = scs.chi2_contingency(contingency, correction=False)\n",
    "print('Chi-square Test of Independence:')\n",
    "print('chi2 = %f, p = %.2E, dof = %d' %(c, p, dof))\n",
    "if p < sig_p:\n",
    "    print('The resulting p-value is below the set significance threshold (%.2f).' %sig_p)"
   ]
  },
  {
   "cell_type": "markdown",
   "metadata": {},
   "source": [
    "### Specifically Owner Directed Aggression and Fearful/Anxious Behavior"
   ]
  },
  {
   "cell_type": "code",
   "execution_count": 31,
   "metadata": {},
   "outputs": [
    {
     "data": {
      "image/png": "[encoded data removed]",
      "text/plain": [
       "<Figure size 432x288 with 1 Axes>"
      ]
     },
     "metadata": {},
     "output_type": "display_data"
    },
    {
     "name": "stdout",
     "output_type": "stream",
     "text": [
      "Chi-square Test of Independence:\n",
      "chi2 = 42.560816, p = 6.85E-11, dof = 1\n",
      "The resulting p-value is below the set significance threshold (0.01).\n"
     ]
    }
   ],
   "source": [
    "# Create the necessary dataframe.\n",
    "fields = 'q03_main_1, q02_main_2'\n",
    "labels = ['aggression', 'fear/anxiety']\n",
    "df = createDataFrame(DOG_TABLE, fields, labels, filtered=True)\n",
    "    \n",
    "# Create a contingency table.\n",
    "contingency = pd.crosstab(df['aggression'], df['fear/anxiety'])\n",
    "\n",
    "# Convert the cross tabulated dataframe to a series of sums.\n",
    "d = {'owner directed aggression': contingency[0][1],\n",
    "     'fear/anxiety': contingency[1][0],\n",
    "     'both': contingency[1][1]}   \n",
    "cross_sums = pd.Series(d)\n",
    "\n",
    "# Display the cross tabulated data as a venn diagram.\n",
    "labels = cross_sums.index.values\n",
    "venn2(cross_sums, set_labels=labels[0:2])\n",
    "plt.title('Owner Directed Aggression and Fear/Anxiety')\n",
    "plt.show()\n",
    "\n",
    "# Execute a chi-squared test of independence.\n",
    "c, p, dof, expected = scs.chi2_contingency(contingency, correction=False)\n",
    "print('Chi-square Test of Independence:')\n",
    "print('chi2 = %f, p = %.2E, dof = %d' %(c, p, dof))\n",
    "if p < sig_p:\n",
    "    print('The resulting p-value is below the set significance threshold (%.2f).' %sig_p)"
   ]
  },
  {
   "cell_type": "markdown",
   "metadata": {},
   "source": [
    "### Specifically Owner Directed Aggression and Separation Anxiety"
   ]
  },
  {
   "cell_type": "code",
   "execution_count": 32,
   "metadata": {},
   "outputs": [
    {
     "data": {
      "image/png": "[encoded data removed]",
      "text/plain": [
       "<Figure size 432x288 with 1 Axes>"
      ]
     },
     "metadata": {},
     "output_type": "display_data"
    },
    {
     "name": "stdout",
     "output_type": "stream",
     "text": [
      "Chi-square Test of Independence:\n",
      "chi2 = 37.394009, p = 9.65E-10, dof = 1\n",
      "The resulting p-value is below the set significance threshold (0.01).\n"
     ]
    }
   ],
   "source": [
    "# Create the necessary dataframe.\n",
    "fields = 'q03_main_1, q04_9'\n",
    "labels = ['aggression', 'anxiety']\n",
    "df = createDataFrame(DOG_TABLE, fields, labels, filtered=True)\n",
    "    \n",
    "# Create a contingency table.\n",
    "contingency = pd.crosstab(df['aggression'], df['anxiety'])\n",
    "\n",
    "# Convert the cross tabulated dataframe to a series of sums.\n",
    "d = {'owner directed aggression': contingency[0][1],\n",
    "     'separation anxiety': contingency[1][0],\n",
    "     'both': contingency[1][1]}   \n",
    "cross_sums = pd.Series(d)\n",
    "\n",
    "# Display the cross tabulated data as a venn diagram.\n",
    "labels = cross_sums.index.values\n",
    "venn2(cross_sums, set_labels=labels[0:2])\n",
    "plt.title('Owner Direct Aggression and Separation Anxiety')\n",
    "plt.show()\n",
    "\n",
    "# Execute a chi-squared test of independence.\n",
    "c, p, dof, expected = scs.chi2_contingency(contingency, correction=False)\n",
    "print('Chi-square Test of Independence:')\n",
    "print('chi2 = %f, p = %.2E, dof = %d' %(c, p, dof))\n",
    "if p < sig_p:\n",
    "    print('The resulting p-value is below the set significance threshold (%.2f).' %sig_p)"
   ]
  },
  {
   "cell_type": "markdown",
   "metadata": {},
   "source": [
    "## Chi-squared Matrix"
   ]
  },
  {
   "cell_type": "code",
   "execution_count": 33,
   "metadata": {},
   "outputs": [
    {
     "data": {
      "application/vnd.plotly.v1+json": {
       "data": [
        {
         "cells": {
          "align": [
           "left",
           "left",
           "left",
           "left",
           "left"
          ],
          "values": [
           [
            "A01",
            "A02",
            "A03",
            "A04",
            "A05",
            "A06",
            "A07",
            "A08",
            "A09",
            "A10",
            "A11",
            "B01",
            "B02",
            "B03",
            "B04",
            "B05",
            "B06",
            "B07",
            "B08",
            "B09",
            "B10",
            "B11",
            "C01",
            "C02",
            "C03",
            "C04",
            "C05",
            "C06",
            "C07",
            "C08",
            "C09",
            "C10",
            "C11",
            "C12",
            "C13",
            "D01",
            "D02",
            "D03",
            "D04",
            "D05",
            "D06",
            "D07",
            "D08",
            "E01",
            "E02",
            "E03",
            "E04",
            "E05",
            "E06",
            "F01",
            "F02",
            "F03",
            "G01",
            "G02",
            "G03",
            "G04",
            "H01",
            "H02",
            "H03",
            "I01",
            "I02",
            "J01",
            "J02",
            "J03",
            "J04",
            "K01",
            "K02",
            "K03",
            "K04",
            "L01",
            "L02",
            "L03",
            "L04"
           ],
           [
            "familiar people in the home",
            "stangers visiting the home",
            "stangers away from the home",
            "another dog in the home",
            "unfamiliar dogs visiting the home",
            "unfamilair dogs on walks (off lead)",
            "unfamilair dogs on walks (on lead)",
            "veterinarians",
            "trainers",
            "groomers",
            "animals other than dogs in the home",
            "thunderstorm phobia",
            "noise phobia",
            "crowd phobia",
            "phobia of other dogs",
            "PTSD",
            "general anxiety",
            "situational anxiety",
            "veterinarian phobia",
            "separation anxiety",
            "travel anxiety",
            "other",
            "spinning",
            "tail chasing",
            "shadow/light chasing",
            "running in geometric patterns",
            "licking of wrist/hock",
            "fly snapping",
            "sucking flank region/blankets",
            "tennis ball fetish",
            "collecting/arranging objects",
            "nail biting",
            "digging in yard",
            "stone/rock chewing",
            "other",
            "urine",
            "feces",
            "urine and feces",
            "specific locations",
            "anywhere",
            "owner present",
            "owner away",
            "excited/overwhelmed",
            "owner present",
            "owner away",
            "to get attention",
            "at tiggers (inside)",
            "at triggers (outside)",
            "during car rides",
            "owner",
            "family members",
            "strangers",
            "people",
            "familiar dogs",
            "unfamiliar dogs",
            "inanimate objects",
            "their own",
            "other dogs'",
            "other species'",
            "owner is home",
            "owner is away",
            "urine",
            "feces",
            "dead stuff",
            "garbage",
            "escapes when out",
            "escapes from home",
            "escapes from confinement",
            "returns home after escape",
            "constant moving/jumping",
            "difficulty settling",
            "highly distractible",
            "impulsive"
           ]
          ]
         },
         "columnwidth": [
          125,
          425
         ],
         "header": {
          "align": [
           "left",
           "left",
           "left",
           "left",
           "left"
          ],
          "fill": {
           "color": "#B0C4DE"
          },
          "values": [
           "Abbreviation",
           "Label"
          ]
         },
         "type": "table"
        }
       ],
       "layout": {
        "height": 1600,
        "margin": {
         "b": 50,
         "l": 50,
         "pad": 4,
         "r": 50,
         "t": 50
        },
        "width": 550
       }
      },
      "text/html": [
       "<div id=\"b4a7e14d-b2d1-4f69-9e1d-f675b18b8eb8\" style=\"height: 1600px; width: 550px;\" class=\"plotly-graph-div\"></div><script type=\"text/javascript\">require([\"plotly\"], function(Plotly) { window.PLOTLYENV=window.PLOTLYENV || {};window.PLOTLYENV.BASE_URL=\"https://plot.ly\";Plotly.newPlot(\"b4a7e14d-b2d1-4f69-9e1d-f675b18b8eb8\", [{\"type\": \"table\", \"columnwidth\": [125, 425], \"header\": {\"values\": [\"Abbreviation\", \"Label\"], \"fill\": {\"color\": \"#B0C4DE\"}, \"align\": [\"left\", \"left\", \"left\", \"left\", \"left\"]}, \"cells\": {\"values\": [[\"A01\", \"A02\", \"A03\", \"A04\", \"A05\", \"A06\", \"A07\", \"A08\", \"A09\", \"A10\", \"A11\", \"B01\", \"B02\", \"B03\", \"B04\", \"B05\", \"B06\", \"B07\", \"B08\", \"B09\", \"B10\", \"B11\", \"C01\", \"C02\", \"C03\", \"C04\", \"C05\", \"C06\", \"C07\", \"C08\", \"C09\", \"C10\", \"C11\", \"C12\", \"C13\", \"D01\", \"D02\", \"D03\", \"D04\", \"D05\", \"D06\", \"D07\", \"D08\", \"E01\", \"E02\", \"E03\", \"E04\", \"E05\", \"E06\", \"F01\", \"F02\", \"F03\", \"G01\", \"G02\", \"G03\", \"G04\", \"H01\", \"H02\", \"H03\", \"I01\", \"I02\", \"J01\", \"J02\", \"J03\", \"J04\", \"K01\", \"K02\", \"K03\", \"K04\", \"L01\", \"L02\", \"L03\", \"L04\"], [\"familiar people in the home\", \"stangers visiting the home\", \"stangers away from the home\", \"another dog in the home\", \"unfamiliar dogs visiting the home\", \"unfamilair dogs on walks (off lead)\", \"unfamilair dogs on walks (on lead)\", \"veterinarians\", \"trainers\", \"groomers\", \"animals other than dogs in the home\", \"thunderstorm phobia\", \"noise phobia\", \"crowd phobia\", \"phobia of other dogs\", \"PTSD\", \"general anxiety\", \"situational anxiety\", \"veterinarian phobia\", \"separation anxiety\", \"travel anxiety\", \"other\", \"spinning\", \"tail chasing\", \"shadow/light chasing\", \"running in geometric patterns\", \"licking of wrist/hock\", \"fly snapping\", \"sucking flank region/blankets\", \"tennis ball fetish\", \"collecting/arranging objects\", \"nail biting\", \"digging in yard\", \"stone/rock chewing\", \"other\", \"urine\", \"feces\", \"urine and feces\", \"specific locations\", \"anywhere\", \"owner present\", \"owner away\", \"excited/overwhelmed\", \"owner present\", \"owner away\", \"to get attention\", \"at tiggers (inside)\", \"at triggers (outside)\", \"during car rides\", \"owner\", \"family members\", \"strangers\", \"people\", \"familiar dogs\", \"unfamiliar dogs\", \"inanimate objects\", \"their own\", \"other dogs'\", \"other species'\", \"owner is home\", \"owner is away\", \"urine\", \"feces\", \"dead stuff\", \"garbage\", \"escapes when out\", \"escapes from home\", \"escapes from confinement\", \"returns home after escape\", \"constant moving/jumping\", \"difficulty settling\", \"highly distractible\", \"impulsive\"]], \"align\": [\"left\", \"left\", \"left\", \"left\", \"left\"]}}], {\"width\": 550, \"height\": 1600, \"margin\": {\"l\": 50, \"r\": 50, \"b\": 50, \"t\": 50, \"pad\": 4}}, {\"showLink\": true, \"linkText\": \"Export to plot.ly\"})});</script>"
      ],
      "text/vnd.plotly.v1+html": [
       "<div id=\"b4a7e14d-b2d1-4f69-9e1d-f675b18b8eb8\" style=\"height: 1600px; width: 550px;\" class=\"plotly-graph-div\"></div><script type=\"text/javascript\">require([\"plotly\"], function(Plotly) { window.PLOTLYENV=window.PLOTLYENV || {};window.PLOTLYENV.BASE_URL=\"https://plot.ly\";Plotly.newPlot(\"b4a7e14d-b2d1-4f69-9e1d-f675b18b8eb8\", [{\"type\": \"table\", \"columnwidth\": [125, 425], \"header\": {\"values\": [\"Abbreviation\", \"Label\"], \"fill\": {\"color\": \"#B0C4DE\"}, \"align\": [\"left\", \"left\", \"left\", \"left\", \"left\"]}, \"cells\": {\"values\": [[\"A01\", \"A02\", \"A03\", \"A04\", \"A05\", \"A06\", \"A07\", \"A08\", \"A09\", \"A10\", \"A11\", \"B01\", \"B02\", \"B03\", \"B04\", \"B05\", \"B06\", \"B07\", \"B08\", \"B09\", \"B10\", \"B11\", \"C01\", \"C02\", \"C03\", \"C04\", \"C05\", \"C06\", \"C07\", \"C08\", \"C09\", \"C10\", \"C11\", \"C12\", \"C13\", \"D01\", \"D02\", \"D03\", \"D04\", \"D05\", \"D06\", \"D07\", \"D08\", \"E01\", \"E02\", \"E03\", \"E04\", \"E05\", \"E06\", \"F01\", \"F02\", \"F03\", \"G01\", \"G02\", \"G03\", \"G04\", \"H01\", \"H02\", \"H03\", \"I01\", \"I02\", \"J01\", \"J02\", \"J03\", \"J04\", \"K01\", \"K02\", \"K03\", \"K04\", \"L01\", \"L02\", \"L03\", \"L04\"], [\"familiar people in the home\", \"stangers visiting the home\", \"stangers away from the home\", \"another dog in the home\", \"unfamiliar dogs visiting the home\", \"unfamilair dogs on walks (off lead)\", \"unfamilair dogs on walks (on lead)\", \"veterinarians\", \"trainers\", \"groomers\", \"animals other than dogs in the home\", \"thunderstorm phobia\", \"noise phobia\", \"crowd phobia\", \"phobia of other dogs\", \"PTSD\", \"general anxiety\", \"situational anxiety\", \"veterinarian phobia\", \"separation anxiety\", \"travel anxiety\", \"other\", \"spinning\", \"tail chasing\", \"shadow/light chasing\", \"running in geometric patterns\", \"licking of wrist/hock\", \"fly snapping\", \"sucking flank region/blankets\", \"tennis ball fetish\", \"collecting/arranging objects\", \"nail biting\", \"digging in yard\", \"stone/rock chewing\", \"other\", \"urine\", \"feces\", \"urine and feces\", \"specific locations\", \"anywhere\", \"owner present\", \"owner away\", \"excited/overwhelmed\", \"owner present\", \"owner away\", \"to get attention\", \"at tiggers (inside)\", \"at triggers (outside)\", \"during car rides\", \"owner\", \"family members\", \"strangers\", \"people\", \"familiar dogs\", \"unfamiliar dogs\", \"inanimate objects\", \"their own\", \"other dogs'\", \"other species'\", \"owner is home\", \"owner is away\", \"urine\", \"feces\", \"dead stuff\", \"garbage\", \"escapes when out\", \"escapes from home\", \"escapes from confinement\", \"returns home after escape\", \"constant moving/jumping\", \"difficulty settling\", \"highly distractible\", \"impulsive\"]], \"align\": [\"left\", \"left\", \"left\", \"left\", \"left\"]}}], {\"width\": 550, \"height\": 1600, \"margin\": {\"l\": 50, \"r\": 50, \"b\": 50, \"t\": 50, \"pad\": 4}}, {\"showLink\": true, \"linkText\": \"Export to plot.ly\"})});</script>"
      ]
     },
     "metadata": {},
     "output_type": "display_data"
    }
   ],
   "source": [
    "abbrevs = ['A01', 'A02', 'A03', 'A04', 'A05', 'A06', 'A07', 'A08', 'A09', 'A10', 'A11', 'B01', \n",
    "           'B02', 'B03', 'B04', 'B05', 'B06', 'B07', 'B08', 'B09', 'B10', 'B11', 'C01', 'C02', \n",
    "           'C03', 'C04', 'C05', 'C06', 'C07', 'C08', 'C09', 'C10', 'C11', 'C12', 'C13', 'D01', \n",
    "           'D02', 'D03', 'D04', 'D05', 'D06', 'D07', 'D08', 'E01', 'E02', 'E03', 'E04', 'E05', \n",
    "           'E06', 'F01', 'F02', 'F03', 'G01', 'G02', 'G03', 'G04', 'H01', 'H02', 'H03', 'I01', \n",
    "           'I02', 'J01', 'J02', 'J03', 'J04', 'K01', 'K02', 'K03', 'K04', 'L01', 'L02', 'L03', \n",
    "           'L04']\n",
    "labels_A = ['familiar people in the home', 'stangers visiting the home',\n",
    "            'stangers away from the home', 'another dog in the home',\n",
    "            'unfamiliar dogs visiting the home', 'unfamilair dogs on walks (off lead)',\n",
    "            'unfamilair dogs on walks (on lead)', 'veterinarians', 'trainers', 'groomers',\n",
    "            'animals other than dogs in the home']\n",
    "labels_B = ['thunderstorm phobia', 'noise phobia', 'crowd phobia', 'phobia of other dogs', \n",
    "            'PTSD', 'general anxiety', 'situational anxiety', 'veterinarian phobia',\n",
    "            'separation anxiety', 'travel anxiety', 'other']\n",
    "labels_C = ['spinning', 'tail chasing', 'shadow/light chasing',\n",
    "            'running in geometric patterns', 'licking of wrist/hock', 'fly snapping',\n",
    "            'sucking flank region/blankets', 'tennis ball fetish',\n",
    "            'collecting/arranging objects', 'nail biting', 'digging in yard',\n",
    "            'stone/rock chewing', 'other']\n",
    "labels_D = ['urine', 'feces', 'urine and feces', 'specific locations', 'anywhere',\n",
    "            'owner present', 'owner away', 'excited/overwhelmed']\n",
    "labels_E = ['owner present', 'owner away', 'to get attention', 'at tiggers (inside)',\n",
    "            'at triggers (outside)', 'during car rides']\n",
    "labels_F = ['owner', 'family members', 'strangers']\n",
    "labels_G = ['people', 'familiar dogs', 'unfamiliar dogs', 'inanimate objects']\n",
    "labels_H = ['their own', \"other dogs'\", \"other species'\"]\n",
    "labels_I = ['owner is home', 'owner is away']\n",
    "labels_J = ['urine', 'feces', 'dead stuff', 'garbage']\n",
    "labels_K = ['escapes when out', 'escapes from home', 'escapes from confinement',\n",
    "            'returns home after escape']\n",
    "labels_L = ['constant moving/jumping', 'difficulty settling', 'highly distractible',\n",
    "            'impulsive']\n",
    "labels = (labels_A + labels_B + labels_C + labels_D + labels_E + labels_F + labels_G\n",
    "          + labels_H + labels_I + labels_J + labels_K + labels_L)\n",
    "\n",
    "trace = go.Table(\n",
    "    columnwidth = [125, 425],\n",
    "    header=dict(values=['Abbreviation', 'Label'],\n",
    "                fill = dict(color='#B0C4DE'),\n",
    "                align = ['left'] * 5),\n",
    "    cells=dict(values=[abbrevs, labels],\n",
    "               align = ['left'] * 5))\n",
    "data = [trace] \n",
    "layout = go.Layout(width=550, height=1600, margin=go.Margin(l=50, r=50, b=50, t=50, pad=4))\n",
    "fig = dict(data=data, layout=layout)\n",
    "py.iplot(fig)"
   ]
  },
  {
   "cell_type": "code",
   "execution_count": 34,
   "metadata": {},
   "outputs": [
    {
     "data": {
      "image/png": "[encoded data removed]",
      "text/plain": [
       "<Figure size 1440x1080 with 2 Axes>"
      ]
     },
     "metadata": {},
     "output_type": "display_data"
    }
   ],
   "source": [
    "fields ='''\n",
    "    q03_main_1, q03_main_2, q03_main_3, q03_main_4, q03_main_5, q03_main_6, q03_main_7,\n",
    "        q03_main_8, q03_main_9, q03_main_10, q03_main_11,\n",
    "    q04_1, q04_2, q04_3, q04_4, q04_5, q04_6, q04_7, q04_8, q04_9, q04_10, q04_11,\n",
    "    q05_main_1, q05_main_2, q05_main_3, q05_main_4, q05_main_5, q05_main_6, q05_main_7,\n",
    "        q05_main_8, q05_main_9, q05_main_10, q05_main_11, q05_main_12, q05_main_13,\n",
    "    q06_situation_1, q06_situation_2, q06_situation_3, q06_soil_location_1,\n",
    "        q06_soil_location_2, q06_situation_1, q06_situation_2, q06_situation_3,\n",
    "    q07_sitatuon_1, q07_sitatuon_2, q07_sitatuon_3, q07_sitatuon_4, q07_sitatuon_5,\n",
    "        q07_sitatuon_6,\n",
    "    q08_who_1, q08_who_2, q08_who_3,\n",
    "    q09_main_1, q09_main_2, q09_main_3, q09_main_4,\n",
    "    q10_main_1, q10_main_2, q10_main_3,\n",
    "    q11_situation_1, q11_situation_2,\n",
    "    q12_main_1, q12_main_2, q12_main_3, q12_main_4,\n",
    "    q14_out, q14_house, q14_conf, q14_return,\n",
    "    q15_main_1, q15_main_2, q15_main_3, q15_main_4'''\n",
    "labels = ['A01', 'A02', 'A03', 'A04', 'A05', 'A06', 'A07', 'A08', 'A09', 'A10', 'A11', 'B01', \n",
    "          'B02', 'B03', 'B04', 'B05', 'B06', 'B07', 'B08', 'B09', 'B10', 'B11', 'C01', 'C02', \n",
    "          'C03', 'C04', 'C05', 'C06', 'C07', 'C08', 'C09', 'C10', 'C11', 'C12', 'C13', 'D01', \n",
    "          'D02', 'D03', 'D04', 'D05', 'D06', 'D07', 'D08', 'E01', 'E02', 'E03', 'E04', 'E05', \n",
    "          'E06', 'F01', 'F02', 'F03', 'G01', 'G02', 'G03', 'G04', 'H01', 'H02', 'H03', 'I01', \n",
    "          'I02', 'J01', 'J02', 'J03', 'J04', 'K01', 'K02', 'K03', 'K04', 'L01', 'L02', 'L03', \n",
    "          'L04']\n",
    "df = createDataFrame(DOG_TABLE, fields, labels, filtered=True)\n",
    "\n",
    "# A = aggression\n",
    "# B = fear/anxiety\n",
    "# C = compulsion\n",
    "# D = house soiling\n",
    "# E = excessive barking\n",
    "# F = jumping\n",
    "# G = mounting/humping\n",
    "# H = fecal consumption\n",
    "# I = destruction\n",
    "# J = rolling in repulsive objects\n",
    "# K = running away/escape\n",
    "# L = overactivity/hyperactivity\n",
    "\n",
    "cols = []\n",
    "chi2 = {}\n",
    "# Convert columns to integer type.\n",
    "for col in df:\n",
    "    cols.append(col)\n",
    "    chi2[col] = {}\n",
    "\n",
    "from  itertools import combinations\n",
    "pairs = list(combinations(df.columns,2))\n",
    "for pair in pairs:\n",
    "    contingency = pd.crosstab(df[pair[0]], df[pair[1]])\n",
    "    c, p, dof, expected = scs.chi2_contingency(contingency, correction=False)\n",
    "    chi2[pair[0]][pair[1]] = c\n",
    "    chi2[pair[1]][pair[0]] = c\n",
    "#chi2_matrix = np.array([chi2[i] for i in cols])\n",
    "\n",
    "df = pd.DataFrame(chi2).sort_index(ascending=True)\n",
    "\n",
    "# Heatmap\n",
    "fig, ax = plt.subplots(figsize=(20, 15))\n",
    "sns.heatmap(ax=ax, data=df)\n",
    "plt.yticks(rotation=0)\n",
    "ax.xaxis.tick_top()\n",
    "plt.xticks(rotation=90)\n",
    "plt.show()"
   ]
  },
  {
   "cell_type": "raw",
   "metadata": {},
   "source": [
    "<script>\n",
    "  $(document).ready(function(){\n",
    "    $('div.prompt').hide();\n",
    "    $('div.back-to-top').hide();\n",
    "    $('nav#menubar').hide();\n",
    "    $('.breadcrumb').hide();\n",
    "    $('.hidden-print').hide();\n",
    "  });\n",
    "</script>\n",
    "\n",
    "<footer id=\"attribution\" style=\"float:right; color:#999; background:#fff;\">\n",
    "Created with Jupyter, delivered by Fastly, rendered by Rackspace.\n",
    "</footer>"
   ]
  }
 ],
 "metadata": {
  "kernelspec": {
   "display_name": "Python 3",
   "language": "python",
   "name": "python3"
  },
  "language_info": {
   "codemirror_mode": {
    "name": "ipython",
    "version": 3
   },
   "file_extension": ".py",
   "mimetype": "text/x-python",
   "name": "python",
   "nbconvert_exporter": "python",
   "pygments_lexer": "ipython3",
   "version": "3.6.3"
  }
 },
 "nbformat": 4,
 "nbformat_minor": 2
}
