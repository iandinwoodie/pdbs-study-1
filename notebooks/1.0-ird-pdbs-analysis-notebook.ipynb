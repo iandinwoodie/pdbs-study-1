{
 "cells": [
  {
   "cell_type": "raw",
   "metadata": {},
   "source": [
    "<script>\n",
    "  function code_toggle() {\n",
    "    if (code_shown){\n",
    "      $('div.input').hide('500');\n",
    "      $('#toggleButton').val('Show Code')\n",
    "    } else {\n",
    "      $('div.input').show('500');\n",
    "      $('#toggleButton').val('Hide Code')\n",
    "    }\n",
    "    code_shown = !code_shown\n",
    "  }\n",
    "\n",
    "  $( document ).ready(function(){\n",
    "    code_shown=false;\n",
    "    $('div.input').hide()\n",
    "  });\n",
    "</script>\n",
    "<form action=\"javascript:code_toggle()\"><input type=\"submit\" id=\"toggleButton\" value=\"Show Code\"></form>"
   ]
  },
  {
   "cell_type": "markdown",
   "metadata": {},
   "source": [
    "# Pet Dog Behavior Study - Phase I"
   ]
  },
  {
   "cell_type": "code",
   "execution_count": 1,
   "metadata": {},
   "outputs": [
    {
     "data": {
      "text/html": [
       "<script>requirejs.config({paths: { 'plotly': ['https://cdn.plot.ly/plotly-latest.min']},});if(!window.Plotly) {{require(['plotly'],function(plotly) {window.Plotly=plotly;});}}</script>"
      ],
      "text/vnd.plotly.v1+html": [
       "<script>requirejs.config({paths: { 'plotly': ['https://cdn.plot.ly/plotly-latest.min']},});if(!window.Plotly) {{require(['plotly'],function(plotly) {window.Plotly=plotly;});}}</script>"
      ]
     },
     "metadata": {},
     "output_type": "display_data"
    }
   ],
   "source": [
    "import sqlite3\n",
    "import pandas as pd\n",
    "import plotly.offline as py\n",
    "import plotly.graph_objs as go\n",
    "from matplotlib_venn import venn2, venn3\n",
    "import scipy.stats as scs\n",
    "import textwrap\n",
    "import matplotlib.pyplot as plt\n",
    "import numpy as np\n",
    "import seaborn as sns\n",
    "\n",
    "# IPython magics for this notebook.\n",
    "%matplotlib inline\n",
    "\n",
    "# Initiate plotly IPython notebook mode.\n",
    "py.init_notebook_mode(connected=True)"
   ]
  },
  {
   "cell_type": "code",
   "execution_count": 2,
   "metadata": {},
   "outputs": [],
   "source": [
    "# Establish a connection to the database.\n",
    "con = sqlite3.connect('../data/processed/processed.db')\n",
    "\n",
    "# Establish bias filter.\n",
    "bias_filter = '''\n",
    "    JOIN users\n",
    "    USING (record_id)\n",
    "    WHERE NOT (question_reason_for_part_3 = 0)'''\n",
    "\n",
    "# Global variables\n",
    "USER_TABLE = 'users'\n",
    "DOG_TABLE = 'dogs'\n",
    "sig_p = 0.01"
   ]
  },
  {
   "cell_type": "code",
   "execution_count": 3,
   "metadata": {},
   "outputs": [],
   "source": [
    "def convertToNumeric(df):\n",
    "    for col in df:\n",
    "        df[col] = pd.to_numeric(df[col])\n",
    "    return df\n",
    "\n",
    "def createDataFrame(table, fields, labels, filtered):\n",
    "    query = 'SELECT ' + fields + ' FROM ' + table\n",
    "    if filtered:\n",
    "        query += ' ' + bias_filter\n",
    "    df = pd.read_sql_query(query, con)\n",
    "    df.columns = labels\n",
    "    return df\n",
    "\n",
    "def createNumericDataFrame(table, fields, labels, filtered):\n",
    "    df = createDataFrame(table, fields, labels, filtered)\n",
    "    return convertToNumeric(df)"
   ]
  },
  {
   "cell_type": "markdown",
   "metadata": {},
   "source": [
    "## Reasons for Joining the Study"
   ]
  },
  {
   "cell_type": "code",
   "execution_count": 4,
   "metadata": {},
   "outputs": [
    {
     "data": {
      "application/vnd.plotly.v1+json": {
       "data": [
        {
         "orientation": "h",
         "type": "bar",
         "x": [
          273,
          830,
          1049,
          1377,
          2595
         ],
         "y": [
          "other",
          "suspicion of behavior problems",
          "work with animals",
          "to help shelter animals",
          "love for dogs"
         ]
        }
       ],
       "layout": {
        "height": 400,
        "title": "Motivation for Study Enrollment",
        "width": 600,
        "xaxis": {
         "title": "number of participants"
        },
        "yaxis": {
         "automargin": true,
         "tickangle": 30,
         "tickprefix": " ",
         "ticksuffix": " ",
         "title": ""
        }
       }
      },
      "text/html": [
       "<div id=\"18b09c20-8aca-4515-98b1-36a211ce3b6a\" style=\"height: 400px; width: 600px;\" class=\"plotly-graph-div\"></div><script type=\"text/javascript\">require([\"plotly\"], function(Plotly) { window.PLOTLYENV=window.PLOTLYENV || {};window.PLOTLYENV.BASE_URL=\"https://plot.ly\";Plotly.newPlot(\"18b09c20-8aca-4515-98b1-36a211ce3b6a\", [{\"type\": \"bar\", \"y\": [\"other\", \"suspicion of behavior problems\", \"work with animals\", \"to help shelter animals\", \"love for dogs\"], \"x\": [273, 830, 1049, 1377, 2595], \"orientation\": \"h\"}], {\"title\": \"Motivation for Study Enrollment\", \"xaxis\": {\"title\": \"number of participants\"}, \"yaxis\": {\"title\": \"\", \"automargin\": true, \"tickangle\": 30, \"tickprefix\": \" \", \"ticksuffix\": \" \"}, \"width\": 600, \"height\": 400}, {\"showLink\": true, \"linkText\": \"Export to plot.ly\"})});</script>"
      ],
      "text/vnd.plotly.v1+html": [
       "<div id=\"18b09c20-8aca-4515-98b1-36a211ce3b6a\" style=\"height: 400px; width: 600px;\" class=\"plotly-graph-div\"></div><script type=\"text/javascript\">require([\"plotly\"], function(Plotly) { window.PLOTLYENV=window.PLOTLYENV || {};window.PLOTLYENV.BASE_URL=\"https://plot.ly\";Plotly.newPlot(\"18b09c20-8aca-4515-98b1-36a211ce3b6a\", [{\"type\": \"bar\", \"y\": [\"other\", \"suspicion of behavior problems\", \"work with animals\", \"to help shelter animals\", \"love for dogs\"], \"x\": [273, 830, 1049, 1377, 2595], \"orientation\": \"h\"}], {\"title\": \"Motivation for Study Enrollment\", \"xaxis\": {\"title\": \"number of participants\"}, \"yaxis\": {\"title\": \"\", \"automargin\": true, \"tickangle\": 30, \"tickprefix\": \" \", \"ticksuffix\": \" \"}, \"width\": 600, \"height\": 400}, {\"showLink\": true, \"linkText\": \"Export to plot.ly\"})});</script>"
      ]
     },
     "metadata": {},
     "output_type": "display_data"
    }
   ],
   "source": [
    "# Create the necessary dataframe.\n",
    "fields = ('question_reason_for_part_1, question_reason_for_part_2, '\n",
    "          'question_reason_for_part_3, question_reason_for_part_4, '\n",
    "          'question_reason_for_part_5')\n",
    "labels = ['love for dogs', 'to help shelter animals', 'suspicion of behavior problems',\n",
    "          'work with animals', 'other']\n",
    "df = createNumericDataFrame(USER_TABLE, fields, labels, filtered=False)\n",
    "    \n",
    "# Create a bar graph to illustrate breakdown of responses.\n",
    "sums = df.sum()\n",
    "sums = sums.sort_values(ascending=True)\n",
    "data = [go.Bar(y=sums.index.values,\n",
    "               x=sums.values,\n",
    "               orientation='h')]\n",
    "layout = go.Layout(title=\"Motivation for Study Enrollment\",\n",
    "                   xaxis=dict(title='number of participants'),\n",
    "                   yaxis=dict(title='',\n",
    "                              automargin=True,\n",
    "                              tickangle=30,\n",
    "                              tickprefix=' ',\n",
    "                              ticksuffix=' '),\n",
    "                   width=600,\n",
    "                   height=400)\n",
    "fig = go.Figure(data=data, layout=layout)\n",
    "py.iplot(fig)\n",
    "\n",
    "# NOTE: This does not include a count of users who did not provide a reason."
   ]
  },
  {
   "cell_type": "markdown",
   "metadata": {},
   "source": [
    "## Participating Canine Statistics"
   ]
  },
  {
   "cell_type": "markdown",
   "metadata": {},
   "source": [
    "### Breakdown of Participating Purebred Breeds"
   ]
  },
  {
   "cell_type": "code",
   "execution_count": 5,
   "metadata": {
    "scrolled": false
   },
   "outputs": [
    {
     "data": {
      "application/vnd.plotly.v1+json": {
       "data": [
        {
         "cells": {
          "align": [
           "left",
           "left",
           "left",
           "left",
           "left"
          ],
          "format": [
           null,
           "d",
           ".2f"
          ],
          "values": [
           [
            "labrador retriever",
            "german shepherd",
            "golden retriever",
            "poodle",
            "border collie",
            "cocker spaniel",
            "australian shepherd",
            "dachshund",
            "chihuahua",
            "shetland sheepdog"
           ],
           [
            420,
            163,
            155,
            125,
            111,
            78,
            72,
            61,
            49,
            44
           ],
           [
            8.369868473495416,
            3.248306098047031,
            3.088880031885213,
            2.491032283778398,
            2.2120366679952173,
            1.5544041450777202,
            1.434834595456357,
            1.2156237544838582,
            0.9764846552411319,
            0.876843363889996
           ]
          ]
         },
         "columnwidth": [
          100,
          100,
          100
         ],
         "header": {
          "align": [
           "left",
           "left",
           "left",
           "left",
           "left"
          ],
          "fill": {
           "color": "#B0C4DE"
          },
          "values": [
           "Breed",
           "Number of Dogs",
           "Prevalence (%)"
          ]
         },
         "type": "table"
        }
       ],
       "layout": {
        "height": 350,
        "margin": {
         "b": 50,
         "l": 50,
         "pad": 4,
         "r": 50,
         "t": 50
        },
        "title": "Top 10 Participating Breeds",
        "width": 700
       }
      },
      "text/html": [
       "<div id=\"91652a8a-dc63-41ce-9157-8e0884e1a96b\" style=\"height: 350px; width: 700px;\" class=\"plotly-graph-div\"></div><script type=\"text/javascript\">require([\"plotly\"], function(Plotly) { window.PLOTLYENV=window.PLOTLYENV || {};window.PLOTLYENV.BASE_URL=\"https://plot.ly\";Plotly.newPlot(\"91652a8a-dc63-41ce-9157-8e0884e1a96b\", [{\"type\": \"table\", \"columnwidth\": [100, 100, 100], \"header\": {\"values\": [\"Breed\", \"Number of Dogs\", \"Prevalence (%)\"], \"fill\": {\"color\": \"#B0C4DE\"}, \"align\": [\"left\", \"left\", \"left\", \"left\", \"left\"]}, \"cells\": {\"values\": [[\"labrador retriever\", \"german shepherd\", \"golden retriever\", \"poodle\", \"border collie\", \"cocker spaniel\", \"australian shepherd\", \"dachshund\", \"chihuahua\", \"shetland sheepdog\"], [420, 163, 155, 125, 111, 78, 72, 61, 49, 44], [8.369868473495416, 3.248306098047031, 3.088880031885213, 2.491032283778398, 2.2120366679952173, 1.5544041450777202, 1.434834595456357, 1.2156237544838582, 0.9764846552411319, 0.876843363889996]], \"align\": [\"left\", \"left\", \"left\", \"left\", \"left\"], \"format\": [null, \"d\", \".2f\"]}}], {\"title\": \"Top 10 Participating Breeds\", \"width\": 700, \"height\": 350, \"margin\": {\"l\": 50, \"r\": 50, \"b\": 50, \"t\": 50, \"pad\": 4}}, {\"showLink\": true, \"linkText\": \"Export to plot.ly\"})});</script>"
      ],
      "text/vnd.plotly.v1+html": [
       "<div id=\"91652a8a-dc63-41ce-9157-8e0884e1a96b\" style=\"height: 350px; width: 700px;\" class=\"plotly-graph-div\"></div><script type=\"text/javascript\">require([\"plotly\"], function(Plotly) { window.PLOTLYENV=window.PLOTLYENV || {};window.PLOTLYENV.BASE_URL=\"https://plot.ly\";Plotly.newPlot(\"91652a8a-dc63-41ce-9157-8e0884e1a96b\", [{\"type\": \"table\", \"columnwidth\": [100, 100, 100], \"header\": {\"values\": [\"Breed\", \"Number of Dogs\", \"Prevalence (%)\"], \"fill\": {\"color\": \"#B0C4DE\"}, \"align\": [\"left\", \"left\", \"left\", \"left\", \"left\"]}, \"cells\": {\"values\": [[\"labrador retriever\", \"german shepherd\", \"golden retriever\", \"poodle\", \"border collie\", \"cocker spaniel\", \"australian shepherd\", \"dachshund\", \"chihuahua\", \"shetland sheepdog\"], [420, 163, 155, 125, 111, 78, 72, 61, 49, 44], [8.369868473495416, 3.248306098047031, 3.088880031885213, 2.491032283778398, 2.2120366679952173, 1.5544041450777202, 1.434834595456357, 1.2156237544838582, 0.9764846552411319, 0.876843363889996]], \"align\": [\"left\", \"left\", \"left\", \"left\", \"left\"], \"format\": [null, \"d\", \".2f\"]}}], {\"title\": \"Top 10 Participating Breeds\", \"width\": 700, \"height\": 350, \"margin\": {\"l\": 50, \"r\": 50, \"b\": 50, \"t\": 50, \"pad\": 4}}, {\"showLink\": true, \"linkText\": \"Export to plot.ly\"})});</script>"
      ]
     },
     "metadata": {},
     "output_type": "display_data"
    }
   ],
   "source": [
    "# Create the necessary dataframe.\n",
    "fields = 'purebred_breed'\n",
    "labels = ['breed']\n",
    "df = createDataFrame(DOG_TABLE, fields, labels, filtered=False)\n",
    "\n",
    "df = df.replace('', np.nan, regex=True)\n",
    "df = df.replace('118', 'labrador retriever', regex=True)\n",
    "df = df.replace('92', 'german shepherd', regex=True)\n",
    "df = df.replace('97', 'golden retriever', regex=True)\n",
    "df = df.replace('151', 'poodle', regex=True)\n",
    "df = df.replace('43', 'border collie', regex=True)\n",
    "df = df.replace('71', 'cocker spaniel', regex=True)\n",
    "df = df.replace('16', 'australian shepherd', regex=True)\n",
    "df = df.replace('75', 'dachshund', regex=True)\n",
    "df = df.replace('64', 'chihuahua', regex=True)\n",
    "df = df.replace('170', 'shetland sheepdog', regex=True)\n",
    "\n",
    "sums = df['breed'].value_counts()\n",
    "sums = sums[:10]\n",
    "prevalence_cal = lambda x: (x / 5018) * 100\n",
    "prevalences = sums.apply(prevalence_cal)\n",
    "\n",
    "trace = go.Table(\n",
    "    columnwidth = [100, 100, 100],\n",
    "    header=dict(values=['Breed', 'Number of Dogs', 'Prevalence (%)'],\n",
    "                fill = dict(color='#B0C4DE'),\n",
    "                align = ['left'] * 5),\n",
    "    cells=dict(values=[sums.index.values, sums.values, prevalences.values],\n",
    "               align = ['left'] * 5,\n",
    "               format = [None, 'd', '.2f']))\n",
    "data = [trace] \n",
    "layout = go.Layout(\n",
    "    title='Top 10 Participating Breeds',\n",
    "    width=700, height=350, margin=go.Margin(l=50, r=50, b=50, t=50, pad=4))\n",
    "fig = dict(data=data, layout=layout)\n",
    "py.iplot(fig)"
   ]
  },
  {
   "cell_type": "markdown",
   "metadata": {},
   "source": [
    "### Breadown of Gender"
   ]
  },
  {
   "cell_type": "code",
   "execution_count": 6,
   "metadata": {},
   "outputs": [
    {
     "data": {
      "application/vnd.plotly.v1+json": {
       "data": [
        {
         "cells": {
          "align": [
           "left",
           "left",
           "left",
           "left",
           "left"
          ],
          "format": [
           null,
           "d",
           ".2f"
          ],
          "values": [
           [
            "female",
            "male"
           ],
           [
            2520,
            2482
           ],
           [
            50.219210840972494,
            49.461937026703865
           ]
          ]
         },
         "columnwidth": [
          100,
          100,
          100
         ],
         "header": {
          "align": [
           "left",
           "left",
           "left",
           "left",
           "left"
          ],
          "fill": {
           "color": "#B0C4DE"
          },
          "values": [
           "Gender",
           "Number of Dogs",
           "Prevalence (%)"
          ]
         },
         "type": "table"
        }
       ],
       "layout": {
        "height": 300,
        "margin": {
         "b": 50,
         "l": 50,
         "pad": 4,
         "r": 50,
         "t": 50
        },
        "title": "Gender of Participating Dogs",
        "width": 700
       }
      },
      "text/html": [
       "<div id=\"40814b27-601b-4bd0-bafc-a828ab49b3f2\" style=\"height: 300px; width: 700px;\" class=\"plotly-graph-div\"></div><script type=\"text/javascript\">require([\"plotly\"], function(Plotly) { window.PLOTLYENV=window.PLOTLYENV || {};window.PLOTLYENV.BASE_URL=\"https://plot.ly\";Plotly.newPlot(\"40814b27-601b-4bd0-bafc-a828ab49b3f2\", [{\"type\": \"table\", \"columnwidth\": [100, 100, 100], \"header\": {\"values\": [\"Gender\", \"Number of Dogs\", \"Prevalence (%)\"], \"fill\": {\"color\": \"#B0C4DE\"}, \"align\": [\"left\", \"left\", \"left\", \"left\", \"left\"]}, \"cells\": {\"values\": [[\"female\", \"male\"], [2520, 2482], [50.219210840972494, 49.461937026703865]], \"align\": [\"left\", \"left\", \"left\", \"left\", \"left\"], \"format\": [null, \"d\", \".2f\"]}}], {\"title\": \"Gender of Participating Dogs\", \"width\": 700, \"height\": 300, \"margin\": {\"l\": 50, \"r\": 50, \"b\": 50, \"t\": 50, \"pad\": 4}}, {\"showLink\": true, \"linkText\": \"Export to plot.ly\"})});</script>"
      ],
      "text/vnd.plotly.v1+html": [
       "<div id=\"40814b27-601b-4bd0-bafc-a828ab49b3f2\" style=\"height: 300px; width: 700px;\" class=\"plotly-graph-div\"></div><script type=\"text/javascript\">require([\"plotly\"], function(Plotly) { window.PLOTLYENV=window.PLOTLYENV || {};window.PLOTLYENV.BASE_URL=\"https://plot.ly\";Plotly.newPlot(\"40814b27-601b-4bd0-bafc-a828ab49b3f2\", [{\"type\": \"table\", \"columnwidth\": [100, 100, 100], \"header\": {\"values\": [\"Gender\", \"Number of Dogs\", \"Prevalence (%)\"], \"fill\": {\"color\": \"#B0C4DE\"}, \"align\": [\"left\", \"left\", \"left\", \"left\", \"left\"]}, \"cells\": {\"values\": [[\"female\", \"male\"], [2520, 2482], [50.219210840972494, 49.461937026703865]], \"align\": [\"left\", \"left\", \"left\", \"left\", \"left\"], \"format\": [null, \"d\", \".2f\"]}}], {\"title\": \"Gender of Participating Dogs\", \"width\": 700, \"height\": 300, \"margin\": {\"l\": 50, \"r\": 50, \"b\": 50, \"t\": 50, \"pad\": 4}}, {\"showLink\": true, \"linkText\": \"Export to plot.ly\"})});</script>"
      ]
     },
     "metadata": {},
     "output_type": "display_data"
    }
   ],
   "source": [
    "# Create the necessary dataframe.\n",
    "fields = 'dog_sex'\n",
    "labels = ['gender']\n",
    "df = createDataFrame(DOG_TABLE, fields, labels, filtered=False)\n",
    "\n",
    "df = df.replace('', np.nan, regex=True)\n",
    "df = df.replace('1', 'male', regex=True)\n",
    "df = df.replace('2', 'female', regex=True)\n",
    "\n",
    "sums = df['gender'].value_counts()\n",
    "prevalence_cal = lambda x: (x / 5018) * 100\n",
    "prevalences = sums.apply(prevalence_cal)\n",
    "\n",
    "trace = go.Table(\n",
    "    columnwidth = [100, 100, 100],\n",
    "    header=dict(values=['Gender', 'Number of Dogs', 'Prevalence (%)'],\n",
    "                fill = dict(color='#B0C4DE'),\n",
    "                align = ['left'] * 5),\n",
    "    cells=dict(values=[sums.index.values, sums.values, prevalences.values],\n",
    "               align = ['left'] * 5,\n",
    "               format = [None, 'd', '.2f']))\n",
    "data = [trace] \n",
    "layout = go.Layout(\n",
    "    title='Gender of Participating Dogs',\n",
    "    width=700, height=300, margin=go.Margin(l=50, r=50, b=50, t=50, pad=4))\n",
    "fig = dict(data=data, layout=layout)\n",
    "py.iplot(fig)"
   ]
  },
  {
   "cell_type": "markdown",
   "metadata": {},
   "source": [
    "### Breakdown of Neutered Status"
   ]
  },
  {
   "cell_type": "code",
   "execution_count": 39,
   "metadata": {},
   "outputs": [
    {
     "data": {
      "application/vnd.plotly.v1+json": {
       "data": [
        {
         "cells": {
          "align": [
           "left",
           "left",
           "left",
           "left",
           "left"
          ],
          "format": [
           null,
           "d",
           ".2f"
          ],
          "values": [
           [
            "yes",
            "no",
            "I don't know"
           ],
           [
            4288,
            706,
            6
           ],
           [
            85.45237146273415,
            14.06935033878039,
            0.11956954962136308
           ]
          ]
         },
         "columnwidth": [
          100,
          100,
          100
         ],
         "header": {
          "align": [
           "left",
           "left",
           "left",
           "left",
           "left"
          ],
          "fill": {
           "color": "#B0C4DE"
          },
          "values": [
           "Neutered",
           "Number of Dogs",
           "Prevalence (%)"
          ]
         },
         "type": "table"
        }
       ],
       "layout": {
        "height": 300,
        "margin": {
         "b": 50,
         "l": 50,
         "pad": 4,
         "r": 50,
         "t": 50
        },
        "title": "Neutered Status of Participating Dogs",
        "width": 700
       }
      },
      "text/html": [
       "<div id=\"c9755f58-c383-44ea-8f68-0187216b6c4d\" style=\"height: 300px; width: 700px;\" class=\"plotly-graph-div\"></div><script type=\"text/javascript\">require([\"plotly\"], function(Plotly) { window.PLOTLYENV=window.PLOTLYENV || {};window.PLOTLYENV.BASE_URL=\"https://plot.ly\";Plotly.newPlot(\"c9755f58-c383-44ea-8f68-0187216b6c4d\", [{\"type\": \"table\", \"columnwidth\": [100, 100, 100], \"header\": {\"values\": [\"Neutered\", \"Number of Dogs\", \"Prevalence (%)\"], \"fill\": {\"color\": \"#B0C4DE\"}, \"align\": [\"left\", \"left\", \"left\", \"left\", \"left\"]}, \"cells\": {\"values\": [[\"yes\", \"no\", \"I don't know\"], [4288, 706, 6], [85.45237146273415, 14.06935033878039, 0.11956954962136308]], \"align\": [\"left\", \"left\", \"left\", \"left\", \"left\"], \"format\": [null, \"d\", \".2f\"]}}], {\"title\": \"Neutered Status of Participating Dogs\", \"width\": 700, \"height\": 300, \"margin\": {\"l\": 50, \"r\": 50, \"b\": 50, \"t\": 50, \"pad\": 4}}, {\"showLink\": true, \"linkText\": \"Export to plot.ly\"})});</script>"
      ],
      "text/vnd.plotly.v1+html": [
       "<div id=\"c9755f58-c383-44ea-8f68-0187216b6c4d\" style=\"height: 300px; width: 700px;\" class=\"plotly-graph-div\"></div><script type=\"text/javascript\">require([\"plotly\"], function(Plotly) { window.PLOTLYENV=window.PLOTLYENV || {};window.PLOTLYENV.BASE_URL=\"https://plot.ly\";Plotly.newPlot(\"c9755f58-c383-44ea-8f68-0187216b6c4d\", [{\"type\": \"table\", \"columnwidth\": [100, 100, 100], \"header\": {\"values\": [\"Neutered\", \"Number of Dogs\", \"Prevalence (%)\"], \"fill\": {\"color\": \"#B0C4DE\"}, \"align\": [\"left\", \"left\", \"left\", \"left\", \"left\"]}, \"cells\": {\"values\": [[\"yes\", \"no\", \"I don't know\"], [4288, 706, 6], [85.45237146273415, 14.06935033878039, 0.11956954962136308]], \"align\": [\"left\", \"left\", \"left\", \"left\", \"left\"], \"format\": [null, \"d\", \".2f\"]}}], {\"title\": \"Neutered Status of Participating Dogs\", \"width\": 700, \"height\": 300, \"margin\": {\"l\": 50, \"r\": 50, \"b\": 50, \"t\": 50, \"pad\": 4}}, {\"showLink\": true, \"linkText\": \"Export to plot.ly\"})});</script>"
      ]
     },
     "metadata": {},
     "output_type": "display_data"
    }
   ],
   "source": [
    "# Create the necessary dataframe.\n",
    "fields = 'dog_spayed'\n",
    "labels = ['neutered']\n",
    "df = createDataFrame(DOG_TABLE, fields, labels, filtered=False)\n",
    "\n",
    "df = df.replace('', np.nan, regex=True)\n",
    "df = df.replace('0', 'no', regex=True)\n",
    "df = df.replace('1', 'yes', regex=True)\n",
    "df = df.replace('2', \"I don't know\", regex=True)\n",
    "\n",
    "sums = df['neutered'].value_counts()\n",
    "prevalence_cal = lambda x: (x / 5018) * 100\n",
    "prevalences = sums.apply(prevalence_cal)\n",
    "\n",
    "trace = go.Table(\n",
    "    columnwidth = [100, 100, 100],\n",
    "    header=dict(values=['Neutered', 'Number of Dogs', 'Prevalence (%)'],\n",
    "                fill = dict(color='#B0C4DE'),\n",
    "                align = ['left'] * 5),\n",
    "    cells=dict(values=[sums.index.values, sums.values, prevalences.values],\n",
    "               align = ['left'] * 5,\n",
    "               format = [None, 'd', '.2f']))\n",
    "data = [trace] \n",
    "layout = go.Layout(\n",
    "    title='Neutered Status of Participating Dogs',\n",
    "    width=700, height=300, margin=go.Margin(l=50, r=50, b=50, t=50, pad=4))\n",
    "fig = dict(data=data, layout=layout)\n",
    "py.iplot(fig)"
   ]
  },
  {
   "cell_type": "markdown",
   "metadata": {},
   "source": [
    "## Overall Prevalence of Behavior Problems\n",
    "\n",
    "Prevalence is defined as the proportion of a population found to be affected by a medical condition. This section aims to calculate the aggregate prevalence of the most common behavior problems in a given canine population."
   ]
  },
  {
   "cell_type": "markdown",
   "metadata": {},
   "source": [
    "### Gross and Adjusted Responses:"
   ]
  },
  {
   "cell_type": "code",
   "execution_count": 8,
   "metadata": {},
   "outputs": [
    {
     "name": "stdout",
     "output_type": "stream",
     "text": [
      "Total number of dogs: 5018\n",
      "Total number of dogs with a reported behavior problem: 4407\n",
      "Adjusted total number of dogs: 3749\n",
      "Adjusted total number of dogs with a reported behavior problem: 3207\n"
     ]
    }
   ],
   "source": [
    "# Create the necessary dataframe.\n",
    "query = '''\n",
    "    SELECT record_id, question_reason_for_part_3, q02_score\n",
    "    FROM users\n",
    "    JOIN dogs\n",
    "    USING(record_id)'''\n",
    "df_gross = pd.read_sql_query(query, con)\n",
    "df_gross.columns = ['id', 'suspicion', 'problems']\n",
    "\n",
    "# Get a count of the total number of dogs.\n",
    "cnt_total_dogs = len(df_gross.index)\n",
    "\n",
    "# Get a count of the dogs with reported behavior problem.\n",
    "# If the \"problems\" column does not equal zero, then a behavior problem was reported.\n",
    "cnt_total_dogs_w_problems = len(df_gross[df_gross['problems'] != '0'].index)\n",
    "\n",
    "# Create an adjusted dataframe by removing biased results.\n",
    "# A result is considered biased if a participant listed \"suspicion of a behavior problem\" as a\n",
    "# reason for joining the study.\n",
    "df_adjusted = df_gross[df_gross['suspicion'] == '0']\n",
    "\n",
    "# Get a count of the total number of dogs from the adjusted dataframe.\n",
    "cnt_total_dogs_adjusted = len(df_adjusted.index)\n",
    "\n",
    "# Get a count of the dogs with a reported behavior problem from the adjusted dataframe.\n",
    "cnt_total_dogs_w_problems_adjusted = len(df_adjusted[df_adjusted['problems'] != '0'].index)\n",
    "\n",
    "# Display the count results.\n",
    "print('Total number of dogs: %d' %cnt_total_dogs)\n",
    "print('Total number of dogs with a reported behavior problem: %d' %cnt_total_dogs_w_problems)\n",
    "print('Adjusted total number of dogs: %d' %cnt_total_dogs_adjusted)\n",
    "print('Adjusted total number of dogs with a reported behavior problem: %d'\n",
    "      %cnt_total_dogs_w_problems_adjusted)"
   ]
  },
  {
   "cell_type": "markdown",
   "metadata": {},
   "source": [
    "### Prevalence of Behavior Problems:"
   ]
  },
  {
   "cell_type": "code",
   "execution_count": 9,
   "metadata": {},
   "outputs": [
    {
     "name": "stdout",
     "output_type": "stream",
     "text": [
      "Gross prevalence: 87.82% (4407/5018)\n",
      "Adjusted prevalence: 85.54% (3207/3749)\n",
      "Shift in prevalence as a result of adjustment: -2.28%\n"
     ]
    }
   ],
   "source": [
    "# Calculate the gross prevalence.\n",
    "prevalence_gross = (cnt_total_dogs_w_problems / cnt_total_dogs) * 100\n",
    "\n",
    "# Calculate the adjusted prevalence.\n",
    "prevalence_adjusted = (cnt_total_dogs_w_problems_adjusted / cnt_total_dogs_adjusted) * 100\n",
    "\n",
    "# Calculate the difference between the gross and adjusted prevalence.\n",
    "diff_prevalence = prevalence_adjusted - prevalence_gross\n",
    "sign = '+' if diff_prevalence > 0 else ''\n",
    "\n",
    "# Display the prevalence results.\n",
    "print('Gross prevalence: %.2f%% (%d/%d)'\n",
    "      %(prevalence_gross, cnt_total_dogs_w_problems, cnt_total_dogs))\n",
    "print('Adjusted prevalence: %.2f%% (%d/%d)'\n",
    "      %(prevalence_adjusted, cnt_total_dogs_w_problems_adjusted, cnt_total_dogs_adjusted))\n",
    "print('Shift in prevalence as a result of adjustment: %s%.2f%%' %(sign, diff_prevalence))"
   ]
  },
  {
   "cell_type": "markdown",
   "metadata": {},
   "source": [
    "## Prevalence of Individual Behavior Problems\n",
    "\n",
    "This section aims to calculate the prevalence for each behavior problem included in the study. The adjusted dataset is utilized to eliminate potential bias."
   ]
  },
  {
   "cell_type": "code",
   "execution_count": 10,
   "metadata": {},
   "outputs": [
    {
     "data": {
      "application/vnd.plotly.v1+json": {
       "data": [
        {
         "cells": {
          "align": [
           "left",
           "left",
           "left",
           "left",
           "left"
          ],
          "format": [
           null,
           "d",
           ".2f"
          ],
          "values": [
           [
            "fear/anxiety",
            "aggression",
            "jumping",
            "excessive barking",
            "fecal consumption",
            "compulsion",
            "house soiling",
            "hyperactivity",
            "destruction",
            "rolling in repulsive objects",
            "mounting",
            "escape"
           ],
           [
            740,
            685,
            419,
            393,
            252,
            247,
            246,
            227,
            207,
            159,
            159,
            151
           ],
           [
            58.313632781717885,
            53.97951142631994,
            33.018124507486206,
            30.969267139479907,
            19.858156028368796,
            19.46414499605989,
            19.38534278959811,
            17.88810086682427,
            16.312056737588655,
            12.529550827423167,
            12.529550827423167,
            11.89913317572892
           ]
          ]
         },
         "header": {
          "align": [
           "left",
           "left",
           "left",
           "left",
           "left"
          ],
          "fill": {
           "color": "#B0C4DE"
          },
          "values": [
           "Behavior Problem",
           "Number of Dogs",
           "Prevalence (%)"
          ]
         },
         "type": "table"
        }
       ],
       "layout": {
        "height": 375,
        "margin": {
         "b": 50,
         "l": 50,
         "pad": 4,
         "r": 50,
         "t": 50
        },
        "width": 700
       }
      },
      "text/html": [
       "<div id=\"358ce1a6-38e7-402a-8966-f8d490cd4a33\" style=\"height: 375px; width: 700px;\" class=\"plotly-graph-div\"></div><script type=\"text/javascript\">require([\"plotly\"], function(Plotly) { window.PLOTLYENV=window.PLOTLYENV || {};window.PLOTLYENV.BASE_URL=\"https://plot.ly\";Plotly.newPlot(\"358ce1a6-38e7-402a-8966-f8d490cd4a33\", [{\"type\": \"table\", \"header\": {\"values\": [\"Behavior Problem\", \"Number of Dogs\", \"Prevalence (%)\"], \"fill\": {\"color\": \"#B0C4DE\"}, \"align\": [\"left\", \"left\", \"left\", \"left\", \"left\"]}, \"cells\": {\"values\": [[\"fear/anxiety\", \"aggression\", \"jumping\", \"excessive barking\", \"fecal consumption\", \"compulsion\", \"house soiling\", \"hyperactivity\", \"destruction\", \"rolling in repulsive objects\", \"mounting\", \"escape\"], [740, 685, 419, 393, 252, 247, 246, 227, 207, 159, 159, 151], [58.313632781717885, 53.97951142631994, 33.018124507486206, 30.969267139479907, 19.858156028368796, 19.46414499605989, 19.38534278959811, 17.88810086682427, 16.312056737588655, 12.529550827423167, 12.529550827423167, 11.89913317572892]], \"align\": [\"left\", \"left\", \"left\", \"left\", \"left\"], \"format\": [null, \"d\", \".2f\"]}}], {\"width\": 700, \"height\": 375, \"margin\": {\"l\": 50, \"r\": 50, \"b\": 50, \"t\": 50, \"pad\": 4}}, {\"showLink\": true, \"linkText\": \"Export to plot.ly\"})});</script>"
      ],
      "text/vnd.plotly.v1+html": [
       "<div id=\"358ce1a6-38e7-402a-8966-f8d490cd4a33\" style=\"height: 375px; width: 700px;\" class=\"plotly-graph-div\"></div><script type=\"text/javascript\">require([\"plotly\"], function(Plotly) { window.PLOTLYENV=window.PLOTLYENV || {};window.PLOTLYENV.BASE_URL=\"https://plot.ly\";Plotly.newPlot(\"358ce1a6-38e7-402a-8966-f8d490cd4a33\", [{\"type\": \"table\", \"header\": {\"values\": [\"Behavior Problem\", \"Number of Dogs\", \"Prevalence (%)\"], \"fill\": {\"color\": \"#B0C4DE\"}, \"align\": [\"left\", \"left\", \"left\", \"left\", \"left\"]}, \"cells\": {\"values\": [[\"fear/anxiety\", \"aggression\", \"jumping\", \"excessive barking\", \"fecal consumption\", \"compulsion\", \"house soiling\", \"hyperactivity\", \"destruction\", \"rolling in repulsive objects\", \"mounting\", \"escape\"], [740, 685, 419, 393, 252, 247, 246, 227, 207, 159, 159, 151], [58.313632781717885, 53.97951142631994, 33.018124507486206, 30.969267139479907, 19.858156028368796, 19.46414499605989, 19.38534278959811, 17.88810086682427, 16.312056737588655, 12.529550827423167, 12.529550827423167, 11.89913317572892]], \"align\": [\"left\", \"left\", \"left\", \"left\", \"left\"], \"format\": [null, \"d\", \".2f\"]}}], {\"width\": 700, \"height\": 375, \"margin\": {\"l\": 50, \"r\": 50, \"b\": 50, \"t\": 50, \"pad\": 4}}, {\"showLink\": true, \"linkText\": \"Export to plot.ly\"})});</script>"
      ]
     },
     "metadata": {},
     "output_type": "display_data"
    }
   ],
   "source": [
    "# Create the necessary dataframe.\n",
    "fields = ('q02_main_1, q02_main_2, q02_main_3, q02_main_4, q02_main_5, q02_main_6, '\n",
    "          'q02_main_7, q02_main_8, q02_main_9, q02_main_10, q02_main_12, q02_main_13')\n",
    "labels = ['aggression', 'fear/anxiety', 'compulsion', 'house soiling', 'excessive barking', \n",
    "          'jumping', 'mounting', 'fecal consumption', 'destruction',\n",
    "          'rolling in repulsive objects', 'escape', 'hyperactivity']\n",
    "df = createNumericDataFrame(DOG_TABLE, fields, labels, filtered=True)\n",
    "\n",
    "# Get individual behavior problem counts and display as a table.\n",
    "sums = df.sum()\n",
    "sums = sums.sort_values(ascending=False)\n",
    "\n",
    "# Calculate the prevalence of each behavior problem.\n",
    "total_dogs = len(df.index)\n",
    "prevalence_cal = lambda x: (x / total_dogs) * 100\n",
    "prevalences = sums.apply(prevalence_cal)\n",
    "\n",
    "# Get individual behavior problem counts and display as a table.\n",
    "trace = go.Table(\n",
    "    header=dict(values=['Behavior Problem', 'Number of Dogs', 'Prevalence (%)'],\n",
    "                fill = dict(color='#B0C4DE'),\n",
    "                align = ['left'] * 5),\n",
    "    cells=dict(values=[sums.index.values, sums.values, prevalences.values],\n",
    "               align = ['left'] * 5,\n",
    "               format = [None, 'd', '.2f']))\n",
    "data = [trace] \n",
    "layout = go.Layout(width=700, height=375, margin=go.Margin(l=50, r=50, b=50, t=50, pad=4))\n",
    "fig = dict(data=data, layout=layout)\n",
    "py.iplot(fig)"
   ]
  },
  {
   "cell_type": "code",
   "execution_count": 11,
   "metadata": {},
   "outputs": [
    {
     "data": {
      "application/vnd.plotly.v1+json": {
       "data": [
        {
         "orientation": "h",
         "type": "bar",
         "x": [
          11.89913317572892,
          12.529550827423167,
          12.529550827423167,
          16.312056737588655,
          17.88810086682427,
          19.38534278959811,
          19.46414499605989,
          19.858156028368796,
          30.969267139479907,
          33.018124507486206,
          53.97951142631994,
          58.313632781717885
         ],
         "y": [
          "escape",
          "rolling in repulsive objects",
          "mounting",
          "destruction",
          "hyperactivity",
          "house soiling",
          "compulsion",
          "fecal consumption",
          "excessive barking",
          "jumping",
          "aggression",
          "fear/anxiety"
         ]
        }
       ],
       "layout": {
        "height": 500,
        "title": "Prevalence of Behavior Problems",
        "width": 700,
        "xaxis": {
         "title": "prevalence (%)"
        },
        "yaxis": {
         "automargin": true,
         "tickangle": 30,
         "tickprefix": " ",
         "ticksuffix": " ",
         "title": ""
        }
       }
      },
      "text/html": [
       "<div id=\"7ff761f4-7dd6-41b7-ae48-b5a7a838dca1\" style=\"height: 500px; width: 700px;\" class=\"plotly-graph-div\"></div><script type=\"text/javascript\">require([\"plotly\"], function(Plotly) { window.PLOTLYENV=window.PLOTLYENV || {};window.PLOTLYENV.BASE_URL=\"https://plot.ly\";Plotly.newPlot(\"7ff761f4-7dd6-41b7-ae48-b5a7a838dca1\", [{\"type\": \"bar\", \"x\": [11.89913317572892, 12.529550827423167, 12.529550827423167, 16.312056737588655, 17.88810086682427, 19.38534278959811, 19.46414499605989, 19.858156028368796, 30.969267139479907, 33.018124507486206, 53.97951142631994, 58.313632781717885], \"y\": [\"escape\", \"rolling in repulsive objects\", \"mounting\", \"destruction\", \"hyperactivity\", \"house soiling\", \"compulsion\", \"fecal consumption\", \"excessive barking\", \"jumping\", \"aggression\", \"fear/anxiety\"], \"orientation\": \"h\"}], {\"title\": \"Prevalence of Behavior Problems\", \"xaxis\": {\"title\": \"prevalence (%)\"}, \"yaxis\": {\"title\": \"\", \"automargin\": true, \"tickangle\": 30, \"tickprefix\": \" \", \"ticksuffix\": \" \"}, \"width\": 700, \"height\": 500}, {\"showLink\": true, \"linkText\": \"Export to plot.ly\"})});</script>"
      ],
      "text/vnd.plotly.v1+html": [
       "<div id=\"7ff761f4-7dd6-41b7-ae48-b5a7a838dca1\" style=\"height: 500px; width: 700px;\" class=\"plotly-graph-div\"></div><script type=\"text/javascript\">require([\"plotly\"], function(Plotly) { window.PLOTLYENV=window.PLOTLYENV || {};window.PLOTLYENV.BASE_URL=\"https://plot.ly\";Plotly.newPlot(\"7ff761f4-7dd6-41b7-ae48-b5a7a838dca1\", [{\"type\": \"bar\", \"x\": [11.89913317572892, 12.529550827423167, 12.529550827423167, 16.312056737588655, 17.88810086682427, 19.38534278959811, 19.46414499605989, 19.858156028368796, 30.969267139479907, 33.018124507486206, 53.97951142631994, 58.313632781717885], \"y\": [\"escape\", \"rolling in repulsive objects\", \"mounting\", \"destruction\", \"hyperactivity\", \"house soiling\", \"compulsion\", \"fecal consumption\", \"excessive barking\", \"jumping\", \"aggression\", \"fear/anxiety\"], \"orientation\": \"h\"}], {\"title\": \"Prevalence of Behavior Problems\", \"xaxis\": {\"title\": \"prevalence (%)\"}, \"yaxis\": {\"title\": \"\", \"automargin\": true, \"tickangle\": 30, \"tickprefix\": \" \", \"ticksuffix\": \" \"}, \"width\": 700, \"height\": 500}, {\"showLink\": true, \"linkText\": \"Export to plot.ly\"})});</script>"
      ]
     },
     "metadata": {},
     "output_type": "display_data"
    }
   ],
   "source": [
    "prevalences = prevalences.sort_values(ascending=True)\n",
    "trace = go.Bar(\n",
    "    x=prevalences.values,\n",
    "    y=prevalences.index.values,\n",
    "    orientation='h')\n",
    "data = [trace]\n",
    "layout = go.Layout(title='Prevalence of Behavior Problems',\n",
    "                   xaxis=dict(title='prevalence (%)'),\n",
    "                   yaxis=dict(title='',\n",
    "                              automargin=True,\n",
    "                              tickangle=30,\n",
    "                              tickprefix=' ',\n",
    "                              ticksuffix=' '),\n",
    "                   width=700,\n",
    "                   height=500\n",
    "                  )\n",
    "fig = dict(data=data, layout=layout)\n",
    "py.iplot(fig)"
   ]
  },
  {
   "cell_type": "markdown",
   "metadata": {},
   "source": [
    "## Behavior Problem Compositions"
   ]
  },
  {
   "cell_type": "markdown",
   "metadata": {},
   "source": [
    "### Aggression"
   ]
  },
  {
   "cell_type": "code",
   "execution_count": 12,
   "metadata": {},
   "outputs": [
    {
     "data": {
      "application/vnd.plotly.v1+json": {
       "data": [
        {
         "cells": {
          "align": [
           "left",
           "left",
           "left",
           "left",
           "left"
          ],
          "format": [
           null,
           "d",
           ".2f"
          ],
          "values": [
           [
            "unfamilair dogs on walks (on lead)",
            "stangers visiting the home",
            "another dog in the home",
            "unfamiliar dogs visiting the home",
            "unfamilair dogs on walks (off lead)",
            "stangers away from the home",
            "familiar people in the home",
            "veterinarians",
            "animals other than dogs in the home",
            "groomers",
            "trainers"
           ],
           [
            427,
            279,
            273,
            238,
            235,
            234,
            176,
            133,
            109,
            47,
            43
           ],
           [
            33.64854215918046,
            21.98581560283688,
            21.513002364066196,
            18.75492513790386,
            18.51851851851852,
            18.439716312056735,
            13.869188337273444,
            10.480693459416864,
            8.58944050433412,
            3.7037037037037033,
            3.38849487785658
           ]
          ]
         },
         "columnwidth": [
          200,
          100,
          100
         ],
         "header": {
          "align": [
           "left",
           "left",
           "left",
           "left",
           "left"
          ],
          "fill": {
           "color": "#B0C4DE"
          },
          "values": [
           "Type of Aggression",
           "Number of Dogs",
           "Prevalence (%)"
          ]
         },
         "type": "table"
        }
       ],
       "layout": {
        "height": 350,
        "margin": {
         "b": 50,
         "l": 50,
         "pad": 4,
         "r": 50,
         "t": 50
        },
        "width": 700
       }
      },
      "text/html": [
       "<div id=\"202df8ff-abe2-40dc-98f6-4529dcdc51d2\" style=\"height: 350px; width: 700px;\" class=\"plotly-graph-div\"></div><script type=\"text/javascript\">require([\"plotly\"], function(Plotly) { window.PLOTLYENV=window.PLOTLYENV || {};window.PLOTLYENV.BASE_URL=\"https://plot.ly\";Plotly.newPlot(\"202df8ff-abe2-40dc-98f6-4529dcdc51d2\", [{\"type\": \"table\", \"columnwidth\": [200, 100, 100], \"header\": {\"values\": [\"Type of Aggression\", \"Number of Dogs\", \"Prevalence (%)\"], \"fill\": {\"color\": \"#B0C4DE\"}, \"align\": [\"left\", \"left\", \"left\", \"left\", \"left\"]}, \"cells\": {\"values\": [[\"unfamilair dogs on walks (on lead)\", \"stangers visiting the home\", \"another dog in the home\", \"unfamiliar dogs visiting the home\", \"unfamilair dogs on walks (off lead)\", \"stangers away from the home\", \"familiar people in the home\", \"veterinarians\", \"animals other than dogs in the home\", \"groomers\", \"trainers\"], [427, 279, 273, 238, 235, 234, 176, 133, 109, 47, 43], [33.64854215918046, 21.98581560283688, 21.513002364066196, 18.75492513790386, 18.51851851851852, 18.439716312056735, 13.869188337273444, 10.480693459416864, 8.58944050433412, 3.7037037037037033, 3.38849487785658]], \"align\": [\"left\", \"left\", \"left\", \"left\", \"left\"], \"format\": [null, \"d\", \".2f\"]}}], {\"width\": 700, \"height\": 350, \"margin\": {\"l\": 50, \"r\": 50, \"b\": 50, \"t\": 50, \"pad\": 4}}, {\"showLink\": true, \"linkText\": \"Export to plot.ly\"})});</script>"
      ],
      "text/vnd.plotly.v1+html": [
       "<div id=\"202df8ff-abe2-40dc-98f6-4529dcdc51d2\" style=\"height: 350px; width: 700px;\" class=\"plotly-graph-div\"></div><script type=\"text/javascript\">require([\"plotly\"], function(Plotly) { window.PLOTLYENV=window.PLOTLYENV || {};window.PLOTLYENV.BASE_URL=\"https://plot.ly\";Plotly.newPlot(\"202df8ff-abe2-40dc-98f6-4529dcdc51d2\", [{\"type\": \"table\", \"columnwidth\": [200, 100, 100], \"header\": {\"values\": [\"Type of Aggression\", \"Number of Dogs\", \"Prevalence (%)\"], \"fill\": {\"color\": \"#B0C4DE\"}, \"align\": [\"left\", \"left\", \"left\", \"left\", \"left\"]}, \"cells\": {\"values\": [[\"unfamilair dogs on walks (on lead)\", \"stangers visiting the home\", \"another dog in the home\", \"unfamiliar dogs visiting the home\", \"unfamilair dogs on walks (off lead)\", \"stangers away from the home\", \"familiar people in the home\", \"veterinarians\", \"animals other than dogs in the home\", \"groomers\", \"trainers\"], [427, 279, 273, 238, 235, 234, 176, 133, 109, 47, 43], [33.64854215918046, 21.98581560283688, 21.513002364066196, 18.75492513790386, 18.51851851851852, 18.439716312056735, 13.869188337273444, 10.480693459416864, 8.58944050433412, 3.7037037037037033, 3.38849487785658]], \"align\": [\"left\", \"left\", \"left\", \"left\", \"left\"], \"format\": [null, \"d\", \".2f\"]}}], {\"width\": 700, \"height\": 350, \"margin\": {\"l\": 50, \"r\": 50, \"b\": 50, \"t\": 50, \"pad\": 4}}, {\"showLink\": true, \"linkText\": \"Export to plot.ly\"})});</script>"
      ]
     },
     "metadata": {},
     "output_type": "display_data"
    }
   ],
   "source": [
    "# Create the necessary dataframe.\n",
    "fields = ('q03_main_1, q03_main_2, q03_main_3, q03_main_4, q03_main_5, q03_main_6, '\n",
    "          'q03_main_7, q03_main_8, q03_main_9, q03_main_10, q03_main_11')\n",
    "labels = ['familiar people in the home', 'stangers visiting the home',\n",
    "          'stangers away from the home', 'another dog in the home',\n",
    "          'unfamiliar dogs visiting the home', 'unfamilair dogs on walks (off lead)',\n",
    "          'unfamilair dogs on walks (on lead)', 'veterinarians', 'trainers', 'groomers',\n",
    "          'animals other than dogs in the home']\n",
    "df = createNumericDataFrame(DOG_TABLE, fields, labels, filtered=True)\n",
    "\n",
    "# Get individual behavior problem counts and display as a table.\n",
    "sums = df.sum()\n",
    "sums = sums.sort_values(ascending=False)\n",
    "\n",
    "# Calculate the prevalence of each behavior problem.\n",
    "prevalence_cal = lambda x: (x / total_dogs) * 100\n",
    "prevalences = sums.apply(prevalence_cal)\n",
    "\n",
    "# Get individual behavior problem counts and display as a table.\n",
    "trace = go.Table(\n",
    "    columnwidth = [200, 100, 100],\n",
    "    header=dict(values=['Type of Aggression', 'Number of Dogs', 'Prevalence (%)'],\n",
    "                fill = dict(color='#B0C4DE'),\n",
    "                align = ['left'] * 5),\n",
    "    cells=dict(values=[sums.index.values, sums.values, prevalences.values],\n",
    "               align = ['left'] * 5,\n",
    "               format = [None, 'd', '.2f']))\n",
    "data = [trace] \n",
    "layout = go.Layout(width=700, height=350, margin=go.Margin(l=50, r=50, b=50, t=50, pad=4))\n",
    "fig = dict(data=data, layout=layout)\n",
    "py.iplot(fig)"
   ]
  },
  {
   "cell_type": "code",
   "execution_count": 13,
   "metadata": {},
   "outputs": [
    {
     "data": {
      "application/vnd.plotly.v1+json": {
       "data": [
        {
         "orientation": "h",
         "type": "bar",
         "x": [
          3.38849487785658,
          3.7037037037037033,
          8.58944050433412,
          10.480693459416864,
          13.869188337273444,
          18.439716312056735,
          18.51851851851852,
          18.75492513790386,
          21.513002364066196,
          21.98581560283688,
          33.64854215918046
         ],
         "y": [
          "trainers",
          "groomers",
          "animals other than dogs in the home",
          "veterinarians",
          "familiar people in the home",
          "stangers away from the home",
          "unfamilair dogs on walks (off lead)",
          "unfamiliar dogs visiting the home",
          "another dog in the home",
          "stangers visiting the home",
          "unfamilair dogs on walks (on lead)"
         ]
        }
       ],
       "layout": {
        "height": 500,
        "title": "Prevalence of Aggression",
        "width": 700,
        "xaxis": {
         "title": "prevalence (%)"
        },
        "yaxis": {
         "automargin": true,
         "tickangle": 30,
         "tickprefix": " ",
         "ticksuffix": " ",
         "title": ""
        }
       }
      },
      "text/html": [
       "<div id=\"03cc922b-8308-4a92-8f4a-154e88fd814f\" style=\"height: 500px; width: 700px;\" class=\"plotly-graph-div\"></div><script type=\"text/javascript\">require([\"plotly\"], function(Plotly) { window.PLOTLYENV=window.PLOTLYENV || {};window.PLOTLYENV.BASE_URL=\"https://plot.ly\";Plotly.newPlot(\"03cc922b-8308-4a92-8f4a-154e88fd814f\", [{\"type\": \"bar\", \"x\": [3.38849487785658, 3.7037037037037033, 8.58944050433412, 10.480693459416864, 13.869188337273444, 18.439716312056735, 18.51851851851852, 18.75492513790386, 21.513002364066196, 21.98581560283688, 33.64854215918046], \"y\": [\"trainers\", \"groomers\", \"animals other than dogs in the home\", \"veterinarians\", \"familiar people in the home\", \"stangers away from the home\", \"unfamilair dogs on walks (off lead)\", \"unfamiliar dogs visiting the home\", \"another dog in the home\", \"stangers visiting the home\", \"unfamilair dogs on walks (on lead)\"], \"orientation\": \"h\"}], {\"title\": \"Prevalence of Aggression\", \"xaxis\": {\"title\": \"prevalence (%)\"}, \"yaxis\": {\"title\": \"\", \"automargin\": true, \"tickangle\": 30, \"tickprefix\": \" \", \"ticksuffix\": \" \"}, \"width\": 700, \"height\": 500}, {\"showLink\": true, \"linkText\": \"Export to plot.ly\"})});</script>"
      ],
      "text/vnd.plotly.v1+html": [
       "<div id=\"03cc922b-8308-4a92-8f4a-154e88fd814f\" style=\"height: 500px; width: 700px;\" class=\"plotly-graph-div\"></div><script type=\"text/javascript\">require([\"plotly\"], function(Plotly) { window.PLOTLYENV=window.PLOTLYENV || {};window.PLOTLYENV.BASE_URL=\"https://plot.ly\";Plotly.newPlot(\"03cc922b-8308-4a92-8f4a-154e88fd814f\", [{\"type\": \"bar\", \"x\": [3.38849487785658, 3.7037037037037033, 8.58944050433412, 10.480693459416864, 13.869188337273444, 18.439716312056735, 18.51851851851852, 18.75492513790386, 21.513002364066196, 21.98581560283688, 33.64854215918046], \"y\": [\"trainers\", \"groomers\", \"animals other than dogs in the home\", \"veterinarians\", \"familiar people in the home\", \"stangers away from the home\", \"unfamilair dogs on walks (off lead)\", \"unfamiliar dogs visiting the home\", \"another dog in the home\", \"stangers visiting the home\", \"unfamilair dogs on walks (on lead)\"], \"orientation\": \"h\"}], {\"title\": \"Prevalence of Aggression\", \"xaxis\": {\"title\": \"prevalence (%)\"}, \"yaxis\": {\"title\": \"\", \"automargin\": true, \"tickangle\": 30, \"tickprefix\": \" \", \"ticksuffix\": \" \"}, \"width\": 700, \"height\": 500}, {\"showLink\": true, \"linkText\": \"Export to plot.ly\"})});</script>"
      ]
     },
     "metadata": {},
     "output_type": "display_data"
    }
   ],
   "source": [
    "# Generate a bar graph.\n",
    "prevalences = prevalences.sort_values(ascending=True)\n",
    "trace = go.Bar(\n",
    "    x=prevalences.values,\n",
    "    y=prevalences.index.values,\n",
    "    orientation='h')\n",
    "data = [trace]\n",
    "layout = go.Layout(title='Prevalence of Aggression',\n",
    "                   xaxis=dict(title='prevalence (%)'),\n",
    "                   yaxis=dict(title='',\n",
    "                              automargin=True,\n",
    "                              tickangle=30,\n",
    "                              tickprefix=' ',\n",
    "                              ticksuffix=' '),\n",
    "                   width=700,\n",
    "                   height=500\n",
    "                  )\n",
    "fig = dict(data=data, layout=layout)\n",
    "py.iplot(fig)"
   ]
  },
  {
   "cell_type": "markdown",
   "metadata": {},
   "source": [
    "### Fear/Anxiety"
   ]
  },
  {
   "cell_type": "code",
   "execution_count": 14,
   "metadata": {},
   "outputs": [
    {
     "data": {
      "application/vnd.plotly.v1+json": {
       "data": [
        {
         "cells": {
          "align": [
           "left",
           "left",
           "left",
           "left",
           "left"
          ],
          "format": [
           null,
           "d",
           ".2f"
          ],
          "values": [
           [
            "crowd phobia",
            "situational anxiety",
            "veterinarian phobia",
            "noise phobia",
            "separation anxiety",
            "thunderstorm phobia",
            "phobia of other dogs",
            "travel anxiety",
            "general anxiety",
            "other",
            "PTSD"
           ],
           [
            392,
            381,
            351,
            317,
            282,
            228,
            225,
            218,
            207,
            132,
            102
           ],
           [
            30.890464933018123,
            30.023640661938533,
            27.659574468085108,
            24.980299448384553,
            22.22222222222222,
            17.96690307328605,
            17.73049645390071,
            17.17888100866824,
            16.312056737588655,
            10.401891252955082,
            8.037825059101655
           ]
          ]
         },
         "columnwidth": [
          200,
          100,
          100
         ],
         "header": {
          "align": [
           "left",
           "left",
           "left",
           "left",
           "left"
          ],
          "fill": {
           "color": "#B0C4DE"
          },
          "values": [
           "Type of Fear/Anxiety",
           "Number of Dogs",
           "Prevalence (%)"
          ]
         },
         "type": "table"
        }
       ],
       "layout": {
        "height": 350,
        "margin": {
         "b": 50,
         "l": 50,
         "pad": 4,
         "r": 50,
         "t": 50
        },
        "width": 700
       }
      },
      "text/html": [
       "<div id=\"5746c129-55cd-4997-a432-c6dd6ac83314\" style=\"height: 350px; width: 700px;\" class=\"plotly-graph-div\"></div><script type=\"text/javascript\">require([\"plotly\"], function(Plotly) { window.PLOTLYENV=window.PLOTLYENV || {};window.PLOTLYENV.BASE_URL=\"https://plot.ly\";Plotly.newPlot(\"5746c129-55cd-4997-a432-c6dd6ac83314\", [{\"type\": \"table\", \"columnwidth\": [200, 100, 100], \"header\": {\"values\": [\"Type of Fear/Anxiety\", \"Number of Dogs\", \"Prevalence (%)\"], \"fill\": {\"color\": \"#B0C4DE\"}, \"align\": [\"left\", \"left\", \"left\", \"left\", \"left\"]}, \"cells\": {\"values\": [[\"crowd phobia\", \"situational anxiety\", \"veterinarian phobia\", \"noise phobia\", \"separation anxiety\", \"thunderstorm phobia\", \"phobia of other dogs\", \"travel anxiety\", \"general anxiety\", \"other\", \"PTSD\"], [392, 381, 351, 317, 282, 228, 225, 218, 207, 132, 102], [30.890464933018123, 30.023640661938533, 27.659574468085108, 24.980299448384553, 22.22222222222222, 17.96690307328605, 17.73049645390071, 17.17888100866824, 16.312056737588655, 10.401891252955082, 8.037825059101655]], \"align\": [\"left\", \"left\", \"left\", \"left\", \"left\"], \"format\": [null, \"d\", \".2f\"]}}], {\"width\": 700, \"height\": 350, \"margin\": {\"l\": 50, \"r\": 50, \"b\": 50, \"t\": 50, \"pad\": 4}}, {\"showLink\": true, \"linkText\": \"Export to plot.ly\"})});</script>"
      ],
      "text/vnd.plotly.v1+html": [
       "<div id=\"5746c129-55cd-4997-a432-c6dd6ac83314\" style=\"height: 350px; width: 700px;\" class=\"plotly-graph-div\"></div><script type=\"text/javascript\">require([\"plotly\"], function(Plotly) { window.PLOTLYENV=window.PLOTLYENV || {};window.PLOTLYENV.BASE_URL=\"https://plot.ly\";Plotly.newPlot(\"5746c129-55cd-4997-a432-c6dd6ac83314\", [{\"type\": \"table\", \"columnwidth\": [200, 100, 100], \"header\": {\"values\": [\"Type of Fear/Anxiety\", \"Number of Dogs\", \"Prevalence (%)\"], \"fill\": {\"color\": \"#B0C4DE\"}, \"align\": [\"left\", \"left\", \"left\", \"left\", \"left\"]}, \"cells\": {\"values\": [[\"crowd phobia\", \"situational anxiety\", \"veterinarian phobia\", \"noise phobia\", \"separation anxiety\", \"thunderstorm phobia\", \"phobia of other dogs\", \"travel anxiety\", \"general anxiety\", \"other\", \"PTSD\"], [392, 381, 351, 317, 282, 228, 225, 218, 207, 132, 102], [30.890464933018123, 30.023640661938533, 27.659574468085108, 24.980299448384553, 22.22222222222222, 17.96690307328605, 17.73049645390071, 17.17888100866824, 16.312056737588655, 10.401891252955082, 8.037825059101655]], \"align\": [\"left\", \"left\", \"left\", \"left\", \"left\"], \"format\": [null, \"d\", \".2f\"]}}], {\"width\": 700, \"height\": 350, \"margin\": {\"l\": 50, \"r\": 50, \"b\": 50, \"t\": 50, \"pad\": 4}}, {\"showLink\": true, \"linkText\": \"Export to plot.ly\"})});</script>"
      ]
     },
     "metadata": {},
     "output_type": "display_data"
    }
   ],
   "source": [
    "# Create the necessary dataframe.\n",
    "fields = 'q04_1, q04_2, q04_3, q04_4, q04_5, q04_6, q04_7, q04_8, q04_9, q04_10, q04_11'\n",
    "labels = ['thunderstorm phobia', 'noise phobia', 'crowd phobia', 'phobia of other dogs', \n",
    "          'PTSD', 'general anxiety', 'situational anxiety', 'veterinarian phobia',\n",
    "          'separation anxiety', 'travel anxiety', 'other']\n",
    "df = createNumericDataFrame(DOG_TABLE, fields, labels, filtered=True)\n",
    "\n",
    "# Get individual behavior problem counts and display as a table.\n",
    "sums = df.sum()\n",
    "sums = sums.sort_values(ascending=False)\n",
    "\n",
    "# Calculate the prevalence of each behavior problem.\n",
    "prevalence_cal = lambda x: (x / total_dogs) * 100\n",
    "prevalences = sums.apply(prevalence_cal)\n",
    "\n",
    "# Get individual behavior problem counts and display as a table.\n",
    "trace = go.Table(\n",
    "    columnwidth = [200, 100, 100],\n",
    "    header=dict(values=['Type of Fear/Anxiety', 'Number of Dogs', 'Prevalence (%)'],\n",
    "                fill = dict(color='#B0C4DE'),\n",
    "                align = ['left'] * 5),\n",
    "    cells=dict(values=[sums.index.values, sums.values, prevalences.values],\n",
    "               align = ['left'] * 5,\n",
    "               format = [None, 'd', '.2f']))\n",
    "\n",
    "data = [trace] \n",
    "layout = go.Layout(width=700, height=350, margin=go.Margin(l=50, r=50, b=50, t=50, pad=4))\n",
    "fig = dict(data=data, layout=layout)\n",
    "py.iplot(fig)"
   ]
  },
  {
   "cell_type": "code",
   "execution_count": 15,
   "metadata": {},
   "outputs": [
    {
     "data": {
      "application/vnd.plotly.v1+json": {
       "data": [
        {
         "orientation": "h",
         "type": "bar",
         "x": [
          8.037825059101655,
          10.401891252955082,
          16.312056737588655,
          17.17888100866824,
          17.73049645390071,
          17.96690307328605,
          22.22222222222222,
          24.980299448384553,
          27.659574468085108,
          30.023640661938533,
          30.890464933018123
         ],
         "y": [
          "PTSD",
          "other",
          "general anxiety",
          "travel anxiety",
          "phobia of other dogs",
          "thunderstorm phobia",
          "separation anxiety",
          "noise phobia",
          "veterinarian phobia",
          "situational anxiety",
          "crowd phobia"
         ]
        }
       ],
       "layout": {
        "height": 500,
        "title": "Prevalence of Fear/Anxiety",
        "width": 700,
        "xaxis": {
         "title": "prevalence (%)"
        },
        "yaxis": {
         "automargin": true,
         "tickangle": 30,
         "tickprefix": " ",
         "ticksuffix": " ",
         "title": ""
        }
       }
      },
      "text/html": [
       "<div id=\"3a9dc848-32cc-418e-9d18-b1c74e5be5e1\" style=\"height: 500px; width: 700px;\" class=\"plotly-graph-div\"></div><script type=\"text/javascript\">require([\"plotly\"], function(Plotly) { window.PLOTLYENV=window.PLOTLYENV || {};window.PLOTLYENV.BASE_URL=\"https://plot.ly\";Plotly.newPlot(\"3a9dc848-32cc-418e-9d18-b1c74e5be5e1\", [{\"type\": \"bar\", \"x\": [8.037825059101655, 10.401891252955082, 16.312056737588655, 17.17888100866824, 17.73049645390071, 17.96690307328605, 22.22222222222222, 24.980299448384553, 27.659574468085108, 30.023640661938533, 30.890464933018123], \"y\": [\"PTSD\", \"other\", \"general anxiety\", \"travel anxiety\", \"phobia of other dogs\", \"thunderstorm phobia\", \"separation anxiety\", \"noise phobia\", \"veterinarian phobia\", \"situational anxiety\", \"crowd phobia\"], \"orientation\": \"h\"}], {\"title\": \"Prevalence of Fear/Anxiety\", \"xaxis\": {\"title\": \"prevalence (%)\"}, \"yaxis\": {\"title\": \"\", \"automargin\": true, \"tickangle\": 30, \"tickprefix\": \" \", \"ticksuffix\": \" \"}, \"width\": 700, \"height\": 500}, {\"showLink\": true, \"linkText\": \"Export to plot.ly\"})});</script>"
      ],
      "text/vnd.plotly.v1+html": [
       "<div id=\"3a9dc848-32cc-418e-9d18-b1c74e5be5e1\" style=\"height: 500px; width: 700px;\" class=\"plotly-graph-div\"></div><script type=\"text/javascript\">require([\"plotly\"], function(Plotly) { window.PLOTLYENV=window.PLOTLYENV || {};window.PLOTLYENV.BASE_URL=\"https://plot.ly\";Plotly.newPlot(\"3a9dc848-32cc-418e-9d18-b1c74e5be5e1\", [{\"type\": \"bar\", \"x\": [8.037825059101655, 10.401891252955082, 16.312056737588655, 17.17888100866824, 17.73049645390071, 17.96690307328605, 22.22222222222222, 24.980299448384553, 27.659574468085108, 30.023640661938533, 30.890464933018123], \"y\": [\"PTSD\", \"other\", \"general anxiety\", \"travel anxiety\", \"phobia of other dogs\", \"thunderstorm phobia\", \"separation anxiety\", \"noise phobia\", \"veterinarian phobia\", \"situational anxiety\", \"crowd phobia\"], \"orientation\": \"h\"}], {\"title\": \"Prevalence of Fear/Anxiety\", \"xaxis\": {\"title\": \"prevalence (%)\"}, \"yaxis\": {\"title\": \"\", \"automargin\": true, \"tickangle\": 30, \"tickprefix\": \" \", \"ticksuffix\": \" \"}, \"width\": 700, \"height\": 500}, {\"showLink\": true, \"linkText\": \"Export to plot.ly\"})});</script>"
      ]
     },
     "metadata": {},
     "output_type": "display_data"
    }
   ],
   "source": [
    "# Generate a bar graph.\n",
    "prevalences = prevalences.sort_values(ascending=True)\n",
    "trace = go.Bar(\n",
    "    x=prevalences.values,\n",
    "    y=prevalences.index.values,\n",
    "    orientation='h')\n",
    "data = [trace]\n",
    "layout = go.Layout(title='Prevalence of Fear/Anxiety',\n",
    "                   xaxis=dict(title='prevalence (%)'),\n",
    "                   yaxis=dict(title='',\n",
    "                              automargin=True,\n",
    "                              tickangle=30,\n",
    "                              tickprefix=' ',\n",
    "                              ticksuffix=' '),\n",
    "                   width=700,\n",
    "                   height=500\n",
    "                  )\n",
    "fig = dict(data=data, layout=layout)\n",
    "py.iplot(fig)"
   ]
  },
  {
   "cell_type": "markdown",
   "metadata": {},
   "source": [
    "### Compulsion"
   ]
  },
  {
   "cell_type": "code",
   "execution_count": 16,
   "metadata": {},
   "outputs": [
    {
     "data": {
      "application/vnd.plotly.v1+json": {
       "data": [
        {
         "cells": {
          "align": [
           "left",
           "left",
           "left",
           "left",
           "left"
          ],
          "format": [
           null,
           "d",
           ".2f"
          ],
          "values": [
           [
            "licking of wrist/hock",
            "other",
            "tail chasing",
            "digging in yard",
            "spinning",
            "tennis ball fetish",
            "sucking flank region/blankets",
            "shadow/light chasing",
            "nail biting",
            "running in geometric patterns",
            "stone/rock chewing",
            "collecting/arranging objects",
            "fly snapping"
           ],
           [
            149,
            51,
            42,
            41,
            39,
            38,
            33,
            23,
            20,
            19,
            18,
            17,
            11
           ],
           [
            11.741528762805359,
            4.0189125295508275,
            3.309692671394799,
            3.230890464933018,
            3.0732860520094563,
            2.9944838455476757,
            2.6004728132387704,
            1.8124507486209613,
            1.5760441292356184,
            1.4972419227738378,
            1.4184397163120568,
            1.3396375098502757,
            0.8668242710795903
           ]
          ]
         },
         "columnwidth": [
          200,
          100,
          100
         ],
         "header": {
          "align": [
           "left",
           "left",
           "left",
           "left",
           "left"
          ],
          "fill": {
           "color": "#B0C4DE"
          },
          "values": [
           "Type of Compulsion",
           "Number of Dogs",
           "Prevalence (%)"
          ]
         },
         "type": "table"
        }
       ],
       "layout": {
        "height": 400,
        "margin": {
         "b": 50,
         "l": 50,
         "pad": 4,
         "r": 50,
         "t": 50
        },
        "width": 700
       }
      },
      "text/html": [
       "<div id=\"e586e3c8-82c3-4665-b03f-e05541f642f7\" style=\"height: 400px; width: 700px;\" class=\"plotly-graph-div\"></div><script type=\"text/javascript\">require([\"plotly\"], function(Plotly) { window.PLOTLYENV=window.PLOTLYENV || {};window.PLOTLYENV.BASE_URL=\"https://plot.ly\";Plotly.newPlot(\"e586e3c8-82c3-4665-b03f-e05541f642f7\", [{\"type\": \"table\", \"columnwidth\": [200, 100, 100], \"header\": {\"values\": [\"Type of Compulsion\", \"Number of Dogs\", \"Prevalence (%)\"], \"fill\": {\"color\": \"#B0C4DE\"}, \"align\": [\"left\", \"left\", \"left\", \"left\", \"left\"]}, \"cells\": {\"values\": [[\"licking of wrist/hock\", \"other\", \"tail chasing\", \"digging in yard\", \"spinning\", \"tennis ball fetish\", \"sucking flank region/blankets\", \"shadow/light chasing\", \"nail biting\", \"running in geometric patterns\", \"stone/rock chewing\", \"collecting/arranging objects\", \"fly snapping\"], [149, 51, 42, 41, 39, 38, 33, 23, 20, 19, 18, 17, 11], [11.741528762805359, 4.0189125295508275, 3.309692671394799, 3.230890464933018, 3.0732860520094563, 2.9944838455476757, 2.6004728132387704, 1.8124507486209613, 1.5760441292356184, 1.4972419227738378, 1.4184397163120568, 1.3396375098502757, 0.8668242710795903]], \"align\": [\"left\", \"left\", \"left\", \"left\", \"left\"], \"format\": [null, \"d\", \".2f\"]}}], {\"width\": 700, \"height\": 400, \"margin\": {\"l\": 50, \"r\": 50, \"b\": 50, \"t\": 50, \"pad\": 4}}, {\"showLink\": true, \"linkText\": \"Export to plot.ly\"})});</script>"
      ],
      "text/vnd.plotly.v1+html": [
       "<div id=\"e586e3c8-82c3-4665-b03f-e05541f642f7\" style=\"height: 400px; width: 700px;\" class=\"plotly-graph-div\"></div><script type=\"text/javascript\">require([\"plotly\"], function(Plotly) { window.PLOTLYENV=window.PLOTLYENV || {};window.PLOTLYENV.BASE_URL=\"https://plot.ly\";Plotly.newPlot(\"e586e3c8-82c3-4665-b03f-e05541f642f7\", [{\"type\": \"table\", \"columnwidth\": [200, 100, 100], \"header\": {\"values\": [\"Type of Compulsion\", \"Number of Dogs\", \"Prevalence (%)\"], \"fill\": {\"color\": \"#B0C4DE\"}, \"align\": [\"left\", \"left\", \"left\", \"left\", \"left\"]}, \"cells\": {\"values\": [[\"licking of wrist/hock\", \"other\", \"tail chasing\", \"digging in yard\", \"spinning\", \"tennis ball fetish\", \"sucking flank region/blankets\", \"shadow/light chasing\", \"nail biting\", \"running in geometric patterns\", \"stone/rock chewing\", \"collecting/arranging objects\", \"fly snapping\"], [149, 51, 42, 41, 39, 38, 33, 23, 20, 19, 18, 17, 11], [11.741528762805359, 4.0189125295508275, 3.309692671394799, 3.230890464933018, 3.0732860520094563, 2.9944838455476757, 2.6004728132387704, 1.8124507486209613, 1.5760441292356184, 1.4972419227738378, 1.4184397163120568, 1.3396375098502757, 0.8668242710795903]], \"align\": [\"left\", \"left\", \"left\", \"left\", \"left\"], \"format\": [null, \"d\", \".2f\"]}}], {\"width\": 700, \"height\": 400, \"margin\": {\"l\": 50, \"r\": 50, \"b\": 50, \"t\": 50, \"pad\": 4}}, {\"showLink\": true, \"linkText\": \"Export to plot.ly\"})});</script>"
      ]
     },
     "metadata": {},
     "output_type": "display_data"
    }
   ],
   "source": [
    "# Create the necessary dataframe.\n",
    "fields = ('q05_main_1, q05_main_2, q05_main_3, q05_main_4, q05_main_5, q05_main_6, '\n",
    "          'q05_main_7, q05_main_8, q05_main_9, q05_main_10, q05_main_11, q05_main_12, '\n",
    "          'q05_main_13')\n",
    "labels = ['spinning', 'tail chasing', 'shadow/light chasing', 'running in geometric patterns', \n",
    "          'licking of wrist/hock', 'fly snapping', 'sucking flank region/blankets',\n",
    "          'tennis ball fetish', 'collecting/arranging objects', 'nail biting',\n",
    "          'digging in yard', 'stone/rock chewing', 'other']\n",
    "df = createNumericDataFrame(DOG_TABLE, fields, labels, filtered=True)\n",
    "\n",
    "# Get individual behavior problem counts and display as a table.\n",
    "sums = df.sum()\n",
    "sums = sums.sort_values(ascending=False)\n",
    "\n",
    "# Calculate the prevalence of each behavior problem.\n",
    "prevalence_cal = lambda x: (x / total_dogs) * 100\n",
    "prevalences = sums.apply(prevalence_cal)\n",
    "\n",
    "# Get individual behavior problem counts and display as a table.\n",
    "trace = go.Table(\n",
    "    columnwidth = [200, 100, 100],\n",
    "    header=dict(values=['Type of Compulsion', 'Number of Dogs', 'Prevalence (%)'],\n",
    "                fill = dict(color='#B0C4DE'),\n",
    "                align = ['left'] * 5),\n",
    "    cells=dict(values=[sums.index.values, sums.values, prevalences.values],\n",
    "               align = ['left'] * 5,\n",
    "               format = [None, 'd', '.2f']))\n",
    "data = [trace] \n",
    "layout = go.Layout(width=700, height=400, margin=go.Margin(l=50, r=50, b=50, t=50, pad=4))\n",
    "fig = dict(data=data, layout=layout)\n",
    "py.iplot(fig)"
   ]
  },
  {
   "cell_type": "code",
   "execution_count": 17,
   "metadata": {},
   "outputs": [
    {
     "data": {
      "application/vnd.plotly.v1+json": {
       "data": [
        {
         "orientation": "h",
         "type": "bar",
         "x": [
          0.8668242710795903,
          1.3396375098502757,
          1.4184397163120568,
          1.4972419227738378,
          1.5760441292356184,
          1.8124507486209613,
          2.6004728132387704,
          2.9944838455476757,
          3.0732860520094563,
          3.230890464933018,
          3.309692671394799,
          4.0189125295508275,
          11.741528762805359
         ],
         "y": [
          "fly snapping",
          "collecting/arranging objects",
          "stone/rock chewing",
          "running in geometric patterns",
          "nail biting",
          "shadow/light chasing",
          "sucking flank region/blankets",
          "tennis ball fetish",
          "spinning",
          "digging in yard",
          "tail chasing",
          "other",
          "licking of wrist/hock"
         ]
        }
       ],
       "layout": {
        "height": 500,
        "title": "Prevalence of Compulsion",
        "width": 700,
        "xaxis": {
         "title": "prevalence (%)"
        },
        "yaxis": {
         "automargin": true,
         "tickangle": 30,
         "tickprefix": " ",
         "ticksuffix": " ",
         "title": ""
        }
       }
      },
      "text/html": [
       "<div id=\"734d3dd2-4f41-498a-9532-bc1210eeb113\" style=\"height: 500px; width: 700px;\" class=\"plotly-graph-div\"></div><script type=\"text/javascript\">require([\"plotly\"], function(Plotly) { window.PLOTLYENV=window.PLOTLYENV || {};window.PLOTLYENV.BASE_URL=\"https://plot.ly\";Plotly.newPlot(\"734d3dd2-4f41-498a-9532-bc1210eeb113\", [{\"type\": \"bar\", \"x\": [0.8668242710795903, 1.3396375098502757, 1.4184397163120568, 1.4972419227738378, 1.5760441292356184, 1.8124507486209613, 2.6004728132387704, 2.9944838455476757, 3.0732860520094563, 3.230890464933018, 3.309692671394799, 4.0189125295508275, 11.741528762805359], \"y\": [\"fly snapping\", \"collecting/arranging objects\", \"stone/rock chewing\", \"running in geometric patterns\", \"nail biting\", \"shadow/light chasing\", \"sucking flank region/blankets\", \"tennis ball fetish\", \"spinning\", \"digging in yard\", \"tail chasing\", \"other\", \"licking of wrist/hock\"], \"orientation\": \"h\"}], {\"title\": \"Prevalence of Compulsion\", \"xaxis\": {\"title\": \"prevalence (%)\"}, \"yaxis\": {\"title\": \"\", \"automargin\": true, \"tickangle\": 30, \"tickprefix\": \" \", \"ticksuffix\": \" \"}, \"width\": 700, \"height\": 500}, {\"showLink\": true, \"linkText\": \"Export to plot.ly\"})});</script>"
      ],
      "text/vnd.plotly.v1+html": [
       "<div id=\"734d3dd2-4f41-498a-9532-bc1210eeb113\" style=\"height: 500px; width: 700px;\" class=\"plotly-graph-div\"></div><script type=\"text/javascript\">require([\"plotly\"], function(Plotly) { window.PLOTLYENV=window.PLOTLYENV || {};window.PLOTLYENV.BASE_URL=\"https://plot.ly\";Plotly.newPlot(\"734d3dd2-4f41-498a-9532-bc1210eeb113\", [{\"type\": \"bar\", \"x\": [0.8668242710795903, 1.3396375098502757, 1.4184397163120568, 1.4972419227738378, 1.5760441292356184, 1.8124507486209613, 2.6004728132387704, 2.9944838455476757, 3.0732860520094563, 3.230890464933018, 3.309692671394799, 4.0189125295508275, 11.741528762805359], \"y\": [\"fly snapping\", \"collecting/arranging objects\", \"stone/rock chewing\", \"running in geometric patterns\", \"nail biting\", \"shadow/light chasing\", \"sucking flank region/blankets\", \"tennis ball fetish\", \"spinning\", \"digging in yard\", \"tail chasing\", \"other\", \"licking of wrist/hock\"], \"orientation\": \"h\"}], {\"title\": \"Prevalence of Compulsion\", \"xaxis\": {\"title\": \"prevalence (%)\"}, \"yaxis\": {\"title\": \"\", \"automargin\": true, \"tickangle\": 30, \"tickprefix\": \" \", \"ticksuffix\": \" \"}, \"width\": 700, \"height\": 500}, {\"showLink\": true, \"linkText\": \"Export to plot.ly\"})});</script>"
      ]
     },
     "metadata": {},
     "output_type": "display_data"
    }
   ],
   "source": [
    "# Generate a bar graph.\n",
    "prevalences = prevalences.sort_values(ascending=True)\n",
    "trace = go.Bar(\n",
    "    x=prevalences.values,\n",
    "    y=prevalences.index.values,\n",
    "    orientation='h')\n",
    "data = [trace]\n",
    "layout = go.Layout(title='Prevalence of Compulsion',\n",
    "                   xaxis=dict(title='prevalence (%)'),\n",
    "                   yaxis=dict(title='',\n",
    "                              automargin=True,\n",
    "                              tickangle=30,\n",
    "                              tickprefix=' ',\n",
    "                              ticksuffix=' '),\n",
    "                   width=700,\n",
    "                   height=500\n",
    "                  )\n",
    "fig = dict(data=data, layout=layout)\n",
    "py.iplot(fig)"
   ]
  },
  {
   "cell_type": "markdown",
   "metadata": {},
   "source": [
    "### House Soiling"
   ]
  },
  {
   "cell_type": "code",
   "execution_count": 18,
   "metadata": {},
   "outputs": [
    {
     "data": {
      "application/vnd.plotly.v1+json": {
       "data": [
        {
         "cells": {
          "align": [
           "left",
           "left",
           "left",
           "left",
           "left"
          ],
          "format": [
           null,
           "d",
           ".2f"
          ],
          "values": [
           [
            "urine",
            "feces",
            "both"
           ],
           [
            184,
            174,
            53
           ],
           [
            14.49960598896769,
            13.711583924349883,
            4.176516942474389
           ]
          ]
         },
         "columnwidth": [
          200,
          100,
          100
         ],
         "header": {
          "align": [
           "left",
           "left",
           "left",
           "left",
           "left"
          ],
          "fill": {
           "color": "#B0C4DE"
          },
          "values": [
           "House Soiling Type",
           "Number of Dogs",
           "Prevalence (%)"
          ]
         },
         "type": "table"
        }
       ],
       "layout": {
        "height": 200,
        "margin": {
         "b": 50,
         "l": 50,
         "pad": 4,
         "r": 50,
         "t": 50
        },
        "width": 700
       }
      },
      "text/html": [
       "<div id=\"7d5173bc-bca8-4e52-854a-37883cba9cea\" style=\"height: 200px; width: 700px;\" class=\"plotly-graph-div\"></div><script type=\"text/javascript\">require([\"plotly\"], function(Plotly) { window.PLOTLYENV=window.PLOTLYENV || {};window.PLOTLYENV.BASE_URL=\"https://plot.ly\";Plotly.newPlot(\"7d5173bc-bca8-4e52-854a-37883cba9cea\", [{\"type\": \"table\", \"columnwidth\": [200, 100, 100], \"header\": {\"values\": [\"House Soiling Type\", \"Number of Dogs\", \"Prevalence (%)\"], \"fill\": {\"color\": \"#B0C4DE\"}, \"align\": [\"left\", \"left\", \"left\", \"left\", \"left\"]}, \"cells\": {\"values\": [[\"urine\", \"feces\", \"both\"], [184, 174, 53], [14.49960598896769, 13.711583924349883, 4.176516942474389]], \"align\": [\"left\", \"left\", \"left\", \"left\", \"left\"], \"format\": [null, \"d\", \".2f\"]}}], {\"width\": 700, \"height\": 200, \"margin\": {\"l\": 50, \"r\": 50, \"b\": 50, \"t\": 50, \"pad\": 4}}, {\"showLink\": true, \"linkText\": \"Export to plot.ly\"})});</script>"
      ],
      "text/vnd.plotly.v1+html": [
       "<div id=\"7d5173bc-bca8-4e52-854a-37883cba9cea\" style=\"height: 200px; width: 700px;\" class=\"plotly-graph-div\"></div><script type=\"text/javascript\">require([\"plotly\"], function(Plotly) { window.PLOTLYENV=window.PLOTLYENV || {};window.PLOTLYENV.BASE_URL=\"https://plot.ly\";Plotly.newPlot(\"7d5173bc-bca8-4e52-854a-37883cba9cea\", [{\"type\": \"table\", \"columnwidth\": [200, 100, 100], \"header\": {\"values\": [\"House Soiling Type\", \"Number of Dogs\", \"Prevalence (%)\"], \"fill\": {\"color\": \"#B0C4DE\"}, \"align\": [\"left\", \"left\", \"left\", \"left\", \"left\"]}, \"cells\": {\"values\": [[\"urine\", \"feces\", \"both\"], [184, 174, 53], [14.49960598896769, 13.711583924349883, 4.176516942474389]], \"align\": [\"left\", \"left\", \"left\", \"left\", \"left\"], \"format\": [null, \"d\", \".2f\"]}}], {\"width\": 700, \"height\": 200, \"margin\": {\"l\": 50, \"r\": 50, \"b\": 50, \"t\": 50, \"pad\": 4}}, {\"showLink\": true, \"linkText\": \"Export to plot.ly\"})});</script>"
      ]
     },
     "metadata": {},
     "output_type": "display_data"
    }
   ],
   "source": [
    "# Create the necessary dataframe.\n",
    "fields = 'q06_situation_1, q06_situation_2, q06_situation_3'\n",
    "labels = ['urine', 'feces', 'both']\n",
    "df = createNumericDataFrame(DOG_TABLE, fields, labels, filtered=True)\n",
    "\n",
    "# Get individual behavior problem counts and display as a table.\n",
    "sums = df.sum()\n",
    "sums = sums.sort_values(ascending=False)\n",
    "\n",
    "# Calculate the prevalence of each behavior problem.\n",
    "prevalence_cal = lambda x: (x / total_dogs) * 100\n",
    "prevalences = sums.apply(prevalence_cal)\n",
    "\n",
    "# Get individual behavior problem counts and display as a table.\n",
    "trace = go.Table(\n",
    "    columnwidth = [200, 100, 100],\n",
    "    header=dict(values=['House Soiling Type', 'Number of Dogs', 'Prevalence (%)'],\n",
    "                fill = dict(color='#B0C4DE'),\n",
    "                align = ['left'] * 5),\n",
    "    cells=dict(values=[sums.index.values, sums.values, prevalences.values],\n",
    "               align = ['left'] * 5,\n",
    "               format = [None, 'd', '.2f']))\n",
    "data = [trace] \n",
    "layout = go.Layout(width=700, height=200, margin=go.Margin(l=50, r=50, b=50, t=50, pad=4))\n",
    "fig = dict(data=data, layout=layout)\n",
    "py.iplot(fig)"
   ]
  },
  {
   "cell_type": "code",
   "execution_count": 19,
   "metadata": {},
   "outputs": [
    {
     "data": {
      "application/vnd.plotly.v1+json": {
       "data": [
        {
         "cells": {
          "align": [
           "left",
           "left",
           "left",
           "left",
           "left"
          ],
          "format": [
           null,
           "d",
           ".2f"
          ],
          "values": [
           [
            "specific locations",
            "anywhere"
           ],
           [
            150,
            119
           ],
           [
            11.82033096926714,
            9.37746256895193
           ]
          ]
         },
         "columnwidth": [
          200,
          100,
          100
         ],
         "header": {
          "align": [
           "left",
           "left",
           "left",
           "left",
           "left"
          ],
          "fill": {
           "color": "#B0C4DE"
          },
          "values": [
           "House Soiling Location",
           "Number of Dogs",
           "Prevalence (%)"
          ]
         },
         "type": "table"
        }
       ],
       "layout": {
        "height": 175,
        "margin": {
         "b": 50,
         "l": 50,
         "pad": 4,
         "r": 50,
         "t": 50
        },
        "width": 700
       }
      },
      "text/html": [
       "<div id=\"1ebc20e7-8ce4-4401-b9e4-87fb21286d71\" style=\"height: 175px; width: 700px;\" class=\"plotly-graph-div\"></div><script type=\"text/javascript\">require([\"plotly\"], function(Plotly) { window.PLOTLYENV=window.PLOTLYENV || {};window.PLOTLYENV.BASE_URL=\"https://plot.ly\";Plotly.newPlot(\"1ebc20e7-8ce4-4401-b9e4-87fb21286d71\", [{\"type\": \"table\", \"columnwidth\": [200, 100, 100], \"header\": {\"values\": [\"House Soiling Location\", \"Number of Dogs\", \"Prevalence (%)\"], \"fill\": {\"color\": \"#B0C4DE\"}, \"align\": [\"left\", \"left\", \"left\", \"left\", \"left\"]}, \"cells\": {\"values\": [[\"specific locations\", \"anywhere\"], [150, 119], [11.82033096926714, 9.37746256895193]], \"align\": [\"left\", \"left\", \"left\", \"left\", \"left\"], \"format\": [null, \"d\", \".2f\"]}}], {\"width\": 700, \"height\": 175, \"margin\": {\"l\": 50, \"r\": 50, \"b\": 50, \"t\": 50, \"pad\": 4}}, {\"showLink\": true, \"linkText\": \"Export to plot.ly\"})});</script>"
      ],
      "text/vnd.plotly.v1+html": [
       "<div id=\"1ebc20e7-8ce4-4401-b9e4-87fb21286d71\" style=\"height: 175px; width: 700px;\" class=\"plotly-graph-div\"></div><script type=\"text/javascript\">require([\"plotly\"], function(Plotly) { window.PLOTLYENV=window.PLOTLYENV || {};window.PLOTLYENV.BASE_URL=\"https://plot.ly\";Plotly.newPlot(\"1ebc20e7-8ce4-4401-b9e4-87fb21286d71\", [{\"type\": \"table\", \"columnwidth\": [200, 100, 100], \"header\": {\"values\": [\"House Soiling Location\", \"Number of Dogs\", \"Prevalence (%)\"], \"fill\": {\"color\": \"#B0C4DE\"}, \"align\": [\"left\", \"left\", \"left\", \"left\", \"left\"]}, \"cells\": {\"values\": [[\"specific locations\", \"anywhere\"], [150, 119], [11.82033096926714, 9.37746256895193]], \"align\": [\"left\", \"left\", \"left\", \"left\", \"left\"], \"format\": [null, \"d\", \".2f\"]}}], {\"width\": 700, \"height\": 175, \"margin\": {\"l\": 50, \"r\": 50, \"b\": 50, \"t\": 50, \"pad\": 4}}, {\"showLink\": true, \"linkText\": \"Export to plot.ly\"})});</script>"
      ]
     },
     "metadata": {},
     "output_type": "display_data"
    }
   ],
   "source": [
    "# Create the necessary dataframe.\n",
    "fields = 'q06_soil_location_1, q06_soil_location_2'\n",
    "labels = ['specific locations', 'anywhere']\n",
    "df = createNumericDataFrame(DOG_TABLE, fields, labels, filtered=True)\n",
    "\n",
    "# Get individual behavior problem counts and display as a table.\n",
    "sums = df.sum()\n",
    "sums = sums.sort_values(ascending=False)\n",
    "\n",
    "# Calculate the prevalence of each behavior problem.\n",
    "prevalence_cal = lambda x: (x / total_dogs) * 100\n",
    "prevalences = sums.apply(prevalence_cal)\n",
    "\n",
    "# Get individual behavior problem counts and display as a table.\n",
    "trace = go.Table(\n",
    "    columnwidth = [200, 100, 100],\n",
    "    header=dict(values=['House Soiling Location', 'Number of Dogs', 'Prevalence (%)'],\n",
    "                fill = dict(color='#B0C4DE'),\n",
    "                align = ['left'] * 5),\n",
    "    cells=dict(values=[sums.index.values, sums.values, prevalences.values],\n",
    "               align = ['left'] * 5,\n",
    "               format = [None, 'd', '.2f']))\n",
    "data = [trace] \n",
    "layout = go.Layout(width=700, height=175, margin=go.Margin(l=50, r=50, b=50, t=50, pad=4))\n",
    "fig = dict(data=data, layout=layout)\n",
    "py.iplot(fig)"
   ]
  },
  {
   "cell_type": "code",
   "execution_count": 20,
   "metadata": {},
   "outputs": [
    {
     "data": {
      "application/vnd.plotly.v1+json": {
       "data": [
        {
         "cells": {
          "align": [
           "left",
           "left",
           "left",
           "left",
           "left"
          ],
          "format": [
           null,
           "d",
           ".2f"
          ],
          "values": [
           [
            "owner present",
            "owner away",
            "excited/overwhelmed"
           ],
           [
            184,
            174,
            53
           ],
           [
            14.49960598896769,
            13.711583924349883,
            4.176516942474389
           ]
          ]
         },
         "columnwidth": [
          200,
          100,
          100
         ],
         "header": {
          "align": [
           "left",
           "left",
           "left",
           "left",
           "left"
          ],
          "fill": {
           "color": "#B0C4DE"
          },
          "values": [
           "House Soiling Situation",
           "Number of Dogs",
           "Prevalence (%)"
          ]
         },
         "type": "table"
        }
       ],
       "layout": {
        "height": 200,
        "margin": {
         "b": 50,
         "l": 50,
         "pad": 4,
         "r": 50,
         "t": 50
        },
        "width": 700
       }
      },
      "text/html": [
       "<div id=\"05952bf2-11fa-4d19-bf44-97a198d9cb68\" style=\"height: 200px; width: 700px;\" class=\"plotly-graph-div\"></div><script type=\"text/javascript\">require([\"plotly\"], function(Plotly) { window.PLOTLYENV=window.PLOTLYENV || {};window.PLOTLYENV.BASE_URL=\"https://plot.ly\";Plotly.newPlot(\"05952bf2-11fa-4d19-bf44-97a198d9cb68\", [{\"type\": \"table\", \"columnwidth\": [200, 100, 100], \"header\": {\"values\": [\"House Soiling Situation\", \"Number of Dogs\", \"Prevalence (%)\"], \"fill\": {\"color\": \"#B0C4DE\"}, \"align\": [\"left\", \"left\", \"left\", \"left\", \"left\"]}, \"cells\": {\"values\": [[\"owner present\", \"owner away\", \"excited/overwhelmed\"], [184, 174, 53], [14.49960598896769, 13.711583924349883, 4.176516942474389]], \"align\": [\"left\", \"left\", \"left\", \"left\", \"left\"], \"format\": [null, \"d\", \".2f\"]}}], {\"width\": 700, \"height\": 200, \"margin\": {\"l\": 50, \"r\": 50, \"b\": 50, \"t\": 50, \"pad\": 4}}, {\"showLink\": true, \"linkText\": \"Export to plot.ly\"})});</script>"
      ],
      "text/vnd.plotly.v1+html": [
       "<div id=\"05952bf2-11fa-4d19-bf44-97a198d9cb68\" style=\"height: 200px; width: 700px;\" class=\"plotly-graph-div\"></div><script type=\"text/javascript\">require([\"plotly\"], function(Plotly) { window.PLOTLYENV=window.PLOTLYENV || {};window.PLOTLYENV.BASE_URL=\"https://plot.ly\";Plotly.newPlot(\"05952bf2-11fa-4d19-bf44-97a198d9cb68\", [{\"type\": \"table\", \"columnwidth\": [200, 100, 100], \"header\": {\"values\": [\"House Soiling Situation\", \"Number of Dogs\", \"Prevalence (%)\"], \"fill\": {\"color\": \"#B0C4DE\"}, \"align\": [\"left\", \"left\", \"left\", \"left\", \"left\"]}, \"cells\": {\"values\": [[\"owner present\", \"owner away\", \"excited/overwhelmed\"], [184, 174, 53], [14.49960598896769, 13.711583924349883, 4.176516942474389]], \"align\": [\"left\", \"left\", \"left\", \"left\", \"left\"], \"format\": [null, \"d\", \".2f\"]}}], {\"width\": 700, \"height\": 200, \"margin\": {\"l\": 50, \"r\": 50, \"b\": 50, \"t\": 50, \"pad\": 4}}, {\"showLink\": true, \"linkText\": \"Export to plot.ly\"})});</script>"
      ]
     },
     "metadata": {},
     "output_type": "display_data"
    }
   ],
   "source": [
    "# Create the necessary dataframe.\n",
    "fields = 'q06_situation_1, q06_situation_2, q06_situation_3'\n",
    "labels = ['owner present', 'owner away', 'excited/overwhelmed']\n",
    "df = createNumericDataFrame(DOG_TABLE, fields, labels, filtered=True)\n",
    "\n",
    "# Get individual behavior problem counts and display as a table.\n",
    "sums = df.sum()\n",
    "sums = sums.sort_values(ascending=False)\n",
    "\n",
    "# Calculate the prevalence of each behavior problem.\n",
    "prevalence_cal = lambda x: (x / total_dogs) * 100\n",
    "prevalences = sums.apply(prevalence_cal)\n",
    "\n",
    "# Get individual behavior problem counts and display as a table.\n",
    "trace = go.Table(\n",
    "    columnwidth = [200, 100, 100],\n",
    "    header=dict(values=['House Soiling Situation', 'Number of Dogs', 'Prevalence (%)'],\n",
    "                fill = dict(color='#B0C4DE'),\n",
    "                align = ['left'] * 5),\n",
    "    cells=dict(values=[sums.index.values, sums.values, prevalences.values],\n",
    "               align = ['left'] * 5,\n",
    "               format = [None, 'd', '.2f']))\n",
    "data = [trace] \n",
    "layout = go.Layout(width=700, height=200, margin=go.Margin(l=50, r=50, b=50, t=50, pad=4))\n",
    "fig = dict(data=data, layout=layout)\n",
    "py.iplot(fig)"
   ]
  },
  {
   "cell_type": "markdown",
   "metadata": {},
   "source": [
    "### Excessive Barking"
   ]
  },
  {
   "cell_type": "code",
   "execution_count": 21,
   "metadata": {},
   "outputs": [
    {
     "data": {
      "application/vnd.plotly.v1+json": {
       "data": [
        {
         "cells": {
          "align": [
           "left",
           "left",
           "left",
           "left",
           "left"
          ],
          "format": [
           null,
           "d",
           ".2f"
          ],
          "values": [
           [
            "at tiggers (inside)",
            "at triggers (outside)",
            "owner present",
            "to get attention",
            "owner away",
            "during car rides"
           ],
           [
            302,
            291,
            228,
            168,
            116,
            72
           ],
           [
            23.79826635145784,
            22.93144208037825,
            17.96690307328605,
            13.238770685579196,
            9.141055949566587,
            5.673758865248227
           ]
          ]
         },
         "columnwidth": [
          200,
          100,
          100
         ],
         "header": {
          "align": [
           "left",
           "left",
           "left",
           "left",
           "left"
          ],
          "fill": {
           "color": "#B0C4DE"
          },
          "values": [
           "Excessive Barking Scenario",
           "Number of Dogs",
           "Prevalence (%)"
          ]
         },
         "type": "table"
        }
       ],
       "layout": {
        "height": 250,
        "margin": {
         "b": 50,
         "l": 50,
         "pad": 4,
         "r": 50,
         "t": 50
        },
        "width": 700
       }
      },
      "text/html": [
       "<div id=\"4bf5fcba-06cb-4514-8f41-a314c6fd8b5e\" style=\"height: 250px; width: 700px;\" class=\"plotly-graph-div\"></div><script type=\"text/javascript\">require([\"plotly\"], function(Plotly) { window.PLOTLYENV=window.PLOTLYENV || {};window.PLOTLYENV.BASE_URL=\"https://plot.ly\";Plotly.newPlot(\"4bf5fcba-06cb-4514-8f41-a314c6fd8b5e\", [{\"type\": \"table\", \"columnwidth\": [200, 100, 100], \"header\": {\"values\": [\"Excessive Barking Scenario\", \"Number of Dogs\", \"Prevalence (%)\"], \"fill\": {\"color\": \"#B0C4DE\"}, \"align\": [\"left\", \"left\", \"left\", \"left\", \"left\"]}, \"cells\": {\"values\": [[\"at tiggers (inside)\", \"at triggers (outside)\", \"owner present\", \"to get attention\", \"owner away\", \"during car rides\"], [302, 291, 228, 168, 116, 72], [23.79826635145784, 22.93144208037825, 17.96690307328605, 13.238770685579196, 9.141055949566587, 5.673758865248227]], \"align\": [\"left\", \"left\", \"left\", \"left\", \"left\"], \"format\": [null, \"d\", \".2f\"]}}], {\"width\": 700, \"height\": 250, \"margin\": {\"l\": 50, \"r\": 50, \"b\": 50, \"t\": 50, \"pad\": 4}}, {\"showLink\": true, \"linkText\": \"Export to plot.ly\"})});</script>"
      ],
      "text/vnd.plotly.v1+html": [
       "<div id=\"4bf5fcba-06cb-4514-8f41-a314c6fd8b5e\" style=\"height: 250px; width: 700px;\" class=\"plotly-graph-div\"></div><script type=\"text/javascript\">require([\"plotly\"], function(Plotly) { window.PLOTLYENV=window.PLOTLYENV || {};window.PLOTLYENV.BASE_URL=\"https://plot.ly\";Plotly.newPlot(\"4bf5fcba-06cb-4514-8f41-a314c6fd8b5e\", [{\"type\": \"table\", \"columnwidth\": [200, 100, 100], \"header\": {\"values\": [\"Excessive Barking Scenario\", \"Number of Dogs\", \"Prevalence (%)\"], \"fill\": {\"color\": \"#B0C4DE\"}, \"align\": [\"left\", \"left\", \"left\", \"left\", \"left\"]}, \"cells\": {\"values\": [[\"at tiggers (inside)\", \"at triggers (outside)\", \"owner present\", \"to get attention\", \"owner away\", \"during car rides\"], [302, 291, 228, 168, 116, 72], [23.79826635145784, 22.93144208037825, 17.96690307328605, 13.238770685579196, 9.141055949566587, 5.673758865248227]], \"align\": [\"left\", \"left\", \"left\", \"left\", \"left\"], \"format\": [null, \"d\", \".2f\"]}}], {\"width\": 700, \"height\": 250, \"margin\": {\"l\": 50, \"r\": 50, \"b\": 50, \"t\": 50, \"pad\": 4}}, {\"showLink\": true, \"linkText\": \"Export to plot.ly\"})});</script>"
      ]
     },
     "metadata": {},
     "output_type": "display_data"
    }
   ],
   "source": [
    "# Create the necessary dataframe.\n",
    "fields = ('q07_sitatuon_1, q07_sitatuon_2, q07_sitatuon_3, q07_sitatuon_4, q07_sitatuon_5, '\n",
    "          'q07_sitatuon_6')\n",
    "labels = ['owner present', 'owner away', 'to get attention', 'at tiggers (inside)',\n",
    "          'at triggers (outside)', 'during car rides']\n",
    "df = createNumericDataFrame(DOG_TABLE, fields, labels, filtered=True)\n",
    "\n",
    "# Get individual behavior problem counts and display as a table.\n",
    "sums = df.sum()\n",
    "sums = sums.sort_values(ascending=False)\n",
    "\n",
    "# Calculate the prevalence of each behavior problem.\n",
    "prevalence_cal = lambda x: (x / total_dogs) * 100\n",
    "prevalences = sums.apply(prevalence_cal)\n",
    "\n",
    "# Get individual behavior problem counts and display as a table.\n",
    "trace = go.Table(\n",
    "    columnwidth = [200, 100, 100],\n",
    "    header=dict(values=['Excessive Barking Scenario', 'Number of Dogs', 'Prevalence (%)'],\n",
    "                fill = dict(color='#B0C4DE'),\n",
    "                align = ['left'] * 5),\n",
    "    cells=dict(values=[sums.index.values, sums.values, prevalences.values],\n",
    "               align = ['left'] * 5,\n",
    "               format = [None, 'd', '.2f']))\n",
    "data = [trace] \n",
    "layout = go.Layout(width=700, height=250, margin=go.Margin(l=50, r=50, b=50, t=50, pad=4))\n",
    "fig = dict(data=data, layout=layout)\n",
    "py.iplot(fig)"
   ]
  },
  {
   "cell_type": "markdown",
   "metadata": {},
   "source": [
    "### Jumping"
   ]
  },
  {
   "cell_type": "code",
   "execution_count": 22,
   "metadata": {},
   "outputs": [
    {
     "data": {
      "application/vnd.plotly.v1+json": {
       "data": [
        {
         "cells": {
          "align": [
           "left",
           "left",
           "left",
           "left",
           "left"
          ],
          "format": [
           null,
           "d",
           ".2f"
          ],
          "values": [
           [
            "family members",
            "owner",
            "strangers"
           ],
           [
            322,
            283,
            269
           ],
           [
            25.374310480693456,
            22.301024428684002,
            21.19779353821907
           ]
          ]
         },
         "columnwidth": [
          200,
          100,
          100
         ],
         "header": {
          "align": [
           "left",
           "left",
           "left",
           "left",
           "left"
          ],
          "fill": {
           "color": "#B0C4DE"
          },
          "values": [
           "Jumping Target",
           "Number of Dogs",
           "Prevalence (%)"
          ]
         },
         "type": "table"
        }
       ],
       "layout": {
        "height": 200,
        "margin": {
         "b": 50,
         "l": 50,
         "pad": 4,
         "r": 50,
         "t": 50
        },
        "width": 700
       }
      },
      "text/html": [
       "<div id=\"879d2723-a284-4372-8d8c-1edd475462ce\" style=\"height: 200px; width: 700px;\" class=\"plotly-graph-div\"></div><script type=\"text/javascript\">require([\"plotly\"], function(Plotly) { window.PLOTLYENV=window.PLOTLYENV || {};window.PLOTLYENV.BASE_URL=\"https://plot.ly\";Plotly.newPlot(\"879d2723-a284-4372-8d8c-1edd475462ce\", [{\"type\": \"table\", \"columnwidth\": [200, 100, 100], \"header\": {\"values\": [\"Jumping Target\", \"Number of Dogs\", \"Prevalence (%)\"], \"fill\": {\"color\": \"#B0C4DE\"}, \"align\": [\"left\", \"left\", \"left\", \"left\", \"left\"]}, \"cells\": {\"values\": [[\"family members\", \"owner\", \"strangers\"], [322, 283, 269], [25.374310480693456, 22.301024428684002, 21.19779353821907]], \"align\": [\"left\", \"left\", \"left\", \"left\", \"left\"], \"format\": [null, \"d\", \".2f\"]}}], {\"width\": 700, \"height\": 200, \"margin\": {\"l\": 50, \"r\": 50, \"b\": 50, \"t\": 50, \"pad\": 4}}, {\"showLink\": true, \"linkText\": \"Export to plot.ly\"})});</script>"
      ],
      "text/vnd.plotly.v1+html": [
       "<div id=\"879d2723-a284-4372-8d8c-1edd475462ce\" style=\"height: 200px; width: 700px;\" class=\"plotly-graph-div\"></div><script type=\"text/javascript\">require([\"plotly\"], function(Plotly) { window.PLOTLYENV=window.PLOTLYENV || {};window.PLOTLYENV.BASE_URL=\"https://plot.ly\";Plotly.newPlot(\"879d2723-a284-4372-8d8c-1edd475462ce\", [{\"type\": \"table\", \"columnwidth\": [200, 100, 100], \"header\": {\"values\": [\"Jumping Target\", \"Number of Dogs\", \"Prevalence (%)\"], \"fill\": {\"color\": \"#B0C4DE\"}, \"align\": [\"left\", \"left\", \"left\", \"left\", \"left\"]}, \"cells\": {\"values\": [[\"family members\", \"owner\", \"strangers\"], [322, 283, 269], [25.374310480693456, 22.301024428684002, 21.19779353821907]], \"align\": [\"left\", \"left\", \"left\", \"left\", \"left\"], \"format\": [null, \"d\", \".2f\"]}}], {\"width\": 700, \"height\": 200, \"margin\": {\"l\": 50, \"r\": 50, \"b\": 50, \"t\": 50, \"pad\": 4}}, {\"showLink\": true, \"linkText\": \"Export to plot.ly\"})});</script>"
      ]
     },
     "metadata": {},
     "output_type": "display_data"
    }
   ],
   "source": [
    "# Create the necessary dataframe.\n",
    "fields = 'q08_who_1, q08_who_2, q08_who_3'\n",
    "labels = ['owner', 'family members', 'strangers']\n",
    "df = createNumericDataFrame(DOG_TABLE, fields, labels, filtered=True)\n",
    "\n",
    "# Get individual behavior problem counts and display as a table.\n",
    "sums = df.sum()\n",
    "sums = sums.sort_values(ascending=False)\n",
    "\n",
    "# Calculate the prevalence of each behavior problem.\n",
    "prevalence_cal = lambda x: (x / total_dogs) * 100\n",
    "prevalences = sums.apply(prevalence_cal)\n",
    "\n",
    "# Get individual behavior problem counts and display as a table.\n",
    "trace = go.Table(\n",
    "    columnwidth = [200, 100, 100],\n",
    "    header=dict(values=['Jumping Target', 'Number of Dogs', 'Prevalence (%)'],\n",
    "                fill = dict(color='#B0C4DE'),\n",
    "                align = ['left'] * 5),\n",
    "    cells=dict(values=[sums.index.values, sums.values, prevalences.values],\n",
    "               align = ['left'] * 5,\n",
    "               format = [None, 'd', '.2f']))\n",
    "data = [trace] \n",
    "layout = go.Layout(width=700, height=200, margin=go.Margin(l=50, r=50, b=50, t=50, pad=4))\n",
    "fig = dict(data=data, layout=layout)\n",
    "py.iplot(fig)"
   ]
  },
  {
   "cell_type": "markdown",
   "metadata": {},
   "source": [
    "### Mounting/Humping"
   ]
  },
  {
   "cell_type": "code",
   "execution_count": 23,
   "metadata": {},
   "outputs": [
    {
     "data": {
      "application/vnd.plotly.v1+json": {
       "data": [
        {
         "cells": {
          "align": [
           "left",
           "left",
           "left",
           "left",
           "left"
          ],
          "format": [
           null,
           "d",
           ".2f"
          ],
          "values": [
           [
            "familiar dogs",
            "people",
            "inanimate objects",
            "unfamiliar dogs"
           ],
           [
            96,
            59,
            35,
            35
           ],
           [
            7.5650118203309695,
            4.649330181245075,
            2.7580772261623325,
            2.7580772261623325
           ]
          ]
         },
         "columnwidth": [
          200,
          100,
          100
         ],
         "header": {
          "align": [
           "left",
           "left",
           "left",
           "left",
           "left"
          ],
          "fill": {
           "color": "#B0C4DE"
          },
          "values": [
           "Mounting/Humping Target",
           "Number of Dogs",
           "Prevalence (%)"
          ]
         },
         "type": "table"
        }
       ],
       "layout": {
        "height": 225,
        "margin": {
         "b": 50,
         "l": 50,
         "pad": 4,
         "r": 50,
         "t": 50
        },
        "width": 700
       }
      },
      "text/html": [
       "<div id=\"573eb8c7-57ee-42f2-b5e6-3160f1030549\" style=\"height: 225px; width: 700px;\" class=\"plotly-graph-div\"></div><script type=\"text/javascript\">require([\"plotly\"], function(Plotly) { window.PLOTLYENV=window.PLOTLYENV || {};window.PLOTLYENV.BASE_URL=\"https://plot.ly\";Plotly.newPlot(\"573eb8c7-57ee-42f2-b5e6-3160f1030549\", [{\"type\": \"table\", \"columnwidth\": [200, 100, 100], \"header\": {\"values\": [\"Mounting/Humping Target\", \"Number of Dogs\", \"Prevalence (%)\"], \"fill\": {\"color\": \"#B0C4DE\"}, \"align\": [\"left\", \"left\", \"left\", \"left\", \"left\"]}, \"cells\": {\"values\": [[\"familiar dogs\", \"people\", \"inanimate objects\", \"unfamiliar dogs\"], [96, 59, 35, 35], [7.5650118203309695, 4.649330181245075, 2.7580772261623325, 2.7580772261623325]], \"align\": [\"left\", \"left\", \"left\", \"left\", \"left\"], \"format\": [null, \"d\", \".2f\"]}}], {\"width\": 700, \"height\": 225, \"margin\": {\"l\": 50, \"r\": 50, \"b\": 50, \"t\": 50, \"pad\": 4}}, {\"showLink\": true, \"linkText\": \"Export to plot.ly\"})});</script>"
      ],
      "text/vnd.plotly.v1+html": [
       "<div id=\"573eb8c7-57ee-42f2-b5e6-3160f1030549\" style=\"height: 225px; width: 700px;\" class=\"plotly-graph-div\"></div><script type=\"text/javascript\">require([\"plotly\"], function(Plotly) { window.PLOTLYENV=window.PLOTLYENV || {};window.PLOTLYENV.BASE_URL=\"https://plot.ly\";Plotly.newPlot(\"573eb8c7-57ee-42f2-b5e6-3160f1030549\", [{\"type\": \"table\", \"columnwidth\": [200, 100, 100], \"header\": {\"values\": [\"Mounting/Humping Target\", \"Number of Dogs\", \"Prevalence (%)\"], \"fill\": {\"color\": \"#B0C4DE\"}, \"align\": [\"left\", \"left\", \"left\", \"left\", \"left\"]}, \"cells\": {\"values\": [[\"familiar dogs\", \"people\", \"inanimate objects\", \"unfamiliar dogs\"], [96, 59, 35, 35], [7.5650118203309695, 4.649330181245075, 2.7580772261623325, 2.7580772261623325]], \"align\": [\"left\", \"left\", \"left\", \"left\", \"left\"], \"format\": [null, \"d\", \".2f\"]}}], {\"width\": 700, \"height\": 225, \"margin\": {\"l\": 50, \"r\": 50, \"b\": 50, \"t\": 50, \"pad\": 4}}, {\"showLink\": true, \"linkText\": \"Export to plot.ly\"})});</script>"
      ]
     },
     "metadata": {},
     "output_type": "display_data"
    }
   ],
   "source": [
    "# Create the necessary dataframe.\n",
    "fields = 'q09_main_1, q09_main_2, q09_main_3, q09_main_4'\n",
    "labels = ['people', 'familiar dogs', 'unfamiliar dogs', 'inanimate objects']\n",
    "df = createNumericDataFrame(DOG_TABLE, fields, labels, filtered=True)\n",
    "\n",
    "# Get individual behavior problem counts and display as a table.\n",
    "sums = df.sum()\n",
    "sums = sums.sort_values(ascending=False)\n",
    "\n",
    "# Calculate the prevalence of each behavior problem.\n",
    "prevalence_cal = lambda x: (x / total_dogs) * 100\n",
    "prevalences = sums.apply(prevalence_cal)\n",
    "\n",
    "# Get individual behavior problem counts and display as a table.\n",
    "trace = go.Table(\n",
    "    columnwidth = [200, 100, 100],\n",
    "    header=dict(values=['Mounting/Humping Target', 'Number of Dogs', 'Prevalence (%)'],\n",
    "                fill = dict(color='#B0C4DE'),\n",
    "                align = ['left'] * 5),\n",
    "    cells=dict(values=[sums.index.values, sums.values, prevalences.values],\n",
    "               align = ['left'] * 5,\n",
    "               format = [None, 'd', '.2f']))\n",
    "data = [trace] \n",
    "layout = go.Layout(width=700, height=225, margin=go.Margin(l=50, r=50, b=50, t=50, pad=4))\n",
    "fig = dict(data=data, layout=layout)\n",
    "py.iplot(fig)"
   ]
  },
  {
   "cell_type": "markdown",
   "metadata": {},
   "source": [
    "### Consumption of Feces"
   ]
  },
  {
   "cell_type": "code",
   "execution_count": 24,
   "metadata": {},
   "outputs": [
    {
     "data": {
      "application/vnd.plotly.v1+json": {
       "data": [
        {
         "cells": {
          "align": [
           "left",
           "left",
           "left",
           "left",
           "left"
          ],
          "format": [
           null,
           "d",
           ".2f"
          ],
          "values": [
           [
            "other dogs'",
            "other species'",
            "their own"
           ],
           [
            146,
            143,
            133
           ],
           [
            11.505122143420015,
            11.268715524034672,
            10.480693459416864
           ]
          ]
         },
         "columnwidth": [
          200,
          100,
          100
         ],
         "header": {
          "align": [
           "left",
           "left",
           "left",
           "left",
           "left"
          ],
          "fill": {
           "color": "#B0C4DE"
          },
          "values": [
           "Source of Feces Consumed",
           "Number of Dogs",
           "Prevalence (%)"
          ]
         },
         "type": "table"
        }
       ],
       "layout": {
        "height": 200,
        "margin": {
         "b": 50,
         "l": 50,
         "pad": 4,
         "r": 50,
         "t": 50
        },
        "width": 700
       }
      },
      "text/html": [
       "<div id=\"1a11ebda-8a8a-4f92-a500-1297ed6d26b6\" style=\"height: 200px; width: 700px;\" class=\"plotly-graph-div\"></div><script type=\"text/javascript\">require([\"plotly\"], function(Plotly) { window.PLOTLYENV=window.PLOTLYENV || {};window.PLOTLYENV.BASE_URL=\"https://plot.ly\";Plotly.newPlot(\"1a11ebda-8a8a-4f92-a500-1297ed6d26b6\", [{\"type\": \"table\", \"columnwidth\": [200, 100, 100], \"header\": {\"values\": [\"Source of Feces Consumed\", \"Number of Dogs\", \"Prevalence (%)\"], \"fill\": {\"color\": \"#B0C4DE\"}, \"align\": [\"left\", \"left\", \"left\", \"left\", \"left\"]}, \"cells\": {\"values\": [[\"other dogs'\", \"other species'\", \"their own\"], [146, 143, 133], [11.505122143420015, 11.268715524034672, 10.480693459416864]], \"align\": [\"left\", \"left\", \"left\", \"left\", \"left\"], \"format\": [null, \"d\", \".2f\"]}}], {\"width\": 700, \"height\": 200, \"margin\": {\"l\": 50, \"r\": 50, \"b\": 50, \"t\": 50, \"pad\": 4}}, {\"showLink\": true, \"linkText\": \"Export to plot.ly\"})});</script>"
      ],
      "text/vnd.plotly.v1+html": [
       "<div id=\"1a11ebda-8a8a-4f92-a500-1297ed6d26b6\" style=\"height: 200px; width: 700px;\" class=\"plotly-graph-div\"></div><script type=\"text/javascript\">require([\"plotly\"], function(Plotly) { window.PLOTLYENV=window.PLOTLYENV || {};window.PLOTLYENV.BASE_URL=\"https://plot.ly\";Plotly.newPlot(\"1a11ebda-8a8a-4f92-a500-1297ed6d26b6\", [{\"type\": \"table\", \"columnwidth\": [200, 100, 100], \"header\": {\"values\": [\"Source of Feces Consumed\", \"Number of Dogs\", \"Prevalence (%)\"], \"fill\": {\"color\": \"#B0C4DE\"}, \"align\": [\"left\", \"left\", \"left\", \"left\", \"left\"]}, \"cells\": {\"values\": [[\"other dogs'\", \"other species'\", \"their own\"], [146, 143, 133], [11.505122143420015, 11.268715524034672, 10.480693459416864]], \"align\": [\"left\", \"left\", \"left\", \"left\", \"left\"], \"format\": [null, \"d\", \".2f\"]}}], {\"width\": 700, \"height\": 200, \"margin\": {\"l\": 50, \"r\": 50, \"b\": 50, \"t\": 50, \"pad\": 4}}, {\"showLink\": true, \"linkText\": \"Export to plot.ly\"})});</script>"
      ]
     },
     "metadata": {},
     "output_type": "display_data"
    }
   ],
   "source": [
    "# Create the necessary dataframe.\n",
    "fields = 'q10_main_1, q10_main_2, q10_main_3'\n",
    "labels = ['their own', \"other dogs'\", \"other species'\"]\n",
    "df = createNumericDataFrame(DOG_TABLE, fields, labels, filtered=True)\n",
    "\n",
    "# Get individual behavior problem counts and display as a table.\n",
    "sums = df.sum()\n",
    "sums = sums.sort_values(ascending=False)\n",
    "\n",
    "# Calculate the prevalence of each behavior problem.\n",
    "prevalence_cal = lambda x: (x / total_dogs) * 100\n",
    "prevalences = sums.apply(prevalence_cal)\n",
    "\n",
    "# Get individual behavior problem counts and display as a table.\n",
    "trace = go.Table(\n",
    "    columnwidth = [200, 100, 100],\n",
    "    header=dict(values=['Source of Feces Consumed', 'Number of Dogs', 'Prevalence (%)'],\n",
    "                fill = dict(color='#B0C4DE'),\n",
    "                align = ['left'] * 5),\n",
    "    cells=dict(values=[sums.index.values, sums.values, prevalences.values],\n",
    "               align = ['left'] * 5,\n",
    "               format = [None, 'd', '.2f']))\n",
    "data = [trace] \n",
    "layout = go.Layout(width=700, height=200, margin=go.Margin(l=50, r=50, b=50, t=50, pad=4))\n",
    "fig = dict(data=data, layout=layout)\n",
    "py.iplot(fig)"
   ]
  },
  {
   "cell_type": "markdown",
   "metadata": {},
   "source": [
    "### Destructive Behavior"
   ]
  },
  {
   "cell_type": "code",
   "execution_count": 25,
   "metadata": {},
   "outputs": [
    {
     "data": {
      "application/vnd.plotly.v1+json": {
       "data": [
        {
         "cells": {
          "align": [
           "left",
           "left",
           "left",
           "left",
           "left"
          ],
          "format": [
           null,
           "d",
           ".2f"
          ],
          "values": [
           [
            "owner is away",
            "owner is home"
           ],
           [
            165,
            107
           ],
           [
            13.002364066193852,
            8.43183609141056
           ]
          ]
         },
         "columnwidth": [
          200,
          100,
          100
         ],
         "header": {
          "align": [
           "left",
           "left",
           "left",
           "left",
           "left"
          ],
          "fill": {
           "color": "#B0C4DE"
          },
          "values": [
           "Destructive Behavior Situation",
           "Number of Dogs",
           "Prevalence (%)"
          ]
         },
         "type": "table"
        }
       ],
       "layout": {
        "height": 175,
        "margin": {
         "b": 50,
         "l": 50,
         "pad": 4,
         "r": 50,
         "t": 50
        },
        "width": 700
       }
      },
      "text/html": [
       "<div id=\"6b066858-61df-44a3-8dd1-fb122bb56992\" style=\"height: 175px; width: 700px;\" class=\"plotly-graph-div\"></div><script type=\"text/javascript\">require([\"plotly\"], function(Plotly) { window.PLOTLYENV=window.PLOTLYENV || {};window.PLOTLYENV.BASE_URL=\"https://plot.ly\";Plotly.newPlot(\"6b066858-61df-44a3-8dd1-fb122bb56992\", [{\"type\": \"table\", \"columnwidth\": [200, 100, 100], \"header\": {\"values\": [\"Destructive Behavior Situation\", \"Number of Dogs\", \"Prevalence (%)\"], \"fill\": {\"color\": \"#B0C4DE\"}, \"align\": [\"left\", \"left\", \"left\", \"left\", \"left\"]}, \"cells\": {\"values\": [[\"owner is away\", \"owner is home\"], [165, 107], [13.002364066193852, 8.43183609141056]], \"align\": [\"left\", \"left\", \"left\", \"left\", \"left\"], \"format\": [null, \"d\", \".2f\"]}}], {\"width\": 700, \"height\": 175, \"margin\": {\"l\": 50, \"r\": 50, \"b\": 50, \"t\": 50, \"pad\": 4}}, {\"showLink\": true, \"linkText\": \"Export to plot.ly\"})});</script>"
      ],
      "text/vnd.plotly.v1+html": [
       "<div id=\"6b066858-61df-44a3-8dd1-fb122bb56992\" style=\"height: 175px; width: 700px;\" class=\"plotly-graph-div\"></div><script type=\"text/javascript\">require([\"plotly\"], function(Plotly) { window.PLOTLYENV=window.PLOTLYENV || {};window.PLOTLYENV.BASE_URL=\"https://plot.ly\";Plotly.newPlot(\"6b066858-61df-44a3-8dd1-fb122bb56992\", [{\"type\": \"table\", \"columnwidth\": [200, 100, 100], \"header\": {\"values\": [\"Destructive Behavior Situation\", \"Number of Dogs\", \"Prevalence (%)\"], \"fill\": {\"color\": \"#B0C4DE\"}, \"align\": [\"left\", \"left\", \"left\", \"left\", \"left\"]}, \"cells\": {\"values\": [[\"owner is away\", \"owner is home\"], [165, 107], [13.002364066193852, 8.43183609141056]], \"align\": [\"left\", \"left\", \"left\", \"left\", \"left\"], \"format\": [null, \"d\", \".2f\"]}}], {\"width\": 700, \"height\": 175, \"margin\": {\"l\": 50, \"r\": 50, \"b\": 50, \"t\": 50, \"pad\": 4}}, {\"showLink\": true, \"linkText\": \"Export to plot.ly\"})});</script>"
      ]
     },
     "metadata": {},
     "output_type": "display_data"
    }
   ],
   "source": [
    "# Create the necessary dataframe.\n",
    "fields = 'q11_situation_1, q11_situation_2'\n",
    "labels = ['owner is home', 'owner is away']\n",
    "df = createNumericDataFrame(DOG_TABLE, fields, labels, filtered=True)\n",
    "\n",
    "# Get individual behavior problem counts and display as a table.\n",
    "sums = df.sum()\n",
    "sums = sums.sort_values(ascending=False)\n",
    "\n",
    "# Calculate the prevalence of each behavior problem.\n",
    "prevalence_cal = lambda x: (x / total_dogs) * 100\n",
    "prevalences = sums.apply(prevalence_cal)\n",
    "\n",
    "# Get individual behavior problem counts and display as a table.\n",
    "trace = go.Table(\n",
    "    columnwidth = [200, 100, 100],\n",
    "    header=dict(values=['Destructive Behavior Situation', 'Number of Dogs', 'Prevalence (%)'],\n",
    "                fill = dict(color='#B0C4DE'),\n",
    "                align = ['left'] * 5),\n",
    "    cells=dict(values=[sums.index.values, sums.values, prevalences.values],\n",
    "               align = ['left'] * 5,\n",
    "               format = [None, 'd', '.2f']))\n",
    "data = [trace] \n",
    "layout = go.Layout(width=700, height=175, margin=go.Margin(l=50, r=50, b=50, t=50, pad=4))\n",
    "fig = dict(data=data, layout=layout)\n",
    "py.iplot(fig)"
   ]
  },
  {
   "cell_type": "markdown",
   "metadata": {},
   "source": [
    "### Rolling in Repulsive Materials"
   ]
  },
  {
   "cell_type": "code",
   "execution_count": 26,
   "metadata": {},
   "outputs": [
    {
     "data": {
      "application/vnd.plotly.v1+json": {
       "data": [
        {
         "cells": {
          "align": [
           "left",
           "left",
           "left",
           "left",
           "left"
          ],
          "format": [
           null,
           "d",
           ".2f"
          ],
          "values": [
           [
            "dead stuff",
            "feces",
            "urine",
            "garbage"
           ],
           [
            135,
            109,
            27,
            24
           ],
           [
            10.638297872340425,
            8.58944050433412,
            2.127659574468085,
            1.8912529550827424
           ]
          ]
         },
         "columnwidth": [
          200,
          100,
          100
         ],
         "header": {
          "align": [
           "left",
           "left",
           "left",
           "left",
           "left"
          ],
          "fill": {
           "color": "#B0C4DE"
          },
          "values": [
           "Rolling in Repulsive Materials",
           "Number of Dogs",
           "Prevalence (%)"
          ]
         },
         "type": "table"
        }
       ],
       "layout": {
        "height": 225,
        "margin": {
         "b": 50,
         "l": 50,
         "pad": 4,
         "r": 50,
         "t": 50
        },
        "width": 700
       }
      },
      "text/html": [
       "<div id=\"b4ab6ed9-3186-4fde-8b31-2a2f11bbb842\" style=\"height: 225px; width: 700px;\" class=\"plotly-graph-div\"></div><script type=\"text/javascript\">require([\"plotly\"], function(Plotly) { window.PLOTLYENV=window.PLOTLYENV || {};window.PLOTLYENV.BASE_URL=\"https://plot.ly\";Plotly.newPlot(\"b4ab6ed9-3186-4fde-8b31-2a2f11bbb842\", [{\"type\": \"table\", \"columnwidth\": [200, 100, 100], \"header\": {\"values\": [\"Rolling in Repulsive Materials\", \"Number of Dogs\", \"Prevalence (%)\"], \"fill\": {\"color\": \"#B0C4DE\"}, \"align\": [\"left\", \"left\", \"left\", \"left\", \"left\"]}, \"cells\": {\"values\": [[\"dead stuff\", \"feces\", \"urine\", \"garbage\"], [135, 109, 27, 24], [10.638297872340425, 8.58944050433412, 2.127659574468085, 1.8912529550827424]], \"align\": [\"left\", \"left\", \"left\", \"left\", \"left\"], \"format\": [null, \"d\", \".2f\"]}}], {\"width\": 700, \"height\": 225, \"margin\": {\"l\": 50, \"r\": 50, \"b\": 50, \"t\": 50, \"pad\": 4}}, {\"showLink\": true, \"linkText\": \"Export to plot.ly\"})});</script>"
      ],
      "text/vnd.plotly.v1+html": [
       "<div id=\"b4ab6ed9-3186-4fde-8b31-2a2f11bbb842\" style=\"height: 225px; width: 700px;\" class=\"plotly-graph-div\"></div><script type=\"text/javascript\">require([\"plotly\"], function(Plotly) { window.PLOTLYENV=window.PLOTLYENV || {};window.PLOTLYENV.BASE_URL=\"https://plot.ly\";Plotly.newPlot(\"b4ab6ed9-3186-4fde-8b31-2a2f11bbb842\", [{\"type\": \"table\", \"columnwidth\": [200, 100, 100], \"header\": {\"values\": [\"Rolling in Repulsive Materials\", \"Number of Dogs\", \"Prevalence (%)\"], \"fill\": {\"color\": \"#B0C4DE\"}, \"align\": [\"left\", \"left\", \"left\", \"left\", \"left\"]}, \"cells\": {\"values\": [[\"dead stuff\", \"feces\", \"urine\", \"garbage\"], [135, 109, 27, 24], [10.638297872340425, 8.58944050433412, 2.127659574468085, 1.8912529550827424]], \"align\": [\"left\", \"left\", \"left\", \"left\", \"left\"], \"format\": [null, \"d\", \".2f\"]}}], {\"width\": 700, \"height\": 225, \"margin\": {\"l\": 50, \"r\": 50, \"b\": 50, \"t\": 50, \"pad\": 4}}, {\"showLink\": true, \"linkText\": \"Export to plot.ly\"})});</script>"
      ]
     },
     "metadata": {},
     "output_type": "display_data"
    }
   ],
   "source": [
    "# Create the necessary dataframe.\n",
    "fields = 'q12_main_1, q12_main_2, q12_main_3, q12_main_4'\n",
    "labels = ['urine', 'feces', 'dead stuff', 'garbage']\n",
    "df = createNumericDataFrame(DOG_TABLE, fields, labels, filtered=True)\n",
    "\n",
    "# Get individual behavior problem counts and display as a table.\n",
    "sums = df.sum()\n",
    "sums = sums.sort_values(ascending=False)\n",
    "\n",
    "# Calculate the prevalence of each behavior problem.\n",
    "prevalence_cal = lambda x: (x / total_dogs) * 100\n",
    "prevalences = sums.apply(prevalence_cal)\n",
    "\n",
    "# Get individual behavior problem counts and display as a table.\n",
    "trace = go.Table(\n",
    "    columnwidth = [200, 100, 100],\n",
    "    header=dict(values=['Rolling in Repulsive Materials', 'Number of Dogs', 'Prevalence (%)'],\n",
    "                fill = dict(color='#B0C4DE'),\n",
    "                align = ['left'] * 5),\n",
    "    cells=dict(values=[sums.index.values, sums.values, prevalences.values],\n",
    "               align = ['left'] * 5,\n",
    "               format = [None, 'd', '.2f']))\n",
    "data = [trace] \n",
    "layout = go.Layout(width=700, height=225, margin=go.Margin(l=50, r=50, b=50, t=50, pad=4))\n",
    "fig = dict(data=data, layout=layout)\n",
    "py.iplot(fig)"
   ]
  },
  {
   "cell_type": "markdown",
   "metadata": {},
   "source": [
    "### Running Away/Escaping"
   ]
  },
  {
   "cell_type": "code",
   "execution_count": 27,
   "metadata": {},
   "outputs": [
    {
     "data": {
      "application/vnd.plotly.v1+json": {
       "data": [
        {
         "cells": {
          "align": [
           "left",
           "left",
           "left",
           "left",
           "left"
          ],
          "format": [
           null,
           "d",
           ".2f"
          ],
          "values": [
           [
            "escapes from home",
            "escapes when out",
            "escapes from confinement",
            "returns home after escape"
           ],
           [
            91,
            79,
            71,
            34
           ],
           [
            7.171000788022066,
            6.225374310480693,
            5.594956658786446,
            2.6792750197005515
           ]
          ]
         },
         "columnwidth": [
          200,
          100,
          100
         ],
         "header": {
          "align": [
           "left",
           "left",
           "left",
           "left",
           "left"
          ],
          "fill": {
           "color": "#B0C4DE"
          },
          "values": [
           "Running Away",
           "Number of Dogs",
           "Prevalence (%)"
          ]
         },
         "type": "table"
        }
       ],
       "layout": {
        "height": 225,
        "margin": {
         "b": 50,
         "l": 50,
         "pad": 4,
         "r": 50,
         "t": 50
        },
        "width": 700
       }
      },
      "text/html": [
       "<div id=\"704f264a-052b-46fb-abef-f130226f92c0\" style=\"height: 225px; width: 700px;\" class=\"plotly-graph-div\"></div><script type=\"text/javascript\">require([\"plotly\"], function(Plotly) { window.PLOTLYENV=window.PLOTLYENV || {};window.PLOTLYENV.BASE_URL=\"https://plot.ly\";Plotly.newPlot(\"704f264a-052b-46fb-abef-f130226f92c0\", [{\"type\": \"table\", \"columnwidth\": [200, 100, 100], \"header\": {\"values\": [\"Running Away\", \"Number of Dogs\", \"Prevalence (%)\"], \"fill\": {\"color\": \"#B0C4DE\"}, \"align\": [\"left\", \"left\", \"left\", \"left\", \"left\"]}, \"cells\": {\"values\": [[\"escapes from home\", \"escapes when out\", \"escapes from confinement\", \"returns home after escape\"], [91.0, 79.0, 71.0, 34.0], [7.171000788022066, 6.225374310480693, 5.594956658786446, 2.6792750197005515]], \"align\": [\"left\", \"left\", \"left\", \"left\", \"left\"], \"format\": [null, \"d\", \".2f\"]}}], {\"width\": 700, \"height\": 225, \"margin\": {\"l\": 50, \"r\": 50, \"b\": 50, \"t\": 50, \"pad\": 4}}, {\"showLink\": true, \"linkText\": \"Export to plot.ly\"})});</script>"
      ],
      "text/vnd.plotly.v1+html": [
       "<div id=\"704f264a-052b-46fb-abef-f130226f92c0\" style=\"height: 225px; width: 700px;\" class=\"plotly-graph-div\"></div><script type=\"text/javascript\">require([\"plotly\"], function(Plotly) { window.PLOTLYENV=window.PLOTLYENV || {};window.PLOTLYENV.BASE_URL=\"https://plot.ly\";Plotly.newPlot(\"704f264a-052b-46fb-abef-f130226f92c0\", [{\"type\": \"table\", \"columnwidth\": [200, 100, 100], \"header\": {\"values\": [\"Running Away\", \"Number of Dogs\", \"Prevalence (%)\"], \"fill\": {\"color\": \"#B0C4DE\"}, \"align\": [\"left\", \"left\", \"left\", \"left\", \"left\"]}, \"cells\": {\"values\": [[\"escapes from home\", \"escapes when out\", \"escapes from confinement\", \"returns home after escape\"], [91.0, 79.0, 71.0, 34.0], [7.171000788022066, 6.225374310480693, 5.594956658786446, 2.6792750197005515]], \"align\": [\"left\", \"left\", \"left\", \"left\", \"left\"], \"format\": [null, \"d\", \".2f\"]}}], {\"width\": 700, \"height\": 225, \"margin\": {\"l\": 50, \"r\": 50, \"b\": 50, \"t\": 50, \"pad\": 4}}, {\"showLink\": true, \"linkText\": \"Export to plot.ly\"})});</script>"
      ]
     },
     "metadata": {},
     "output_type": "display_data"
    }
   ],
   "source": [
    "# Create the necessary dataframe.\n",
    "fields = 'q14_out, q14_house, q14_conf, q14_return'\n",
    "labels = ['escapes when out', 'escapes from home', 'escapes from confinement',\n",
    "          'returns home after escape']\n",
    "df = createNumericDataFrame(DOG_TABLE, fields, labels, filtered=True)\n",
    "\n",
    "# Get individual behavior problem counts and display as a table.\n",
    "sums = df.sum()\n",
    "sums = sums.sort_values(ascending=False)\n",
    "\n",
    "# Calculate the prevalence of each behavior problem.\n",
    "prevalence_cal = lambda x: (x / total_dogs) * 100\n",
    "prevalences = sums.apply(prevalence_cal)\n",
    "\n",
    "# Get individual behavior problem counts and display as a table.\n",
    "trace = go.Table(\n",
    "    columnwidth = [200, 100, 100],\n",
    "    header=dict(values=['Running Away', 'Number of Dogs', 'Prevalence (%)'],\n",
    "                fill = dict(color='#B0C4DE'),\n",
    "                align = ['left'] * 5),\n",
    "    cells=dict(values=[sums.index.values, sums.values, prevalences.values],\n",
    "               align = ['left'] * 5,\n",
    "               format = [None, 'd', '.2f']))\n",
    "data = [trace] \n",
    "layout = go.Layout(width=700, height=225, margin=go.Margin(l=50, r=50, b=50, t=50, pad=4))\n",
    "fig = dict(data=data, layout=layout)\n",
    "py.iplot(fig)"
   ]
  },
  {
   "cell_type": "markdown",
   "metadata": {},
   "source": [
    "### Overactivity/Hyperactivity"
   ]
  },
  {
   "cell_type": "code",
   "execution_count": 28,
   "metadata": {},
   "outputs": [
    {
     "data": {
      "application/vnd.plotly.v1+json": {
       "data": [
        {
         "cells": {
          "align": [
           "left",
           "left",
           "left",
           "left",
           "left"
          ],
          "format": [
           null,
           "d",
           ".2f"
          ],
          "values": [
           [
            "difficulty settling",
            "impulsive",
            "highly distractible",
            "constant moving/jumping"
           ],
           [
            160,
            140,
            126,
            122
           ],
           [
            12.608353033884947,
            11.03230890464933,
            9.929078014184398,
            9.613869188337274
           ]
          ]
         },
         "columnwidth": [
          200,
          100,
          100
         ],
         "header": {
          "align": [
           "left",
           "left",
           "left",
           "left",
           "left"
          ],
          "fill": {
           "color": "#B0C4DE"
          },
          "values": [
           "Overactivity/Hyperactivity",
           "Number of Dogs",
           "Prevalence (%)"
          ]
         },
         "type": "table"
        }
       ],
       "layout": {
        "height": 225,
        "margin": {
         "b": 50,
         "l": 50,
         "pad": 4,
         "r": 50,
         "t": 50
        },
        "width": 700
       }
      },
      "text/html": [
       "<div id=\"f4627d53-5f8b-4c88-bff7-cd9e007441ca\" style=\"height: 225px; width: 700px;\" class=\"plotly-graph-div\"></div><script type=\"text/javascript\">require([\"plotly\"], function(Plotly) { window.PLOTLYENV=window.PLOTLYENV || {};window.PLOTLYENV.BASE_URL=\"https://plot.ly\";Plotly.newPlot(\"f4627d53-5f8b-4c88-bff7-cd9e007441ca\", [{\"type\": \"table\", \"columnwidth\": [200, 100, 100], \"header\": {\"values\": [\"Overactivity/Hyperactivity\", \"Number of Dogs\", \"Prevalence (%)\"], \"fill\": {\"color\": \"#B0C4DE\"}, \"align\": [\"left\", \"left\", \"left\", \"left\", \"left\"]}, \"cells\": {\"values\": [[\"difficulty settling\", \"impulsive\", \"highly distractible\", \"constant moving/jumping\"], [160, 140, 126, 122], [12.608353033884947, 11.03230890464933, 9.929078014184398, 9.613869188337274]], \"align\": [\"left\", \"left\", \"left\", \"left\", \"left\"], \"format\": [null, \"d\", \".2f\"]}}], {\"width\": 700, \"height\": 225, \"margin\": {\"l\": 50, \"r\": 50, \"b\": 50, \"t\": 50, \"pad\": 4}}, {\"showLink\": true, \"linkText\": \"Export to plot.ly\"})});</script>"
      ],
      "text/vnd.plotly.v1+html": [
       "<div id=\"f4627d53-5f8b-4c88-bff7-cd9e007441ca\" style=\"height: 225px; width: 700px;\" class=\"plotly-graph-div\"></div><script type=\"text/javascript\">require([\"plotly\"], function(Plotly) { window.PLOTLYENV=window.PLOTLYENV || {};window.PLOTLYENV.BASE_URL=\"https://plot.ly\";Plotly.newPlot(\"f4627d53-5f8b-4c88-bff7-cd9e007441ca\", [{\"type\": \"table\", \"columnwidth\": [200, 100, 100], \"header\": {\"values\": [\"Overactivity/Hyperactivity\", \"Number of Dogs\", \"Prevalence (%)\"], \"fill\": {\"color\": \"#B0C4DE\"}, \"align\": [\"left\", \"left\", \"left\", \"left\", \"left\"]}, \"cells\": {\"values\": [[\"difficulty settling\", \"impulsive\", \"highly distractible\", \"constant moving/jumping\"], [160, 140, 126, 122], [12.608353033884947, 11.03230890464933, 9.929078014184398, 9.613869188337274]], \"align\": [\"left\", \"left\", \"left\", \"left\", \"left\"], \"format\": [null, \"d\", \".2f\"]}}], {\"width\": 700, \"height\": 225, \"margin\": {\"l\": 50, \"r\": 50, \"b\": 50, \"t\": 50, \"pad\": 4}}, {\"showLink\": true, \"linkText\": \"Export to plot.ly\"})});</script>"
      ]
     },
     "metadata": {},
     "output_type": "display_data"
    }
   ],
   "source": [
    "# Create the necessary dataframe.\n",
    "fields = 'q15_main_1, q15_main_2, q15_main_3, q15_main_4'\n",
    "labels = ['constant moving/jumping', 'difficulty settling', 'highly distractible',\n",
    "          'impulsive']\n",
    "df = createNumericDataFrame(DOG_TABLE, fields, labels, filtered=True)\n",
    "\n",
    "# Get individual behavior problem counts and display as a table.\n",
    "sums = df.sum()\n",
    "sums = sums.sort_values(ascending=False)\n",
    "\n",
    "# Calculate the prevalence of each behavior problem.\n",
    "prevalence_cal = lambda x: (x / total_dogs) * 100\n",
    "prevalences = sums.apply(prevalence_cal)\n",
    "\n",
    "# Get individual behavior problem counts and display as a table.\n",
    "trace = go.Table(\n",
    "    columnwidth = [200, 100, 100],\n",
    "    header=dict(values=['Overactivity/Hyperactivity', 'Number of Dogs', 'Prevalence (%)'],\n",
    "                fill = dict(color='#B0C4DE'),\n",
    "                align = ['left'] * 5),\n",
    "    cells=dict(values=[sums.index.values, sums.values, prevalences.values],\n",
    "               align = ['left'] * 5,\n",
    "               format = [None, 'd', '.2f']))\n",
    "data = [trace] \n",
    "layout = go.Layout(width=700, height=225, margin=go.Margin(l=50, r=50, b=50, t=50, pad=4))\n",
    "fig = dict(data=data, layout=layout)\n",
    "py.iplot(fig)"
   ]
  },
  {
   "cell_type": "markdown",
   "metadata": {},
   "source": [
    "## Separation Anxiety, Noise Phobia, and Thunderstorm Phobia"
   ]
  },
  {
   "cell_type": "code",
   "execution_count": 29,
   "metadata": {},
   "outputs": [
    {
     "data": {
      "image/png": "[encoded data removed]",
      "text/plain": [
       "<Figure size 432x288 with 1 Axes>"
      ]
     },
     "metadata": {},
     "output_type": "display_data"
    },
    {
     "name": "stdout",
     "output_type": "stream",
     "text": [
      "Chi-squared Test of Independence for thunderstorm phobia and noise phobia:\n",
      "chi2 = 377.605187, p = 4.13E-84, dof = 1\n",
      "The resulting p-value is below the set significance threshold (0.01).\n"
     ]
    },
    {
     "data": {
      "image/png": "[encoded data removed]",
      "text/plain": [
       "<Figure size 432x288 with 1 Axes>"
      ]
     },
     "metadata": {},
     "output_type": "display_data"
    },
    {
     "name": "stdout",
     "output_type": "stream",
     "text": [
      "Chi-squared Test of Independence for thunderstorm phobia and separation anxiety:\n",
      "chi2 = 55.436775, p = 9.65E-14, dof = 1\n",
      "The resulting p-value is below the set significance threshold (0.01).\n"
     ]
    },
    {
     "data": {
      "image/png": "[encoded data removed]",
      "text/plain": [
       "<Figure size 432x288 with 1 Axes>"
      ]
     },
     "metadata": {},
     "output_type": "display_data"
    },
    {
     "name": "stdout",
     "output_type": "stream",
     "text": [
      "Chi-squared Test of Independence for noise phobia and separation anxiety:\n",
      "chi2 = 59.745760, p = 1.08E-14, dof = 1\n",
      "The resulting p-value is below the set significance threshold (0.01).\n"
     ]
    }
   ],
   "source": [
    "# Create the necessary dataframe.\n",
    "fields = 'q04_1, q04_2, q04_9'\n",
    "labels = ['thunderstorm phobia', 'noise phobia', 'separation anxiety']\n",
    "df = createNumericDataFrame(DOG_TABLE, fields, labels, filtered=True)\n",
    "\n",
    "pairs = [['thunderstorm phobia', 'noise phobia'],\n",
    "         ['thunderstorm phobia', 'separation anxiety'],\n",
    "         ['noise phobia', 'separation anxiety']]\n",
    "\n",
    "titles = ['Thunderstorm Phobia and Noise Phobia',\n",
    "          'Thunderstorm Phobia and Separation Anxiety',\n",
    "          'Noise Phobia and Separation Anxiety']\n",
    "\n",
    "counter = 0\n",
    "for pair in pairs:\n",
    "    # Create a contingency table.\n",
    "    contingency = pd.crosstab(df[pair[0]], df[pair[1]])\n",
    "    # Convert the cross tabulated dataframe to a series of sums.\n",
    "    d = {pair[0]: contingency[0][1],\n",
    "         pair[1]: contingency[1][0],\n",
    "         'both': contingency[1][1]}   \n",
    "    cross_sums = pd.Series(d)\n",
    "    # Display the cross tabulated data as a venn diagram.\n",
    "    labels = cross_sums.index.values\n",
    "    venn2(cross_sums, set_labels=labels[0:2])\n",
    "    plt.title(titles[counter])\n",
    "    plt.show()\n",
    "    # Execute a chi-squared test of independence.\n",
    "    print('Chi-squared Test of Independence for %s and %s:' %(pair[0], pair[1]))\n",
    "    c, p, dof, expected = scs.chi2_contingency(contingency, correction=False)\n",
    "    print('chi2 = %f, p = %.2E, dof = %d' %(c, p, dof))\n",
    "    if p < sig_p:\n",
    "        print('The resulting p-value is below the set significance threshold (%.2f).' %sig_p)\n",
    "    counter += 1"
   ]
  },
  {
   "cell_type": "code",
   "execution_count": 30,
   "metadata": {},
   "outputs": [
    {
     "data": {
      "image/png": "[encoded data removed]",
      "text/plain": [
       "<Figure size 432x288 with 1 Axes>"
      ]
     },
     "metadata": {},
     "output_type": "display_data"
    },
    {
     "name": "stdout",
     "output_type": "stream",
     "text": [
      "Chi-squared Test of Independence for separation anxiety and the combination of noise and\n",
      "thunderstorm phobia:\n",
      "chi2 = 81.423106, p = 1.52E-17, dof = 3\n",
      "The resulting p-value is below the set significance threshold (0.01).\n"
     ]
    }
   ],
   "source": [
    "# Create a contingency table.\n",
    "contingency = pd.crosstab(df['separation anxiety'], [df['noise phobia'],\n",
    "                                                     df['thunderstorm phobia']])\n",
    "\n",
    "# Convert the cross tabulated dataframe to a series of sums.\n",
    "d = {'separation anxiety': contingency[0][0][1],\n",
    "     'noise phobia': contingency[1][0][0],\n",
    "     'separation-noise': contingency[1][0][1],\n",
    "     'thunderstorm phobia': contingency[0][1][0],\n",
    "     'separation-thunderstorm': contingency[0][1][1],\n",
    "     'noise-thunderstorm': contingency[1][1][0],     \n",
    "     'all': contingency[1][1][1]}   \n",
    "cross_sums = pd.Series(d)\n",
    "\n",
    "# Display the cross tabulated data as a venn diagram.\n",
    "labels = [cross_sums.index.values[i] for i in [0, 1, 3]]\n",
    "venn3(cross_sums, set_labels=labels)\n",
    "plt.title('Separation Anxiety, Noise Phobia, and Thunderstorm Phobia')\n",
    "plt.show()\n",
    "\n",
    "# Execute a chi-squared test of independence.\n",
    "title = ('Chi-squared Test of Independence for separation anxiety and the combination of '\n",
    "         'noise and thunderstorm phobia:')\n",
    "print(textwrap.fill(title, width=90))\n",
    "c, p, dof, expected = scs.chi2_contingency(contingency, correction=False)\n",
    "print('chi2 = %f, p = %.2E, dof = %d' %(c, p, dof))\n",
    "if p < sig_p:\n",
    "    print('The resulting p-value is below the set significance threshold (%.2f).' %sig_p)"
   ]
  },
  {
   "cell_type": "markdown",
   "metadata": {},
   "source": [
    "## Compulsion and Fearful/Anxious Behaviors"
   ]
  },
  {
   "cell_type": "code",
   "execution_count": 31,
   "metadata": {},
   "outputs": [
    {
     "data": {
      "image/png": "[encoded data removed]",
      "text/plain": [
       "<Figure size 432x288 with 1 Axes>"
      ]
     },
     "metadata": {},
     "output_type": "display_data"
    }
   ],
   "source": [
    "# Create the necessary hdataframe.\n",
    "fields = 'q02_main_2, q02_main_3'\n",
    "labels = ['fear/anxiety', 'compulsion']\n",
    "df = createNumericDataFrame(DOG_TABLE, fields, labels, filtered=True)\n",
    "\n",
    "# Cross tabulate the relevant columns.\n",
    "contingency = pd.crosstab(df['fear/anxiety'], df['compulsion'])\n",
    "\n",
    "# Convert the cross tabulated dataframe to a series of sums.\n",
    "d = {'fear/anxiety': contingency[0][1],\n",
    "     'compulsion': contingency[1][0],\n",
    "     'both': contingency[1][1]}   \n",
    "cross_sums = pd.Series(d)\n",
    "\n",
    "# Display the cross tabulated data as a venn diagram.\n",
    "labels = cross_sums.index.values\n",
    "venn2(cross_sums, set_labels=labels[0:2])\n",
    "plt.title('Fear/Anxiety and Compulsion')\n",
    "plt.show()"
   ]
  },
  {
   "cell_type": "code",
   "execution_count": 32,
   "metadata": {},
   "outputs": [
    {
     "name": "stdout",
     "output_type": "stream",
     "text": [
      "Chi-square Test of Independence:\n",
      "chi2 = 26.749622, p = 2.32E-07, dof = 1\n",
      "The resulting p-value is below the set significance threshold (0.01).\n"
     ]
    }
   ],
   "source": [
    "# Execute a chi-squared test of independence.\n",
    "c, p, dof, expected = scs.chi2_contingency(contingency, correction=False)\n",
    "print('Chi-square Test of Independence:')\n",
    "print('chi2 = %f, p = %.2E, dof = %d' %(c, p, dof))\n",
    "if p < sig_p:\n",
    "    print('The resulting p-value is below the set significance threshold (%.2f).' %sig_p)"
   ]
  },
  {
   "cell_type": "markdown",
   "metadata": {},
   "source": [
    "## Aggression and Fearful/Anxious Behavior"
   ]
  },
  {
   "cell_type": "markdown",
   "metadata": {},
   "source": [
    "### Overall Aggression and Fearful/Anxious Behavior"
   ]
  },
  {
   "cell_type": "code",
   "execution_count": 33,
   "metadata": {},
   "outputs": [
    {
     "data": {
      "image/png": "[encoded data removed]",
      "text/plain": [
       "<Figure size 432x288 with 1 Axes>"
      ]
     },
     "metadata": {},
     "output_type": "display_data"
    },
    {
     "name": "stdout",
     "output_type": "stream",
     "text": [
      "Chi-square Test of Independence:\n",
      "chi2 = 29.506969, p = 5.57E-08, dof = 1\n",
      "The resulting p-value is below the set significance threshold (0.01).\n"
     ]
    }
   ],
   "source": [
    "# Create the necessary dataframe.\n",
    "fields = 'q02_main_1, q02_main_2'\n",
    "labels = ['aggression', 'fear/anxiety']\n",
    "df = createNumericDataFrame(DOG_TABLE, fields, labels, filtered=True)\n",
    "    \n",
    "# Create a contingency table.\n",
    "contingency = pd.crosstab(df['aggression'], df['fear/anxiety'])\n",
    "\n",
    "# Convert the cross tabulated dataframe to a series of sums.\n",
    "d = {'aggression': contingency[0][1],\n",
    "     'fear/anxiety': contingency[1][0],\n",
    "     'both': contingency[1][1]}   \n",
    "cross_sums = pd.Series(d)\n",
    "\n",
    "# Display the cross tabulated data as a venn diagram.\n",
    "labels = cross_sums.index.values\n",
    "venn2(cross_sums, set_labels=labels[0:2])\n",
    "plt.title('Aggression and Fear/Anxiety')\n",
    "plt.show()\n",
    "\n",
    "# Execute a chi-squared test of independence.\n",
    "c, p, dof, expected = scs.chi2_contingency(contingency, correction=False)\n",
    "print('Chi-square Test of Independence:')\n",
    "print('chi2 = %f, p = %.2E, dof = %d' %(c, p, dof))\n",
    "if p < sig_p:\n",
    "    print('The resulting p-value is below the set significance threshold (%.2f).' %sig_p)"
   ]
  },
  {
   "cell_type": "markdown",
   "metadata": {},
   "source": [
    "### Specifically Owner Directed Aggression and Fearful/Anxious Behavior"
   ]
  },
  {
   "cell_type": "code",
   "execution_count": 34,
   "metadata": {},
   "outputs": [
    {
     "data": {
      "image/png": "[encoded data removed]",
      "text/plain": [
       "<Figure size 432x288 with 1 Axes>"
      ]
     },
     "metadata": {},
     "output_type": "display_data"
    },
    {
     "name": "stdout",
     "output_type": "stream",
     "text": [
      "Chi-square Test of Independence:\n",
      "chi2 = 18.867712, p = 1.40E-05, dof = 1\n",
      "The resulting p-value is below the set significance threshold (0.01).\n"
     ]
    }
   ],
   "source": [
    "# Create the necessary dataframe.\n",
    "fields = 'q03_main_1, q02_main_2'\n",
    "labels = ['aggression', 'fear/anxiety']\n",
    "df = createNumericDataFrame(DOG_TABLE, fields, labels, filtered=True)\n",
    "    \n",
    "# Create a contingency table.\n",
    "contingency = pd.crosstab(df['aggression'], df['fear/anxiety'])\n",
    "\n",
    "# Convert the cross tabulated dataframe to a series of sums.\n",
    "d = {'owner directed aggression': contingency[0][1],\n",
    "     'fear/anxiety': contingency[1][0],\n",
    "     'both': contingency[1][1]}   \n",
    "cross_sums = pd.Series(d)\n",
    "\n",
    "# Display the cross tabulated data as a venn diagram.\n",
    "labels = cross_sums.index.values\n",
    "venn2(cross_sums, set_labels=labels[0:2])\n",
    "plt.title('Owner Directed Aggression and Fear/Anxiety')\n",
    "plt.show()\n",
    "\n",
    "# Execute a chi-squared test of independence.\n",
    "c, p, dof, expected = scs.chi2_contingency(contingency, correction=False)\n",
    "print('Chi-square Test of Independence:')\n",
    "print('chi2 = %f, p = %.2E, dof = %d' %(c, p, dof))\n",
    "if p < sig_p:\n",
    "    print('The resulting p-value is below the set significance threshold (%.2f).' %sig_p)"
   ]
  },
  {
   "cell_type": "markdown",
   "metadata": {},
   "source": [
    "### Specifically Owner Directed Aggression and Separation Anxiety"
   ]
  },
  {
   "cell_type": "code",
   "execution_count": 35,
   "metadata": {},
   "outputs": [
    {
     "data": {
      "image/png": "[encoded data removed]",
      "text/plain": [
       "<Figure size 432x288 with 1 Axes>"
      ]
     },
     "metadata": {},
     "output_type": "display_data"
    },
    {
     "name": "stdout",
     "output_type": "stream",
     "text": [
      "Chi-square Test of Independence:\n",
      "chi2 = 12.213848, p = 4.74E-04, dof = 1\n",
      "The resulting p-value is below the set significance threshold (0.01).\n"
     ]
    }
   ],
   "source": [
    "# Create the necessary dataframe.\n",
    "fields = 'q03_main_1, q04_9'\n",
    "labels = ['aggression', 'anxiety']\n",
    "df = createNumericDataFrame(DOG_TABLE, fields, labels, filtered=True)\n",
    "    \n",
    "# Create a contingency table.\n",
    "contingency = pd.crosstab(df['aggression'], df['anxiety'])\n",
    "\n",
    "# Convert the cross tabulated dataframe to a series of sums.\n",
    "d = {'owner directed aggression': contingency[0][1],\n",
    "     'separation anxiety': contingency[1][0],\n",
    "     'both': contingency[1][1]}   \n",
    "cross_sums = pd.Series(d)\n",
    "\n",
    "# Display the cross tabulated data as a venn diagram.\n",
    "labels = cross_sums.index.values\n",
    "venn2(cross_sums, set_labels=labels[0:2])\n",
    "plt.title('Owner Direct Aggression and Separation Anxiety')\n",
    "plt.show()\n",
    "\n",
    "# Execute a chi-squared test of independence.\n",
    "c, p, dof, expected = scs.chi2_contingency(contingency, correction=False)\n",
    "print('Chi-square Test of Independence:')\n",
    "print('chi2 = %f, p = %.2E, dof = %d' %(c, p, dof))\n",
    "if p < sig_p:\n",
    "    print('The resulting p-value is below the set significance threshold (%.2f).' %sig_p)"
   ]
  },
  {
   "cell_type": "markdown",
   "metadata": {},
   "source": [
    "## Chi-squared Matrix"
   ]
  },
  {
   "cell_type": "markdown",
   "metadata": {},
   "source": [
    "### Reference Chart"
   ]
  },
  {
   "cell_type": "code",
   "execution_count": 36,
   "metadata": {
    "scrolled": false
   },
   "outputs": [
    {
     "data": {
      "application/vnd.plotly.v1+json": {
       "data": [
        {
         "cells": {
          "align": [
           "center",
           "left",
           "left"
          ],
          "values": [
           [
            "A01",
            "A02",
            "A03",
            "A04",
            "A05",
            "A06",
            "A07",
            "A08",
            "A09",
            "A10",
            "A11",
            "B01",
            "B02",
            "B03",
            "B04",
            "B05",
            "B06",
            "B07",
            "B08",
            "B09",
            "B10",
            "B11",
            "C01",
            "C02",
            "C03",
            "C04",
            "C05",
            "C06",
            "C07",
            "C08",
            "C09",
            "C10",
            "C11",
            "C12",
            "C13",
            "D01",
            "D02",
            "D03",
            "D04",
            "D05",
            "D06",
            "D07",
            "D08",
            "E01",
            "E02",
            "E03",
            "E04",
            "E05",
            "E06",
            "F01",
            "F02",
            "F03",
            "G01",
            "G02",
            "G03",
            "G04",
            "H01",
            "H02",
            "H03",
            "I01",
            "I02",
            "J01",
            "J02",
            "J03",
            "J04",
            "K01",
            "K02",
            "K03",
            "K04",
            "L01",
            "L02",
            "L03",
            "L04"
           ],
           [
            "aggression",
            "aggression",
            "aggression",
            "aggression",
            "aggression",
            "aggression",
            "aggression",
            "aggression",
            "aggression",
            "aggression",
            "aggression",
            "fear/anxiety",
            "fear/anxiety",
            "fear/anxiety",
            "fear/anxiety",
            "fear/anxiety",
            "fear/anxiety",
            "fear/anxiety",
            "fear/anxiety",
            "fear/anxiety",
            "fear/anxiety",
            "fear/anxiety",
            "compulsion",
            "compulsion",
            "compulsion",
            "compulsion",
            "compulsion",
            "compulsion",
            "compulsion",
            "compulsion",
            "compulsion",
            "compulsion",
            "compulsion",
            "compulsion",
            "compulsion",
            "house soiling",
            "house soiling",
            "house soiling",
            "house soiling",
            "house soiling",
            "house soiling",
            "house soiling",
            "house soiling",
            "excessive barking",
            "excessive barking",
            "excessive barking",
            "excessive barking",
            "excessive barking",
            "excessive barking",
            "jumping",
            "jumping",
            "jumping",
            "mounting/humping",
            "mounting/humping",
            "mounting/humping",
            "mounting/humping",
            "consuming feces",
            "consuming feces",
            "consuming feces",
            "destructive behavior",
            "destructive behavior",
            "rolling in repulsive material",
            "rolling in repulsive material",
            "rolling in repulsive material",
            "rolling in repulsive material",
            "running away/escaping",
            "running away/escaping",
            "running away/escaping",
            "running away/escaping",
            "overactivity/hyperactivity",
            "overactivity/hyperactivity",
            "overactivity/hyperactivity",
            "overactivity/hyperactivity"
           ],
           [
            "familiar people in the home",
            "stangers visiting the home",
            "stangers away from the home",
            "another dog in the home",
            "unfamiliar dogs visiting the home",
            "unfamilair dogs on walks (off lead)",
            "unfamilair dogs on walks (on lead)",
            "veterinarians",
            "trainers",
            "groomers",
            "animals other than dogs in the home",
            "thunderstorm phobia",
            "noise phobia",
            "crowd phobia",
            "phobia of other dogs",
            "PTSD",
            "general anxiety",
            "situational anxiety",
            "veterinarian phobia",
            "separation anxiety",
            "travel anxiety",
            "other",
            "spinning",
            "tail chasing",
            "shadow/light chasing",
            "running in geometric patterns",
            "licking of wrist/hock",
            "fly snapping",
            "sucking flank region/blankets",
            "tennis ball fetish",
            "collecting/arranging objects",
            "nail biting",
            "digging in yard",
            "stone/rock chewing",
            "other",
            "urine",
            "feces",
            "urine and feces",
            "specific locations",
            "anywhere",
            "owner present",
            "owner away",
            "excited/overwhelmed",
            "owner present",
            "owner away",
            "to get attention",
            "at tiggers (inside)",
            "at triggers (outside)",
            "during car rides",
            "owner",
            "family members",
            "strangers",
            "people",
            "familiar dogs",
            "unfamiliar dogs",
            "inanimate objects",
            "their own",
            "other dogs'",
            "other species'",
            "owner is home",
            "owner is away",
            "urine",
            "feces",
            "dead stuff",
            "garbage",
            "escapes when out",
            "escapes from home",
            "escapes from confinement",
            "returns home after escape",
            "constant moving/jumping",
            "difficulty settling",
            "highly distractible",
            "impulsive"
           ]
          ]
         },
         "columnwidth": [
          125,
          225,
          300
         ],
         "header": {
          "align": [
           "center",
           "left",
           "left"
          ],
          "fill": {
           "color": "#B0C4DE"
          },
          "values": [
           "Abbreviation",
           "Category",
           "Label"
          ]
         },
         "type": "table"
        }
       ],
       "layout": {
        "height": 1600,
        "margin": {
         "b": 50,
         "l": 50,
         "pad": 4,
         "r": 50,
         "t": 50
        },
        "width": 650
       }
      },
      "text/html": [
       "<div id=\"4bb12a02-a638-4b45-9246-425395a21961\" style=\"height: 1600px; width: 650px;\" class=\"plotly-graph-div\"></div><script type=\"text/javascript\">require([\"plotly\"], function(Plotly) { window.PLOTLYENV=window.PLOTLYENV || {};window.PLOTLYENV.BASE_URL=\"https://plot.ly\";Plotly.newPlot(\"4bb12a02-a638-4b45-9246-425395a21961\", [{\"type\": \"table\", \"columnwidth\": [125, 225, 300], \"header\": {\"values\": [\"Abbreviation\", \"Category\", \"Label\"], \"fill\": {\"color\": \"#B0C4DE\"}, \"align\": [\"center\", \"left\", \"left\"]}, \"cells\": {\"values\": [[\"A01\", \"A02\", \"A03\", \"A04\", \"A05\", \"A06\", \"A07\", \"A08\", \"A09\", \"A10\", \"A11\", \"B01\", \"B02\", \"B03\", \"B04\", \"B05\", \"B06\", \"B07\", \"B08\", \"B09\", \"B10\", \"B11\", \"C01\", \"C02\", \"C03\", \"C04\", \"C05\", \"C06\", \"C07\", \"C08\", \"C09\", \"C10\", \"C11\", \"C12\", \"C13\", \"D01\", \"D02\", \"D03\", \"D04\", \"D05\", \"D06\", \"D07\", \"D08\", \"E01\", \"E02\", \"E03\", \"E04\", \"E05\", \"E06\", \"F01\", \"F02\", \"F03\", \"G01\", \"G02\", \"G03\", \"G04\", \"H01\", \"H02\", \"H03\", \"I01\", \"I02\", \"J01\", \"J02\", \"J03\", \"J04\", \"K01\", \"K02\", \"K03\", \"K04\", \"L01\", \"L02\", \"L03\", \"L04\"], [\"aggression\", \"aggression\", \"aggression\", \"aggression\", \"aggression\", \"aggression\", \"aggression\", \"aggression\", \"aggression\", \"aggression\", \"aggression\", \"fear/anxiety\", \"fear/anxiety\", \"fear/anxiety\", \"fear/anxiety\", \"fear/anxiety\", \"fear/anxiety\", \"fear/anxiety\", \"fear/anxiety\", \"fear/anxiety\", \"fear/anxiety\", \"fear/anxiety\", \"compulsion\", \"compulsion\", \"compulsion\", \"compulsion\", \"compulsion\", \"compulsion\", \"compulsion\", \"compulsion\", \"compulsion\", \"compulsion\", \"compulsion\", \"compulsion\", \"compulsion\", \"house soiling\", \"house soiling\", \"house soiling\", \"house soiling\", \"house soiling\", \"house soiling\", \"house soiling\", \"house soiling\", \"excessive barking\", \"excessive barking\", \"excessive barking\", \"excessive barking\", \"excessive barking\", \"excessive barking\", \"jumping\", \"jumping\", \"jumping\", \"mounting/humping\", \"mounting/humping\", \"mounting/humping\", \"mounting/humping\", \"consuming feces\", \"consuming feces\", \"consuming feces\", \"destructive behavior\", \"destructive behavior\", \"rolling in repulsive material\", \"rolling in repulsive material\", \"rolling in repulsive material\", \"rolling in repulsive material\", \"running away/escaping\", \"running away/escaping\", \"running away/escaping\", \"running away/escaping\", \"overactivity/hyperactivity\", \"overactivity/hyperactivity\", \"overactivity/hyperactivity\", \"overactivity/hyperactivity\"], [\"familiar people in the home\", \"stangers visiting the home\", \"stangers away from the home\", \"another dog in the home\", \"unfamiliar dogs visiting the home\", \"unfamilair dogs on walks (off lead)\", \"unfamilair dogs on walks (on lead)\", \"veterinarians\", \"trainers\", \"groomers\", \"animals other than dogs in the home\", \"thunderstorm phobia\", \"noise phobia\", \"crowd phobia\", \"phobia of other dogs\", \"PTSD\", \"general anxiety\", \"situational anxiety\", \"veterinarian phobia\", \"separation anxiety\", \"travel anxiety\", \"other\", \"spinning\", \"tail chasing\", \"shadow/light chasing\", \"running in geometric patterns\", \"licking of wrist/hock\", \"fly snapping\", \"sucking flank region/blankets\", \"tennis ball fetish\", \"collecting/arranging objects\", \"nail biting\", \"digging in yard\", \"stone/rock chewing\", \"other\", \"urine\", \"feces\", \"urine and feces\", \"specific locations\", \"anywhere\", \"owner present\", \"owner away\", \"excited/overwhelmed\", \"owner present\", \"owner away\", \"to get attention\", \"at tiggers (inside)\", \"at triggers (outside)\", \"during car rides\", \"owner\", \"family members\", \"strangers\", \"people\", \"familiar dogs\", \"unfamiliar dogs\", \"inanimate objects\", \"their own\", \"other dogs'\", \"other species'\", \"owner is home\", \"owner is away\", \"urine\", \"feces\", \"dead stuff\", \"garbage\", \"escapes when out\", \"escapes from home\", \"escapes from confinement\", \"returns home after escape\", \"constant moving/jumping\", \"difficulty settling\", \"highly distractible\", \"impulsive\"]], \"align\": [\"center\", \"left\", \"left\"]}}], {\"width\": 650, \"height\": 1600, \"margin\": {\"l\": 50, \"r\": 50, \"b\": 50, \"t\": 50, \"pad\": 4}}, {\"showLink\": true, \"linkText\": \"Export to plot.ly\"})});</script>"
      ],
      "text/vnd.plotly.v1+html": [
       "<div id=\"4bb12a02-a638-4b45-9246-425395a21961\" style=\"height: 1600px; width: 650px;\" class=\"plotly-graph-div\"></div><script type=\"text/javascript\">require([\"plotly\"], function(Plotly) { window.PLOTLYENV=window.PLOTLYENV || {};window.PLOTLYENV.BASE_URL=\"https://plot.ly\";Plotly.newPlot(\"4bb12a02-a638-4b45-9246-425395a21961\", [{\"type\": \"table\", \"columnwidth\": [125, 225, 300], \"header\": {\"values\": [\"Abbreviation\", \"Category\", \"Label\"], \"fill\": {\"color\": \"#B0C4DE\"}, \"align\": [\"center\", \"left\", \"left\"]}, \"cells\": {\"values\": [[\"A01\", \"A02\", \"A03\", \"A04\", \"A05\", \"A06\", \"A07\", \"A08\", \"A09\", \"A10\", \"A11\", \"B01\", \"B02\", \"B03\", \"B04\", \"B05\", \"B06\", \"B07\", \"B08\", \"B09\", \"B10\", \"B11\", \"C01\", \"C02\", \"C03\", \"C04\", \"C05\", \"C06\", \"C07\", \"C08\", \"C09\", \"C10\", \"C11\", \"C12\", \"C13\", \"D01\", \"D02\", \"D03\", \"D04\", \"D05\", \"D06\", \"D07\", \"D08\", \"E01\", \"E02\", \"E03\", \"E04\", \"E05\", \"E06\", \"F01\", \"F02\", \"F03\", \"G01\", \"G02\", \"G03\", \"G04\", \"H01\", \"H02\", \"H03\", \"I01\", \"I02\", \"J01\", \"J02\", \"J03\", \"J04\", \"K01\", \"K02\", \"K03\", \"K04\", \"L01\", \"L02\", \"L03\", \"L04\"], [\"aggression\", \"aggression\", \"aggression\", \"aggression\", \"aggression\", \"aggression\", \"aggression\", \"aggression\", \"aggression\", \"aggression\", \"aggression\", \"fear/anxiety\", \"fear/anxiety\", \"fear/anxiety\", \"fear/anxiety\", \"fear/anxiety\", \"fear/anxiety\", \"fear/anxiety\", \"fear/anxiety\", \"fear/anxiety\", \"fear/anxiety\", \"fear/anxiety\", \"compulsion\", \"compulsion\", \"compulsion\", \"compulsion\", \"compulsion\", \"compulsion\", \"compulsion\", \"compulsion\", \"compulsion\", \"compulsion\", \"compulsion\", \"compulsion\", \"compulsion\", \"house soiling\", \"house soiling\", \"house soiling\", \"house soiling\", \"house soiling\", \"house soiling\", \"house soiling\", \"house soiling\", \"excessive barking\", \"excessive barking\", \"excessive barking\", \"excessive barking\", \"excessive barking\", \"excessive barking\", \"jumping\", \"jumping\", \"jumping\", \"mounting/humping\", \"mounting/humping\", \"mounting/humping\", \"mounting/humping\", \"consuming feces\", \"consuming feces\", \"consuming feces\", \"destructive behavior\", \"destructive behavior\", \"rolling in repulsive material\", \"rolling in repulsive material\", \"rolling in repulsive material\", \"rolling in repulsive material\", \"running away/escaping\", \"running away/escaping\", \"running away/escaping\", \"running away/escaping\", \"overactivity/hyperactivity\", \"overactivity/hyperactivity\", \"overactivity/hyperactivity\", \"overactivity/hyperactivity\"], [\"familiar people in the home\", \"stangers visiting the home\", \"stangers away from the home\", \"another dog in the home\", \"unfamiliar dogs visiting the home\", \"unfamilair dogs on walks (off lead)\", \"unfamilair dogs on walks (on lead)\", \"veterinarians\", \"trainers\", \"groomers\", \"animals other than dogs in the home\", \"thunderstorm phobia\", \"noise phobia\", \"crowd phobia\", \"phobia of other dogs\", \"PTSD\", \"general anxiety\", \"situational anxiety\", \"veterinarian phobia\", \"separation anxiety\", \"travel anxiety\", \"other\", \"spinning\", \"tail chasing\", \"shadow/light chasing\", \"running in geometric patterns\", \"licking of wrist/hock\", \"fly snapping\", \"sucking flank region/blankets\", \"tennis ball fetish\", \"collecting/arranging objects\", \"nail biting\", \"digging in yard\", \"stone/rock chewing\", \"other\", \"urine\", \"feces\", \"urine and feces\", \"specific locations\", \"anywhere\", \"owner present\", \"owner away\", \"excited/overwhelmed\", \"owner present\", \"owner away\", \"to get attention\", \"at tiggers (inside)\", \"at triggers (outside)\", \"during car rides\", \"owner\", \"family members\", \"strangers\", \"people\", \"familiar dogs\", \"unfamiliar dogs\", \"inanimate objects\", \"their own\", \"other dogs'\", \"other species'\", \"owner is home\", \"owner is away\", \"urine\", \"feces\", \"dead stuff\", \"garbage\", \"escapes when out\", \"escapes from home\", \"escapes from confinement\", \"returns home after escape\", \"constant moving/jumping\", \"difficulty settling\", \"highly distractible\", \"impulsive\"]], \"align\": [\"center\", \"left\", \"left\"]}}], {\"width\": 650, \"height\": 1600, \"margin\": {\"l\": 50, \"r\": 50, \"b\": 50, \"t\": 50, \"pad\": 4}}, {\"showLink\": true, \"linkText\": \"Export to plot.ly\"})});</script>"
      ]
     },
     "metadata": {},
     "output_type": "display_data"
    }
   ],
   "source": [
    "# A = aggression\n",
    "# B = fear/anxiety\n",
    "# C = compulsion\n",
    "# D = house soiling\n",
    "# E = excessive barking\n",
    "# F = jumping\n",
    "# G = mounting/humping\n",
    "# H = fecal consumption\n",
    "# I = destruction\n",
    "# J = rolling in repulsive objects\n",
    "# K = running away/escape\n",
    "# L = overactivity/hyperactivity\n",
    "\n",
    "abbrevs = ['A01', 'A02', 'A03', 'A04', 'A05', 'A06', 'A07', 'A08', 'A09', 'A10', 'A11', 'B01', \n",
    "           'B02', 'B03', 'B04', 'B05', 'B06', 'B07', 'B08', 'B09', 'B10', 'B11', 'C01', 'C02', \n",
    "           'C03', 'C04', 'C05', 'C06', 'C07', 'C08', 'C09', 'C10', 'C11', 'C12', 'C13', 'D01', \n",
    "           'D02', 'D03', 'D04', 'D05', 'D06', 'D07', 'D08', 'E01', 'E02', 'E03', 'E04', 'E05', \n",
    "           'E06', 'F01', 'F02', 'F03', 'G01', 'G02', 'G03', 'G04', 'H01', 'H02', 'H03', 'I01', \n",
    "           'I02', 'J01', 'J02', 'J03', 'J04', 'K01', 'K02', 'K03', 'K04', 'L01', 'L02', 'L03', \n",
    "           'L04']\n",
    "categories = []\n",
    "labels_A = ['familiar people in the home', 'stangers visiting the home',\n",
    "            'stangers away from the home', 'another dog in the home',\n",
    "            'unfamiliar dogs visiting the home', 'unfamilair dogs on walks (off lead)',\n",
    "            'unfamilair dogs on walks (on lead)', 'veterinarians', 'trainers', 'groomers',\n",
    "            'animals other than dogs in the home']\n",
    "categories.extend(['aggression' for i in labels_A])\n",
    "labels_B = ['thunderstorm phobia', 'noise phobia', 'crowd phobia', 'phobia of other dogs', \n",
    "            'PTSD', 'general anxiety', 'situational anxiety', 'veterinarian phobia',\n",
    "            'separation anxiety', 'travel anxiety', 'other']\n",
    "categories.extend(['fear/anxiety' for i in labels_B])\n",
    "labels_C = ['spinning', 'tail chasing', 'shadow/light chasing',\n",
    "            'running in geometric patterns', 'licking of wrist/hock', 'fly snapping',\n",
    "            'sucking flank region/blankets', 'tennis ball fetish',\n",
    "            'collecting/arranging objects', 'nail biting', 'digging in yard',\n",
    "            'stone/rock chewing', 'other']\n",
    "categories.extend(['compulsion' for i in labels_C])\n",
    "labels_D = ['urine', 'feces', 'urine and feces', 'specific locations', 'anywhere',\n",
    "            'owner present', 'owner away', 'excited/overwhelmed']\n",
    "categories.extend(['house soiling' for i in labels_D])\n",
    "labels_E = ['owner present', 'owner away', 'to get attention', 'at tiggers (inside)',\n",
    "            'at triggers (outside)', 'during car rides']\n",
    "categories.extend(['excessive barking' for i in labels_E])\n",
    "labels_F = ['owner', 'family members', 'strangers']\n",
    "categories.extend(['jumping' for i in labels_F])\n",
    "labels_G = ['people', 'familiar dogs', 'unfamiliar dogs', 'inanimate objects']\n",
    "categories.extend(['mounting/humping' for i in labels_G])\n",
    "labels_H = ['their own', \"other dogs'\", \"other species'\"]\n",
    "categories.extend(['consuming feces' for i in labels_H])\n",
    "labels_I = ['owner is home', 'owner is away']\n",
    "categories.extend(['destructive behavior' for i in labels_I])\n",
    "labels_J = ['urine', 'feces', 'dead stuff', 'garbage']\n",
    "categories.extend(['rolling in repulsive material' for i in labels_J])\n",
    "labels_K = ['escapes when out', 'escapes from home', 'escapes from confinement',\n",
    "            'returns home after escape']\n",
    "categories.extend(['running away/escaping' for i in labels_K])\n",
    "labels_L = ['constant moving/jumping', 'difficulty settling', 'highly distractible',\n",
    "            'impulsive']\n",
    "categories.extend(['overactivity/hyperactivity' for i in labels_L])\n",
    "labels = (labels_A + labels_B + labels_C + labels_D + labels_E + labels_F + labels_G\n",
    "          + labels_H + labels_I + labels_J + labels_K + labels_L)\n",
    "\n",
    "trace = go.Table(\n",
    "    columnwidth = [125, 225, 300],\n",
    "    header=dict(values=['Abbreviation', 'Category', 'Label'],\n",
    "                fill = dict(color='#B0C4DE'),\n",
    "                align = ['center', 'left', 'left']),\n",
    "    cells=dict(values=[abbrevs, categories, labels],\n",
    "               align = ['center', 'left', 'left']))\n",
    "data = [trace] \n",
    "layout = go.Layout(width=650, height=1600, margin=go.Margin(l=50, r=50, b=50, t=50, pad=4))\n",
    "fig = dict(data=data, layout=layout)\n",
    "py.iplot(fig)"
   ]
  },
  {
   "cell_type": "markdown",
   "metadata": {},
   "source": [
    "### Linear Heatmap"
   ]
  },
  {
   "cell_type": "code",
   "execution_count": 37,
   "metadata": {},
   "outputs": [
    {
     "data": {
      "image/png": "[encoded data removed]",
      "text/plain": [
       "<Figure size 1440x1080 with 2 Axes>"
      ]
     },
     "metadata": {},
     "output_type": "display_data"
    }
   ],
   "source": [
    "fields ='''\n",
    "    q03_main_1, q03_main_2, q03_main_3, q03_main_4, q03_main_5, q03_main_6, q03_main_7,\n",
    "        q03_main_8, q03_main_9, q03_main_10, q03_main_11,\n",
    "    q04_1, q04_2, q04_3, q04_4, q04_5, q04_6, q04_7, q04_8, q04_9, q04_10, q04_11,\n",
    "    q05_main_1, q05_main_2, q05_main_3, q05_main_4, q05_main_5, q05_main_6, q05_main_7,\n",
    "        q05_main_8, q05_main_9, q05_main_10, q05_main_11, q05_main_12, q05_main_13,\n",
    "    q06_situation_1, q06_situation_2, q06_situation_3, q06_soil_location_1,\n",
    "        q06_soil_location_2, q06_situation_1, q06_situation_2, q06_situation_3,\n",
    "    q07_sitatuon_1, q07_sitatuon_2, q07_sitatuon_3, q07_sitatuon_4, q07_sitatuon_5,\n",
    "        q07_sitatuon_6,\n",
    "    q08_who_1, q08_who_2, q08_who_3,\n",
    "    q09_main_1, q09_main_2, q09_main_3, q09_main_4,\n",
    "    q10_main_1, q10_main_2, q10_main_3,\n",
    "    q11_situation_1, q11_situation_2,\n",
    "    q12_main_1, q12_main_2, q12_main_3, q12_main_4,\n",
    "    q14_out, q14_house, q14_conf, q14_return,\n",
    "    q15_main_1, q15_main_2, q15_main_3, q15_main_4'''\n",
    "labels = ['A01', 'A02', 'A03', 'A04', 'A05', 'A06', 'A07', 'A08', 'A09', 'A10', 'A11', 'B01', \n",
    "          'B02', 'B03', 'B04', 'B05', 'B06', 'B07', 'B08', 'B09', 'B10', 'B11', 'C01', 'C02', \n",
    "          'C03', 'C04', 'C05', 'C06', 'C07', 'C08', 'C09', 'C10', 'C11', 'C12', 'C13', 'D01', \n",
    "          'D02', 'D03', 'D04', 'D05', 'D06', 'D07', 'D08', 'E01', 'E02', 'E03', 'E04', 'E05', \n",
    "          'E06', 'F01', 'F02', 'F03', 'G01', 'G02', 'G03', 'G04', 'H01', 'H02', 'H03', 'I01', \n",
    "          'I02', 'J01', 'J02', 'J03', 'J04', 'K01', 'K02', 'K03', 'K04', 'L01', 'L02', 'L03', \n",
    "          'L04']\n",
    "df = createNumericDataFrame(DOG_TABLE, fields, labels, filtered=True)\n",
    "\n",
    "cols = []\n",
    "chi2 = {}\n",
    "# Convert columns to integer type.\n",
    "for col in df:\n",
    "    cols.append(col)\n",
    "    chi2[col] = {}\n",
    "\n",
    "from  itertools import combinations\n",
    "pairs = list(combinations(df.columns,2))\n",
    "for pair in pairs:\n",
    "    contingency = pd.crosstab(df[pair[0]], df[pair[1]])\n",
    "    c, p, dof, expected = scs.chi2_contingency(contingency, correction=False)\n",
    "    chi2[pair[0]][pair[1]] = c\n",
    "    chi2[pair[1]][pair[0]] = c\n",
    "df = pd.DataFrame(chi2).sort_index(ascending=True)\n",
    "\n",
    "# Heatmap\n",
    "fig, ax = plt.subplots(figsize=(20, 15))\n",
    "sns.heatmap(ax=ax, data=df, cmap=\"PiYG\")\n",
    "plt.yticks(rotation=0)\n",
    "ax.xaxis.tick_top()\n",
    "plt.xticks(rotation=90)\n",
    "plt.show()"
   ]
  },
  {
   "cell_type": "markdown",
   "metadata": {},
   "source": [
    "### Logarithmic Heatmap"
   ]
  },
  {
   "cell_type": "code",
   "execution_count": 38,
   "metadata": {
    "scrolled": false
   },
   "outputs": [
    {
     "data": {
      "image/png": "[encoded data removed]",
      "text/plain": [
       "<Figure size 1440x1080 with 2 Axes>"
      ]
     },
     "metadata": {},
     "output_type": "display_data"
    }
   ],
   "source": [
    "fields ='''\n",
    "    q03_main_1, q03_main_2, q03_main_3, q03_main_4, q03_main_5, q03_main_6, q03_main_7,\n",
    "        q03_main_8, q03_main_9, q03_main_10, q03_main_11,\n",
    "    q04_1, q04_2, q04_3, q04_4, q04_5, q04_6, q04_7, q04_8, q04_9, q04_10, q04_11,\n",
    "    q05_main_1, q05_main_2, q05_main_3, q05_main_4, q05_main_5, q05_main_6, q05_main_7,\n",
    "        q05_main_8, q05_main_9, q05_main_10, q05_main_11, q05_main_12, q05_main_13,\n",
    "    q06_situation_1, q06_situation_2, q06_situation_3, q06_soil_location_1,\n",
    "        q06_soil_location_2, q06_situation_1, q06_situation_2, q06_situation_3,\n",
    "    q07_sitatuon_1, q07_sitatuon_2, q07_sitatuon_3, q07_sitatuon_4, q07_sitatuon_5,\n",
    "        q07_sitatuon_6,\n",
    "    q08_who_1, q08_who_2, q08_who_3,\n",
    "    q09_main_1, q09_main_2, q09_main_3, q09_main_4,\n",
    "    q10_main_1, q10_main_2, q10_main_3,\n",
    "    q11_situation_1, q11_situation_2,\n",
    "    q12_main_1, q12_main_2, q12_main_3, q12_main_4,\n",
    "    q14_out, q14_house, q14_conf, q14_return,\n",
    "    q15_main_1, q15_main_2, q15_main_3, q15_main_4'''\n",
    "abbrevs = ['A01', 'A02', 'A03', 'A04', 'A05', 'A06', 'A07', 'A08', 'A09', 'A10', 'A11', 'B01', \n",
    "          'B02', 'B03', 'B04', 'B05', 'B06', 'B07', 'B08', 'B09', 'B10', 'B11', 'C01', 'C02', \n",
    "          'C03', 'C04', 'C05', 'C06', 'C07', 'C08', 'C09', 'C10', 'C11', 'C12', 'C13', 'D01', \n",
    "          'D02', 'D03', 'D04', 'D05', 'D06', 'D07', 'D08', 'E01', 'E02', 'E03', 'E04', 'E05', \n",
    "          'E06', 'F01', 'F02', 'F03', 'G01', 'G02', 'G03', 'G04', 'H01', 'H02', 'H03', 'I01', \n",
    "          'I02', 'J01', 'J02', 'J03', 'J04', 'K01', 'K02', 'K03', 'K04', 'L01', 'L02', 'L03', \n",
    "          'L04']\n",
    "df = createNumericDataFrame(DOG_TABLE, fields, labels, filtered=True)\n",
    "\n",
    "cols = []\n",
    "chi2 = {}\n",
    "# Convert columns to integer type.\n",
    "for col in df:\n",
    "    cols.append(col)\n",
    "    chi2[col] = {}\n",
    "\n",
    "from  itertools import combinations\n",
    "pairs = list(combinations(df.columns,2))\n",
    "for pair in pairs:\n",
    "    contingency = pd.crosstab(df[pair[0]], df[pair[1]])\n",
    "    c, p, dof, expected = scs.chi2_contingency(contingency, correction=False)\n",
    "    chi2[pair[0]][pair[1]] = c\n",
    "    chi2[pair[1]][pair[0]] = c\n",
    "df = pd.DataFrame(chi2).sort_index(ascending=True)\n",
    "\n",
    "# Heatmap\n",
    "import warnings; warnings.simplefilter('ignore')\n",
    "from matplotlib.colors import LogNorm\n",
    "fig, ax = plt.subplots(figsize=(20, 15))\n",
    "chi2_min = df.min(skipna=True).min()\n",
    "chi2_max = df.max(skipna=True).max()\n",
    "sns.heatmap(df, ax = ax, norm=LogNorm(vmin=chi2_min, vmax=chi2_max), cmap=\"Blues\")\n",
    "plt.yticks(rotation=0)\n",
    "ax.xaxis.tick_top()\n",
    "plt.xticks(rotation=90)\n",
    "plt.show()"
   ]
  },
  {
   "cell_type": "raw",
   "metadata": {},
   "source": [
    "<script>\n",
    "  $(document).ready(function(){\n",
    "    $('div.prompt').hide();\n",
    "    $('div.back-to-top').hide();\n",
    "    $('nav#menubar').hide();\n",
    "    $('.breadcrumb').hide();\n",
    "    $('.hidden-print').hide();\n",
    "  });\n",
    "</script>\n",
    "\n",
    "<footer id=\"attribution\" style=\"float:right; color:#999; background:#fff;\">\n",
    "Created with Jupyter, delivered by Fastly, rendered by Rackspace.\n",
    "</footer>"
   ]
  }
 ],
 "metadata": {
  "kernelspec": {
   "display_name": "Python 3",
   "language": "python",
   "name": "python3"
  },
  "language_info": {
   "codemirror_mode": {
    "name": "ipython",
    "version": 3
   },
   "file_extension": ".py",
   "mimetype": "text/x-python",
   "name": "python",
   "nbconvert_exporter": "python",
   "pygments_lexer": "ipython3",
   "version": "3.6.3"
  }
 },
 "nbformat": 4,
 "nbformat_minor": 2
}
