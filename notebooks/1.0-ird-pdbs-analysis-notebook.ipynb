{
 "cells": [
  {
   "cell_type": "markdown",
   "metadata": {},
   "source": [
    "# Pet Dog Behavior Study Analysis"
   ]
  },
  {
   "cell_type": "markdown",
   "metadata": {},
   "source": [
    "## 1. Workspace Setup"
   ]
  },
  {
   "cell_type": "code",
   "execution_count": 216,
   "metadata": {},
   "outputs": [
    {
     "data": {
      "text/html": [
       "<script>requirejs.config({paths: { 'plotly': ['https://cdn.plot.ly/plotly-latest.min']},});if(!window.Plotly) {{require(['plotly'],function(plotly) {window.Plotly=plotly;});}}</script>"
      ],
      "text/vnd.plotly.v1+html": [
       "<script>requirejs.config({paths: { 'plotly': ['https://cdn.plot.ly/plotly-latest.min']},});if(!window.Plotly) {{require(['plotly'],function(plotly) {window.Plotly=plotly;});}}</script>"
      ]
     },
     "metadata": {},
     "output_type": "display_data"
    }
   ],
   "source": [
    "# Imports accounted for.\n",
    "import sqlite3\n",
    "import pandas as pd\n",
    "import plotly.offline as py\n",
    "import plotly.graph_objs as go\n",
    "from matplotlib_venn import venn2, venn3\n",
    "import matplotlib.pyplot as plt\n",
    "\n",
    "# Imports unaccounted for.\n",
    "import textwrap\n",
    "import scipy.stats as scs\n",
    "from IPython.display import display\n",
    "import plotly.figure_factory as ff\n",
    "\n",
    "# IPython magics for this notebook.\n",
    "%matplotlib inline\n",
    "\n",
    "# Initiate plotly IPython notebook mode.\n",
    "py.init_notebook_mode(connected=True)\n",
    "\n",
    "# Establish a connection to the database.\n",
    "con = sqlite3.connect('../data/processed/processed.db')"
   ]
  },
  {
   "cell_type": "markdown",
   "metadata": {},
   "source": [
    "## 2. Reasons for Joining the Study"
   ]
  },
  {
   "cell_type": "code",
   "execution_count": 217,
   "metadata": {},
   "outputs": [
    {
     "data": {
      "application/vnd.plotly.v1+json": {
       "data": [
        {
         "orientation": "h",
         "type": "bar",
         "x": [
          273,
          830,
          1049,
          1377,
          2595
         ],
         "y": [
          "other",
          "suspicion of behavior problems",
          "work with animals",
          "to help shelter animals",
          "love for dogs"
         ]
        }
       ],
       "layout": {
        "height": 400,
        "title": "Motivation for Study Enrollment",
        "width": 600,
        "xaxis": {
         "title": "number of participants"
        },
        "yaxis": {
         "automargin": true,
         "tickangle": 30,
         "tickprefix": " ",
         "ticksuffix": " ",
         "title": ""
        }
       }
      },
      "text/html": [
       "<div id=\"f24e5285-1c81-4745-8ee3-9bf9e516932e\" style=\"height: 400px; width: 600px;\" class=\"plotly-graph-div\"></div><script type=\"text/javascript\">require([\"plotly\"], function(Plotly) { window.PLOTLYENV=window.PLOTLYENV || {};window.PLOTLYENV.BASE_URL=\"https://plot.ly\";Plotly.newPlot(\"f24e5285-1c81-4745-8ee3-9bf9e516932e\", [{\"type\": \"bar\", \"y\": [\"other\", \"suspicion of behavior problems\", \"work with animals\", \"to help shelter animals\", \"love for dogs\"], \"x\": [273, 830, 1049, 1377, 2595], \"orientation\": \"h\"}], {\"title\": \"Motivation for Study Enrollment\", \"xaxis\": {\"title\": \"number of participants\"}, \"yaxis\": {\"title\": \"\", \"automargin\": true, \"tickangle\": 30, \"tickprefix\": \" \", \"ticksuffix\": \" \"}, \"width\": 600, \"height\": 400}, {\"showLink\": true, \"linkText\": \"Export to plot.ly\"})});</script>"
      ],
      "text/vnd.plotly.v1+html": [
       "<div id=\"f24e5285-1c81-4745-8ee3-9bf9e516932e\" style=\"height: 400px; width: 600px;\" class=\"plotly-graph-div\"></div><script type=\"text/javascript\">require([\"plotly\"], function(Plotly) { window.PLOTLYENV=window.PLOTLYENV || {};window.PLOTLYENV.BASE_URL=\"https://plot.ly\";Plotly.newPlot(\"f24e5285-1c81-4745-8ee3-9bf9e516932e\", [{\"type\": \"bar\", \"y\": [\"other\", \"suspicion of behavior problems\", \"work with animals\", \"to help shelter animals\", \"love for dogs\"], \"x\": [273, 830, 1049, 1377, 2595], \"orientation\": \"h\"}], {\"title\": \"Motivation for Study Enrollment\", \"xaxis\": {\"title\": \"number of participants\"}, \"yaxis\": {\"title\": \"\", \"automargin\": true, \"tickangle\": 30, \"tickprefix\": \" \", \"ticksuffix\": \" \"}, \"width\": 600, \"height\": 400}, {\"showLink\": true, \"linkText\": \"Export to plot.ly\"})});</script>"
      ]
     },
     "metadata": {},
     "output_type": "display_data"
    }
   ],
   "source": [
    "# Create the necessary dataframe.\n",
    "query = ('SELECT question_reason_for_part_1, question_reason_for_part_2, '  \n",
    "         'question_reason_for_part_3, question_reason_for_part_4, '\n",
    "         'question_reason_for_part_5 FROM users')\n",
    "df = pd.read_sql_query(query, con)\n",
    "df.columns = ['love for dogs', 'to help shelter animals', 'suspicion of behavior problems',\n",
    "              'work with animals', 'other']\n",
    "for col in df:\n",
    "    df[col] = pd.to_numeric(df[col])\n",
    "    \n",
    "# Create a bar graph to illustrate breakdown of responses.\n",
    "sums = df.sum()\n",
    "sums = sums.sort_values(ascending=True)\n",
    "data = [go.Bar(y=sums.index.values,\n",
    "               x=sums.values,\n",
    "               orientation='h')]\n",
    "layout = go.Layout(title=\"Motivation for Study Enrollment\",\n",
    "                   xaxis=dict(title='number of participants'),\n",
    "                   yaxis=dict(title='',\n",
    "                              automargin=True,\n",
    "                              tickangle=30,\n",
    "                              tickprefix=' ',\n",
    "                              ticksuffix=' '),\n",
    "                   width=600,\n",
    "                   height=400)\n",
    "fig = go.Figure(data=data, layout=layout)\n",
    "py.iplot(fig)\n",
    "\n",
    "# NOTE: This does not include a count of users who did not provide a reason."
   ]
  },
  {
   "cell_type": "markdown",
   "metadata": {},
   "source": [
    "## 3. Overall Prevalence of Behavior Problems\n",
    "\n",
    "Prevalence is defined as the proportion of a population found to be affected by a medical condition. This section aims to calculate the aggregate prevalence of the most common behavior problems in a given canine population."
   ]
  },
  {
   "cell_type": "markdown",
   "metadata": {},
   "source": [
    "### 3.1 Gross and Adjusted Responses:"
   ]
  },
  {
   "cell_type": "code",
   "execution_count": 218,
   "metadata": {},
   "outputs": [
    {
     "name": "stdout",
     "output_type": "stream",
     "text": [
      "Total number of dogs: 5018\n",
      "Total number of dogs with a reported behavior problem: 4407\n",
      "Adjusted total number of dogs: 3749\n",
      "Adjusted total number of dogs with a reported behavior problem: 3207\n"
     ]
    }
   ],
   "source": [
    "# Create the necessary dataframe.\n",
    "query = ('SELECT record_id, question_reason_for_part_3, q02_score FROM users JOIN dogs '\n",
    "         'USING(record_id)')\n",
    "df_gross = pd.read_sql_query(query, con)\n",
    "df_gross.columns = ['id', 'suspicion', 'problems']\n",
    "\n",
    "# Get a count of the total number of dogs.\n",
    "cnt_total_dogs = len(df_gross.index)\n",
    "\n",
    "# Get a count of the dogs with reported behavior problem.\n",
    "# If the \"problems\" column does not equal zero, then a behavior problem was reported.\n",
    "cnt_total_dogs_w_problems = len(df_gross[df_gross['problems'] != '0'].index)\n",
    "\n",
    "# Create an adjusted dataframe by removing biased results.\n",
    "# A result is considered biased if a participant listed \"suspicion of a behavior problem\" as a\n",
    "# reason for joining the study.\n",
    "df_adjusted = df_gross[df_gross['suspicion'] == '0']\n",
    "\n",
    "# Get a count of the total number of dogs from the adjusted dataframe.\n",
    "cnt_total_dogs_adjusted = len(df_adjusted.index)\n",
    "\n",
    "# Get a count of the dogs with a reported behavior problem from the adjusted dataframe.\n",
    "cnt_total_dogs_w_problems_adjusted = len(df_adjusted[df_adjusted['problems'] != '0'].index)\n",
    "\n",
    "# Display the count results.\n",
    "print('Total number of dogs: %d' %cnt_total_dogs)\n",
    "print('Total number of dogs with a reported behavior problem: %d' %cnt_total_dogs_w_problems)\n",
    "print('Adjusted total number of dogs: %d' %cnt_total_dogs_adjusted)\n",
    "print('Adjusted total number of dogs with a reported behavior problem: %d'\n",
    "      %cnt_total_dogs_w_problems_adjusted)"
   ]
  },
  {
   "cell_type": "markdown",
   "metadata": {},
   "source": [
    "### 3.2 Prevalence of Behavior Problems:"
   ]
  },
  {
   "cell_type": "code",
   "execution_count": 219,
   "metadata": {},
   "outputs": [
    {
     "name": "stdout",
     "output_type": "stream",
     "text": [
      "Gross prevalence: 87.82% (4407/5018)\n",
      "Adjusted prevalence: 85.54% (3207/3749)\n",
      "Shift in prevalence as a result of adjustment: -2.28%\n"
     ]
    }
   ],
   "source": [
    "# Calculate the gross prevalence.\n",
    "prevalence_gross = (cnt_total_dogs_w_problems / cnt_total_dogs) * 100\n",
    "\n",
    "# Calculate the adjusted prevalence.\n",
    "prevalence_adjusted = (cnt_total_dogs_w_problems_adjusted / cnt_total_dogs_adjusted) * 100\n",
    "\n",
    "# Calculate the difference between the gross and adjusted prevalence.\n",
    "diff_prevalence = prevalence_adjusted - prevalence_gross\n",
    "sign = '+' if diff_prevalence > 0 else ''\n",
    "\n",
    "# Display the prevalence results.\n",
    "print('Gross prevalence: %.2f%% (%d/%d)'\n",
    "      %(prevalence_gross, cnt_total_dogs_w_problems, cnt_total_dogs))\n",
    "print('Adjusted prevalence: %.2f%% (%d/%d)'\n",
    "      %(prevalence_adjusted, cnt_total_dogs_w_problems_adjusted, cnt_total_dogs_adjusted))\n",
    "print('Shift in prevalence as a result of adjustment: %s%.2f%%' %(sign, diff_prevalence))"
   ]
  },
  {
   "cell_type": "markdown",
   "metadata": {},
   "source": [
    "## 4. Prevalence of Individual Behavior Problems\n",
    "\n",
    "This section aims to calculate the prevalence for each behavior problem included in the study. The adjusted dataset is utilized to eliminate potential bias."
   ]
  },
  {
   "cell_type": "markdown",
   "metadata": {},
   "source": [
    "### 4.1 Sum and Prevalence of Individual Behavior Problems:"
   ]
  },
  {
   "cell_type": "code",
   "execution_count": 220,
   "metadata": {},
   "outputs": [
    {
     "data": {
      "application/vnd.plotly.v1+json": {
       "data": [
        {
         "cells": {
          "align": [
           "left",
           "left",
           "left",
           "left",
           "left"
          ],
          "format": [
           null,
           "d",
           ".2f"
          ],
          "values": [
           [
            "fear/anxiety",
            "aggression",
            "jumping",
            "excessive barking",
            "fecal consumption",
            "compulsion",
            "house soiling",
            "rolling in repulsive objects",
            "hyperactivity",
            "destruction",
            "escape",
            "mounting"
           ],
           [
            1647,
            1103,
            1045,
            674,
            648,
            571,
            548,
            463,
            456,
            435,
            401,
            392
           ],
           [
            43.931715124033076,
            29.42117898106162,
            27.874099759935984,
            17.978127500666844,
            17.284609229127767,
            15.230728194185117,
            14.617231261669778,
            12.349959989330488,
            12.16324353160843,
            11.60309415844225,
            10.696185649506534,
            10.456121632435316
           ]
          ]
         },
         "header": {
          "align": [
           "left",
           "left",
           "left",
           "left",
           "left"
          ],
          "fill": {
           "color": "#B0C4DE"
          },
          "values": [
           "Behavior Problem",
           "Number of Dogs",
           "Prevalence (%)"
          ]
         },
         "type": "table"
        }
       ],
       "layout": {
        "height": 450,
        "width": 700
       }
      },
      "text/html": [
       "<div id=\"3e2d9ba8-2a13-46b7-884d-15f23d3fb6d6\" style=\"height: 450px; width: 700px;\" class=\"plotly-graph-div\"></div><script type=\"text/javascript\">require([\"plotly\"], function(Plotly) { window.PLOTLYENV=window.PLOTLYENV || {};window.PLOTLYENV.BASE_URL=\"https://plot.ly\";Plotly.newPlot(\"3e2d9ba8-2a13-46b7-884d-15f23d3fb6d6\", [{\"type\": \"table\", \"header\": {\"values\": [\"Behavior Problem\", \"Number of Dogs\", \"Prevalence (%)\"], \"fill\": {\"color\": \"#B0C4DE\"}, \"align\": [\"left\", \"left\", \"left\", \"left\", \"left\"]}, \"cells\": {\"values\": [[\"fear/anxiety\", \"aggression\", \"jumping\", \"excessive barking\", \"fecal consumption\", \"compulsion\", \"house soiling\", \"rolling in repulsive objects\", \"hyperactivity\", \"destruction\", \"escape\", \"mounting\"], [1647, 1103, 1045, 674, 648, 571, 548, 463, 456, 435, 401, 392], [43.931715124033076, 29.42117898106162, 27.874099759935984, 17.978127500666844, 17.284609229127767, 15.230728194185117, 14.617231261669778, 12.349959989330488, 12.16324353160843, 11.60309415844225, 10.696185649506534, 10.456121632435316]], \"align\": [\"left\", \"left\", \"left\", \"left\", \"left\"], \"format\": [null, \"d\", \".2f\"]}}], {\"width\": 700, \"height\": 450}, {\"showLink\": true, \"linkText\": \"Export to plot.ly\"})});</script>"
      ],
      "text/vnd.plotly.v1+html": [
       "<div id=\"3e2d9ba8-2a13-46b7-884d-15f23d3fb6d6\" style=\"height: 450px; width: 700px;\" class=\"plotly-graph-div\"></div><script type=\"text/javascript\">require([\"plotly\"], function(Plotly) { window.PLOTLYENV=window.PLOTLYENV || {};window.PLOTLYENV.BASE_URL=\"https://plot.ly\";Plotly.newPlot(\"3e2d9ba8-2a13-46b7-884d-15f23d3fb6d6\", [{\"type\": \"table\", \"header\": {\"values\": [\"Behavior Problem\", \"Number of Dogs\", \"Prevalence (%)\"], \"fill\": {\"color\": \"#B0C4DE\"}, \"align\": [\"left\", \"left\", \"left\", \"left\", \"left\"]}, \"cells\": {\"values\": [[\"fear/anxiety\", \"aggression\", \"jumping\", \"excessive barking\", \"fecal consumption\", \"compulsion\", \"house soiling\", \"rolling in repulsive objects\", \"hyperactivity\", \"destruction\", \"escape\", \"mounting\"], [1647, 1103, 1045, 674, 648, 571, 548, 463, 456, 435, 401, 392], [43.931715124033076, 29.42117898106162, 27.874099759935984, 17.978127500666844, 17.284609229127767, 15.230728194185117, 14.617231261669778, 12.349959989330488, 12.16324353160843, 11.60309415844225, 10.696185649506534, 10.456121632435316]], \"align\": [\"left\", \"left\", \"left\", \"left\", \"left\"], \"format\": [null, \"d\", \".2f\"]}}], {\"width\": 700, \"height\": 450}, {\"showLink\": true, \"linkText\": \"Export to plot.ly\"})});</script>"
      ]
     },
     "metadata": {},
     "output_type": "display_data"
    }
   ],
   "source": [
    "# Create the necessary dataframe.\n",
    "query = ('SELECT question_reason_for_part_3, q02_main_1, q02_main_2, q02_main_3, '\n",
    "         'q02_main_4, q02_main_5, q02_main_6, q02_main_7, q02_main_8, q02_main_9, '\n",
    "         'q02_main_10, q02_main_12, q02_main_13 FROM users JOIN dogs '\n",
    "         'USING(record_id)')\n",
    "df = pd.read_sql_query(query, con)\n",
    "df.columns = ['suspicion', 'aggression', 'fear/anxiety', 'compulsion', 'house soiling',\n",
    "              'excessive barking', 'jumping', 'mounting', 'fecal consumption', 'destruction',\n",
    "              'rolling in repulsive objects', 'escape', 'hyperactivity']\n",
    "\n",
    "# Remove biased results and discard suspicion column.\n",
    "df = df[df['suspicion'] == '0']\n",
    "df.drop('suspicion', axis=1, inplace=True)\n",
    "\n",
    "# Convert columns to integer type.\n",
    "for col in df:\n",
    "    df[col] = pd.to_numeric(df[col])\n",
    "\n",
    "# Get individual behavior problem counts and display as a table.\n",
    "sums = df.sum()\n",
    "sums = sums.sort_values(ascending=False)\n",
    "\n",
    "# Calculate the prevalence of each behavior problem.\n",
    "total_dogs = len(df.index)\n",
    "prevalence_cal = lambda x: (x / total_dogs) * 100\n",
    "prevalences = sums.apply(prevalence_cal)\n",
    "\n",
    "# Get individual behavior problem counts and display as a table.\n",
    "trace = go.Table(\n",
    "    header=dict(values=['Behavior Problem', 'Number of Dogs', 'Prevalence (%)'],\n",
    "                fill = dict(color='#B0C4DE'),\n",
    "                align = ['left'] * 5),\n",
    "    cells=dict(values=[sums.index.values, sums.values, prevalences.values],\n",
    "               align = ['left'] * 5,\n",
    "               format = [None, 'd', '.2f']))\n",
    "data = [trace] \n",
    "layout = dict(width=700, height=450)\n",
    "fig = dict(data=data, layout=layout)\n",
    "py.iplot(fig)"
   ]
  },
  {
   "cell_type": "markdown",
   "metadata": {},
   "source": [
    "### 4.2 Prevalence of Individual Behavior Problems Presented Graphically:"
   ]
  },
  {
   "cell_type": "code",
   "execution_count": 221,
   "metadata": {},
   "outputs": [
    {
     "data": {
      "application/vnd.plotly.v1+json": {
       "data": [
        {
         "orientation": "h",
         "type": "bar",
         "x": [
          10.456121632435316,
          10.696185649506534,
          11.60309415844225,
          12.16324353160843,
          12.349959989330488,
          14.617231261669778,
          15.230728194185117,
          17.284609229127767,
          17.978127500666844,
          27.874099759935984,
          29.42117898106162,
          43.931715124033076
         ],
         "y": [
          "mounting",
          "escape",
          "destruction",
          "hyperactivity",
          "rolling in repulsive objects",
          "house soiling",
          "compulsion",
          "fecal consumption",
          "excessive barking",
          "jumping",
          "aggression",
          "fear/anxiety"
         ]
        }
       ],
       "layout": {
        "height": 500,
        "title": "Prevalence of Behavior Problems",
        "width": 700,
        "xaxis": {
         "title": "prevalence (%)"
        },
        "yaxis": {
         "automargin": true,
         "tickangle": 30,
         "tickprefix": " ",
         "ticksuffix": " ",
         "title": ""
        }
       }
      },
      "text/html": [
       "<div id=\"1fefd322-6fc7-4a05-bb86-8626f242925b\" style=\"height: 500px; width: 700px;\" class=\"plotly-graph-div\"></div><script type=\"text/javascript\">require([\"plotly\"], function(Plotly) { window.PLOTLYENV=window.PLOTLYENV || {};window.PLOTLYENV.BASE_URL=\"https://plot.ly\";Plotly.newPlot(\"1fefd322-6fc7-4a05-bb86-8626f242925b\", [{\"type\": \"bar\", \"x\": [10.456121632435316, 10.696185649506534, 11.60309415844225, 12.16324353160843, 12.349959989330488, 14.617231261669778, 15.230728194185117, 17.284609229127767, 17.978127500666844, 27.874099759935984, 29.42117898106162, 43.931715124033076], \"y\": [\"mounting\", \"escape\", \"destruction\", \"hyperactivity\", \"rolling in repulsive objects\", \"house soiling\", \"compulsion\", \"fecal consumption\", \"excessive barking\", \"jumping\", \"aggression\", \"fear/anxiety\"], \"orientation\": \"h\"}], {\"title\": \"Prevalence of Behavior Problems\", \"xaxis\": {\"title\": \"prevalence (%)\"}, \"yaxis\": {\"title\": \"\", \"automargin\": true, \"tickangle\": 30, \"tickprefix\": \" \", \"ticksuffix\": \" \"}, \"width\": 700, \"height\": 500}, {\"showLink\": true, \"linkText\": \"Export to plot.ly\"})});</script>"
      ],
      "text/vnd.plotly.v1+html": [
       "<div id=\"1fefd322-6fc7-4a05-bb86-8626f242925b\" style=\"height: 500px; width: 700px;\" class=\"plotly-graph-div\"></div><script type=\"text/javascript\">require([\"plotly\"], function(Plotly) { window.PLOTLYENV=window.PLOTLYENV || {};window.PLOTLYENV.BASE_URL=\"https://plot.ly\";Plotly.newPlot(\"1fefd322-6fc7-4a05-bb86-8626f242925b\", [{\"type\": \"bar\", \"x\": [10.456121632435316, 10.696185649506534, 11.60309415844225, 12.16324353160843, 12.349959989330488, 14.617231261669778, 15.230728194185117, 17.284609229127767, 17.978127500666844, 27.874099759935984, 29.42117898106162, 43.931715124033076], \"y\": [\"mounting\", \"escape\", \"destruction\", \"hyperactivity\", \"rolling in repulsive objects\", \"house soiling\", \"compulsion\", \"fecal consumption\", \"excessive barking\", \"jumping\", \"aggression\", \"fear/anxiety\"], \"orientation\": \"h\"}], {\"title\": \"Prevalence of Behavior Problems\", \"xaxis\": {\"title\": \"prevalence (%)\"}, \"yaxis\": {\"title\": \"\", \"automargin\": true, \"tickangle\": 30, \"tickprefix\": \" \", \"ticksuffix\": \" \"}, \"width\": 700, \"height\": 500}, {\"showLink\": true, \"linkText\": \"Export to plot.ly\"})});</script>"
      ]
     },
     "metadata": {},
     "output_type": "display_data"
    }
   ],
   "source": [
    "prevalences = prevalences.sort_values(ascending=True)\n",
    "trace = go.Bar(\n",
    "    x=prevalences.values,\n",
    "    y=prevalences.index.values,\n",
    "    orientation='h')\n",
    "data = [trace]\n",
    "layout = go.Layout(title='Prevalence of Behavior Problems',\n",
    "                   xaxis=dict(title='prevalence (%)'),\n",
    "                   yaxis=dict(title='',\n",
    "                              automargin=True,\n",
    "                              tickangle=30,\n",
    "                              tickprefix=' ',\n",
    "                              ticksuffix=' '),\n",
    "                   width=700,\n",
    "                   height=500\n",
    "                  )\n",
    "fig = dict(data=data, layout=layout)\n",
    "py.iplot(fig)"
   ]
  },
  {
   "cell_type": "markdown",
   "metadata": {},
   "source": [
    "## 5. Behavior Problem Compositions"
   ]
  },
  {
   "cell_type": "markdown",
   "metadata": {},
   "source": [
    "### 5.1 Types of Aggression"
   ]
  },
  {
   "cell_type": "code",
   "execution_count": 222,
   "metadata": {},
   "outputs": [
    {
     "data": {
      "application/vnd.plotly.v1+json": {
       "data": [
        {
         "cells": {
          "align": [
           "left",
           "left",
           "left",
           "left",
           "left"
          ],
          "format": [
           null,
           "d",
           ".2f"
          ],
          "values": [
           [
            "unfamilair dogs on walks (on lead)",
            "another dog in the home",
            "stangers visiting the home",
            "unfamilair dogs on walks (off lead)",
            "unfamiliar dogs visiting the home",
            "stangers away from the home",
            "familiar people in the home",
            "animals other than dogs in the home",
            "veterinarians",
            "groomers",
            "trainers"
           ],
           [
            602,
            387,
            351,
            333,
            329,
            290,
            257,
            149,
            140,
            47,
            29
           ],
           [
            16.057615364097092,
            10.322752734062417,
            9.36249666577754,
            8.882368631635103,
            8.775673512936784,
            7.735396105628167,
            6.855161376367032,
            3.9743931715124035,
            3.734329154441184,
            1.2536676447052548,
            0.7735396105628167
           ]
          ]
         },
         "columnwidth": [
          200,
          100,
          100
         ],
         "header": {
          "align": [
           "left",
           "left",
           "left",
           "left",
           "left"
          ],
          "fill": {
           "color": "#B0C4DE"
          },
          "values": [
           "Type of Aggression",
           "Number of Dogs",
           "Prevalence (%)"
          ]
         },
         "type": "table"
        }
       ],
       "layout": {}
      },
      "text/html": [
       "<div id=\"586ddf52-66a1-41e5-8b17-04715da22325\" style=\"height: 525px; width: 100%;\" class=\"plotly-graph-div\"></div><script type=\"text/javascript\">require([\"plotly\"], function(Plotly) { window.PLOTLYENV=window.PLOTLYENV || {};window.PLOTLYENV.BASE_URL=\"https://plot.ly\";Plotly.newPlot(\"586ddf52-66a1-41e5-8b17-04715da22325\", [{\"type\": \"table\", \"columnwidth\": [200, 100, 100], \"header\": {\"values\": [\"Type of Aggression\", \"Number of Dogs\", \"Prevalence (%)\"], \"fill\": {\"color\": \"#B0C4DE\"}, \"align\": [\"left\", \"left\", \"left\", \"left\", \"left\"]}, \"cells\": {\"values\": [[\"unfamilair dogs on walks (on lead)\", \"another dog in the home\", \"stangers visiting the home\", \"unfamilair dogs on walks (off lead)\", \"unfamiliar dogs visiting the home\", \"stangers away from the home\", \"familiar people in the home\", \"animals other than dogs in the home\", \"veterinarians\", \"groomers\", \"trainers\"], [602, 387, 351, 333, 329, 290, 257, 149, 140, 47, 29], [16.057615364097092, 10.322752734062417, 9.36249666577754, 8.882368631635103, 8.775673512936784, 7.735396105628167, 6.855161376367032, 3.9743931715124035, 3.734329154441184, 1.2536676447052548, 0.7735396105628167]], \"align\": [\"left\", \"left\", \"left\", \"left\", \"left\"], \"format\": [null, \"d\", \".2f\"]}}], {}, {\"showLink\": true, \"linkText\": \"Export to plot.ly\"})});</script>"
      ],
      "text/vnd.plotly.v1+html": [
       "<div id=\"586ddf52-66a1-41e5-8b17-04715da22325\" style=\"height: 525px; width: 100%;\" class=\"plotly-graph-div\"></div><script type=\"text/javascript\">require([\"plotly\"], function(Plotly) { window.PLOTLYENV=window.PLOTLYENV || {};window.PLOTLYENV.BASE_URL=\"https://plot.ly\";Plotly.newPlot(\"586ddf52-66a1-41e5-8b17-04715da22325\", [{\"type\": \"table\", \"columnwidth\": [200, 100, 100], \"header\": {\"values\": [\"Type of Aggression\", \"Number of Dogs\", \"Prevalence (%)\"], \"fill\": {\"color\": \"#B0C4DE\"}, \"align\": [\"left\", \"left\", \"left\", \"left\", \"left\"]}, \"cells\": {\"values\": [[\"unfamilair dogs on walks (on lead)\", \"another dog in the home\", \"stangers visiting the home\", \"unfamilair dogs on walks (off lead)\", \"unfamiliar dogs visiting the home\", \"stangers away from the home\", \"familiar people in the home\", \"animals other than dogs in the home\", \"veterinarians\", \"groomers\", \"trainers\"], [602, 387, 351, 333, 329, 290, 257, 149, 140, 47, 29], [16.057615364097092, 10.322752734062417, 9.36249666577754, 8.882368631635103, 8.775673512936784, 7.735396105628167, 6.855161376367032, 3.9743931715124035, 3.734329154441184, 1.2536676447052548, 0.7735396105628167]], \"align\": [\"left\", \"left\", \"left\", \"left\", \"left\"], \"format\": [null, \"d\", \".2f\"]}}], {}, {\"showLink\": true, \"linkText\": \"Export to plot.ly\"})});</script>"
      ]
     },
     "metadata": {},
     "output_type": "display_data"
    }
   ],
   "source": [
    "# Create the necessary dataframe.\n",
    "query = ('SELECT question_reason_for_part_3, q03_main_1, q03_main_2, q03_main_3, '\n",
    "         'q03_main_4, q03_main_5, q03_main_6, q03_main_7, q03_main_8, q03_main_9, '\n",
    "         'q03_main_10, q03_main_11 FROM users JOIN dogs '\n",
    "         'USING(record_id)')\n",
    "df = pd.read_sql_query(query, con)\n",
    "df.columns = ['suspicion', 'familiar people in the home', 'stangers visiting the home',\n",
    "              'stangers away from the home', 'another dog in the home',\n",
    "              'unfamiliar dogs visiting the home', 'unfamilair dogs on walks (off lead)',\n",
    "              'unfamilair dogs on walks (on lead)', 'veterinarians', 'trainers', 'groomers',\n",
    "              'animals other than dogs in the home']\n",
    "\n",
    "# Remove biased results and discard suspicion column.\n",
    "df = df[df['suspicion'] == '0']\n",
    "df.drop('suspicion', axis=1, inplace=True)\n",
    "\n",
    "# Convert columns to integer type.\n",
    "for col in df:\n",
    "    df[col] = pd.to_numeric(df[col])\n",
    "\n",
    "# Get individual behavior problem counts and display as a table.\n",
    "sums = df.sum()\n",
    "sums = sums.sort_values(ascending=False)\n",
    "\n",
    "# Calculate the prevalence of each behavior problem.\n",
    "prevalence_cal = lambda x: (x / total_dogs) * 100\n",
    "prevalences = sums.apply(prevalence_cal)\n",
    "\n",
    "# Get individual behavior problem counts and display as a table.\n",
    "trace = go.Table(\n",
    "    columnwidth = [200, 100, 100],\n",
    "    header=dict(values=['Type of Aggression', 'Number of Dogs', 'Prevalence (%)'],\n",
    "                fill = dict(color='#B0C4DE'),\n",
    "                align = ['left'] * 5),\n",
    "    cells=dict(values=[sums.index.values, sums.values, prevalences.values],\n",
    "               align = ['left'] * 5,\n",
    "               format = [None, 'd', '.2f']))\n",
    "data = [trace] \n",
    "py.iplot(data)"
   ]
  },
  {
   "cell_type": "code",
   "execution_count": 223,
   "metadata": {},
   "outputs": [
    {
     "data": {
      "application/vnd.plotly.v1+json": {
       "data": [
        {
         "orientation": "h",
         "type": "bar",
         "x": [
          0.7735396105628167,
          1.2536676447052548,
          3.734329154441184,
          3.9743931715124035,
          6.855161376367032,
          7.735396105628167,
          8.775673512936784,
          8.882368631635103,
          9.36249666577754,
          10.322752734062417,
          16.057615364097092
         ],
         "y": [
          "trainers",
          "groomers",
          "veterinarians",
          "animals other than dogs in the home",
          "familiar people in the home",
          "stangers away from the home",
          "unfamiliar dogs visiting the home",
          "unfamilair dogs on walks (off lead)",
          "stangers visiting the home",
          "another dog in the home",
          "unfamilair dogs on walks (on lead)"
         ]
        }
       ],
       "layout": {
        "height": 500,
        "title": "Prevalence of Aggression",
        "width": 700,
        "xaxis": {
         "title": "prevalence (%)"
        },
        "yaxis": {
         "automargin": true,
         "tickangle": 30,
         "tickprefix": " ",
         "ticksuffix": " ",
         "title": ""
        }
       }
      },
      "text/html": [
       "<div id=\"7aa41882-7862-41ee-bb4e-dc93d0f7f808\" style=\"height: 500px; width: 700px;\" class=\"plotly-graph-div\"></div><script type=\"text/javascript\">require([\"plotly\"], function(Plotly) { window.PLOTLYENV=window.PLOTLYENV || {};window.PLOTLYENV.BASE_URL=\"https://plot.ly\";Plotly.newPlot(\"7aa41882-7862-41ee-bb4e-dc93d0f7f808\", [{\"type\": \"bar\", \"x\": [0.7735396105628167, 1.2536676447052548, 3.734329154441184, 3.9743931715124035, 6.855161376367032, 7.735396105628167, 8.775673512936784, 8.882368631635103, 9.36249666577754, 10.322752734062417, 16.057615364097092], \"y\": [\"trainers\", \"groomers\", \"veterinarians\", \"animals other than dogs in the home\", \"familiar people in the home\", \"stangers away from the home\", \"unfamiliar dogs visiting the home\", \"unfamilair dogs on walks (off lead)\", \"stangers visiting the home\", \"another dog in the home\", \"unfamilair dogs on walks (on lead)\"], \"orientation\": \"h\"}], {\"title\": \"Prevalence of Aggression\", \"xaxis\": {\"title\": \"prevalence (%)\"}, \"yaxis\": {\"title\": \"\", \"automargin\": true, \"tickangle\": 30, \"tickprefix\": \" \", \"ticksuffix\": \" \"}, \"width\": 700, \"height\": 500}, {\"showLink\": true, \"linkText\": \"Export to plot.ly\"})});</script>"
      ],
      "text/vnd.plotly.v1+html": [
       "<div id=\"7aa41882-7862-41ee-bb4e-dc93d0f7f808\" style=\"height: 500px; width: 700px;\" class=\"plotly-graph-div\"></div><script type=\"text/javascript\">require([\"plotly\"], function(Plotly) { window.PLOTLYENV=window.PLOTLYENV || {};window.PLOTLYENV.BASE_URL=\"https://plot.ly\";Plotly.newPlot(\"7aa41882-7862-41ee-bb4e-dc93d0f7f808\", [{\"type\": \"bar\", \"x\": [0.7735396105628167, 1.2536676447052548, 3.734329154441184, 3.9743931715124035, 6.855161376367032, 7.735396105628167, 8.775673512936784, 8.882368631635103, 9.36249666577754, 10.322752734062417, 16.057615364097092], \"y\": [\"trainers\", \"groomers\", \"veterinarians\", \"animals other than dogs in the home\", \"familiar people in the home\", \"stangers away from the home\", \"unfamiliar dogs visiting the home\", \"unfamilair dogs on walks (off lead)\", \"stangers visiting the home\", \"another dog in the home\", \"unfamilair dogs on walks (on lead)\"], \"orientation\": \"h\"}], {\"title\": \"Prevalence of Aggression\", \"xaxis\": {\"title\": \"prevalence (%)\"}, \"yaxis\": {\"title\": \"\", \"automargin\": true, \"tickangle\": 30, \"tickprefix\": \" \", \"ticksuffix\": \" \"}, \"width\": 700, \"height\": 500}, {\"showLink\": true, \"linkText\": \"Export to plot.ly\"})});</script>"
      ]
     },
     "metadata": {},
     "output_type": "display_data"
    }
   ],
   "source": [
    "# Generate a bar graph.\n",
    "prevalences = prevalences.sort_values(ascending=True)\n",
    "trace = go.Bar(\n",
    "    x=prevalences.values,\n",
    "    y=prevalences.index.values,\n",
    "    orientation='h')\n",
    "data = [trace]\n",
    "layout = go.Layout(title='Prevalence of Aggression',\n",
    "                   xaxis=dict(title='prevalence (%)'),\n",
    "                   yaxis=dict(title='',\n",
    "                              automargin=True,\n",
    "                              tickangle=30,\n",
    "                              tickprefix=' ',\n",
    "                              ticksuffix=' '),\n",
    "                   width=700,\n",
    "                   height=500\n",
    "                  )\n",
    "fig = dict(data=data, layout=layout)\n",
    "py.iplot(fig)"
   ]
  },
  {
   "cell_type": "markdown",
   "metadata": {},
   "source": [
    "### 5.2 Types of Fear/Anxiety"
   ]
  },
  {
   "cell_type": "code",
   "execution_count": 224,
   "metadata": {},
   "outputs": [
    {
     "data": {
      "application/vnd.plotly.v1+json": {
       "data": [
        {
         "cells": {
          "align": [
           "left",
           "left",
           "left",
           "left",
           "left"
          ],
          "format": [
           null,
           "d",
           ".2f"
          ],
          "values": [
           [
            "crowd phobia",
            "situational anxiety",
            "noise phobia",
            "veterinarian phobia",
            "thunderstorm phobia",
            "separation anxiety",
            "travel anxiety",
            "phobia of other dogs",
            "general anxiety",
            "other",
            "PTSD"
           ],
           [
            703,
            664,
            652,
            623,
            524,
            485,
            387,
            382,
            321,
            202,
            158
           ],
           [
            18.75166711122966,
            17.711389703921046,
            17.391304347826086,
            16.617764737263272,
            13.97706054947986,
            12.936783142171246,
            10.322752734062417,
            10.189383835689517,
            8.562283275540144,
            5.388103494265137,
            4.214457188583622
           ]
          ]
         },
         "columnwidth": [
          200,
          100,
          100
         ],
         "header": {
          "align": [
           "left",
           "left",
           "left",
           "left",
           "left"
          ],
          "fill": {
           "color": "#B0C4DE"
          },
          "values": [
           "Type of Fear/Anxiety",
           "Number of Dogs",
           "Prevalence (%)"
          ]
         },
         "type": "table"
        }
       ],
       "layout": {}
      },
      "text/html": [
       "<div id=\"1da03661-7332-4905-8dff-d3c19ea62a10\" style=\"height: 525px; width: 100%;\" class=\"plotly-graph-div\"></div><script type=\"text/javascript\">require([\"plotly\"], function(Plotly) { window.PLOTLYENV=window.PLOTLYENV || {};window.PLOTLYENV.BASE_URL=\"https://plot.ly\";Plotly.newPlot(\"1da03661-7332-4905-8dff-d3c19ea62a10\", [{\"type\": \"table\", \"columnwidth\": [200, 100, 100], \"header\": {\"values\": [\"Type of Fear/Anxiety\", \"Number of Dogs\", \"Prevalence (%)\"], \"fill\": {\"color\": \"#B0C4DE\"}, \"align\": [\"left\", \"left\", \"left\", \"left\", \"left\"]}, \"cells\": {\"values\": [[\"crowd phobia\", \"situational anxiety\", \"noise phobia\", \"veterinarian phobia\", \"thunderstorm phobia\", \"separation anxiety\", \"travel anxiety\", \"phobia of other dogs\", \"general anxiety\", \"other\", \"PTSD\"], [703, 664, 652, 623, 524, 485, 387, 382, 321, 202, 158], [18.75166711122966, 17.711389703921046, 17.391304347826086, 16.617764737263272, 13.97706054947986, 12.936783142171246, 10.322752734062417, 10.189383835689517, 8.562283275540144, 5.388103494265137, 4.214457188583622]], \"align\": [\"left\", \"left\", \"left\", \"left\", \"left\"], \"format\": [null, \"d\", \".2f\"]}}], {}, {\"showLink\": true, \"linkText\": \"Export to plot.ly\"})});</script>"
      ],
      "text/vnd.plotly.v1+html": [
       "<div id=\"1da03661-7332-4905-8dff-d3c19ea62a10\" style=\"height: 525px; width: 100%;\" class=\"plotly-graph-div\"></div><script type=\"text/javascript\">require([\"plotly\"], function(Plotly) { window.PLOTLYENV=window.PLOTLYENV || {};window.PLOTLYENV.BASE_URL=\"https://plot.ly\";Plotly.newPlot(\"1da03661-7332-4905-8dff-d3c19ea62a10\", [{\"type\": \"table\", \"columnwidth\": [200, 100, 100], \"header\": {\"values\": [\"Type of Fear/Anxiety\", \"Number of Dogs\", \"Prevalence (%)\"], \"fill\": {\"color\": \"#B0C4DE\"}, \"align\": [\"left\", \"left\", \"left\", \"left\", \"left\"]}, \"cells\": {\"values\": [[\"crowd phobia\", \"situational anxiety\", \"noise phobia\", \"veterinarian phobia\", \"thunderstorm phobia\", \"separation anxiety\", \"travel anxiety\", \"phobia of other dogs\", \"general anxiety\", \"other\", \"PTSD\"], [703, 664, 652, 623, 524, 485, 387, 382, 321, 202, 158], [18.75166711122966, 17.711389703921046, 17.391304347826086, 16.617764737263272, 13.97706054947986, 12.936783142171246, 10.322752734062417, 10.189383835689517, 8.562283275540144, 5.388103494265137, 4.214457188583622]], \"align\": [\"left\", \"left\", \"left\", \"left\", \"left\"], \"format\": [null, \"d\", \".2f\"]}}], {}, {\"showLink\": true, \"linkText\": \"Export to plot.ly\"})});</script>"
      ]
     },
     "metadata": {},
     "output_type": "display_data"
    }
   ],
   "source": [
    "# Create the necessary dataframe.\n",
    "query = ('SELECT question_reason_for_part_3, q04_1, q04_2, q04_3, q04_4, q04_5, q04_6, '\n",
    "         'q04_7, q04_8, q04_9, q04_10, q04_11 FROM users JOIN dogs USING(record_id)')\n",
    "df = pd.read_sql_query(query, con)\n",
    "df.columns = ['suspicion', 'thunderstorm phobia', 'noise phobia', 'crowd phobia',\n",
    "              'phobia of other dogs', 'PTSD',\n",
    "              'general anxiety', 'situational anxiety', 'veterinarian phobia',\n",
    "              'separation anxiety', 'travel anxiety', 'other']\n",
    "\n",
    "# Remove biased results and discard suspicion column.\n",
    "df = df[df['suspicion'] == '0']\n",
    "df.drop('suspicion', axis=1, inplace=True)\n",
    "\n",
    "# Convert columns to integer type.\n",
    "for col in df:\n",
    "    df[col] = pd.to_numeric(df[col])\n",
    "\n",
    "# Get individual behavior problem counts and display as a table.\n",
    "sums = df.sum()\n",
    "sums = sums.sort_values(ascending=False)\n",
    "\n",
    "# Calculate the prevalence of each behavior problem.\n",
    "prevalence_cal = lambda x: (x / total_dogs) * 100\n",
    "prevalences = sums.apply(prevalence_cal)\n",
    "\n",
    "# Get individual behavior problem counts and display as a table.\n",
    "trace = go.Table(\n",
    "    columnwidth = [200, 100, 100],\n",
    "    header=dict(values=['Type of Fear/Anxiety', 'Number of Dogs', 'Prevalence (%)'],\n",
    "                fill = dict(color='#B0C4DE'),\n",
    "                align = ['left'] * 5),\n",
    "    cells=dict(values=[sums.index.values, sums.values, prevalences.values],\n",
    "               align = ['left'] * 5,\n",
    "               format = [None, 'd', '.2f']))\n",
    "data = [trace] \n",
    "py.iplot(data)"
   ]
  },
  {
   "cell_type": "code",
   "execution_count": 225,
   "metadata": {},
   "outputs": [
    {
     "data": {
      "application/vnd.plotly.v1+json": {
       "data": [
        {
         "orientation": "h",
         "type": "bar",
         "x": [
          4.214457188583622,
          5.388103494265137,
          8.562283275540144,
          10.189383835689517,
          10.322752734062417,
          12.936783142171246,
          13.97706054947986,
          16.617764737263272,
          17.391304347826086,
          17.711389703921046,
          18.75166711122966
         ],
         "y": [
          "PTSD",
          "other",
          "general anxiety",
          "phobia of other dogs",
          "travel anxiety",
          "separation anxiety",
          "thunderstorm phobia",
          "veterinarian phobia",
          "noise phobia",
          "situational anxiety",
          "crowd phobia"
         ]
        }
       ],
       "layout": {
        "height": 500,
        "title": "Prevalence of Fear/Anxiety",
        "width": 700,
        "xaxis": {
         "title": "prevalence (%)"
        },
        "yaxis": {
         "automargin": true,
         "tickangle": 30,
         "tickprefix": " ",
         "ticksuffix": " ",
         "title": ""
        }
       }
      },
      "text/html": [
       "<div id=\"be70989b-db08-4da8-bbc4-699ba7469500\" style=\"height: 500px; width: 700px;\" class=\"plotly-graph-div\"></div><script type=\"text/javascript\">require([\"plotly\"], function(Plotly) { window.PLOTLYENV=window.PLOTLYENV || {};window.PLOTLYENV.BASE_URL=\"https://plot.ly\";Plotly.newPlot(\"be70989b-db08-4da8-bbc4-699ba7469500\", [{\"type\": \"bar\", \"x\": [4.214457188583622, 5.388103494265137, 8.562283275540144, 10.189383835689517, 10.322752734062417, 12.936783142171246, 13.97706054947986, 16.617764737263272, 17.391304347826086, 17.711389703921046, 18.75166711122966], \"y\": [\"PTSD\", \"other\", \"general anxiety\", \"phobia of other dogs\", \"travel anxiety\", \"separation anxiety\", \"thunderstorm phobia\", \"veterinarian phobia\", \"noise phobia\", \"situational anxiety\", \"crowd phobia\"], \"orientation\": \"h\"}], {\"title\": \"Prevalence of Fear/Anxiety\", \"xaxis\": {\"title\": \"prevalence (%)\"}, \"yaxis\": {\"title\": \"\", \"automargin\": true, \"tickangle\": 30, \"tickprefix\": \" \", \"ticksuffix\": \" \"}, \"width\": 700, \"height\": 500}, {\"showLink\": true, \"linkText\": \"Export to plot.ly\"})});</script>"
      ],
      "text/vnd.plotly.v1+html": [
       "<div id=\"be70989b-db08-4da8-bbc4-699ba7469500\" style=\"height: 500px; width: 700px;\" class=\"plotly-graph-div\"></div><script type=\"text/javascript\">require([\"plotly\"], function(Plotly) { window.PLOTLYENV=window.PLOTLYENV || {};window.PLOTLYENV.BASE_URL=\"https://plot.ly\";Plotly.newPlot(\"be70989b-db08-4da8-bbc4-699ba7469500\", [{\"type\": \"bar\", \"x\": [4.214457188583622, 5.388103494265137, 8.562283275540144, 10.189383835689517, 10.322752734062417, 12.936783142171246, 13.97706054947986, 16.617764737263272, 17.391304347826086, 17.711389703921046, 18.75166711122966], \"y\": [\"PTSD\", \"other\", \"general anxiety\", \"phobia of other dogs\", \"travel anxiety\", \"separation anxiety\", \"thunderstorm phobia\", \"veterinarian phobia\", \"noise phobia\", \"situational anxiety\", \"crowd phobia\"], \"orientation\": \"h\"}], {\"title\": \"Prevalence of Fear/Anxiety\", \"xaxis\": {\"title\": \"prevalence (%)\"}, \"yaxis\": {\"title\": \"\", \"automargin\": true, \"tickangle\": 30, \"tickprefix\": \" \", \"ticksuffix\": \" \"}, \"width\": 700, \"height\": 500}, {\"showLink\": true, \"linkText\": \"Export to plot.ly\"})});</script>"
      ]
     },
     "metadata": {},
     "output_type": "display_data"
    }
   ],
   "source": [
    "# Generate a bar graph.\n",
    "prevalences = prevalences.sort_values(ascending=True)\n",
    "trace = go.Bar(\n",
    "    x=prevalences.values,\n",
    "    y=prevalences.index.values,\n",
    "    orientation='h')\n",
    "data = [trace]\n",
    "layout = go.Layout(title='Prevalence of Fear/Anxiety',\n",
    "                   xaxis=dict(title='prevalence (%)'),\n",
    "                   yaxis=dict(title='',\n",
    "                              automargin=True,\n",
    "                              tickangle=30,\n",
    "                              tickprefix=' ',\n",
    "                              ticksuffix=' '),\n",
    "                   width=700,\n",
    "                   height=500\n",
    "                  )\n",
    "fig = dict(data=data, layout=layout)\n",
    "py.iplot(fig)"
   ]
  },
  {
   "cell_type": "markdown",
   "metadata": {},
   "source": [
    "### 5.3 Types of Compulsion"
   ]
  },
  {
   "cell_type": "code",
   "execution_count": 226,
   "metadata": {},
   "outputs": [
    {
     "data": {
      "application/vnd.plotly.v1+json": {
       "data": [
        {
         "cells": {
          "align": [
           "left",
           "left",
           "left",
           "left",
           "left"
          ],
          "format": [
           null,
           "d",
           ".2f"
          ],
          "values": [
           [
            "licking of wrist/hock",
            "tail chasing",
            "digging in yard",
            "other",
            "tennis ball fetish",
            "spinning",
            "nail biting",
            "shadow/light chasing",
            "sucking flank region/blankets",
            "running in geometric patterns",
            "collecting/arranging objects",
            "stone/rock chewing",
            "fly snapping"
           ],
           [
            293,
            114,
            94,
            87,
            72,
            71,
            67,
            59,
            52,
            36,
            33,
            27,
            21
           ],
           [
            7.815417444651908,
            3.0408108829021074,
            2.5073352894105096,
            2.32061883168845,
            1.920512136569752,
            1.8938383568951722,
            1.7871432381968526,
            1.5737530008002134,
            1.3870365430781542,
            0.960256068284876,
            0.8802347292611362,
            0.720192051213657,
            0.5601493731661776
           ]
          ]
         },
         "columnwidth": [
          200,
          100,
          100
         ],
         "header": {
          "align": [
           "left",
           "left",
           "left",
           "left",
           "left"
          ],
          "fill": {
           "color": "#B0C4DE"
          },
          "values": [
           "Type of Compulsion",
           "Number of Dogs",
           "Prevalence (%)"
          ]
         },
         "type": "table"
        }
       ],
       "layout": {}
      },
      "text/html": [
       "<div id=\"1ebd5ac2-43bd-4301-ac70-2b7a430bc52b\" style=\"height: 525px; width: 100%;\" class=\"plotly-graph-div\"></div><script type=\"text/javascript\">require([\"plotly\"], function(Plotly) { window.PLOTLYENV=window.PLOTLYENV || {};window.PLOTLYENV.BASE_URL=\"https://plot.ly\";Plotly.newPlot(\"1ebd5ac2-43bd-4301-ac70-2b7a430bc52b\", [{\"type\": \"table\", \"columnwidth\": [200, 100, 100], \"header\": {\"values\": [\"Type of Compulsion\", \"Number of Dogs\", \"Prevalence (%)\"], \"fill\": {\"color\": \"#B0C4DE\"}, \"align\": [\"left\", \"left\", \"left\", \"left\", \"left\"]}, \"cells\": {\"values\": [[\"licking of wrist/hock\", \"tail chasing\", \"digging in yard\", \"other\", \"tennis ball fetish\", \"spinning\", \"nail biting\", \"shadow/light chasing\", \"sucking flank region/blankets\", \"running in geometric patterns\", \"collecting/arranging objects\", \"stone/rock chewing\", \"fly snapping\"], [293, 114, 94, 87, 72, 71, 67, 59, 52, 36, 33, 27, 21], [7.815417444651908, 3.0408108829021074, 2.5073352894105096, 2.32061883168845, 1.920512136569752, 1.8938383568951722, 1.7871432381968526, 1.5737530008002134, 1.3870365430781542, 0.960256068284876, 0.8802347292611362, 0.720192051213657, 0.5601493731661776]], \"align\": [\"left\", \"left\", \"left\", \"left\", \"left\"], \"format\": [null, \"d\", \".2f\"]}}], {}, {\"showLink\": true, \"linkText\": \"Export to plot.ly\"})});</script>"
      ],
      "text/vnd.plotly.v1+html": [
       "<div id=\"1ebd5ac2-43bd-4301-ac70-2b7a430bc52b\" style=\"height: 525px; width: 100%;\" class=\"plotly-graph-div\"></div><script type=\"text/javascript\">require([\"plotly\"], function(Plotly) { window.PLOTLYENV=window.PLOTLYENV || {};window.PLOTLYENV.BASE_URL=\"https://plot.ly\";Plotly.newPlot(\"1ebd5ac2-43bd-4301-ac70-2b7a430bc52b\", [{\"type\": \"table\", \"columnwidth\": [200, 100, 100], \"header\": {\"values\": [\"Type of Compulsion\", \"Number of Dogs\", \"Prevalence (%)\"], \"fill\": {\"color\": \"#B0C4DE\"}, \"align\": [\"left\", \"left\", \"left\", \"left\", \"left\"]}, \"cells\": {\"values\": [[\"licking of wrist/hock\", \"tail chasing\", \"digging in yard\", \"other\", \"tennis ball fetish\", \"spinning\", \"nail biting\", \"shadow/light chasing\", \"sucking flank region/blankets\", \"running in geometric patterns\", \"collecting/arranging objects\", \"stone/rock chewing\", \"fly snapping\"], [293, 114, 94, 87, 72, 71, 67, 59, 52, 36, 33, 27, 21], [7.815417444651908, 3.0408108829021074, 2.5073352894105096, 2.32061883168845, 1.920512136569752, 1.8938383568951722, 1.7871432381968526, 1.5737530008002134, 1.3870365430781542, 0.960256068284876, 0.8802347292611362, 0.720192051213657, 0.5601493731661776]], \"align\": [\"left\", \"left\", \"left\", \"left\", \"left\"], \"format\": [null, \"d\", \".2f\"]}}], {}, {\"showLink\": true, \"linkText\": \"Export to plot.ly\"})});</script>"
      ]
     },
     "metadata": {},
     "output_type": "display_data"
    }
   ],
   "source": [
    "# Create the necessary dataframe.\n",
    "query = ('SELECT question_reason_for_part_3, q05_main_1, q05_main_2, q05_main_3, '\n",
    "         'q05_main_4, q05_main_5, q05_main_6, q05_main_7, q05_main_8, q05_main_9, '\n",
    "         'q05_main_10, q05_main_11, q05_main_12, q05_main_13 FROM users JOIN dogs '\n",
    "         'USING(record_id)')\n",
    "df = pd.read_sql_query(query, con)\n",
    "df.columns = ['suspicion', 'spinning', 'tail chasing', 'shadow/light chasing',\n",
    "              'running in geometric patterns', 'licking of wrist/hock', 'fly snapping',\n",
    "              'sucking flank region/blankets', 'tennis ball fetish',\n",
    "              'collecting/arranging objects', 'nail biting', 'digging in yard',\n",
    "              'stone/rock chewing', 'other']\n",
    "\n",
    "# Remove biased results and discard suspicion column.\n",
    "df = df[df['suspicion'] == '0']\n",
    "df.drop('suspicion', axis=1, inplace=True)\n",
    "\n",
    "# Convert columns to integer type.\n",
    "for col in df:\n",
    "    df[col] = pd.to_numeric(df[col])\n",
    "\n",
    "# Get individual behavior problem counts and display as a table.\n",
    "sums = df.sum()\n",
    "sums = sums.sort_values(ascending=False)\n",
    "\n",
    "# Calculate the prevalence of each behavior problem.\n",
    "prevalence_cal = lambda x: (x / total_dogs) * 100\n",
    "prevalences = sums.apply(prevalence_cal)\n",
    "\n",
    "# Get individual behavior problem counts and display as a table.\n",
    "trace = go.Table(\n",
    "    columnwidth = [200, 100, 100],\n",
    "    header=dict(values=['Type of Compulsion', 'Number of Dogs', 'Prevalence (%)'],\n",
    "                fill = dict(color='#B0C4DE'),\n",
    "                align = ['left'] * 5),\n",
    "    cells=dict(values=[sums.index.values, sums.values, prevalences.values],\n",
    "               align = ['left'] * 5,\n",
    "               format = [None, 'd', '.2f']))\n",
    "data = [trace] \n",
    "py.iplot(data)"
   ]
  },
  {
   "cell_type": "code",
   "execution_count": 227,
   "metadata": {},
   "outputs": [
    {
     "data": {
      "application/vnd.plotly.v1+json": {
       "data": [
        {
         "orientation": "h",
         "type": "bar",
         "x": [
          0.5601493731661776,
          0.720192051213657,
          0.8802347292611362,
          0.960256068284876,
          1.3870365430781542,
          1.5737530008002134,
          1.7871432381968526,
          1.8938383568951722,
          1.920512136569752,
          2.32061883168845,
          2.5073352894105096,
          3.0408108829021074,
          7.815417444651908
         ],
         "y": [
          "fly snapping",
          "stone/rock chewing",
          "collecting/arranging objects",
          "running in geometric patterns",
          "sucking flank region/blankets",
          "shadow/light chasing",
          "nail biting",
          "spinning",
          "tennis ball fetish",
          "other",
          "digging in yard",
          "tail chasing",
          "licking of wrist/hock"
         ]
        }
       ],
       "layout": {
        "height": 500,
        "title": "Prevalence of Compulsion",
        "width": 700,
        "xaxis": {
         "title": "prevalence (%)"
        },
        "yaxis": {
         "automargin": true,
         "tickangle": 30,
         "tickprefix": " ",
         "ticksuffix": " ",
         "title": ""
        }
       }
      },
      "text/html": [
       "<div id=\"f2044449-ffb5-4cca-a16c-7944bf4670fe\" style=\"height: 500px; width: 700px;\" class=\"plotly-graph-div\"></div><script type=\"text/javascript\">require([\"plotly\"], function(Plotly) { window.PLOTLYENV=window.PLOTLYENV || {};window.PLOTLYENV.BASE_URL=\"https://plot.ly\";Plotly.newPlot(\"f2044449-ffb5-4cca-a16c-7944bf4670fe\", [{\"type\": \"bar\", \"x\": [0.5601493731661776, 0.720192051213657, 0.8802347292611362, 0.960256068284876, 1.3870365430781542, 1.5737530008002134, 1.7871432381968526, 1.8938383568951722, 1.920512136569752, 2.32061883168845, 2.5073352894105096, 3.0408108829021074, 7.815417444651908], \"y\": [\"fly snapping\", \"stone/rock chewing\", \"collecting/arranging objects\", \"running in geometric patterns\", \"sucking flank region/blankets\", \"shadow/light chasing\", \"nail biting\", \"spinning\", \"tennis ball fetish\", \"other\", \"digging in yard\", \"tail chasing\", \"licking of wrist/hock\"], \"orientation\": \"h\"}], {\"title\": \"Prevalence of Compulsion\", \"xaxis\": {\"title\": \"prevalence (%)\"}, \"yaxis\": {\"title\": \"\", \"automargin\": true, \"tickangle\": 30, \"tickprefix\": \" \", \"ticksuffix\": \" \"}, \"width\": 700, \"height\": 500}, {\"showLink\": true, \"linkText\": \"Export to plot.ly\"})});</script>"
      ],
      "text/vnd.plotly.v1+html": [
       "<div id=\"f2044449-ffb5-4cca-a16c-7944bf4670fe\" style=\"height: 500px; width: 700px;\" class=\"plotly-graph-div\"></div><script type=\"text/javascript\">require([\"plotly\"], function(Plotly) { window.PLOTLYENV=window.PLOTLYENV || {};window.PLOTLYENV.BASE_URL=\"https://plot.ly\";Plotly.newPlot(\"f2044449-ffb5-4cca-a16c-7944bf4670fe\", [{\"type\": \"bar\", \"x\": [0.5601493731661776, 0.720192051213657, 0.8802347292611362, 0.960256068284876, 1.3870365430781542, 1.5737530008002134, 1.7871432381968526, 1.8938383568951722, 1.920512136569752, 2.32061883168845, 2.5073352894105096, 3.0408108829021074, 7.815417444651908], \"y\": [\"fly snapping\", \"stone/rock chewing\", \"collecting/arranging objects\", \"running in geometric patterns\", \"sucking flank region/blankets\", \"shadow/light chasing\", \"nail biting\", \"spinning\", \"tennis ball fetish\", \"other\", \"digging in yard\", \"tail chasing\", \"licking of wrist/hock\"], \"orientation\": \"h\"}], {\"title\": \"Prevalence of Compulsion\", \"xaxis\": {\"title\": \"prevalence (%)\"}, \"yaxis\": {\"title\": \"\", \"automargin\": true, \"tickangle\": 30, \"tickprefix\": \" \", \"ticksuffix\": \" \"}, \"width\": 700, \"height\": 500}, {\"showLink\": true, \"linkText\": \"Export to plot.ly\"})});</script>"
      ]
     },
     "metadata": {},
     "output_type": "display_data"
    }
   ],
   "source": [
    "# Generate a bar graph.\n",
    "prevalences = prevalences.sort_values(ascending=True)\n",
    "trace = go.Bar(\n",
    "    x=prevalences.values,\n",
    "    y=prevalences.index.values,\n",
    "    orientation='h')\n",
    "data = [trace]\n",
    "layout = go.Layout(title='Prevalence of Compulsion',\n",
    "                   xaxis=dict(title='prevalence (%)'),\n",
    "                   yaxis=dict(title='',\n",
    "                              automargin=True,\n",
    "                              tickangle=30,\n",
    "                              tickprefix=' ',\n",
    "                              ticksuffix=' '),\n",
    "                   width=700,\n",
    "                   height=500\n",
    "                  )\n",
    "fig = dict(data=data, layout=layout)\n",
    "py.iplot(fig)"
   ]
  },
  {
   "cell_type": "markdown",
   "metadata": {},
   "source": [
    "### 5.4 Types of House Soiling"
   ]
  },
  {
   "cell_type": "code",
   "execution_count": 228,
   "metadata": {},
   "outputs": [
    {
     "data": {
      "application/vnd.plotly.v1+json": {
       "data": [
        {
         "cells": {
          "align": [
           "left",
           "left",
           "left",
           "left",
           "left"
          ],
          "format": [
           null,
           "d",
           ".2f"
          ],
          "values": [
           [
            "feces",
            "urine",
            "both"
           ],
           [
            407,
            373,
            111
           ],
           [
            10.856228327554014,
            9.949319818618298,
            2.9607895438783673
           ]
          ]
         },
         "columnwidth": [
          200,
          100,
          100
         ],
         "header": {
          "align": [
           "left",
           "left",
           "left",
           "left",
           "left"
          ],
          "fill": {
           "color": "#B0C4DE"
          },
          "values": [
           "House Soiling Type",
           "Number of Dogs",
           "Prevalence (%)"
          ]
         },
         "type": "table"
        }
       ],
       "layout": {}
      },
      "text/html": [
       "<div id=\"94f127dd-f2af-4938-bcfa-032f261ee614\" style=\"height: 525px; width: 100%;\" class=\"plotly-graph-div\"></div><script type=\"text/javascript\">require([\"plotly\"], function(Plotly) { window.PLOTLYENV=window.PLOTLYENV || {};window.PLOTLYENV.BASE_URL=\"https://plot.ly\";Plotly.newPlot(\"94f127dd-f2af-4938-bcfa-032f261ee614\", [{\"type\": \"table\", \"columnwidth\": [200, 100, 100], \"header\": {\"values\": [\"House Soiling Type\", \"Number of Dogs\", \"Prevalence (%)\"], \"fill\": {\"color\": \"#B0C4DE\"}, \"align\": [\"left\", \"left\", \"left\", \"left\", \"left\"]}, \"cells\": {\"values\": [[\"feces\", \"urine\", \"both\"], [407, 373, 111], [10.856228327554014, 9.949319818618298, 2.9607895438783673]], \"align\": [\"left\", \"left\", \"left\", \"left\", \"left\"], \"format\": [null, \"d\", \".2f\"]}}], {}, {\"showLink\": true, \"linkText\": \"Export to plot.ly\"})});</script>"
      ],
      "text/vnd.plotly.v1+html": [
       "<div id=\"94f127dd-f2af-4938-bcfa-032f261ee614\" style=\"height: 525px; width: 100%;\" class=\"plotly-graph-div\"></div><script type=\"text/javascript\">require([\"plotly\"], function(Plotly) { window.PLOTLYENV=window.PLOTLYENV || {};window.PLOTLYENV.BASE_URL=\"https://plot.ly\";Plotly.newPlot(\"94f127dd-f2af-4938-bcfa-032f261ee614\", [{\"type\": \"table\", \"columnwidth\": [200, 100, 100], \"header\": {\"values\": [\"House Soiling Type\", \"Number of Dogs\", \"Prevalence (%)\"], \"fill\": {\"color\": \"#B0C4DE\"}, \"align\": [\"left\", \"left\", \"left\", \"left\", \"left\"]}, \"cells\": {\"values\": [[\"feces\", \"urine\", \"both\"], [407, 373, 111], [10.856228327554014, 9.949319818618298, 2.9607895438783673]], \"align\": [\"left\", \"left\", \"left\", \"left\", \"left\"], \"format\": [null, \"d\", \".2f\"]}}], {}, {\"showLink\": true, \"linkText\": \"Export to plot.ly\"})});</script>"
      ]
     },
     "metadata": {},
     "output_type": "display_data"
    }
   ],
   "source": [
    "# Create the necessary dataframe.\n",
    "query = ('SELECT question_reason_for_part_3, q06_situation_1, q06_situation_2, '\n",
    "         'q06_situation_3 FROM users JOIN dogs USING(record_id)')\n",
    "df = pd.read_sql_query(query, con)\n",
    "df.columns = ['suspicion', 'urine', 'feces', 'both']\n",
    "\n",
    "# Remove biased results and discard suspicion column.\n",
    "df = df[df['suspicion'] == '0']\n",
    "df.drop('suspicion', axis=1, inplace=True)\n",
    "\n",
    "# Convert columns to integer type.\n",
    "for col in df:\n",
    "    df[col] = pd.to_numeric(df[col])\n",
    "\n",
    "# Get individual behavior problem counts and display as a table.\n",
    "sums = df.sum()\n",
    "sums = sums.sort_values(ascending=False)\n",
    "\n",
    "# Calculate the prevalence of each behavior problem.\n",
    "prevalence_cal = lambda x: (x / total_dogs) * 100\n",
    "prevalences = sums.apply(prevalence_cal)\n",
    "\n",
    "# Get individual behavior problem counts and display as a table.\n",
    "trace = go.Table(\n",
    "    columnwidth = [200, 100, 100],\n",
    "    header=dict(values=['House Soiling Type', 'Number of Dogs', 'Prevalence (%)'],\n",
    "                fill = dict(color='#B0C4DE'),\n",
    "                align = ['left'] * 5),\n",
    "    cells=dict(values=[sums.index.values, sums.values, prevalences.values],\n",
    "               align = ['left'] * 5,\n",
    "               format = [None, 'd', '.2f']))\n",
    "data = [trace] \n",
    "py.iplot(data)"
   ]
  },
  {
   "cell_type": "code",
   "execution_count": 229,
   "metadata": {},
   "outputs": [
    {
     "data": {
      "application/vnd.plotly.v1+json": {
       "data": [
        {
         "orientation": "h",
         "type": "bar",
         "x": [
          2.9607895438783673,
          9.949319818618298,
          10.856228327554014
         ],
         "y": [
          "both",
          "urine",
          "feces"
         ]
        }
       ],
       "layout": {
        "height": 300,
        "title": "Prevalence of House Soiling Type",
        "width": 400,
        "xaxis": {
         "title": "prevalence (%)"
        },
        "yaxis": {
         "automargin": true,
         "tickangle": 30,
         "tickprefix": " ",
         "ticksuffix": " ",
         "title": ""
        }
       }
      },
      "text/html": [
       "<div id=\"1984f344-2ff8-414d-86d6-71dbf64e30c1\" style=\"height: 300px; width: 400px;\" class=\"plotly-graph-div\"></div><script type=\"text/javascript\">require([\"plotly\"], function(Plotly) { window.PLOTLYENV=window.PLOTLYENV || {};window.PLOTLYENV.BASE_URL=\"https://plot.ly\";Plotly.newPlot(\"1984f344-2ff8-414d-86d6-71dbf64e30c1\", [{\"type\": \"bar\", \"x\": [2.9607895438783673, 9.949319818618298, 10.856228327554014], \"y\": [\"both\", \"urine\", \"feces\"], \"orientation\": \"h\"}], {\"title\": \"Prevalence of House Soiling Type\", \"xaxis\": {\"title\": \"prevalence (%)\"}, \"yaxis\": {\"title\": \"\", \"automargin\": true, \"tickangle\": 30, \"tickprefix\": \" \", \"ticksuffix\": \" \"}, \"width\": 400, \"height\": 300}, {\"showLink\": true, \"linkText\": \"Export to plot.ly\"})});</script>"
      ],
      "text/vnd.plotly.v1+html": [
       "<div id=\"1984f344-2ff8-414d-86d6-71dbf64e30c1\" style=\"height: 300px; width: 400px;\" class=\"plotly-graph-div\"></div><script type=\"text/javascript\">require([\"plotly\"], function(Plotly) { window.PLOTLYENV=window.PLOTLYENV || {};window.PLOTLYENV.BASE_URL=\"https://plot.ly\";Plotly.newPlot(\"1984f344-2ff8-414d-86d6-71dbf64e30c1\", [{\"type\": \"bar\", \"x\": [2.9607895438783673, 9.949319818618298, 10.856228327554014], \"y\": [\"both\", \"urine\", \"feces\"], \"orientation\": \"h\"}], {\"title\": \"Prevalence of House Soiling Type\", \"xaxis\": {\"title\": \"prevalence (%)\"}, \"yaxis\": {\"title\": \"\", \"automargin\": true, \"tickangle\": 30, \"tickprefix\": \" \", \"ticksuffix\": \" \"}, \"width\": 400, \"height\": 300}, {\"showLink\": true, \"linkText\": \"Export to plot.ly\"})});</script>"
      ]
     },
     "metadata": {},
     "output_type": "display_data"
    }
   ],
   "source": [
    "# Generate a bar graph.\n",
    "prevalences = prevalences.sort_values(ascending=True)\n",
    "trace = go.Bar(\n",
    "    x=prevalences.values,\n",
    "    y=prevalences.index.values,\n",
    "    orientation='h')\n",
    "data = [trace]\n",
    "layout = go.Layout(title='Prevalence of House Soiling Type',\n",
    "                   xaxis=dict(title='prevalence (%)'),\n",
    "                   yaxis=dict(title='',\n",
    "                              automargin=True,\n",
    "                              tickangle=30,\n",
    "                              tickprefix=' ',\n",
    "                              ticksuffix=' '),\n",
    "                   width=400,\n",
    "                   height=300\n",
    "                  )\n",
    "fig = dict(data=data, layout=layout)\n",
    "py.iplot(fig)"
   ]
  },
  {
   "cell_type": "markdown",
   "metadata": {},
   "source": [
    "### 5.5 House Soiling Locations"
   ]
  },
  {
   "cell_type": "code",
   "execution_count": 255,
   "metadata": {},
   "outputs": [
    {
     "data": {
      "application/vnd.plotly.v1+json": {
       "data": [
        {
         "cells": {
          "align": [
           "left",
           "left",
           "left",
           "left",
           "left"
          ],
          "format": [
           null,
           "d",
           ".2f"
          ],
          "values": [
           [
            "specific locations",
            "anywhere"
           ],
           [
            306,
            264
           ],
           [
            8.162176580421447,
            7.04187783408909
           ]
          ]
         },
         "columnwidth": [
          200,
          100,
          100
         ],
         "header": {
          "align": [
           "left",
           "left",
           "left",
           "left",
           "left"
          ],
          "fill": {
           "color": "#B0C4DE"
          },
          "values": [
           "House Soiling Location",
           "Number of Dogs",
           "Prevalence (%)"
          ]
         },
         "type": "table"
        }
       ],
       "layout": {}
      },
      "text/html": [
       "<div id=\"f19f5f72-faba-4862-bf90-59e7563bde78\" style=\"height: 525px; width: 100%;\" class=\"plotly-graph-div\"></div><script type=\"text/javascript\">require([\"plotly\"], function(Plotly) { window.PLOTLYENV=window.PLOTLYENV || {};window.PLOTLYENV.BASE_URL=\"https://plot.ly\";Plotly.newPlot(\"f19f5f72-faba-4862-bf90-59e7563bde78\", [{\"type\": \"table\", \"columnwidth\": [200, 100, 100], \"header\": {\"values\": [\"House Soiling Location\", \"Number of Dogs\", \"Prevalence (%)\"], \"fill\": {\"color\": \"#B0C4DE\"}, \"align\": [\"left\", \"left\", \"left\", \"left\", \"left\"]}, \"cells\": {\"values\": [[\"specific locations\", \"anywhere\"], [306, 264], [8.162176580421447, 7.04187783408909]], \"align\": [\"left\", \"left\", \"left\", \"left\", \"left\"], \"format\": [null, \"d\", \".2f\"]}}], {}, {\"showLink\": true, \"linkText\": \"Export to plot.ly\"})});</script>"
      ],
      "text/vnd.plotly.v1+html": [
       "<div id=\"f19f5f72-faba-4862-bf90-59e7563bde78\" style=\"height: 525px; width: 100%;\" class=\"plotly-graph-div\"></div><script type=\"text/javascript\">require([\"plotly\"], function(Plotly) { window.PLOTLYENV=window.PLOTLYENV || {};window.PLOTLYENV.BASE_URL=\"https://plot.ly\";Plotly.newPlot(\"f19f5f72-faba-4862-bf90-59e7563bde78\", [{\"type\": \"table\", \"columnwidth\": [200, 100, 100], \"header\": {\"values\": [\"House Soiling Location\", \"Number of Dogs\", \"Prevalence (%)\"], \"fill\": {\"color\": \"#B0C4DE\"}, \"align\": [\"left\", \"left\", \"left\", \"left\", \"left\"]}, \"cells\": {\"values\": [[\"specific locations\", \"anywhere\"], [306, 264], [8.162176580421447, 7.04187783408909]], \"align\": [\"left\", \"left\", \"left\", \"left\", \"left\"], \"format\": [null, \"d\", \".2f\"]}}], {}, {\"showLink\": true, \"linkText\": \"Export to plot.ly\"})});</script>"
      ]
     },
     "metadata": {},
     "output_type": "display_data"
    }
   ],
   "source": [
    "# Create the necessary dataframe.\n",
    "query = ('SELECT question_reason_for_part_3, q06_soil_location_1, q06_soil_location_2 '\n",
    "         'FROM users JOIN dogs USING(record_id)')\n",
    "df = pd.read_sql_query(query, con)\n",
    "df.columns = ['suspicion', 'specific locations', 'anywhere']\n",
    "\n",
    "# Remove biased results and discard suspicion column.\n",
    "df = df[df['suspicion'] == '0']\n",
    "df.drop('suspicion', axis=1, inplace=True)\n",
    "\n",
    "# Convert columns to integer type.\n",
    "for col in df:\n",
    "    df[col] = pd.to_numeric(df[col])\n",
    "\n",
    "# Get individual behavior problem counts and display as a table.\n",
    "sums = df.sum()\n",
    "sums = sums.sort_values(ascending=False)\n",
    "\n",
    "# Calculate the prevalence of each behavior problem.\n",
    "prevalence_cal = lambda x: (x / total_dogs) * 100\n",
    "prevalences = sums.apply(prevalence_cal)\n",
    "\n",
    "# Get individual behavior problem counts and display as a table.\n",
    "trace = go.Table(\n",
    "    columnwidth = [200, 100, 100],\n",
    "    header=dict(values=['House Soiling Location', 'Number of Dogs', 'Prevalence (%)'],\n",
    "                fill = dict(color='#B0C4DE'),\n",
    "                align = ['left'] * 5),\n",
    "    cells=dict(values=[sums.index.values, sums.values, prevalences.values],\n",
    "               align = ['left'] * 5,\n",
    "               format = [None, 'd', '.2f']))\n",
    "data = [trace] \n",
    "py.iplot(data)"
   ]
  },
  {
   "cell_type": "code",
   "execution_count": 257,
   "metadata": {},
   "outputs": [
    {
     "data": {
      "application/vnd.plotly.v1+json": {
       "data": [
        {
         "orientation": "h",
         "type": "bar",
         "x": [
          7.04187783408909,
          8.162176580421447
         ],
         "y": [
          "anywhere",
          "specific locations"
         ]
        }
       ],
       "layout": {
        "height": 250,
        "title": "Prevalence of House Soiling Location",
        "width": 400,
        "xaxis": {
         "title": "prevalence (%)"
        },
        "yaxis": {
         "automargin": true,
         "tickangle": 30,
         "tickprefix": " ",
         "ticksuffix": " ",
         "title": ""
        }
       }
      },
      "text/html": [
       "<div id=\"aa3ce4c0-0061-43c6-bcdc-593a7f7d414b\" style=\"height: 250px; width: 400px;\" class=\"plotly-graph-div\"></div><script type=\"text/javascript\">require([\"plotly\"], function(Plotly) { window.PLOTLYENV=window.PLOTLYENV || {};window.PLOTLYENV.BASE_URL=\"https://plot.ly\";Plotly.newPlot(\"aa3ce4c0-0061-43c6-bcdc-593a7f7d414b\", [{\"type\": \"bar\", \"x\": [7.04187783408909, 8.162176580421447], \"y\": [\"anywhere\", \"specific locations\"], \"orientation\": \"h\"}], {\"title\": \"Prevalence of House Soiling Location\", \"xaxis\": {\"title\": \"prevalence (%)\"}, \"yaxis\": {\"title\": \"\", \"automargin\": true, \"tickangle\": 30, \"tickprefix\": \" \", \"ticksuffix\": \" \"}, \"width\": 400, \"height\": 250}, {\"showLink\": true, \"linkText\": \"Export to plot.ly\"})});</script>"
      ],
      "text/vnd.plotly.v1+html": [
       "<div id=\"aa3ce4c0-0061-43c6-bcdc-593a7f7d414b\" style=\"height: 250px; width: 400px;\" class=\"plotly-graph-div\"></div><script type=\"text/javascript\">require([\"plotly\"], function(Plotly) { window.PLOTLYENV=window.PLOTLYENV || {};window.PLOTLYENV.BASE_URL=\"https://plot.ly\";Plotly.newPlot(\"aa3ce4c0-0061-43c6-bcdc-593a7f7d414b\", [{\"type\": \"bar\", \"x\": [7.04187783408909, 8.162176580421447], \"y\": [\"anywhere\", \"specific locations\"], \"orientation\": \"h\"}], {\"title\": \"Prevalence of House Soiling Location\", \"xaxis\": {\"title\": \"prevalence (%)\"}, \"yaxis\": {\"title\": \"\", \"automargin\": true, \"tickangle\": 30, \"tickprefix\": \" \", \"ticksuffix\": \" \"}, \"width\": 400, \"height\": 250}, {\"showLink\": true, \"linkText\": \"Export to plot.ly\"})});</script>"
      ]
     },
     "metadata": {},
     "output_type": "display_data"
    }
   ],
   "source": [
    "# Generate a bar graph.\n",
    "prevalences = prevalences.sort_values(ascending=True)\n",
    "trace = go.Bar(\n",
    "    x=prevalences.values,\n",
    "    y=prevalences.index.values,\n",
    "    orientation='h')\n",
    "data = [trace]\n",
    "layout = go.Layout(title='Prevalence of House Soiling Location',\n",
    "                   xaxis=dict(title='prevalence (%)'),\n",
    "                   yaxis=dict(title='',\n",
    "                              automargin=True,\n",
    "                              tickangle=30,\n",
    "                              tickprefix=' ',\n",
    "                              ticksuffix=' '),\n",
    "                   width=400,\n",
    "                   height=250\n",
    "                  )\n",
    "fig = dict(data=data, layout=layout)\n",
    "py.iplot(fig)"
   ]
  },
  {
   "cell_type": "markdown",
   "metadata": {},
   "source": [
    "### 5.7 House Soiling Triggers"
   ]
  },
  {
   "cell_type": "code",
   "execution_count": 258,
   "metadata": {},
   "outputs": [
    {
     "data": {
      "application/vnd.plotly.v1+json": {
       "data": [
        {
         "cells": {
          "align": [
           "left",
           "left",
           "left",
           "left",
           "left"
          ],
          "format": [
           null,
           "d",
           ".2f"
          ],
          "values": [
           [
            "owner away",
            "owner present",
            "excited/overwhelmed"
           ],
           [
            407,
            373,
            111
           ],
           [
            10.856228327554014,
            9.949319818618298,
            2.9607895438783673
           ]
          ]
         },
         "columnwidth": [
          200,
          100,
          100
         ],
         "header": {
          "align": [
           "left",
           "left",
           "left",
           "left",
           "left"
          ],
          "fill": {
           "color": "#B0C4DE"
          },
          "values": [
           "House Soiling Situation",
           "Number of Dogs",
           "Prevalence (%)"
          ]
         },
         "type": "table"
        }
       ],
       "layout": {}
      },
      "text/html": [
       "<div id=\"fc33ccc8-fd07-463b-b81d-bafdc4403fe5\" style=\"height: 525px; width: 100%;\" class=\"plotly-graph-div\"></div><script type=\"text/javascript\">require([\"plotly\"], function(Plotly) { window.PLOTLYENV=window.PLOTLYENV || {};window.PLOTLYENV.BASE_URL=\"https://plot.ly\";Plotly.newPlot(\"fc33ccc8-fd07-463b-b81d-bafdc4403fe5\", [{\"type\": \"table\", \"columnwidth\": [200, 100, 100], \"header\": {\"values\": [\"House Soiling Situation\", \"Number of Dogs\", \"Prevalence (%)\"], \"fill\": {\"color\": \"#B0C4DE\"}, \"align\": [\"left\", \"left\", \"left\", \"left\", \"left\"]}, \"cells\": {\"values\": [[\"owner away\", \"owner present\", \"excited/overwhelmed\"], [407, 373, 111], [10.856228327554014, 9.949319818618298, 2.9607895438783673]], \"align\": [\"left\", \"left\", \"left\", \"left\", \"left\"], \"format\": [null, \"d\", \".2f\"]}}], {}, {\"showLink\": true, \"linkText\": \"Export to plot.ly\"})});</script>"
      ],
      "text/vnd.plotly.v1+html": [
       "<div id=\"fc33ccc8-fd07-463b-b81d-bafdc4403fe5\" style=\"height: 525px; width: 100%;\" class=\"plotly-graph-div\"></div><script type=\"text/javascript\">require([\"plotly\"], function(Plotly) { window.PLOTLYENV=window.PLOTLYENV || {};window.PLOTLYENV.BASE_URL=\"https://plot.ly\";Plotly.newPlot(\"fc33ccc8-fd07-463b-b81d-bafdc4403fe5\", [{\"type\": \"table\", \"columnwidth\": [200, 100, 100], \"header\": {\"values\": [\"House Soiling Situation\", \"Number of Dogs\", \"Prevalence (%)\"], \"fill\": {\"color\": \"#B0C4DE\"}, \"align\": [\"left\", \"left\", \"left\", \"left\", \"left\"]}, \"cells\": {\"values\": [[\"owner away\", \"owner present\", \"excited/overwhelmed\"], [407, 373, 111], [10.856228327554014, 9.949319818618298, 2.9607895438783673]], \"align\": [\"left\", \"left\", \"left\", \"left\", \"left\"], \"format\": [null, \"d\", \".2f\"]}}], {}, {\"showLink\": true, \"linkText\": \"Export to plot.ly\"})});</script>"
      ]
     },
     "metadata": {},
     "output_type": "display_data"
    }
   ],
   "source": [
    "# Create the necessary dataframe.\n",
    "query = ('SELECT question_reason_for_part_3, q06_situation_1, q06_situation_2, '\n",
    "         'q06_situation_3 FROM users JOIN dogs USING(record_id)')\n",
    "df = pd.read_sql_query(query, con)\n",
    "df.columns = ['suspicion', 'owner present', 'owner away', 'excited/overwhelmed']\n",
    "\n",
    "# Remove biased results and discard suspicion column.\n",
    "df = df[df['suspicion'] == '0']\n",
    "df.drop('suspicion', axis=1, inplace=True)\n",
    "\n",
    "# Convert columns to integer type.\n",
    "for col in df:\n",
    "    df[col] = pd.to_numeric(df[col])\n",
    "\n",
    "# Get individual behavior problem counts and display as a table.\n",
    "sums = df.sum()\n",
    "sums = sums.sort_values(ascending=False)\n",
    "\n",
    "# Calculate the prevalence of each behavior problem.\n",
    "prevalence_cal = lambda x: (x / total_dogs) * 100\n",
    "prevalences = sums.apply(prevalence_cal)\n",
    "\n",
    "# Get individual behavior problem counts and display as a table.\n",
    "trace = go.Table(\n",
    "    columnwidth = [200, 100, 100],\n",
    "    header=dict(values=['House Soiling Situation', 'Number of Dogs', 'Prevalence (%)'],\n",
    "                fill = dict(color='#B0C4DE'),\n",
    "                align = ['left'] * 5),\n",
    "    cells=dict(values=[sums.index.values, sums.values, prevalences.values],\n",
    "               align = ['left'] * 5,\n",
    "               format = [None, 'd', '.2f']))\n",
    "data = [trace] \n",
    "py.iplot(data)"
   ]
  },
  {
   "cell_type": "code",
   "execution_count": 259,
   "metadata": {},
   "outputs": [
    {
     "data": {
      "application/vnd.plotly.v1+json": {
       "data": [
        {
         "orientation": "h",
         "type": "bar",
         "x": [
          2.9607895438783673,
          9.949319818618298,
          10.856228327554014
         ],
         "y": [
          "excited/overwhelmed",
          "owner present",
          "owner away"
         ]
        }
       ],
       "layout": {
        "height": 275,
        "title": "Prevalence of House Soiling Situation",
        "width": 500,
        "xaxis": {
         "title": "prevalence (%)"
        },
        "yaxis": {
         "automargin": true,
         "tickangle": 30,
         "tickprefix": " ",
         "ticksuffix": " ",
         "title": ""
        }
       }
      },
      "text/html": [
       "<div id=\"e22aa0e3-ec81-4170-bf33-9a083b18720a\" style=\"height: 275px; width: 500px;\" class=\"plotly-graph-div\"></div><script type=\"text/javascript\">require([\"plotly\"], function(Plotly) { window.PLOTLYENV=window.PLOTLYENV || {};window.PLOTLYENV.BASE_URL=\"https://plot.ly\";Plotly.newPlot(\"e22aa0e3-ec81-4170-bf33-9a083b18720a\", [{\"type\": \"bar\", \"x\": [2.9607895438783673, 9.949319818618298, 10.856228327554014], \"y\": [\"excited/overwhelmed\", \"owner present\", \"owner away\"], \"orientation\": \"h\"}], {\"title\": \"Prevalence of House Soiling Situation\", \"xaxis\": {\"title\": \"prevalence (%)\"}, \"yaxis\": {\"title\": \"\", \"automargin\": true, \"tickangle\": 30, \"tickprefix\": \" \", \"ticksuffix\": \" \"}, \"width\": 500, \"height\": 275}, {\"showLink\": true, \"linkText\": \"Export to plot.ly\"})});</script>"
      ],
      "text/vnd.plotly.v1+html": [
       "<div id=\"e22aa0e3-ec81-4170-bf33-9a083b18720a\" style=\"height: 275px; width: 500px;\" class=\"plotly-graph-div\"></div><script type=\"text/javascript\">require([\"plotly\"], function(Plotly) { window.PLOTLYENV=window.PLOTLYENV || {};window.PLOTLYENV.BASE_URL=\"https://plot.ly\";Plotly.newPlot(\"e22aa0e3-ec81-4170-bf33-9a083b18720a\", [{\"type\": \"bar\", \"x\": [2.9607895438783673, 9.949319818618298, 10.856228327554014], \"y\": [\"excited/overwhelmed\", \"owner present\", \"owner away\"], \"orientation\": \"h\"}], {\"title\": \"Prevalence of House Soiling Situation\", \"xaxis\": {\"title\": \"prevalence (%)\"}, \"yaxis\": {\"title\": \"\", \"automargin\": true, \"tickangle\": 30, \"tickprefix\": \" \", \"ticksuffix\": \" \"}, \"width\": 500, \"height\": 275}, {\"showLink\": true, \"linkText\": \"Export to plot.ly\"})});</script>"
      ]
     },
     "metadata": {},
     "output_type": "display_data"
    }
   ],
   "source": [
    "# Generate a bar graph.\n",
    "prevalences = prevalences.sort_values(ascending=True)\n",
    "trace = go.Bar(\n",
    "    x=prevalences.values,\n",
    "    y=prevalences.index.values,\n",
    "    orientation='h')\n",
    "data = [trace]\n",
    "layout = go.Layout(title='Prevalence of House Soiling Situation',\n",
    "                   xaxis=dict(title='prevalence (%)'),\n",
    "                   yaxis=dict(title='',\n",
    "                              automargin=True,\n",
    "                              tickangle=30,\n",
    "                              tickprefix=' ',\n",
    "                              ticksuffix=' '),\n",
    "                   width=500,\n",
    "                   height=275\n",
    "                  )\n",
    "fig = dict(data=data, layout=layout)\n",
    "py.iplot(fig)"
   ]
  },
  {
   "cell_type": "markdown",
   "metadata": {},
   "source": [
    "### 5.8 Excessive Barking"
   ]
  },
  {
   "cell_type": "code",
   "execution_count": 234,
   "metadata": {},
   "outputs": [
    {
     "data": {
      "application/vnd.plotly.v1+json": {
       "data": [
        {
         "cells": {
          "align": [
           "left",
           "left",
           "left",
           "left",
           "left"
          ],
          "format": [
           null,
           "d",
           ".2f"
          ],
          "values": [
           [
            "at tiggers (inside)",
            "at triggers (outside)",
            "owner present",
            "to get attention",
            "owner away",
            "during car rides"
           ],
           [
            444,
            442,
            355,
            263,
            196,
            88
           ],
           [
            11.84315817551347,
            11.78981061616431,
            9.469191784475859,
            7.01520405441451,
            5.228060816217658,
            2.34729261136303
           ]
          ]
         },
         "columnwidth": [
          200,
          100,
          100
         ],
         "header": {
          "align": [
           "left",
           "left",
           "left",
           "left",
           "left"
          ],
          "fill": {
           "color": "#B0C4DE"
          },
          "values": [
           "Excessive Barking Scenario",
           "Number of Dogs",
           "Prevalence (%)"
          ]
         },
         "type": "table"
        }
       ],
       "layout": {}
      },
      "text/html": [
       "<div id=\"e95947b5-bd06-4f44-a6d8-814b8c2dbb5e\" style=\"height: 525px; width: 100%;\" class=\"plotly-graph-div\"></div><script type=\"text/javascript\">require([\"plotly\"], function(Plotly) { window.PLOTLYENV=window.PLOTLYENV || {};window.PLOTLYENV.BASE_URL=\"https://plot.ly\";Plotly.newPlot(\"e95947b5-bd06-4f44-a6d8-814b8c2dbb5e\", [{\"type\": \"table\", \"columnwidth\": [200, 100, 100], \"header\": {\"values\": [\"Excessive Barking Scenario\", \"Number of Dogs\", \"Prevalence (%)\"], \"fill\": {\"color\": \"#B0C4DE\"}, \"align\": [\"left\", \"left\", \"left\", \"left\", \"left\"]}, \"cells\": {\"values\": [[\"at tiggers (inside)\", \"at triggers (outside)\", \"owner present\", \"to get attention\", \"owner away\", \"during car rides\"], [444, 442, 355, 263, 196, 88], [11.84315817551347, 11.78981061616431, 9.469191784475859, 7.01520405441451, 5.228060816217658, 2.34729261136303]], \"align\": [\"left\", \"left\", \"left\", \"left\", \"left\"], \"format\": [null, \"d\", \".2f\"]}}], {}, {\"showLink\": true, \"linkText\": \"Export to plot.ly\"})});</script>"
      ],
      "text/vnd.plotly.v1+html": [
       "<div id=\"e95947b5-bd06-4f44-a6d8-814b8c2dbb5e\" style=\"height: 525px; width: 100%;\" class=\"plotly-graph-div\"></div><script type=\"text/javascript\">require([\"plotly\"], function(Plotly) { window.PLOTLYENV=window.PLOTLYENV || {};window.PLOTLYENV.BASE_URL=\"https://plot.ly\";Plotly.newPlot(\"e95947b5-bd06-4f44-a6d8-814b8c2dbb5e\", [{\"type\": \"table\", \"columnwidth\": [200, 100, 100], \"header\": {\"values\": [\"Excessive Barking Scenario\", \"Number of Dogs\", \"Prevalence (%)\"], \"fill\": {\"color\": \"#B0C4DE\"}, \"align\": [\"left\", \"left\", \"left\", \"left\", \"left\"]}, \"cells\": {\"values\": [[\"at tiggers (inside)\", \"at triggers (outside)\", \"owner present\", \"to get attention\", \"owner away\", \"during car rides\"], [444, 442, 355, 263, 196, 88], [11.84315817551347, 11.78981061616431, 9.469191784475859, 7.01520405441451, 5.228060816217658, 2.34729261136303]], \"align\": [\"left\", \"left\", \"left\", \"left\", \"left\"], \"format\": [null, \"d\", \".2f\"]}}], {}, {\"showLink\": true, \"linkText\": \"Export to plot.ly\"})});</script>"
      ]
     },
     "metadata": {},
     "output_type": "display_data"
    }
   ],
   "source": [
    "# Create the necessary dataframe.\n",
    "query = ('SELECT question_reason_for_part_3, q07_sitatuon_1, q07_sitatuon_2, '\n",
    "         'q07_sitatuon_3, q07_sitatuon_4, q07_sitatuon_5, q07_sitatuon_6 '\n",
    "         'FROM users JOIN dogs USING(record_id)')\n",
    "df = pd.read_sql_query(query, con)\n",
    "df.columns = ['suspicion', 'owner present', 'owner away', 'to get attention',\n",
    "              'at tiggers (inside)', 'at triggers (outside)', 'during car rides']\n",
    "\n",
    "# Remove biased results and discard suspicion column.\n",
    "df = df[df['suspicion'] == '0']\n",
    "df.drop('suspicion', axis=1, inplace=True)\n",
    "\n",
    "# Convert columns to integer type.\n",
    "for col in df:\n",
    "    df[col] = pd.to_numeric(df[col])\n",
    "\n",
    "# Get individual behavior problem counts and display as a table.\n",
    "sums = df.sum()\n",
    "sums = sums.sort_values(ascending=False)\n",
    "\n",
    "# Calculate the prevalence of each behavior problem.\n",
    "prevalence_cal = lambda x: (x / total_dogs) * 100\n",
    "prevalences = sums.apply(prevalence_cal)\n",
    "\n",
    "# Get individual behavior problem counts and display as a table.\n",
    "trace = go.Table(\n",
    "    columnwidth = [200, 100, 100],\n",
    "    header=dict(values=['Excessive Barking Scenario', 'Number of Dogs', 'Prevalence (%)'],\n",
    "                fill = dict(color='#B0C4DE'),\n",
    "                align = ['left'] * 5),\n",
    "    cells=dict(values=[sums.index.values, sums.values, prevalences.values],\n",
    "               align = ['left'] * 5,\n",
    "               format = [None, 'd', '.2f']))\n",
    "data = [trace] \n",
    "py.iplot(data)"
   ]
  },
  {
   "cell_type": "code",
   "execution_count": 235,
   "metadata": {},
   "outputs": [
    {
     "data": {
      "application/vnd.plotly.v1+json": {
       "data": [
        {
         "orientation": "h",
         "type": "bar",
         "x": [
          2.34729261136303,
          5.228060816217658,
          7.01520405441451,
          9.469191784475859,
          11.78981061616431,
          11.84315817551347
         ],
         "y": [
          "during car rides",
          "owner away",
          "to get attention",
          "owner present",
          "at triggers (outside)",
          "at tiggers (inside)"
         ]
        }
       ],
       "layout": {
        "height": 400,
        "title": "Prevalence of Excessive Barking",
        "width": 600,
        "xaxis": {
         "title": "prevalence (%)"
        },
        "yaxis": {
         "automargin": true,
         "tickangle": 30,
         "tickprefix": " ",
         "ticksuffix": " ",
         "title": ""
        }
       }
      },
      "text/html": [
       "<div id=\"8b156600-d31f-4079-b172-7b21ecb1aae9\" style=\"height: 400px; width: 600px;\" class=\"plotly-graph-div\"></div><script type=\"text/javascript\">require([\"plotly\"], function(Plotly) { window.PLOTLYENV=window.PLOTLYENV || {};window.PLOTLYENV.BASE_URL=\"https://plot.ly\";Plotly.newPlot(\"8b156600-d31f-4079-b172-7b21ecb1aae9\", [{\"type\": \"bar\", \"x\": [2.34729261136303, 5.228060816217658, 7.01520405441451, 9.469191784475859, 11.78981061616431, 11.84315817551347], \"y\": [\"during car rides\", \"owner away\", \"to get attention\", \"owner present\", \"at triggers (outside)\", \"at tiggers (inside)\"], \"orientation\": \"h\"}], {\"title\": \"Prevalence of Excessive Barking\", \"xaxis\": {\"title\": \"prevalence (%)\"}, \"yaxis\": {\"title\": \"\", \"automargin\": true, \"tickangle\": 30, \"tickprefix\": \" \", \"ticksuffix\": \" \"}, \"width\": 600, \"height\": 400}, {\"showLink\": true, \"linkText\": \"Export to plot.ly\"})});</script>"
      ],
      "text/vnd.plotly.v1+html": [
       "<div id=\"8b156600-d31f-4079-b172-7b21ecb1aae9\" style=\"height: 400px; width: 600px;\" class=\"plotly-graph-div\"></div><script type=\"text/javascript\">require([\"plotly\"], function(Plotly) { window.PLOTLYENV=window.PLOTLYENV || {};window.PLOTLYENV.BASE_URL=\"https://plot.ly\";Plotly.newPlot(\"8b156600-d31f-4079-b172-7b21ecb1aae9\", [{\"type\": \"bar\", \"x\": [2.34729261136303, 5.228060816217658, 7.01520405441451, 9.469191784475859, 11.78981061616431, 11.84315817551347], \"y\": [\"during car rides\", \"owner away\", \"to get attention\", \"owner present\", \"at triggers (outside)\", \"at tiggers (inside)\"], \"orientation\": \"h\"}], {\"title\": \"Prevalence of Excessive Barking\", \"xaxis\": {\"title\": \"prevalence (%)\"}, \"yaxis\": {\"title\": \"\", \"automargin\": true, \"tickangle\": 30, \"tickprefix\": \" \", \"ticksuffix\": \" \"}, \"width\": 600, \"height\": 400}, {\"showLink\": true, \"linkText\": \"Export to plot.ly\"})});</script>"
      ]
     },
     "metadata": {},
     "output_type": "display_data"
    }
   ],
   "source": [
    "# Generate a bar graph.\n",
    "prevalences = prevalences.sort_values(ascending=True)\n",
    "trace = go.Bar(\n",
    "    x=prevalences.values,\n",
    "    y=prevalences.index.values,\n",
    "    orientation='h')\n",
    "data = [trace]\n",
    "layout = go.Layout(title='Prevalence of Excessive Barking',\n",
    "                   xaxis=dict(title='prevalence (%)'),\n",
    "                   yaxis=dict(title='',\n",
    "                              automargin=True,\n",
    "                              tickangle=30,\n",
    "                              tickprefix=' ',\n",
    "                              ticksuffix=' '),\n",
    "                   width=600,\n",
    "                   height=400\n",
    "                  )\n",
    "fig = dict(data=data, layout=layout)\n",
    "py.iplot(fig)"
   ]
  },
  {
   "cell_type": "markdown",
   "metadata": {},
   "source": [
    "### 5.9 Mounting/Humping"
   ]
  },
  {
   "cell_type": "code",
   "execution_count": 236,
   "metadata": {},
   "outputs": [
    {
     "data": {
      "application/vnd.plotly.v1+json": {
       "data": [
        {
         "cells": {
          "align": [
           "left",
           "left",
           "left",
           "left",
           "left"
          ],
          "format": [
           null,
           "d",
           ".2f"
          ],
          "values": [
           [
            "family",
            "owner",
            "strangers"
           ],
           [
            834,
            694,
            617
           ],
           [
            22.245932248599626,
            18.511603094158442,
            16.45772205921579
           ]
          ]
         },
         "columnwidth": [
          200,
          100,
          100
         ],
         "header": {
          "align": [
           "left",
           "left",
           "left",
           "left",
           "left"
          ],
          "fill": {
           "color": "#B0C4DE"
          },
          "values": [
           "Mounting/Humping Target",
           "Number of Dogs",
           "Prevalence (%)"
          ]
         },
         "type": "table"
        }
       ],
       "layout": {}
      },
      "text/html": [
       "<div id=\"2d2a1c25-a1a7-4435-92f6-55685e568910\" style=\"height: 525px; width: 100%;\" class=\"plotly-graph-div\"></div><script type=\"text/javascript\">require([\"plotly\"], function(Plotly) { window.PLOTLYENV=window.PLOTLYENV || {};window.PLOTLYENV.BASE_URL=\"https://plot.ly\";Plotly.newPlot(\"2d2a1c25-a1a7-4435-92f6-55685e568910\", [{\"type\": \"table\", \"columnwidth\": [200, 100, 100], \"header\": {\"values\": [\"Mounting/Humping Target\", \"Number of Dogs\", \"Prevalence (%)\"], \"fill\": {\"color\": \"#B0C4DE\"}, \"align\": [\"left\", \"left\", \"left\", \"left\", \"left\"]}, \"cells\": {\"values\": [[\"family\", \"owner\", \"strangers\"], [834, 694, 617], [22.245932248599626, 18.511603094158442, 16.45772205921579]], \"align\": [\"left\", \"left\", \"left\", \"left\", \"left\"], \"format\": [null, \"d\", \".2f\"]}}], {}, {\"showLink\": true, \"linkText\": \"Export to plot.ly\"})});</script>"
      ],
      "text/vnd.plotly.v1+html": [
       "<div id=\"2d2a1c25-a1a7-4435-92f6-55685e568910\" style=\"height: 525px; width: 100%;\" class=\"plotly-graph-div\"></div><script type=\"text/javascript\">require([\"plotly\"], function(Plotly) { window.PLOTLYENV=window.PLOTLYENV || {};window.PLOTLYENV.BASE_URL=\"https://plot.ly\";Plotly.newPlot(\"2d2a1c25-a1a7-4435-92f6-55685e568910\", [{\"type\": \"table\", \"columnwidth\": [200, 100, 100], \"header\": {\"values\": [\"Mounting/Humping Target\", \"Number of Dogs\", \"Prevalence (%)\"], \"fill\": {\"color\": \"#B0C4DE\"}, \"align\": [\"left\", \"left\", \"left\", \"left\", \"left\"]}, \"cells\": {\"values\": [[\"family\", \"owner\", \"strangers\"], [834, 694, 617], [22.245932248599626, 18.511603094158442, 16.45772205921579]], \"align\": [\"left\", \"left\", \"left\", \"left\", \"left\"], \"format\": [null, \"d\", \".2f\"]}}], {}, {\"showLink\": true, \"linkText\": \"Export to plot.ly\"})});</script>"
      ]
     },
     "metadata": {},
     "output_type": "display_data"
    }
   ],
   "source": [
    "# Create the necessary dataframe.\n",
    "query = ('SELECT question_reason_for_part_3, q08_who_1, q08_who_2, q08_who_3 '\n",
    "         'FROM users JOIN dogs USING(record_id)')\n",
    "df = pd.read_sql_query(query, con)\n",
    "df.columns = ['suspicion', 'owner', 'family', 'strangers']\n",
    "\n",
    "# Remove biased results and discard suspicion column.\n",
    "df = df[df['suspicion'] == '0']\n",
    "df.drop('suspicion', axis=1, inplace=True)\n",
    "\n",
    "# Convert columns to integer type.\n",
    "for col in df:\n",
    "    df[col] = pd.to_numeric(df[col])\n",
    "\n",
    "# Get individual behavior problem counts and display as a table.\n",
    "sums = df.sum()\n",
    "sums = sums.sort_values(ascending=False)\n",
    "\n",
    "# Calculate the prevalence of each behavior problem.\n",
    "prevalence_cal = lambda x: (x / total_dogs) * 100\n",
    "prevalences = sums.apply(prevalence_cal)\n",
    "\n",
    "# Get individual behavior problem counts and display as a table.\n",
    "trace = go.Table(\n",
    "    columnwidth = [200, 100, 100],\n",
    "    header=dict(values=['Mounting/Humping Target', 'Number of Dogs', 'Prevalence (%)'],\n",
    "                fill = dict(color='#B0C4DE'),\n",
    "                align = ['left'] * 5),\n",
    "    cells=dict(values=[sums.index.values, sums.values, prevalences.values],\n",
    "               align = ['left'] * 5,\n",
    "               format = [None, 'd', '.2f']))\n",
    "data = [trace] \n",
    "py.iplot(data)"
   ]
  },
  {
   "cell_type": "code",
   "execution_count": 237,
   "metadata": {},
   "outputs": [
    {
     "data": {
      "application/vnd.plotly.v1+json": {
       "data": [
        {
         "orientation": "h",
         "type": "bar",
         "x": [
          16.45772205921579,
          18.511603094158442,
          22.245932248599626
         ],
         "y": [
          "strangers",
          "owner",
          "family"
         ]
        }
       ],
       "layout": {
        "height": 300,
        "title": "Prevalence of Mounting/Humping",
        "width": 400,
        "xaxis": {
         "title": "prevalence (%)"
        },
        "yaxis": {
         "automargin": true,
         "tickangle": 30,
         "tickprefix": " ",
         "ticksuffix": " ",
         "title": ""
        }
       }
      },
      "text/html": [
       "<div id=\"b985ff72-6983-4755-a6b9-b48e985c2352\" style=\"height: 300px; width: 400px;\" class=\"plotly-graph-div\"></div><script type=\"text/javascript\">require([\"plotly\"], function(Plotly) { window.PLOTLYENV=window.PLOTLYENV || {};window.PLOTLYENV.BASE_URL=\"https://plot.ly\";Plotly.newPlot(\"b985ff72-6983-4755-a6b9-b48e985c2352\", [{\"type\": \"bar\", \"x\": [16.45772205921579, 18.511603094158442, 22.245932248599626], \"y\": [\"strangers\", \"owner\", \"family\"], \"orientation\": \"h\"}], {\"title\": \"Prevalence of Mounting/Humping\", \"xaxis\": {\"title\": \"prevalence (%)\"}, \"yaxis\": {\"title\": \"\", \"automargin\": true, \"tickangle\": 30, \"tickprefix\": \" \", \"ticksuffix\": \" \"}, \"width\": 400, \"height\": 300}, {\"showLink\": true, \"linkText\": \"Export to plot.ly\"})});</script>"
      ],
      "text/vnd.plotly.v1+html": [
       "<div id=\"b985ff72-6983-4755-a6b9-b48e985c2352\" style=\"height: 300px; width: 400px;\" class=\"plotly-graph-div\"></div><script type=\"text/javascript\">require([\"plotly\"], function(Plotly) { window.PLOTLYENV=window.PLOTLYENV || {};window.PLOTLYENV.BASE_URL=\"https://plot.ly\";Plotly.newPlot(\"b985ff72-6983-4755-a6b9-b48e985c2352\", [{\"type\": \"bar\", \"x\": [16.45772205921579, 18.511603094158442, 22.245932248599626], \"y\": [\"strangers\", \"owner\", \"family\"], \"orientation\": \"h\"}], {\"title\": \"Prevalence of Mounting/Humping\", \"xaxis\": {\"title\": \"prevalence (%)\"}, \"yaxis\": {\"title\": \"\", \"automargin\": true, \"tickangle\": 30, \"tickprefix\": \" \", \"ticksuffix\": \" \"}, \"width\": 400, \"height\": 300}, {\"showLink\": true, \"linkText\": \"Export to plot.ly\"})});</script>"
      ]
     },
     "metadata": {},
     "output_type": "display_data"
    }
   ],
   "source": [
    "# Generate a bar graph.\n",
    "prevalences = prevalences.sort_values(ascending=True)\n",
    "trace = go.Bar(\n",
    "    x=prevalences.values,\n",
    "    y=prevalences.index.values,\n",
    "    orientation='h')\n",
    "data = [trace]\n",
    "layout = go.Layout(title='Prevalence of Mounting/Humping',\n",
    "                   xaxis=dict(title='prevalence (%)'),\n",
    "                   yaxis=dict(title='',\n",
    "                              automargin=True,\n",
    "                              tickangle=30,\n",
    "                              tickprefix=' ',\n",
    "                              ticksuffix=' '),\n",
    "                   width=400,\n",
    "                   height=300\n",
    "                  )\n",
    "fig = dict(data=data, layout=layout)\n",
    "py.iplot(fig)"
   ]
  },
  {
   "cell_type": "markdown",
   "metadata": {},
   "source": [
    "### 5.10 Consuming Feces"
   ]
  },
  {
   "cell_type": "code",
   "execution_count": 238,
   "metadata": {},
   "outputs": [
    {
     "data": {
      "application/vnd.plotly.v1+json": {
       "data": [
        {
         "cells": {
          "align": [
           "left",
           "left",
           "left",
           "left",
           "left"
          ],
          "format": [
           null,
           "d",
           ".2f"
          ],
          "values": [
           [
            "others dogs",
            "their own",
            "strangers",
            "other species"
           ],
           [
            236,
            137,
            102,
            94
           ],
           [
            6.295012003200854,
            3.6543078154174444,
            2.7207255268071484,
            2.5073352894105096
           ]
          ]
         },
         "columnwidth": [
          200,
          100,
          100
         ],
         "header": {
          "align": [
           "left",
           "left",
           "left",
           "left",
           "left"
          ],
          "fill": {
           "color": "#B0C4DE"
          },
          "values": [
           "Source of Feces Consumed",
           "Number of Dogs",
           "Prevalence (%)"
          ]
         },
         "type": "table"
        }
       ],
       "layout": {}
      },
      "text/html": [
       "<div id=\"889b34ca-4689-46b8-ab93-d156fede8039\" style=\"height: 525px; width: 100%;\" class=\"plotly-graph-div\"></div><script type=\"text/javascript\">require([\"plotly\"], function(Plotly) { window.PLOTLYENV=window.PLOTLYENV || {};window.PLOTLYENV.BASE_URL=\"https://plot.ly\";Plotly.newPlot(\"889b34ca-4689-46b8-ab93-d156fede8039\", [{\"type\": \"table\", \"columnwidth\": [200, 100, 100], \"header\": {\"values\": [\"Source of Feces Consumed\", \"Number of Dogs\", \"Prevalence (%)\"], \"fill\": {\"color\": \"#B0C4DE\"}, \"align\": [\"left\", \"left\", \"left\", \"left\", \"left\"]}, \"cells\": {\"values\": [[\"others dogs\", \"their own\", \"strangers\", \"other species\"], [236, 137, 102, 94], [6.295012003200854, 3.6543078154174444, 2.7207255268071484, 2.5073352894105096]], \"align\": [\"left\", \"left\", \"left\", \"left\", \"left\"], \"format\": [null, \"d\", \".2f\"]}}], {}, {\"showLink\": true, \"linkText\": \"Export to plot.ly\"})});</script>"
      ],
      "text/vnd.plotly.v1+html": [
       "<div id=\"889b34ca-4689-46b8-ab93-d156fede8039\" style=\"height: 525px; width: 100%;\" class=\"plotly-graph-div\"></div><script type=\"text/javascript\">require([\"plotly\"], function(Plotly) { window.PLOTLYENV=window.PLOTLYENV || {};window.PLOTLYENV.BASE_URL=\"https://plot.ly\";Plotly.newPlot(\"889b34ca-4689-46b8-ab93-d156fede8039\", [{\"type\": \"table\", \"columnwidth\": [200, 100, 100], \"header\": {\"values\": [\"Source of Feces Consumed\", \"Number of Dogs\", \"Prevalence (%)\"], \"fill\": {\"color\": \"#B0C4DE\"}, \"align\": [\"left\", \"left\", \"left\", \"left\", \"left\"]}, \"cells\": {\"values\": [[\"others dogs\", \"their own\", \"strangers\", \"other species\"], [236, 137, 102, 94], [6.295012003200854, 3.6543078154174444, 2.7207255268071484, 2.5073352894105096]], \"align\": [\"left\", \"left\", \"left\", \"left\", \"left\"], \"format\": [null, \"d\", \".2f\"]}}], {}, {\"showLink\": true, \"linkText\": \"Export to plot.ly\"})});</script>"
      ]
     },
     "metadata": {},
     "output_type": "display_data"
    }
   ],
   "source": [
    "# Create the necessary dataframe.\n",
    "query = ('SELECT question_reason_for_part_3, q09_main_1, q09_main_2, q09_main_3, q09_main_4 '\n",
    "         'FROM users JOIN dogs USING(record_id)')\n",
    "df = pd.read_sql_query(query, con)\n",
    "df.columns = ['suspicion', 'their own', 'others dogs', 'strangers', 'other species']\n",
    "\n",
    "# Remove biased results and discard suspicion column.\n",
    "df = df[df['suspicion'] == '0']\n",
    "df.drop('suspicion', axis=1, inplace=True)\n",
    "\n",
    "# Convert columns to integer type.\n",
    "for col in df:\n",
    "    df[col] = pd.to_numeric(df[col])\n",
    "\n",
    "# Get individual behavior problem counts and display as a table.\n",
    "sums = df.sum()\n",
    "sums = sums.sort_values(ascending=False)\n",
    "\n",
    "# Calculate the prevalence of each behavior problem.\n",
    "prevalence_cal = lambda x: (x / total_dogs) * 100\n",
    "prevalences = sums.apply(prevalence_cal)\n",
    "\n",
    "# Get individual behavior problem counts and display as a table.\n",
    "trace = go.Table(\n",
    "    columnwidth = [200, 100, 100],\n",
    "    header=dict(values=['Source of Feces Consumed', 'Number of Dogs', 'Prevalence (%)'],\n",
    "                fill = dict(color='#B0C4DE'),\n",
    "                align = ['left'] * 5),\n",
    "    cells=dict(values=[sums.index.values, sums.values, prevalences.values],\n",
    "               align = ['left'] * 5,\n",
    "               format = [None, 'd', '.2f']))\n",
    "data = [trace] \n",
    "py.iplot(data)"
   ]
  },
  {
   "cell_type": "code",
   "execution_count": 239,
   "metadata": {},
   "outputs": [
    {
     "data": {
      "application/vnd.plotly.v1+json": {
       "data": [
        {
         "orientation": "h",
         "type": "bar",
         "x": [
          2.5073352894105096,
          2.7207255268071484,
          3.6543078154174444,
          6.295012003200854
         ],
         "y": [
          "other species",
          "strangers",
          "their own",
          "others dogs"
         ]
        }
       ],
       "layout": {
        "height": 350,
        "title": "Prevalence of Fecal Consumption",
        "width": 500,
        "xaxis": {
         "title": "prevalence (%)"
        },
        "yaxis": {
         "automargin": true,
         "tickangle": 30,
         "tickprefix": " ",
         "ticksuffix": " ",
         "title": ""
        }
       }
      },
      "text/html": [
       "<div id=\"dcdd6cea-c447-4e9c-8213-2a8b60302085\" style=\"height: 350px; width: 500px;\" class=\"plotly-graph-div\"></div><script type=\"text/javascript\">require([\"plotly\"], function(Plotly) { window.PLOTLYENV=window.PLOTLYENV || {};window.PLOTLYENV.BASE_URL=\"https://plot.ly\";Plotly.newPlot(\"dcdd6cea-c447-4e9c-8213-2a8b60302085\", [{\"type\": \"bar\", \"x\": [2.5073352894105096, 2.7207255268071484, 3.6543078154174444, 6.295012003200854], \"y\": [\"other species\", \"strangers\", \"their own\", \"others dogs\"], \"orientation\": \"h\"}], {\"title\": \"Prevalence of Fecal Consumption\", \"xaxis\": {\"title\": \"prevalence (%)\"}, \"yaxis\": {\"title\": \"\", \"automargin\": true, \"tickangle\": 30, \"tickprefix\": \" \", \"ticksuffix\": \" \"}, \"width\": 500, \"height\": 350}, {\"showLink\": true, \"linkText\": \"Export to plot.ly\"})});</script>"
      ],
      "text/vnd.plotly.v1+html": [
       "<div id=\"dcdd6cea-c447-4e9c-8213-2a8b60302085\" style=\"height: 350px; width: 500px;\" class=\"plotly-graph-div\"></div><script type=\"text/javascript\">require([\"plotly\"], function(Plotly) { window.PLOTLYENV=window.PLOTLYENV || {};window.PLOTLYENV.BASE_URL=\"https://plot.ly\";Plotly.newPlot(\"dcdd6cea-c447-4e9c-8213-2a8b60302085\", [{\"type\": \"bar\", \"x\": [2.5073352894105096, 2.7207255268071484, 3.6543078154174444, 6.295012003200854], \"y\": [\"other species\", \"strangers\", \"their own\", \"others dogs\"], \"orientation\": \"h\"}], {\"title\": \"Prevalence of Fecal Consumption\", \"xaxis\": {\"title\": \"prevalence (%)\"}, \"yaxis\": {\"title\": \"\", \"automargin\": true, \"tickangle\": 30, \"tickprefix\": \" \", \"ticksuffix\": \" \"}, \"width\": 500, \"height\": 350}, {\"showLink\": true, \"linkText\": \"Export to plot.ly\"})});</script>"
      ]
     },
     "metadata": {},
     "output_type": "display_data"
    }
   ],
   "source": [
    "# Generate a bar graph.\n",
    "prevalences = prevalences.sort_values(ascending=True)\n",
    "trace = go.Bar(\n",
    "    x=prevalences.values,\n",
    "    y=prevalences.index.values,\n",
    "    orientation='h')\n",
    "data = [trace]\n",
    "layout = go.Layout(title='Prevalence of Fecal Consumption',\n",
    "                   xaxis=dict(title='prevalence (%)'),\n",
    "                   yaxis=dict(title='',\n",
    "                              automargin=True,\n",
    "                              tickangle=30,\n",
    "                              tickprefix=' ',\n",
    "                              ticksuffix=' '),\n",
    "                   width=500,\n",
    "                   height=350\n",
    "                  )\n",
    "fig = dict(data=data, layout=layout)\n",
    "py.iplot(fig)"
   ]
  },
  {
   "cell_type": "markdown",
   "metadata": {},
   "source": [
    "### 5.11 Destructive Behavior"
   ]
  },
  {
   "cell_type": "code",
   "execution_count": 261,
   "metadata": {},
   "outputs": [
    {
     "data": {
      "application/vnd.plotly.v1+json": {
       "data": [
        {
         "cells": {
          "align": [
           "left",
           "left",
           "left",
           "left",
           "left"
          ],
          "format": [
           null,
           "d",
           ".2f"
          ],
          "values": [
           [
            "owner is away",
            "owner is home"
           ],
           [
            353,
            194
           ],
           [
            9.4158442251267,
            5.174713256868499
           ]
          ]
         },
         "columnwidth": [
          200,
          100,
          100
         ],
         "header": {
          "align": [
           "left",
           "left",
           "left",
           "left",
           "left"
          ],
          "fill": {
           "color": "#B0C4DE"
          },
          "values": [
           "Destructive Behavior Situation",
           "Number of Dogs",
           "Prevalence (%)"
          ]
         },
         "type": "table"
        }
       ],
       "layout": {}
      },
      "text/html": [
       "<div id=\"161dcab9-7808-4511-ac67-7d54dbaad3b7\" style=\"height: 525px; width: 100%;\" class=\"plotly-graph-div\"></div><script type=\"text/javascript\">require([\"plotly\"], function(Plotly) { window.PLOTLYENV=window.PLOTLYENV || {};window.PLOTLYENV.BASE_URL=\"https://plot.ly\";Plotly.newPlot(\"161dcab9-7808-4511-ac67-7d54dbaad3b7\", [{\"type\": \"table\", \"columnwidth\": [200, 100, 100], \"header\": {\"values\": [\"Destructive Behavior Situation\", \"Number of Dogs\", \"Prevalence (%)\"], \"fill\": {\"color\": \"#B0C4DE\"}, \"align\": [\"left\", \"left\", \"left\", \"left\", \"left\"]}, \"cells\": {\"values\": [[\"owner is away\", \"owner is home\"], [353, 194], [9.4158442251267, 5.174713256868499]], \"align\": [\"left\", \"left\", \"left\", \"left\", \"left\"], \"format\": [null, \"d\", \".2f\"]}}], {}, {\"showLink\": true, \"linkText\": \"Export to plot.ly\"})});</script>"
      ],
      "text/vnd.plotly.v1+html": [
       "<div id=\"161dcab9-7808-4511-ac67-7d54dbaad3b7\" style=\"height: 525px; width: 100%;\" class=\"plotly-graph-div\"></div><script type=\"text/javascript\">require([\"plotly\"], function(Plotly) { window.PLOTLYENV=window.PLOTLYENV || {};window.PLOTLYENV.BASE_URL=\"https://plot.ly\";Plotly.newPlot(\"161dcab9-7808-4511-ac67-7d54dbaad3b7\", [{\"type\": \"table\", \"columnwidth\": [200, 100, 100], \"header\": {\"values\": [\"Destructive Behavior Situation\", \"Number of Dogs\", \"Prevalence (%)\"], \"fill\": {\"color\": \"#B0C4DE\"}, \"align\": [\"left\", \"left\", \"left\", \"left\", \"left\"]}, \"cells\": {\"values\": [[\"owner is away\", \"owner is home\"], [353, 194], [9.4158442251267, 5.174713256868499]], \"align\": [\"left\", \"left\", \"left\", \"left\", \"left\"], \"format\": [null, \"d\", \".2f\"]}}], {}, {\"showLink\": true, \"linkText\": \"Export to plot.ly\"})});</script>"
      ]
     },
     "metadata": {},
     "output_type": "display_data"
    }
   ],
   "source": [
    "# Create the necessary dataframe.\n",
    "query = ('SELECT question_reason_for_part_3, q11_situation_1, q11_situation_2 '\n",
    "         'FROM users JOIN dogs USING(record_id)')\n",
    "df = pd.read_sql_query(query, con)\n",
    "df.columns = ['suspicion', 'owner is home', 'owner is away']\n",
    "\n",
    "# Remove biased results and discard suspicion column.\n",
    "df = df[df['suspicion'] == '0']\n",
    "df.drop('suspicion', axis=1, inplace=True)\n",
    "\n",
    "# Convert columns to integer type.\n",
    "for col in df:\n",
    "    df[col] = pd.to_numeric(df[col])\n",
    "\n",
    "# Get individual behavior problem counts and display as a table.\n",
    "sums = df.sum()\n",
    "sums = sums.sort_values(ascending=False)\n",
    "\n",
    "# Calculate the prevalence of each behavior problem.\n",
    "prevalence_cal = lambda x: (x / total_dogs) * 100\n",
    "prevalences = sums.apply(prevalence_cal)\n",
    "\n",
    "# Get individual behavior problem counts and display as a table.\n",
    "trace = go.Table(\n",
    "    columnwidth = [200, 100, 100],\n",
    "    header=dict(values=['Destructive Behavior Situation', 'Number of Dogs', 'Prevalence (%)'],\n",
    "                fill = dict(color='#B0C4DE'),\n",
    "                align = ['left'] * 5),\n",
    "    cells=dict(values=[sums.index.values, sums.values, prevalences.values],\n",
    "               align = ['left'] * 5,\n",
    "               format = [None, 'd', '.2f']))\n",
    "data = [trace] \n",
    "py.iplot(data)"
   ]
  },
  {
   "cell_type": "code",
   "execution_count": 262,
   "metadata": {},
   "outputs": [
    {
     "data": {
      "application/vnd.plotly.v1+json": {
       "data": [
        {
         "orientation": "h",
         "type": "bar",
         "x": [
          5.174713256868499,
          9.4158442251267
         ],
         "y": [
          "owner is home",
          "owner is away"
         ]
        }
       ],
       "layout": {
        "height": 250,
        "title": "Prevalence of Destructive Behavior",
        "width": 400,
        "xaxis": {
         "title": "prevalence (%)"
        },
        "yaxis": {
         "automargin": true,
         "tickangle": 30,
         "tickprefix": " ",
         "ticksuffix": " ",
         "title": ""
        }
       }
      },
      "text/html": [
       "<div id=\"e174f8a1-dcb6-49da-ae71-dd4f7f1276c5\" style=\"height: 250px; width: 400px;\" class=\"plotly-graph-div\"></div><script type=\"text/javascript\">require([\"plotly\"], function(Plotly) { window.PLOTLYENV=window.PLOTLYENV || {};window.PLOTLYENV.BASE_URL=\"https://plot.ly\";Plotly.newPlot(\"e174f8a1-dcb6-49da-ae71-dd4f7f1276c5\", [{\"type\": \"bar\", \"x\": [5.174713256868499, 9.4158442251267], \"y\": [\"owner is home\", \"owner is away\"], \"orientation\": \"h\"}], {\"title\": \"Prevalence of Destructive Behavior\", \"xaxis\": {\"title\": \"prevalence (%)\"}, \"yaxis\": {\"title\": \"\", \"automargin\": true, \"tickangle\": 30, \"tickprefix\": \" \", \"ticksuffix\": \" \"}, \"width\": 400, \"height\": 250}, {\"showLink\": true, \"linkText\": \"Export to plot.ly\"})});</script>"
      ],
      "text/vnd.plotly.v1+html": [
       "<div id=\"e174f8a1-dcb6-49da-ae71-dd4f7f1276c5\" style=\"height: 250px; width: 400px;\" class=\"plotly-graph-div\"></div><script type=\"text/javascript\">require([\"plotly\"], function(Plotly) { window.PLOTLYENV=window.PLOTLYENV || {};window.PLOTLYENV.BASE_URL=\"https://plot.ly\";Plotly.newPlot(\"e174f8a1-dcb6-49da-ae71-dd4f7f1276c5\", [{\"type\": \"bar\", \"x\": [5.174713256868499, 9.4158442251267], \"y\": [\"owner is home\", \"owner is away\"], \"orientation\": \"h\"}], {\"title\": \"Prevalence of Destructive Behavior\", \"xaxis\": {\"title\": \"prevalence (%)\"}, \"yaxis\": {\"title\": \"\", \"automargin\": true, \"tickangle\": 30, \"tickprefix\": \" \", \"ticksuffix\": \" \"}, \"width\": 400, \"height\": 250}, {\"showLink\": true, \"linkText\": \"Export to plot.ly\"})});</script>"
      ]
     },
     "metadata": {},
     "output_type": "display_data"
    }
   ],
   "source": [
    "# Generate a bar graph.\n",
    "prevalences = prevalences.sort_values(ascending=True)\n",
    "trace = go.Bar(\n",
    "    x=prevalences.values,\n",
    "    y=prevalences.index.values,\n",
    "    orientation='h')\n",
    "data = [trace]\n",
    "layout = go.Layout(title='Prevalence of Destructive Behavior',\n",
    "                   xaxis=dict(title='prevalence (%)'),\n",
    "                   yaxis=dict(title='',\n",
    "                              automargin=True,\n",
    "                              tickangle=30,\n",
    "                              tickprefix=' ',\n",
    "                              ticksuffix=' '),\n",
    "                   width=400,\n",
    "                   height=250\n",
    "                  )\n",
    "fig = dict(data=data, layout=layout)\n",
    "py.iplot(fig)"
   ]
  },
  {
   "cell_type": "markdown",
   "metadata": {},
   "source": [
    "### 5.12 Rolling in Repulsive Objects"
   ]
  },
  {
   "cell_type": "code",
   "execution_count": 263,
   "metadata": {},
   "outputs": [
    {
     "data": {
      "application/vnd.plotly.v1+json": {
       "data": [
        {
         "cells": {
          "align": [
           "left",
           "left",
           "left",
           "left",
           "left"
          ],
          "format": [
           null,
           "d",
           ".2f"
          ],
          "values": [
           [
            "feces",
            "dead stuff",
            "urine"
           ],
           [
            376,
            373,
            306
           ],
           [
            10.029341157642039,
            9.949319818618298,
            8.162176580421447
           ]
          ]
         },
         "columnwidth": [
          200,
          100,
          100
         ],
         "header": {
          "align": [
           "left",
           "left",
           "left",
           "left",
           "left"
          ],
          "fill": {
           "color": "#B0C4DE"
          },
          "values": [
           "Rolling in Repulsive Objects",
           "Number of Dogs",
           "Prevalence (%)"
          ]
         },
         "type": "table"
        }
       ],
       "layout": {}
      },
      "text/html": [
       "<div id=\"03cd519b-4717-4835-bdfe-20b8f1268639\" style=\"height: 525px; width: 100%;\" class=\"plotly-graph-div\"></div><script type=\"text/javascript\">require([\"plotly\"], function(Plotly) { window.PLOTLYENV=window.PLOTLYENV || {};window.PLOTLYENV.BASE_URL=\"https://plot.ly\";Plotly.newPlot(\"03cd519b-4717-4835-bdfe-20b8f1268639\", [{\"type\": \"table\", \"columnwidth\": [200, 100, 100], \"header\": {\"values\": [\"Rolling in Repulsive Objects\", \"Number of Dogs\", \"Prevalence (%)\"], \"fill\": {\"color\": \"#B0C4DE\"}, \"align\": [\"left\", \"left\", \"left\", \"left\", \"left\"]}, \"cells\": {\"values\": [[\"feces\", \"dead stuff\", \"urine\"], [376, 373, 306], [10.029341157642039, 9.949319818618298, 8.162176580421447]], \"align\": [\"left\", \"left\", \"left\", \"left\", \"left\"], \"format\": [null, \"d\", \".2f\"]}}], {}, {\"showLink\": true, \"linkText\": \"Export to plot.ly\"})});</script>"
      ],
      "text/vnd.plotly.v1+html": [
       "<div id=\"03cd519b-4717-4835-bdfe-20b8f1268639\" style=\"height: 525px; width: 100%;\" class=\"plotly-graph-div\"></div><script type=\"text/javascript\">require([\"plotly\"], function(Plotly) { window.PLOTLYENV=window.PLOTLYENV || {};window.PLOTLYENV.BASE_URL=\"https://plot.ly\";Plotly.newPlot(\"03cd519b-4717-4835-bdfe-20b8f1268639\", [{\"type\": \"table\", \"columnwidth\": [200, 100, 100], \"header\": {\"values\": [\"Rolling in Repulsive Objects\", \"Number of Dogs\", \"Prevalence (%)\"], \"fill\": {\"color\": \"#B0C4DE\"}, \"align\": [\"left\", \"left\", \"left\", \"left\", \"left\"]}, \"cells\": {\"values\": [[\"feces\", \"dead stuff\", \"urine\"], [376, 373, 306], [10.029341157642039, 9.949319818618298, 8.162176580421447]], \"align\": [\"left\", \"left\", \"left\", \"left\", \"left\"], \"format\": [null, \"d\", \".2f\"]}}], {}, {\"showLink\": true, \"linkText\": \"Export to plot.ly\"})});</script>"
      ]
     },
     "metadata": {},
     "output_type": "display_data"
    }
   ],
   "source": [
    "# Create the necessary dataframe.\n",
    "query = ('SELECT question_reason_for_part_3, q10_main_1, q10_main_2, q10_main_3 '\n",
    "         'FROM users JOIN dogs USING(record_id)')\n",
    "df = pd.read_sql_query(query, con)\n",
    "df.columns = ['suspicion', 'urine', 'feces', 'dead stuff']\n",
    "\n",
    "# Remove biased results and discard suspicion column.\n",
    "df = df[df['suspicion'] == '0']\n",
    "df.drop('suspicion', axis=1, inplace=True)\n",
    "\n",
    "# Convert columns to integer type.\n",
    "for col in df:\n",
    "    df[col] = pd.to_numeric(df[col])\n",
    "\n",
    "# Get individual behavior problem counts and display as a table.\n",
    "sums = df.sum()\n",
    "sums = sums.sort_values(ascending=False)\n",
    "\n",
    "# Calculate the prevalence of each behavior problem.\n",
    "prevalence_cal = lambda x: (x / total_dogs) * 100\n",
    "prevalences = sums.apply(prevalence_cal)\n",
    "\n",
    "# Get individual behavior problem counts and display as a table.\n",
    "trace = go.Table(\n",
    "    columnwidth = [200, 100, 100],\n",
    "    header=dict(values=['Rolling in Repulsive Objects', 'Number of Dogs', 'Prevalence (%)'],\n",
    "                fill = dict(color='#B0C4DE'),\n",
    "                align = ['left'] * 5),\n",
    "    cells=dict(values=[sums.index.values, sums.values, prevalences.values],\n",
    "               align = ['left'] * 5,\n",
    "               format = [None, 'd', '.2f']))\n",
    "data = [trace] \n",
    "py.iplot(data)"
   ]
  },
  {
   "cell_type": "code",
   "execution_count": 264,
   "metadata": {},
   "outputs": [
    {
     "data": {
      "application/vnd.plotly.v1+json": {
       "data": [
        {
         "orientation": "h",
         "type": "bar",
         "x": [
          8.162176580421447,
          9.949319818618298,
          10.029341157642039
         ],
         "y": [
          "urine",
          "dead stuff",
          "feces"
         ]
        }
       ],
       "layout": {
        "height": 275,
        "title": "Prevalence of Rolling in Repulsive Objects",
        "width": 400,
        "xaxis": {
         "title": "prevalence (%)"
        },
        "yaxis": {
         "automargin": true,
         "tickangle": 30,
         "tickprefix": " ",
         "ticksuffix": " ",
         "title": ""
        }
       }
      },
      "text/html": [
       "<div id=\"cbdabd1d-3432-4611-91ce-840fd60d6567\" style=\"height: 275px; width: 400px;\" class=\"plotly-graph-div\"></div><script type=\"text/javascript\">require([\"plotly\"], function(Plotly) { window.PLOTLYENV=window.PLOTLYENV || {};window.PLOTLYENV.BASE_URL=\"https://plot.ly\";Plotly.newPlot(\"cbdabd1d-3432-4611-91ce-840fd60d6567\", [{\"type\": \"bar\", \"x\": [8.162176580421447, 9.949319818618298, 10.029341157642039], \"y\": [\"urine\", \"dead stuff\", \"feces\"], \"orientation\": \"h\"}], {\"title\": \"Prevalence of Rolling in Repulsive Objects\", \"xaxis\": {\"title\": \"prevalence (%)\"}, \"yaxis\": {\"title\": \"\", \"automargin\": true, \"tickangle\": 30, \"tickprefix\": \" \", \"ticksuffix\": \" \"}, \"width\": 400, \"height\": 275}, {\"showLink\": true, \"linkText\": \"Export to plot.ly\"})});</script>"
      ],
      "text/vnd.plotly.v1+html": [
       "<div id=\"cbdabd1d-3432-4611-91ce-840fd60d6567\" style=\"height: 275px; width: 400px;\" class=\"plotly-graph-div\"></div><script type=\"text/javascript\">require([\"plotly\"], function(Plotly) { window.PLOTLYENV=window.PLOTLYENV || {};window.PLOTLYENV.BASE_URL=\"https://plot.ly\";Plotly.newPlot(\"cbdabd1d-3432-4611-91ce-840fd60d6567\", [{\"type\": \"bar\", \"x\": [8.162176580421447, 9.949319818618298, 10.029341157642039], \"y\": [\"urine\", \"dead stuff\", \"feces\"], \"orientation\": \"h\"}], {\"title\": \"Prevalence of Rolling in Repulsive Objects\", \"xaxis\": {\"title\": \"prevalence (%)\"}, \"yaxis\": {\"title\": \"\", \"automargin\": true, \"tickangle\": 30, \"tickprefix\": \" \", \"ticksuffix\": \" \"}, \"width\": 400, \"height\": 275}, {\"showLink\": true, \"linkText\": \"Export to plot.ly\"})});</script>"
      ]
     },
     "metadata": {},
     "output_type": "display_data"
    }
   ],
   "source": [
    "# Generate a bar graph.\n",
    "prevalences = prevalences.sort_values(ascending=True)\n",
    "trace = go.Bar(\n",
    "    x=prevalences.values,\n",
    "    y=prevalences.index.values,\n",
    "    orientation='h')\n",
    "data = [trace]\n",
    "layout = go.Layout(title='Prevalence of Rolling in Repulsive Objects',\n",
    "                   xaxis=dict(title='prevalence (%)'),\n",
    "                   yaxis=dict(title='',\n",
    "                              automargin=True,\n",
    "                              tickangle=30,\n",
    "                              tickprefix=' ',\n",
    "                              ticksuffix=' '),\n",
    "                   width=400,\n",
    "                   height=275\n",
    "                  )\n",
    "fig = dict(data=data, layout=layout)\n",
    "py.iplot(fig)"
   ]
  },
  {
   "cell_type": "markdown",
   "metadata": {},
   "source": [
    "### 5.13 Running Away"
   ]
  },
  {
   "cell_type": "code",
   "execution_count": 244,
   "metadata": {},
   "outputs": [
    {
     "data": {
      "application/vnd.plotly.v1+json": {
       "data": [
        {
         "cells": {
          "align": [
           "left",
           "left",
           "left",
           "left",
           "left"
          ],
          "format": [
           null,
           "d",
           ".2f"
          ],
          "values": [
           [
            "escapes from home",
            "escapes when out",
            "escapes from confinement",
            "returns home after escape"
           ],
           [
            219,
            188,
            173,
            140
           ],
           [
            5.8415577487329955,
            5.014670578821019,
            4.614563883702321,
            3.734329154441184
           ]
          ]
         },
         "columnwidth": [
          200,
          100,
          100
         ],
         "header": {
          "align": [
           "left",
           "left",
           "left",
           "left",
           "left"
          ],
          "fill": {
           "color": "#B0C4DE"
          },
          "values": [
           "Running Away",
           "Number of Dogs",
           "Prevalence (%)"
          ]
         },
         "type": "table"
        }
       ],
       "layout": {}
      },
      "text/html": [
       "<div id=\"99f5395e-e52b-4dbe-9547-368df80e26e5\" style=\"height: 525px; width: 100%;\" class=\"plotly-graph-div\"></div><script type=\"text/javascript\">require([\"plotly\"], function(Plotly) { window.PLOTLYENV=window.PLOTLYENV || {};window.PLOTLYENV.BASE_URL=\"https://plot.ly\";Plotly.newPlot(\"99f5395e-e52b-4dbe-9547-368df80e26e5\", [{\"type\": \"table\", \"columnwidth\": [200, 100, 100], \"header\": {\"values\": [\"Running Away\", \"Number of Dogs\", \"Prevalence (%)\"], \"fill\": {\"color\": \"#B0C4DE\"}, \"align\": [\"left\", \"left\", \"left\", \"left\", \"left\"]}, \"cells\": {\"values\": [[\"escapes from home\", \"escapes when out\", \"escapes from confinement\", \"returns home after escape\"], [219.0, 188.0, 173.0, 140.0], [5.8415577487329955, 5.014670578821019, 4.614563883702321, 3.734329154441184]], \"align\": [\"left\", \"left\", \"left\", \"left\", \"left\"], \"format\": [null, \"d\", \".2f\"]}}], {}, {\"showLink\": true, \"linkText\": \"Export to plot.ly\"})});</script>"
      ],
      "text/vnd.plotly.v1+html": [
       "<div id=\"99f5395e-e52b-4dbe-9547-368df80e26e5\" style=\"height: 525px; width: 100%;\" class=\"plotly-graph-div\"></div><script type=\"text/javascript\">require([\"plotly\"], function(Plotly) { window.PLOTLYENV=window.PLOTLYENV || {};window.PLOTLYENV.BASE_URL=\"https://plot.ly\";Plotly.newPlot(\"99f5395e-e52b-4dbe-9547-368df80e26e5\", [{\"type\": \"table\", \"columnwidth\": [200, 100, 100], \"header\": {\"values\": [\"Running Away\", \"Number of Dogs\", \"Prevalence (%)\"], \"fill\": {\"color\": \"#B0C4DE\"}, \"align\": [\"left\", \"left\", \"left\", \"left\", \"left\"]}, \"cells\": {\"values\": [[\"escapes from home\", \"escapes when out\", \"escapes from confinement\", \"returns home after escape\"], [219.0, 188.0, 173.0, 140.0], [5.8415577487329955, 5.014670578821019, 4.614563883702321, 3.734329154441184]], \"align\": [\"left\", \"left\", \"left\", \"left\", \"left\"], \"format\": [null, \"d\", \".2f\"]}}], {}, {\"showLink\": true, \"linkText\": \"Export to plot.ly\"})});</script>"
      ]
     },
     "metadata": {},
     "output_type": "display_data"
    }
   ],
   "source": [
    "# Create the necessary dataframe.\n",
    "query = ('SELECT question_reason_for_part_3, q14_out, q14_house, q14_conf, q14_return FROM '\n",
    "         'users JOIN dogs USING(record_id)')\n",
    "df = pd.read_sql_query(query, con)\n",
    "df.columns = ['suspicion', 'escapes when out', 'escapes from home',\n",
    "              'escapes from confinement', 'returns home after escape']\n",
    "\n",
    "# Remove biased results and discard suspicion column.\n",
    "df = df[df['suspicion'] == '0']\n",
    "df.drop('suspicion', axis=1, inplace=True)\n",
    "\n",
    "# Convert columns to integer type.\n",
    "for col in df:\n",
    "    df[col] = pd.to_numeric(df[col])\n",
    "\n",
    "# Get individual behavior problem counts and display as a table.\n",
    "sums = df.sum()\n",
    "sums = sums.sort_values(ascending=False)\n",
    "\n",
    "# Calculate the prevalence of each behavior problem.\n",
    "prevalence_cal = lambda x: (x / total_dogs) * 100\n",
    "prevalences = sums.apply(prevalence_cal)\n",
    "\n",
    "# Get individual behavior problem counts and display as a table.\n",
    "trace = go.Table(\n",
    "    columnwidth = [200, 100, 100],\n",
    "    header=dict(values=['Running Away', 'Number of Dogs', 'Prevalence (%)'],\n",
    "                fill = dict(color='#B0C4DE'),\n",
    "                align = ['left'] * 5),\n",
    "    cells=dict(values=[sums.index.values, sums.values, prevalences.values],\n",
    "               align = ['left'] * 5,\n",
    "               format = [None, 'd', '.2f']))\n",
    "data = [trace] \n",
    "py.iplot(data)"
   ]
  },
  {
   "cell_type": "code",
   "execution_count": 245,
   "metadata": {},
   "outputs": [
    {
     "data": {
      "application/vnd.plotly.v1+json": {
       "data": [
        {
         "orientation": "h",
         "type": "bar",
         "x": [
          3.734329154441184,
          4.614563883702321,
          5.014670578821019,
          5.8415577487329955
         ],
         "y": [
          "returns home after escape",
          "escapes from confinement",
          "escapes when out",
          "escapes from home"
         ]
        }
       ],
       "layout": {
        "height": 325,
        "title": "Prevalence of Running Away",
        "width": 500,
        "xaxis": {
         "title": "prevalence (%)"
        },
        "yaxis": {
         "automargin": true,
         "tickangle": 30,
         "tickprefix": " ",
         "ticksuffix": " ",
         "title": ""
        }
       }
      },
      "text/html": [
       "<div id=\"9ba19b23-8e62-45ff-bdbc-15aee6271c31\" style=\"height: 325px; width: 500px;\" class=\"plotly-graph-div\"></div><script type=\"text/javascript\">require([\"plotly\"], function(Plotly) { window.PLOTLYENV=window.PLOTLYENV || {};window.PLOTLYENV.BASE_URL=\"https://plot.ly\";Plotly.newPlot(\"9ba19b23-8e62-45ff-bdbc-15aee6271c31\", [{\"type\": \"bar\", \"x\": [3.734329154441184, 4.614563883702321, 5.014670578821019, 5.8415577487329955], \"y\": [\"returns home after escape\", \"escapes from confinement\", \"escapes when out\", \"escapes from home\"], \"orientation\": \"h\"}], {\"title\": \"Prevalence of Running Away\", \"xaxis\": {\"title\": \"prevalence (%)\"}, \"yaxis\": {\"title\": \"\", \"automargin\": true, \"tickangle\": 30, \"tickprefix\": \" \", \"ticksuffix\": \" \"}, \"width\": 500, \"height\": 325}, {\"showLink\": true, \"linkText\": \"Export to plot.ly\"})});</script>"
      ],
      "text/vnd.plotly.v1+html": [
       "<div id=\"9ba19b23-8e62-45ff-bdbc-15aee6271c31\" style=\"height: 325px; width: 500px;\" class=\"plotly-graph-div\"></div><script type=\"text/javascript\">require([\"plotly\"], function(Plotly) { window.PLOTLYENV=window.PLOTLYENV || {};window.PLOTLYENV.BASE_URL=\"https://plot.ly\";Plotly.newPlot(\"9ba19b23-8e62-45ff-bdbc-15aee6271c31\", [{\"type\": \"bar\", \"x\": [3.734329154441184, 4.614563883702321, 5.014670578821019, 5.8415577487329955], \"y\": [\"returns home after escape\", \"escapes from confinement\", \"escapes when out\", \"escapes from home\"], \"orientation\": \"h\"}], {\"title\": \"Prevalence of Running Away\", \"xaxis\": {\"title\": \"prevalence (%)\"}, \"yaxis\": {\"title\": \"\", \"automargin\": true, \"tickangle\": 30, \"tickprefix\": \" \", \"ticksuffix\": \" \"}, \"width\": 500, \"height\": 325}, {\"showLink\": true, \"linkText\": \"Export to plot.ly\"})});</script>"
      ]
     },
     "metadata": {},
     "output_type": "display_data"
    }
   ],
   "source": [
    "# Generate a bar graph.\n",
    "prevalences = prevalences.sort_values(ascending=True)\n",
    "trace = go.Bar(\n",
    "    x=prevalences.values,\n",
    "    y=prevalences.index.values,\n",
    "    orientation='h')\n",
    "data = [trace]\n",
    "layout = go.Layout(title='Prevalence of Running Away',\n",
    "                   xaxis=dict(title='prevalence (%)'),\n",
    "                   yaxis=dict(title='',\n",
    "                              automargin=True,\n",
    "                              tickangle=30,\n",
    "                              tickprefix=' ',\n",
    "                              ticksuffix=' '),\n",
    "                   width=500,\n",
    "                   height=325\n",
    "                  )\n",
    "fig = dict(data=data, layout=layout)\n",
    "py.iplot(fig)"
   ]
  },
  {
   "cell_type": "markdown",
   "metadata": {},
   "source": [
    "### 5.14 Types of Overactivity/Hyperactivity"
   ]
  },
  {
   "cell_type": "code",
   "execution_count": 246,
   "metadata": {},
   "outputs": [
    {
     "data": {
      "application/vnd.plotly.v1+json": {
       "data": [
        {
         "cells": {
          "align": [
           "left",
           "left",
           "left",
           "left",
           "left"
          ],
          "format": [
           null,
           "d",
           ".2f"
          ],
          "values": [
           [
            "difficulty settling",
            "constant moving/jumping",
            "impulsive",
            "highly distractible"
           ],
           [
            282,
            250,
            238,
            192
           ],
           [
            7.522005868231528,
            6.668444918644973,
            6.348359562550013,
            5.121365697519339
           ]
          ]
         },
         "columnwidth": [
          200,
          100,
          100
         ],
         "header": {
          "align": [
           "left",
           "left",
           "left",
           "left",
           "left"
          ],
          "fill": {
           "color": "#B0C4DE"
          },
          "values": [
           "Overactivity/Hyperactivity",
           "Number of Dogs",
           "Prevalence (%)"
          ]
         },
         "type": "table"
        }
       ],
       "layout": {}
      },
      "text/html": [
       "<div id=\"145a3990-bc53-4a79-a70c-48ce5d597341\" style=\"height: 525px; width: 100%;\" class=\"plotly-graph-div\"></div><script type=\"text/javascript\">require([\"plotly\"], function(Plotly) { window.PLOTLYENV=window.PLOTLYENV || {};window.PLOTLYENV.BASE_URL=\"https://plot.ly\";Plotly.newPlot(\"145a3990-bc53-4a79-a70c-48ce5d597341\", [{\"type\": \"table\", \"columnwidth\": [200, 100, 100], \"header\": {\"values\": [\"Overactivity/Hyperactivity\", \"Number of Dogs\", \"Prevalence (%)\"], \"fill\": {\"color\": \"#B0C4DE\"}, \"align\": [\"left\", \"left\", \"left\", \"left\", \"left\"]}, \"cells\": {\"values\": [[\"difficulty settling\", \"constant moving/jumping\", \"impulsive\", \"highly distractible\"], [282, 250, 238, 192], [7.522005868231528, 6.668444918644973, 6.348359562550013, 5.121365697519339]], \"align\": [\"left\", \"left\", \"left\", \"left\", \"left\"], \"format\": [null, \"d\", \".2f\"]}}], {}, {\"showLink\": true, \"linkText\": \"Export to plot.ly\"})});</script>"
      ],
      "text/vnd.plotly.v1+html": [
       "<div id=\"145a3990-bc53-4a79-a70c-48ce5d597341\" style=\"height: 525px; width: 100%;\" class=\"plotly-graph-div\"></div><script type=\"text/javascript\">require([\"plotly\"], function(Plotly) { window.PLOTLYENV=window.PLOTLYENV || {};window.PLOTLYENV.BASE_URL=\"https://plot.ly\";Plotly.newPlot(\"145a3990-bc53-4a79-a70c-48ce5d597341\", [{\"type\": \"table\", \"columnwidth\": [200, 100, 100], \"header\": {\"values\": [\"Overactivity/Hyperactivity\", \"Number of Dogs\", \"Prevalence (%)\"], \"fill\": {\"color\": \"#B0C4DE\"}, \"align\": [\"left\", \"left\", \"left\", \"left\", \"left\"]}, \"cells\": {\"values\": [[\"difficulty settling\", \"constant moving/jumping\", \"impulsive\", \"highly distractible\"], [282, 250, 238, 192], [7.522005868231528, 6.668444918644973, 6.348359562550013, 5.121365697519339]], \"align\": [\"left\", \"left\", \"left\", \"left\", \"left\"], \"format\": [null, \"d\", \".2f\"]}}], {}, {\"showLink\": true, \"linkText\": \"Export to plot.ly\"})});</script>"
      ]
     },
     "metadata": {},
     "output_type": "display_data"
    }
   ],
   "source": [
    "# Create the necessary dataframe.\n",
    "query = ('SELECT question_reason_for_part_3, q15_main_1, q15_main_2, q15_main_3, q15_main_4 '\n",
    "         'FROM users JOIN dogs USING(record_id)')\n",
    "df = pd.read_sql_query(query, con)\n",
    "df.columns = ['suspicion', 'constant moving/jumping', 'difficulty settling',\n",
    "              'highly distractible', 'impulsive']\n",
    "\n",
    "# Remove biased results and discard suspicion column.\n",
    "df = df[df['suspicion'] == '0']\n",
    "df.drop('suspicion', axis=1, inplace=True)\n",
    "\n",
    "# Convert columns to integer type.\n",
    "for col in df:\n",
    "    df[col] = pd.to_numeric(df[col])\n",
    "\n",
    "# Get individual behavior problem counts and display as a table.\n",
    "sums = df.sum()\n",
    "sums = sums.sort_values(ascending=False)\n",
    "\n",
    "# Calculate the prevalence of each behavior problem.\n",
    "prevalence_cal = lambda x: (x / total_dogs) * 100\n",
    "prevalences = sums.apply(prevalence_cal)\n",
    "\n",
    "# Get individual behavior problem counts and display as a table.\n",
    "trace = go.Table(\n",
    "    columnwidth = [200, 100, 100],\n",
    "    header=dict(values=['Overactivity/Hyperactivity', 'Number of Dogs', 'Prevalence (%)'],\n",
    "                fill = dict(color='#B0C4DE'),\n",
    "                align = ['left'] * 5),\n",
    "    cells=dict(values=[sums.index.values, sums.values, prevalences.values],\n",
    "               align = ['left'] * 5,\n",
    "               format = [None, 'd', '.2f']))\n",
    "data = [trace] \n",
    "py.iplot(data)"
   ]
  },
  {
   "cell_type": "code",
   "execution_count": 247,
   "metadata": {},
   "outputs": [
    {
     "data": {
      "application/vnd.plotly.v1+json": {
       "data": [
        {
         "orientation": "h",
         "type": "bar",
         "x": [
          5.121365697519339,
          6.348359562550013,
          6.668444918644973,
          7.522005868231528
         ],
         "y": [
          "highly distractible",
          "impulsive",
          "constant moving/jumping",
          "difficulty settling"
         ]
        }
       ],
       "layout": {
        "height": 300,
        "title": "Prevalence of Overactivity/Hyperactivity",
        "width": 500,
        "xaxis": {
         "title": "prevalence (%)"
        },
        "yaxis": {
         "automargin": true,
         "tickangle": 30,
         "tickprefix": " ",
         "ticksuffix": " ",
         "title": ""
        }
       }
      },
      "text/html": [
       "<div id=\"d0b9485f-9a52-44ce-9010-46a86aa903d7\" style=\"height: 300px; width: 500px;\" class=\"plotly-graph-div\"></div><script type=\"text/javascript\">require([\"plotly\"], function(Plotly) { window.PLOTLYENV=window.PLOTLYENV || {};window.PLOTLYENV.BASE_URL=\"https://plot.ly\";Plotly.newPlot(\"d0b9485f-9a52-44ce-9010-46a86aa903d7\", [{\"type\": \"bar\", \"x\": [5.121365697519339, 6.348359562550013, 6.668444918644973, 7.522005868231528], \"y\": [\"highly distractible\", \"impulsive\", \"constant moving/jumping\", \"difficulty settling\"], \"orientation\": \"h\"}], {\"title\": \"Prevalence of Overactivity/Hyperactivity\", \"xaxis\": {\"title\": \"prevalence (%)\"}, \"yaxis\": {\"title\": \"\", \"automargin\": true, \"tickangle\": 30, \"tickprefix\": \" \", \"ticksuffix\": \" \"}, \"width\": 500, \"height\": 300}, {\"showLink\": true, \"linkText\": \"Export to plot.ly\"})});</script>"
      ],
      "text/vnd.plotly.v1+html": [
       "<div id=\"d0b9485f-9a52-44ce-9010-46a86aa903d7\" style=\"height: 300px; width: 500px;\" class=\"plotly-graph-div\"></div><script type=\"text/javascript\">require([\"plotly\"], function(Plotly) { window.PLOTLYENV=window.PLOTLYENV || {};window.PLOTLYENV.BASE_URL=\"https://plot.ly\";Plotly.newPlot(\"d0b9485f-9a52-44ce-9010-46a86aa903d7\", [{\"type\": \"bar\", \"x\": [5.121365697519339, 6.348359562550013, 6.668444918644973, 7.522005868231528], \"y\": [\"highly distractible\", \"impulsive\", \"constant moving/jumping\", \"difficulty settling\"], \"orientation\": \"h\"}], {\"title\": \"Prevalence of Overactivity/Hyperactivity\", \"xaxis\": {\"title\": \"prevalence (%)\"}, \"yaxis\": {\"title\": \"\", \"automargin\": true, \"tickangle\": 30, \"tickprefix\": \" \", \"ticksuffix\": \" \"}, \"width\": 500, \"height\": 300}, {\"showLink\": true, \"linkText\": \"Export to plot.ly\"})});</script>"
      ]
     },
     "metadata": {},
     "output_type": "display_data"
    }
   ],
   "source": [
    "# Generate a bar graph.\n",
    "prevalences = prevalences.sort_values(ascending=True)\n",
    "trace = go.Bar(\n",
    "    x=prevalences.values,\n",
    "    y=prevalences.index.values,\n",
    "    orientation='h')\n",
    "data = [trace]\n",
    "layout = go.Layout(title='Prevalence of Overactivity/Hyperactivity',\n",
    "                   xaxis=dict(title='prevalence (%)'),\n",
    "                   yaxis=dict(title='',\n",
    "                              automargin=True,\n",
    "                              tickangle=30,\n",
    "                              tickprefix=' ',\n",
    "                              ticksuffix=' '),\n",
    "                   width=500,\n",
    "                   height=300\n",
    "                  )\n",
    "fig = dict(data=data, layout=layout)\n",
    "py.iplot(fig)"
   ]
  },
  {
   "cell_type": "markdown",
   "metadata": {},
   "source": [
    "## 6. Separation Anxiety, Noise Phobia, and Thunderstorm Phobia"
   ]
  },
  {
   "cell_type": "code",
   "execution_count": 248,
   "metadata": {},
   "outputs": [
    {
     "data": {
      "image/png": "[encoded data removed]",
      "text/plain": [
       "<Figure size 432x288 with 1 Axes>"
      ]
     },
     "metadata": {},
     "output_type": "display_data"
    },
    {
     "name": "stdout",
     "output_type": "stream",
     "text": [
      "Chi-squared Test of Independence for thunderstorm phobia and noise phobia:\n",
      "chi2 = 1200.877626, p = 3.93E-263, dof = 1\n",
      "The resulting p-value is below the set significance threshold (0.01).\n"
     ]
    },
    {
     "data": {
      "image/png": "[encoded data removed]",
      "text/plain": [
       "<Figure size 432x288 with 1 Axes>"
      ]
     },
     "metadata": {},
     "output_type": "display_data"
    },
    {
     "name": "stdout",
     "output_type": "stream",
     "text": [
      "Chi-squared Test of Independence for thunderstorm phobia and separation anxiety:\n",
      "chi2 = 160.293122, p = 9.76E-37, dof = 1\n",
      "The resulting p-value is below the set significance threshold (0.01).\n"
     ]
    },
    {
     "data": {
      "image/png": "[encoded data removed]",
      "text/plain": [
       "<Figure size 432x288 with 1 Axes>"
      ]
     },
     "metadata": {},
     "output_type": "display_data"
    },
    {
     "name": "stdout",
     "output_type": "stream",
     "text": [
      "Chi-squared Test of Independence for noise phobia and separation anxiety:\n",
      "chi2 = 184.001984, p = 6.48E-42, dof = 1\n",
      "The resulting p-value is below the set significance threshold (0.01).\n"
     ]
    }
   ],
   "source": [
    "# Create the necessary dataframe.\n",
    "query = ('SELECT question_reason_for_part_3, q04_1, q04_2, q04_9 FROM users JOIN dogs '\n",
    "         'USING(record_id)')\n",
    "df = pd.read_sql_query(query, con)\n",
    "df.columns = ['suspicion', 'thunderstorm phobia', 'noise phobia', 'separation anxiety']\n",
    "\n",
    "# Remove biased results and discard suspicion column.\n",
    "df = df[df['suspicion'] == '0']\n",
    "df.drop('suspicion', axis=1, inplace=True)\n",
    "\n",
    "# Convert all columns to type integer.\n",
    "for col in df:\n",
    "    df[col] = pd.to_numeric(df[col])\n",
    "\n",
    "# Set a significance level.\n",
    "sig_p = 0.01\n",
    "\n",
    "pairs = [['thunderstorm phobia', 'noise phobia'],\n",
    "         ['thunderstorm phobia', 'separation anxiety'],\n",
    "         ['noise phobia', 'separation anxiety']]\n",
    "\n",
    "titles = ['Thunderstorm Phobia and Noise Phobia',\n",
    "          'Thunderstorm Phobia and Separation Anxiety',\n",
    "          'Noise Phobia and Separation Anxiety']\n",
    "\n",
    "counter = 0\n",
    "for pair in pairs:\n",
    "    # Create a contingency table.\n",
    "    contingency = pd.crosstab(df[pair[0]], df[pair[1]])\n",
    "    # Convert the cross tabulated dataframe to a series of sums.\n",
    "    d = {pair[0]: contingency[0][1],\n",
    "         pair[1]: contingency[1][0],\n",
    "         'both': contingency[1][1]}   \n",
    "    cross_sums = pd.Series(d)\n",
    "    # Display the cross tabulated data as a venn diagram.\n",
    "    labels = cross_sums.index.values\n",
    "    venn2(cross_sums, set_labels=labels[0:2])\n",
    "    plt.title(titles[counter])\n",
    "    plt.show()\n",
    "    # Execute a chi-squared test of independence.\n",
    "    print('Chi-squared Test of Independence for %s and %s:' %(pair[0], pair[1]))\n",
    "    c, p, dof, expected = scs.chi2_contingency(contingency, correction=False)\n",
    "    print('chi2 = %f, p = %.2E, dof = %d' %(c, p, dof))\n",
    "    if p < sig_p:\n",
    "        print('The resulting p-value is below the set significance threshold (%.2f).' %sig_p)\n",
    "    counter += 1"
   ]
  },
  {
   "cell_type": "code",
   "execution_count": 249,
   "metadata": {},
   "outputs": [
    {
     "data": {
      "image/png": "[encoded data removed]",
      "text/plain": [
       "<Figure size 432x288 with 1 Axes>"
      ]
     },
     "metadata": {},
     "output_type": "display_data"
    },
    {
     "name": "stdout",
     "output_type": "stream",
     "text": [
      "Chi-squared Test of Independence for separation anxiety and the combination of noise and\n",
      "thunderstorm phobia:\n",
      "chi2 = 247.979410, p = 1.79E-53, dof = 3\n",
      "The resulting p-value is below the set significance threshold (0.01).\n"
     ]
    }
   ],
   "source": [
    "# Create a contingency table.\n",
    "contingency = pd.crosstab(df['separation anxiety'], [df['noise phobia'],\n",
    "                                                     df['thunderstorm phobia']])\n",
    "\n",
    "# Convert the cross tabulated dataframe to a series of sums.\n",
    "d = {'separation anxiety': contingency[0][0][1],\n",
    "     'noise phobia': contingency[1][0][0],\n",
    "     'separation-noise': contingency[1][0][1],\n",
    "     'thunderstorm phobia': contingency[0][1][0],\n",
    "     'separation-thunderstorm': contingency[0][1][1],\n",
    "     'noise-thunderstorm': contingency[1][1][0],     \n",
    "     'all': contingency[1][1][1]}   \n",
    "cross_sums = pd.Series(d)\n",
    "\n",
    "# Display the cross tabulated data as a venn diagram.\n",
    "labels = [cross_sums.index.values[i] for i in [0, 1, 3]]\n",
    "venn3(cross_sums, set_labels=labels)\n",
    "plt.title('Separation Anxiety, Noise Phobia, and Thunderstorm Phobia')\n",
    "plt.show()\n",
    "\n",
    "# Execute a chi-squared test of independence.\n",
    "title = ('Chi-squared Test of Independence for separation anxiety and the combination of '\n",
    "         'noise and thunderstorm phobia:')\n",
    "print(textwrap.fill(title, width=90))\n",
    "c, p, dof, expected = scs.chi2_contingency(contingency, correction=False)\n",
    "print('chi2 = %f, p = %.2E, dof = %d' %(c, p, dof))\n",
    "if p < sig_p:\n",
    "    print('The resulting p-value is below the set significance threshold (%.2f).' %sig_p)"
   ]
  },
  {
   "cell_type": "markdown",
   "metadata": {},
   "source": [
    "## 7. Compulsion and Fearful/Anxious Behaviors"
   ]
  },
  {
   "cell_type": "code",
   "execution_count": 250,
   "metadata": {},
   "outputs": [
    {
     "data": {
      "image/png": "[encoded data removed]",
      "text/plain": [
       "<Figure size 432x288 with 1 Axes>"
      ]
     },
     "metadata": {},
     "output_type": "display_data"
    }
   ],
   "source": [
    "# Create the necessary hdataframe.\n",
    "query = ('SELECT question_reason_for_part_3, q02_main_2, q02_main_3 FROM users JOIN dogs '\n",
    "         'USING(record_id)')\n",
    "df = pd.read_sql_query(query, con)\n",
    "df.columns = ['suspicion', 'fear/anxiety', 'compulsion']\n",
    "\n",
    "# Remove biased results and discard suspicion column.\n",
    "df = df[df['suspicion'] == '0']\n",
    "df.drop('suspicion', axis=1, inplace=True)\n",
    "\n",
    "# Convert all columns to type integer.\n",
    "for col in df:\n",
    "    df[col] = pd.to_numeric(df[col])\n",
    "\n",
    "# Cross tabulate the relevant columns.\n",
    "contingency = pd.crosstab(df['fear/anxiety'], df['compulsion'])\n",
    "\n",
    "# Convert the cross tabulated dataframe to a series of sums.\n",
    "d = {'fear/anxiety': contingency[0][1],\n",
    "     'compulsion': contingency[1][0],\n",
    "     'both': contingency[1][1]}   \n",
    "cross_sums = pd.Series(d)\n",
    "\n",
    "# Display the cross tabulated data as a venn diagram.\n",
    "labels = cross_sums.index.values\n",
    "venn2(cross_sums, set_labels=labels[0:2])\n",
    "plt.title('Fear/Anxiety and Compulsion')\n",
    "plt.show()"
   ]
  },
  {
   "cell_type": "code",
   "execution_count": 251,
   "metadata": {},
   "outputs": [
    {
     "name": "stdout",
     "output_type": "stream",
     "text": [
      "Chi-square Test of Independence:\n",
      "chi2 = 33.448407, p = 7.32E-09, dof = 1\n",
      "The resulting p-value is below the set significance threshold (0.01).\n"
     ]
    }
   ],
   "source": [
    "# Execute a chi-squared test of independence.\n",
    "c, p, dof, expected = scs.chi2_contingency(contingency, correction=False)\n",
    "print('Chi-square Test of Independence:')\n",
    "print('chi2 = %f, p = %.2E, dof = %d' %(c, p, dof))\n",
    "if p < sig_p:\n",
    "    print('The resulting p-value is below the set significance threshold (%.2f).' %sig_p)"
   ]
  },
  {
   "cell_type": "markdown",
   "metadata": {},
   "source": [
    "## 8. Aggression and Fearful/Anxious Behavior"
   ]
  },
  {
   "cell_type": "markdown",
   "metadata": {},
   "source": [
    "### 8.1 Overall Aggression and Fearful/Anxious Behavior"
   ]
  },
  {
   "cell_type": "code",
   "execution_count": 252,
   "metadata": {},
   "outputs": [
    {
     "data": {
      "image/png": "[encoded data removed]",
      "text/plain": [
       "<Figure size 432x288 with 1 Axes>"
      ]
     },
     "metadata": {},
     "output_type": "display_data"
    },
    {
     "name": "stdout",
     "output_type": "stream",
     "text": [
      "Chi-square Test of Independence:\n",
      "chi2 = 88.721901, p = 4.54E-21, dof = 1\n",
      "The resulting p-value is below the set significance threshold (0.01).\n"
     ]
    }
   ],
   "source": [
    "# Create the necessary dataframe.\n",
    "query = ('SELECT question_reason_for_part_3, q02_main_1, q02_main_2 FROM users JOIN dogs '\n",
    "         'USING(record_id)')\n",
    "df = pd.read_sql_query(query, con)\n",
    "df.columns = ['suspicion', 'aggression', 'fear/anxiety']\n",
    "\n",
    "# Remove biased results and discard suspicion column.\n",
    "df = df[df['suspicion'] == '0']\n",
    "df.drop('suspicion', axis=1, inplace=True)\n",
    "\n",
    "# Convert all columns to type integer.\n",
    "for col in df:\n",
    "    df[col] = pd.to_numeric(df[col])\n",
    "    \n",
    "# Create a contingency table.\n",
    "contingency = pd.crosstab(df['aggression'], df['fear/anxiety'])\n",
    "\n",
    "# Convert the cross tabulated dataframe to a series of sums.\n",
    "d = {'aggresion': contingency[0][1],\n",
    "     'fear/anxiety': contingency[1][0],\n",
    "     'both': contingency[1][1]}   \n",
    "cross_sums = pd.Series(d)\n",
    "\n",
    "# Display the cross tabulated data as a venn diagram.\n",
    "labels = cross_sums.index.values\n",
    "venn2(cross_sums, set_labels=labels[0:2])\n",
    "plt.title('Aggression and Fear/Anxiety')\n",
    "plt.show()\n",
    "\n",
    "# Execute a chi-squared test of independence.\n",
    "c, p, dof, expected = scs.chi2_contingency(contingency, correction=False)\n",
    "print('Chi-square Test of Independence:')\n",
    "print('chi2 = %f, p = %.2E, dof = %d' %(c, p, dof))\n",
    "if p < sig_p:\n",
    "    print('The resulting p-value is below the set significance threshold (%.2f).' %sig_p)"
   ]
  },
  {
   "cell_type": "markdown",
   "metadata": {},
   "source": [
    "### 8.2 Specifically Owner Directed Aggression and Fearful/Anxious Behavior"
   ]
  },
  {
   "cell_type": "code",
   "execution_count": 253,
   "metadata": {},
   "outputs": [
    {
     "data": {
      "image/png": "[encoded data removed]",
      "text/plain": [
       "<Figure size 432x288 with 1 Axes>"
      ]
     },
     "metadata": {},
     "output_type": "display_data"
    },
    {
     "name": "stdout",
     "output_type": "stream",
     "text": [
      "Chi-square Test of Independence:\n",
      "chi2 = 42.560816, p = 6.85E-11, dof = 1\n",
      "The resulting p-value is below the set significance threshold (0.01).\n"
     ]
    }
   ],
   "source": [
    "# Create the necessary dataframe.\n",
    "query = ('SELECT question_reason_for_part_3, q03_main_1, q02_main_2 FROM users JOIN dogs '\n",
    "         'USING(record_id)')\n",
    "df = pd.read_sql_query(query, con)\n",
    "df.columns = ['suspicion', 'aggression', 'fear/anxiety']\n",
    "\n",
    "# Remove biased results and discard suspicion column.\n",
    "df = df[df['suspicion'] == '0']\n",
    "df.drop('suspicion', axis=1, inplace=True)\n",
    "\n",
    "# Convert all columns to type integer.\n",
    "for col in df:\n",
    "    df[col] = pd.to_numeric(df[col])\n",
    "    \n",
    "# Create a contingency table.\n",
    "contingency = pd.crosstab(df['aggression'], df['fear/anxiety'])\n",
    "\n",
    "# Convert the cross tabulated dataframe to a series of sums.\n",
    "d = {'owner directed aggresion': contingency[0][1],\n",
    "     'fear/anxiety': contingency[1][0],\n",
    "     'both': contingency[1][1]}   \n",
    "cross_sums = pd.Series(d)\n",
    "\n",
    "# Display the cross tabulated data as a venn diagram.\n",
    "labels = cross_sums.index.values\n",
    "venn2(cross_sums, set_labels=labels[0:2])\n",
    "plt.title('Owner Directed Aggression and Fear/Anxiety')\n",
    "plt.show()\n",
    "\n",
    "# Execute a chi-squared test of independence.\n",
    "c, p, dof, expected = scs.chi2_contingency(contingency, correction=False)\n",
    "print('Chi-square Test of Independence:')\n",
    "print('chi2 = %f, p = %.2E, dof = %d' %(c, p, dof))\n",
    "if p < sig_p:\n",
    "    print('The resulting p-value is below the set significance threshold (%.2f).' %sig_p)"
   ]
  },
  {
   "cell_type": "markdown",
   "metadata": {},
   "source": [
    "### 8.2 Specifically Owner Directed Aggression and Separation Anxiety"
   ]
  },
  {
   "cell_type": "code",
   "execution_count": 254,
   "metadata": {},
   "outputs": [
    {
     "data": {
      "image/png": "[encoded data removed]",
      "text/plain": [
       "<Figure size 432x288 with 1 Axes>"
      ]
     },
     "metadata": {},
     "output_type": "display_data"
    },
    {
     "name": "stdout",
     "output_type": "stream",
     "text": [
      "Chi-square Test of Independence:\n",
      "chi2 = 37.394009, p = 9.65E-10, dof = 1\n",
      "The resulting p-value is below the set significance threshold (0.01).\n"
     ]
    }
   ],
   "source": [
    "# Create the necessary dataframe.\n",
    "query = ('SELECT question_reason_for_part_3, q03_main_1, q04_9 FROM users JOIN dogs '\n",
    "         'USING(record_id)')\n",
    "df = pd.read_sql_query(query, con)\n",
    "df.columns = ['suspicion', 'aggression', 'anxiety']\n",
    "\n",
    "# Remove biased results and discard suspicion column.\n",
    "df = df[df['suspicion'] == '0']\n",
    "df.drop('suspicion', axis=1, inplace=True)\n",
    "\n",
    "# Convert all columns to type integer.\n",
    "for col in df:\n",
    "    df[col] = pd.to_numeric(df[col])\n",
    "    \n",
    "# Create a contingency table.\n",
    "contingency = pd.crosstab(df['aggression'], df['anxiety'])\n",
    "\n",
    "# Convert the cross tabulated dataframe to a series of sums.\n",
    "d = {'owner directed aggresion': contingency[0][1],\n",
    "     'separation anxiety': contingency[1][0],\n",
    "     'both': contingency[1][1]}   \n",
    "cross_sums = pd.Series(d)\n",
    "\n",
    "# Display the cross tabulated data as a venn diagram.\n",
    "labels = cross_sums.index.values\n",
    "venn2(cross_sums, set_labels=labels[0:2])\n",
    "plt.title('Owner Direct Aggression and Separation Anxiety')\n",
    "plt.show()\n",
    "\n",
    "# Execute a chi-squared test of independence.\n",
    "c, p, dof, expected = scs.chi2_contingency(contingency, correction=False)\n",
    "print('Chi-square Test of Independence:')\n",
    "print('chi2 = %f, p = %.2E, dof = %d' %(c, p, dof))\n",
    "if p < sig_p:\n",
    "    print('The resulting p-value is below the set significance threshold (%.2f).' %sig_p)"
   ]
  }
 ],
 "metadata": {
  "kernelspec": {
   "display_name": "Python 3",
   "language": "python",
   "name": "python3"
  },
  "language_info": {
   "codemirror_mode": {
    "name": "ipython",
    "version": 3
   },
   "file_extension": ".py",
   "mimetype": "text/x-python",
   "name": "python",
   "nbconvert_exporter": "python",
   "pygments_lexer": "ipython3",
   "version": "3.6.3"
  }
 },
 "nbformat": 4,
 "nbformat_minor": 2
}
