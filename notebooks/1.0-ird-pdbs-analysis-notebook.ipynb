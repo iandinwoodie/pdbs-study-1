{
 "cells": [
  {
   "cell_type": "markdown",
   "metadata": {},
   "source": [
    "# Pet Dog Behavior Study Analysis"
   ]
  },
  {
   "cell_type": "markdown",
   "metadata": {},
   "source": [
    "## Table of Contents\n",
    "\n",
    "1. [Overall Incidence](#toc1)  \n",
    "    1.1 [Total survey participants](#toc1.1)  \n",
    "    1.2 [Total participants that reported a behavior problem](#toc1.2)  \n",
    "    1.3 [Total participants that reported a bahvior problem but joined for other reasons](#toc1.3)  \n",
    "    1.4 [Overall incidence summary](#toc1.4)  \n",
    "2. [First Investigation](#)\n",
    "3. [Second Investigation](#)\n",
    "4. [Third Investigation](#)"
   ]
  },
  {
   "cell_type": "markdown",
   "metadata": {},
   "source": [
    "<a id='toc1'></a>\n",
    "## 1. Overall Incidence"
   ]
  },
  {
   "cell_type": "markdown",
   "metadata": {},
   "source": [
    "<a id='toc1.1'></a>\n",
    "### 1.1 Total survey participants"
   ]
  },
  {
   "cell_type": "code",
   "execution_count": 1,
   "metadata": {},
   "outputs": [
    {
     "name": "stdout",
     "output_type": "stream",
     "text": [
      "Total participants: 2986\n"
     ]
    }
   ],
   "source": [
    "import sqlite3\n",
    "import pandas as pd\n",
    "\n",
    "# Create the necessary dataframe.\n",
    "con = sqlite3.connect('../data/processed/processed.db')\n",
    "query = ('SELECT record_id, question_reason_for_part_3, q02_score FROM users JOIN dogs '\n",
    "         'USING(record_id)')\n",
    "df = pd.read_sql_query(query, con)\n",
    "df.columns = ['id', 'reason', 'problems']\n",
    "df['problems'] = pd.to_numeric(df['problems'])\n",
    "df = df.sort_values('problems', ascending=False).drop_duplicates('id').sort_index()\n",
    "# Get a count of the total number of participants.\n",
    "cnt_total_users = len(df.index)\n",
    "print('Total participants: %d' %cnt_total_users)"
   ]
  },
  {
   "cell_type": "markdown",
   "metadata": {},
   "source": [
    "<a id='toc1.2'></a>\n",
    "### 1.2 Total participants that reported a behavior problem"
   ]
  },
  {
   "cell_type": "code",
   "execution_count": 2,
   "metadata": {},
   "outputs": [
    {
     "name": "stdout",
     "output_type": "stream",
     "text": [
      "Total participants who reported behavior problems: 2810 \n"
     ]
    }
   ],
   "source": [
    "# Determine the total number of participants who reported behavior problems.\n",
    "cnt_any_w_problems = len(df[df.problems != 0].index)\n",
    "print('Total participants who reported behavior problems: %d ' %cnt_any_w_problems)"
   ]
  },
  {
   "cell_type": "markdown",
   "metadata": {},
   "source": [
    "<a id='toc1.3'></a>\n",
    "### 1.3 Total participants that reported a bahvior problem but joined for other reasons"
   ]
  },
  {
   "cell_type": "code",
   "execution_count": 3,
   "metadata": {},
   "outputs": [
    {
     "name": "stdout",
     "output_type": "stream",
     "text": [
      "Participants not motivated by behavioral problems reporting a behavioral problem: 2043\n"
     ]
    }
   ],
   "source": [
    "diff_reason = df[df.reason != '1']\n",
    "diff_w_problem = diff_reason[diff_reason.problems != 0]\n",
    "cnt_diff_w_problem = len(diff_w_problem.index)\n",
    "print('Participants not motivated by behavioral problems reporting a behavioral problem: %d'\n",
    "      %cnt_diff_w_problem)"
   ]
  },
  {
   "cell_type": "markdown",
   "metadata": {},
   "source": [
    "<a id='toc1.4'></a>\n",
    "### 1.4 Overall incidence summary"
   ]
  },
  {
   "cell_type": "code",
   "execution_count": 4,
   "metadata": {},
   "outputs": [
    {
     "name": "stdout",
     "output_type": "stream",
     "text": [
      "Behavior problems were reported by 2810 of the total 2986 participants (0.94%). With the removal of participants who listed behavior problems as their reason for joining the study, behavior problems were reported by 2043 of the 2219 remaining participants (0.92%).\n"
     ]
    }
   ],
   "source": [
    "pct_any_reason = cnt_any_w_problems / cnt_total_users\n",
    "summary = ('Behavior problems were reported by %d of the total %d participants (%.2f%%). '\n",
    "           %(cnt_any_w_problems, cnt_total_users, pct_any_reason))\n",
    "\n",
    "cnt_diff_reason = cnt_total_users - (cnt_any_w_problems - cnt_diff_w_problem)\n",
    "pct_diff_reason = cnt_diff_w_problem / cnt_diff_reason\n",
    "summary += ('With the removal of participants who listed behavior problems as their reason '\n",
    "            'for joining the study, behavior problems were reported by %d of the %d remaining '\n",
    "            'participants (%.2f%%).' %(cnt_diff_w_problem, cnt_diff_reason, pct_diff_reason))\n",
    "\n",
    "print(summary)"
   ]
  }
 ],
 "metadata": {
  "kernelspec": {
   "display_name": "Python 3",
   "language": "python",
   "name": "python3"
  },
  "language_info": {
   "codemirror_mode": {
    "name": "ipython",
    "version": 3
   },
   "file_extension": ".py",
   "mimetype": "text/x-python",
   "name": "python",
   "nbconvert_exporter": "python",
   "pygments_lexer": "ipython3",
   "version": "3.6.3"
  }
 },
 "nbformat": 4,
 "nbformat_minor": 2
}
