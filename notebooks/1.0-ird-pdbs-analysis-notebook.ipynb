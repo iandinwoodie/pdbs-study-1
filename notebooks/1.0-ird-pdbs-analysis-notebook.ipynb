{
 "cells": [
  {
   "cell_type": "markdown",
   "metadata": {},
   "source": [
    "# Pet Dog Behavior Study Analysis"
   ]
  },
  {
   "cell_type": "markdown",
   "metadata": {},
   "source": [
    "## 1. Workspace Setup"
   ]
  },
  {
   "cell_type": "code",
   "execution_count": 112,
   "metadata": {},
   "outputs": [
    {
     "data": {
      "text/html": [
       "<script>requirejs.config({paths: { 'plotly': ['https://cdn.plot.ly/plotly-latest.min']},});if(!window.Plotly) {{require(['plotly'],function(plotly) {window.Plotly=plotly;});}}</script>"
      ],
      "text/vnd.plotly.v1+html": [
       "<script>requirejs.config({paths: { 'plotly': ['https://cdn.plot.ly/plotly-latest.min']},});if(!window.Plotly) {{require(['plotly'],function(plotly) {window.Plotly=plotly;});}}</script>"
      ]
     },
     "metadata": {},
     "output_type": "display_data"
    }
   ],
   "source": [
    "import sqlite3\n",
    "import pandas as pd\n",
    "import plotly.offline as py\n",
    "import plotly.graph_objs as go\n",
    "\n",
    "import textwrap\n",
    "import scipy.stats as scs\n",
    "from IPython.display import display\n",
    "%matplotlib inline\n",
    "import matplotlib.pyplot as plt\n",
    "import plotly.figure_factory as ff\n",
    "\n",
    "# Initiate plotly IPython notebook mode.\n",
    "py.init_notebook_mode(connected=True)\n",
    "\n",
    "# Establish a connection to the database.\n",
    "con = sqlite3.connect('../data/processed/processed.db')"
   ]
  },
  {
   "cell_type": "markdown",
   "metadata": {},
   "source": [
    "## 2. Overall Prevalence of Behavior Problems\n",
    "\n",
    "Prevalence is defined as the proportion of a population found to be affected by a medical condition. This section aims to calculate the aggregate prevalence of the most common behavior problems in a given canine population."
   ]
  },
  {
   "cell_type": "markdown",
   "metadata": {},
   "source": [
    "### 2.1 Count gross and adjusted responses:"
   ]
  },
  {
   "cell_type": "code",
   "execution_count": 113,
   "metadata": {},
   "outputs": [
    {
     "name": "stdout",
     "output_type": "stream",
     "text": [
      "Total number of dogs: 5018\n",
      "Total number of dogs with a reported behavior problem: 4407\n",
      "Adjusted total number of dogs: 3749\n",
      "Adjusted total number of dogs with a reported behavior problem: 3207\n"
     ]
    }
   ],
   "source": [
    "# Create the necessary dataframe.\n",
    "query = ('SELECT record_id, question_reason_for_part_3, q02_score FROM users JOIN dogs '\n",
    "         'USING(record_id)')\n",
    "df_gross = pd.read_sql_query(query, con)\n",
    "df_gross.columns = ['id', 'suspicion', 'problems']\n",
    "\n",
    "# Get a count of the total number of dogs.\n",
    "cnt_total_dogs = len(df_gross.index)\n",
    "\n",
    "# Get a count of the dogs with reported behavior problem.\n",
    "# If the \"problems\" column does not equal zero, then a behavior problem was reported.\n",
    "cnt_total_dogs_w_problems = len(df_gross[df_gross['problems'] != '0'].index)\n",
    "\n",
    "# Create an adjusted dataframe by removing biased results.\n",
    "# A result is considered biased if a participant listed \"suspicion of a behavior problem\" as a\n",
    "# reason for joining the study.\n",
    "df_adjusted = df_gross[df_gross['suspicion'] == '0']\n",
    "\n",
    "# Get a count of the total number of dogs from the adjusted dataframe.\n",
    "cnt_total_dogs_adjusted = len(df_adjusted.index)\n",
    "\n",
    "# Get a count of the dogs with a reported behavior problem from the adjusted dataframe.\n",
    "cnt_total_dogs_w_problems_adjusted = len(df_adjusted[df_adjusted['problems'] != '0'].index)\n",
    "\n",
    "# Display the count results.\n",
    "print('Total number of dogs: %d' %cnt_total_dogs)\n",
    "print('Total number of dogs with a reported behavior problem: %d' %cnt_total_dogs_w_problems)\n",
    "print('Adjusted total number of dogs: %d' %cnt_total_dogs_adjusted)\n",
    "print('Adjusted total number of dogs with a reported behavior problem: %d'\n",
    "      %cnt_total_dogs_w_problems_adjusted)"
   ]
  },
  {
   "cell_type": "markdown",
   "metadata": {},
   "source": [
    "### 2.2 Calculate prevalence:"
   ]
  },
  {
   "cell_type": "code",
   "execution_count": 114,
   "metadata": {},
   "outputs": [
    {
     "name": "stdout",
     "output_type": "stream",
     "text": [
      "Gross prevalence: 87.82% (4407/5018)\n",
      "Adjusted prevalence: 85.54% (3207/3749)\n",
      "Shift in prevalence as a result of adjustment: -2.28%\n"
     ]
    }
   ],
   "source": [
    "# Calculate the gross prevalence.\n",
    "prevalence_gross = (cnt_total_dogs_w_problems / cnt_total_dogs) * 100\n",
    "\n",
    "# Calculate the adjusted prevalence.\n",
    "prevalence_adjusted = (cnt_total_dogs_w_problems_adjusted / cnt_total_dogs_adjusted) * 100\n",
    "\n",
    "# Calculate the difference between the gross and adjusted prevalence.\n",
    "diff_prevalence = prevalence_adjusted - prevalence_gross\n",
    "sign = '+' if diff_prevalence > 0 else ''\n",
    "\n",
    "# Display the prevalence results.\n",
    "print('Gross prevalence: %.2f%% (%d/%d)'\n",
    "      %(prevalence_gross, cnt_total_dogs_w_problems, cnt_total_dogs))\n",
    "print('Adjusted prevalence: %.2f%% (%d/%d)'\n",
    "      %(prevalence_adjusted, cnt_total_dogs_w_problems_adjusted, cnt_total_dogs_adjusted))\n",
    "print('Shift in prevalence as a result of adjustment: %s%.2f%%' %(sign, diff_prevalence))"
   ]
  },
  {
   "cell_type": "markdown",
   "metadata": {},
   "source": [
    "## 3. Prevalence of Individual Behavior Problems\n",
    "\n",
    "This section aims to calculate the prevalence for each behavior problem included in the study. The adjusted dataset is utilized to eliminate potential bias."
   ]
  },
  {
   "cell_type": "markdown",
   "metadata": {},
   "source": [
    "### 3.1 Determine count and prevalence for each behavior problem:"
   ]
  },
  {
   "cell_type": "code",
   "execution_count": 115,
   "metadata": {},
   "outputs": [
    {
     "data": {
      "application/vnd.plotly.v1+json": {
       "data": [
        {
         "cells": {
          "align": [
           "left",
           "left",
           "left",
           "left",
           "left"
          ],
          "format": [
           null,
           "d",
           ".2f"
          ],
          "values": [
           [
            "fear/anxiety",
            "aggression",
            "jumping",
            "excessive barking",
            "fecal consumption",
            "compulsion",
            "house soiling",
            "rolling in repulsive objects",
            "hyperactivity",
            "destruction",
            "escape",
            "mounting"
           ],
           [
            1647,
            1103,
            1045,
            674,
            648,
            571,
            548,
            463,
            456,
            435,
            401,
            392
           ],
           [
            43.931715124033076,
            29.42117898106162,
            27.874099759935984,
            17.978127500666844,
            17.284609229127767,
            15.230728194185117,
            14.617231261669778,
            12.349959989330488,
            12.16324353160843,
            11.60309415844225,
            10.696185649506534,
            10.456121632435316
           ]
          ]
         },
         "header": {
          "align": [
           "left",
           "left",
           "left",
           "left",
           "left"
          ],
          "fill": {
           "color": "#B0C4DE"
          },
          "values": [
           "Behavior Problem",
           "Count",
           "Prevalence (%)"
          ]
         },
         "type": "table"
        }
       ],
       "layout": {
        "height": 450,
        "width": 700
       }
      },
      "text/html": [
       "<div id=\"e3404f3b-323b-4432-92c6-e0f1b38213b0\" style=\"height: 450px; width: 700px;\" class=\"plotly-graph-div\"></div><script type=\"text/javascript\">require([\"plotly\"], function(Plotly) { window.PLOTLYENV=window.PLOTLYENV || {};window.PLOTLYENV.BASE_URL=\"https://plot.ly\";Plotly.newPlot(\"e3404f3b-323b-4432-92c6-e0f1b38213b0\", [{\"type\": \"table\", \"header\": {\"values\": [\"Behavior Problem\", \"Count\", \"Prevalence (%)\"], \"fill\": {\"color\": \"#B0C4DE\"}, \"align\": [\"left\", \"left\", \"left\", \"left\", \"left\"]}, \"cells\": {\"values\": [[\"fear/anxiety\", \"aggression\", \"jumping\", \"excessive barking\", \"fecal consumption\", \"compulsion\", \"house soiling\", \"rolling in repulsive objects\", \"hyperactivity\", \"destruction\", \"escape\", \"mounting\"], [1647, 1103, 1045, 674, 648, 571, 548, 463, 456, 435, 401, 392], [43.931715124033076, 29.42117898106162, 27.874099759935984, 17.978127500666844, 17.284609229127767, 15.230728194185117, 14.617231261669778, 12.349959989330488, 12.16324353160843, 11.60309415844225, 10.696185649506534, 10.456121632435316]], \"align\": [\"left\", \"left\", \"left\", \"left\", \"left\"], \"format\": [null, \"d\", \".2f\"]}}], {\"width\": 700, \"height\": 450}, {\"showLink\": true, \"linkText\": \"Export to plot.ly\"})});</script>"
      ],
      "text/vnd.plotly.v1+html": [
       "<div id=\"e3404f3b-323b-4432-92c6-e0f1b38213b0\" style=\"height: 450px; width: 700px;\" class=\"plotly-graph-div\"></div><script type=\"text/javascript\">require([\"plotly\"], function(Plotly) { window.PLOTLYENV=window.PLOTLYENV || {};window.PLOTLYENV.BASE_URL=\"https://plot.ly\";Plotly.newPlot(\"e3404f3b-323b-4432-92c6-e0f1b38213b0\", [{\"type\": \"table\", \"header\": {\"values\": [\"Behavior Problem\", \"Count\", \"Prevalence (%)\"], \"fill\": {\"color\": \"#B0C4DE\"}, \"align\": [\"left\", \"left\", \"left\", \"left\", \"left\"]}, \"cells\": {\"values\": [[\"fear/anxiety\", \"aggression\", \"jumping\", \"excessive barking\", \"fecal consumption\", \"compulsion\", \"house soiling\", \"rolling in repulsive objects\", \"hyperactivity\", \"destruction\", \"escape\", \"mounting\"], [1647, 1103, 1045, 674, 648, 571, 548, 463, 456, 435, 401, 392], [43.931715124033076, 29.42117898106162, 27.874099759935984, 17.978127500666844, 17.284609229127767, 15.230728194185117, 14.617231261669778, 12.349959989330488, 12.16324353160843, 11.60309415844225, 10.696185649506534, 10.456121632435316]], \"align\": [\"left\", \"left\", \"left\", \"left\", \"left\"], \"format\": [null, \"d\", \".2f\"]}}], {\"width\": 700, \"height\": 450}, {\"showLink\": true, \"linkText\": \"Export to plot.ly\"})});</script>"
      ]
     },
     "metadata": {},
     "output_type": "display_data"
    }
   ],
   "source": [
    "# Create the necessary dataframe.\n",
    "query = ('SELECT question_reason_for_part_3, q02_main_1, q02_main_2, q02_main_3, '\n",
    "         'q02_main_4, q02_main_5, q02_main_6, q02_main_7, q02_main_8, q02_main_9, '\n",
    "         'q02_main_10, q02_main_12, q02_main_13 FROM users JOIN dogs '\n",
    "         'USING(record_id)')\n",
    "df = pd.read_sql_query(query, con)\n",
    "df.columns = ['suspicion', 'aggression', 'fear/anxiety', 'compulsion', 'house soiling',\n",
    "              'excessive barking', 'jumping', 'mounting', 'fecal consumption', 'destruction',\n",
    "              'rolling in repulsive objects', 'escape', 'hyperactivity']\n",
    "\n",
    "# Remove biased results and discard suspicion column.\n",
    "df = df[df['suspicion'] == '0']\n",
    "df.drop('suspicion', axis=1, inplace=True)\n",
    "\n",
    "# Convert columns to integer type.\n",
    "for col in df:\n",
    "    df[col] = pd.to_numeric(df[col])\n",
    "\n",
    "# Get individual behavior problem counts and display as a table.\n",
    "sums = df.sum()\n",
    "sums = sums.sort_values(ascending=False)\n",
    "\n",
    "# Calculate the prevalence of each behavior problem.\n",
    "total_dogs = len(df.index)\n",
    "prevalence_cal = lambda x: (x / total_dogs) * 100\n",
    "prevalences = sums.apply(prevalence_cal)\n",
    "\n",
    "# Get individual behavior problem counts and display as a table.\n",
    "trace = go.Table(\n",
    "    header=dict(values=['Behavior Problem', 'Count', 'Prevalence (%)'],\n",
    "                fill = dict(color='#B0C4DE'),\n",
    "                align = ['left'] * 5),\n",
    "    cells=dict(values=[sums.index.values, sums.values, prevalences.values],\n",
    "               align = ['left'] * 5,\n",
    "               format = [None, 'd', '.2f']))\n",
    "data = [trace] \n",
    "layout = dict(width=700, height=450)\n",
    "fig = dict(data=data, layout=layout)\n",
    "py.iplot(fig, filename='individual-prevalence-table')"
   ]
  },
  {
   "cell_type": "markdown",
   "metadata": {},
   "source": [
    "### 3.2 Graphical presentation of individual prevalences:"
   ]
  },
  {
   "cell_type": "code",
   "execution_count": 116,
   "metadata": {},
   "outputs": [
    {
     "data": {
      "application/vnd.plotly.v1+json": {
       "data": [
        {
         "orientation": "h",
         "type": "bar",
         "x": [
          10.456121632435316,
          10.696185649506534,
          11.60309415844225,
          12.16324353160843,
          12.349959989330488,
          14.617231261669778,
          15.230728194185117,
          17.284609229127767,
          17.978127500666844,
          27.874099759935984,
          29.42117898106162,
          43.931715124033076
         ],
         "y": [
          "mounting",
          "escape",
          "destruction",
          "hyperactivity",
          "rolling in repulsive objects",
          "house soiling",
          "compulsion",
          "fecal consumption",
          "excessive barking",
          "jumping",
          "aggression",
          "fear/anxiety"
         ]
        }
       ],
       "layout": {
        "height": 500,
        "title": "Prevalence of Behavior Problems",
        "width": 700,
        "xaxis": {
         "title": "Prevalence (%)"
        },
        "yaxis": {
         "automargin": true,
         "tickangle": 30,
         "tickprefix": " ",
         "ticksuffix": " ",
         "title": "Behavior Problem"
        }
       }
      },
      "text/html": [
       "<div id=\"3f104010-0609-403b-a324-e94d3b345a82\" style=\"height: 500px; width: 700px;\" class=\"plotly-graph-div\"></div><script type=\"text/javascript\">require([\"plotly\"], function(Plotly) { window.PLOTLYENV=window.PLOTLYENV || {};window.PLOTLYENV.BASE_URL=\"https://plot.ly\";Plotly.newPlot(\"3f104010-0609-403b-a324-e94d3b345a82\", [{\"type\": \"bar\", \"x\": [10.456121632435316, 10.696185649506534, 11.60309415844225, 12.16324353160843, 12.349959989330488, 14.617231261669778, 15.230728194185117, 17.284609229127767, 17.978127500666844, 27.874099759935984, 29.42117898106162, 43.931715124033076], \"y\": [\"mounting\", \"escape\", \"destruction\", \"hyperactivity\", \"rolling in repulsive objects\", \"house soiling\", \"compulsion\", \"fecal consumption\", \"excessive barking\", \"jumping\", \"aggression\", \"fear/anxiety\"], \"orientation\": \"h\"}], {\"title\": \"Prevalence of Behavior Problems\", \"xaxis\": {\"title\": \"Prevalence (%)\"}, \"yaxis\": {\"title\": \"Behavior Problem\", \"automargin\": true, \"tickangle\": 30, \"tickprefix\": \" \", \"ticksuffix\": \" \"}, \"width\": 700, \"height\": 500}, {\"showLink\": true, \"linkText\": \"Export to plot.ly\"})});</script>"
      ],
      "text/vnd.plotly.v1+html": [
       "<div id=\"3f104010-0609-403b-a324-e94d3b345a82\" style=\"height: 500px; width: 700px;\" class=\"plotly-graph-div\"></div><script type=\"text/javascript\">require([\"plotly\"], function(Plotly) { window.PLOTLYENV=window.PLOTLYENV || {};window.PLOTLYENV.BASE_URL=\"https://plot.ly\";Plotly.newPlot(\"3f104010-0609-403b-a324-e94d3b345a82\", [{\"type\": \"bar\", \"x\": [10.456121632435316, 10.696185649506534, 11.60309415844225, 12.16324353160843, 12.349959989330488, 14.617231261669778, 15.230728194185117, 17.284609229127767, 17.978127500666844, 27.874099759935984, 29.42117898106162, 43.931715124033076], \"y\": [\"mounting\", \"escape\", \"destruction\", \"hyperactivity\", \"rolling in repulsive objects\", \"house soiling\", \"compulsion\", \"fecal consumption\", \"excessive barking\", \"jumping\", \"aggression\", \"fear/anxiety\"], \"orientation\": \"h\"}], {\"title\": \"Prevalence of Behavior Problems\", \"xaxis\": {\"title\": \"Prevalence (%)\"}, \"yaxis\": {\"title\": \"Behavior Problem\", \"automargin\": true, \"tickangle\": 30, \"tickprefix\": \" \", \"ticksuffix\": \" \"}, \"width\": 700, \"height\": 500}, {\"showLink\": true, \"linkText\": \"Export to plot.ly\"})});</script>"
      ]
     },
     "metadata": {},
     "output_type": "display_data"
    }
   ],
   "source": [
    "prevalences = prevalences.sort_values(ascending=True)\n",
    "trace = go.Bar(\n",
    "    x=prevalences.values,\n",
    "    y=prevalences.index.values,\n",
    "    orientation='h')\n",
    "data = [trace]\n",
    "layout = go.Layout(title='Prevalence of Behavior Problems',\n",
    "                   xaxis=dict(title='Prevalence (%)'),\n",
    "                   yaxis=dict(title='Behavior Problem',\n",
    "                              automargin=True,\n",
    "                              tickangle=30,\n",
    "                              tickprefix=' ',\n",
    "                              ticksuffix=' '),\n",
    "                   width=700,\n",
    "                   height=500\n",
    "                  )\n",
    "fig = dict(data=data, layout=layout)\n",
    "py.iplot(fig)"
   ]
  },
  {
   "cell_type": "markdown",
   "metadata": {},
   "source": [
    "## 3. Separation Anxiety, Noise Phobia, and Thunderstorm Phobia"
   ]
  },
  {
   "cell_type": "markdown",
   "metadata": {},
   "source": [
    "### 3.1 Preparation of data"
   ]
  },
  {
   "cell_type": "code",
   "execution_count": 117,
   "metadata": {},
   "outputs": [
    {
     "name": "stdout",
     "output_type": "stream",
     "text": [
      "Total dogs: 5018\n"
     ]
    }
   ],
   "source": [
    "# Create the necessary dataframe.\n",
    "query = ('SELECT q04_1, q04_2, q04_9 FROM dogs')\n",
    "df = pd.read_sql_query(query, con)\n",
    "df.columns = ['thunderstorm phobia', 'noise phobia', 'separation anxiety']\n",
    "for col in df:\n",
    "    df[col] = pd.to_numeric(df[col])\n",
    "    \n",
    "# Set a significance level.\n",
    "sig_p = 0.01\n",
    "    \n",
    "# Record the total number of dogs.\n",
    "cnt_total_dogs = len(df.index)\n",
    "print('Total dogs: %d' %cnt_total_dogs)"
   ]
  },
  {
   "cell_type": "markdown",
   "metadata": {},
   "source": [
    "### 3.2 Tables and calculations"
   ]
  },
  {
   "cell_type": "code",
   "execution_count": 118,
   "metadata": {},
   "outputs": [
    {
     "data": {
      "text/html": [
       "<div>\n",
       "<style scoped>\n",
       "    .dataframe tbody tr th:only-of-type {\n",
       "        vertical-align: middle;\n",
       "    }\n",
       "\n",
       "    .dataframe tbody tr th {\n",
       "        vertical-align: top;\n",
       "    }\n",
       "\n",
       "    .dataframe thead th {\n",
       "        text-align: right;\n",
       "    }\n",
       "</style>\n",
       "<table border=\"1\" class=\"dataframe\">\n",
       "  <thead>\n",
       "    <tr style=\"text-align: right;\">\n",
       "      <th>noise phobia</th>\n",
       "      <th>0</th>\n",
       "      <th>1</th>\n",
       "    </tr>\n",
       "    <tr>\n",
       "      <th>thunderstorm phobia</th>\n",
       "      <th></th>\n",
       "      <th></th>\n",
       "    </tr>\n",
       "  </thead>\n",
       "  <tbody>\n",
       "    <tr>\n",
       "      <th>0</th>\n",
       "      <td>3839</td>\n",
       "      <td>427</td>\n",
       "    </tr>\n",
       "    <tr>\n",
       "      <th>1</th>\n",
       "      <td>210</td>\n",
       "      <td>542</td>\n",
       "    </tr>\n",
       "  </tbody>\n",
       "</table>\n",
       "</div>"
      ],
      "text/plain": [
       "noise phobia            0    1\n",
       "thunderstorm phobia           \n",
       "0                    3839  427\n",
       "1                     210  542"
      ]
     },
     "metadata": {},
     "output_type": "display_data"
    },
    {
     "name": "stdout",
     "output_type": "stream",
     "text": [
      "Chi-squared Test of Independence for thunderstorm phobia and noise phobia:\n",
      "chi2 = 1580.493072, p = 0.00E+00, dof = 1\n",
      "The resulting p-value is below the set significance threshold (0.01).\n"
     ]
    },
    {
     "data": {
      "text/html": [
       "<div>\n",
       "<style scoped>\n",
       "    .dataframe tbody tr th:only-of-type {\n",
       "        vertical-align: middle;\n",
       "    }\n",
       "\n",
       "    .dataframe tbody tr th {\n",
       "        vertical-align: top;\n",
       "    }\n",
       "\n",
       "    .dataframe thead th {\n",
       "        text-align: right;\n",
       "    }\n",
       "</style>\n",
       "<table border=\"1\" class=\"dataframe\">\n",
       "  <thead>\n",
       "    <tr style=\"text-align: right;\">\n",
       "      <th>separation anxiety</th>\n",
       "      <th>0</th>\n",
       "      <th>1</th>\n",
       "    </tr>\n",
       "    <tr>\n",
       "      <th>thunderstorm phobia</th>\n",
       "      <th></th>\n",
       "      <th></th>\n",
       "    </tr>\n",
       "  </thead>\n",
       "  <tbody>\n",
       "    <tr>\n",
       "      <th>0</th>\n",
       "      <td>3750</td>\n",
       "      <td>516</td>\n",
       "    </tr>\n",
       "    <tr>\n",
       "      <th>1</th>\n",
       "      <td>501</td>\n",
       "      <td>251</td>\n",
       "    </tr>\n",
       "  </tbody>\n",
       "</table>\n",
       "</div>"
      ],
      "text/plain": [
       "separation anxiety      0    1\n",
       "thunderstorm phobia           \n",
       "0                    3750  516\n",
       "1                     501  251"
      ]
     },
     "metadata": {},
     "output_type": "display_data"
    },
    {
     "name": "stdout",
     "output_type": "stream",
     "text": [
      "Chi-squared Test of Independence for thunderstorm phobia and separation anxiety:\n",
      "chi2 = 223.618927, p = 1.47E-50, dof = 1\n",
      "The resulting p-value is below the set significance threshold (0.01).\n"
     ]
    },
    {
     "data": {
      "text/html": [
       "<div>\n",
       "<style scoped>\n",
       "    .dataframe tbody tr th:only-of-type {\n",
       "        vertical-align: middle;\n",
       "    }\n",
       "\n",
       "    .dataframe tbody tr th {\n",
       "        vertical-align: top;\n",
       "    }\n",
       "\n",
       "    .dataframe thead th {\n",
       "        text-align: right;\n",
       "    }\n",
       "</style>\n",
       "<table border=\"1\" class=\"dataframe\">\n",
       "  <thead>\n",
       "    <tr style=\"text-align: right;\">\n",
       "      <th>separation anxiety</th>\n",
       "      <th>0</th>\n",
       "      <th>1</th>\n",
       "    </tr>\n",
       "    <tr>\n",
       "      <th>noise phobia</th>\n",
       "      <th></th>\n",
       "      <th></th>\n",
       "    </tr>\n",
       "  </thead>\n",
       "  <tbody>\n",
       "    <tr>\n",
       "      <th>0</th>\n",
       "      <td>3592</td>\n",
       "      <td>457</td>\n",
       "    </tr>\n",
       "    <tr>\n",
       "      <th>1</th>\n",
       "      <td>659</td>\n",
       "      <td>310</td>\n",
       "    </tr>\n",
       "  </tbody>\n",
       "</table>\n",
       "</div>"
      ],
      "text/plain": [
       "separation anxiety     0    1\n",
       "noise phobia                 \n",
       "0                   3592  457\n",
       "1                    659  310"
      ]
     },
     "metadata": {},
     "output_type": "display_data"
    },
    {
     "name": "stdout",
     "output_type": "stream",
     "text": [
      "Chi-squared Test of Independence for noise phobia and separation anxiety:\n",
      "chi2 = 258.860919, p = 3.04E-58, dof = 1\n",
      "The resulting p-value is below the set significance threshold (0.01).\n"
     ]
    }
   ],
   "source": [
    "pairs = [['thunderstorm phobia', 'noise phobia'],\n",
    "         ['thunderstorm phobia', 'separation anxiety'],\n",
    "         ['noise phobia', 'separation anxiety']\n",
    "        ]\n",
    "for pair in pairs:\n",
    "    # Create a contingency table.\n",
    "    contingency = pd.crosstab(df[pair[0]], df[pair[1]])\n",
    "    display(contingency)\n",
    "    # Execute a chi-squared test of independence.\n",
    "    print('Chi-squared Test of Independence for %s and %s:' %(pair[0], pair[1]))\n",
    "    c, p, dof, expected = scs.chi2_contingency(contingency, correction=False)\n",
    "    print('chi2 = %f, p = %.2E, dof = %d' %(c, p, dof))\n",
    "    if p < sig_p:\n",
    "        print('The resulting p-value is below the set significance threshold (%.2f).' %sig_p)"
   ]
  },
  {
   "cell_type": "markdown",
   "metadata": {},
   "source": [
    "### 3.3 Further exploration"
   ]
  },
  {
   "cell_type": "code",
   "execution_count": 119,
   "metadata": {},
   "outputs": [
    {
     "data": {
      "text/html": [
       "<div>\n",
       "<style scoped>\n",
       "    .dataframe tbody tr th:only-of-type {\n",
       "        vertical-align: middle;\n",
       "    }\n",
       "\n",
       "    .dataframe tbody tr th {\n",
       "        vertical-align: top;\n",
       "    }\n",
       "\n",
       "    .dataframe thead tr th {\n",
       "        text-align: left;\n",
       "    }\n",
       "\n",
       "    .dataframe thead tr:last-of-type th {\n",
       "        text-align: right;\n",
       "    }\n",
       "</style>\n",
       "<table border=\"1\" class=\"dataframe\">\n",
       "  <thead>\n",
       "    <tr>\n",
       "      <th>noise phobia</th>\n",
       "      <th colspan=\"2\" halign=\"left\">0</th>\n",
       "      <th colspan=\"2\" halign=\"left\">1</th>\n",
       "    </tr>\n",
       "    <tr>\n",
       "      <th>thunderstorm phobia</th>\n",
       "      <th>0</th>\n",
       "      <th>1</th>\n",
       "      <th>0</th>\n",
       "      <th>1</th>\n",
       "    </tr>\n",
       "    <tr>\n",
       "      <th>separation anxiety</th>\n",
       "      <th></th>\n",
       "      <th></th>\n",
       "      <th></th>\n",
       "      <th></th>\n",
       "    </tr>\n",
       "  </thead>\n",
       "  <tbody>\n",
       "    <tr>\n",
       "      <th>0</th>\n",
       "      <td>3452</td>\n",
       "      <td>140</td>\n",
       "      <td>298</td>\n",
       "      <td>361</td>\n",
       "    </tr>\n",
       "    <tr>\n",
       "      <th>1</th>\n",
       "      <td>387</td>\n",
       "      <td>70</td>\n",
       "      <td>129</td>\n",
       "      <td>181</td>\n",
       "    </tr>\n",
       "  </tbody>\n",
       "</table>\n",
       "</div>"
      ],
      "text/plain": [
       "noise phobia            0         1     \n",
       "thunderstorm phobia     0    1    0    1\n",
       "separation anxiety                      \n",
       "0                    3452  140  298  361\n",
       "1                     387   70  129  181"
      ]
     },
     "metadata": {},
     "output_type": "display_data"
    },
    {
     "name": "stdout",
     "output_type": "stream",
     "text": [
      "Chi-squared Test of Independence for separation anxiety and the combination of noise and\n",
      "thunderstorm phobia:\n",
      "chi2 = 343.870316, p = 3.17E-74, dof = 3\n",
      "The resulting p-value is below the set significance threshold (0.01).\n"
     ]
    }
   ],
   "source": [
    "# Create a contingency table.\n",
    "contingency = pd.crosstab(df['separation anxiety'], [df['noise phobia'],\n",
    "                                                     df['thunderstorm phobia']])\n",
    "display(contingency)\n",
    "\n",
    "\n",
    "# Execute a chi-squared test of independence.\n",
    "title = ('Chi-squared Test of Independence for separation anxiety and the combination of '\n",
    "         'noise and thunderstorm phobia:')\n",
    "print(textwrap.fill(title, width=90))\n",
    "c, p, dof, expected = scs.chi2_contingency(contingency, correction=False)\n",
    "print('chi2 = %f, p = %.2E, dof = %d' %(c, p, dof))\n",
    "if p < sig_p:\n",
    "    print('The resulting p-value is below the set significance threshold (%.2f).' %sig_p)"
   ]
  },
  {
   "cell_type": "markdown",
   "metadata": {},
   "source": [
    "## 4. Compulsion and Fearful/Anxious Behaviors"
   ]
  },
  {
   "cell_type": "markdown",
   "metadata": {},
   "source": [
    "### 4.1 Preparation of data"
   ]
  },
  {
   "cell_type": "code",
   "execution_count": 120,
   "metadata": {},
   "outputs": [],
   "source": [
    "# Create the necessary hdataframe.\n",
    "query = ('SELECT q02_main_2, q02_main_3 FROM dogs')\n",
    "df = pd.read_sql_query(query, con)\n",
    "df.columns = ['fearful/anxious behavior', 'repetitive behavior']\n",
    "for col in df:\n",
    "    df[col] = pd.to_numeric(df[col])"
   ]
  },
  {
   "cell_type": "markdown",
   "metadata": {},
   "source": [
    "### 4.1 Tables and calculations"
   ]
  },
  {
   "cell_type": "code",
   "execution_count": 121,
   "metadata": {},
   "outputs": [
    {
     "data": {
      "application/vnd.plotly.v1+json": {
       "data": [
        {
         "colorscale": [
          [
           0,
           "#00083e"
          ],
          [
           0.5,
           "#ededee"
          ],
          [
           1,
           "#ffffff"
          ]
         ],
         "hoverinfo": "none",
         "opacity": 0.75,
         "showscale": false,
         "type": "heatmap",
         "z": [
          [
           0,
           0,
           0
          ],
          [
           0.5,
           0.5,
           0.5
          ]
         ]
        }
       ],
       "layout": {
        "annotations": [
         {
          "align": "left",
          "font": {
           "color": "#ffffff"
          },
          "showarrow": false,
          "text": "<b>fearful/anxious</b>",
          "x": -0.45,
          "xanchor": "left",
          "xref": "x1",
          "y": 0,
          "yref": "y1"
         },
         {
          "align": "left",
          "font": {
           "color": "#ffffff"
          },
          "showarrow": false,
          "text": "<b>repetitive</b>",
          "x": 0.55,
          "xanchor": "left",
          "xref": "x1",
          "y": 0,
          "yref": "y1"
         },
         {
          "align": "left",
          "font": {
           "color": "#ffffff"
          },
          "showarrow": false,
          "text": "<b>both</b>",
          "x": 1.55,
          "xanchor": "left",
          "xref": "x1",
          "y": 0,
          "yref": "y1"
         },
         {
          "align": "left",
          "font": {
           "color": "#000000"
          },
          "showarrow": false,
          "text": "1893",
          "x": -0.45,
          "xanchor": "left",
          "xref": "x1",
          "y": 1,
          "yref": "y1"
         },
         {
          "align": "left",
          "font": {
           "color": "#000000"
          },
          "showarrow": false,
          "text": "324",
          "x": 0.55,
          "xanchor": "left",
          "xref": "x1",
          "y": 1,
          "yref": "y1"
         },
         {
          "align": "left",
          "font": {
           "color": "#000000"
          },
          "showarrow": false,
          "text": "494",
          "x": 1.55,
          "xanchor": "left",
          "xref": "x1",
          "y": 1,
          "yref": "y1"
         }
        ],
        "height": 110,
        "margin": {
         "b": 0,
         "l": 0,
         "r": 0,
         "t": 0
        },
        "xaxis": {
         "dtick": 1,
         "gridwidth": 2,
         "showticklabels": false,
         "tick0": -0.5,
         "ticks": "",
         "zeroline": false
        },
        "yaxis": {
         "autorange": "reversed",
         "dtick": 1,
         "gridwidth": 2,
         "showticklabels": false,
         "tick0": 0.5,
         "ticks": "",
         "zeroline": false
        }
       }
      },
      "text/html": [
       "<div id=\"26320eb9-7f00-450e-b8f3-37565503d21e\" style=\"height: 110px; width: 100%;\" class=\"plotly-graph-div\"></div><script type=\"text/javascript\">require([\"plotly\"], function(Plotly) { window.PLOTLYENV=window.PLOTLYENV || {};window.PLOTLYENV.BASE_URL=\"https://plot.ly\";Plotly.newPlot(\"26320eb9-7f00-450e-b8f3-37565503d21e\", [{\"type\": \"heatmap\", \"z\": [[0, 0, 0], [0.5, 0.5, 0.5]], \"opacity\": 0.75, \"colorscale\": [[0, \"#00083e\"], [0.5, \"#ededee\"], [1, \"#ffffff\"]], \"showscale\": false, \"hoverinfo\": \"none\"}], {\"annotations\": [{\"text\": \"<b>fearful/anxious</b>\", \"x\": -0.45, \"y\": 0, \"xref\": \"x1\", \"yref\": \"y1\", \"align\": \"left\", \"xanchor\": \"left\", \"font\": {\"color\": \"#ffffff\"}, \"showarrow\": false}, {\"text\": \"<b>repetitive</b>\", \"x\": 0.55, \"y\": 0, \"xref\": \"x1\", \"yref\": \"y1\", \"align\": \"left\", \"xanchor\": \"left\", \"font\": {\"color\": \"#ffffff\"}, \"showarrow\": false}, {\"text\": \"<b>both</b>\", \"x\": 1.55, \"y\": 0, \"xref\": \"x1\", \"yref\": \"y1\", \"align\": \"left\", \"xanchor\": \"left\", \"font\": {\"color\": \"#ffffff\"}, \"showarrow\": false}, {\"text\": \"1893\", \"x\": -0.45, \"y\": 1, \"xref\": \"x1\", \"yref\": \"y1\", \"align\": \"left\", \"xanchor\": \"left\", \"font\": {\"color\": \"#000000\"}, \"showarrow\": false}, {\"text\": \"324\", \"x\": 0.55, \"y\": 1, \"xref\": \"x1\", \"yref\": \"y1\", \"align\": \"left\", \"xanchor\": \"left\", \"font\": {\"color\": \"#000000\"}, \"showarrow\": false}, {\"text\": \"494\", \"x\": 1.55, \"y\": 1, \"xref\": \"x1\", \"yref\": \"y1\", \"align\": \"left\", \"xanchor\": \"left\", \"font\": {\"color\": \"#000000\"}, \"showarrow\": false}], \"height\": 110, \"margin\": {\"t\": 0, \"b\": 0, \"r\": 0, \"l\": 0}, \"yaxis\": {\"autorange\": \"reversed\", \"zeroline\": false, \"gridwidth\": 2, \"ticks\": \"\", \"dtick\": 1, \"tick0\": 0.5, \"showticklabels\": false}, \"xaxis\": {\"zeroline\": false, \"gridwidth\": 2, \"ticks\": \"\", \"dtick\": 1, \"tick0\": -0.5, \"showticklabels\": false}}, {\"showLink\": true, \"linkText\": \"Export to plot.ly\"})});</script>"
      ],
      "text/vnd.plotly.v1+html": [
       "<div id=\"26320eb9-7f00-450e-b8f3-37565503d21e\" style=\"height: 110px; width: 100%;\" class=\"plotly-graph-div\"></div><script type=\"text/javascript\">require([\"plotly\"], function(Plotly) { window.PLOTLYENV=window.PLOTLYENV || {};window.PLOTLYENV.BASE_URL=\"https://plot.ly\";Plotly.newPlot(\"26320eb9-7f00-450e-b8f3-37565503d21e\", [{\"type\": \"heatmap\", \"z\": [[0, 0, 0], [0.5, 0.5, 0.5]], \"opacity\": 0.75, \"colorscale\": [[0, \"#00083e\"], [0.5, \"#ededee\"], [1, \"#ffffff\"]], \"showscale\": false, \"hoverinfo\": \"none\"}], {\"annotations\": [{\"text\": \"<b>fearful/anxious</b>\", \"x\": -0.45, \"y\": 0, \"xref\": \"x1\", \"yref\": \"y1\", \"align\": \"left\", \"xanchor\": \"left\", \"font\": {\"color\": \"#ffffff\"}, \"showarrow\": false}, {\"text\": \"<b>repetitive</b>\", \"x\": 0.55, \"y\": 0, \"xref\": \"x1\", \"yref\": \"y1\", \"align\": \"left\", \"xanchor\": \"left\", \"font\": {\"color\": \"#ffffff\"}, \"showarrow\": false}, {\"text\": \"<b>both</b>\", \"x\": 1.55, \"y\": 0, \"xref\": \"x1\", \"yref\": \"y1\", \"align\": \"left\", \"xanchor\": \"left\", \"font\": {\"color\": \"#ffffff\"}, \"showarrow\": false}, {\"text\": \"1893\", \"x\": -0.45, \"y\": 1, \"xref\": \"x1\", \"yref\": \"y1\", \"align\": \"left\", \"xanchor\": \"left\", \"font\": {\"color\": \"#000000\"}, \"showarrow\": false}, {\"text\": \"324\", \"x\": 0.55, \"y\": 1, \"xref\": \"x1\", \"yref\": \"y1\", \"align\": \"left\", \"xanchor\": \"left\", \"font\": {\"color\": \"#000000\"}, \"showarrow\": false}, {\"text\": \"494\", \"x\": 1.55, \"y\": 1, \"xref\": \"x1\", \"yref\": \"y1\", \"align\": \"left\", \"xanchor\": \"left\", \"font\": {\"color\": \"#000000\"}, \"showarrow\": false}], \"height\": 110, \"margin\": {\"t\": 0, \"b\": 0, \"r\": 0, \"l\": 0}, \"yaxis\": {\"autorange\": \"reversed\", \"zeroline\": false, \"gridwidth\": 2, \"ticks\": \"\", \"dtick\": 1, \"tick0\": 0.5, \"showticklabels\": false}, \"xaxis\": {\"zeroline\": false, \"gridwidth\": 2, \"ticks\": \"\", \"dtick\": 1, \"tick0\": -0.5, \"showticklabels\": false}}, {\"showLink\": true, \"linkText\": \"Export to plot.ly\"})});</script>"
      ]
     },
     "metadata": {},
     "output_type": "display_data"
    }
   ],
   "source": [
    "# Create a contingency table.\n",
    "contingency = pd.crosstab(df['fearful/anxious behavior'], df['repetitive behavior'])\n",
    "c_df = pd.DataFrame({'fearful/anxious': contingency[0][1],\n",
    "                     'repetitive': contingency[1][0],\n",
    "                     'both': contingency[1][1]}, index=[0])\n",
    "#display(c_df)\n",
    "table = ff.create_table(c_df)\n",
    "py.iplot(table, filename='jupyter-styled-table')"
   ]
  },
  {
   "cell_type": "code",
   "execution_count": 122,
   "metadata": {},
   "outputs": [
    {
     "data": {
      "application/vnd.plotly.v1+json": {
       "data": [
        {
         "type": "scatter",
         "x": [
          "fearful/anxious",
          "repetitive",
          "both"
         ],
         "y": [
          1893,
          324,
          494
         ]
        }
       ],
       "layout": {
        "height": 600,
        "margin": {
         "b": 100,
         "l": 20,
         "r": 20
        },
        "shapes": [
         {
          "fillcolor": "blue",
          "line": {
           "color": "blue"
          },
          "opacity": 0.3,
          "type": "circle",
          "x0": 0,
          "x1": 2,
          "xref": "x",
          "y0": 0,
          "y1": 2,
          "yref": "y"
         },
         {
          "fillcolor": "gray",
          "line": {
           "color": "gray"
          },
          "opacity": 0.3,
          "type": "circle",
          "x0": 1.5,
          "x1": 3.5,
          "xref": "x",
          "y0": 0,
          "y1": 2,
          "yref": "y"
         }
        ],
        "width": 800,
        "xaxis": {
         "autotick": false,
         "showgrid": false,
         "showticklabels": false,
         "zeroline": false
        },
        "yaxis": {
         "autotick": false,
         "showgrid": false,
         "showticklabels": false,
         "zeroline": false
        }
       }
      },
      "text/html": [
       "<div id=\"f3398307-2d9f-4ace-a6a9-0f66c5bfa016\" style=\"height: 600px; width: 800px;\" class=\"plotly-graph-div\"></div><script type=\"text/javascript\">require([\"plotly\"], function(Plotly) { window.PLOTLYENV=window.PLOTLYENV || {};window.PLOTLYENV.BASE_URL=\"https://plot.ly\";Plotly.newPlot(\"f3398307-2d9f-4ace-a6a9-0f66c5bfa016\", [{\"type\": \"scatter\", \"x\": [\"fearful/anxious\", \"repetitive\", \"both\"], \"y\": [1893, 324, 494]}], {\"xaxis\": {\"showticklabels\": false, \"autotick\": false, \"showgrid\": false, \"zeroline\": false}, \"yaxis\": {\"showticklabels\": false, \"autotick\": false, \"showgrid\": false, \"zeroline\": false}, \"shapes\": [{\"opacity\": 0.3, \"xref\": \"x\", \"yref\": \"y\", \"fillcolor\": \"blue\", \"x0\": 0, \"y0\": 0, \"x1\": 2, \"y1\": 2, \"type\": \"circle\", \"line\": {\"color\": \"blue\"}}, {\"opacity\": 0.3, \"xref\": \"x\", \"yref\": \"y\", \"fillcolor\": \"gray\", \"x0\": 1.5, \"y0\": 0, \"x1\": 3.5, \"y1\": 2, \"type\": \"circle\", \"line\": {\"color\": \"gray\"}}], \"margin\": {\"l\": 20, \"r\": 20, \"b\": 100}, \"height\": 600, \"width\": 800}, {\"showLink\": true, \"linkText\": \"Export to plot.ly\"})});</script>"
      ],
      "text/vnd.plotly.v1+html": [
       "<div id=\"f3398307-2d9f-4ace-a6a9-0f66c5bfa016\" style=\"height: 600px; width: 800px;\" class=\"plotly-graph-div\"></div><script type=\"text/javascript\">require([\"plotly\"], function(Plotly) { window.PLOTLYENV=window.PLOTLYENV || {};window.PLOTLYENV.BASE_URL=\"https://plot.ly\";Plotly.newPlot(\"f3398307-2d9f-4ace-a6a9-0f66c5bfa016\", [{\"type\": \"scatter\", \"x\": [\"fearful/anxious\", \"repetitive\", \"both\"], \"y\": [1893, 324, 494]}], {\"xaxis\": {\"showticklabels\": false, \"autotick\": false, \"showgrid\": false, \"zeroline\": false}, \"yaxis\": {\"showticklabels\": false, \"autotick\": false, \"showgrid\": false, \"zeroline\": false}, \"shapes\": [{\"opacity\": 0.3, \"xref\": \"x\", \"yref\": \"y\", \"fillcolor\": \"blue\", \"x0\": 0, \"y0\": 0, \"x1\": 2, \"y1\": 2, \"type\": \"circle\", \"line\": {\"color\": \"blue\"}}, {\"opacity\": 0.3, \"xref\": \"x\", \"yref\": \"y\", \"fillcolor\": \"gray\", \"x0\": 1.5, \"y0\": 0, \"x1\": 3.5, \"y1\": 2, \"type\": \"circle\", \"line\": {\"color\": \"gray\"}}], \"margin\": {\"l\": 20, \"r\": 20, \"b\": 100}, \"height\": 600, \"width\": 800}, {\"showLink\": true, \"linkText\": \"Export to plot.ly\"})});</script>"
      ]
     },
     "metadata": {},
     "output_type": "display_data"
    }
   ],
   "source": [
    "data = [go.Scatter(x=c_df.columns, y=c_df.sum())]\n",
    "layout = {\n",
    "    'xaxis': {\n",
    "        'showticklabels': False,\n",
    "        'autotick': False,\n",
    "        'showgrid': False,\n",
    "        'zeroline': False,\n",
    "    },\n",
    "    'yaxis': {\n",
    "        'showticklabels': False,\n",
    "        'autotick': False,\n",
    "        'showgrid': False,\n",
    "        'zeroline': False,\n",
    "    },\n",
    "    'shapes': [\n",
    "        {\n",
    "            'opacity': 0.3,\n",
    "            'xref': 'x',\n",
    "            'yref': 'y',\n",
    "            'fillcolor': 'blue',\n",
    "            'x0': 0,\n",
    "            'y0': 0,\n",
    "            'x1': 2,\n",
    "            'y1': 2,\n",
    "            'type': 'circle',\n",
    "            'line': {\n",
    "                'color': 'blue',\n",
    "            },\n",
    "        },\n",
    "        {\n",
    "            'opacity': 0.3,\n",
    "            'xref': 'x',\n",
    "            'yref': 'y',\n",
    "            'fillcolor': 'gray',\n",
    "            'x0': 1.5,\n",
    "            'y0': 0,\n",
    "            'x1': 3.5,\n",
    "            'y1': 2,\n",
    "            'type': 'circle',\n",
    "            'line': {\n",
    "                'color': 'gray',\n",
    "            },\n",
    "        }\n",
    "    ],\n",
    "    'margin': {\n",
    "        'l': 20,\n",
    "        'r': 20,\n",
    "        'b': 100\n",
    "    },\n",
    "    'height': 600,\n",
    "    'width': 800,\n",
    "}\n",
    "fig = {\n",
    "    'data': data,\n",
    "    'layout': layout,\n",
    "}\n",
    "py.iplot(fig, filename='venn-diagram')"
   ]
  },
  {
   "cell_type": "code",
   "execution_count": 123,
   "metadata": {},
   "outputs": [
    {
     "name": "stdout",
     "output_type": "stream",
     "text": [
      "Chi-square Test of Independence:\n",
      "chi2 = 64.426486, p = 1.00E-15, dof = 1\n",
      "The resulting p-value is below the set significance threshold (0.01).\n"
     ]
    }
   ],
   "source": [
    "# Execute a chi-squared test of independence.\n",
    "c, p, dof, expected = scs.chi2_contingency(contingency, correction=False)\n",
    "print('Chi-square Test of Independence:')\n",
    "print('chi2 = %f, p = %.2E, dof = %d' %(c, p, dof))\n",
    "if p < sig_p:\n",
    "    print('The resulting p-value is below the set significance threshold (%.2f).' %sig_p)"
   ]
  },
  {
   "cell_type": "markdown",
   "metadata": {},
   "source": [
    "## 5. Aggression and Fearful/Anxious Behavior"
   ]
  },
  {
   "cell_type": "markdown",
   "metadata": {},
   "source": [
    "### 5.1 Preparation of data"
   ]
  },
  {
   "cell_type": "code",
   "execution_count": 124,
   "metadata": {},
   "outputs": [],
   "source": [
    "# Create the necessary dataframe.\n",
    "query = ('SELECT q02_main_1, q02_main_2 FROM dogs')\n",
    "df = pd.read_sql_query(query, con)\n",
    "df.columns = ['aggression', 'fearful/anxious behavior']\n",
    "for col in df:\n",
    "    df[col] = pd.to_numeric(df[col])"
   ]
  },
  {
   "cell_type": "markdown",
   "metadata": {},
   "source": [
    "### 5.1 Tables and calculations"
   ]
  },
  {
   "cell_type": "code",
   "execution_count": 125,
   "metadata": {},
   "outputs": [
    {
     "data": {
      "text/html": [
       "<div>\n",
       "<style scoped>\n",
       "    .dataframe tbody tr th:only-of-type {\n",
       "        vertical-align: middle;\n",
       "    }\n",
       "\n",
       "    .dataframe tbody tr th {\n",
       "        vertical-align: top;\n",
       "    }\n",
       "\n",
       "    .dataframe thead th {\n",
       "        text-align: right;\n",
       "    }\n",
       "</style>\n",
       "<table border=\"1\" class=\"dataframe\">\n",
       "  <thead>\n",
       "    <tr style=\"text-align: right;\">\n",
       "      <th>fearful/anxious behavior</th>\n",
       "      <th>0</th>\n",
       "      <th>1</th>\n",
       "    </tr>\n",
       "    <tr>\n",
       "      <th>aggression</th>\n",
       "      <th></th>\n",
       "      <th></th>\n",
       "    </tr>\n",
       "  </thead>\n",
       "  <tbody>\n",
       "    <tr>\n",
       "      <th>0</th>\n",
       "      <td>1905</td>\n",
       "      <td>1325</td>\n",
       "    </tr>\n",
       "    <tr>\n",
       "      <th>1</th>\n",
       "      <td>726</td>\n",
       "      <td>1062</td>\n",
       "    </tr>\n",
       "  </tbody>\n",
       "</table>\n",
       "</div>"
      ],
      "text/plain": [
       "fearful/anxious behavior     0     1\n",
       "aggression                          \n",
       "0                         1905  1325\n",
       "1                          726  1062"
      ]
     },
     "metadata": {},
     "output_type": "display_data"
    },
    {
     "name": "stdout",
     "output_type": "stream",
     "text": [
      "Chi-square Test of Independence:\n",
      "chi2 = 155.793414, p = 9.39E-36, dof = 1\n",
      "The resulting p-value is below the set significance threshold (0.01).\n"
     ]
    }
   ],
   "source": [
    "# Create a contingency table.\n",
    "contingency = pd.crosstab(df['aggression'], df['fearful/anxious behavior'])\n",
    "display(contingency)\n",
    "\n",
    "# Execute a chi-squared test of independence.\n",
    "c, p, dof, expected = scs.chi2_contingency(contingency, correction=False)\n",
    "print('Chi-square Test of Independence:')\n",
    "print('chi2 = %f, p = %.2E, dof = %d' %(c, p, dof))\n",
    "if p < sig_p:\n",
    "    print('The resulting p-value is below the set significance threshold (%.2f).' %sig_p)"
   ]
  },
  {
   "cell_type": "markdown",
   "metadata": {},
   "source": [
    "## 6. Reasons for Joining the Study"
   ]
  },
  {
   "cell_type": "markdown",
   "metadata": {},
   "source": [
    "### 6.1 Preparation of data"
   ]
  },
  {
   "cell_type": "code",
   "execution_count": 126,
   "metadata": {},
   "outputs": [],
   "source": [
    "# Create the necessary dataframe.\n",
    "query = ('SELECT question_reason_for_part_1, question_reason_for_part_2, '  \n",
    "         'question_reason_for_part_3, question_reason_for_part_4, '\n",
    "         'question_reason_for_part_5 FROM users')\n",
    "df = pd.read_sql_query(query, con)\n",
    "df.columns = ['Love', 'Shelter Animals', 'Behavior Problems', 'Work', 'Other']\n",
    "for col in df:\n",
    "    df[col] = pd.to_numeric(df[col])"
   ]
  },
  {
   "cell_type": "markdown",
   "metadata": {},
   "source": [
    "### 6.2 Breakdown of reasons for joining the study"
   ]
  },
  {
   "cell_type": "code",
   "execution_count": 127,
   "metadata": {},
   "outputs": [
    {
     "data": {
      "application/vnd.plotly.v1+json": {
       "data": [
        {
         "type": "bar",
         "x": [
          "Love",
          "Shelter Animals",
          "Behavior Problems",
          "Work",
          "Other"
         ],
         "y": [
          2595,
          1377,
          830,
          1049,
          273
         ]
        }
       ],
       "layout": {
        "autosize": false,
        "height": 500,
        "title": "Motivation for Participation",
        "width": 500,
        "xaxis": {
         "title": "Motivation"
        },
        "yaxis": {
         "title": "Total"
        }
       }
      },
      "text/html": [
       "<div id=\"f5521290-8c2e-4577-a3be-6beb98baf5c4\" style=\"height: 500px; width: 500px;\" class=\"plotly-graph-div\"></div><script type=\"text/javascript\">require([\"plotly\"], function(Plotly) { window.PLOTLYENV=window.PLOTLYENV || {};window.PLOTLYENV.BASE_URL=\"https://plot.ly\";Plotly.newPlot(\"f5521290-8c2e-4577-a3be-6beb98baf5c4\", [{\"type\": \"bar\", \"x\": [\"Love\", \"Shelter Animals\", \"Behavior Problems\", \"Work\", \"Other\"], \"y\": [2595, 1377, 830, 1049, 273]}], {\"title\": \"Motivation for Participation\", \"xaxis\": {\"title\": \"Motivation\"}, \"yaxis\": {\"title\": \"Total\"}, \"autosize\": false, \"width\": 500, \"height\": 500}, {\"showLink\": true, \"linkText\": \"Export to plot.ly\"})});</script>"
      ],
      "text/vnd.plotly.v1+html": [
       "<div id=\"f5521290-8c2e-4577-a3be-6beb98baf5c4\" style=\"height: 500px; width: 500px;\" class=\"plotly-graph-div\"></div><script type=\"text/javascript\">require([\"plotly\"], function(Plotly) { window.PLOTLYENV=window.PLOTLYENV || {};window.PLOTLYENV.BASE_URL=\"https://plot.ly\";Plotly.newPlot(\"f5521290-8c2e-4577-a3be-6beb98baf5c4\", [{\"type\": \"bar\", \"x\": [\"Love\", \"Shelter Animals\", \"Behavior Problems\", \"Work\", \"Other\"], \"y\": [2595, 1377, 830, 1049, 273]}], {\"title\": \"Motivation for Participation\", \"xaxis\": {\"title\": \"Motivation\"}, \"yaxis\": {\"title\": \"Total\"}, \"autosize\": false, \"width\": 500, \"height\": 500}, {\"showLink\": true, \"linkText\": \"Export to plot.ly\"})});</script>"
      ]
     },
     "metadata": {},
     "output_type": "display_data"
    }
   ],
   "source": [
    "# Create a bar graph to illustrate breakdown of responses.\n",
    "data = [go.Bar(x=df.columns, y=df.sum())]\n",
    "layout = go.Layout(title=\"Motivation for Participation\",\n",
    "                   xaxis=dict(title='Motivation'),\n",
    "                   yaxis=dict(title='Total'),\n",
    "                   autosize=False, width=500, height=500)\n",
    "fig = go.Figure(data=data, layout=layout)\n",
    "py.iplot(fig, filename='jupyter-styled-bar')\n",
    "\n",
    "# NOTE: This does not include a count of users who did not provide a reason."
   ]
  }
 ],
 "metadata": {
  "kernelspec": {
   "display_name": "Python 3",
   "language": "python",
   "name": "python3"
  },
  "language_info": {
   "codemirror_mode": {
    "name": "ipython",
    "version": 3
   },
   "file_extension": ".py",
   "mimetype": "text/x-python",
   "name": "python",
   "nbconvert_exporter": "python",
   "pygments_lexer": "ipython3",
   "version": "3.6.3"
  }
 },
 "nbformat": 4,
 "nbformat_minor": 2
}
