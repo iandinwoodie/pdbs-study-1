{
 "cells": [
  {
   "cell_type": "markdown",
   "metadata": {},
   "source": [
    "# Pet Dog Behavior Survey\n"
   ]
  },
  {
   "cell_type": "markdown",
   "metadata": {},
   "source": [
    "## Table of Contents\n",
    "1. [General Overview](1.0-ird-pdbs-general-overview.ipynb)\n",
    "2. [Overall Incidence](2.0-ird-pdbs-overall-incidence.ipynb)\n",
    "3. [First Investigation](3.0-ird-pdbs-first-investigation.ipynb)\n",
    "4. [Second Investigation](4.0-ird-pdbs-second-investigation.ipynb)\n",
    "5. [Third Investigation](5.0-ird-pdbs-third-investigation.ipynb)"
   ]
  }
 ],
 "metadata": {
  "kernelspec": {
   "display_name": "Python 3",
   "language": "python",
   "name": "python3"
  },
  "language_info": {
   "codemirror_mode": {
    "name": "ipython",
    "version": 3
   },
   "file_extension": ".py",
   "mimetype": "text/x-python",
   "name": "python",
   "nbconvert_exporter": "python",
   "pygments_lexer": "ipython3",
   "version": "3.6.3"
  }
 },
 "nbformat": 4,
 "nbformat_minor": 2
}
