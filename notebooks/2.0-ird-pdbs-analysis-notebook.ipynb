{
 "cells": [
  {
   "cell_type": "markdown",
   "metadata": {},
   "source": [
    "# <center>Phase 2 - Publication<center>"
   ]
  },
  {
   "cell_type": "code",
   "execution_count": 1,
   "metadata": {},
   "outputs": [],
   "source": [
    "# General imports.\n",
    "import sqlite3\n",
    "import pandas as pd\n",
    "from matplotlib_venn import venn2, venn3\n",
    "import scipy.stats as scs\n",
    "import textwrap\n",
    "import matplotlib.pyplot as plt\n",
    "import numpy as np\n",
    "import seaborn as sns\n",
    "from  itertools import combinations\n",
    "import os\n",
    "from matplotlib.colors import ListedColormap\n",
    "from matplotlib import ticker\n",
    "from scipy.stats import ttest_ind\n",
    "import math\n",
    "\n",
    "# Imports from neighbor directories.\n",
    "import sys\n",
    "sys.path.append(\"..\")\n",
    "from src.utilities import field_registry as fieldreg\n",
    "\n",
    "# IPython magics for this notebook.\n",
    "%matplotlib inline\n",
    "\n",
    "# Use latex font for matplotlib\n",
    "plt.rc('text', usetex=True)\n",
    "plt.rc('font', family='serif')"
   ]
  },
  {
   "cell_type": "code",
   "execution_count": 2,
   "metadata": {},
   "outputs": [],
   "source": [
    "# Switches\n",
    "SAVE_OUTPUT = False\n",
    "\n",
    "# Data Globals\n",
    "FR = fieldreg.FieldRegistry()\n",
    "TOTAL_USERS = 0\n",
    "REMAINING_USERS = 0\n",
    "TOTAL_DOGS = 0\n",
    "REMAINING_DOGS = 0\n",
    "PREVALENCE = lambda x: (x / REMAINING_DOGS) * 100\n",
    "CATEGORY_MATRIX = pd.DataFrame()\n",
    "\n",
    "# Database Globals\n",
    "USER_TABLE = 'users'\n",
    "DOG_TABLE = 'dogs'\n",
    "BIAS_FILTER = '''\n",
    "    USING (record_id)\n",
    "    WHERE question_reason_for_part_3 = 0\n",
    "    OR (question_reason_for_part_3 = 1 AND q01_main != 1)'''\n",
    "CON = sqlite3.connect('../data/processed/processed.db')"
   ]
  },
  {
   "cell_type": "code",
   "execution_count": 3,
   "metadata": {},
   "outputs": [],
   "source": [
    "def createStringDataFrame(table, fields, labels, filtered=True):\n",
    "    query = 'SELECT ' + fields + ' FROM ' + table\n",
    "    if filtered:\n",
    "        table2 = USER_TABLE if table == DOG_TABLE else DOG_TABLE\n",
    "        query += ' JOIN ' + table2 + ' ' + BIAS_FILTER\n",
    "    df = pd.read_sql_query(query, CON)\n",
    "    df.columns = labels\n",
    "    return df\n",
    "\n",
    "def convertToNumeric(df):\n",
    "    df = df.apply(pd.to_numeric, errors='coerce')\n",
    "    return df\n",
    "\n",
    "def createNumericDataFrame(table, fields, labels, filtered=True):\n",
    "    df = createStringDataFrame(table, fields, labels, filtered)\n",
    "    return convertToNumeric(df)\n",
    "\n",
    "def replaceFields(df, column, replacement_dict):\n",
    "    df[column].replace(replacement_dict, inplace=True)\n",
    "\n",
    "def getValueCountAndPrevalence(df, field):\n",
    "    s = df[field].value_counts()\n",
    "    p = s.apply(PREVALENCE).round().astype(int)\n",
    "    rv = pd.concat([s, p], axis=1)\n",
    "    rv.columns = ['frequency', 'prevalence']\n",
    "    return rv\n",
    "\n",
    "def createCategoryMatrix():\n",
    "    fields = []\n",
    "    labels = []\n",
    "    counter = 1\n",
    "    for cat, subdict in FR.labels.items():\n",
    "        for key, value in  subdict.items():\n",
    "            if counter == 11:\n",
    "                counter += 1;\n",
    "            fields.append('q02_main_{}'.format(counter))\n",
    "            labels.append(key[0])\n",
    "            break\n",
    "        counter += 1\n",
    "    fields = ', '.join(fields)\n",
    "    df = createNumericDataFrame(DOG_TABLE, fields, labels, filtered=True)\n",
    "    cols = []\n",
    "    pvalue = {}\n",
    "    for col in df:\n",
    "        cols.append(col)\n",
    "        pvalue[col] = {}\n",
    "    pairs = list(combinations(df.columns, 2))\n",
    "    for pair in pairs:\n",
    "        contingency = pd.crosstab(df[pair[0]], df[pair[1]])\n",
    "        c, p, dof, expected = scs.chi2_contingency(contingency, correction=False)\n",
    "        pvalue[pair[0]][pair[1]] = p\n",
    "        pvalue[pair[1]][pair[0]] = p\n",
    "    df = pd.DataFrame(pvalue).sort_index(ascending=True)\n",
    "    return df\n",
    "\n",
    "def createQuestionMatrix():\n",
    "    fields = ''\n",
    "    for cat, sublist in FR.fields.items():\n",
    "        for field in sublist:\n",
    "            fields += '{}, '.format(field)\n",
    "    fields = fields[:-2]\n",
    "    labels = []\n",
    "    for cat, subdict in FR.labels.items():\n",
    "        for key, value in  subdict.items():\n",
    "            labels.append(key)\n",
    "    df = createNumericDataFrame(DOG_TABLE, fields, labels, filtered=True)\n",
    "    cols = []\n",
    "    pvalue = {}\n",
    "    for col in df:\n",
    "        cols.append(col)\n",
    "        pvalue[col] = {}\n",
    "    pairs = list(combinations(df.columns, 2))\n",
    "    for pair in pairs:\n",
    "        contingency = pd.crosstab(df[pair[0]], df[pair[1]])\n",
    "        c, p, dof, expected = scs.chi2_contingency(contingency, correction=False)\n",
    "        pvalue[pair[0]][pair[1]] = p\n",
    "        pvalue[pair[1]][pair[0]] = p\n",
    "    df = pd.DataFrame(pvalue).sort_index(ascending=True)\n",
    "    return df\n",
    "\n",
    "def createCorrelationMatrix():\n",
    "    fields = []\n",
    "    labels = []\n",
    "    counter = 1\n",
    "    for cat, subdict in FR.labels.items():\n",
    "        for key, value in  subdict.items():\n",
    "            if counter == 11:\n",
    "                counter += 1;\n",
    "            fields.append('q02_main_{}'.format(counter))\n",
    "            labels.append(key[0])\n",
    "            break\n",
    "        counter += 1\n",
    "    fields = ', '.join(fields)\n",
    "    df = createNumericDataFrame(DOG_TABLE, fields, labels, filtered=True)\n",
    "    return df.corr()\n",
    "\n",
    "def createOddsRatioMatrix():\n",
    "    fields = []\n",
    "    labels = []\n",
    "    counter = 1\n",
    "    for cat, subdict in FR.labels.items():\n",
    "        for key, value in  subdict.items():\n",
    "            if counter == 11:\n",
    "                counter += 1;\n",
    "            fields.append('q02_main_{}'.format(counter))\n",
    "            labels.append(key[0])\n",
    "            break\n",
    "        counter += 1\n",
    "    fields = ', '.join(fields)\n",
    "    df = createNumericDataFrame(DOG_TABLE, fields, labels, filtered=True)\n",
    "    cols = []\n",
    "    pvalue = {}\n",
    "    for col in df:\n",
    "        cols.append(col)\n",
    "        pvalue[col] = {}\n",
    "    pairs = list(combinations(df.columns, 2))\n",
    "    for pair in pairs:\n",
    "        contingency = pd.crosstab(df[pair[0]], df[pair[1]])\n",
    "        c, p, dof, expected = scs.chi2_contingency(contingency, correction=False)\n",
    "        pvalue[pair[0]][pair[1]] = getOddsRatio(contingency)\n",
    "        pvalue[pair[1]][pair[0]] = getOddsRatio(contingency)\n",
    "    df = pd.DataFrame(pvalue).sort_index(ascending=True)\n",
    "    return df\n",
    "\n",
    "def displayOddsRatio(df):\n",
    "    odds, ci_low, ci_high, tot = getOddsRatioAndConfidenceInterval(df)\n",
    "    print('OR = %.2f, 95%% CI: %.2f-%.2f, n = %d'\n",
    "          %(round(odds, 2), round(ci_low, 2), round(ci_high, 2), tot))\n",
    "\n",
    "def getOddsRatio(df):\n",
    "    return (df[1][1]/df[1][0])/(df[0][1]/df[0][0])\n",
    "\n",
    "def getOddsRatioAndConfidenceInterval(df):\n",
    "    odds = getOddsRatio(df)\n",
    "    nl_or = math.log(odds)\n",
    "    se_nl_or = math.sqrt((1/df[0][0])+(1/df[0][1])+(1/df[1][0])+(1/df[1][1]))\n",
    "    ci_low = math.exp(nl_or - (1.96 * se_nl_or))\n",
    "    ci_high = math.exp(nl_or + (1.96 * se_nl_or))\n",
    "    tot = df[0][0] + df[0][1] + df[1][0] + df[1][1]\n",
    "    return odds, ci_low, ci_high, tot\n",
    "\n",
    "def get_significance_category(p):\n",
    "    if np.isnan(p):\n",
    "        return p\n",
    "    elif p > 10**(-3):\n",
    "        return -1\n",
    "    elif p <= 10**(-3) and p > 10**(-6):\n",
    "        return 0\n",
    "    else:\n",
    "        return 1\n",
    "    \n",
    "def displaySeriesMedian(s, units=\"\"):\n",
    "    print('MD = %.2f %s (SD = %.2f, min = %.2f, max = %.2f, n = %d)'\n",
    "          %(round(s.median(), 2), units, round(s.std(), 2), round(s.min(), 2), round(s.max(), 2), s.count()))\n",
    "    \n",
    "def displaySeriesMean(s, units=\"\"):\n",
    "    print('M = %.2f %s (SD = %.2f, min = %.2f, max = %.2f, n = %d)'\n",
    "          %(round(s.mean(), 2), units, round(s.std(), 2), round(s.min(), 2), round(s.max(), 2), s.count()))\n",
    "    \n",
    "def convert_to_binary_response(x, y=1):\n",
    "    x = float(x)\n",
    "    if x < y:\n",
    "        return 0\n",
    "    return 1\n",
    "        \n",
    "def exportTable(data, title):\n",
    "    if not SAVE_OUTPUT:\n",
    "        return\n",
    "    file_ = os.path.join('..', 'reports', 'tables', title) + '.tex'\n",
    "    with open(file_, 'w') as tf:\n",
    "        tf.write(r'\\documentclass[varwidth=\\maxdimen]{standalone}\\usepackage{booktabs}\\begin{document}')\n",
    "        tf.write(df.to_latex())\n",
    "        tf.write(r'\\end{document}')\n",
    "        \n",
    "def exportFigure(figure, title):\n",
    "    if not SAVE_OUTPUT:\n",
    "        return\n",
    "    file_ = os.path.join('..', 'reports', 'figures', title) + '.pdf'\n",
    "    figure.tight_layout()\n",
    "    figure.savefig(file_, format='pdf')"
   ]
  },
  {
   "cell_type": "markdown",
   "metadata": {},
   "source": [
    "## <center>Demographics</center>"
   ]
  },
  {
   "cell_type": "markdown",
   "metadata": {},
   "source": [
    "### Number of participants:"
   ]
  },
  {
   "cell_type": "code",
   "execution_count": 4,
   "metadata": {},
   "outputs": [
    {
     "name": "stdout",
     "output_type": "stream",
     "text": [
      "N = 3201 owners [unadjusted]\n"
     ]
    }
   ],
   "source": [
    "df = createNumericDataFrame(USER_TABLE, 'COUNT(*)', ['count'], filtered=False)\n",
    "# Assign value to global.\n",
    "TOTAL_USERS = df['count'][0]\n",
    "print('N = %d owners [unadjusted]' %TOTAL_USERS)"
   ]
  },
  {
   "cell_type": "markdown",
   "metadata": {},
   "source": [
    "### Number of participating dogs:"
   ]
  },
  {
   "cell_type": "code",
   "execution_count": 5,
   "metadata": {},
   "outputs": [
    {
     "name": "stdout",
     "output_type": "stream",
     "text": [
      "N = 5018 dogs [unadjusted]\n"
     ]
    }
   ],
   "source": [
    "df = createNumericDataFrame(DOG_TABLE, 'COUNT(*)', ['count'], filtered=False)\n",
    "# Assign value to global.\n",
    "TOTAL_DOGS = df['count'][0]\n",
    "print('N = %d dogs [unadjusted]' %TOTAL_DOGS)"
   ]
  },
  {
   "cell_type": "markdown",
   "metadata": {},
   "source": [
    "### Suspicion of behavior problems as one of multiple motivating factors:"
   ]
  },
  {
   "cell_type": "code",
   "execution_count": 6,
   "metadata": {},
   "outputs": [
    {
     "name": "stdout",
     "output_type": "stream",
     "text": [
      "n = 830 owners (26%) [unadjusted]\n"
     ]
    }
   ],
   "source": [
    "fields = ('question_reason_for_part_1, question_reason_for_part_2, '\n",
    "          'question_reason_for_part_3, question_reason_for_part_4, '\n",
    "          'question_reason_for_part_5')\n",
    "labels = ['love for dogs', 'you help shelter animals', 'suspicion of behavior problems',\n",
    "          'work with animals', 'other']\n",
    "df = createNumericDataFrame(USER_TABLE, fields, labels, filtered=False)\n",
    "df = df[df[labels[2]] == 1]\n",
    "df['sum'] = df.sum(axis=1)\n",
    "s = df.sum(0, skipna=False)\n",
    "\n",
    "print('n = %d owners (%d%%) [unadjusted]' %(s.iloc[2], round((s.iloc[2]/TOTAL_USERS)*100, 0)))"
   ]
  },
  {
   "cell_type": "markdown",
   "metadata": {},
   "source": [
    "### Suspicion of behavior problems as the sole motivating factor:"
   ]
  },
  {
   "cell_type": "code",
   "execution_count": 7,
   "metadata": {},
   "outputs": [
    {
     "name": "stdout",
     "output_type": "stream",
     "text": [
      "n = 98 owners (3%) [unadjusted]\n"
     ]
    }
   ],
   "source": [
    "fields = ('question_reason_for_part_1, question_reason_for_part_2, '\n",
    "          'question_reason_for_part_3, question_reason_for_part_4, '\n",
    "          'question_reason_for_part_5')\n",
    "labels = ['love for dogs', 'you help shelter animals', 'suspicion of behavior problems',\n",
    "          'work with animals', 'other']\n",
    "df = createNumericDataFrame(USER_TABLE, fields, labels, filtered=False)\n",
    "df = df[df[labels[2]] == 1]\n",
    "df['sum'] = df.sum(axis=1)\n",
    "df = df[df['sum'] == 1]\n",
    "s = df.sum(0, skipna=False)\n",
    "\n",
    "print('n = %d owners (%d%%) [unadjusted]' %(s.iloc[2], round((s.iloc[2]/TOTAL_USERS)*100, 0)))"
   ]
  },
  {
   "cell_type": "markdown",
   "metadata": {},
   "source": [
    "### Adjusting sample for bias:"
   ]
  },
  {
   "cell_type": "code",
   "execution_count": 8,
   "metadata": {},
   "outputs": [
    {
     "name": "stdout",
     "output_type": "stream",
     "text": [
      "Adjusted study population:\n",
      "N = 2480 owners (adjusted)\n",
      "N = 4114 dogs (adjusted)\n"
     ]
    }
   ],
   "source": [
    "fields = 'q02_score'\n",
    "labels = ['Score']\n",
    "df_adjusted_dogs = createNumericDataFrame(DOG_TABLE, fields, labels)\n",
    "REMAINING_DOGS = len(df_adjusted_dogs.index)\n",
    "df_adjusted_users = createNumericDataFrame(USER_TABLE, 'COUNT(DISTINCT email)', ['count'])\n",
    "REMAINING_USERS = df_adjusted_users['count'][0]\n",
    "\n",
    "# Display the count results.\n",
    "print('Adjusted study population:')\n",
    "print('N = %d owners (adjusted)' %REMAINING_USERS)\n",
    "print('N = %d dogs (adjusted)' %REMAINING_DOGS)"
   ]
  },
  {
   "cell_type": "markdown",
   "metadata": {},
   "source": [
    "### Dogs per household:"
   ]
  },
  {
   "cell_type": "code",
   "execution_count": 9,
   "metadata": {},
   "outputs": [
    {
     "name": "stdout",
     "output_type": "stream",
     "text": [
      "MD = 1.00 dogs (SD = 0.96, min = 1.00, max = 13.00, n = 2480)\n"
     ]
    }
   ],
   "source": [
    "fields = 'record_id'\n",
    "labels = ['record index']\n",
    "df = createStringDataFrame(DOG_TABLE, fields, labels)\n",
    "\n",
    "record_dict = {}\n",
    "for index, row in df.iterrows():\n",
    "    key = row.iloc[0]\n",
    "    if not key in record_dict:\n",
    "        record_dict[key] = 1\n",
    "    else:\n",
    "        record_dict[key] += 1\n",
    "\n",
    "s = pd.Series(record_dict, name='dogs')\n",
    "displaySeriesMedian(s, 'dogs')"
   ]
  },
  {
   "cell_type": "markdown",
   "metadata": {},
   "source": [
    "### Age at date of response"
   ]
  },
  {
   "cell_type": "code",
   "execution_count": 10,
   "metadata": {},
   "outputs": [
    {
     "name": "stdout",
     "output_type": "stream",
     "text": [
      "MD = 72.00 months (SD = 47.42, min = 2.00, max = 252.00, n = 4030)\n"
     ]
    }
   ],
   "source": [
    "fields = 'dog_age_today_months'\n",
    "labels = ['age (months)']\n",
    "df = createNumericDataFrame(DOG_TABLE, fields, labels)\n",
    "displaySeriesMedian(df[labels[0]], 'months')"
   ]
  },
  {
   "cell_type": "markdown",
   "metadata": {},
   "source": [
    "### Gender and neutered status:"
   ]
  },
  {
   "cell_type": "code",
   "execution_count": 11,
   "metadata": {},
   "outputs": [
    {
     "name": "stdout",
     "output_type": "stream",
     "text": [
      "males: n = 2005 (49%), neutered: n = 1682 (84%), intact: n = 312 (16%)\n",
      "females: n = 2095 (51%), neutered: n = 1778 (85%), intact: n = 308 (15%)\n"
     ]
    }
   ],
   "source": [
    "fields = 'dog_sex, dog_spayed'\n",
    "labels = ['Gender', 'Neutered']\n",
    "df = createStringDataFrame(DOG_TABLE, fields, labels)\n",
    "replacements = {'':'No response', '1':'Male', '2':'Female'}\n",
    "replaceFields(df, labels[0], replacements)\n",
    "replacements = {'':'No response', '0':'No', '1':'Yes', '2':\"I don't know\"}\n",
    "replaceFields(df, labels[1], replacements)\n",
    "df = pd.crosstab(df[labels[0]], df[labels[1]], margins=True)\n",
    "\n",
    "print(\"males: n = %d (%d%%), neutered: n = %d (%d%%), intact: n = %d (%d%%)\"\n",
    "      %(df.loc['Male', 'All'], round((df.loc['Male', 'All']/df.loc['All', 'All'])*100, 0),\n",
    "        df.loc['Male', 'Yes'], round((df.loc['Male', 'Yes']/df.loc['Male', 'All'])*100, 0),\n",
    "        df.loc['Male', 'No'], round((df.loc['Male', 'No']/df.loc['Male', 'All'])*100, 0)))\n",
    "print(\"females: n = %d (%d%%), neutered: n = %d (%d%%), intact: n = %d (%d%%)\"\n",
    "      %(df.loc['Female', 'All'], round((df.loc['Female', 'All']/df.loc['All', 'All'])*100, 0),\n",
    "        df.loc['Female', 'Yes'], round((df.loc['Female', 'Yes']/df.loc['Female', 'All'])*100, 0),\n",
    "        df.loc['Female', 'No'], round((df.loc['Female', 'No']/df.loc['Female', 'All'])*100, 0)))"
   ]
  },
  {
   "cell_type": "markdown",
   "metadata": {},
   "source": [
    "## <center>Prevalence of Behavior Problems</center>"
   ]
  },
  {
   "cell_type": "markdown",
   "metadata": {},
   "source": [
    "### Number of dogs with behavior problems and overall prevalence:"
   ]
  },
  {
   "cell_type": "code",
   "execution_count": 12,
   "metadata": {},
   "outputs": [
    {
     "name": "stdout",
     "output_type": "stream",
     "text": [
      "Dogs with behavior problems: n = 3512 dogs\n",
      "Overall prevalence: 85% (3512/4114 dogs)\n"
     ]
    }
   ],
   "source": [
    "fields = 'q02_score'\n",
    "labels = ['Score']\n",
    "df_adjusted_dogs = createNumericDataFrame(DOG_TABLE, fields, labels)\n",
    "cnt_total_dogs_w_problems_adjusted = len(\n",
    "    df_adjusted_dogs[df_adjusted_dogs[labels[0]] != 0].index)\n",
    "\n",
    "print('Dogs with behavior problems: n = %d dogs' %(cnt_total_dogs_w_problems_adjusted))\n",
    "\n",
    "# Calculate the adjusted prevalence.\n",
    "prevalence_adjusted = PREVALENCE(cnt_total_dogs_w_problems_adjusted)\n",
    "\n",
    "print('Overall prevalence: %d%% (%d/%d dogs)'\n",
    "      %(round(prevalence_adjusted, 0), cnt_total_dogs_w_problems_adjusted, REMAINING_DOGS))"
   ]
  },
  {
   "cell_type": "markdown",
   "metadata": {},
   "source": [
    "### Prevalence of behavior problem categories (Table 1):"
   ]
  },
  {
   "cell_type": "code",
   "execution_count": 13,
   "metadata": {},
   "outputs": [
    {
     "data": {
      "text/html": [
       "<div>\n",
       "<style scoped>\n",
       "    .dataframe tbody tr th:only-of-type {\n",
       "        vertical-align: middle;\n",
       "    }\n",
       "\n",
       "    .dataframe tbody tr th {\n",
       "        vertical-align: top;\n",
       "    }\n",
       "\n",
       "    .dataframe thead th {\n",
       "        text-align: right;\n",
       "    }\n",
       "</style>\n",
       "<table border=\"1\" class=\"dataframe\">\n",
       "  <thead>\n",
       "    <tr style=\"text-align: right;\">\n",
       "      <th>Category</th>\n",
       "      <th>Count</th>\n",
       "      <th>Prevalence (%)</th>\n",
       "    </tr>\n",
       "  </thead>\n",
       "  <tbody>\n",
       "    <tr>\n",
       "      <th>Fear/Anxiety</th>\n",
       "      <td>1814</td>\n",
       "      <td>44</td>\n",
       "    </tr>\n",
       "    <tr>\n",
       "      <th>Aggression</th>\n",
       "      <td>1239</td>\n",
       "      <td>30</td>\n",
       "    </tr>\n",
       "    <tr>\n",
       "      <th>Jumping</th>\n",
       "      <td>1159</td>\n",
       "      <td>28</td>\n",
       "    </tr>\n",
       "    <tr>\n",
       "      <th>Excessive Barking</th>\n",
       "      <td>758</td>\n",
       "      <td>18</td>\n",
       "    </tr>\n",
       "    <tr>\n",
       "      <th>Coprophagia</th>\n",
       "      <td>718</td>\n",
       "      <td>17</td>\n",
       "    </tr>\n",
       "    <tr>\n",
       "      <th>Compulsion</th>\n",
       "      <td>639</td>\n",
       "      <td>16</td>\n",
       "    </tr>\n",
       "    <tr>\n",
       "      <th>House Soiling</th>\n",
       "      <td>614</td>\n",
       "      <td>15</td>\n",
       "    </tr>\n",
       "    <tr>\n",
       "      <th>Rolling in Repulsive Material</th>\n",
       "      <td>515</td>\n",
       "      <td>13</td>\n",
       "    </tr>\n",
       "    <tr>\n",
       "      <th>Overactivity/Hyperactivity</th>\n",
       "      <td>505</td>\n",
       "      <td>12</td>\n",
       "    </tr>\n",
       "    <tr>\n",
       "      <th>Destructive Behavior</th>\n",
       "      <td>489</td>\n",
       "      <td>12</td>\n",
       "    </tr>\n",
       "    <tr>\n",
       "      <th>Running Away/Escaping</th>\n",
       "      <td>442</td>\n",
       "      <td>11</td>\n",
       "    </tr>\n",
       "    <tr>\n",
       "      <th>Mounting/Humping</th>\n",
       "      <td>433</td>\n",
       "      <td>11</td>\n",
       "    </tr>\n",
       "  </tbody>\n",
       "</table>\n",
       "</div>"
      ],
      "text/plain": [
       "Category                       Count  Prevalence (%)\n",
       "Fear/Anxiety                    1814              44\n",
       "Aggression                      1239              30\n",
       "Jumping                         1159              28\n",
       "Excessive Barking                758              18\n",
       "Coprophagia                      718              17\n",
       "Compulsion                       639              16\n",
       "House Soiling                    614              15\n",
       "Rolling in Repulsive Material    515              13\n",
       "Overactivity/Hyperactivity       505              12\n",
       "Destructive Behavior             489              12\n",
       "Running Away/Escaping            442              11\n",
       "Mounting/Humping                 433              11"
      ]
     },
     "metadata": {},
     "output_type": "display_data"
    }
   ],
   "source": [
    "fields = []\n",
    "labels = []\n",
    "for counter, category in enumerate(FR.categories, 1):\n",
    "    if counter > 10:\n",
    "        counter += 1;\n",
    "    fields.append('q02_main_{}'.format(counter))\n",
    "    labels.append(category)\n",
    "fields = ', '.join(fields)\n",
    "df = createNumericDataFrame(DOG_TABLE, fields, labels, filtered=True)\n",
    "\n",
    "# Get individual behavior problem counts and display as a table.\n",
    "sums = df.sum()\n",
    "sums = sums.sort_values(ascending=False)\n",
    "\n",
    "# Calculate the prevalence of each behavior problem.\n",
    "prevalences = sums.apply(PREVALENCE).round().astype(int)\n",
    "\n",
    "# Create a table.\n",
    "df = pd.DataFrame(index=sums.index, data={'Count':sums.values,\n",
    "                                          'Prevalence (%)': prevalences.values.round(2)})\n",
    "df.columns.name = 'Category'\n",
    "display(df)\n",
    "exportTable(df, 'table_1')"
   ]
  },
  {
   "cell_type": "markdown",
   "metadata": {},
   "source": [
    "### Prevalence of behavior problem category subtypes (Table 2):"
   ]
  },
  {
   "cell_type": "code",
   "execution_count": 14,
   "metadata": {},
   "outputs": [
    {
     "data": {
      "text/html": [
       "<div>\n",
       "<style scoped>\n",
       "    .dataframe tbody tr th:only-of-type {\n",
       "        vertical-align: middle;\n",
       "    }\n",
       "\n",
       "    .dataframe tbody tr th {\n",
       "        vertical-align: top;\n",
       "    }\n",
       "\n",
       "    .dataframe thead th {\n",
       "        text-align: right;\n",
       "    }\n",
       "</style>\n",
       "<table border=\"1\" class=\"dataframe\">\n",
       "  <thead>\n",
       "    <tr style=\"text-align: right;\">\n",
       "      <th>Behavior problem</th>\n",
       "      <th>Frequency</th>\n",
       "      <th>Prevalence (%)</th>\n",
       "    </tr>\n",
       "  </thead>\n",
       "  <tbody>\n",
       "    <tr>\n",
       "      <th>Unfamiliar dogs on walks (on lead)</th>\n",
       "      <td>674.0</td>\n",
       "      <td>16</td>\n",
       "    </tr>\n",
       "    <tr>\n",
       "      <th>Another dog in the home</th>\n",
       "      <td>447.0</td>\n",
       "      <td>11</td>\n",
       "    </tr>\n",
       "    <tr>\n",
       "      <th>Stangers visiting the home</th>\n",
       "      <td>391.0</td>\n",
       "      <td>10</td>\n",
       "    </tr>\n",
       "    <tr>\n",
       "      <th>Unfamiliar dogs on walks (off lead)</th>\n",
       "      <td>371.0</td>\n",
       "      <td>9</td>\n",
       "    </tr>\n",
       "    <tr>\n",
       "      <th>Unfamiliar dogs visiting the home</th>\n",
       "      <td>371.0</td>\n",
       "      <td>9</td>\n",
       "    </tr>\n",
       "  </tbody>\n",
       "</table>\n",
       "</div>"
      ],
      "text/plain": [
       "Behavior problem                     Frequency  Prevalence (%)\n",
       "Unfamiliar dogs on walks (on lead)       674.0              16\n",
       "Another dog in the home                  447.0              11\n",
       "Stangers visiting the home               391.0              10\n",
       "Unfamiliar dogs on walks (off lead)      371.0               9\n",
       "Unfamiliar dogs visiting the home        371.0               9"
      ]
     },
     "metadata": {},
     "output_type": "display_data"
    },
    {
     "name": "stdout",
     "output_type": "stream",
     "text": [
      "Note: Only showing dataframe head to conserve notebook space\n"
     ]
    }
   ],
   "source": [
    "sums = pd.Series()\n",
    "for i in range(0, 12):\n",
    "    all_fields = FR.fields[FR.categories[i]].copy()\n",
    "    all_labels = list(FR.labels[FR.categories[i]].values()).copy()\n",
    "    df = createNumericDataFrame(DOG_TABLE, ', '.join(all_fields), all_labels, filtered=True)\n",
    "    if sums.empty:\n",
    "        sums = df.sum().sort_values(ascending=False)\n",
    "    else:\n",
    "        sums = sums.append(df.sum().sort_values(ascending=False))\n",
    "\n",
    "# Calculate the prevalence of each behavior problem.\n",
    "prevalences = sums.apply(PREVALENCE).round().astype(int)\n",
    "\n",
    "# Create a table.\n",
    "df = pd.DataFrame(index=sums.index, data={'Frequency':sums.values,\n",
    "                                          'Prevalence (%)': prevalences.values.round(2)})\n",
    "df.columns.name = 'Behavior problem'\n",
    "display(df.head())\n",
    "print(\"Note: Only showing dataframe head to conserve notebook space\")\n",
    "exportTable(df, 'table_2')"
   ]
  },
  {
   "cell_type": "markdown",
   "metadata": {},
   "source": [
    "## <center>Owner-directed Aggression</center>"
   ]
  },
  {
   "cell_type": "markdown",
   "metadata": {},
   "source": [
    "### Owner-directed aggression and maleness:"
   ]
  },
  {
   "cell_type": "code",
   "execution_count": 15,
   "metadata": {},
   "outputs": [
    {
     "name": "stdout",
     "output_type": "stream",
     "text": [
      "Chi-squared Test of Independence for owner-directed and gender:\n",
      "chi2 = 24.793805, p = 6.38E-07, dof = 1\n",
      "OR = 1.85, 95% CI: 1.45-2.36, n = 4100\n"
     ]
    }
   ],
   "source": [
    "fields = 'q03_main_1, dog_sex'\n",
    "labels = ['owner-directed', 'gender']\n",
    "df = createStringDataFrame(DOG_TABLE, fields, labels)\n",
    "df = df[df[labels[1]] != '']\n",
    "df = df.apply(pd.to_numeric)\n",
    "\n",
    "def gender_to_binary_response(x):\n",
    "    x = int(x)\n",
    "    if x != 1:\n",
    "        return 0\n",
    "    return 1\n",
    "\n",
    "df[labels[0]] = df[labels[0]].apply(\n",
    "    lambda x: convert_to_binary_response(x))\n",
    "df[labels[1]] = df[labels[1]].apply(\n",
    "    lambda x: gender_to_binary_response(x))\n",
    "\n",
    "# Execute a chi-squared test of independence.\n",
    "contingency = pd.crosstab(df[labels[0]], df[labels[1]], margins=False)\n",
    "print('Chi-squared Test of Independence for %s and %s:' %(labels[0], labels[1]))\n",
    "c, p, dof, expected = scs.chi2_contingency(contingency, correction=False)\n",
    "print('chi2 = %f, p = %.2E, dof = %d' %(c, p, dof))\n",
    "displayOddsRatio(contingency)"
   ]
  }
 ],
 "metadata": {
  "kernelspec": {
   "display_name": "Python 3",
   "language": "python",
   "name": "python3"
  },
  "language_info": {
   "codemirror_mode": {
    "name": "ipython",
    "version": 3
   },
   "file_extension": ".py",
   "mimetype": "text/x-python",
   "name": "python",
   "nbconvert_exporter": "python",
   "pygments_lexer": "ipython3",
   "version": "3.7.2"
  }
 },
 "nbformat": 4,
 "nbformat_minor": 2
}
