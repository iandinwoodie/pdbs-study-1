{
 "cells": [
  {
   "cell_type": "markdown",
   "metadata": {},
   "source": [
    "# <center>Phase 2 - Publication<center>"
   ]
  },
  {
   "cell_type": "code",
   "execution_count": 71,
   "metadata": {},
   "outputs": [],
   "source": [
    "# General imports.\n",
    "import sqlite3\n",
    "import pandas as pd\n",
    "from matplotlib_venn import venn2, venn3\n",
    "import scipy.stats as scs\n",
    "import textwrap\n",
    "import matplotlib.pyplot as plt\n",
    "import numpy as np\n",
    "import seaborn as sns\n",
    "from  itertools import combinations\n",
    "import os\n",
    "from matplotlib.colors import ListedColormap\n",
    "from matplotlib import ticker\n",
    "from scipy.stats import ttest_ind\n",
    "import math\n",
    "\n",
    "# Imports from neighbor directories.\n",
    "import sys\n",
    "sys.path.append(\"..\")\n",
    "from src.features import field_registry as fieldreg\n",
    "\n",
    "# IPython magics for this notebook.\n",
    "%matplotlib inline\n",
    "\n",
    "# Use latex font for matplotlib\n",
    "plt.rc('text', usetex=True)\n",
    "plt.rc('font', family='serif')"
   ]
  },
  {
   "cell_type": "code",
   "execution_count": 138,
   "metadata": {},
   "outputs": [],
   "source": [
    "# Switches\n",
    "SAVE_OUTPUT = False\n",
    "\n",
    "# Data Globals\n",
    "FR = fieldreg.FieldRegistry()\n",
    "TOTAL_USERS = 0\n",
    "REMAINING_USERS = 0\n",
    "TOTAL_DOGS = 0\n",
    "REMAINING_DOGS = 0\n",
    "PREVALENCE = lambda x: (x / REMAINING_DOGS) * 100\n",
    "CATEGORY_MATRIX = pd.DataFrame()\n",
    "\n",
    "# Database Globals\n",
    "USER_TABLE = 'users'\n",
    "DOG_TABLE = 'dogs'\n",
    "BIAS_FILTER = '''\n",
    "    USING (record_id)\n",
    "    WHERE question_reason_for_part_3 = 0\n",
    "    OR (question_reason_for_part_3 = 1 AND q01_main != 1)'''\n",
    "CON = sqlite3.connect('../data/processed/processed.db')"
   ]
  },
  {
   "cell_type": "code",
   "execution_count": 73,
   "metadata": {},
   "outputs": [],
   "source": [
    "def createStringDataFrame(table, fields, labels, filtered=True):\n",
    "    query = 'SELECT ' + fields + ' FROM ' + table\n",
    "    if filtered:\n",
    "        table2 = USER_TABLE if table == DOG_TABLE else DOG_TABLE\n",
    "        query += ' JOIN ' + table2 + ' ' + BIAS_FILTER\n",
    "    df = pd.read_sql_query(query, CON)\n",
    "    df.columns = labels\n",
    "    return df\n",
    "\n",
    "def convertToNumeric(df):\n",
    "    df = df.apply(pd.to_numeric, errors='coerce')\n",
    "    return df\n",
    "\n",
    "def createNumericDataFrame(table, fields, labels, filtered=True):\n",
    "    df = createStringDataFrame(table, fields, labels, filtered)\n",
    "    return convertToNumeric(df)\n",
    "\n",
    "def replaceFields(df, column, replacement_dict):\n",
    "    df[column].replace(replacement_dict, inplace=True)\n",
    "\n",
    "def getValueCountAndPrevalence(df, field):\n",
    "    s = df[field].value_counts()\n",
    "    p = s.apply(PREVALENCE).round().astype(int)\n",
    "    rv = pd.concat([s, p], axis=1)\n",
    "    rv.columns = ['frequency', 'prevalence']\n",
    "    return rv\n",
    "\n",
    "def createCategoryMatrix():\n",
    "    fields = []\n",
    "    labels = []\n",
    "    counter = 1\n",
    "    for cat, subdict in FR.labels.items():\n",
    "        for key, value in  subdict.items():\n",
    "            if counter == 11:\n",
    "                counter += 1;\n",
    "            fields.append('q02_main_{}'.format(counter))\n",
    "            labels.append(key[0])\n",
    "            break\n",
    "        counter += 1\n",
    "    fields = ', '.join(fields)\n",
    "    df = createNumericDataFrame(DOG_TABLE, fields, labels, filtered=True)\n",
    "    cols = []\n",
    "    pvalue = {}\n",
    "    for col in df:\n",
    "        cols.append(col)\n",
    "        pvalue[col] = {}\n",
    "    pairs = list(combinations(df.columns, 2))\n",
    "    for pair in pairs:\n",
    "        contingency = pd.crosstab(df[pair[0]], df[pair[1]])\n",
    "        c, p, dof, expected = scs.chi2_contingency(contingency, correction=False)\n",
    "        pvalue[pair[0]][pair[1]] = p\n",
    "        pvalue[pair[1]][pair[0]] = p\n",
    "    df = pd.DataFrame(pvalue).sort_index(ascending=True)\n",
    "    return df\n",
    "\n",
    "def createQuestionMatrix():\n",
    "    fields = ''\n",
    "    for cat, sublist in FR.fields.items():\n",
    "        for field in sublist:\n",
    "            fields += '{}, '.format(field)\n",
    "    fields = fields[:-2]\n",
    "    labels = []\n",
    "    for cat, subdict in FR.labels.items():\n",
    "        for key, value in  subdict.items():\n",
    "            labels.append(key)\n",
    "    df = createNumericDataFrame(DOG_TABLE, fields, labels, filtered=True)\n",
    "    cols = []\n",
    "    pvalue = {}\n",
    "    for col in df:\n",
    "        cols.append(col)\n",
    "        pvalue[col] = {}\n",
    "    pairs = list(combinations(df.columns, 2))\n",
    "    for pair in pairs:\n",
    "        contingency = pd.crosstab(df[pair[0]], df[pair[1]])\n",
    "        c, p, dof, expected = scs.chi2_contingency(contingency, correction=False)\n",
    "        pvalue[pair[0]][pair[1]] = p\n",
    "        pvalue[pair[1]][pair[0]] = p\n",
    "    df = pd.DataFrame(pvalue).sort_index(ascending=True)\n",
    "    return df\n",
    "\n",
    "def createCorrelationMatrix():\n",
    "    fields = []\n",
    "    labels = []\n",
    "    counter = 1\n",
    "    for cat, subdict in FR.labels.items():\n",
    "        for key, value in  subdict.items():\n",
    "            if counter == 11:\n",
    "                counter += 1;\n",
    "            fields.append('q02_main_{}'.format(counter))\n",
    "            labels.append(key[0])\n",
    "            break\n",
    "        counter += 1\n",
    "    fields = ', '.join(fields)\n",
    "    df = createNumericDataFrame(DOG_TABLE, fields, labels, filtered=True)\n",
    "    return df.corr()\n",
    "\n",
    "def createOddsRatioMatrix():\n",
    "    fields = []\n",
    "    labels = []\n",
    "    counter = 1\n",
    "    for cat, subdict in FR.labels.items():\n",
    "        for key, value in  subdict.items():\n",
    "            if counter == 11:\n",
    "                counter += 1;\n",
    "            fields.append('q02_main_{}'.format(counter))\n",
    "            labels.append(key[0])\n",
    "            break\n",
    "        counter += 1\n",
    "    fields = ', '.join(fields)\n",
    "    df = createNumericDataFrame(DOG_TABLE, fields, labels, filtered=True)\n",
    "    cols = []\n",
    "    pvalue = {}\n",
    "    for col in df:\n",
    "        cols.append(col)\n",
    "        pvalue[col] = {}\n",
    "    pairs = list(combinations(df.columns, 2))\n",
    "    for pair in pairs:\n",
    "        contingency = pd.crosstab(df[pair[0]], df[pair[1]])\n",
    "        c, p, dof, expected = scs.chi2_contingency(contingency, correction=False)\n",
    "        pvalue[pair[0]][pair[1]] = getOddsRatio(contingency)\n",
    "        pvalue[pair[1]][pair[0]] = getOddsRatio(contingency)\n",
    "    df = pd.DataFrame(pvalue).sort_index(ascending=True)\n",
    "    return df\n",
    "\n",
    "def displayOddsRatio(df):\n",
    "    odds, ci_low, ci_high, tot = getOddsRatioAndConfidenceInterval(df)\n",
    "    print('OR = %.2f, 95%% CI: %.2f-%.2f, n = %d'\n",
    "          %(round(odds, 2), round(ci_low, 2), round(ci_high, 2), tot))\n",
    "\n",
    "def getOddsRatio(df):\n",
    "    return (df[1][1]/df[1][0])/(df[0][1]/df[0][0])\n",
    "\n",
    "def getOddsRatioAndConfidenceInterval(df):\n",
    "    odds = getOddsRatio(df)\n",
    "    nl_or = math.log(odds)\n",
    "    se_nl_or = math.sqrt((1/df[0][0])+(1/df[0][1])+(1/df[1][0])+(1/df[1][1]))\n",
    "    ci_low = math.exp(nl_or - (1.96 * se_nl_or))\n",
    "    ci_high = math.exp(nl_or + (1.96 * se_nl_or))\n",
    "    tot = df[0][0] + df[0][1] + df[1][0] + df[1][1]\n",
    "    return odds, ci_low, ci_high, tot\n",
    "\n",
    "def get_significance_category(p):\n",
    "    if np.isnan(p):\n",
    "        return p\n",
    "    elif p > 10**(-3):\n",
    "        return -1\n",
    "    elif p <= 10**(-3) and p > 10**(-6):\n",
    "        return 0\n",
    "    else:\n",
    "        return 1\n",
    "    \n",
    "def displaySeriesMedian(s, units=\"\"):\n",
    "    print('MD = %.2f %s (SD = %.2f, min = %.2f, max = %.2f, n = %d)'\n",
    "          %(round(s.median(), 2), units, round(s.std(), 2), round(s.min(), 2), round(s.max(), 2), s.count()))\n",
    "    \n",
    "def displaySeriesMean(s, units=\"\"):\n",
    "    print('M = %.2f %s (SD = %.2f, min = %.2f, max = %.2f, n = %d)'\n",
    "          %(round(s.mean(), 2), units, round(s.std(), 2), round(s.min(), 2), round(s.max(), 2), s.count()))\n",
    "    \n",
    "def convert_to_binary_response(x, y=1):\n",
    "    x = float(x)\n",
    "    if x < y:\n",
    "        return 0\n",
    "    return 1\n",
    "        \n",
    "def exportTable(data, title):\n",
    "    if not SAVE_OUTPUT:\n",
    "        return\n",
    "    file_ = os.path.join('..', 'reports', 'tables', title) + '.tex'\n",
    "    with open(file_, 'w') as tf:\n",
    "        tf.write(r'\\documentclass[varwidth=\\maxdimen]{standalone}\\usepackage{booktabs}\\begin{document}')\n",
    "        tf.write(df.to_latex())\n",
    "        tf.write(r'\\end{document}')\n",
    "        \n",
    "def exportFigure(figure, title):\n",
    "    if not SAVE_OUTPUT:\n",
    "        return\n",
    "    file_ = os.path.join('..', 'reports', 'figures', title) + '.png'\n",
    "    figure.tight_layout()\n",
    "    figure.savefig(file_, dpi = 500)"
   ]
  },
  {
   "cell_type": "markdown",
   "metadata": {},
   "source": [
    "## <center>Demographics</center>"
   ]
  },
  {
   "cell_type": "markdown",
   "metadata": {},
   "source": [
    "### Number of participants:"
   ]
  },
  {
   "cell_type": "code",
   "execution_count": 74,
   "metadata": {},
   "outputs": [
    {
     "name": "stdout",
     "output_type": "stream",
     "text": [
      "N = 3201 owners [unadjusted]\n"
     ]
    }
   ],
   "source": [
    "df = createNumericDataFrame(USER_TABLE, 'COUNT(*)', ['count'], filtered=False)\n",
    "# Assign value to global.\n",
    "TOTAL_USERS = df['count'][0]\n",
    "print('N = %d owners [unadjusted]' %TOTAL_USERS)"
   ]
  },
  {
   "cell_type": "markdown",
   "metadata": {},
   "source": [
    "### Number of participating dogs:"
   ]
  },
  {
   "cell_type": "code",
   "execution_count": 75,
   "metadata": {},
   "outputs": [
    {
     "name": "stdout",
     "output_type": "stream",
     "text": [
      "N = 5018 dogs [unadjusted]\n"
     ]
    }
   ],
   "source": [
    "df = createNumericDataFrame(DOG_TABLE, 'COUNT(*)', ['count'], filtered=False)\n",
    "# Assign value to global.\n",
    "TOTAL_DOGS = df['count'][0]\n",
    "print('N = %d dogs [unadjusted]' %TOTAL_DOGS)"
   ]
  },
  {
   "cell_type": "markdown",
   "metadata": {},
   "source": [
    "### Suspicion of behavior problems as one of multiple motivating factors:"
   ]
  },
  {
   "cell_type": "code",
   "execution_count": 76,
   "metadata": {},
   "outputs": [
    {
     "name": "stdout",
     "output_type": "stream",
     "text": [
      "n = 830 owners (26%) [unadjusted]\n"
     ]
    }
   ],
   "source": [
    "fields = ('question_reason_for_part_1, question_reason_for_part_2, '\n",
    "          'question_reason_for_part_3, question_reason_for_part_4, '\n",
    "          'question_reason_for_part_5')\n",
    "labels = ['love for dogs', 'you help shelter animals', 'suspicion of behavior problems',\n",
    "          'work with animals', 'other']\n",
    "df = createNumericDataFrame(USER_TABLE, fields, labels, filtered=False)\n",
    "df = df[df[labels[2]] == 1]\n",
    "df['sum'] = df.sum(axis=1)\n",
    "s = df.sum(0, skipna=False)\n",
    "\n",
    "print('n = %d owners (%d%%) [unadjusted]' %(s.iloc[2], round((s.iloc[2]/TOTAL_USERS)*100, 0)))"
   ]
  },
  {
   "cell_type": "markdown",
   "metadata": {},
   "source": [
    "### Suspicion of behavior problems as the sole motivating factor:"
   ]
  },
  {
   "cell_type": "code",
   "execution_count": 77,
   "metadata": {},
   "outputs": [
    {
     "name": "stdout",
     "output_type": "stream",
     "text": [
      "n = 98 owners (3%) [unadjusted]\n"
     ]
    }
   ],
   "source": [
    "fields = ('question_reason_for_part_1, question_reason_for_part_2, '\n",
    "          'question_reason_for_part_3, question_reason_for_part_4, '\n",
    "          'question_reason_for_part_5')\n",
    "labels = ['love for dogs', 'you help shelter animals', 'suspicion of behavior problems',\n",
    "          'work with animals', 'other']\n",
    "df = createNumericDataFrame(USER_TABLE, fields, labels, filtered=False)\n",
    "df = df[df[labels[2]] == 1]\n",
    "df['sum'] = df.sum(axis=1)\n",
    "df = df[df['sum'] == 1]\n",
    "s = df.sum(0, skipna=False)\n",
    "\n",
    "print('n = %d owners (%d%%) [unadjusted]' %(s.iloc[2], round((s.iloc[2]/TOTAL_USERS)*100, 0)))"
   ]
  },
  {
   "cell_type": "markdown",
   "metadata": {},
   "source": [
    "### Adjusting sample for bias:"
   ]
  },
  {
   "cell_type": "code",
   "execution_count": 78,
   "metadata": {},
   "outputs": [
    {
     "name": "stdout",
     "output_type": "stream",
     "text": [
      "Adjusted study population:\n",
      "N = 2480 owners (adjusted)\n",
      "N = 4114 dogs (adjusted)\n"
     ]
    }
   ],
   "source": [
    "fields = 'q02_score'\n",
    "labels = ['Score']\n",
    "df_adjusted_dogs = createNumericDataFrame(DOG_TABLE, fields, labels)\n",
    "REMAINING_DOGS = len(df_adjusted_dogs.index)\n",
    "df_adjusted_users = createNumericDataFrame(USER_TABLE, 'COUNT(DISTINCT email)', ['count'])\n",
    "REMAINING_USERS = df_adjusted_users['count'][0]\n",
    "\n",
    "# Display the count results.\n",
    "print('Adjusted study population:')\n",
    "print('N = %d owners (adjusted)' %REMAINING_USERS)\n",
    "print('N = %d dogs (adjusted)' %REMAINING_DOGS)"
   ]
  },
  {
   "cell_type": "markdown",
   "metadata": {},
   "source": [
    "### Dogs per household:"
   ]
  },
  {
   "cell_type": "code",
   "execution_count": 79,
   "metadata": {},
   "outputs": [
    {
     "name": "stdout",
     "output_type": "stream",
     "text": [
      "MD = 1.00 dogs (SD = 0.96, min = 1.00, max = 13.00, n = 2480)\n"
     ]
    }
   ],
   "source": [
    "fields = 'record_id'\n",
    "labels = ['record index']\n",
    "df = createStringDataFrame(DOG_TABLE, fields, labels)\n",
    "\n",
    "record_dict = {}\n",
    "for index, row in df.iterrows():\n",
    "    key = row.iloc[0]\n",
    "    if not key in record_dict:\n",
    "        record_dict[key] = 1\n",
    "    else:\n",
    "        record_dict[key] += 1\n",
    "\n",
    "s = pd.Series(record_dict, name='dogs')\n",
    "displaySeriesMedian(s, 'dogs')"
   ]
  },
  {
   "cell_type": "markdown",
   "metadata": {},
   "source": [
    "### Age at date of response"
   ]
  },
  {
   "cell_type": "code",
   "execution_count": 80,
   "metadata": {},
   "outputs": [
    {
     "name": "stdout",
     "output_type": "stream",
     "text": [
      "MD = 72.00 months (SD = 47.42, min = 2.00, max = 252.00, n = 4030)\n"
     ]
    }
   ],
   "source": [
    "fields = 'dog_age_today_months'\n",
    "labels = ['age (months)']\n",
    "df = createNumericDataFrame(DOG_TABLE, fields, labels)\n",
    "displaySeriesMedian(df[labels[0]], 'months')"
   ]
  },
  {
   "cell_type": "markdown",
   "metadata": {},
   "source": [
    "### Gender and neutered status:"
   ]
  },
  {
   "cell_type": "code",
   "execution_count": 81,
   "metadata": {},
   "outputs": [
    {
     "name": "stdout",
     "output_type": "stream",
     "text": [
      "males: n = 2005 (49%), neutered: n = 1682 (84%), intact: n = 312 (16%)\n",
      "females: n = 2095 (51%), neutered: n = 1778 (85%), intact: n = 308 (15%)\n"
     ]
    }
   ],
   "source": [
    "fields = 'dog_sex, dog_spayed'\n",
    "labels = ['Gender', 'Neutered']\n",
    "df = createStringDataFrame(DOG_TABLE, fields, labels)\n",
    "replacements = {'':'No response', '1':'Male', '2':'Female'}\n",
    "replaceFields(df, labels[0], replacements)\n",
    "replacements = {'':'No response', '0':'No', '1':'Yes', '2':\"I don't know\"}\n",
    "replaceFields(df, labels[1], replacements)\n",
    "df = pd.crosstab(df[labels[0]], df[labels[1]], margins=True)\n",
    "\n",
    "print(\"males: n = %d (%d%%), neutered: n = %d (%d%%), intact: n = %d (%d%%)\"\n",
    "      %(df.loc['Male', 'All'], round((df.loc['Male', 'All']/df.loc['All', 'All'])*100, 0),\n",
    "        df.loc['Male', 'Yes'], round((df.loc['Male', 'Yes']/df.loc['Male', 'All'])*100, 0),\n",
    "        df.loc['Male', 'No'], round((df.loc['Male', 'No']/df.loc['Male', 'All'])*100, 0)))\n",
    "print(\"females: n = %d (%d%%), neutered: n = %d (%d%%), intact: n = %d (%d%%)\"\n",
    "      %(df.loc['Female', 'All'], round((df.loc['Female', 'All']/df.loc['All', 'All'])*100, 0),\n",
    "        df.loc['Female', 'Yes'], round((df.loc['Female', 'Yes']/df.loc['Female', 'All'])*100, 0),\n",
    "        df.loc['Female', 'No'], round((df.loc['Female', 'No']/df.loc['Female', 'All'])*100, 0)))"
   ]
  },
  {
   "cell_type": "markdown",
   "metadata": {},
   "source": [
    "### Age at neutering:"
   ]
  },
  {
   "cell_type": "code",
   "execution_count": 82,
   "metadata": {
    "scrolled": true
   },
   "outputs": [
    {
     "name": "stdout",
     "output_type": "stream",
     "text": [
      "MD = 9.00 months (SD = 23.82, min = 2.00, max = 180.00, n = 2771)\n"
     ]
    }
   ],
   "source": [
    "fields = 'dog_sex_month'\n",
    "labels = ['age (months)']\n",
    "df = createNumericDataFrame(DOG_TABLE, fields, labels)\n",
    "displaySeriesMedian(df[labels[0]], 'months')"
   ]
  },
  {
   "cell_type": "markdown",
   "metadata": {},
   "source": [
    "### Number of purebred dogs:"
   ]
  },
  {
   "cell_type": "code",
   "execution_count": 83,
   "metadata": {},
   "outputs": [
    {
     "data": {
      "text/html": [
       "<div>\n",
       "<style scoped>\n",
       "    .dataframe tbody tr th:only-of-type {\n",
       "        vertical-align: middle;\n",
       "    }\n",
       "\n",
       "    .dataframe tbody tr th {\n",
       "        vertical-align: top;\n",
       "    }\n",
       "\n",
       "    .dataframe thead th {\n",
       "        text-align: right;\n",
       "    }\n",
       "</style>\n",
       "<table border=\"1\" class=\"dataframe\">\n",
       "  <thead>\n",
       "    <tr style=\"text-align: right;\">\n",
       "      <th>purebred</th>\n",
       "      <th>frequency</th>\n",
       "    </tr>\n",
       "  </thead>\n",
       "  <tbody>\n",
       "    <tr>\n",
       "      <th>Yes</th>\n",
       "      <td>2335</td>\n",
       "    </tr>\n",
       "    <tr>\n",
       "      <th>No</th>\n",
       "      <td>1723</td>\n",
       "    </tr>\n",
       "    <tr>\n",
       "      <th>No response</th>\n",
       "      <td>56</td>\n",
       "    </tr>\n",
       "  </tbody>\n",
       "</table>\n",
       "</div>"
      ],
      "text/plain": [
       "purebred     frequency\n",
       "Yes               2335\n",
       "No                1723\n",
       "No response         56"
      ]
     },
     "metadata": {},
     "output_type": "display_data"
    }
   ],
   "source": [
    "fields = 'purebred'\n",
    "labels = ['purebred']\n",
    "df = createStringDataFrame(DOG_TABLE, fields, labels)\n",
    "df.head()\n",
    "replacements = {'':'No response', '0':'No', '1':'Yes'}\n",
    "replaceFields(df, labels[0], replacements)\n",
    "df = df.apply(pd.value_counts)\n",
    "df.rename(index=str, columns={labels[0]: \"frequency\"}, inplace=True)\n",
    "df.columns.name = labels[0]\n",
    "display(df)"
   ]
  },
  {
   "cell_type": "markdown",
   "metadata": {},
   "source": [
    "### Number of purebred breeds:"
   ]
  },
  {
   "cell_type": "code",
   "execution_count": 84,
   "metadata": {},
   "outputs": [
    {
     "data": {
      "text/html": [
       "<div>\n",
       "<style scoped>\n",
       "    .dataframe tbody tr th:only-of-type {\n",
       "        vertical-align: middle;\n",
       "    }\n",
       "\n",
       "    .dataframe tbody tr th {\n",
       "        vertical-align: top;\n",
       "    }\n",
       "\n",
       "    .dataframe thead th {\n",
       "        text-align: right;\n",
       "    }\n",
       "</style>\n",
       "<table border=\"1\" class=\"dataframe\">\n",
       "  <thead>\n",
       "    <tr style=\"text-align: right;\">\n",
       "      <th></th>\n",
       "      <th>breed</th>\n",
       "    </tr>\n",
       "  </thead>\n",
       "  <tbody>\n",
       "    <tr>\n",
       "      <th>count</th>\n",
       "      <td>2138</td>\n",
       "    </tr>\n",
       "    <tr>\n",
       "      <th>unique</th>\n",
       "      <td>142</td>\n",
       "    </tr>\n",
       "    <tr>\n",
       "      <th>top</th>\n",
       "      <td>labrador retriever</td>\n",
       "    </tr>\n",
       "    <tr>\n",
       "      <th>freq</th>\n",
       "      <td>382</td>\n",
       "    </tr>\n",
       "  </tbody>\n",
       "</table>\n",
       "</div>"
      ],
      "text/plain": [
       "                     breed\n",
       "count                 2138\n",
       "unique                 142\n",
       "top     labrador retriever\n",
       "freq                   382"
      ]
     },
     "metadata": {},
     "output_type": "display_data"
    },
    {
     "name": "stdout",
     "output_type": "stream",
     "text": [
      "Purebreds without breed designated: n = 197 dogs\n"
     ]
    }
   ],
   "source": [
    "fields = 'purebred_breed, purebred'\n",
    "labels = ['breed', 'purebred']\n",
    "df = createStringDataFrame(DOG_TABLE, fields, labels)\n",
    "df = df[df[labels[1]] == '1']\n",
    "df.drop(columns=labels[1], inplace=True)\n",
    "df = df[df[labels[0]] != '']\n",
    "display(df.describe())\n",
    "\n",
    "# Number of purebred dogs without a designated breed.\n",
    "fields = 'purebred_breed, purebred'\n",
    "labels = ['breed', 'purebred']\n",
    "df = createStringDataFrame(DOG_TABLE, fields, labels)\n",
    "df = df[df[labels[1]] == '1']\n",
    "df.drop(columns=labels[1], inplace=True)\n",
    "df = df[df[labels[0]] == '']\n",
    "purebred_missing_breed = df.describe().iloc[0][0]\n",
    "print('Purebreds without breed designated: n = %d dogs' %(purebred_missing_breed))"
   ]
  },
  {
   "cell_type": "markdown",
   "metadata": {},
   "source": [
    "### Numbers of dogs per purebred breed:"
   ]
  },
  {
   "cell_type": "code",
   "execution_count": 85,
   "metadata": {},
   "outputs": [
    {
     "data": {
      "text/html": [
       "<div>\n",
       "<style scoped>\n",
       "    .dataframe tbody tr th:only-of-type {\n",
       "        vertical-align: middle;\n",
       "    }\n",
       "\n",
       "    .dataframe tbody tr th {\n",
       "        vertical-align: top;\n",
       "    }\n",
       "\n",
       "    .dataframe thead th {\n",
       "        text-align: right;\n",
       "    }\n",
       "</style>\n",
       "<table border=\"1\" class=\"dataframe\">\n",
       "  <thead>\n",
       "    <tr style=\"text-align: right;\">\n",
       "      <th>breed</th>\n",
       "      <th>frequency</th>\n",
       "      <th>prevalence</th>\n",
       "    </tr>\n",
       "  </thead>\n",
       "  <tbody>\n",
       "    <tr>\n",
       "      <th>labrador retriever</th>\n",
       "      <td>382</td>\n",
       "      <td>9</td>\n",
       "    </tr>\n",
       "    <tr>\n",
       "      <th>golden retriever</th>\n",
       "      <td>138</td>\n",
       "      <td>3</td>\n",
       "    </tr>\n",
       "    <tr>\n",
       "      <th>german shepherd dog</th>\n",
       "      <td>132</td>\n",
       "      <td>3</td>\n",
       "    </tr>\n",
       "    <tr>\n",
       "      <th>poodle</th>\n",
       "      <td>104</td>\n",
       "      <td>3</td>\n",
       "    </tr>\n",
       "    <tr>\n",
       "      <th>border collie</th>\n",
       "      <td>89</td>\n",
       "      <td>2</td>\n",
       "    </tr>\n",
       "    <tr>\n",
       "      <th>cocker spaniel</th>\n",
       "      <td>71</td>\n",
       "      <td>2</td>\n",
       "    </tr>\n",
       "    <tr>\n",
       "      <th>australian shepherd</th>\n",
       "      <td>58</td>\n",
       "      <td>1</td>\n",
       "    </tr>\n",
       "    <tr>\n",
       "      <th>dachshund</th>\n",
       "      <td>43</td>\n",
       "      <td>1</td>\n",
       "    </tr>\n",
       "    <tr>\n",
       "      <th>shetland sheepdog</th>\n",
       "      <td>36</td>\n",
       "      <td>1</td>\n",
       "    </tr>\n",
       "    <tr>\n",
       "      <th>chihuahua</th>\n",
       "      <td>33</td>\n",
       "      <td>1</td>\n",
       "    </tr>\n",
       "  </tbody>\n",
       "</table>\n",
       "</div>"
      ],
      "text/plain": [
       "breed                frequency  prevalence\n",
       "labrador retriever         382           9\n",
       "golden retriever           138           3\n",
       "german shepherd dog        132           3\n",
       "poodle                     104           3\n",
       "border collie               89           2\n",
       "cocker spaniel              71           2\n",
       "australian shepherd         58           1\n",
       "dachshund                   43           1\n",
       "shetland sheepdog           36           1\n",
       "chihuahua                   33           1"
      ]
     },
     "metadata": {},
     "output_type": "display_data"
    }
   ],
   "source": [
    "fields = 'purebred_breed, purebred'\n",
    "labels = ['breed', 'purebred']\n",
    "df = createStringDataFrame(DOG_TABLE, fields, labels)\n",
    "df = df[df[labels[1]] == '1']\n",
    "df.drop(columns=labels[1], inplace=True)\n",
    "df = df[df[labels[0]] != '']\n",
    "\n",
    "# Calculate sums and prevalences for each breed.\n",
    "df = getValueCountAndPrevalence(df, labels[0])\n",
    "df = df.round(2)\n",
    "df.columns.name = labels[0]\n",
    "display(df[:10])"
   ]
  },
  {
   "cell_type": "markdown",
   "metadata": {},
   "source": [
    "### Number of dogs per source of origin:"
   ]
  },
  {
   "cell_type": "code",
   "execution_count": 86,
   "metadata": {
    "scrolled": true
   },
   "outputs": [
    {
     "name": "stdout",
     "output_type": "stream",
     "text": [
      "rescue: n = 1787 (43%)\n",
      "breeder: n = 1350 (33%)\n",
      "friends/family: n = 343 (8%)\n",
      "other: n = 224 (5%)\n",
      "self-bred: n = 136 (3%)\n",
      "found: n = 115 (3%)\n",
      "online (non-rescue): n = 77 (2%)\n",
      "pet store: n = 51 (1%)\n",
      "no response: n = 31 (1%)\n"
     ]
    }
   ],
   "source": [
    "fields = 'acquisition_source'\n",
    "labels = ['origin']\n",
    "df = createStringDataFrame(DOG_TABLE, fields, labels)\n",
    "# Rescue fields (online: 1, in-person: 4) were combined in the database.\n",
    "replacements = {'':'no response', '1': 'rescue', '2': 'online (non-rescue)', '3': 'pet store', '5': 'breeder',\n",
    "                '6': 'self-bred', '7': 'friends/family', '8': 'found', '9': 'other'}\n",
    "replaceFields(df, labels[0], replacements)\n",
    "df = df.apply(pd.value_counts)\n",
    "df.rename(index=str, columns={labels[0]: 'frequency'}, inplace=True)\n",
    "df.columns.name = labels[0]\n",
    "\n",
    "for index, row in df.iterrows():\n",
    "    print('%s: n = %d (%d%%)' %(index, (row[0]), round((row[0]/df['frequency'].sum())*100, 0)))"
   ]
  },
  {
   "cell_type": "markdown",
   "metadata": {},
   "source": [
    "### Neutered status and origin:"
   ]
  },
  {
   "cell_type": "code",
   "execution_count": 87,
   "metadata": {},
   "outputs": [],
   "source": [
    "# ???"
   ]
  },
  {
   "cell_type": "markdown",
   "metadata": {},
   "source": [
    "### Age at onset:"
   ]
  },
  {
   "cell_type": "code",
   "execution_count": 88,
   "metadata": {},
   "outputs": [
    {
     "name": "stdout",
     "output_type": "stream",
     "text": [
      "MD = 12.00 months (SD = 29.09, min = 1.00, max = 180.00, n = 650)\n",
      "Behavior problems evident at acquisition: n = 591 dogs (14%)\n"
     ]
    }
   ],
   "source": [
    "fields = 'q01_age_months'\n",
    "labels = ['age (months)']\n",
    "df = createNumericDataFrame(DOG_TABLE, fields, labels)\n",
    "displaySeriesMedian(df[labels[0]], 'months')\n",
    "\n",
    "fields = 'q01_acq'\n",
    "labels = ['evident when acquired']\n",
    "df = createNumericDataFrame(DOG_TABLE, fields, labels)\n",
    "cnt_evident_when_acquired = len(df[df[labels[0]] == 1].index)\n",
    "print('Behavior problems evident at acquisition: n = %d dogs (%d%%)'\n",
    "      %(cnt_evident_when_acquired, round((cnt_evident_when_acquired/REMAINING_DOGS)*100, 0)))"
   ]
  },
  {
   "cell_type": "markdown",
   "metadata": {},
   "source": [
    "## <center>Prevalence of Behavior Problems</center>"
   ]
  },
  {
   "cell_type": "markdown",
   "metadata": {},
   "source": [
    "### Number of dogs with behavior problems and overall prevalence:"
   ]
  },
  {
   "cell_type": "code",
   "execution_count": 89,
   "metadata": {},
   "outputs": [
    {
     "name": "stdout",
     "output_type": "stream",
     "text": [
      "Dogs with behavior problems: n = 3512 dogs\n",
      "Overall prevalence: 85% (3512/4114 dogs)\n"
     ]
    }
   ],
   "source": [
    "fields = 'q02_score'\n",
    "labels = ['Score']\n",
    "df_adjusted_dogs = createNumericDataFrame(DOG_TABLE, fields, labels)\n",
    "cnt_total_dogs_w_problems_adjusted = len(\n",
    "    df_adjusted_dogs[df_adjusted_dogs[labels[0]] != 0].index)\n",
    "\n",
    "print('Dogs with behavior problems: n = %d dogs' %(cnt_total_dogs_w_problems_adjusted))\n",
    "\n",
    "# Calculate the adjusted prevalence.\n",
    "prevalence_adjusted = PREVALENCE(cnt_total_dogs_w_problems_adjusted)\n",
    "\n",
    "print('Overall prevalence: %d%% (%d/%d dogs)'\n",
    "      %(round(prevalence_adjusted, 0), cnt_total_dogs_w_problems_adjusted, REMAINING_DOGS))"
   ]
  },
  {
   "cell_type": "markdown",
   "metadata": {},
   "source": [
    "### Prevalence of behavior problem categories (Table 1):"
   ]
  },
  {
   "cell_type": "code",
   "execution_count": 90,
   "metadata": {},
   "outputs": [
    {
     "data": {
      "text/html": [
       "<div>\n",
       "<style scoped>\n",
       "    .dataframe tbody tr th:only-of-type {\n",
       "        vertical-align: middle;\n",
       "    }\n",
       "\n",
       "    .dataframe tbody tr th {\n",
       "        vertical-align: top;\n",
       "    }\n",
       "\n",
       "    .dataframe thead th {\n",
       "        text-align: right;\n",
       "    }\n",
       "</style>\n",
       "<table border=\"1\" class=\"dataframe\">\n",
       "  <thead>\n",
       "    <tr style=\"text-align: right;\">\n",
       "      <th>Category</th>\n",
       "      <th>Count</th>\n",
       "      <th>Prevalence (%)</th>\n",
       "    </tr>\n",
       "  </thead>\n",
       "  <tbody>\n",
       "    <tr>\n",
       "      <th>Fear/Anxiety</th>\n",
       "      <td>1814</td>\n",
       "      <td>44</td>\n",
       "    </tr>\n",
       "    <tr>\n",
       "      <th>Aggression</th>\n",
       "      <td>1239</td>\n",
       "      <td>30</td>\n",
       "    </tr>\n",
       "    <tr>\n",
       "      <th>Jumping</th>\n",
       "      <td>1159</td>\n",
       "      <td>28</td>\n",
       "    </tr>\n",
       "    <tr>\n",
       "      <th>Excessive Barking</th>\n",
       "      <td>758</td>\n",
       "      <td>18</td>\n",
       "    </tr>\n",
       "    <tr>\n",
       "      <th>Coprophagia</th>\n",
       "      <td>718</td>\n",
       "      <td>17</td>\n",
       "    </tr>\n",
       "    <tr>\n",
       "      <th>Compulsion</th>\n",
       "      <td>639</td>\n",
       "      <td>16</td>\n",
       "    </tr>\n",
       "    <tr>\n",
       "      <th>House Soiling</th>\n",
       "      <td>614</td>\n",
       "      <td>15</td>\n",
       "    </tr>\n",
       "    <tr>\n",
       "      <th>Rolling in Repulsive Material</th>\n",
       "      <td>515</td>\n",
       "      <td>13</td>\n",
       "    </tr>\n",
       "    <tr>\n",
       "      <th>Overactivity/Hyperactivity</th>\n",
       "      <td>505</td>\n",
       "      <td>12</td>\n",
       "    </tr>\n",
       "    <tr>\n",
       "      <th>Destructive Behavior</th>\n",
       "      <td>489</td>\n",
       "      <td>12</td>\n",
       "    </tr>\n",
       "    <tr>\n",
       "      <th>Running Away/Escaping</th>\n",
       "      <td>442</td>\n",
       "      <td>11</td>\n",
       "    </tr>\n",
       "    <tr>\n",
       "      <th>Mounting/Humping</th>\n",
       "      <td>433</td>\n",
       "      <td>11</td>\n",
       "    </tr>\n",
       "  </tbody>\n",
       "</table>\n",
       "</div>"
      ],
      "text/plain": [
       "Category                       Count  Prevalence (%)\n",
       "Fear/Anxiety                    1814              44\n",
       "Aggression                      1239              30\n",
       "Jumping                         1159              28\n",
       "Excessive Barking                758              18\n",
       "Coprophagia                      718              17\n",
       "Compulsion                       639              16\n",
       "House Soiling                    614              15\n",
       "Rolling in Repulsive Material    515              13\n",
       "Overactivity/Hyperactivity       505              12\n",
       "Destructive Behavior             489              12\n",
       "Running Away/Escaping            442              11\n",
       "Mounting/Humping                 433              11"
      ]
     },
     "metadata": {},
     "output_type": "display_data"
    }
   ],
   "source": [
    "fields = []\n",
    "labels = []\n",
    "for counter, category in enumerate(FR.categories, 1):\n",
    "    if counter > 10:\n",
    "        counter += 1;\n",
    "    fields.append('q02_main_{}'.format(counter))\n",
    "    labels.append(category)\n",
    "fields = ', '.join(fields)\n",
    "df = createNumericDataFrame(DOG_TABLE, fields, labels, filtered=True)\n",
    "\n",
    "# Get individual behavior problem counts and display as a table.\n",
    "sums = df.sum()\n",
    "sums = sums.sort_values(ascending=False)\n",
    "\n",
    "# Calculate the prevalence of each behavior problem.\n",
    "total_dogs = len(df.index)\n",
    "prevalences = sums.apply(PREVALENCE).round().astype(int)\n",
    "\n",
    "# Create a table.\n",
    "df = pd.DataFrame(index=sums.index, data={'Count':sums.values,\n",
    "                                          'Prevalence (%)': prevalences.values.round(2)})\n",
    "df.columns.name = 'Category'\n",
    "display(df)\n",
    "exportTable(df, 'table_1')"
   ]
  },
  {
   "cell_type": "markdown",
   "metadata": {},
   "source": [
    "### Prevalence of behavior problem category subtypes (Table 2):"
   ]
  },
  {
   "cell_type": "code",
   "execution_count": 91,
   "metadata": {},
   "outputs": [
    {
     "data": {
      "text/html": [
       "<div>\n",
       "<style scoped>\n",
       "    .dataframe tbody tr th:only-of-type {\n",
       "        vertical-align: middle;\n",
       "    }\n",
       "\n",
       "    .dataframe tbody tr th {\n",
       "        vertical-align: top;\n",
       "    }\n",
       "\n",
       "    .dataframe thead th {\n",
       "        text-align: right;\n",
       "    }\n",
       "</style>\n",
       "<table border=\"1\" class=\"dataframe\">\n",
       "  <thead>\n",
       "    <tr style=\"text-align: right;\">\n",
       "      <th>Behavior problem</th>\n",
       "      <th>Frequency</th>\n",
       "      <th>Prevalence (%)</th>\n",
       "    </tr>\n",
       "  </thead>\n",
       "  <tbody>\n",
       "    <tr>\n",
       "      <th>Unfamiliar dogs on walks (on lead)</th>\n",
       "      <td>674.0</td>\n",
       "      <td>16</td>\n",
       "    </tr>\n",
       "    <tr>\n",
       "      <th>Another dog in the home</th>\n",
       "      <td>447.0</td>\n",
       "      <td>11</td>\n",
       "    </tr>\n",
       "    <tr>\n",
       "      <th>Stangers visiting the home</th>\n",
       "      <td>391.0</td>\n",
       "      <td>10</td>\n",
       "    </tr>\n",
       "    <tr>\n",
       "      <th>Unfamiliar dogs on walks (off lead)</th>\n",
       "      <td>371.0</td>\n",
       "      <td>9</td>\n",
       "    </tr>\n",
       "    <tr>\n",
       "      <th>Unfamiliar dogs visiting the home</th>\n",
       "      <td>371.0</td>\n",
       "      <td>9</td>\n",
       "    </tr>\n",
       "  </tbody>\n",
       "</table>\n",
       "</div>"
      ],
      "text/plain": [
       "Behavior problem                     Frequency  Prevalence (%)\n",
       "Unfamiliar dogs on walks (on lead)       674.0              16\n",
       "Another dog in the home                  447.0              11\n",
       "Stangers visiting the home               391.0              10\n",
       "Unfamiliar dogs on walks (off lead)      371.0               9\n",
       "Unfamiliar dogs visiting the home        371.0               9"
      ]
     },
     "metadata": {},
     "output_type": "display_data"
    },
    {
     "name": "stdout",
     "output_type": "stream",
     "text": [
      "Note: Only showing dataframe head to conserve notebook space\n"
     ]
    }
   ],
   "source": [
    "sums = pd.Series()\n",
    "for i in range(0, 12):\n",
    "    all_fields = FR.fields[FR.categories[i]].copy()\n",
    "    all_labels = list(FR.labels[FR.categories[i]].values()).copy()\n",
    "    df = createNumericDataFrame(DOG_TABLE, ', '.join(all_fields), all_labels, filtered=True)\n",
    "    if sums.empty:\n",
    "        sums = df.sum().sort_values(ascending=False)\n",
    "    else:\n",
    "        sums = sums.append(df.sum().sort_values(ascending=False))\n",
    "\n",
    "# Calculate the prevalence of each behavior problem.\n",
    "prevalences = sums.apply(PREVALENCE).round().astype(int)\n",
    "\n",
    "# Create a table.\n",
    "df = pd.DataFrame(index=sums.index, data={'Frequency':sums.values,\n",
    "                                          'Prevalence (%)': prevalences.values.round(2)})\n",
    "df.columns.name = 'Behavior problem'\n",
    "display(df.head())\n",
    "print(\"Note: Only showing dataframe head to conserve notebook space\")\n",
    "exportTable(df, 'table_2')"
   ]
  },
  {
   "cell_type": "markdown",
   "metadata": {},
   "source": [
    "### Prevalence by gender and neutered status (Table 3):"
   ]
  },
  {
   "cell_type": "code",
   "execution_count": 92,
   "metadata": {},
   "outputs": [
    {
     "data": {
      "text/html": [
       "<div>\n",
       "<style scoped>\n",
       "    .dataframe tbody tr th:only-of-type {\n",
       "        vertical-align: middle;\n",
       "    }\n",
       "\n",
       "    .dataframe tbody tr th {\n",
       "        vertical-align: top;\n",
       "    }\n",
       "\n",
       "    .dataframe thead th {\n",
       "        text-align: right;\n",
       "    }\n",
       "</style>\n",
       "<table border=\"1\" class=\"dataframe\">\n",
       "  <thead>\n",
       "    <tr style=\"text-align: right;\">\n",
       "      <th>Behavior problem</th>\n",
       "      <th>Intact males</th>\n",
       "      <th>Castrated males</th>\n",
       "      <th>Intact females</th>\n",
       "      <th>Spayed females</th>\n",
       "    </tr>\n",
       "  </thead>\n",
       "  <tbody>\n",
       "    <tr>\n",
       "      <th>Aggression</th>\n",
       "      <td>20</td>\n",
       "      <td>36</td>\n",
       "      <td>16</td>\n",
       "      <td>29</td>\n",
       "    </tr>\n",
       "    <tr>\n",
       "      <th>Fear/Anxiety</th>\n",
       "      <td>29</td>\n",
       "      <td>46</td>\n",
       "      <td>30</td>\n",
       "      <td>48</td>\n",
       "    </tr>\n",
       "    <tr>\n",
       "      <th>Compulsion</th>\n",
       "      <td>11</td>\n",
       "      <td>17</td>\n",
       "      <td>7</td>\n",
       "      <td>16</td>\n",
       "    </tr>\n",
       "    <tr>\n",
       "      <th>House Soiling</th>\n",
       "      <td>11</td>\n",
       "      <td>16</td>\n",
       "      <td>10</td>\n",
       "      <td>16</td>\n",
       "    </tr>\n",
       "    <tr>\n",
       "      <th>Excessive Barking</th>\n",
       "      <td>10</td>\n",
       "      <td>20</td>\n",
       "      <td>12</td>\n",
       "      <td>19</td>\n",
       "    </tr>\n",
       "  </tbody>\n",
       "</table>\n",
       "</div>"
      ],
      "text/plain": [
       "Behavior problem   Intact males  Castrated males  Intact females  \\\n",
       "Aggression                   20               36              16   \n",
       "Fear/Anxiety                 29               46              30   \n",
       "Compulsion                   11               17               7   \n",
       "House Soiling                11               16              10   \n",
       "Excessive Barking            10               20              12   \n",
       "\n",
       "Behavior problem   Spayed females  \n",
       "Aggression                     29  \n",
       "Fear/Anxiety                   48  \n",
       "Compulsion                     16  \n",
       "House Soiling                  16  \n",
       "Excessive Barking              19  "
      ]
     },
     "metadata": {},
     "output_type": "display_data"
    },
    {
     "name": "stdout",
     "output_type": "stream",
     "text": [
      "Note: Only showing dataframe head to conserve notebook space\n"
     ]
    }
   ],
   "source": [
    "fields = []\n",
    "labels = []\n",
    "for counter, cat in enumerate(FR.categories, 1):\n",
    "    if counter > 10:\n",
    "        counter += 1;\n",
    "    fields.append('q02_main_{}'.format(counter))\n",
    "    labels.append(cat)   \n",
    "fields.extend(('dog_sex', 'dog_spayed'))\n",
    "labels.extend(('Gender', 'Neutered'))\n",
    "fields = ', '.join(fields)\n",
    "df = createNumericDataFrame(DOG_TABLE, fields, labels, filtered=True)\n",
    "\n",
    "df_intact_male = df[(df['Gender'] == 1) & (df['Neutered'] == 0)].drop(\n",
    "    columns=['Gender', 'Neutered'])\n",
    "df_neutered_male = df[(df['Gender'] == 1) & (df['Neutered'] == 1)].drop(\n",
    "    columns=['Gender', 'Neutered'])\n",
    "df_intact_female = df[(df['Gender'] == 2) & (df['Neutered'] == 0)].drop(\n",
    "    columns=['Gender', 'Neutered'])\n",
    "df_neutered_female = df[(df['Gender'] == 2) & (df['Neutered'] == 1)].drop(\n",
    "    columns=['Gender', 'Neutered'])\n",
    "\n",
    "def get_group_prevalence(df):\n",
    "    df = df.sum().apply(lambda x: (x / len(df.index)) * 100)\n",
    "    return df.round().astype(int)\n",
    "\n",
    "intact_male_p = get_group_prevalence(df_intact_male)\n",
    "neutered_male_p = get_group_prevalence(df_neutered_male)\n",
    "intact_female_p = get_group_prevalence(df_intact_female)\n",
    "neutered_female_p = get_group_prevalence(df_neutered_female)\n",
    "\n",
    "df = pd.DataFrame(index=intact_male_p.index, data={'Intact males': intact_male_p,\n",
    "                                                   'Castrated males': neutered_male_p,\n",
    "                                                   'Intact females': intact_female_p,\n",
    "                                                   'Spayed females': neutered_female_p})\n",
    "df.columns.name = 'Behavior problem'\n",
    "display(df.head())\n",
    "print(\"Note: Only showing dataframe head to conserve notebook space\")\n",
    "exportTable(df, 'table_3')"
   ]
  },
  {
   "cell_type": "markdown",
   "metadata": {},
   "source": [
    "### Prevalence ranked by age of onset (Table 4):"
   ]
  },
  {
   "cell_type": "code",
   "execution_count": 93,
   "metadata": {},
   "outputs": [
    {
     "data": {
      "text/html": [
       "<div>\n",
       "<style scoped>\n",
       "    .dataframe tbody tr th:only-of-type {\n",
       "        vertical-align: middle;\n",
       "    }\n",
       "\n",
       "    .dataframe tbody tr th {\n",
       "        vertical-align: top;\n",
       "    }\n",
       "\n",
       "    .dataframe thead th {\n",
       "        text-align: right;\n",
       "    }\n",
       "</style>\n",
       "<table border=\"1\" class=\"dataframe\">\n",
       "  <thead>\n",
       "    <tr style=\"text-align: right;\">\n",
       "      <th>Behavior problem</th>\n",
       "      <th>0-3m</th>\n",
       "      <th>4-6m</th>\n",
       "      <th>7-12m</th>\n",
       "      <th>13-36m</th>\n",
       "      <th>37m+</th>\n",
       "      <th>Evident at Acquisition</th>\n",
       "    </tr>\n",
       "  </thead>\n",
       "  <tbody>\n",
       "    <tr>\n",
       "      <th>Aggression</th>\n",
       "      <td>47</td>\n",
       "      <td>46</td>\n",
       "      <td>52</td>\n",
       "      <td>62</td>\n",
       "      <td>54</td>\n",
       "      <td>39</td>\n",
       "    </tr>\n",
       "    <tr>\n",
       "      <th>Fear/Anxiety</th>\n",
       "      <td>43</td>\n",
       "      <td>55</td>\n",
       "      <td>53</td>\n",
       "      <td>55</td>\n",
       "      <td>47</td>\n",
       "      <td>68</td>\n",
       "    </tr>\n",
       "    <tr>\n",
       "      <th>Compulsion</th>\n",
       "      <td>17</td>\n",
       "      <td>17</td>\n",
       "      <td>18</td>\n",
       "      <td>20</td>\n",
       "      <td>23</td>\n",
       "      <td>20</td>\n",
       "    </tr>\n",
       "    <tr>\n",
       "      <th>House Soiling</th>\n",
       "      <td>17</td>\n",
       "      <td>16</td>\n",
       "      <td>13</td>\n",
       "      <td>13</td>\n",
       "      <td>18</td>\n",
       "      <td>28</td>\n",
       "    </tr>\n",
       "    <tr>\n",
       "      <th>Excessive Barking</th>\n",
       "      <td>17</td>\n",
       "      <td>26</td>\n",
       "      <td>34</td>\n",
       "      <td>24</td>\n",
       "      <td>28</td>\n",
       "      <td>23</td>\n",
       "    </tr>\n",
       "  </tbody>\n",
       "</table>\n",
       "</div>"
      ],
      "text/plain": [
       "Behavior problem   0-3m  4-6m  7-12m  13-36m  37m+  Evident at Acquisition\n",
       "Aggression           47    46     52      62    54                      39\n",
       "Fear/Anxiety         43    55     53      55    47                      68\n",
       "Compulsion           17    17     18      20    23                      20\n",
       "House Soiling        17    16     13      13    18                      28\n",
       "Excessive Barking    17    26     34      24    28                      23"
      ]
     },
     "metadata": {},
     "output_type": "display_data"
    },
    {
     "name": "stdout",
     "output_type": "stream",
     "text": [
      "Note: Only showing dataframe head to conserve notebook space\n"
     ]
    }
   ],
   "source": [
    "fields = []\n",
    "labels = []\n",
    "for counter, cat in enumerate(FR.categories, 1):\n",
    "    if counter > 10:\n",
    "        counter += 1;\n",
    "    fields.append('q02_main_{}'.format(counter))\n",
    "    labels.append(cat)   \n",
    "fields.append('q01_age_months')\n",
    "labels.append('Age')\n",
    "fields.append('q01_acq')\n",
    "labels.append('Evident at Acquisition')\n",
    "fields = ', '.join(fields)\n",
    "df = createNumericDataFrame(DOG_TABLE, fields, labels, filtered=True)\n",
    "\n",
    "# Ranges: 0=0-3m, 1=3-6m, 2=6m-1y, 3=1-3y, 4=3y+, 5=evident at acquisition\n",
    "rngs = []\n",
    "rngs.append(df[(df['Age'] < 3.5)].drop(columns=['Age', 'Evident at Acquisition']))\n",
    "rngs.append(df[(df['Age'] >= 3.5) & (df['Age'] < 6.5)].drop(columns=['Age', 'Evident at Acquisition']))\n",
    "rngs.append(df[(df['Age'] >= 6.5) & (df['Age'] < 12.5)].drop(columns=['Age', 'Evident at Acquisition']))\n",
    "rngs.append(df[(df['Age'] >= 12.5) & (df['Age'] < 36.5)].drop(columns=['Age', 'Evident at Acquisition']))\n",
    "rngs.append(df[(df['Age'] >= 36.5)].drop(columns=['Age', 'Evident at Acquisition']))\n",
    "rngs.append(df[(df['Evident at Acquisition'] == 1)].drop(columns=['Age', 'Evident at Acquisition']))\n",
    "\n",
    "def get_group_prevalence(df):\n",
    "    df = df.sum().apply(lambda x: (x / len(df.index)) * 100)\n",
    "    return df.round().astype(int)\n",
    "\n",
    "prevs = []\n",
    "prevs.append(get_group_prevalence(rngs[0]))\n",
    "prevs.append(get_group_prevalence(rngs[1]))\n",
    "prevs.append(get_group_prevalence(rngs[2]))\n",
    "prevs.append(get_group_prevalence(rngs[3]))\n",
    "prevs.append(get_group_prevalence(rngs[4]))\n",
    "prevs.append(get_group_prevalence(rngs[5]))\n",
    "\n",
    "df = pd.DataFrame(index=prevs[0].index, data={'0-3m': prevs[0], '4-6m': prevs[1], '7-12m': prevs[2],\n",
    "                                              '13-36m': prevs[3], '37m+': prevs[4],\n",
    "                                              'Evident at Acquisition': prevs[5]})\n",
    "df.columns.name = 'Behavior problem'\n",
    "display(df.head())\n",
    "print(\"Note: Only showing dataframe head to conserve notebook space\")\n",
    "exportTable(df, 'table_4')"
   ]
  },
  {
   "cell_type": "markdown",
   "metadata": {},
   "source": [
    "### Prevalence by origin (Table 5):"
   ]
  },
  {
   "cell_type": "code",
   "execution_count": 94,
   "metadata": {},
   "outputs": [
    {
     "data": {
      "text/html": [
       "<div>\n",
       "<style scoped>\n",
       "    .dataframe tbody tr th:only-of-type {\n",
       "        vertical-align: middle;\n",
       "    }\n",
       "\n",
       "    .dataframe tbody tr th {\n",
       "        vertical-align: top;\n",
       "    }\n",
       "\n",
       "    .dataframe thead th {\n",
       "        text-align: right;\n",
       "    }\n",
       "</style>\n",
       "<table border=\"1\" class=\"dataframe\">\n",
       "  <thead>\n",
       "    <tr style=\"text-align: right;\">\n",
       "      <th>Behavior problem</th>\n",
       "      <th>Rescue</th>\n",
       "      <th>Online</th>\n",
       "      <th>Pet store</th>\n",
       "      <th>Breeder</th>\n",
       "      <th>Self-bred</th>\n",
       "      <th>Family/Friends</th>\n",
       "      <th>Found</th>\n",
       "      <th>Other</th>\n",
       "    </tr>\n",
       "  </thead>\n",
       "  <tbody>\n",
       "    <tr>\n",
       "      <th>Aggression</th>\n",
       "      <td>36</td>\n",
       "      <td>35</td>\n",
       "      <td>33</td>\n",
       "      <td>22</td>\n",
       "      <td>20</td>\n",
       "      <td>35</td>\n",
       "      <td>32</td>\n",
       "      <td>29</td>\n",
       "    </tr>\n",
       "    <tr>\n",
       "      <th>Fear/Anxiety</th>\n",
       "      <td>54</td>\n",
       "      <td>40</td>\n",
       "      <td>37</td>\n",
       "      <td>34</td>\n",
       "      <td>21</td>\n",
       "      <td>45</td>\n",
       "      <td>52</td>\n",
       "      <td>40</td>\n",
       "    </tr>\n",
       "    <tr>\n",
       "      <th>Compulsion</th>\n",
       "      <td>18</td>\n",
       "      <td>19</td>\n",
       "      <td>33</td>\n",
       "      <td>12</td>\n",
       "      <td>4</td>\n",
       "      <td>17</td>\n",
       "      <td>18</td>\n",
       "      <td>15</td>\n",
       "    </tr>\n",
       "    <tr>\n",
       "      <th>House Soiling</th>\n",
       "      <td>19</td>\n",
       "      <td>19</td>\n",
       "      <td>29</td>\n",
       "      <td>9</td>\n",
       "      <td>3</td>\n",
       "      <td>14</td>\n",
       "      <td>18</td>\n",
       "      <td>20</td>\n",
       "    </tr>\n",
       "    <tr>\n",
       "      <th>Excessive Barking</th>\n",
       "      <td>20</td>\n",
       "      <td>25</td>\n",
       "      <td>29</td>\n",
       "      <td>16</td>\n",
       "      <td>7</td>\n",
       "      <td>22</td>\n",
       "      <td>22</td>\n",
       "      <td>15</td>\n",
       "    </tr>\n",
       "  </tbody>\n",
       "</table>\n",
       "</div>"
      ],
      "text/plain": [
       "Behavior problem   Rescue  Online  Pet store  Breeder  Self-bred  \\\n",
       "Aggression             36      35         33       22         20   \n",
       "Fear/Anxiety           54      40         37       34         21   \n",
       "Compulsion             18      19         33       12          4   \n",
       "House Soiling          19      19         29        9          3   \n",
       "Excessive Barking      20      25         29       16          7   \n",
       "\n",
       "Behavior problem   Family/Friends  Found  Other  \n",
       "Aggression                     35     32     29  \n",
       "Fear/Anxiety                   45     52     40  \n",
       "Compulsion                     17     18     15  \n",
       "House Soiling                  14     18     20  \n",
       "Excessive Barking              22     22     15  "
      ]
     },
     "metadata": {},
     "output_type": "display_data"
    },
    {
     "name": "stdout",
     "output_type": "stream",
     "text": [
      "Note: Only showing dataframe head to conserve notebook space\n"
     ]
    }
   ],
   "source": [
    "fields = []\n",
    "labels = []\n",
    "for counter, cat in enumerate(FR.categories, 1):\n",
    "    if counter > 10:\n",
    "        counter += 1;\n",
    "    fields.append('q02_main_{}'.format(counter))\n",
    "    labels.append(cat)   \n",
    "fields.append('acquisition_source')\n",
    "labels.append('origin')\n",
    "fields = ', '.join(fields)\n",
    "df = createNumericDataFrame(DOG_TABLE, fields, labels, filtered=True)\n",
    "# Rescue fields (online: 1, in-person: 4) were combined in the database.\n",
    "#replacements = {'':'no response', '1': 'rescue', '2': 'online (non-rescue)', '3': 'pet store', '5': 'breeder',\n",
    "#                '6': 'self-bred', '7': 'friends/family', '8': 'found', '9': 'other'}\n",
    "\n",
    "rngs = []\n",
    "for i in range(1, 9):\n",
    "    cnt = i\n",
    "    if i >= 4:\n",
    "        cnt += 1\n",
    "    rngs.append(df[(df['origin'] == cnt)].drop(columns=['origin']))\n",
    "\n",
    "def get_group_prevalence(df):\n",
    "    df = df.sum().apply(lambda x: (x / len(df.index)) * 100)\n",
    "    return df.round().astype(int)\n",
    "\n",
    "prevs = []\n",
    "for j in range(0, 8):\n",
    "    prevs.append(get_group_prevalence(rngs[j]))\n",
    "\n",
    "df = pd.DataFrame(index=intact_male_p.index, data={'Rescue': prevs[0], 'Online': prevs[1],\n",
    "                                                   'Pet store': prevs[2], 'Breeder': prevs[3],\n",
    "                                                   'Self-bred': prevs[4], 'Family/Friends': prevs[5],\n",
    "                                                   'Found': prevs[6], 'Other': prevs[7]})\n",
    "df.columns.name = 'Behavior problem'\n",
    "display(df.head())\n",
    "print(\"Note: Only showing dataframe head to conserve notebook space\")\n",
    "exportTable(df, 'table_5')"
   ]
  },
  {
   "cell_type": "markdown",
   "metadata": {},
   "source": [
    "### Prevalence by purebred lineage (Table 6):"
   ]
  },
  {
   "cell_type": "code",
   "execution_count": 95,
   "metadata": {},
   "outputs": [
    {
     "data": {
      "text/html": [
       "<div>\n",
       "<style scoped>\n",
       "    .dataframe tbody tr th:only-of-type {\n",
       "        vertical-align: middle;\n",
       "    }\n",
       "\n",
       "    .dataframe tbody tr th {\n",
       "        vertical-align: top;\n",
       "    }\n",
       "\n",
       "    .dataframe thead th {\n",
       "        text-align: right;\n",
       "    }\n",
       "</style>\n",
       "<table border=\"1\" class=\"dataframe\">\n",
       "  <thead>\n",
       "    <tr style=\"text-align: right;\">\n",
       "      <th>Behavior problem</th>\n",
       "      <th>Purebred</th>\n",
       "      <th>Non-purebred</th>\n",
       "    </tr>\n",
       "  </thead>\n",
       "  <tbody>\n",
       "    <tr>\n",
       "      <th>Aggression</th>\n",
       "      <td>26</td>\n",
       "      <td>36</td>\n",
       "    </tr>\n",
       "    <tr>\n",
       "      <th>Fear/Anxiety</th>\n",
       "      <td>38</td>\n",
       "      <td>53</td>\n",
       "    </tr>\n",
       "    <tr>\n",
       "      <th>Compulsion</th>\n",
       "      <td>15</td>\n",
       "      <td>17</td>\n",
       "    </tr>\n",
       "    <tr>\n",
       "      <th>House Soiling</th>\n",
       "      <td>14</td>\n",
       "      <td>17</td>\n",
       "    </tr>\n",
       "    <tr>\n",
       "      <th>Excessive Barking</th>\n",
       "      <td>16</td>\n",
       "      <td>21</td>\n",
       "    </tr>\n",
       "  </tbody>\n",
       "</table>\n",
       "</div>"
      ],
      "text/plain": [
       "Behavior problem   Purebred  Non-purebred\n",
       "Aggression               26            36\n",
       "Fear/Anxiety             38            53\n",
       "Compulsion               15            17\n",
       "House Soiling            14            17\n",
       "Excessive Barking        16            21"
      ]
     },
     "metadata": {},
     "output_type": "display_data"
    },
    {
     "name": "stdout",
     "output_type": "stream",
     "text": [
      "Note: Only showing dataframe head to conserve notebook space\n"
     ]
    }
   ],
   "source": [
    "fields = []\n",
    "labels = []\n",
    "for counter, cat in enumerate(FR.categories, 1):\n",
    "    if counter > 10:\n",
    "        counter += 1;\n",
    "    fields.append('q02_main_{}'.format(counter))\n",
    "    labels.append(cat)\n",
    "fields.append('purebred')\n",
    "labels.append('purebred')\n",
    "fields = ', '.join(fields)\n",
    "df = createNumericDataFrame(DOG_TABLE, fields, labels, filtered=True)\n",
    "\n",
    "rngs = []\n",
    "rngs.append(df[(df['purebred'] == 1)].drop(columns=['purebred']))\n",
    "rngs.append(df[(df['purebred'] == 0)].drop(columns=['purebred']))\n",
    "\n",
    "def get_group_prevalence(df):\n",
    "    df = df.sum().apply(lambda x: (x / len(df.index)) * 100)\n",
    "    return df.round().astype(int)\n",
    "\n",
    "prevs = []\n",
    "prevs.append(get_group_prevalence(rngs[0]))\n",
    "prevs.append(get_group_prevalence(rngs[1]))\n",
    "\n",
    "df = pd.DataFrame(index=intact_male_p.index, data={'Purebred': prevs[0], 'Non-purebred': prevs[1]})\n",
    "df.columns.name = 'Behavior problem'\n",
    "display(df.head())\n",
    "print(\"Note: Only showing dataframe head to conserve notebook space\")\n",
    "exportTable(df, 'table_6')"
   ]
  },
  {
   "cell_type": "markdown",
   "metadata": {},
   "source": [
    "### Impact of gender on prevalence:"
   ]
  },
  {
   "cell_type": "code",
   "execution_count": 96,
   "metadata": {},
   "outputs": [
    {
     "name": "stdout",
     "output_type": "stream",
     "text": [
      "Chi-squared Test of Independence for behavior problems and gender:\n",
      "chi2 = 4.861002, p = 2.75E-02, dof = 1\n",
      "OR = 1.22, 95% CI: 1.02-1.45, n = 4100\n"
     ]
    }
   ],
   "source": [
    "fields = 'q02_score, dog_sex'\n",
    "labels = ['behavior problems', 'gender']\n",
    "df = createStringDataFrame(DOG_TABLE, fields, labels)\n",
    "df = df[df[labels[1]] != '']\n",
    "df = df.apply(pd.to_numeric)\n",
    "\n",
    "def gender_to_binary_response(x):\n",
    "    x = int(x)\n",
    "    if x == 1:\n",
    "        return 1\n",
    "    return 0\n",
    "\n",
    "df['behavior problems'] = df['behavior problems'].apply(\n",
    "    lambda x: convert_to_binary_response(x))\n",
    "df['gender'] = df['gender'].apply(\n",
    "    lambda x: gender_to_binary_response(x))\n",
    "\n",
    "# Execute a chi-squared test of independence.\n",
    "contingency = pd.crosstab(df[labels[0]], df[labels[1]], margins=False)\n",
    "print('Chi-squared Test of Independence for %s and %s:' %(labels[0], labels[1]))\n",
    "c, p, dof, expected = scs.chi2_contingency(contingency, correction=False)\n",
    "print('chi2 = %f, p = %.2E, dof = %d' %(c, p, dof))\n",
    "displayOddsRatio(contingency)"
   ]
  },
  {
   "cell_type": "markdown",
   "metadata": {},
   "source": [
    "### Impact of neutered status on prevalence:"
   ]
  },
  {
   "cell_type": "code",
   "execution_count": 97,
   "metadata": {},
   "outputs": [
    {
     "name": "stdout",
     "output_type": "stream",
     "text": [
      "Chi-squared Test of Independence for behavior problems and neutered:\n",
      "chi2 = 35.951010, p = 2.02E-09, dof = 1\n",
      "OR = 1.90, 95% CI: 1.54-2.35, n = 4092\n"
     ]
    }
   ],
   "source": [
    "fields = 'q02_score, dog_spayed'\n",
    "labels = ['behavior problems', 'neutered']\n",
    "df = createStringDataFrame(DOG_TABLE, fields, labels)\n",
    "df = df[df[labels[1]] != '']\n",
    "df = df[df[labels[1]] != '2']\n",
    "df = df.apply(pd.to_numeric)\n",
    "\n",
    "df['behavior problems'] = df['behavior problems'].apply(\n",
    "    lambda x: convert_to_binary_response(x))\n",
    "df['neutered'] = df['neutered'].apply(\n",
    "    lambda x: convert_to_binary_response(x))\n",
    "\n",
    "# Execute a chi-squared test of independence.\n",
    "contingency = pd.crosstab(df[labels[0]], df[labels[1]], margins=False)\n",
    "print('Chi-squared Test of Independence for %s and %s:' %(labels[0], labels[1]))\n",
    "c, p, dof, expected = scs.chi2_contingency(contingency, correction=False)\n",
    "print('chi2 = %f, p = %.2E, dof = %d' %(c, p, dof))\n",
    "displayOddsRatio(contingency)"
   ]
  },
  {
   "cell_type": "markdown",
   "metadata": {},
   "source": [
    "### Impact of origin on prevalence:"
   ]
  },
  {
   "cell_type": "code",
   "execution_count": 98,
   "metadata": {},
   "outputs": [
    {
     "name": "stdout",
     "output_type": "stream",
     "text": [
      "Chi-squared Test of Independence for behavior problems and origin:\n",
      "chi2 = 104.639735, p = 1.46E-24, dof = 1\n",
      "OR = 2.73, 95% CI: 2.24-3.33, n = 4083\n"
     ]
    }
   ],
   "source": [
    "fields = 'q02_score, acquisition_source'\n",
    "labels = ['behavior problems', 'origin']\n",
    "df = createStringDataFrame(DOG_TABLE, fields, labels)\n",
    "# Rescue fields (online: 1, in-person: 4) were combined in the database.\n",
    "#replacements = {'':'no response', '1': 'rescue', '2': 'online (non-rescue)', '3': 'pet store', '5': 'breeder',\n",
    "#                '6': 'self-bred', '7': 'friends/family', '8': 'found', '9': 'other'}\n",
    "df = df[df[labels[1]] != '']\n",
    "df = df.apply(pd.to_numeric)\n",
    "\n",
    "def rescue_to_binary_response(x):\n",
    "    x = int(x)\n",
    "    if x != 1:\n",
    "        return 0\n",
    "    return 1\n",
    "\n",
    "df['behavior problems'] = df['behavior problems'].apply(\n",
    "    lambda x: convert_to_binary_response(x))\n",
    "df['origin'] = df['origin'].apply(lambda x: rescue_to_binary_response(x))\n",
    "\n",
    "# Execute a chi-squared test of independence.\n",
    "contingency = pd.crosstab(df[labels[0]], df[labels[1]], margins=False)\n",
    "print('Chi-squared Test of Independence for %s and %s:' %(labels[0], labels[1]))\n",
    "c, p, dof, expected = scs.chi2_contingency(contingency, correction=False)\n",
    "print('chi2 = %f, p = %.2E, dof = %d' %(c, p, dof))\n",
    "displayOddsRatio(contingency)"
   ]
  },
  {
   "cell_type": "markdown",
   "metadata": {},
   "source": [
    "### Impact of purebred lineage on prevalence:"
   ]
  },
  {
   "cell_type": "code",
   "execution_count": 99,
   "metadata": {},
   "outputs": [
    {
     "name": "stdout",
     "output_type": "stream",
     "text": [
      "Chi-squared Test of Independence for behavior problems and purebred:\n",
      "chi2 = 93.827777, p = 3.44E-22, dof = 1\n",
      "OR = 0.38, 95% CI: 0.31-0.47, n = 4058\n"
     ]
    }
   ],
   "source": [
    "fields = 'q02_score, purebred'\n",
    "labels = ['behavior problems', 'purebred']\n",
    "df = createStringDataFrame(DOG_TABLE, fields, labels)\n",
    "df = df[df[labels[1]] != '']\n",
    "df = df.apply(pd.to_numeric)\n",
    "\n",
    "df['behavior problems'] = df['behavior problems'].apply(\n",
    "    lambda x: convert_to_binary_response(x))\n",
    "\n",
    "# Execute a chi-squared test of independence.\n",
    "contingency = pd.crosstab(df[labels[0]], df[labels[1]], margins=False)\n",
    "print('Chi-squared Test of Independence for %s and %s:' %(labels[0], labels[1]))\n",
    "c, p, dof, expected = scs.chi2_contingency(contingency, correction=False)\n",
    "print('chi2 = %f, p = %.2E, dof = %d' %(c, p, dof))\n",
    "displayOddsRatio(contingency)"
   ]
  },
  {
   "cell_type": "markdown",
   "metadata": {},
   "source": [
    "### Impact of age on prevalence:"
   ]
  },
  {
   "cell_type": "code",
   "execution_count": 100,
   "metadata": {},
   "outputs": [
    {
     "name": "stdout",
     "output_type": "stream",
     "text": [
      "Chi-squared Test of Independence for behavior problems and age:\n",
      "chi2 = 0.235205, p = 6.28E-01, dof = 1\n",
      "OR = 0.72, 95% CI: 0.19-2.71, n = 650\n"
     ]
    }
   ],
   "source": [
    "fields = 'q02_score, q01_age_months'\n",
    "labels = ['behavior problems', 'age']\n",
    "df = createStringDataFrame(DOG_TABLE, fields, labels)\n",
    "df = df[df[labels[1]] != '']\n",
    "df = df.apply(pd.to_numeric)\n",
    "\n",
    "df['age'] = df['age'].apply(lambda x: convert_to_binary_response(x, 12.5))\n",
    "df['behavior problems'] = df['behavior problems'].apply(lambda x: convert_to_binary_response(x, 1))\n",
    "\n",
    "# Execute a chi-squared test of independence.\n",
    "contingency = pd.crosstab(df[labels[0]], df[labels[1]], margins=False)\n",
    "print('Chi-squared Test of Independence for %s and %s:' %(labels[0], labels[1]))\n",
    "c, p, dof, expected = scs.chi2_contingency(contingency, correction=False)\n",
    "print('chi2 = %f, p = %.2E, dof = %d' %(c, p, dof))\n",
    "displayOddsRatio(contingency)"
   ]
  },
  {
   "cell_type": "markdown",
   "metadata": {},
   "source": [
    "## <center>Number of Behavior Problems</center>"
   ]
  },
  {
   "cell_type": "markdown",
   "metadata": {},
   "source": [
    "### Number of behavior problems per dog:"
   ]
  },
  {
   "cell_type": "code",
   "execution_count": 101,
   "metadata": {},
   "outputs": [
    {
     "name": "stdout",
     "output_type": "stream",
     "text": [
      "MD = 2.00 behavior problems (SD = 1.82, min = 0.00, max = 12.00, n = 4114)\n"
     ]
    },
    {
     "data": {
      "text/html": [
       "<div>\n",
       "<style scoped>\n",
       "    .dataframe tbody tr th:only-of-type {\n",
       "        vertical-align: middle;\n",
       "    }\n",
       "\n",
       "    .dataframe tbody tr th {\n",
       "        vertical-align: top;\n",
       "    }\n",
       "\n",
       "    .dataframe thead th {\n",
       "        text-align: right;\n",
       "    }\n",
       "</style>\n",
       "<table border=\"1\" class=\"dataframe\">\n",
       "  <thead>\n",
       "    <tr style=\"text-align: right;\">\n",
       "      <th>number of behavior problems</th>\n",
       "      <th>frequency</th>\n",
       "    </tr>\n",
       "  </thead>\n",
       "  <tbody>\n",
       "    <tr>\n",
       "      <th>1</th>\n",
       "      <td>1058</td>\n",
       "    </tr>\n",
       "    <tr>\n",
       "      <th>2</th>\n",
       "      <td>912</td>\n",
       "    </tr>\n",
       "    <tr>\n",
       "      <th>3</th>\n",
       "      <td>659</td>\n",
       "    </tr>\n",
       "    <tr>\n",
       "      <th>0</th>\n",
       "      <td>602</td>\n",
       "    </tr>\n",
       "    <tr>\n",
       "      <th>4</th>\n",
       "      <td>416</td>\n",
       "    </tr>\n",
       "    <tr>\n",
       "      <th>5</th>\n",
       "      <td>218</td>\n",
       "    </tr>\n",
       "    <tr>\n",
       "      <th>6</th>\n",
       "      <td>123</td>\n",
       "    </tr>\n",
       "    <tr>\n",
       "      <th>7</th>\n",
       "      <td>71</td>\n",
       "    </tr>\n",
       "    <tr>\n",
       "      <th>8</th>\n",
       "      <td>30</td>\n",
       "    </tr>\n",
       "    <tr>\n",
       "      <th>9</th>\n",
       "      <td>17</td>\n",
       "    </tr>\n",
       "    <tr>\n",
       "      <th>10</th>\n",
       "      <td>5</td>\n",
       "    </tr>\n",
       "    <tr>\n",
       "      <th>11</th>\n",
       "      <td>2</td>\n",
       "    </tr>\n",
       "    <tr>\n",
       "      <th>12</th>\n",
       "      <td>1</td>\n",
       "    </tr>\n",
       "  </tbody>\n",
       "</table>\n",
       "</div>"
      ],
      "text/plain": [
       "number of behavior problems  frequency\n",
       "1                                 1058\n",
       "2                                  912\n",
       "3                                  659\n",
       "0                                  602\n",
       "4                                  416\n",
       "5                                  218\n",
       "6                                  123\n",
       "7                                   71\n",
       "8                                   30\n",
       "9                                   17\n",
       "10                                   5\n",
       "11                                   2\n",
       "12                                   1"
      ]
     },
     "metadata": {},
     "output_type": "display_data"
    }
   ],
   "source": [
    "fields = 'q02_score'\n",
    "labels = ['number of behavior problems']\n",
    "df = createNumericDataFrame(DOG_TABLE, fields, labels)\n",
    "displaySeriesMedian(df[labels[0]], 'behavior problems')\n",
    "\n",
    "df = df.apply(pd.value_counts)\n",
    "df.rename(index=str, columns={labels[0]: \"frequency\"}, inplace=True)\n",
    "df.columns.name = labels[0]\n",
    "display(df)"
   ]
  },
  {
   "cell_type": "markdown",
   "metadata": {},
   "source": [
    "### Number of behavior problems by age range (UNUSED):"
   ]
  },
  {
   "cell_type": "code",
   "execution_count": 102,
   "metadata": {},
   "outputs": [],
   "source": [
    "# fields = ['q02_score', 'q01_age_months']\n",
    "# labels = ['behavior problems', 'age'] \n",
    "# fields = ', '.join(fields)\n",
    "# df = createNumericDataFrame(DOG_TABLE, fields, labels, filtered=True)\n",
    "# df = df[np.isfinite(df[labels[1]])].round(0).astype(int)\n",
    "\n",
    "# # Ranges: 0=0-3m, 1=4-6m, 2=6m-1y, 3=1-3y, 4=3y+, 5=evident at acquisition\n",
    "# rngs = []\n",
    "# rngs.append(df[(df['age'] <= 3)].drop(columns=['age']))\n",
    "# rngs.append(df[(df['age'] > 3) & (df['age'] <= 6)].drop(columns=['age']))\n",
    "# rngs.append(df[(df['age'] > 6) & (df['age'] <= 12)].drop(columns=['age']))\n",
    "# rngs.append(df[(df['age'] > 12) & (df['age'] <= 36)].drop(columns=['age']))\n",
    "# rngs.append(df[(df['age'] > 36)].drop(columns=['age']))\n",
    "\n",
    "# def get_group_mean(df):\n",
    "#     return df[labels[0]].min().round().astype(int)\n",
    "\n",
    "# means = []\n",
    "# for i, val in enumerate(rngs):\n",
    "#     means.append(get_group_mean(rngs[i]))\n",
    "    \n",
    "# df = pd.DataFrame(index=['0-3m', '4-6m', '7-12m', '13-36m', '37m+'], data={'Number of Behavior Problems': means})\n",
    "# df.columns.name = 'Age Range'\n",
    "# display(df)\n",
    "# exportTable(df, 'table_7')"
   ]
  },
  {
   "cell_type": "markdown",
   "metadata": {},
   "source": [
    "### Impact of gender on number of behavior problems:"
   ]
  },
  {
   "cell_type": "code",
   "execution_count": 103,
   "metadata": {},
   "outputs": [
    {
     "name": "stdout",
     "output_type": "stream",
     "text": [
      "Males:\n",
      "M = 2.32 behavior problems (SD = 1.84, min = 0.00, max = 12.00, n = 2005)\n",
      "\n",
      "Females:\n",
      "M = 2.22 behavior problems (SD = 1.81, min = 0.00, max = 10.00, n = 2095)\n",
      "\n",
      "t(4100) = 1.68, p = 9.35E-02\n"
     ]
    }
   ],
   "source": [
    "fields = 'q02_score, dog_sex'\n",
    "labels = ['behavior problems', 'gender']\n",
    "df = createStringDataFrame(DOG_TABLE, fields, labels)\n",
    "df = df[df[labels[1]] != '']\n",
    "df = df.apply(pd.to_numeric)\n",
    "\n",
    "print('Males:')\n",
    "males = df[(df['gender'] == 1)].drop(columns=['gender'])\n",
    "#display(males.describe())\n",
    "displaySeriesMean(males[labels[0]], 'behavior problems')\n",
    "\n",
    "print('\\nFemales:')\n",
    "females = df[(df['gender'] == 2)].drop(columns=['gender'])\n",
    "#display(females.describe())\n",
    "displaySeriesMean(females[labels[0]], 'behavior problems')\n",
    "\n",
    "tval, pval = ttest_ind(males, females, equal_var=False)\n",
    "tot = males[labels[0]].count() + females[labels[0]].count()\n",
    "print('\\nt(%d) = %.2f, p = %.2E' %(tot, round(tval[0], 2), pval))"
   ]
  },
  {
   "cell_type": "markdown",
   "metadata": {},
   "source": [
    "### Impact of neuter status on number of behavior problems:"
   ]
  },
  {
   "cell_type": "code",
   "execution_count": 104,
   "metadata": {},
   "outputs": [
    {
     "name": "stdout",
     "output_type": "stream",
     "text": [
      "Neutered:\n",
      "M = 2.36 behavior problems (SD = 1.84, min = 0.00, max = 12.00, n = 3472)\n",
      "\n",
      "Intact:\n",
      "M = 1.76 behavior problems (SD = 1.68, min = 0.00, max = 10.00, n = 620)\n",
      "\n",
      "t(4092) = 8.12, p = 1.53E-15\n"
     ]
    }
   ],
   "source": [
    "fields = 'q02_score, dog_spayed'\n",
    "labels = ['behavior problems', 'neutered']\n",
    "df = createStringDataFrame(DOG_TABLE, fields, labels)\n",
    "df = df[df[labels[1]] != '']\n",
    "df = df.apply(pd.to_numeric)\n",
    "\n",
    "print('Neutered:')\n",
    "neutered = df[(df['neutered'] == 1)].drop(columns=['neutered'])\n",
    "#display(neutered.describe())\n",
    "displaySeriesMean(neutered[labels[0]], 'behavior problems')\n",
    "\n",
    "print('\\nIntact:')\n",
    "intact = df[(df['neutered'] == 0)].drop(columns=['neutered'])\n",
    "#display(intact.describe())\n",
    "displaySeriesMean(intact[labels[0]], 'behavior problems')\n",
    "\n",
    "tval, pval = ttest_ind(neutered, intact, equal_var=False)\n",
    "tot = neutered[labels[0]].count() + intact[labels[0]].count()\n",
    "print('\\nt(%d) = %.2f, p = %.2E' %(tot, round(tval[0], 2), pval))"
   ]
  },
  {
   "cell_type": "markdown",
   "metadata": {},
   "source": [
    "### Impact of purebred lineage on number of behavior problems:"
   ]
  },
  {
   "cell_type": "code",
   "execution_count": 105,
   "metadata": {},
   "outputs": [
    {
     "name": "stdout",
     "output_type": "stream",
     "text": [
      "Purebred:\n",
      "M = 2.02 behavior problems (SD = 1.75, min = 0.00, max = 12.00, n = 2335)\n",
      "\n",
      "Non-purebred:\n",
      "M = 2.62 behavior problems (SD = 1.87, min = 0.00, max = 11.00, n = 1723)\n",
      "\n",
      "t(4058) = 10.39, p = 6.35E-25\n"
     ]
    }
   ],
   "source": [
    "fields = 'q02_score, purebred'\n",
    "labels = ['behavior problems', 'purebred']\n",
    "df = createStringDataFrame(DOG_TABLE, fields, labels)\n",
    "df = df[df[labels[1]] != '']\n",
    "df = df.apply(pd.to_numeric)\n",
    "\n",
    "print('Purebred:')\n",
    "purebred = df[(df['purebred'] == 1)].drop(columns=['purebred'])\n",
    "#display(purebred.describe())\n",
    "displaySeriesMean(purebred[labels[0]], 'behavior problems')\n",
    "\n",
    "print('\\nNon-purebred:')\n",
    "notpure = df[(df['purebred'] == 0)].drop(columns=['purebred'])\n",
    "#display(notpure.describe())\n",
    "displaySeriesMean(notpure[labels[0]], 'behavior problems')\n",
    "\n",
    "tval, pval = ttest_ind(notpure, purebred, equal_var=False)\n",
    "tot = purebred[labels[0]].count() + notpure[labels[0]].count()\n",
    "print('\\nt(%d) = %.2f, p = %.2E' %(tot, round(tval[0], 2), pval))"
   ]
  },
  {
   "cell_type": "markdown",
   "metadata": {},
   "source": [
    "### Impact of acquisition source on number of behavior problems:"
   ]
  },
  {
   "cell_type": "code",
   "execution_count": 106,
   "metadata": {},
   "outputs": [
    {
     "name": "stdout",
     "output_type": "stream",
     "text": [
      "Rescue:\n",
      "M = 2.60 behavior problems (SD = 1.83, min = 0.00, max = 11.00, n = 1787)\n",
      "\n",
      "Non-rescue:\n",
      "M = 2.02 behavior problems (SD = 1.79, min = 0.00, max = 12.00, n = 2296)\n",
      "\n",
      "t(4083) = 10.13, p = 8.24E-24\n"
     ]
    }
   ],
   "source": [
    "fields = 'q02_score, acquisition_source'\n",
    "labels = ['behavior problems', 'origin']\n",
    "df = createStringDataFrame(DOG_TABLE, fields, labels)\n",
    "df = df[df[labels[1]] != '']\n",
    "df = df.apply(pd.to_numeric)\n",
    "\n",
    "def rescue_to_binary_response(x):\n",
    "    x = int(x)\n",
    "    if x != 1:\n",
    "        return 0\n",
    "    return 1\n",
    "df['origin'] = df['origin'].apply(lambda x: rescue_to_binary_response(x))\n",
    "\n",
    "print('Rescue:')\n",
    "rescue = df[(df['origin'] == 1)].drop(columns=['origin'])\n",
    "#display(rescue.describe())\n",
    "displaySeriesMean(rescue[labels[0]], 'behavior problems')\n",
    "\n",
    "print('\\nNon-rescue:')\n",
    "nonrescue = df[(df['origin'] == 0)].drop(columns=['origin'])\n",
    "#display(nonrescue.describe())\n",
    "displaySeriesMean(nonrescue[labels[0]], 'behavior problems')\n",
    "\n",
    "tval, pval = ttest_ind(rescue, nonrescue, equal_var=False)\n",
    "tot = rescue[labels[0]].count() + nonrescue[labels[0]].count()\n",
    "print('\\nt(%d) = %.2f, p = %.2E' %(tot, round(tval[0], 2), pval))"
   ]
  },
  {
   "cell_type": "markdown",
   "metadata": {},
   "source": [
    "## <center>Separation Anxiety, Noise Phobia, and Thunderstorm Phobia</center>"
   ]
  },
  {
   "cell_type": "markdown",
   "metadata": {},
   "source": [
    "### Paired independence:"
   ]
  },
  {
   "cell_type": "code",
   "execution_count": 107,
   "metadata": {},
   "outputs": [
    {
     "name": "stdout",
     "output_type": "stream",
     "text": [
      "\n",
      "Chi-squared Test of Independence for Thunderstorm phobia and Noise phobia:\n",
      "chi2 = 1331.774877, p = 1.41E-291, dof = 1\n",
      "OR = 25.64, 95% CI: 20.68-31.79, n = 4114\n",
      "\n",
      "Chi-squared Test of Independence for Thunderstorm phobia and Separation anxiety:\n",
      "chi2 = 183.558945, p = 8.10E-42, dof = 1\n",
      "OR = 3.88, 95% CI: 3.16-4.77, n = 4114\n",
      "\n",
      "Chi-squared Test of Independence for Noise phobia and Separation anxiety:\n",
      "chi2 = 218.299764, p = 2.12E-49, dof = 1\n",
      "OR = 4.04, 95% CI: 3.33-4.91, n = 4114\n"
     ]
    }
   ],
   "source": [
    "fields = 'q04_1, q04_2, q04_9'\n",
    "labels = ['Thunderstorm phobia', 'Noise phobia', 'Separation anxiety']\n",
    "df = createNumericDataFrame(DOG_TABLE, fields, labels, filtered=True)\n",
    "\n",
    "pairs = [[labels[0], labels[1]], [labels[0], labels[2]], [labels[1], labels[2]]]\n",
    "for pair in pairs:\n",
    "    # Execute a chi-squared test of independence.\n",
    "    contingency = pd.crosstab(df[pair[0]], df[pair[1]])\n",
    "    print('\\nChi-squared Test of Independence for %s and %s:' %(pair[0], pair[1]))\n",
    "    c, p, dof, expected = scs.chi2_contingency(contingency, correction=False)\n",
    "    print('chi2 = %f, p = %.2E, dof = %d' %(c, p, dof))\n",
    "    displayOddsRatio(contingency)"
   ]
  },
  {
   "cell_type": "markdown",
   "metadata": {},
   "source": [
    "### Grouped independence (Figure 1):"
   ]
  },
  {
   "cell_type": "code",
   "execution_count": 108,
   "metadata": {},
   "outputs": [
    {
     "data": {
      "image/png": "[encoded data removed]",
      "text/plain": [
       "<Figure size 432x288 with 1 Axes>"
      ]
     },
     "metadata": {},
     "output_type": "display_data"
    },
    {
     "name": "stdout",
     "output_type": "stream",
     "text": [
      "Chi-squared Test of Independence for Thunderstorm phobia, Noise phobia, and Separation anxiety:\n",
      "chi2 = 285.272663, p = 1.53E-61, dof = 3\n"
     ]
    }
   ],
   "source": [
    "labels = ['Thunderstorm phobia', 'Noise phobia', 'Separation anxiety']\n",
    "contingency = pd.crosstab(df[labels[2]], [df[labels[0]], df[labels[1]]])\n",
    "\n",
    "# Convert the cross tabulated dataframe to a series of sums.\n",
    "d = {labels[2]: contingency[0][0][1],\n",
    "     labels[1]: contingency[1][0][0],\n",
    "     'Separation-Noise': contingency[1][0][1],\n",
    "     labels[0]: contingency[0][1][0],\n",
    "     'Separation-Thunderstorm': contingency[0][1][1],\n",
    "     'Noise-Thunderstorm': contingency[1][1][0],     \n",
    "     'All': contingency[1][1][1]}   \n",
    "cross_sums = pd.Series(d)\n",
    "\n",
    "# Display the cross tabulated data as a venn diagram.\n",
    "v = venn3(cross_sums, set_labels=[cross_sums.index.values[i] for i in [0, 1, 3]])\n",
    "lbl = v.get_label_by_id('A')\n",
    "x, y = lbl.get_position()\n",
    "lbl.set_position((x+0.25, y+0.05))\n",
    "for text in v.set_labels:\n",
    "    text.set_fontsize(16)\n",
    "for text in v.subset_labels:\n",
    "    text.set_fontsize(14)\n",
    "exportFigure(plt, 'figure_1')\n",
    "plt.show()\n",
    "\n",
    "# Execute a chi-squared test of independence.\n",
    "print('Chi-squared Test of Independence for %s, %s, and %s:' %(labels[0], labels[1], labels[2]))\n",
    "c, p, dof, expected = scs.chi2_contingency(contingency, correction=False)\n",
    "print('chi2 = %f, p = %.2E, dof = %d' %(c, p, dof))"
   ]
  },
  {
   "cell_type": "markdown",
   "metadata": {},
   "source": [
    "## <center>Separation Anxiety, Destructive Behavior, and House Soiling</center>"
   ]
  },
  {
   "cell_type": "markdown",
   "metadata": {},
   "source": [
    "### Destruction and separation anxiety:"
   ]
  },
  {
   "cell_type": "code",
   "execution_count": 109,
   "metadata": {},
   "outputs": [
    {
     "data": {
      "image/png": "[encoded data removed]",
      "text/plain": [
       "<Figure size 432x288 with 1 Axes>"
      ]
     },
     "metadata": {},
     "output_type": "display_data"
    },
    {
     "name": "stdout",
     "output_type": "stream",
     "text": [
      "Chi-square Test of Independence:\n",
      "chi2 = 127.052083, p = 1.81E-29, dof = 1\n",
      "OR = 3.35, 95% CI: 2.69-4.18, n = 4114\n"
     ]
    }
   ],
   "source": [
    "fields = 'q02_main_9, q04_9'\n",
    "labels = ['Destruction', 'Separation anxiety']\n",
    "df = createNumericDataFrame(DOG_TABLE, fields, labels, filtered=True)\n",
    "\n",
    "# Cross tabulate the relevant columns.\n",
    "contingency = pd.crosstab(df[labels[0]], df[labels[1]], margins=False)\n",
    "\n",
    "# Convert the cross tabulated dataframe to a series of sums.\n",
    "d = {labels[0]: contingency[0][1],\n",
    "     labels[1]: contingency[1][0],\n",
    "     'Both': contingency[1][1]}   \n",
    "cross_sums = pd.Series(d)\n",
    "\n",
    "# Display the cross tabulated data as a venn diagram.\n",
    "labels = cross_sums.index.values\n",
    "v = venn2(cross_sums, set_labels=labels[0:2])\n",
    "lbl = v.get_label_by_id('B')\n",
    "x, y = lbl.get_position()\n",
    "lbl.set_position((x+0.15, y+0.05))\n",
    "for text in v.set_labels:\n",
    "    text.set_fontsize(16)\n",
    "for text in v.subset_labels:\n",
    "    text.set_fontsize(14)\n",
    "plt.show()\n",
    "\n",
    "# Execute a chi-squared test of independence.\n",
    "c, p, dof, expected = scs.chi2_contingency(contingency, correction=False)\n",
    "print('Chi-square Test of Independence:')\n",
    "print('chi2 = %f, p = %.2E, dof = %d' %(c, p, dof))\n",
    "displayOddsRatio(contingency)"
   ]
  },
  {
   "cell_type": "markdown",
   "metadata": {},
   "source": [
    "### House soiling during owner absence and separation anxiety:"
   ]
  },
  {
   "cell_type": "code",
   "execution_count": 110,
   "metadata": {},
   "outputs": [
    {
     "data": {
      "image/png": "[encoded data removed]",
      "text/plain": [
       "<Figure size 432x288 with 1 Axes>"
      ]
     },
     "metadata": {},
     "output_type": "display_data"
    },
    {
     "name": "stdout",
     "output_type": "stream",
     "text": [
      "Chi-square Test of Independence:\n",
      "chi2 = 79.239289, p = 5.50E-19, dof = 1\n",
      "OR = 2.76, 95% CI: 2.19-3.48, n = 4114\n"
     ]
    }
   ],
   "source": [
    "fields = 'q06_situation_2, q04_9'\n",
    "labels = ['House soiling (owner absence)', 'Separation anxiety']\n",
    "df = createNumericDataFrame(DOG_TABLE, fields, labels, filtered=True)\n",
    "\n",
    "# Cross tabulate the relevant columns.\n",
    "contingency = pd.crosstab(df[labels[0]], df[labels[1]], margins=False)\n",
    "\n",
    "# Convert the cross tabulated dataframe to a series of sums.\n",
    "d = {labels[0]: contingency[0][1],\n",
    "     labels[1]: contingency[1][0],\n",
    "     'Both': contingency[1][1]}   \n",
    "cross_sums = pd.Series(d)\n",
    "\n",
    "# Display the cross tabulated data as a venn diagram.\n",
    "labels = cross_sums.index.values\n",
    "v = venn2(cross_sums, set_labels=labels[0:2])\n",
    "lbl = v.get_label_by_id('B')\n",
    "x, y = lbl.get_position()\n",
    "lbl.set_position((x+0.15, y+0.05))\n",
    "for text in v.set_labels:\n",
    "    text.set_fontsize(16)\n",
    "for text in v.subset_labels:\n",
    "    text.set_fontsize(14)\n",
    "plt.show()\n",
    "\n",
    "# Execute a chi-squared test of independence.\n",
    "c, p, dof, expected = scs.chi2_contingency(contingency, correction=False)\n",
    "print('Chi-square Test of Independence:')\n",
    "print('chi2 = %f, p = %.2E, dof = %d' %(c, p, dof))\n",
    "displayOddsRatio(contingency)"
   ]
  },
  {
   "cell_type": "markdown",
   "metadata": {},
   "source": [
    "## <center>Fear/Anxiety and House Soiling</center>"
   ]
  },
  {
   "cell_type": "markdown",
   "metadata": {},
   "source": [
    "## <center>Fear/Anxiety and Aggression</center>"
   ]
  },
  {
   "cell_type": "markdown",
   "metadata": {},
   "source": [
    "### Overall aggression and fearful/anxious behavior (Figure 2):"
   ]
  },
  {
   "cell_type": "code",
   "execution_count": 111,
   "metadata": {},
   "outputs": [
    {
     "data": {
      "image/png": "[encoded data removed]",
      "text/plain": [
       "<Figure size 432x288 with 1 Axes>"
      ]
     },
     "metadata": {},
     "output_type": "display_data"
    },
    {
     "name": "stdout",
     "output_type": "stream",
     "text": [
      "Chi-square Test of Independence:\n",
      "chi2 = 116.490685, p = 3.71E-27, dof = 1\n",
      "OR = 2.09, 95% CI: 1.83-2.40, n = 4114\n"
     ]
    }
   ],
   "source": [
    "fields = 'q02_main_1, q02_main_2'\n",
    "labels = ['Aggression', 'Fear/Anxiety']\n",
    "df = createNumericDataFrame(DOG_TABLE, fields, labels, filtered=True)\n",
    "    \n",
    "# Create a contingency table.\n",
    "contingency = pd.crosstab(df[labels[0]], df[labels[1]], margins=False)\n",
    "\n",
    "# Convert the cross tabulated dataframe to a series of sums.\n",
    "d = {labels[0]: contingency[0][1],\n",
    "     labels[1]: contingency[1][0],\n",
    "     'Both': contingency[1][1]}   \n",
    "cross_sums = pd.Series(d)\n",
    "\n",
    "# Display the cross tabulated data as a venn diagram.\n",
    "labels = cross_sums.index.values\n",
    "v = venn2(cross_sums, set_labels=labels[0:2])\n",
    "lbl = v.get_label_by_id('A')\n",
    "x, y = lbl.get_position()\n",
    "lbl.set_position((x-0.1, y+0.05))\n",
    "for text in v.set_labels:\n",
    "    text.set_fontsize(16)\n",
    "for text in v.subset_labels:\n",
    "    text.set_fontsize(14)\n",
    "exportFigure(plt, 'figure_2')\n",
    "plt.show()\n",
    "\n",
    "# Execute a chi-squared test of independence.\n",
    "c, p, dof, expected = scs.chi2_contingency(contingency, correction=False)\n",
    "print('Chi-square Test of Independence:')\n",
    "print('chi2 = %f, p = %.2E, dof = %d' %(c, p, dof))\n",
    "displayOddsRatio(contingency)"
   ]
  },
  {
   "cell_type": "markdown",
   "metadata": {},
   "source": [
    "### Owner directed aggression and fearful/anxious behavior (Figure 3):"
   ]
  },
  {
   "cell_type": "code",
   "execution_count": 112,
   "metadata": {},
   "outputs": [
    {
     "data": {
      "image/png": "[encoded data removed]",
      "text/plain": [
       "<Figure size 432x288 with 1 Axes>"
      ]
     },
     "metadata": {},
     "output_type": "display_data"
    },
    {
     "name": "stdout",
     "output_type": "stream",
     "text": [
      "Chi-square Test of Independence:\n",
      "chi2 = 59.514770, p = 1.21E-14, dof = 1\n",
      "OR = 2.58, 95% CI: 2.01-3.31, n = 4114\n"
     ]
    }
   ],
   "source": [
    "fields = 'q03_main_1, q02_main_2'\n",
    "labels = ['Owner-directed\\naggression', 'Fear/Anxiety']\n",
    "df = createNumericDataFrame(DOG_TABLE, fields, labels, filtered=True)\n",
    "    \n",
    "# Create a contingency table.\n",
    "contingency = pd.crosstab(df[labels[0]], df[labels[1]], margins=False)\n",
    "\n",
    "# Convert the cross tabulated dataframe to a series of sums.\n",
    "d = {labels[0]: contingency[0][1],\n",
    "     labels[1]: contingency[1][0],\n",
    "     'Both': contingency[1][1]}   \n",
    "cross_sums = pd.Series(d)\n",
    "\n",
    "# Display the cross tabulated data as a venn diagram.\n",
    "labels = cross_sums.index.values\n",
    "v = venn2(cross_sums, set_labels=labels[0:2])\n",
    "lbl = v.get_label_by_id('A')\n",
    "x, y = lbl.get_position()\n",
    "lbl.set_position((x-0.1, y+0.05))\n",
    "for text in v.set_labels:\n",
    "    text.set_fontsize(16)\n",
    "for text in v.subset_labels:\n",
    "    text.set_fontsize(14)\n",
    "exportFigure(plt, 'figure_3')\n",
    "plt.show()\n",
    "\n",
    "# Execute a chi-squared test of independence.\n",
    "c, p, dof, expected = scs.chi2_contingency(contingency, correction=False)\n",
    "print('Chi-square Test of Independence:')\n",
    "print('chi2 = %f, p = %.2E, dof = %d' %(c, p, dof))\n",
    "displayOddsRatio(contingency)"
   ]
  },
  {
   "cell_type": "markdown",
   "metadata": {},
   "source": [
    "### Owner directed aggression and separation anxiety (Figure 4):"
   ]
  },
  {
   "cell_type": "code",
   "execution_count": 113,
   "metadata": {},
   "outputs": [
    {
     "data": {
      "image/png": "[encoded data removed]",
      "text/plain": [
       "<Figure size 432x288 with 1 Axes>"
      ]
     },
     "metadata": {},
     "output_type": "display_data"
    },
    {
     "name": "stdout",
     "output_type": "stream",
     "text": [
      "Chi-square Test of Independence:\n",
      "chi2 = 41.709109, p = 1.06E-10, dof = 1\n",
      "OR = 2.44, 95% CI: 1.85-3.22, n = 4114\n"
     ]
    }
   ],
   "source": [
    "fields = 'q03_main_1, q04_9'\n",
    "labels = ['Owner-directed\\naggression', 'Separation anxiety']\n",
    "df = createNumericDataFrame(DOG_TABLE, fields, labels, filtered=True)\n",
    "    \n",
    "# Create a contingency table.\n",
    "contingency = pd.crosstab(df[labels[0]], df[labels[1]], margins=False)\n",
    "\n",
    "# Convert the cross tabulated dataframe to a series of sums.\n",
    "d = {labels[0]: contingency[0][1],\n",
    "     labels[1]: contingency[1][0],\n",
    "     'Both': contingency[1][1]}   \n",
    "cross_sums = pd.Series(d)\n",
    "\n",
    "# Display the cross tabulated data as a venn diagram.\n",
    "labels = cross_sums.index.values\n",
    "v = venn2(cross_sums, set_labels=labels[0:2])\n",
    "for text in v.set_labels:\n",
    "    text.set_fontsize(16)\n",
    "for text in v.subset_labels:\n",
    "    text.set_fontsize(14)\n",
    "exportFigure(plt, 'figure_4')\n",
    "plt.show()\n",
    "\n",
    "# Execute a chi-squared test of independence.\n",
    "c, p, dof, expected = scs.chi2_contingency(contingency, correction=False)\n",
    "print('Chi-square Test of Independence:')\n",
    "print('chi2 = %f, p = %.2E, dof = %d' %(c, p, dof))\n",
    "displayOddsRatio(contingency)"
   ]
  },
  {
   "cell_type": "markdown",
   "metadata": {},
   "source": [
    "## <center>Fear/Anxiety and Compulsive Behavior</center>"
   ]
  },
  {
   "cell_type": "markdown",
   "metadata": {},
   "source": [
    "### Fear/anxiety and compulsion (Figure 5):"
   ]
  },
  {
   "cell_type": "code",
   "execution_count": 114,
   "metadata": {},
   "outputs": [
    {
     "data": {
      "image/png": "[encoded data removed]",
      "text/plain": [
       "<Figure size 432x288 with 1 Axes>"
      ]
     },
     "metadata": {},
     "output_type": "display_data"
    },
    {
     "name": "stdout",
     "output_type": "stream",
     "text": [
      "Chi-square Test of Independence:\n",
      "chi2 = 44.843203, p = 2.13E-11, dof = 1\n",
      "OR = 1.78, 95% CI: 1.50-2.11, n = 4114\n"
     ]
    }
   ],
   "source": [
    "fields = 'q02_main_2, q02_main_3'\n",
    "labels = ['Fear/Anxiety', 'Compulsion']\n",
    "df = createNumericDataFrame(DOG_TABLE, fields, labels, filtered=True)\n",
    "\n",
    "# Cross tabulate the relevant columns.\n",
    "contingency = pd.crosstab(df[labels[0]], df[labels[1]], margins=False)\n",
    "\n",
    "# Convert the cross tabulated dataframe to a series of sums.\n",
    "d = {labels[0]: contingency[0][1],\n",
    "     labels[1]: contingency[1][0],\n",
    "     'Both': contingency[1][1]}   \n",
    "cross_sums = pd.Series(d)\n",
    "\n",
    "# Display the cross tabulated data as a venn diagram.\n",
    "labels = cross_sums.index.values\n",
    "v = venn2(cross_sums, set_labels=labels[0:2])\n",
    "lbl = v.get_label_by_id('B')\n",
    "x, y = lbl.get_position()\n",
    "lbl.set_position((x+0.15, y+0.05))\n",
    "for text in v.set_labels:\n",
    "    text.set_fontsize(16)\n",
    "for text in v.subset_labels:\n",
    "    text.set_fontsize(14)\n",
    "exportFigure(plt, 'figure_5')\n",
    "plt.show()\n",
    "\n",
    "# Execute a chi-squared test of independence.\n",
    "c, p, dof, expected = scs.chi2_contingency(contingency, correction=False)\n",
    "print('Chi-square Test of Independence:')\n",
    "print('chi2 = %f, p = %.2E, dof = %d' %(c, p, dof))\n",
    "displayOddsRatio(contingency)"
   ]
  },
  {
   "cell_type": "markdown",
   "metadata": {},
   "source": [
    "## <center>Coprophagia and Age</center>"
   ]
  },
  {
   "cell_type": "code",
   "execution_count": 115,
   "metadata": {},
   "outputs": [
    {
     "name": "stdout",
     "output_type": "stream",
     "text": [
      "Chi-square Test of Independence:\n",
      "chi2 = 0.670896, p = 4.13E-01, dof = 1\n",
      "OR = 1.18, 95% CI: 0.79-1.76, n = 650\n"
     ]
    }
   ],
   "source": [
    "fields = 'q02_main_8, q01_age_months'\n",
    "labels = [FR.categories[7], 'age']\n",
    "df = createNumericDataFrame(DOG_TABLE, fields, labels, filtered=True)\n",
    "df = df[np.isfinite(df['age'])]\n",
    "\n",
    "# Sort ages into two groups:\n",
    "# 1: age <= 12 months\n",
    "# 0: age > 12 months\n",
    "def age_sort(row):\n",
    "    if row['age'] <= 12:\n",
    "        val = 1\n",
    "    else:\n",
    "        val = 0\n",
    "    return val\n",
    "\n",
    "df['age'] = df.apply(age_sort, axis=1)\n",
    "\n",
    "# Execute a chi-squared test of independence.\n",
    "contingency = pd.crosstab(df[labels[0]], df[labels[1]], margins=False)\n",
    "c, p, dof, expected = scs.chi2_contingency(contingency, correction=False)\n",
    "print('Chi-square Test of Independence:')\n",
    "print('chi2 = %f, p = %.2E, dof = %d' %(c, p, dof))\n",
    "displayOddsRatio(contingency)"
   ]
  },
  {
   "cell_type": "markdown",
   "metadata": {},
   "source": [
    "## <center>Overactivity/Hyperactivity and Age</center>"
   ]
  },
  {
   "cell_type": "code",
   "execution_count": 116,
   "metadata": {},
   "outputs": [
    {
     "name": "stdout",
     "output_type": "stream",
     "text": [
      "Chi-square Test of Independence:\n",
      "chi2 = 16.993133, p = 3.75E-05, dof = 1\n",
      "OR = 2.58, 95% CI: 1.63-4.10, n = 650\n"
     ]
    }
   ],
   "source": [
    "fields = 'q02_main_13, q01_age_months'\n",
    "labels = [FR.categories[11], 'age']\n",
    "df = createNumericDataFrame(DOG_TABLE, fields, labels, filtered=True)\n",
    "df = df[np.isfinite(df['age'])]\n",
    "\n",
    "# Sort ages into two groups:\n",
    "# 1: age <= 12 months\n",
    "# 0: age > 12 months\n",
    "def age_sort(row):\n",
    "    if row['age'] <= 12:\n",
    "        val = 1\n",
    "    else:\n",
    "        val = 0\n",
    "    return val\n",
    "\n",
    "df['age'] = df.apply(age_sort, axis=1)\n",
    "\n",
    "# Execute a chi-squared test of independence.\n",
    "contingency = pd.crosstab(df[labels[0]], df[labels[1]], margins=False)\n",
    "c, p, dof, expected = scs.chi2_contingency(contingency, correction=False)\n",
    "print('Chi-square Test of Independence:')\n",
    "print('chi2 = %f, p = %.2E, dof = %d' %(c, p, dof))\n",
    "displayOddsRatio(contingency)"
   ]
  },
  {
   "cell_type": "markdown",
   "metadata": {},
   "source": [
    "## <center>Bite Severity</center>"
   ]
  },
  {
   "cell_type": "markdown",
   "metadata": {},
   "source": [
    "### Prevalence of biting:"
   ]
  },
  {
   "cell_type": "code",
   "execution_count": 117,
   "metadata": {},
   "outputs": [
    {
     "name": "stdout",
     "output_type": "stream",
     "text": [
      "Dogs that bite: n = 385 dogs (9%)\n"
     ]
    }
   ],
   "source": [
    "fields = 'q03_form_5'\n",
    "labels = ['bites']\n",
    "df = createNumericDataFrame(DOG_TABLE, fields, labels, filtered=True)\n",
    "\n",
    "tot = df.sum()\n",
    "print('Dogs that bite: n = %d dogs (%d%%)' %(tot, round((tot/REMAINING_DOGS)*100, 0)))"
   ]
  },
  {
   "cell_type": "markdown",
   "metadata": {},
   "source": [
    "### Bite people:"
   ]
  },
  {
   "cell_type": "code",
   "execution_count": 118,
   "metadata": {},
   "outputs": [
    {
     "name": "stdout",
     "output_type": "stream",
     "text": [
      "Dogs that bit a person: n = 194 dogs (50%)\n",
      "\n",
      "Number of times the dog has bitten a person:\n",
      "MD = 3.00 person count (SD = 14.32, min = 1.00, max = 100.00, n = 193)\n"
     ]
    }
   ],
   "source": [
    "fields = 'q03_form_5'\n",
    "labels = ['bites']\n",
    "df = createNumericDataFrame(DOG_TABLE, fields, labels, filtered=True)\n",
    "all_bites = df.sum()[0]\n",
    "\n",
    "fields = 'q03_person'\n",
    "labels = ['person']\n",
    "df = createNumericDataFrame(DOG_TABLE, fields, labels, filtered=True)\n",
    "\n",
    "tot = df.sum()\n",
    "print('Dogs that bit a person: n = %d dogs (%d%%)' %(tot, round((tot/all_bites)*100, 0)))\n",
    "\n",
    "fields = 'q03_person_freq'\n",
    "labels = ['person count']\n",
    "df = createNumericDataFrame(DOG_TABLE, fields, labels, filtered=True)\n",
    "print('\\nNumber of times the dog has bitten a person:')\n",
    "displaySeriesMedian(df[labels[0]], labels[0])"
   ]
  },
  {
   "cell_type": "markdown",
   "metadata": {},
   "source": [
    "### Bite dogs:"
   ]
  },
  {
   "cell_type": "code",
   "execution_count": 119,
   "metadata": {
    "scrolled": true
   },
   "outputs": [
    {
     "name": "stdout",
     "output_type": "stream",
     "text": [
      "Dogs that bit a dog: n = 259 dogs (67%)\n",
      "\n",
      "Number of times the dog has bitten a dog:\n",
      "MD = 3.00 dog count (SD = 13.17, min = 1.00, max = 100.00, n = 258)\n"
     ]
    }
   ],
   "source": [
    "fields = 'q03_form_5'\n",
    "labels = ['bites']\n",
    "df = createNumericDataFrame(DOG_TABLE, fields, labels, filtered=True)\n",
    "all_bites = df.sum()[0]\n",
    "\n",
    "fields = 'q03_dog'\n",
    "labels = ['dog']\n",
    "df = createNumericDataFrame(DOG_TABLE, fields, labels, filtered=True)\n",
    "\n",
    "tot = df.sum()\n",
    "print('Dogs that bit a dog: n = %d dogs (%d%%)' %(tot, round((tot/all_bites)*100, 0)))\n",
    "\n",
    "fields = 'q03_dog_freq'\n",
    "labels = ['dog count']\n",
    "df = createNumericDataFrame(DOG_TABLE, fields, labels, filtered=True)\n",
    "print('\\nNumber of times the dog has bitten a dog:')\n",
    "displaySeriesMedian(df[labels[0]], labels[0])"
   ]
  },
  {
   "cell_type": "markdown",
   "metadata": {},
   "source": [
    "### Multiple bites per incident:"
   ]
  },
  {
   "cell_type": "code",
   "execution_count": 120,
   "metadata": {},
   "outputs": [
    {
     "name": "stdout",
     "output_type": "stream",
     "text": [
      "Dogs with multi-bite incidents: n = 112 dogs (29%)\n"
     ]
    }
   ],
   "source": [
    "fields = 'q03_form_5'\n",
    "labels = ['bites']\n",
    "df = createNumericDataFrame(DOG_TABLE, fields, labels, filtered=True)\n",
    "all_bites = df.sum()[0]\n",
    "\n",
    "fields = 'q03_bite_quantity'\n",
    "labels = ['multi']\n",
    "df = createNumericDataFrame(DOG_TABLE, fields, labels, filtered=True)\n",
    "\n",
    "tot = df.sum()\n",
    "print('Dogs with multi-bite incidents: n = %d dogs (%d%%)' %(tot, round((tot/all_bites)*100, 0)))"
   ]
  },
  {
   "cell_type": "markdown",
   "metadata": {},
   "source": [
    "### Breakdown of bite severity:"
   ]
  },
  {
   "cell_type": "code",
   "execution_count": 121,
   "metadata": {},
   "outputs": [
    {
     "name": "stdout",
     "output_type": "stream",
     "text": [
      "OVERALL:\n",
      "\n",
      "teeth contact: n = 355 (95%)\n",
      "broke skin: n = 236 (63%)\n",
      "multiple bites: n = 13 (3%)\n",
      "\n",
      "PEOPLE:\n",
      "\n",
      "teeth contact: n = 188 (97%)\n",
      "broke skin: n = 122 (63%)\n",
      "multiple bites: n = 4 (2%)\n",
      "\n",
      "DOGS:\n",
      "\n",
      "teeth contact: n = 248 (96%)\n",
      "broke skin: n = 171 (66%)\n",
      "multiple bites: n = 11 (4%)\n"
     ]
    }
   ],
   "source": [
    "print('OVERALL:')\n",
    "fields = 'q03_severity'\n",
    "labels = ['severity']\n",
    "df = createNumericDataFrame(DOG_TABLE, fields, labels, filtered=True)\n",
    "df = df.apply(pd.value_counts)\n",
    "df.rename(index=str, columns={labels[0]: 'count'}, inplace=True)\n",
    "df.columns.name = labels[0]\n",
    "\n",
    "teeth_contact = 0\n",
    "broke_skin = 0\n",
    "multiple_bites = 0\n",
    "for index, row in df.iterrows():\n",
    "    level = float(index)\n",
    "    if level > 1:\n",
    "        teeth_contact += row[0]\n",
    "    if level >= 3:\n",
    "        broke_skin += row[0]\n",
    "    if level == 5:\n",
    "        multiple_bites += row[0]    \n",
    "    \n",
    "print('\\nteeth contact: n = %d (%d%%)'\n",
    "      %(teeth_contact,round((teeth_contact/df['count'].sum())*100, 0)))\n",
    "print('broke skin: n = %d (%d%%)'\n",
    "      %(broke_skin,round((broke_skin/df['count'].sum())*100, 0)))\n",
    "print('multiple bites: n = %d (%d%%)'\n",
    "      %(multiple_bites,round((multiple_bites/df['count'].sum())*100, 0)))\n",
    "\n",
    "\n",
    "print('\\nPEOPLE:')\n",
    "fields = 'q03_severity, q03_person'\n",
    "labels = ['severity', 'person']\n",
    "df = createNumericDataFrame(DOG_TABLE, fields, labels, filtered=True)\n",
    "df = df[df[labels[1]] == 1]\n",
    "df.drop(columns=labels[1], inplace=True)\n",
    "df = df.apply(pd.value_counts)\n",
    "df.rename(index=str, columns={labels[0]: 'count'}, inplace=True)\n",
    "df.columns.name = labels[0]\n",
    "\n",
    "teeth_contact = 0\n",
    "broke_skin = 0\n",
    "multiple_bites = 0\n",
    "for index, row in df.iterrows():\n",
    "    level = float(index)\n",
    "    if level > 1:\n",
    "        teeth_contact += row[0]\n",
    "    if level >= 3:\n",
    "        broke_skin += row[0]\n",
    "    if level == 5:\n",
    "        multiple_bites += row[0]   \n",
    "    \n",
    "print('\\nteeth contact: n = %d (%d%%)'\n",
    "      %(teeth_contact,round((teeth_contact/df['count'].sum())*100, 0)))\n",
    "print('broke skin: n = %d (%d%%)'\n",
    "      %(broke_skin,round((broke_skin/df['count'].sum())*100, 0)))\n",
    "print('multiple bites: n = %d (%d%%)'\n",
    "      %(multiple_bites,round((multiple_bites/df['count'].sum())*100, 0)))\n",
    "\n",
    "print('\\nDOGS:')\n",
    "fields = 'q03_severity, q03_dog'\n",
    "labels = ['severity', 'dog']\n",
    "df = createNumericDataFrame(DOG_TABLE, fields, labels, filtered=True)\n",
    "df = df[df[labels[1]] == 1]\n",
    "df.drop(columns=labels[1], inplace=True)\n",
    "df = df.apply(pd.value_counts)\n",
    "df.rename(index=str, columns={labels[0]: 'count'}, inplace=True)\n",
    "df.columns.name = labels[0]\n",
    "\n",
    "teeth_contact = 0\n",
    "broke_skin = 0\n",
    "multiple_bites = 0\n",
    "for index, row in df.iterrows():\n",
    "    level = float(index)\n",
    "    if level > 1:\n",
    "        teeth_contact += row[0]\n",
    "    if level >= 3:\n",
    "        broke_skin += row[0]\n",
    "    if level == 5:\n",
    "        multiple_bites += row[0]   \n",
    "    \n",
    "print('\\nteeth contact: n = %d (%d%%)'\n",
    "      %(teeth_contact,round((teeth_contact/df['count'].sum())*100, 0)))\n",
    "print('broke skin: n = %d (%d%%)'\n",
    "      %(broke_skin,round((broke_skin/df['count'].sum())*100, 0)))\n",
    "print('multiple bites: n = %d (%d%%)'\n",
    "      %(multiple_bites,round((multiple_bites/df['count'].sum())*100, 0)))"
   ]
  },
  {
   "cell_type": "markdown",
   "metadata": {},
   "source": [
    "### Bite severity by behavior problem:"
   ]
  },
  {
   "cell_type": "code",
   "execution_count": 122,
   "metadata": {},
   "outputs": [
    {
     "name": "stdout",
     "output_type": "stream",
     "text": [
      "OVERALL:\n"
     ]
    },
    {
     "data": {
      "text/html": [
       "<div>\n",
       "<style scoped>\n",
       "    .dataframe tbody tr th:only-of-type {\n",
       "        vertical-align: middle;\n",
       "    }\n",
       "\n",
       "    .dataframe tbody tr th {\n",
       "        vertical-align: top;\n",
       "    }\n",
       "\n",
       "    .dataframe thead th {\n",
       "        text-align: right;\n",
       "    }\n",
       "</style>\n",
       "<table border=\"1\" class=\"dataframe\">\n",
       "  <thead>\n",
       "    <tr style=\"text-align: right;\">\n",
       "      <th>Behavior problem</th>\n",
       "      <th>superf.</th>\n",
       "      <th>broke skin</th>\n",
       "      <th>any</th>\n",
       "    </tr>\n",
       "  </thead>\n",
       "  <tbody>\n",
       "    <tr>\n",
       "      <th>Aggression</th>\n",
       "      <td>100</td>\n",
       "      <td>100</td>\n",
       "      <td>100</td>\n",
       "    </tr>\n",
       "    <tr>\n",
       "      <th>Fear/Anxiety</th>\n",
       "      <td>57</td>\n",
       "      <td>62</td>\n",
       "      <td>60</td>\n",
       "    </tr>\n",
       "    <tr>\n",
       "      <th>Compulsion</th>\n",
       "      <td>19</td>\n",
       "      <td>24</td>\n",
       "      <td>22</td>\n",
       "    </tr>\n",
       "    <tr>\n",
       "      <th>House Soiling</th>\n",
       "      <td>27</td>\n",
       "      <td>21</td>\n",
       "      <td>23</td>\n",
       "    </tr>\n",
       "    <tr>\n",
       "      <th>Excessive Barking</th>\n",
       "      <td>29</td>\n",
       "      <td>30</td>\n",
       "      <td>30</td>\n",
       "    </tr>\n",
       "    <tr>\n",
       "      <th>Jumping</th>\n",
       "      <td>36</td>\n",
       "      <td>34</td>\n",
       "      <td>35</td>\n",
       "    </tr>\n",
       "    <tr>\n",
       "      <th>Mounting/Humping</th>\n",
       "      <td>17</td>\n",
       "      <td>14</td>\n",
       "      <td>15</td>\n",
       "    </tr>\n",
       "    <tr>\n",
       "      <th>Coprophagia</th>\n",
       "      <td>19</td>\n",
       "      <td>22</td>\n",
       "      <td>21</td>\n",
       "    </tr>\n",
       "    <tr>\n",
       "      <th>Destructive Behavior</th>\n",
       "      <td>13</td>\n",
       "      <td>17</td>\n",
       "      <td>15</td>\n",
       "    </tr>\n",
       "    <tr>\n",
       "      <th>Rolling in Repulsive Material</th>\n",
       "      <td>23</td>\n",
       "      <td>15</td>\n",
       "      <td>18</td>\n",
       "    </tr>\n",
       "    <tr>\n",
       "      <th>Running Away/Escaping</th>\n",
       "      <td>17</td>\n",
       "      <td>17</td>\n",
       "      <td>17</td>\n",
       "    </tr>\n",
       "    <tr>\n",
       "      <th>Overactivity/Hyperactivity</th>\n",
       "      <td>22</td>\n",
       "      <td>21</td>\n",
       "      <td>21</td>\n",
       "    </tr>\n",
       "  </tbody>\n",
       "</table>\n",
       "</div>"
      ],
      "text/plain": [
       "Behavior problem               superf.  broke skin  any\n",
       "Aggression                         100         100  100\n",
       "Fear/Anxiety                        57          62   60\n",
       "Compulsion                          19          24   22\n",
       "House Soiling                       27          21   23\n",
       "Excessive Barking                   29          30   30\n",
       "Jumping                             36          34   35\n",
       "Mounting/Humping                    17          14   15\n",
       "Coprophagia                         19          22   21\n",
       "Destructive Behavior                13          17   15\n",
       "Rolling in Repulsive Material       23          15   18\n",
       "Running Away/Escaping               17          17   17\n",
       "Overactivity/Hyperactivity          22          21   21"
      ]
     },
     "metadata": {},
     "output_type": "display_data"
    },
    {
     "name": "stdout",
     "output_type": "stream",
     "text": [
      "\n",
      "PEOPLE:\n"
     ]
    },
    {
     "data": {
      "text/html": [
       "<div>\n",
       "<style scoped>\n",
       "    .dataframe tbody tr th:only-of-type {\n",
       "        vertical-align: middle;\n",
       "    }\n",
       "\n",
       "    .dataframe tbody tr th {\n",
       "        vertical-align: top;\n",
       "    }\n",
       "\n",
       "    .dataframe thead th {\n",
       "        text-align: right;\n",
       "    }\n",
       "</style>\n",
       "<table border=\"1\" class=\"dataframe\">\n",
       "  <thead>\n",
       "    <tr style=\"text-align: right;\">\n",
       "      <th>Behavior problem</th>\n",
       "      <th>superf.</th>\n",
       "      <th>broke skin</th>\n",
       "      <th>any</th>\n",
       "    </tr>\n",
       "  </thead>\n",
       "  <tbody>\n",
       "    <tr>\n",
       "      <th>Aggression</th>\n",
       "      <td>100</td>\n",
       "      <td>100</td>\n",
       "      <td>100</td>\n",
       "    </tr>\n",
       "    <tr>\n",
       "      <th>Fear/Anxiety</th>\n",
       "      <td>65</td>\n",
       "      <td>65</td>\n",
       "      <td>65</td>\n",
       "    </tr>\n",
       "    <tr>\n",
       "      <th>Compulsion</th>\n",
       "      <td>21</td>\n",
       "      <td>28</td>\n",
       "      <td>25</td>\n",
       "    </tr>\n",
       "    <tr>\n",
       "      <th>House Soiling</th>\n",
       "      <td>32</td>\n",
       "      <td>27</td>\n",
       "      <td>29</td>\n",
       "    </tr>\n",
       "    <tr>\n",
       "      <th>Excessive Barking</th>\n",
       "      <td>28</td>\n",
       "      <td>34</td>\n",
       "      <td>32</td>\n",
       "    </tr>\n",
       "    <tr>\n",
       "      <th>Jumping</th>\n",
       "      <td>28</td>\n",
       "      <td>28</td>\n",
       "      <td>28</td>\n",
       "    </tr>\n",
       "    <tr>\n",
       "      <th>Mounting/Humping</th>\n",
       "      <td>24</td>\n",
       "      <td>16</td>\n",
       "      <td>19</td>\n",
       "    </tr>\n",
       "    <tr>\n",
       "      <th>Coprophagia</th>\n",
       "      <td>20</td>\n",
       "      <td>25</td>\n",
       "      <td>23</td>\n",
       "    </tr>\n",
       "    <tr>\n",
       "      <th>Destructive Behavior</th>\n",
       "      <td>14</td>\n",
       "      <td>16</td>\n",
       "      <td>16</td>\n",
       "    </tr>\n",
       "    <tr>\n",
       "      <th>Rolling in Repulsive Material</th>\n",
       "      <td>23</td>\n",
       "      <td>15</td>\n",
       "      <td>18</td>\n",
       "    </tr>\n",
       "    <tr>\n",
       "      <th>Running Away/Escaping</th>\n",
       "      <td>17</td>\n",
       "      <td>19</td>\n",
       "      <td>18</td>\n",
       "    </tr>\n",
       "    <tr>\n",
       "      <th>Overactivity/Hyperactivity</th>\n",
       "      <td>24</td>\n",
       "      <td>19</td>\n",
       "      <td>21</td>\n",
       "    </tr>\n",
       "  </tbody>\n",
       "</table>\n",
       "</div>"
      ],
      "text/plain": [
       "Behavior problem               superf.  broke skin  any\n",
       "Aggression                         100         100  100\n",
       "Fear/Anxiety                        65          65   65\n",
       "Compulsion                          21          28   25\n",
       "House Soiling                       32          27   29\n",
       "Excessive Barking                   28          34   32\n",
       "Jumping                             28          28   28\n",
       "Mounting/Humping                    24          16   19\n",
       "Coprophagia                         20          25   23\n",
       "Destructive Behavior                14          16   16\n",
       "Rolling in Repulsive Material       23          15   18\n",
       "Running Away/Escaping               17          19   18\n",
       "Overactivity/Hyperactivity          24          19   21"
      ]
     },
     "metadata": {},
     "output_type": "display_data"
    },
    {
     "name": "stdout",
     "output_type": "stream",
     "text": [
      "\n",
      "DOGS:\n"
     ]
    },
    {
     "data": {
      "text/html": [
       "<div>\n",
       "<style scoped>\n",
       "    .dataframe tbody tr th:only-of-type {\n",
       "        vertical-align: middle;\n",
       "    }\n",
       "\n",
       "    .dataframe tbody tr th {\n",
       "        vertical-align: top;\n",
       "    }\n",
       "\n",
       "    .dataframe thead th {\n",
       "        text-align: right;\n",
       "    }\n",
       "</style>\n",
       "<table border=\"1\" class=\"dataframe\">\n",
       "  <thead>\n",
       "    <tr style=\"text-align: right;\">\n",
       "      <th>Behavior problem</th>\n",
       "      <th>superf.</th>\n",
       "      <th>broke skin</th>\n",
       "      <th>any</th>\n",
       "    </tr>\n",
       "  </thead>\n",
       "  <tbody>\n",
       "    <tr>\n",
       "      <th>Aggression</th>\n",
       "      <td>100</td>\n",
       "      <td>100</td>\n",
       "      <td>100</td>\n",
       "    </tr>\n",
       "    <tr>\n",
       "      <th>Fear/Anxiety</th>\n",
       "      <td>52</td>\n",
       "      <td>63</td>\n",
       "      <td>59</td>\n",
       "    </tr>\n",
       "    <tr>\n",
       "      <th>Compulsion</th>\n",
       "      <td>20</td>\n",
       "      <td>22</td>\n",
       "      <td>21</td>\n",
       "    </tr>\n",
       "    <tr>\n",
       "      <th>House Soiling</th>\n",
       "      <td>26</td>\n",
       "      <td>17</td>\n",
       "      <td>20</td>\n",
       "    </tr>\n",
       "    <tr>\n",
       "      <th>Excessive Barking</th>\n",
       "      <td>29</td>\n",
       "      <td>26</td>\n",
       "      <td>27</td>\n",
       "    </tr>\n",
       "    <tr>\n",
       "      <th>Jumping</th>\n",
       "      <td>38</td>\n",
       "      <td>34</td>\n",
       "      <td>35</td>\n",
       "    </tr>\n",
       "    <tr>\n",
       "      <th>Mounting/Humping</th>\n",
       "      <td>20</td>\n",
       "      <td>15</td>\n",
       "      <td>16</td>\n",
       "    </tr>\n",
       "    <tr>\n",
       "      <th>Coprophagia</th>\n",
       "      <td>22</td>\n",
       "      <td>22</td>\n",
       "      <td>22</td>\n",
       "    </tr>\n",
       "    <tr>\n",
       "      <th>Destructive Behavior</th>\n",
       "      <td>14</td>\n",
       "      <td>15</td>\n",
       "      <td>15</td>\n",
       "    </tr>\n",
       "    <tr>\n",
       "      <th>Rolling in Repulsive Material</th>\n",
       "      <td>30</td>\n",
       "      <td>13</td>\n",
       "      <td>19</td>\n",
       "    </tr>\n",
       "    <tr>\n",
       "      <th>Running Away/Escaping</th>\n",
       "      <td>15</td>\n",
       "      <td>18</td>\n",
       "      <td>17</td>\n",
       "    </tr>\n",
       "    <tr>\n",
       "      <th>Overactivity/Hyperactivity</th>\n",
       "      <td>22</td>\n",
       "      <td>22</td>\n",
       "      <td>22</td>\n",
       "    </tr>\n",
       "  </tbody>\n",
       "</table>\n",
       "</div>"
      ],
      "text/plain": [
       "Behavior problem               superf.  broke skin  any\n",
       "Aggression                         100         100  100\n",
       "Fear/Anxiety                        52          63   59\n",
       "Compulsion                          20          22   21\n",
       "House Soiling                       26          17   20\n",
       "Excessive Barking                   29          26   27\n",
       "Jumping                             38          34   35\n",
       "Mounting/Humping                    20          15   16\n",
       "Coprophagia                         22          22   22\n",
       "Destructive Behavior                14          15   15\n",
       "Rolling in Repulsive Material       30          13   19\n",
       "Running Away/Escaping               15          18   17\n",
       "Overactivity/Hyperactivity          22          22   22"
      ]
     },
     "metadata": {},
     "output_type": "display_data"
    }
   ],
   "source": [
    "print('OVERALL:')\n",
    "fields = []\n",
    "labels = []\n",
    "for counter, cat in enumerate(FR.categories, 1):\n",
    "    if counter > 10:\n",
    "        counter += 1;\n",
    "    fields.append('q02_main_{}'.format(counter))\n",
    "    labels.append(cat)\n",
    "fields.append('q03_severity')\n",
    "labels.append('severity')\n",
    "fields = ', '.join(fields)\n",
    "df = createNumericDataFrame(DOG_TABLE, fields, labels, filtered=True)\n",
    "\n",
    "rngs = []\n",
    "rngs.append(df[df['severity'] < 3].drop(columns=['severity']))\n",
    "rngs.append(df[df['severity'] >= 3].drop(columns=['severity']))\n",
    "rngs.append(df[df['severity'] > 0].drop(columns=['severity']))\n",
    "\n",
    "def get_group_prevalence(df):\n",
    "    df = df.sum().apply(lambda x: (x / len(df.index)) * 100)\n",
    "    return df.round().astype(int)\n",
    "\n",
    "prevs = []\n",
    "prevs.append(get_group_prevalence(rngs[0]))\n",
    "prevs.append(get_group_prevalence(rngs[1]))\n",
    "prevs.append(get_group_prevalence(rngs[2]))\n",
    "\n",
    "df = pd.DataFrame(index=prevs[0].index, data={'superf.': prevs[0], 'broke skin': prevs[1],\n",
    "                                              'any': prevs[2]})\n",
    "df.columns.name = 'Behavior problem'\n",
    "display(df)\n",
    "\n",
    "print('\\nPEOPLE:')\n",
    "fields = []\n",
    "labels = []\n",
    "for counter, cat in enumerate(FR.categories, 1):\n",
    "    if counter > 10:\n",
    "        counter += 1;\n",
    "    fields.append('q02_main_{}'.format(counter))\n",
    "    labels.append(cat)\n",
    "fields.append('q03_severity')\n",
    "labels.append('severity')\n",
    "fields.append('q03_person')\n",
    "labels.append('person')\n",
    "fields = ', '.join(fields)\n",
    "df = createNumericDataFrame(DOG_TABLE, fields, labels, filtered=True)\n",
    "df = df[df['person'] == 1]\n",
    "df.drop(columns='person', inplace=True)\n",
    "\n",
    "rngs = []\n",
    "rngs.append(df[df['severity'] < 3].drop(columns=['severity']))\n",
    "rngs.append(df[df['severity'] >= 3].drop(columns=['severity']))\n",
    "rngs.append(df[df['severity'] > 0].drop(columns=['severity']))\n",
    "\n",
    "prevs = []\n",
    "prevs.append(get_group_prevalence(rngs[0]))\n",
    "prevs.append(get_group_prevalence(rngs[1]))\n",
    "prevs.append(get_group_prevalence(rngs[2]))\n",
    "\n",
    "df = pd.DataFrame(index=prevs[0].index, data={'superf.': prevs[0], 'broke skin': prevs[1],\n",
    "                                              'any': prevs[2]})\n",
    "df.columns.name = 'Behavior problem'\n",
    "display(df)\n",
    "\n",
    "print('\\nDOGS:')\n",
    "fields = []\n",
    "labels = []\n",
    "for counter, cat in enumerate(FR.categories, 1):\n",
    "    if counter > 10:\n",
    "        counter += 1;\n",
    "    fields.append('q02_main_{}'.format(counter))\n",
    "    labels.append(cat)\n",
    "fields.append('q03_severity')\n",
    "labels.append('severity')\n",
    "fields.append('q03_dog')\n",
    "labels.append('dog')\n",
    "fields = ', '.join(fields)\n",
    "df = createNumericDataFrame(DOG_TABLE, fields, labels, filtered=True)\n",
    "df = df[df['dog'] == 1]\n",
    "df.drop(columns='dog', inplace=True)\n",
    "\n",
    "rngs = []\n",
    "rngs.append(df[df['severity'] < 3].drop(columns=['severity']))\n",
    "rngs.append(df[df['severity'] >= 3].drop(columns=['severity']))\n",
    "rngs.append(df[df['severity'] > 0].drop(columns=['severity']))\n",
    "\n",
    "prevs = []\n",
    "prevs.append(get_group_prevalence(rngs[0]))\n",
    "prevs.append(get_group_prevalence(rngs[1]))\n",
    "prevs.append(get_group_prevalence(rngs[2]))\n",
    "\n",
    "df = pd.DataFrame(index=prevs[0].index, data={'superf.': prevs[0], 'broke skin': prevs[1],\n",
    "                                              'any': prevs[2]})\n",
    "df.columns.name = 'Behavior problem'\n",
    "display(df)"
   ]
  },
  {
   "cell_type": "markdown",
   "metadata": {},
   "source": [
    "### Bite severity and fear/anxiety:"
   ]
  },
  {
   "cell_type": "code",
   "execution_count": 123,
   "metadata": {},
   "outputs": [
    {
     "name": "stdout",
     "output_type": "stream",
     "text": [
      "OVERALL:\n"
     ]
    },
    {
     "data": {
      "text/html": [
       "<div>\n",
       "<style scoped>\n",
       "    .dataframe tbody tr th:only-of-type {\n",
       "        vertical-align: middle;\n",
       "    }\n",
       "\n",
       "    .dataframe tbody tr th {\n",
       "        vertical-align: top;\n",
       "    }\n",
       "\n",
       "    .dataframe thead th {\n",
       "        text-align: right;\n",
       "    }\n",
       "</style>\n",
       "<table border=\"1\" class=\"dataframe\">\n",
       "  <thead>\n",
       "    <tr style=\"text-align: right;\">\n",
       "      <th>Behavior problem</th>\n",
       "      <th>superf.</th>\n",
       "      <th>broke skin</th>\n",
       "      <th>any</th>\n",
       "    </tr>\n",
       "  </thead>\n",
       "  <tbody>\n",
       "    <tr>\n",
       "      <th>Thunderstorm phobia</th>\n",
       "      <td>19</td>\n",
       "      <td>23</td>\n",
       "      <td>22</td>\n",
       "    </tr>\n",
       "    <tr>\n",
       "      <th>Noise phobia</th>\n",
       "      <td>22</td>\n",
       "      <td>27</td>\n",
       "      <td>25</td>\n",
       "    </tr>\n",
       "    <tr>\n",
       "      <th>Crowd phobia</th>\n",
       "      <td>29</td>\n",
       "      <td>30</td>\n",
       "      <td>30</td>\n",
       "    </tr>\n",
       "    <tr>\n",
       "      <th>Phobia of other dogs</th>\n",
       "      <td>15</td>\n",
       "      <td>18</td>\n",
       "      <td>17</td>\n",
       "    </tr>\n",
       "    <tr>\n",
       "      <th>PTSD</th>\n",
       "      <td>5</td>\n",
       "      <td>11</td>\n",
       "      <td>9</td>\n",
       "    </tr>\n",
       "    <tr>\n",
       "      <th>Generalized anxiety</th>\n",
       "      <td>13</td>\n",
       "      <td>22</td>\n",
       "      <td>19</td>\n",
       "    </tr>\n",
       "    <tr>\n",
       "      <th>Situational anxiety</th>\n",
       "      <td>27</td>\n",
       "      <td>34</td>\n",
       "      <td>31</td>\n",
       "    </tr>\n",
       "    <tr>\n",
       "      <th>Veterinarian phobia</th>\n",
       "      <td>24</td>\n",
       "      <td>31</td>\n",
       "      <td>29</td>\n",
       "    </tr>\n",
       "    <tr>\n",
       "      <th>Separation anxiety</th>\n",
       "      <td>19</td>\n",
       "      <td>24</td>\n",
       "      <td>22</td>\n",
       "    </tr>\n",
       "    <tr>\n",
       "      <th>Travel anxiety</th>\n",
       "      <td>14</td>\n",
       "      <td>17</td>\n",
       "      <td>16</td>\n",
       "    </tr>\n",
       "    <tr>\n",
       "      <th>Other</th>\n",
       "      <td>12</td>\n",
       "      <td>13</td>\n",
       "      <td>12</td>\n",
       "    </tr>\n",
       "  </tbody>\n",
       "</table>\n",
       "</div>"
      ],
      "text/plain": [
       "Behavior problem      superf.  broke skin  any\n",
       "Thunderstorm phobia        19          23   22\n",
       "Noise phobia               22          27   25\n",
       "Crowd phobia               29          30   30\n",
       "Phobia of other dogs       15          18   17\n",
       "PTSD                        5          11    9\n",
       "Generalized anxiety        13          22   19\n",
       "Situational anxiety        27          34   31\n",
       "Veterinarian phobia        24          31   29\n",
       "Separation anxiety         19          24   22\n",
       "Travel anxiety             14          17   16\n",
       "Other                      12          13   12"
      ]
     },
     "metadata": {},
     "output_type": "display_data"
    },
    {
     "name": "stdout",
     "output_type": "stream",
     "text": [
      "\n",
      "PEOPLE:\n"
     ]
    },
    {
     "data": {
      "text/html": [
       "<div>\n",
       "<style scoped>\n",
       "    .dataframe tbody tr th:only-of-type {\n",
       "        vertical-align: middle;\n",
       "    }\n",
       "\n",
       "    .dataframe tbody tr th {\n",
       "        vertical-align: top;\n",
       "    }\n",
       "\n",
       "    .dataframe thead th {\n",
       "        text-align: right;\n",
       "    }\n",
       "</style>\n",
       "<table border=\"1\" class=\"dataframe\">\n",
       "  <thead>\n",
       "    <tr style=\"text-align: right;\">\n",
       "      <th>Behavior problem</th>\n",
       "      <th>superf.</th>\n",
       "      <th>broke skin</th>\n",
       "      <th>any</th>\n",
       "    </tr>\n",
       "  </thead>\n",
       "  <tbody>\n",
       "    <tr>\n",
       "      <th>Thunderstorm phobia</th>\n",
       "      <td>23</td>\n",
       "      <td>24</td>\n",
       "      <td>23</td>\n",
       "    </tr>\n",
       "    <tr>\n",
       "      <th>Noise phobia</th>\n",
       "      <td>27</td>\n",
       "      <td>30</td>\n",
       "      <td>28</td>\n",
       "    </tr>\n",
       "    <tr>\n",
       "      <th>Crowd phobia</th>\n",
       "      <td>38</td>\n",
       "      <td>34</td>\n",
       "      <td>36</td>\n",
       "    </tr>\n",
       "    <tr>\n",
       "      <th>Phobia of other dogs</th>\n",
       "      <td>18</td>\n",
       "      <td>20</td>\n",
       "      <td>20</td>\n",
       "    </tr>\n",
       "    <tr>\n",
       "      <th>PTSD</th>\n",
       "      <td>4</td>\n",
       "      <td>12</td>\n",
       "      <td>9</td>\n",
       "    </tr>\n",
       "    <tr>\n",
       "      <th>Generalized anxiety</th>\n",
       "      <td>21</td>\n",
       "      <td>26</td>\n",
       "      <td>24</td>\n",
       "    </tr>\n",
       "    <tr>\n",
       "      <th>Situational anxiety</th>\n",
       "      <td>34</td>\n",
       "      <td>39</td>\n",
       "      <td>37</td>\n",
       "    </tr>\n",
       "    <tr>\n",
       "      <th>Veterinarian phobia</th>\n",
       "      <td>37</td>\n",
       "      <td>32</td>\n",
       "      <td>34</td>\n",
       "    </tr>\n",
       "    <tr>\n",
       "      <th>Separation anxiety</th>\n",
       "      <td>24</td>\n",
       "      <td>26</td>\n",
       "      <td>25</td>\n",
       "    </tr>\n",
       "    <tr>\n",
       "      <th>Travel anxiety</th>\n",
       "      <td>17</td>\n",
       "      <td>17</td>\n",
       "      <td>17</td>\n",
       "    </tr>\n",
       "    <tr>\n",
       "      <th>Other</th>\n",
       "      <td>13</td>\n",
       "      <td>12</td>\n",
       "      <td>12</td>\n",
       "    </tr>\n",
       "  </tbody>\n",
       "</table>\n",
       "</div>"
      ],
      "text/plain": [
       "Behavior problem      superf.  broke skin  any\n",
       "Thunderstorm phobia        23          24   23\n",
       "Noise phobia               27          30   28\n",
       "Crowd phobia               38          34   36\n",
       "Phobia of other dogs       18          20   20\n",
       "PTSD                        4          12    9\n",
       "Generalized anxiety        21          26   24\n",
       "Situational anxiety        34          39   37\n",
       "Veterinarian phobia        37          32   34\n",
       "Separation anxiety         24          26   25\n",
       "Travel anxiety             17          17   17\n",
       "Other                      13          12   12"
      ]
     },
     "metadata": {},
     "output_type": "display_data"
    },
    {
     "name": "stdout",
     "output_type": "stream",
     "text": [
      "\n",
      "DOGS:\n"
     ]
    },
    {
     "data": {
      "text/html": [
       "<div>\n",
       "<style scoped>\n",
       "    .dataframe tbody tr th:only-of-type {\n",
       "        vertical-align: middle;\n",
       "    }\n",
       "\n",
       "    .dataframe tbody tr th {\n",
       "        vertical-align: top;\n",
       "    }\n",
       "\n",
       "    .dataframe thead th {\n",
       "        text-align: right;\n",
       "    }\n",
       "</style>\n",
       "<table border=\"1\" class=\"dataframe\">\n",
       "  <thead>\n",
       "    <tr style=\"text-align: right;\">\n",
       "      <th>Behavior problem</th>\n",
       "      <th>superf.</th>\n",
       "      <th>broke skin</th>\n",
       "      <th>any</th>\n",
       "    </tr>\n",
       "  </thead>\n",
       "  <tbody>\n",
       "    <tr>\n",
       "      <th>Thunderstorm phobia</th>\n",
       "      <td>17</td>\n",
       "      <td>23</td>\n",
       "      <td>21</td>\n",
       "    </tr>\n",
       "    <tr>\n",
       "      <th>Noise phobia</th>\n",
       "      <td>18</td>\n",
       "      <td>27</td>\n",
       "      <td>24</td>\n",
       "    </tr>\n",
       "    <tr>\n",
       "      <th>Crowd phobia</th>\n",
       "      <td>26</td>\n",
       "      <td>26</td>\n",
       "      <td>26</td>\n",
       "    </tr>\n",
       "    <tr>\n",
       "      <th>Phobia of other dogs</th>\n",
       "      <td>15</td>\n",
       "      <td>18</td>\n",
       "      <td>17</td>\n",
       "    </tr>\n",
       "    <tr>\n",
       "      <th>PTSD</th>\n",
       "      <td>3</td>\n",
       "      <td>12</td>\n",
       "      <td>9</td>\n",
       "    </tr>\n",
       "    <tr>\n",
       "      <th>Generalized anxiety</th>\n",
       "      <td>8</td>\n",
       "      <td>22</td>\n",
       "      <td>17</td>\n",
       "    </tr>\n",
       "    <tr>\n",
       "      <th>Situational anxiety</th>\n",
       "      <td>24</td>\n",
       "      <td>34</td>\n",
       "      <td>31</td>\n",
       "    </tr>\n",
       "    <tr>\n",
       "      <th>Veterinarian phobia</th>\n",
       "      <td>23</td>\n",
       "      <td>30</td>\n",
       "      <td>28</td>\n",
       "    </tr>\n",
       "    <tr>\n",
       "      <th>Separation anxiety</th>\n",
       "      <td>16</td>\n",
       "      <td>22</td>\n",
       "      <td>20</td>\n",
       "    </tr>\n",
       "    <tr>\n",
       "      <th>Travel anxiety</th>\n",
       "      <td>10</td>\n",
       "      <td>18</td>\n",
       "      <td>15</td>\n",
       "    </tr>\n",
       "    <tr>\n",
       "      <th>Other</th>\n",
       "      <td>10</td>\n",
       "      <td>13</td>\n",
       "      <td>12</td>\n",
       "    </tr>\n",
       "  </tbody>\n",
       "</table>\n",
       "</div>"
      ],
      "text/plain": [
       "Behavior problem      superf.  broke skin  any\n",
       "Thunderstorm phobia        17          23   21\n",
       "Noise phobia               18          27   24\n",
       "Crowd phobia               26          26   26\n",
       "Phobia of other dogs       15          18   17\n",
       "PTSD                        3          12    9\n",
       "Generalized anxiety         8          22   17\n",
       "Situational anxiety        24          34   31\n",
       "Veterinarian phobia        23          30   28\n",
       "Separation anxiety         16          22   20\n",
       "Travel anxiety             10          18   15\n",
       "Other                      10          13   12"
      ]
     },
     "metadata": {},
     "output_type": "display_data"
    }
   ],
   "source": [
    "print('OVERALL:')\n",
    "fields = ', '.join(FR.fields[FR.categories[1]])\n",
    "labels = list(FR.labels[FR.categories[1]].values())\n",
    "fields += ', q03_severity'\n",
    "labels.append('severity')\n",
    "df = createNumericDataFrame(DOG_TABLE, fields, labels, filtered=True)\n",
    "\n",
    "rngs = []\n",
    "rngs.append(df[df['severity'] < 3].drop(columns=['severity']))\n",
    "rngs.append(df[df['severity'] >= 3].drop(columns=['severity']))\n",
    "rngs.append(df[df['severity'] > 0].drop(columns=['severity']))\n",
    "\n",
    "def get_group_prevalence(df):\n",
    "    df = df.sum().apply(lambda x: (x / len(df.index)) * 100)\n",
    "    return df.round().astype(int)\n",
    "\n",
    "prevs = []\n",
    "prevs.append(get_group_prevalence(rngs[0]))\n",
    "prevs.append(get_group_prevalence(rngs[1]))\n",
    "prevs.append(get_group_prevalence(rngs[2]))\n",
    "\n",
    "df = pd.DataFrame(index=prevs[0].index, data={'superf.': prevs[0], 'broke skin': prevs[1],\n",
    "                                              'any': prevs[2]})\n",
    "df.columns.name = 'Behavior problem'\n",
    "display(df)\n",
    "\n",
    "print('\\nPEOPLE:')\n",
    "fields = ', '.join(FR.fields[FR.categories[1]])\n",
    "labels = list(FR.labels[FR.categories[1]].values())\n",
    "fields += ', q03_severity, q03_person'\n",
    "labels.append('severity')\n",
    "labels.append('person')\n",
    "df = createNumericDataFrame(DOG_TABLE, fields, labels, filtered=True)\n",
    "df = df[df['person'] == 1]\n",
    "df.drop(columns='person', inplace=True)\n",
    "\n",
    "rngs = []\n",
    "rngs.append(df[df['severity'] < 3].drop(columns=['severity']))\n",
    "rngs.append(df[df['severity'] >= 3].drop(columns=['severity']))\n",
    "rngs.append(df[df['severity'] > 0].drop(columns=['severity']))\n",
    "\n",
    "prevs = []\n",
    "prevs.append(get_group_prevalence(rngs[0]))\n",
    "prevs.append(get_group_prevalence(rngs[1]))\n",
    "prevs.append(get_group_prevalence(rngs[2]))\n",
    "\n",
    "df = pd.DataFrame(index=prevs[0].index, data={'superf.': prevs[0], 'broke skin': prevs[1],\n",
    "                                              'any': prevs[2]})\n",
    "df.columns.name = 'Behavior problem'\n",
    "display(df)\n",
    "\n",
    "print('\\nDOGS:')\n",
    "fields = ', '.join(FR.fields[FR.categories[1]])\n",
    "labels = list(FR.labels[FR.categories[1]].values())\n",
    "fields += ', q03_severity, q03_dog'\n",
    "labels.append('severity')\n",
    "labels.append('dog')\n",
    "df = createNumericDataFrame(DOG_TABLE, fields, labels, filtered=True)\n",
    "df = df[df['dog'] == 1]\n",
    "df.drop(columns='dog', inplace=True)\n",
    "\n",
    "rngs = []\n",
    "rngs.append(df[df['severity'] < 3].drop(columns=['severity']))\n",
    "rngs.append(df[df['severity'] >= 3].drop(columns=['severity']))\n",
    "rngs.append(df[df['severity'] > 0].drop(columns=['severity']))\n",
    "\n",
    "prevs = []\n",
    "prevs.append(get_group_prevalence(rngs[0]))\n",
    "prevs.append(get_group_prevalence(rngs[1]))\n",
    "prevs.append(get_group_prevalence(rngs[2]))\n",
    "\n",
    "df = pd.DataFrame(index=prevs[0].index, data={'superf.': prevs[0], 'broke skin': prevs[1],\n",
    "                                              'any': prevs[2]})\n",
    "df.columns.name = 'Behavior problem'\n",
    "display(df)"
   ]
  },
  {
   "cell_type": "markdown",
   "metadata": {},
   "source": [
    "### Bite severity and gender and neutered status:"
   ]
  },
  {
   "cell_type": "code",
   "execution_count": 124,
   "metadata": {},
   "outputs": [
    {
     "name": "stdout",
     "output_type": "stream",
     "text": [
      "intact males: n = 13 (4%)\n",
      "castrated males: n = 196 (53%)\n",
      "intact females: n = 12 (3%)\n",
      "spayed females: n = 150 (40%)\n"
     ]
    }
   ],
   "source": [
    "fields = ['q03_severity']\n",
    "labels = ['severity']\n",
    "fields.extend(('dog_sex', 'dog_spayed'))\n",
    "labels.extend(('Gender', 'Neutered'))\n",
    "fields = ', '.join(fields)\n",
    "df = createNumericDataFrame(DOG_TABLE, fields, labels, filtered=True)\n",
    "\n",
    "df['bites'] = np.where(df['severity'] > 0, 1, 0)\n",
    "df = df.drop(columns=['severity'])\n",
    "\n",
    "df_intact_male = df[(df['Gender'] == 1) & (df['Neutered'] == 0)].drop(\n",
    "    columns=['Gender', 'Neutered'])\n",
    "df_neutered_male = df[(df['Gender'] == 1) & (df['Neutered'] == 1)].drop(\n",
    "    columns=['Gender', 'Neutered'])\n",
    "df_intact_female = df[(df['Gender'] == 2) & (df['Neutered'] == 0)].drop(\n",
    "    columns=['Gender', 'Neutered'])\n",
    "df_neutered_female = df[(df['Gender'] == 2) & (df['Neutered'] == 1)].drop(\n",
    "    columns=['Gender', 'Neutered'])\n",
    "\n",
    "def get_group_prevalence(df):\n",
    "    # We aren't doing anything here except the type conversion.\n",
    "    df = df.sum().apply(lambda x: (x / 1))\n",
    "    return df.round().astype(int)\n",
    "\n",
    "intact_male_p = get_group_prevalence(df_intact_male)\n",
    "neutered_male_p = get_group_prevalence(df_neutered_male)\n",
    "intact_female_p = get_group_prevalence(df_intact_female)\n",
    "neutered_female_p = get_group_prevalence(df_neutered_female)\n",
    "\n",
    "df = pd.DataFrame(index=intact_male_p.index, data={'intact males': intact_male_p,\n",
    "                                                   'castrated males': neutered_male_p,\n",
    "                                                   'intact females': intact_female_p,\n",
    "                                                   'spayed females': neutered_female_p})\n",
    "for index, row in df.iterrows():\n",
    "    for index2, row2 in row.iteritems():\n",
    "        print('%s: n = %d (%d%%)' %(index2, (row2), round((row2/df.sum().sum())*100, 0)))"
   ]
  },
  {
   "cell_type": "markdown",
   "metadata": {},
   "source": [
    "## <center>Jumping and Mounting/Humping</center>"
   ]
  },
  {
   "cell_type": "markdown",
   "metadata": {},
   "source": [
    "### Jumping and mounting/humping"
   ]
  },
  {
   "cell_type": "code",
   "execution_count": 125,
   "metadata": {},
   "outputs": [
    {
     "name": "stdout",
     "output_type": "stream",
     "text": [
      "Chi-squared Test of Independence for jumping and mounting:\n",
      "chi2 = 146.078445, p = 1.25E-33, dof = 1\n",
      "OR = 3.32, 95% CI: 2.71-4.07, n = 4114\n"
     ]
    }
   ],
   "source": [
    "fields = 'q02_main_6, q02_main_7'\n",
    "labels = ['jumping', 'mounting']\n",
    "df = createStringDataFrame(DOG_TABLE, fields, labels)\n",
    "df = df.apply(pd.to_numeric)\n",
    "\n",
    "# Execute a chi-squared test of independence.\n",
    "contingency = pd.crosstab(df[labels[0]], df[labels[1]], margins=False)\n",
    "print('Chi-squared Test of Independence for %s and %s:' %(labels[0], labels[1]))\n",
    "c, p, dof, expected = scs.chi2_contingency(contingency, correction=False)\n",
    "print('chi2 = %f, p = %.2E, dof = %d' %(c, p, dof))\n",
    "displayOddsRatio(contingency)"
   ]
  },
  {
   "cell_type": "markdown",
   "metadata": {},
   "source": [
    "### Maleness and jumping up:"
   ]
  },
  {
   "cell_type": "code",
   "execution_count": 126,
   "metadata": {},
   "outputs": [
    {
     "name": "stdout",
     "output_type": "stream",
     "text": [
      "Chi-squared Test of Independence for jumping and gender:\n",
      "chi2 = 0.013734, p = 9.07E-01, dof = 1\n",
      "OR = 1.01, 95% CI: 0.88-1.16, n = 4100\n"
     ]
    }
   ],
   "source": [
    "fields = 'q02_main_6, dog_sex'\n",
    "labels = ['jumping', 'gender']\n",
    "df = createStringDataFrame(DOG_TABLE, fields, labels)\n",
    "df = df[df[labels[1]] != '']\n",
    "df = df.apply(pd.to_numeric)\n",
    "\n",
    "def gender_to_binary_response(x):\n",
    "    x = int(x)\n",
    "    if x != 1:\n",
    "        return 0\n",
    "    return 1\n",
    "\n",
    "df[labels[0]] = df[labels[0]].apply(\n",
    "    lambda x: convert_to_binary_response(x))\n",
    "df[labels[1]] = df[labels[1]].apply(\n",
    "    lambda x: gender_to_binary_response(x))\n",
    "\n",
    "# Execute a chi-squared test of independence.\n",
    "contingency = pd.crosstab(df[labels[0]], df[labels[1]], margins=False)\n",
    "print('Chi-squared Test of Independence for %s and %s:' %(labels[0], labels[1]))\n",
    "c, p, dof, expected = scs.chi2_contingency(contingency, correction=False)\n",
    "print('chi2 = %f, p = %.2E, dof = %d' %(c, p, dof))\n",
    "displayOddsRatio(contingency)"
   ]
  },
  {
   "cell_type": "markdown",
   "metadata": {},
   "source": [
    "### Maleness and mounting/humping:"
   ]
  },
  {
   "cell_type": "code",
   "execution_count": 127,
   "metadata": {},
   "outputs": [
    {
     "name": "stdout",
     "output_type": "stream",
     "text": [
      "Chi-squared Test of Independence for mounting and gender:\n",
      "chi2 = 44.752657, p = 2.24E-11, dof = 1\n",
      "OR = 2.01, 95% CI: 1.63-2.47, n = 4100\n"
     ]
    }
   ],
   "source": [
    "fields = 'q02_main_7, dog_sex'\n",
    "labels = ['mounting', 'gender']\n",
    "df = createStringDataFrame(DOG_TABLE, fields, labels)\n",
    "df = df[df[labels[1]] != '']\n",
    "df = df.apply(pd.to_numeric)\n",
    "\n",
    "def gender_to_binary_response(x):\n",
    "    x = int(x)\n",
    "    if x != 1:\n",
    "        return 0\n",
    "    return 1\n",
    "\n",
    "df[labels[0]] = df[labels[0]].apply(\n",
    "    lambda x: convert_to_binary_response(x))\n",
    "df[labels[1]] = df[labels[1]].apply(\n",
    "    lambda x: gender_to_binary_response(x))\n",
    "\n",
    "# Execute a chi-squared test of independence.\n",
    "contingency = pd.crosstab(df[labels[0]], df[labels[1]], margins=False)\n",
    "print('Chi-squared Test of Independence for %s and %s:' %(labels[0], labels[1]))\n",
    "c, p, dof, expected = scs.chi2_contingency(contingency, correction=False)\n",
    "print('chi2 = %f, p = %.2E, dof = %d' %(c, p, dof))\n",
    "displayOddsRatio(contingency)"
   ]
  },
  {
   "cell_type": "markdown",
   "metadata": {},
   "source": [
    "### Jumping and overactivity/hyperactivity:"
   ]
  },
  {
   "cell_type": "code",
   "execution_count": 128,
   "metadata": {},
   "outputs": [
    {
     "name": "stdout",
     "output_type": "stream",
     "text": [
      "Chi-squared Test of Independence for jumping and hyperactivity:\n",
      "chi2 = 230.448605, p = 4.76E-52, dof = 1\n",
      "OR = 4.09, 95% CI: 3.38-4.96, n = 4114\n"
     ]
    }
   ],
   "source": [
    "fields = 'q02_main_6, q02_main_13'\n",
    "labels = ['jumping', 'hyperactivity']\n",
    "df = createStringDataFrame(DOG_TABLE, fields, labels)\n",
    "df = df.apply(pd.to_numeric)\n",
    "\n",
    "# Execute a chi-squared test of independence.\n",
    "contingency = pd.crosstab(df[labels[0]], df[labels[1]], margins=False)\n",
    "print('Chi-squared Test of Independence for %s and %s:' %(labels[0], labels[1]))\n",
    "c, p, dof, expected = scs.chi2_contingency(contingency, correction=False)\n",
    "print('chi2 = %f, p = %.2E, dof = %d' %(c, p, dof))\n",
    "displayOddsRatio(contingency)"
   ]
  },
  {
   "cell_type": "markdown",
   "metadata": {},
   "source": [
    "### Jumping and destruction:"
   ]
  },
  {
   "cell_type": "code",
   "execution_count": 129,
   "metadata": {},
   "outputs": [
    {
     "name": "stdout",
     "output_type": "stream",
     "text": [
      "Chi-squared Test of Independence for jumping and destruction:\n",
      "chi2 = 110.687381, p = 6.93E-26, dof = 1\n",
      "OR = 2.73, 95% CI: 2.25-3.31, n = 4114\n"
     ]
    }
   ],
   "source": [
    "fields = 'q02_main_6, q02_main_9'\n",
    "labels = ['jumping', 'destruction']\n",
    "df = createStringDataFrame(DOG_TABLE, fields, labels)\n",
    "df = df.apply(pd.to_numeric)\n",
    "\n",
    "# Execute a chi-squared test of independence.\n",
    "contingency = pd.crosstab(df[labels[0]], df[labels[1]], margins=False)\n",
    "print('Chi-squared Test of Independence for %s and %s:' %(labels[0], labels[1]))\n",
    "c, p, dof, expected = scs.chi2_contingency(contingency, correction=False)\n",
    "print('chi2 = %f, p = %.2E, dof = %d' %(c, p, dof))\n",
    "displayOddsRatio(contingency)"
   ]
  },
  {
   "cell_type": "markdown",
   "metadata": {},
   "source": [
    "### Mounting/humping and overactivity/hyperactivity:"
   ]
  },
  {
   "cell_type": "code",
   "execution_count": 130,
   "metadata": {},
   "outputs": [
    {
     "name": "stdout",
     "output_type": "stream",
     "text": [
      "Chi-squared Test of Independence for mounting and hyperactivity:\n",
      "chi2 = 54.878059, p = 1.28E-13, dof = 1\n",
      "OR = 2.47, 95% CI: 1.93-3.15, n = 4114\n"
     ]
    }
   ],
   "source": [
    "fields = 'q02_main_7, q02_main_13'\n",
    "labels = ['mounting', 'hyperactivity']\n",
    "df = createStringDataFrame(DOG_TABLE, fields, labels)\n",
    "df = df.apply(pd.to_numeric)\n",
    "\n",
    "# Execute a chi-squared test of independence.\n",
    "contingency = pd.crosstab(df[labels[0]], df[labels[1]], margins=False)\n",
    "print('Chi-squared Test of Independence for %s and %s:' %(labels[0], labels[1]))\n",
    "c, p, dof, expected = scs.chi2_contingency(contingency, correction=False)\n",
    "print('chi2 = %f, p = %.2E, dof = %d' %(c, p, dof))\n",
    "displayOddsRatio(contingency)"
   ]
  },
  {
   "cell_type": "markdown",
   "metadata": {},
   "source": [
    "## <center>Rolling in Repulsive Materials</center>"
   ]
  },
  {
   "cell_type": "markdown",
   "metadata": {},
   "source": [
    "### Rolling in repulsive materials and coprophagia:"
   ]
  },
  {
   "cell_type": "code",
   "execution_count": 131,
   "metadata": {},
   "outputs": [
    {
     "name": "stdout",
     "output_type": "stream",
     "text": [
      "Chi-squared Test of Independence for coprophagia and rolling:\n",
      "chi2 = 180.101176, p = 4.61E-41, dof = 1\n",
      "OR = 3.70, 95% CI: 3.03-4.52, n = 4114\n"
     ]
    }
   ],
   "source": [
    "fields = 'q02_main_8, q02_main_10'\n",
    "labels = ['coprophagia', 'rolling']\n",
    "df = createStringDataFrame(DOG_TABLE, fields, labels)\n",
    "df = df.apply(pd.to_numeric)\n",
    "\n",
    "# Execute a chi-squared test of independence.\n",
    "contingency = pd.crosstab(df[labels[0]], df[labels[1]], margins=False)\n",
    "print('Chi-squared Test of Independence for %s and %s:' %(labels[0], labels[1]))\n",
    "c, p, dof, expected = scs.chi2_contingency(contingency, correction=False)\n",
    "print('chi2 = %f, p = %.2E, dof = %d' %(c, p, dof))\n",
    "displayOddsRatio(contingency)"
   ]
  },
  {
   "cell_type": "markdown",
   "metadata": {},
   "source": [
    "## <center>Owner-directed Aggression</center>"
   ]
  },
  {
   "cell_type": "markdown",
   "metadata": {},
   "source": [
    "### Owner-directed aggression and maleness:"
   ]
  },
  {
   "cell_type": "code",
   "execution_count": 132,
   "metadata": {},
   "outputs": [
    {
     "name": "stdout",
     "output_type": "stream",
     "text": [
      "Chi-squared Test of Independence for owner-directed and gender:\n",
      "chi2 = 24.793805, p = 6.38E-07, dof = 1\n",
      "OR = 1.85, 95% CI: 1.45-2.36, n = 4100\n"
     ]
    }
   ],
   "source": [
    "fields = 'q03_main_1, dog_sex'\n",
    "labels = ['owner-directed', 'gender']\n",
    "df = createStringDataFrame(DOG_TABLE, fields, labels)\n",
    "df = df[df[labels[1]] != '']\n",
    "df = df.apply(pd.to_numeric)\n",
    "\n",
    "def gender_to_binary_response(x):\n",
    "    x = int(x)\n",
    "    if x != 1:\n",
    "        return 0\n",
    "    return 1\n",
    "\n",
    "df[labels[0]] = df[labels[0]].apply(\n",
    "    lambda x: convert_to_binary_response(x))\n",
    "df[labels[1]] = df[labels[1]].apply(\n",
    "    lambda x: gender_to_binary_response(x))\n",
    "\n",
    "# Execute a chi-squared test of independence.\n",
    "contingency = pd.crosstab(df[labels[0]], df[labels[1]], margins=False)\n",
    "print('Chi-squared Test of Independence for %s and %s:' %(labels[0], labels[1]))\n",
    "c, p, dof, expected = scs.chi2_contingency(contingency, correction=False)\n",
    "print('chi2 = %f, p = %.2E, dof = %d' %(c, p, dof))\n",
    "displayOddsRatio(contingency)"
   ]
  },
  {
   "cell_type": "markdown",
   "metadata": {},
   "source": [
    "## <center>Appendix</center>"
   ]
  },
  {
   "cell_type": "markdown",
   "metadata": {},
   "source": [
    "### Behavior problem category heat map (Appendix 2):"
   ]
  },
  {
   "cell_type": "code",
   "execution_count": 137,
   "metadata": {},
   "outputs": [
    {
     "data": {
      "image/png": "[encoded data removed]",
      "text/plain": [
       "<Figure size 1080x1080 with 1 Axes>"
      ]
     },
     "metadata": {},
     "output_type": "display_data"
    }
   ],
   "source": [
    "if CATEGORY_MATRIX.empty:\n",
    "    CATEGORY_MATRIX = createCategoryMatrix()\n",
    "label_dict = {'A': 'AGG', 'B': 'FAS', 'C': 'CCD', 'D': 'HSL', 'E': 'BRK', 'F': 'JMP',\n",
    "              'G': 'MNT', 'H': 'COP', 'I': 'DST', 'J': 'ROL', 'K': 'ESC', 'L': 'HYP'}\n",
    "CATEGORY_MATRIX.rename(columns=label_dict, inplace=True)\n",
    "CATEGORY_MATRIX.rename(index=label_dict, inplace=True)\n",
    "df = CATEGORY_MATRIX.applymap(lambda row: get_significance_category(row))\n",
    "df_or = createOddsRatioMatrix().round(2)\n",
    "\n",
    "# Heatmap\n",
    "fig, ax = plt.subplots(figsize=(15, 15))\n",
    "cmap = sns.cubehelix_palette(n_colors=3)\n",
    "ax = sns.heatmap(data=df, ax=ax, cmap=ListedColormap(cmap), linewidths=0.5, linecolor='black',\n",
    "                 cbar=False, mask=df.isnull(), annot=df_or, annot_kws={\"size\": 28}, fmt='.2f')\n",
    "plt.xticks(rotation=0, fontsize=20)\n",
    "plt.yticks(rotation=0, fontsize=20)\n",
    "ax.invert_yaxis()\n",
    "import matplotlib.patches as mpatches\n",
    "patch_1 = mpatches.Patch(color=cmap[0], label='$p\\geq10^{-3}$')\n",
    "patch_2 = mpatches.Patch(color=cmap[1], label='$10^{-6}\\leq{p}<10^{-3}$')\n",
    "patch_3 = mpatches.Patch(color=cmap[2], label='$p<10^{-6}$')\n",
    "legend = plt.legend(handles=[patch_1, patch_2, patch_3], bbox_to_anchor=(0.5, -0.05),                             loc='upper center', fontsize=28, ncol=3)\n",
    "legend.get_frame().set_edgecolor('black')\n",
    "exportFigure(fig, 'appendix_2')\n",
    "plt.show()"
   ]
  },
  {
   "cell_type": "markdown",
   "metadata": {},
   "source": [
    "### Heat map axes abbrevation reference chart (UNUSED):"
   ]
  },
  {
   "cell_type": "code",
   "execution_count": 134,
   "metadata": {},
   "outputs": [
    {
     "data": {
      "text/html": [
       "<div>\n",
       "<style scoped>\n",
       "    .dataframe tbody tr th:only-of-type {\n",
       "        vertical-align: middle;\n",
       "    }\n",
       "\n",
       "    .dataframe tbody tr th {\n",
       "        vertical-align: top;\n",
       "    }\n",
       "\n",
       "    .dataframe thead th {\n",
       "        text-align: right;\n",
       "    }\n",
       "</style>\n",
       "<table border=\"1\" class=\"dataframe\">\n",
       "  <thead>\n",
       "    <tr style=\"text-align: right;\">\n",
       "      <th>Index</th>\n",
       "      <th>Category</th>\n",
       "    </tr>\n",
       "  </thead>\n",
       "  <tbody>\n",
       "    <tr>\n",
       "      <th>AGG</th>\n",
       "      <td>Aggression</td>\n",
       "    </tr>\n",
       "    <tr>\n",
       "      <th>FAS</th>\n",
       "      <td>Fear/Anxiety</td>\n",
       "    </tr>\n",
       "    <tr>\n",
       "      <th>CCD</th>\n",
       "      <td>Compulsion</td>\n",
       "    </tr>\n",
       "    <tr>\n",
       "      <th>HSL</th>\n",
       "      <td>House Soiling</td>\n",
       "    </tr>\n",
       "    <tr>\n",
       "      <th>BRK</th>\n",
       "      <td>Excessive Barking</td>\n",
       "    </tr>\n",
       "    <tr>\n",
       "      <th>JMP</th>\n",
       "      <td>Jumping</td>\n",
       "    </tr>\n",
       "    <tr>\n",
       "      <th>MNT</th>\n",
       "      <td>Mounting/Humping</td>\n",
       "    </tr>\n",
       "    <tr>\n",
       "      <th>COP</th>\n",
       "      <td>Coprophagia</td>\n",
       "    </tr>\n",
       "    <tr>\n",
       "      <th>DST</th>\n",
       "      <td>Destructive Behavior</td>\n",
       "    </tr>\n",
       "    <tr>\n",
       "      <th>ROL</th>\n",
       "      <td>Rolling in Repulsive Material</td>\n",
       "    </tr>\n",
       "    <tr>\n",
       "      <th>ESC</th>\n",
       "      <td>Running Away/Escaping</td>\n",
       "    </tr>\n",
       "    <tr>\n",
       "      <th>HYP</th>\n",
       "      <td>Overactivity/Hyperactivity</td>\n",
       "    </tr>\n",
       "  </tbody>\n",
       "</table>\n",
       "</div>"
      ],
      "text/plain": [
       "Index                       Category\n",
       "AGG                       Aggression\n",
       "FAS                     Fear/Anxiety\n",
       "CCD                       Compulsion\n",
       "HSL                    House Soiling\n",
       "BRK                Excessive Barking\n",
       "JMP                          Jumping\n",
       "MNT                 Mounting/Humping\n",
       "COP                      Coprophagia\n",
       "DST             Destructive Behavior\n",
       "ROL    Rolling in Repulsive Material\n",
       "ESC            Running Away/Escaping\n",
       "HYP       Overactivity/Hyperactivity"
      ]
     },
     "metadata": {},
     "output_type": "display_data"
    }
   ],
   "source": [
    "cat_dict = {}\n",
    "for cat, subdict in FR.labels.items():\n",
    "    for key, value in  subdict.items():\n",
    "        cat_dict[key[0]] = cat\n",
    "        break\n",
    "\n",
    "s = pd.Series(cat_dict)\n",
    "df = pd.DataFrame(index=s.index, data={'Category':s.values})\n",
    "df.columns.name = 'Index'\n",
    "label_dict = {'A': 'AGG', 'B': 'FAS', 'C': 'CCD', 'D': 'HSL', 'E': 'BRK', 'F': 'JMP',\n",
    "              'G': 'MNT', 'H': 'COP', 'I': 'DST', 'J': 'ROL', 'K': 'ESC', 'L': 'HYP'}\n",
    "df.rename(index=label_dict, inplace=True)\n",
    "display(df)"
   ]
  }
 ],
 "metadata": {
  "kernelspec": {
   "display_name": "Python 3",
   "language": "python",
   "name": "python3"
  },
  "language_info": {
   "codemirror_mode": {
    "name": "ipython",
    "version": 3
   },
   "file_extension": ".py",
   "mimetype": "text/x-python",
   "name": "python",
   "nbconvert_exporter": "python",
   "pygments_lexer": "ipython3",
   "version": "3.6.3"
  }
 },
 "nbformat": 4,
 "nbformat_minor": 2
}
