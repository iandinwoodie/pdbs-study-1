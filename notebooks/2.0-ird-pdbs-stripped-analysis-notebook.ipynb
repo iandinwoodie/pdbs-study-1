{
 "cells": [
  {
   "cell_type": "markdown",
   "metadata": {},
   "source": [
    "# Pet Dog Behavior Study Analysis"
   ]
  },
  {
   "cell_type": "markdown",
   "metadata": {},
   "source": [
    "## 1. Workspace Setup"
   ]
  },
  {
   "cell_type": "code",
   "execution_count": 1,
   "metadata": {},
   "outputs": [
    {
     "data": {
      "text/html": [
       "<script>requirejs.config({paths: { 'plotly': ['https://cdn.plot.ly/plotly-latest.min']},});if(!window.Plotly) {{require(['plotly'],function(plotly) {window.Plotly=plotly;});}}</script>"
      ],
      "text/vnd.plotly.v1+html": [
       "<script>requirejs.config({paths: { 'plotly': ['https://cdn.plot.ly/plotly-latest.min']},});if(!window.Plotly) {{require(['plotly'],function(plotly) {window.Plotly=plotly;});}}</script>"
      ]
     },
     "metadata": {},
     "output_type": "display_data"
    }
   ],
   "source": [
    "# Imports accounted for.\n",
    "import sqlite3\n",
    "import pandas as pd\n",
    "import plotly.offline as py\n",
    "import plotly.graph_objs as go\n",
    "from matplotlib_venn import venn2, venn3\n",
    "import matplotlib.pyplot as plt\n",
    "import numpy as np\n",
    "\n",
    "# Imports unaccounted for.\n",
    "import textwrap\n",
    "import scipy.stats as scs\n",
    "from IPython.display import display\n",
    "import plotly.figure_factory as ff\n",
    "\n",
    "# IPython magics for this notebook.\n",
    "%matplotlib inline\n",
    "\n",
    "# Initiate plotly IPython notebook mode.\n",
    "py.init_notebook_mode(connected=True)\n",
    "\n",
    "# Establish a connection to the database.\n",
    "con = sqlite3.connect('../data/processed/processed.db')"
   ]
  },
  {
   "cell_type": "markdown",
   "metadata": {},
   "source": [
    "## 2. Reasons for Joining the Study"
   ]
  },
  {
   "cell_type": "code",
   "execution_count": 2,
   "metadata": {},
   "outputs": [
    {
     "data": {
      "application/vnd.plotly.v1+json": {
       "data": [
        {
         "orientation": "h",
         "type": "bar",
         "x": [
          273,
          830,
          1049,
          1377,
          2595
         ],
         "y": [
          "other",
          "suspicion of behavior problems",
          "work with animals",
          "to help shelter animals",
          "love for dogs"
         ]
        }
       ],
       "layout": {
        "height": 400,
        "title": "Motivation for Study Enrollment",
        "width": 600,
        "xaxis": {
         "title": "number of participants"
        },
        "yaxis": {
         "automargin": true,
         "tickangle": 30,
         "tickprefix": " ",
         "ticksuffix": " ",
         "title": ""
        }
       }
      },
      "text/html": [
       "<div id=\"9cf52bef-a1f9-4adf-ae39-555c93ff7e31\" style=\"height: 400px; width: 600px;\" class=\"plotly-graph-div\"></div><script type=\"text/javascript\">require([\"plotly\"], function(Plotly) { window.PLOTLYENV=window.PLOTLYENV || {};window.PLOTLYENV.BASE_URL=\"https://plot.ly\";Plotly.newPlot(\"9cf52bef-a1f9-4adf-ae39-555c93ff7e31\", [{\"type\": \"bar\", \"y\": [\"other\", \"suspicion of behavior problems\", \"work with animals\", \"to help shelter animals\", \"love for dogs\"], \"x\": [273, 830, 1049, 1377, 2595], \"orientation\": \"h\"}], {\"title\": \"Motivation for Study Enrollment\", \"xaxis\": {\"title\": \"number of participants\"}, \"yaxis\": {\"title\": \"\", \"automargin\": true, \"tickangle\": 30, \"tickprefix\": \" \", \"ticksuffix\": \" \"}, \"width\": 600, \"height\": 400}, {\"showLink\": true, \"linkText\": \"Export to plot.ly\"})});</script>"
      ],
      "text/vnd.plotly.v1+html": [
       "<div id=\"9cf52bef-a1f9-4adf-ae39-555c93ff7e31\" style=\"height: 400px; width: 600px;\" class=\"plotly-graph-div\"></div><script type=\"text/javascript\">require([\"plotly\"], function(Plotly) { window.PLOTLYENV=window.PLOTLYENV || {};window.PLOTLYENV.BASE_URL=\"https://plot.ly\";Plotly.newPlot(\"9cf52bef-a1f9-4adf-ae39-555c93ff7e31\", [{\"type\": \"bar\", \"y\": [\"other\", \"suspicion of behavior problems\", \"work with animals\", \"to help shelter animals\", \"love for dogs\"], \"x\": [273, 830, 1049, 1377, 2595], \"orientation\": \"h\"}], {\"title\": \"Motivation for Study Enrollment\", \"xaxis\": {\"title\": \"number of participants\"}, \"yaxis\": {\"title\": \"\", \"automargin\": true, \"tickangle\": 30, \"tickprefix\": \" \", \"ticksuffix\": \" \"}, \"width\": 600, \"height\": 400}, {\"showLink\": true, \"linkText\": \"Export to plot.ly\"})});</script>"
      ]
     },
     "metadata": {},
     "output_type": "display_data"
    }
   ],
   "source": [
    "# Create the necessary dataframe.\n",
    "query = ('SELECT question_reason_for_part_1, question_reason_for_part_2, '  \n",
    "         'question_reason_for_part_3, question_reason_for_part_4, '\n",
    "         'question_reason_for_part_5 FROM users')\n",
    "df = pd.read_sql_query(query, con)\n",
    "df.columns = ['love for dogs', 'to help shelter animals', 'suspicion of behavior problems',\n",
    "              'work with animals', 'other']\n",
    "for col in df:\n",
    "    df[col] = pd.to_numeric(df[col])\n",
    "    \n",
    "# Create a bar graph to illustrate breakdown of responses.\n",
    "sums = df.sum()\n",
    "sums = sums.sort_values(ascending=True)\n",
    "data = [go.Bar(y=sums.index.values,\n",
    "               x=sums.values,\n",
    "               orientation='h')]\n",
    "layout = go.Layout(title=\"Motivation for Study Enrollment\",\n",
    "                   xaxis=dict(title='number of participants'),\n",
    "                   yaxis=dict(title='',\n",
    "                              automargin=True,\n",
    "                              tickangle=30,\n",
    "                              tickprefix=' ',\n",
    "                              ticksuffix=' '),\n",
    "                   width=600,\n",
    "                   height=400)\n",
    "fig = go.Figure(data=data, layout=layout)\n",
    "py.iplot(fig)\n",
    "\n",
    "# NOTE: This does not include a count of users who did not provide a reason."
   ]
  },
  {
   "cell_type": "markdown",
   "metadata": {},
   "source": [
    "## 3. Overall Prevalence of Behavior Problems\n",
    "\n",
    "Prevalence is defined as the proportion of a population found to be affected by a medical condition. This section aims to calculate the aggregate prevalence of the most common behavior problems in a given canine population."
   ]
  },
  {
   "cell_type": "markdown",
   "metadata": {},
   "source": [
    "### 3.1 Gross and Adjusted Responses:"
   ]
  },
  {
   "cell_type": "code",
   "execution_count": 3,
   "metadata": {},
   "outputs": [
    {
     "name": "stdout",
     "output_type": "stream",
     "text": [
      "Total number of dogs: 5018\n",
      "Total number of dogs with a reported behavior problem: 4407\n",
      "Adjusted total number of dogs: 3749\n",
      "Adjusted total number of dogs with a reported behavior problem: 3207\n"
     ]
    }
   ],
   "source": [
    "# Create the necessary dataframe.\n",
    "query = ('SELECT record_id, question_reason_for_part_3, q02_score FROM users JOIN dogs '\n",
    "         'USING(record_id)')\n",
    "df_gross = pd.read_sql_query(query, con)\n",
    "df_gross.columns = ['id', 'suspicion', 'problems']\n",
    "\n",
    "# Get a count of the total number of dogs.\n",
    "cnt_total_dogs = len(df_gross.index)\n",
    "\n",
    "# Get a count of the dogs with reported behavior problem.\n",
    "# If the \"problems\" column does not equal zero, then a behavior problem was reported.\n",
    "cnt_total_dogs_w_problems = len(df_gross[df_gross['problems'] != '0'].index)\n",
    "\n",
    "# Create an adjusted dataframe by removing biased results.\n",
    "# A result is considered biased if a participant listed \"suspicion of a behavior problem\" as a\n",
    "# reason for joining the study.\n",
    "df_adjusted = df_gross[df_gross['suspicion'] == '0']\n",
    "\n",
    "# Get a count of the total number of dogs from the adjusted dataframe.\n",
    "cnt_total_dogs_adjusted = len(df_adjusted.index)\n",
    "\n",
    "# Get a count of the dogs with a reported behavior problem from the adjusted dataframe.\n",
    "cnt_total_dogs_w_problems_adjusted = len(df_adjusted[df_adjusted['problems'] != '0'].index)\n",
    "\n",
    "# Display the count results.\n",
    "print('Total number of dogs: %d' %cnt_total_dogs)\n",
    "print('Total number of dogs with a reported behavior problem: %d' %cnt_total_dogs_w_problems)\n",
    "print('Adjusted total number of dogs: %d' %cnt_total_dogs_adjusted)\n",
    "print('Adjusted total number of dogs with a reported behavior problem: %d'\n",
    "      %cnt_total_dogs_w_problems_adjusted)"
   ]
  },
  {
   "cell_type": "markdown",
   "metadata": {},
   "source": [
    "### 3.2 Prevalence of Behavior Problems:"
   ]
  },
  {
   "cell_type": "code",
   "execution_count": 4,
   "metadata": {},
   "outputs": [
    {
     "name": "stdout",
     "output_type": "stream",
     "text": [
      "Gross prevalence: 87.82% (4407/5018)\n",
      "Adjusted prevalence: 85.54% (3207/3749)\n",
      "Shift in prevalence as a result of adjustment: -2.28%\n"
     ]
    }
   ],
   "source": [
    "# Calculate the gross prevalence.\n",
    "prevalence_gross = (cnt_total_dogs_w_problems / cnt_total_dogs) * 100\n",
    "\n",
    "# Calculate the adjusted prevalence.\n",
    "prevalence_adjusted = (cnt_total_dogs_w_problems_adjusted / cnt_total_dogs_adjusted) * 100\n",
    "\n",
    "# Calculate the difference between the gross and adjusted prevalence.\n",
    "diff_prevalence = prevalence_adjusted - prevalence_gross\n",
    "sign = '+' if diff_prevalence > 0 else ''\n",
    "\n",
    "# Display the prevalence results.\n",
    "print('Gross prevalence: %.2f%% (%d/%d)'\n",
    "      %(prevalence_gross, cnt_total_dogs_w_problems, cnt_total_dogs))\n",
    "print('Adjusted prevalence: %.2f%% (%d/%d)'\n",
    "      %(prevalence_adjusted, cnt_total_dogs_w_problems_adjusted, cnt_total_dogs_adjusted))\n",
    "print('Shift in prevalence as a result of adjustment: %s%.2f%%' %(sign, diff_prevalence))"
   ]
  },
  {
   "cell_type": "markdown",
   "metadata": {},
   "source": [
    "## 4. Prevalence of Individual Behavior Problems\n",
    "\n",
    "This section aims to calculate the prevalence for each behavior problem included in the study. The adjusted dataset is utilized to eliminate potential bias."
   ]
  },
  {
   "cell_type": "markdown",
   "metadata": {},
   "source": [
    "### 4.1 Sum and Prevalence of Individual Behavior Problems:"
   ]
  },
  {
   "cell_type": "code",
   "execution_count": 5,
   "metadata": {},
   "outputs": [
    {
     "data": {
      "application/vnd.plotly.v1+json": {
       "data": [
        {
         "cells": {
          "align": [
           "left",
           "left",
           "left",
           "left",
           "left"
          ],
          "format": [
           null,
           "d",
           ".2f"
          ],
          "values": [
           [
            "fear/anxiety",
            "aggression",
            "jumping",
            "excessive barking",
            "fecal consumption",
            "compulsion",
            "house soiling",
            "rolling in repulsive objects",
            "hyperactivity",
            "destruction",
            "escape",
            "mounting"
           ],
           [
            1647,
            1103,
            1045,
            674,
            648,
            571,
            548,
            463,
            456,
            435,
            401,
            392
           ],
           [
            43.931715124033076,
            29.42117898106162,
            27.874099759935984,
            17.978127500666844,
            17.284609229127767,
            15.230728194185117,
            14.617231261669778,
            12.349959989330488,
            12.16324353160843,
            11.60309415844225,
            10.696185649506534,
            10.456121632435316
           ]
          ]
         },
         "header": {
          "align": [
           "left",
           "left",
           "left",
           "left",
           "left"
          ],
          "fill": {
           "color": "#B0C4DE"
          },
          "values": [
           "Behavior Problem",
           "Number of Dogs",
           "Prevalence (%)"
          ]
         },
         "type": "table"
        }
       ],
       "layout": {
        "height": 450,
        "width": 700
       }
      },
      "text/html": [
       "<div id=\"3726708d-817b-4877-8bdd-b521b99aaed6\" style=\"height: 450px; width: 700px;\" class=\"plotly-graph-div\"></div><script type=\"text/javascript\">require([\"plotly\"], function(Plotly) { window.PLOTLYENV=window.PLOTLYENV || {};window.PLOTLYENV.BASE_URL=\"https://plot.ly\";Plotly.newPlot(\"3726708d-817b-4877-8bdd-b521b99aaed6\", [{\"type\": \"table\", \"header\": {\"values\": [\"Behavior Problem\", \"Number of Dogs\", \"Prevalence (%)\"], \"fill\": {\"color\": \"#B0C4DE\"}, \"align\": [\"left\", \"left\", \"left\", \"left\", \"left\"]}, \"cells\": {\"values\": [[\"fear/anxiety\", \"aggression\", \"jumping\", \"excessive barking\", \"fecal consumption\", \"compulsion\", \"house soiling\", \"rolling in repulsive objects\", \"hyperactivity\", \"destruction\", \"escape\", \"mounting\"], [1647, 1103, 1045, 674, 648, 571, 548, 463, 456, 435, 401, 392], [43.931715124033076, 29.42117898106162, 27.874099759935984, 17.978127500666844, 17.284609229127767, 15.230728194185117, 14.617231261669778, 12.349959989330488, 12.16324353160843, 11.60309415844225, 10.696185649506534, 10.456121632435316]], \"align\": [\"left\", \"left\", \"left\", \"left\", \"left\"], \"format\": [null, \"d\", \".2f\"]}}], {\"width\": 700, \"height\": 450}, {\"showLink\": true, \"linkText\": \"Export to plot.ly\"})});</script>"
      ],
      "text/vnd.plotly.v1+html": [
       "<div id=\"3726708d-817b-4877-8bdd-b521b99aaed6\" style=\"height: 450px; width: 700px;\" class=\"plotly-graph-div\"></div><script type=\"text/javascript\">require([\"plotly\"], function(Plotly) { window.PLOTLYENV=window.PLOTLYENV || {};window.PLOTLYENV.BASE_URL=\"https://plot.ly\";Plotly.newPlot(\"3726708d-817b-4877-8bdd-b521b99aaed6\", [{\"type\": \"table\", \"header\": {\"values\": [\"Behavior Problem\", \"Number of Dogs\", \"Prevalence (%)\"], \"fill\": {\"color\": \"#B0C4DE\"}, \"align\": [\"left\", \"left\", \"left\", \"left\", \"left\"]}, \"cells\": {\"values\": [[\"fear/anxiety\", \"aggression\", \"jumping\", \"excessive barking\", \"fecal consumption\", \"compulsion\", \"house soiling\", \"rolling in repulsive objects\", \"hyperactivity\", \"destruction\", \"escape\", \"mounting\"], [1647, 1103, 1045, 674, 648, 571, 548, 463, 456, 435, 401, 392], [43.931715124033076, 29.42117898106162, 27.874099759935984, 17.978127500666844, 17.284609229127767, 15.230728194185117, 14.617231261669778, 12.349959989330488, 12.16324353160843, 11.60309415844225, 10.696185649506534, 10.456121632435316]], \"align\": [\"left\", \"left\", \"left\", \"left\", \"left\"], \"format\": [null, \"d\", \".2f\"]}}], {\"width\": 700, \"height\": 450}, {\"showLink\": true, \"linkText\": \"Export to plot.ly\"})});</script>"
      ]
     },
     "metadata": {},
     "output_type": "display_data"
    }
   ],
   "source": [
    "# Create the necessary dataframe.\n",
    "query = ('SELECT question_reason_for_part_3, q02_main_1, q02_main_2, q02_main_3, '\n",
    "         'q02_main_4, q02_main_5, q02_main_6, q02_main_7, q02_main_8, q02_main_9, '\n",
    "         'q02_main_10, q02_main_12, q02_main_13 FROM users JOIN dogs '\n",
    "         'USING(record_id)')\n",
    "df = pd.read_sql_query(query, con)\n",
    "df.columns = ['suspicion', 'aggression', 'fear/anxiety', 'compulsion', 'house soiling',\n",
    "              'excessive barking', 'jumping', 'mounting', 'fecal consumption', 'destruction',\n",
    "              'rolling in repulsive objects', 'escape', 'hyperactivity']\n",
    "\n",
    "# Remove biased results and discard suspicion column.\n",
    "df = df[df['suspicion'] == '0']\n",
    "df.drop('suspicion', axis=1, inplace=True)\n",
    "\n",
    "# Convert columns to integer type.\n",
    "for col in df:\n",
    "    df[col] = pd.to_numeric(df[col])\n",
    "\n",
    "# Get individual behavior problem counts and display as a table.\n",
    "sums = df.sum()\n",
    "sums = sums.sort_values(ascending=False)\n",
    "\n",
    "# Calculate the prevalence of each behavior problem.\n",
    "total_dogs = len(df.index)\n",
    "prevalence_cal = lambda x: (x / total_dogs) * 100\n",
    "prevalences = sums.apply(prevalence_cal)\n",
    "\n",
    "# Get individual behavior problem counts and display as a table.\n",
    "trace = go.Table(\n",
    "    header=dict(values=['Behavior Problem', 'Number of Dogs', 'Prevalence (%)'],\n",
    "                fill = dict(color='#B0C4DE'),\n",
    "                align = ['left'] * 5),\n",
    "    cells=dict(values=[sums.index.values, sums.values, prevalences.values],\n",
    "               align = ['left'] * 5,\n",
    "               format = [None, 'd', '.2f']))\n",
    "data = [trace] \n",
    "layout = dict(width=700, height=450)\n",
    "fig = dict(data=data, layout=layout)\n",
    "py.iplot(fig)"
   ]
  },
  {
   "cell_type": "markdown",
   "metadata": {},
   "source": [
    "### 4.2 Prevalence of Individual Behavior Problems Presented Graphically:"
   ]
  },
  {
   "cell_type": "code",
   "execution_count": 6,
   "metadata": {},
   "outputs": [
    {
     "data": {
      "application/vnd.plotly.v1+json": {
       "data": [
        {
         "orientation": "h",
         "type": "bar",
         "x": [
          10.456121632435316,
          10.696185649506534,
          11.60309415844225,
          12.16324353160843,
          12.349959989330488,
          14.617231261669778,
          15.230728194185117,
          17.284609229127767,
          17.978127500666844,
          27.874099759935984,
          29.42117898106162,
          43.931715124033076
         ],
         "y": [
          "mounting",
          "escape",
          "destruction",
          "hyperactivity",
          "rolling in repulsive objects",
          "house soiling",
          "compulsion",
          "fecal consumption",
          "excessive barking",
          "jumping",
          "aggression",
          "fear/anxiety"
         ]
        }
       ],
       "layout": {
        "height": 500,
        "title": "Prevalence of Behavior Problems",
        "width": 700,
        "xaxis": {
         "title": "prevalence (%)"
        },
        "yaxis": {
         "automargin": true,
         "tickangle": 30,
         "tickprefix": " ",
         "ticksuffix": " ",
         "title": ""
        }
       }
      },
      "text/html": [
       "<div id=\"811c2491-af60-4974-9dbb-8898baec5130\" style=\"height: 500px; width: 700px;\" class=\"plotly-graph-div\"></div><script type=\"text/javascript\">require([\"plotly\"], function(Plotly) { window.PLOTLYENV=window.PLOTLYENV || {};window.PLOTLYENV.BASE_URL=\"https://plot.ly\";Plotly.newPlot(\"811c2491-af60-4974-9dbb-8898baec5130\", [{\"type\": \"bar\", \"x\": [10.456121632435316, 10.696185649506534, 11.60309415844225, 12.16324353160843, 12.349959989330488, 14.617231261669778, 15.230728194185117, 17.284609229127767, 17.978127500666844, 27.874099759935984, 29.42117898106162, 43.931715124033076], \"y\": [\"mounting\", \"escape\", \"destruction\", \"hyperactivity\", \"rolling in repulsive objects\", \"house soiling\", \"compulsion\", \"fecal consumption\", \"excessive barking\", \"jumping\", \"aggression\", \"fear/anxiety\"], \"orientation\": \"h\"}], {\"title\": \"Prevalence of Behavior Problems\", \"xaxis\": {\"title\": \"prevalence (%)\"}, \"yaxis\": {\"title\": \"\", \"automargin\": true, \"tickangle\": 30, \"tickprefix\": \" \", \"ticksuffix\": \" \"}, \"width\": 700, \"height\": 500}, {\"showLink\": true, \"linkText\": \"Export to plot.ly\"})});</script>"
      ],
      "text/vnd.plotly.v1+html": [
       "<div id=\"811c2491-af60-4974-9dbb-8898baec5130\" style=\"height: 500px; width: 700px;\" class=\"plotly-graph-div\"></div><script type=\"text/javascript\">require([\"plotly\"], function(Plotly) { window.PLOTLYENV=window.PLOTLYENV || {};window.PLOTLYENV.BASE_URL=\"https://plot.ly\";Plotly.newPlot(\"811c2491-af60-4974-9dbb-8898baec5130\", [{\"type\": \"bar\", \"x\": [10.456121632435316, 10.696185649506534, 11.60309415844225, 12.16324353160843, 12.349959989330488, 14.617231261669778, 15.230728194185117, 17.284609229127767, 17.978127500666844, 27.874099759935984, 29.42117898106162, 43.931715124033076], \"y\": [\"mounting\", \"escape\", \"destruction\", \"hyperactivity\", \"rolling in repulsive objects\", \"house soiling\", \"compulsion\", \"fecal consumption\", \"excessive barking\", \"jumping\", \"aggression\", \"fear/anxiety\"], \"orientation\": \"h\"}], {\"title\": \"Prevalence of Behavior Problems\", \"xaxis\": {\"title\": \"prevalence (%)\"}, \"yaxis\": {\"title\": \"\", \"automargin\": true, \"tickangle\": 30, \"tickprefix\": \" \", \"ticksuffix\": \" \"}, \"width\": 700, \"height\": 500}, {\"showLink\": true, \"linkText\": \"Export to plot.ly\"})});</script>"
      ]
     },
     "metadata": {},
     "output_type": "display_data"
    }
   ],
   "source": [
    "prevalences = prevalences.sort_values(ascending=True)\n",
    "trace = go.Bar(\n",
    "    x=prevalences.values,\n",
    "    y=prevalences.index.values,\n",
    "    orientation='h')\n",
    "data = [trace]\n",
    "layout = go.Layout(title='Prevalence of Behavior Problems',\n",
    "                   xaxis=dict(title='prevalence (%)'),\n",
    "                   yaxis=dict(title='',\n",
    "                              automargin=True,\n",
    "                              tickangle=30,\n",
    "                              tickprefix=' ',\n",
    "                              ticksuffix=' '),\n",
    "                   width=700,\n",
    "                   height=500\n",
    "                  )\n",
    "fig = dict(data=data, layout=layout)\n",
    "py.iplot(fig)"
   ]
  },
  {
   "cell_type": "markdown",
   "metadata": {},
   "source": [
    "## 5. Behavior Problem Compositions"
   ]
  },
  {
   "cell_type": "markdown",
   "metadata": {},
   "source": [
    "### 5.1 Types of Aggression"
   ]
  },
  {
   "cell_type": "code",
   "execution_count": 7,
   "metadata": {},
   "outputs": [
    {
     "data": {
      "application/vnd.plotly.v1+json": {
       "data": [
        {
         "cells": {
          "align": [
           "left",
           "left",
           "left",
           "left",
           "left"
          ],
          "format": [
           null,
           "d",
           ".2f"
          ],
          "values": [
           [
            "unfamilair dogs on walks (on lead)",
            "another dog in the home",
            "stangers visiting the home",
            "unfamilair dogs on walks (off lead)",
            "unfamiliar dogs visiting the home",
            "stangers away from the home",
            "familiar people in the home",
            "animals other than dogs in the home",
            "veterinarians",
            "groomers",
            "trainers"
           ],
           [
            602,
            387,
            351,
            333,
            329,
            290,
            257,
            149,
            140,
            47,
            29
           ],
           [
            16.057615364097092,
            10.322752734062417,
            9.36249666577754,
            8.882368631635103,
            8.775673512936784,
            7.735396105628167,
            6.855161376367032,
            3.9743931715124035,
            3.734329154441184,
            1.2536676447052548,
            0.7735396105628167
           ]
          ]
         },
         "columnwidth": [
          200,
          100,
          100
         ],
         "header": {
          "align": [
           "left",
           "left",
           "left",
           "left",
           "left"
          ],
          "fill": {
           "color": "#B0C4DE"
          },
          "values": [
           "Type of Aggression",
           "Number of Dogs",
           "Prevalence (%)"
          ]
         },
         "type": "table"
        }
       ],
       "layout": {}
      },
      "text/html": [
       "<div id=\"86580d81-3bf4-452d-8854-addf56dd1f02\" style=\"height: 525px; width: 100%;\" class=\"plotly-graph-div\"></div><script type=\"text/javascript\">require([\"plotly\"], function(Plotly) { window.PLOTLYENV=window.PLOTLYENV || {};window.PLOTLYENV.BASE_URL=\"https://plot.ly\";Plotly.newPlot(\"86580d81-3bf4-452d-8854-addf56dd1f02\", [{\"type\": \"table\", \"columnwidth\": [200, 100, 100], \"header\": {\"values\": [\"Type of Aggression\", \"Number of Dogs\", \"Prevalence (%)\"], \"fill\": {\"color\": \"#B0C4DE\"}, \"align\": [\"left\", \"left\", \"left\", \"left\", \"left\"]}, \"cells\": {\"values\": [[\"unfamilair dogs on walks (on lead)\", \"another dog in the home\", \"stangers visiting the home\", \"unfamilair dogs on walks (off lead)\", \"unfamiliar dogs visiting the home\", \"stangers away from the home\", \"familiar people in the home\", \"animals other than dogs in the home\", \"veterinarians\", \"groomers\", \"trainers\"], [602, 387, 351, 333, 329, 290, 257, 149, 140, 47, 29], [16.057615364097092, 10.322752734062417, 9.36249666577754, 8.882368631635103, 8.775673512936784, 7.735396105628167, 6.855161376367032, 3.9743931715124035, 3.734329154441184, 1.2536676447052548, 0.7735396105628167]], \"align\": [\"left\", \"left\", \"left\", \"left\", \"left\"], \"format\": [null, \"d\", \".2f\"]}}], {}, {\"showLink\": true, \"linkText\": \"Export to plot.ly\"})});</script>"
      ],
      "text/vnd.plotly.v1+html": [
       "<div id=\"86580d81-3bf4-452d-8854-addf56dd1f02\" style=\"height: 525px; width: 100%;\" class=\"plotly-graph-div\"></div><script type=\"text/javascript\">require([\"plotly\"], function(Plotly) { window.PLOTLYENV=window.PLOTLYENV || {};window.PLOTLYENV.BASE_URL=\"https://plot.ly\";Plotly.newPlot(\"86580d81-3bf4-452d-8854-addf56dd1f02\", [{\"type\": \"table\", \"columnwidth\": [200, 100, 100], \"header\": {\"values\": [\"Type of Aggression\", \"Number of Dogs\", \"Prevalence (%)\"], \"fill\": {\"color\": \"#B0C4DE\"}, \"align\": [\"left\", \"left\", \"left\", \"left\", \"left\"]}, \"cells\": {\"values\": [[\"unfamilair dogs on walks (on lead)\", \"another dog in the home\", \"stangers visiting the home\", \"unfamilair dogs on walks (off lead)\", \"unfamiliar dogs visiting the home\", \"stangers away from the home\", \"familiar people in the home\", \"animals other than dogs in the home\", \"veterinarians\", \"groomers\", \"trainers\"], [602, 387, 351, 333, 329, 290, 257, 149, 140, 47, 29], [16.057615364097092, 10.322752734062417, 9.36249666577754, 8.882368631635103, 8.775673512936784, 7.735396105628167, 6.855161376367032, 3.9743931715124035, 3.734329154441184, 1.2536676447052548, 0.7735396105628167]], \"align\": [\"left\", \"left\", \"left\", \"left\", \"left\"], \"format\": [null, \"d\", \".2f\"]}}], {}, {\"showLink\": true, \"linkText\": \"Export to plot.ly\"})});</script>"
      ]
     },
     "metadata": {},
     "output_type": "display_data"
    }
   ],
   "source": [
    "# Create the necessary dataframe.\n",
    "query = ('SELECT question_reason_for_part_3, q03_main_1, q03_main_2, q03_main_3, '\n",
    "         'q03_main_4, q03_main_5, q03_main_6, q03_main_7, q03_main_8, q03_main_9, '\n",
    "         'q03_main_10, q03_main_11 FROM users JOIN dogs '\n",
    "         'USING(record_id)')\n",
    "df = pd.read_sql_query(query, con)\n",
    "df.columns = ['suspicion', 'familiar people in the home', 'stangers visiting the home',\n",
    "              'stangers away from the home', 'another dog in the home',\n",
    "              'unfamiliar dogs visiting the home', 'unfamilair dogs on walks (off lead)',\n",
    "              'unfamilair dogs on walks (on lead)', 'veterinarians', 'trainers', 'groomers',\n",
    "              'animals other than dogs in the home']\n",
    "\n",
    "# Remove biased results and discard suspicion column.\n",
    "df = df[df['suspicion'] == '0']\n",
    "df.drop('suspicion', axis=1, inplace=True)\n",
    "\n",
    "# Convert columns to integer type.\n",
    "for col in df:\n",
    "    df[col] = pd.to_numeric(df[col])\n",
    "\n",
    "# Get individual behavior problem counts and display as a table.\n",
    "sums = df.sum()\n",
    "sums = sums.sort_values(ascending=False)\n",
    "\n",
    "# Calculate the prevalence of each behavior problem.\n",
    "prevalence_cal = lambda x: (x / total_dogs) * 100\n",
    "prevalences = sums.apply(prevalence_cal)\n",
    "\n",
    "# Get individual behavior problem counts and display as a table.\n",
    "trace = go.Table(\n",
    "    columnwidth = [200, 100, 100],\n",
    "    header=dict(values=['Type of Aggression', 'Number of Dogs', 'Prevalence (%)'],\n",
    "                fill = dict(color='#B0C4DE'),\n",
    "                align = ['left'] * 5),\n",
    "    cells=dict(values=[sums.index.values, sums.values, prevalences.values],\n",
    "               align = ['left'] * 5,\n",
    "               format = [None, 'd', '.2f']))\n",
    "data = [trace] \n",
    "py.iplot(data)"
   ]
  },
  {
   "cell_type": "code",
   "execution_count": 8,
   "metadata": {},
   "outputs": [
    {
     "data": {
      "application/vnd.plotly.v1+json": {
       "data": [
        {
         "orientation": "h",
         "type": "bar",
         "x": [
          0.7735396105628167,
          1.2536676447052548,
          3.734329154441184,
          3.9743931715124035,
          6.855161376367032,
          7.735396105628167,
          8.775673512936784,
          8.882368631635103,
          9.36249666577754,
          10.322752734062417,
          16.057615364097092
         ],
         "y": [
          "trainers",
          "groomers",
          "veterinarians",
          "animals other than dogs in the home",
          "familiar people in the home",
          "stangers away from the home",
          "unfamiliar dogs visiting the home",
          "unfamilair dogs on walks (off lead)",
          "stangers visiting the home",
          "another dog in the home",
          "unfamilair dogs on walks (on lead)"
         ]
        }
       ],
       "layout": {
        "height": 500,
        "title": "Prevalence of Aggression",
        "width": 700,
        "xaxis": {
         "title": "prevalence (%)"
        },
        "yaxis": {
         "automargin": true,
         "tickangle": 30,
         "tickprefix": " ",
         "ticksuffix": " ",
         "title": ""
        }
       }
      },
      "text/html": [
       "<div id=\"f7796bd2-d8a8-4e19-b154-d4a64a779663\" style=\"height: 500px; width: 700px;\" class=\"plotly-graph-div\"></div><script type=\"text/javascript\">require([\"plotly\"], function(Plotly) { window.PLOTLYENV=window.PLOTLYENV || {};window.PLOTLYENV.BASE_URL=\"https://plot.ly\";Plotly.newPlot(\"f7796bd2-d8a8-4e19-b154-d4a64a779663\", [{\"type\": \"bar\", \"x\": [0.7735396105628167, 1.2536676447052548, 3.734329154441184, 3.9743931715124035, 6.855161376367032, 7.735396105628167, 8.775673512936784, 8.882368631635103, 9.36249666577754, 10.322752734062417, 16.057615364097092], \"y\": [\"trainers\", \"groomers\", \"veterinarians\", \"animals other than dogs in the home\", \"familiar people in the home\", \"stangers away from the home\", \"unfamiliar dogs visiting the home\", \"unfamilair dogs on walks (off lead)\", \"stangers visiting the home\", \"another dog in the home\", \"unfamilair dogs on walks (on lead)\"], \"orientation\": \"h\"}], {\"title\": \"Prevalence of Aggression\", \"xaxis\": {\"title\": \"prevalence (%)\"}, \"yaxis\": {\"title\": \"\", \"automargin\": true, \"tickangle\": 30, \"tickprefix\": \" \", \"ticksuffix\": \" \"}, \"width\": 700, \"height\": 500}, {\"showLink\": true, \"linkText\": \"Export to plot.ly\"})});</script>"
      ],
      "text/vnd.plotly.v1+html": [
       "<div id=\"f7796bd2-d8a8-4e19-b154-d4a64a779663\" style=\"height: 500px; width: 700px;\" class=\"plotly-graph-div\"></div><script type=\"text/javascript\">require([\"plotly\"], function(Plotly) { window.PLOTLYENV=window.PLOTLYENV || {};window.PLOTLYENV.BASE_URL=\"https://plot.ly\";Plotly.newPlot(\"f7796bd2-d8a8-4e19-b154-d4a64a779663\", [{\"type\": \"bar\", \"x\": [0.7735396105628167, 1.2536676447052548, 3.734329154441184, 3.9743931715124035, 6.855161376367032, 7.735396105628167, 8.775673512936784, 8.882368631635103, 9.36249666577754, 10.322752734062417, 16.057615364097092], \"y\": [\"trainers\", \"groomers\", \"veterinarians\", \"animals other than dogs in the home\", \"familiar people in the home\", \"stangers away from the home\", \"unfamiliar dogs visiting the home\", \"unfamilair dogs on walks (off lead)\", \"stangers visiting the home\", \"another dog in the home\", \"unfamilair dogs on walks (on lead)\"], \"orientation\": \"h\"}], {\"title\": \"Prevalence of Aggression\", \"xaxis\": {\"title\": \"prevalence (%)\"}, \"yaxis\": {\"title\": \"\", \"automargin\": true, \"tickangle\": 30, \"tickprefix\": \" \", \"ticksuffix\": \" \"}, \"width\": 700, \"height\": 500}, {\"showLink\": true, \"linkText\": \"Export to plot.ly\"})});</script>"
      ]
     },
     "metadata": {},
     "output_type": "display_data"
    }
   ],
   "source": [
    "# Generate a bar graph.\n",
    "prevalences = prevalences.sort_values(ascending=True)\n",
    "trace = go.Bar(\n",
    "    x=prevalences.values,\n",
    "    y=prevalences.index.values,\n",
    "    orientation='h')\n",
    "data = [trace]\n",
    "layout = go.Layout(title='Prevalence of Aggression',\n",
    "                   xaxis=dict(title='prevalence (%)'),\n",
    "                   yaxis=dict(title='',\n",
    "                              automargin=True,\n",
    "                              tickangle=30,\n",
    "                              tickprefix=' ',\n",
    "                              ticksuffix=' '),\n",
    "                   width=700,\n",
    "                   height=500\n",
    "                  )\n",
    "fig = dict(data=data, layout=layout)\n",
    "py.iplot(fig)"
   ]
  },
  {
   "cell_type": "markdown",
   "metadata": {},
   "source": [
    "### 5.2 Types of Fear/Anxiety"
   ]
  },
  {
   "cell_type": "code",
   "execution_count": 9,
   "metadata": {},
   "outputs": [
    {
     "data": {
      "application/vnd.plotly.v1+json": {
       "data": [
        {
         "cells": {
          "align": [
           "left",
           "left",
           "left",
           "left",
           "left"
          ],
          "format": [
           null,
           "d",
           ".2f"
          ],
          "values": [
           [
            "crowd phobia",
            "situational anxiety",
            "noise phobia",
            "veterinarian phobia",
            "thunderstorm phobia",
            "separation anxiety",
            "travel anxiety",
            "phobia of other dogs",
            "general anxiety",
            "other",
            "PTSD"
           ],
           [
            703,
            664,
            652,
            623,
            524,
            485,
            387,
            382,
            321,
            202,
            158
           ],
           [
            18.75166711122966,
            17.711389703921046,
            17.391304347826086,
            16.617764737263272,
            13.97706054947986,
            12.936783142171246,
            10.322752734062417,
            10.189383835689517,
            8.562283275540144,
            5.388103494265137,
            4.214457188583622
           ]
          ]
         },
         "columnwidth": [
          200,
          100,
          100
         ],
         "header": {
          "align": [
           "left",
           "left",
           "left",
           "left",
           "left"
          ],
          "fill": {
           "color": "#B0C4DE"
          },
          "values": [
           "Type of Fear/Anxiety",
           "Number of Dogs",
           "Prevalence (%)"
          ]
         },
         "type": "table"
        }
       ],
       "layout": {}
      },
      "text/html": [
       "<div id=\"b4ad58fc-276f-41b9-9253-fcb93b45fb04\" style=\"height: 525px; width: 100%;\" class=\"plotly-graph-div\"></div><script type=\"text/javascript\">require([\"plotly\"], function(Plotly) { window.PLOTLYENV=window.PLOTLYENV || {};window.PLOTLYENV.BASE_URL=\"https://plot.ly\";Plotly.newPlot(\"b4ad58fc-276f-41b9-9253-fcb93b45fb04\", [{\"type\": \"table\", \"columnwidth\": [200, 100, 100], \"header\": {\"values\": [\"Type of Fear/Anxiety\", \"Number of Dogs\", \"Prevalence (%)\"], \"fill\": {\"color\": \"#B0C4DE\"}, \"align\": [\"left\", \"left\", \"left\", \"left\", \"left\"]}, \"cells\": {\"values\": [[\"crowd phobia\", \"situational anxiety\", \"noise phobia\", \"veterinarian phobia\", \"thunderstorm phobia\", \"separation anxiety\", \"travel anxiety\", \"phobia of other dogs\", \"general anxiety\", \"other\", \"PTSD\"], [703, 664, 652, 623, 524, 485, 387, 382, 321, 202, 158], [18.75166711122966, 17.711389703921046, 17.391304347826086, 16.617764737263272, 13.97706054947986, 12.936783142171246, 10.322752734062417, 10.189383835689517, 8.562283275540144, 5.388103494265137, 4.214457188583622]], \"align\": [\"left\", \"left\", \"left\", \"left\", \"left\"], \"format\": [null, \"d\", \".2f\"]}}], {}, {\"showLink\": true, \"linkText\": \"Export to plot.ly\"})});</script>"
      ],
      "text/vnd.plotly.v1+html": [
       "<div id=\"b4ad58fc-276f-41b9-9253-fcb93b45fb04\" style=\"height: 525px; width: 100%;\" class=\"plotly-graph-div\"></div><script type=\"text/javascript\">require([\"plotly\"], function(Plotly) { window.PLOTLYENV=window.PLOTLYENV || {};window.PLOTLYENV.BASE_URL=\"https://plot.ly\";Plotly.newPlot(\"b4ad58fc-276f-41b9-9253-fcb93b45fb04\", [{\"type\": \"table\", \"columnwidth\": [200, 100, 100], \"header\": {\"values\": [\"Type of Fear/Anxiety\", \"Number of Dogs\", \"Prevalence (%)\"], \"fill\": {\"color\": \"#B0C4DE\"}, \"align\": [\"left\", \"left\", \"left\", \"left\", \"left\"]}, \"cells\": {\"values\": [[\"crowd phobia\", \"situational anxiety\", \"noise phobia\", \"veterinarian phobia\", \"thunderstorm phobia\", \"separation anxiety\", \"travel anxiety\", \"phobia of other dogs\", \"general anxiety\", \"other\", \"PTSD\"], [703, 664, 652, 623, 524, 485, 387, 382, 321, 202, 158], [18.75166711122966, 17.711389703921046, 17.391304347826086, 16.617764737263272, 13.97706054947986, 12.936783142171246, 10.322752734062417, 10.189383835689517, 8.562283275540144, 5.388103494265137, 4.214457188583622]], \"align\": [\"left\", \"left\", \"left\", \"left\", \"left\"], \"format\": [null, \"d\", \".2f\"]}}], {}, {\"showLink\": true, \"linkText\": \"Export to plot.ly\"})});</script>"
      ]
     },
     "metadata": {},
     "output_type": "display_data"
    }
   ],
   "source": [
    "# Create the necessary dataframe.\n",
    "query = ('SELECT question_reason_for_part_3, q04_1, q04_2, q04_3, q04_4, q04_5, q04_6, '\n",
    "         'q04_7, q04_8, q04_9, q04_10, q04_11 FROM users JOIN dogs USING(record_id)')\n",
    "df = pd.read_sql_query(query, con)\n",
    "df.columns = ['suspicion', 'thunderstorm phobia', 'noise phobia', 'crowd phobia',\n",
    "              'phobia of other dogs', 'PTSD',\n",
    "              'general anxiety', 'situational anxiety', 'veterinarian phobia',\n",
    "              'separation anxiety', 'travel anxiety', 'other']\n",
    "\n",
    "# Remove biased results and discard suspicion column.\n",
    "df = df[df['suspicion'] == '0']\n",
    "df.drop('suspicion', axis=1, inplace=True)\n",
    "\n",
    "# Convert columns to integer type.\n",
    "for col in df:\n",
    "    df[col] = pd.to_numeric(df[col])\n",
    "\n",
    "# Get individual behavior problem counts and display as a table.\n",
    "sums = df.sum()\n",
    "sums = sums.sort_values(ascending=False)\n",
    "\n",
    "# Calculate the prevalence of each behavior problem.\n",
    "prevalence_cal = lambda x: (x / total_dogs) * 100\n",
    "prevalences = sums.apply(prevalence_cal)\n",
    "\n",
    "# Get individual behavior problem counts and display as a table.\n",
    "trace = go.Table(\n",
    "    columnwidth = [200, 100, 100],\n",
    "    header=dict(values=['Type of Fear/Anxiety', 'Number of Dogs', 'Prevalence (%)'],\n",
    "                fill = dict(color='#B0C4DE'),\n",
    "                align = ['left'] * 5),\n",
    "    cells=dict(values=[sums.index.values, sums.values, prevalences.values],\n",
    "               align = ['left'] * 5,\n",
    "               format = [None, 'd', '.2f']))\n",
    "data = [trace] \n",
    "py.iplot(data)"
   ]
  },
  {
   "cell_type": "code",
   "execution_count": 10,
   "metadata": {},
   "outputs": [
    {
     "data": {
      "application/vnd.plotly.v1+json": {
       "data": [
        {
         "orientation": "h",
         "type": "bar",
         "x": [
          4.214457188583622,
          5.388103494265137,
          8.562283275540144,
          10.189383835689517,
          10.322752734062417,
          12.936783142171246,
          13.97706054947986,
          16.617764737263272,
          17.391304347826086,
          17.711389703921046,
          18.75166711122966
         ],
         "y": [
          "PTSD",
          "other",
          "general anxiety",
          "phobia of other dogs",
          "travel anxiety",
          "separation anxiety",
          "thunderstorm phobia",
          "veterinarian phobia",
          "noise phobia",
          "situational anxiety",
          "crowd phobia"
         ]
        }
       ],
       "layout": {
        "height": 500,
        "title": "Prevalence of Fear/Anxiety",
        "width": 700,
        "xaxis": {
         "title": "prevalence (%)"
        },
        "yaxis": {
         "automargin": true,
         "tickangle": 30,
         "tickprefix": " ",
         "ticksuffix": " ",
         "title": ""
        }
       }
      },
      "text/html": [
       "<div id=\"09bce01e-3e87-467d-9fa2-70b2fba9dd02\" style=\"height: 500px; width: 700px;\" class=\"plotly-graph-div\"></div><script type=\"text/javascript\">require([\"plotly\"], function(Plotly) { window.PLOTLYENV=window.PLOTLYENV || {};window.PLOTLYENV.BASE_URL=\"https://plot.ly\";Plotly.newPlot(\"09bce01e-3e87-467d-9fa2-70b2fba9dd02\", [{\"type\": \"bar\", \"x\": [4.214457188583622, 5.388103494265137, 8.562283275540144, 10.189383835689517, 10.322752734062417, 12.936783142171246, 13.97706054947986, 16.617764737263272, 17.391304347826086, 17.711389703921046, 18.75166711122966], \"y\": [\"PTSD\", \"other\", \"general anxiety\", \"phobia of other dogs\", \"travel anxiety\", \"separation anxiety\", \"thunderstorm phobia\", \"veterinarian phobia\", \"noise phobia\", \"situational anxiety\", \"crowd phobia\"], \"orientation\": \"h\"}], {\"title\": \"Prevalence of Fear/Anxiety\", \"xaxis\": {\"title\": \"prevalence (%)\"}, \"yaxis\": {\"title\": \"\", \"automargin\": true, \"tickangle\": 30, \"tickprefix\": \" \", \"ticksuffix\": \" \"}, \"width\": 700, \"height\": 500}, {\"showLink\": true, \"linkText\": \"Export to plot.ly\"})});</script>"
      ],
      "text/vnd.plotly.v1+html": [
       "<div id=\"09bce01e-3e87-467d-9fa2-70b2fba9dd02\" style=\"height: 500px; width: 700px;\" class=\"plotly-graph-div\"></div><script type=\"text/javascript\">require([\"plotly\"], function(Plotly) { window.PLOTLYENV=window.PLOTLYENV || {};window.PLOTLYENV.BASE_URL=\"https://plot.ly\";Plotly.newPlot(\"09bce01e-3e87-467d-9fa2-70b2fba9dd02\", [{\"type\": \"bar\", \"x\": [4.214457188583622, 5.388103494265137, 8.562283275540144, 10.189383835689517, 10.322752734062417, 12.936783142171246, 13.97706054947986, 16.617764737263272, 17.391304347826086, 17.711389703921046, 18.75166711122966], \"y\": [\"PTSD\", \"other\", \"general anxiety\", \"phobia of other dogs\", \"travel anxiety\", \"separation anxiety\", \"thunderstorm phobia\", \"veterinarian phobia\", \"noise phobia\", \"situational anxiety\", \"crowd phobia\"], \"orientation\": \"h\"}], {\"title\": \"Prevalence of Fear/Anxiety\", \"xaxis\": {\"title\": \"prevalence (%)\"}, \"yaxis\": {\"title\": \"\", \"automargin\": true, \"tickangle\": 30, \"tickprefix\": \" \", \"ticksuffix\": \" \"}, \"width\": 700, \"height\": 500}, {\"showLink\": true, \"linkText\": \"Export to plot.ly\"})});</script>"
      ]
     },
     "metadata": {},
     "output_type": "display_data"
    }
   ],
   "source": [
    "# Generate a bar graph.\n",
    "prevalences = prevalences.sort_values(ascending=True)\n",
    "trace = go.Bar(\n",
    "    x=prevalences.values,\n",
    "    y=prevalences.index.values,\n",
    "    orientation='h')\n",
    "data = [trace]\n",
    "layout = go.Layout(title='Prevalence of Fear/Anxiety',\n",
    "                   xaxis=dict(title='prevalence (%)'),\n",
    "                   yaxis=dict(title='',\n",
    "                              automargin=True,\n",
    "                              tickangle=30,\n",
    "                              tickprefix=' ',\n",
    "                              ticksuffix=' '),\n",
    "                   width=700,\n",
    "                   height=500\n",
    "                  )\n",
    "fig = dict(data=data, layout=layout)\n",
    "py.iplot(fig)"
   ]
  },
  {
   "cell_type": "markdown",
   "metadata": {},
   "source": [
    "### 5.3 Types of Compulsion"
   ]
  },
  {
   "cell_type": "code",
   "execution_count": 11,
   "metadata": {},
   "outputs": [
    {
     "data": {
      "application/vnd.plotly.v1+json": {
       "data": [
        {
         "cells": {
          "align": [
           "left",
           "left",
           "left",
           "left",
           "left"
          ],
          "format": [
           null,
           "d",
           ".2f"
          ],
          "values": [
           [
            "licking of wrist/hock",
            "tail chasing",
            "digging in yard",
            "other",
            "tennis ball fetish",
            "spinning",
            "nail biting",
            "shadow/light chasing",
            "sucking flank region/blankets",
            "running in geometric patterns",
            "collecting/arranging objects",
            "stone/rock chewing",
            "fly snapping"
           ],
           [
            293,
            114,
            94,
            87,
            72,
            71,
            67,
            59,
            52,
            36,
            33,
            27,
            21
           ],
           [
            7.815417444651908,
            3.0408108829021074,
            2.5073352894105096,
            2.32061883168845,
            1.920512136569752,
            1.8938383568951722,
            1.7871432381968526,
            1.5737530008002134,
            1.3870365430781542,
            0.960256068284876,
            0.8802347292611362,
            0.720192051213657,
            0.5601493731661776
           ]
          ]
         },
         "columnwidth": [
          200,
          100,
          100
         ],
         "header": {
          "align": [
           "left",
           "left",
           "left",
           "left",
           "left"
          ],
          "fill": {
           "color": "#B0C4DE"
          },
          "values": [
           "Type of Compulsion",
           "Number of Dogs",
           "Prevalence (%)"
          ]
         },
         "type": "table"
        }
       ],
       "layout": {}
      },
      "text/html": [
       "<div id=\"bc800121-eb74-4b97-85cd-4b85ceed6518\" style=\"height: 525px; width: 100%;\" class=\"plotly-graph-div\"></div><script type=\"text/javascript\">require([\"plotly\"], function(Plotly) { window.PLOTLYENV=window.PLOTLYENV || {};window.PLOTLYENV.BASE_URL=\"https://plot.ly\";Plotly.newPlot(\"bc800121-eb74-4b97-85cd-4b85ceed6518\", [{\"type\": \"table\", \"columnwidth\": [200, 100, 100], \"header\": {\"values\": [\"Type of Compulsion\", \"Number of Dogs\", \"Prevalence (%)\"], \"fill\": {\"color\": \"#B0C4DE\"}, \"align\": [\"left\", \"left\", \"left\", \"left\", \"left\"]}, \"cells\": {\"values\": [[\"licking of wrist/hock\", \"tail chasing\", \"digging in yard\", \"other\", \"tennis ball fetish\", \"spinning\", \"nail biting\", \"shadow/light chasing\", \"sucking flank region/blankets\", \"running in geometric patterns\", \"collecting/arranging objects\", \"stone/rock chewing\", \"fly snapping\"], [293, 114, 94, 87, 72, 71, 67, 59, 52, 36, 33, 27, 21], [7.815417444651908, 3.0408108829021074, 2.5073352894105096, 2.32061883168845, 1.920512136569752, 1.8938383568951722, 1.7871432381968526, 1.5737530008002134, 1.3870365430781542, 0.960256068284876, 0.8802347292611362, 0.720192051213657, 0.5601493731661776]], \"align\": [\"left\", \"left\", \"left\", \"left\", \"left\"], \"format\": [null, \"d\", \".2f\"]}}], {}, {\"showLink\": true, \"linkText\": \"Export to plot.ly\"})});</script>"
      ],
      "text/vnd.plotly.v1+html": [
       "<div id=\"bc800121-eb74-4b97-85cd-4b85ceed6518\" style=\"height: 525px; width: 100%;\" class=\"plotly-graph-div\"></div><script type=\"text/javascript\">require([\"plotly\"], function(Plotly) { window.PLOTLYENV=window.PLOTLYENV || {};window.PLOTLYENV.BASE_URL=\"https://plot.ly\";Plotly.newPlot(\"bc800121-eb74-4b97-85cd-4b85ceed6518\", [{\"type\": \"table\", \"columnwidth\": [200, 100, 100], \"header\": {\"values\": [\"Type of Compulsion\", \"Number of Dogs\", \"Prevalence (%)\"], \"fill\": {\"color\": \"#B0C4DE\"}, \"align\": [\"left\", \"left\", \"left\", \"left\", \"left\"]}, \"cells\": {\"values\": [[\"licking of wrist/hock\", \"tail chasing\", \"digging in yard\", \"other\", \"tennis ball fetish\", \"spinning\", \"nail biting\", \"shadow/light chasing\", \"sucking flank region/blankets\", \"running in geometric patterns\", \"collecting/arranging objects\", \"stone/rock chewing\", \"fly snapping\"], [293, 114, 94, 87, 72, 71, 67, 59, 52, 36, 33, 27, 21], [7.815417444651908, 3.0408108829021074, 2.5073352894105096, 2.32061883168845, 1.920512136569752, 1.8938383568951722, 1.7871432381968526, 1.5737530008002134, 1.3870365430781542, 0.960256068284876, 0.8802347292611362, 0.720192051213657, 0.5601493731661776]], \"align\": [\"left\", \"left\", \"left\", \"left\", \"left\"], \"format\": [null, \"d\", \".2f\"]}}], {}, {\"showLink\": true, \"linkText\": \"Export to plot.ly\"})});</script>"
      ]
     },
     "metadata": {},
     "output_type": "display_data"
    }
   ],
   "source": [
    "# Create the necessary dataframe.\n",
    "query = ('SELECT question_reason_for_part_3, q05_main_1, q05_main_2, q05_main_3, '\n",
    "         'q05_main_4, q05_main_5, q05_main_6, q05_main_7, q05_main_8, q05_main_9, '\n",
    "         'q05_main_10, q05_main_11, q05_main_12, q05_main_13 FROM users JOIN dogs '\n",
    "         'USING(record_id)')\n",
    "df = pd.read_sql_query(query, con)\n",
    "df.columns = ['suspicion', 'spinning', 'tail chasing', 'shadow/light chasing',\n",
    "              'running in geometric patterns', 'licking of wrist/hock', 'fly snapping',\n",
    "              'sucking flank region/blankets', 'tennis ball fetish',\n",
    "              'collecting/arranging objects', 'nail biting', 'digging in yard',\n",
    "              'stone/rock chewing', 'other']\n",
    "\n",
    "# Remove biased results and discard suspicion column.\n",
    "df = df[df['suspicion'] == '0']\n",
    "df.drop('suspicion', axis=1, inplace=True)\n",
    "\n",
    "# Convert columns to integer type.\n",
    "for col in df:\n",
    "    df[col] = pd.to_numeric(df[col])\n",
    "\n",
    "# Get individual behavior problem counts and display as a table.\n",
    "sums = df.sum()\n",
    "sums = sums.sort_values(ascending=False)\n",
    "\n",
    "# Calculate the prevalence of each behavior problem.\n",
    "prevalence_cal = lambda x: (x / total_dogs) * 100\n",
    "prevalences = sums.apply(prevalence_cal)\n",
    "\n",
    "# Get individual behavior problem counts and display as a table.\n",
    "trace = go.Table(\n",
    "    columnwidth = [200, 100, 100],\n",
    "    header=dict(values=['Type of Compulsion', 'Number of Dogs', 'Prevalence (%)'],\n",
    "                fill = dict(color='#B0C4DE'),\n",
    "                align = ['left'] * 5),\n",
    "    cells=dict(values=[sums.index.values, sums.values, prevalences.values],\n",
    "               align = ['left'] * 5,\n",
    "               format = [None, 'd', '.2f']))\n",
    "data = [trace] \n",
    "py.iplot(data)"
   ]
  },
  {
   "cell_type": "code",
   "execution_count": 12,
   "metadata": {},
   "outputs": [
    {
     "data": {
      "application/vnd.plotly.v1+json": {
       "data": [
        {
         "orientation": "h",
         "type": "bar",
         "x": [
          0.5601493731661776,
          0.720192051213657,
          0.8802347292611362,
          0.960256068284876,
          1.3870365430781542,
          1.5737530008002134,
          1.7871432381968526,
          1.8938383568951722,
          1.920512136569752,
          2.32061883168845,
          2.5073352894105096,
          3.0408108829021074,
          7.815417444651908
         ],
         "y": [
          "fly snapping",
          "stone/rock chewing",
          "collecting/arranging objects",
          "running in geometric patterns",
          "sucking flank region/blankets",
          "shadow/light chasing",
          "nail biting",
          "spinning",
          "tennis ball fetish",
          "other",
          "digging in yard",
          "tail chasing",
          "licking of wrist/hock"
         ]
        }
       ],
       "layout": {
        "height": 500,
        "title": "Prevalence of Compulsion",
        "width": 700,
        "xaxis": {
         "title": "prevalence (%)"
        },
        "yaxis": {
         "automargin": true,
         "tickangle": 30,
         "tickprefix": " ",
         "ticksuffix": " ",
         "title": ""
        }
       }
      },
      "text/html": [
       "<div id=\"4eec4bcb-3627-41e8-978f-54217bfd767b\" style=\"height: 500px; width: 700px;\" class=\"plotly-graph-div\"></div><script type=\"text/javascript\">require([\"plotly\"], function(Plotly) { window.PLOTLYENV=window.PLOTLYENV || {};window.PLOTLYENV.BASE_URL=\"https://plot.ly\";Plotly.newPlot(\"4eec4bcb-3627-41e8-978f-54217bfd767b\", [{\"type\": \"bar\", \"x\": [0.5601493731661776, 0.720192051213657, 0.8802347292611362, 0.960256068284876, 1.3870365430781542, 1.5737530008002134, 1.7871432381968526, 1.8938383568951722, 1.920512136569752, 2.32061883168845, 2.5073352894105096, 3.0408108829021074, 7.815417444651908], \"y\": [\"fly snapping\", \"stone/rock chewing\", \"collecting/arranging objects\", \"running in geometric patterns\", \"sucking flank region/blankets\", \"shadow/light chasing\", \"nail biting\", \"spinning\", \"tennis ball fetish\", \"other\", \"digging in yard\", \"tail chasing\", \"licking of wrist/hock\"], \"orientation\": \"h\"}], {\"title\": \"Prevalence of Compulsion\", \"xaxis\": {\"title\": \"prevalence (%)\"}, \"yaxis\": {\"title\": \"\", \"automargin\": true, \"tickangle\": 30, \"tickprefix\": \" \", \"ticksuffix\": \" \"}, \"width\": 700, \"height\": 500}, {\"showLink\": true, \"linkText\": \"Export to plot.ly\"})});</script>"
      ],
      "text/vnd.plotly.v1+html": [
       "<div id=\"4eec4bcb-3627-41e8-978f-54217bfd767b\" style=\"height: 500px; width: 700px;\" class=\"plotly-graph-div\"></div><script type=\"text/javascript\">require([\"plotly\"], function(Plotly) { window.PLOTLYENV=window.PLOTLYENV || {};window.PLOTLYENV.BASE_URL=\"https://plot.ly\";Plotly.newPlot(\"4eec4bcb-3627-41e8-978f-54217bfd767b\", [{\"type\": \"bar\", \"x\": [0.5601493731661776, 0.720192051213657, 0.8802347292611362, 0.960256068284876, 1.3870365430781542, 1.5737530008002134, 1.7871432381968526, 1.8938383568951722, 1.920512136569752, 2.32061883168845, 2.5073352894105096, 3.0408108829021074, 7.815417444651908], \"y\": [\"fly snapping\", \"stone/rock chewing\", \"collecting/arranging objects\", \"running in geometric patterns\", \"sucking flank region/blankets\", \"shadow/light chasing\", \"nail biting\", \"spinning\", \"tennis ball fetish\", \"other\", \"digging in yard\", \"tail chasing\", \"licking of wrist/hock\"], \"orientation\": \"h\"}], {\"title\": \"Prevalence of Compulsion\", \"xaxis\": {\"title\": \"prevalence (%)\"}, \"yaxis\": {\"title\": \"\", \"automargin\": true, \"tickangle\": 30, \"tickprefix\": \" \", \"ticksuffix\": \" \"}, \"width\": 700, \"height\": 500}, {\"showLink\": true, \"linkText\": \"Export to plot.ly\"})});</script>"
      ]
     },
     "metadata": {},
     "output_type": "display_data"
    }
   ],
   "source": [
    "# Generate a bar graph.\n",
    "prevalences = prevalences.sort_values(ascending=True)\n",
    "trace = go.Bar(\n",
    "    x=prevalences.values,\n",
    "    y=prevalences.index.values,\n",
    "    orientation='h')\n",
    "data = [trace]\n",
    "layout = go.Layout(title='Prevalence of Compulsion',\n",
    "                   xaxis=dict(title='prevalence (%)'),\n",
    "                   yaxis=dict(title='',\n",
    "                              automargin=True,\n",
    "                              tickangle=30,\n",
    "                              tickprefix=' ',\n",
    "                              ticksuffix=' '),\n",
    "                   width=700,\n",
    "                   height=500\n",
    "                  )\n",
    "fig = dict(data=data, layout=layout)\n",
    "py.iplot(fig)"
   ]
  },
  {
   "cell_type": "markdown",
   "metadata": {},
   "source": [
    "### 5.4 Types of House Soiling"
   ]
  },
  {
   "cell_type": "code",
   "execution_count": 13,
   "metadata": {},
   "outputs": [
    {
     "data": {
      "application/vnd.plotly.v1+json": {
       "data": [
        {
         "cells": {
          "align": [
           "left",
           "left",
           "left",
           "left",
           "left"
          ],
          "format": [
           null,
           "d",
           ".2f"
          ],
          "values": [
           [
            "feces",
            "urine",
            "both"
           ],
           [
            407,
            373,
            111
           ],
           [
            10.856228327554014,
            9.949319818618298,
            2.9607895438783673
           ]
          ]
         },
         "columnwidth": [
          200,
          100,
          100
         ],
         "header": {
          "align": [
           "left",
           "left",
           "left",
           "left",
           "left"
          ],
          "fill": {
           "color": "#B0C4DE"
          },
          "values": [
           "House Soiling Type",
           "Number of Dogs",
           "Prevalence (%)"
          ]
         },
         "type": "table"
        }
       ],
       "layout": {}
      },
      "text/html": [
       "<div id=\"add1dd9a-599f-414f-ad4b-0023fa5df82e\" style=\"height: 525px; width: 100%;\" class=\"plotly-graph-div\"></div><script type=\"text/javascript\">require([\"plotly\"], function(Plotly) { window.PLOTLYENV=window.PLOTLYENV || {};window.PLOTLYENV.BASE_URL=\"https://plot.ly\";Plotly.newPlot(\"add1dd9a-599f-414f-ad4b-0023fa5df82e\", [{\"type\": \"table\", \"columnwidth\": [200, 100, 100], \"header\": {\"values\": [\"House Soiling Type\", \"Number of Dogs\", \"Prevalence (%)\"], \"fill\": {\"color\": \"#B0C4DE\"}, \"align\": [\"left\", \"left\", \"left\", \"left\", \"left\"]}, \"cells\": {\"values\": [[\"feces\", \"urine\", \"both\"], [407, 373, 111], [10.856228327554014, 9.949319818618298, 2.9607895438783673]], \"align\": [\"left\", \"left\", \"left\", \"left\", \"left\"], \"format\": [null, \"d\", \".2f\"]}}], {}, {\"showLink\": true, \"linkText\": \"Export to plot.ly\"})});</script>"
      ],
      "text/vnd.plotly.v1+html": [
       "<div id=\"add1dd9a-599f-414f-ad4b-0023fa5df82e\" style=\"height: 525px; width: 100%;\" class=\"plotly-graph-div\"></div><script type=\"text/javascript\">require([\"plotly\"], function(Plotly) { window.PLOTLYENV=window.PLOTLYENV || {};window.PLOTLYENV.BASE_URL=\"https://plot.ly\";Plotly.newPlot(\"add1dd9a-599f-414f-ad4b-0023fa5df82e\", [{\"type\": \"table\", \"columnwidth\": [200, 100, 100], \"header\": {\"values\": [\"House Soiling Type\", \"Number of Dogs\", \"Prevalence (%)\"], \"fill\": {\"color\": \"#B0C4DE\"}, \"align\": [\"left\", \"left\", \"left\", \"left\", \"left\"]}, \"cells\": {\"values\": [[\"feces\", \"urine\", \"both\"], [407, 373, 111], [10.856228327554014, 9.949319818618298, 2.9607895438783673]], \"align\": [\"left\", \"left\", \"left\", \"left\", \"left\"], \"format\": [null, \"d\", \".2f\"]}}], {}, {\"showLink\": true, \"linkText\": \"Export to plot.ly\"})});</script>"
      ]
     },
     "metadata": {},
     "output_type": "display_data"
    }
   ],
   "source": [
    "# Create the necessary dataframe.\n",
    "query = ('SELECT question_reason_for_part_3, q06_situation_1, q06_situation_2, '\n",
    "         'q06_situation_3 FROM users JOIN dogs USING(record_id)')\n",
    "df = pd.read_sql_query(query, con)\n",
    "df.columns = ['suspicion', 'urine', 'feces', 'both']\n",
    "\n",
    "# Remove biased results and discard suspicion column.\n",
    "df = df[df['suspicion'] == '0']\n",
    "df.drop('suspicion', axis=1, inplace=True)\n",
    "\n",
    "# Convert columns to integer type.\n",
    "for col in df:\n",
    "    df[col] = pd.to_numeric(df[col])\n",
    "\n",
    "# Get individual behavior problem counts and display as a table.\n",
    "sums = df.sum()\n",
    "sums = sums.sort_values(ascending=False)\n",
    "\n",
    "# Calculate the prevalence of each behavior problem.\n",
    "prevalence_cal = lambda x: (x / total_dogs) * 100\n",
    "prevalences = sums.apply(prevalence_cal)\n",
    "\n",
    "# Get individual behavior problem counts and display as a table.\n",
    "trace = go.Table(\n",
    "    columnwidth = [200, 100, 100],\n",
    "    header=dict(values=['House Soiling Type', 'Number of Dogs', 'Prevalence (%)'],\n",
    "                fill = dict(color='#B0C4DE'),\n",
    "                align = ['left'] * 5),\n",
    "    cells=dict(values=[sums.index.values, sums.values, prevalences.values],\n",
    "               align = ['left'] * 5,\n",
    "               format = [None, 'd', '.2f']))\n",
    "data = [trace] \n",
    "py.iplot(data)"
   ]
  },
  {
   "cell_type": "markdown",
   "metadata": {},
   "source": [
    "### 5.5 House Soiling Locations"
   ]
  },
  {
   "cell_type": "code",
   "execution_count": 14,
   "metadata": {},
   "outputs": [
    {
     "data": {
      "application/vnd.plotly.v1+json": {
       "data": [
        {
         "cells": {
          "align": [
           "left",
           "left",
           "left",
           "left",
           "left"
          ],
          "format": [
           null,
           "d",
           ".2f"
          ],
          "values": [
           [
            "specific locations",
            "anywhere"
           ],
           [
            306,
            264
           ],
           [
            8.162176580421447,
            7.04187783408909
           ]
          ]
         },
         "columnwidth": [
          200,
          100,
          100
         ],
         "header": {
          "align": [
           "left",
           "left",
           "left",
           "left",
           "left"
          ],
          "fill": {
           "color": "#B0C4DE"
          },
          "values": [
           "House Soiling Location",
           "Number of Dogs",
           "Prevalence (%)"
          ]
         },
         "type": "table"
        }
       ],
       "layout": {}
      },
      "text/html": [
       "<div id=\"20f69b1f-079e-43fb-b333-5f1b8e66d709\" style=\"height: 525px; width: 100%;\" class=\"plotly-graph-div\"></div><script type=\"text/javascript\">require([\"plotly\"], function(Plotly) { window.PLOTLYENV=window.PLOTLYENV || {};window.PLOTLYENV.BASE_URL=\"https://plot.ly\";Plotly.newPlot(\"20f69b1f-079e-43fb-b333-5f1b8e66d709\", [{\"type\": \"table\", \"columnwidth\": [200, 100, 100], \"header\": {\"values\": [\"House Soiling Location\", \"Number of Dogs\", \"Prevalence (%)\"], \"fill\": {\"color\": \"#B0C4DE\"}, \"align\": [\"left\", \"left\", \"left\", \"left\", \"left\"]}, \"cells\": {\"values\": [[\"specific locations\", \"anywhere\"], [306, 264], [8.162176580421447, 7.04187783408909]], \"align\": [\"left\", \"left\", \"left\", \"left\", \"left\"], \"format\": [null, \"d\", \".2f\"]}}], {}, {\"showLink\": true, \"linkText\": \"Export to plot.ly\"})});</script>"
      ],
      "text/vnd.plotly.v1+html": [
       "<div id=\"20f69b1f-079e-43fb-b333-5f1b8e66d709\" style=\"height: 525px; width: 100%;\" class=\"plotly-graph-div\"></div><script type=\"text/javascript\">require([\"plotly\"], function(Plotly) { window.PLOTLYENV=window.PLOTLYENV || {};window.PLOTLYENV.BASE_URL=\"https://plot.ly\";Plotly.newPlot(\"20f69b1f-079e-43fb-b333-5f1b8e66d709\", [{\"type\": \"table\", \"columnwidth\": [200, 100, 100], \"header\": {\"values\": [\"House Soiling Location\", \"Number of Dogs\", \"Prevalence (%)\"], \"fill\": {\"color\": \"#B0C4DE\"}, \"align\": [\"left\", \"left\", \"left\", \"left\", \"left\"]}, \"cells\": {\"values\": [[\"specific locations\", \"anywhere\"], [306, 264], [8.162176580421447, 7.04187783408909]], \"align\": [\"left\", \"left\", \"left\", \"left\", \"left\"], \"format\": [null, \"d\", \".2f\"]}}], {}, {\"showLink\": true, \"linkText\": \"Export to plot.ly\"})});</script>"
      ]
     },
     "metadata": {},
     "output_type": "display_data"
    }
   ],
   "source": [
    "# Create the necessary dataframe.\n",
    "query = ('SELECT question_reason_for_part_3, q06_soil_location_1, q06_soil_location_2 '\n",
    "         'FROM users JOIN dogs USING(record_id)')\n",
    "df = pd.read_sql_query(query, con)\n",
    "df.columns = ['suspicion', 'specific locations', 'anywhere']\n",
    "\n",
    "# Remove biased results and discard suspicion column.\n",
    "df = df[df['suspicion'] == '0']\n",
    "df.drop('suspicion', axis=1, inplace=True)\n",
    "\n",
    "# Convert columns to integer type.\n",
    "for col in df:\n",
    "    df[col] = pd.to_numeric(df[col])\n",
    "\n",
    "# Get individual behavior problem counts and display as a table.\n",
    "sums = df.sum()\n",
    "sums = sums.sort_values(ascending=False)\n",
    "\n",
    "# Calculate the prevalence of each behavior problem.\n",
    "prevalence_cal = lambda x: (x / total_dogs) * 100\n",
    "prevalences = sums.apply(prevalence_cal)\n",
    "\n",
    "# Get individual behavior problem counts and display as a table.\n",
    "trace = go.Table(\n",
    "    columnwidth = [200, 100, 100],\n",
    "    header=dict(values=['House Soiling Location', 'Number of Dogs', 'Prevalence (%)'],\n",
    "                fill = dict(color='#B0C4DE'),\n",
    "                align = ['left'] * 5),\n",
    "    cells=dict(values=[sums.index.values, sums.values, prevalences.values],\n",
    "               align = ['left'] * 5,\n",
    "               format = [None, 'd', '.2f']))\n",
    "data = [trace] \n",
    "py.iplot(data)"
   ]
  },
  {
   "cell_type": "markdown",
   "metadata": {},
   "source": [
    "### 5.7 House Soiling Triggers"
   ]
  },
  {
   "cell_type": "code",
   "execution_count": 15,
   "metadata": {},
   "outputs": [
    {
     "data": {
      "application/vnd.plotly.v1+json": {
       "data": [
        {
         "cells": {
          "align": [
           "left",
           "left",
           "left",
           "left",
           "left"
          ],
          "format": [
           null,
           "d",
           ".2f"
          ],
          "values": [
           [
            "owner away",
            "owner present",
            "excited/overwhelmed"
           ],
           [
            407,
            373,
            111
           ],
           [
            10.856228327554014,
            9.949319818618298,
            2.9607895438783673
           ]
          ]
         },
         "columnwidth": [
          200,
          100,
          100
         ],
         "header": {
          "align": [
           "left",
           "left",
           "left",
           "left",
           "left"
          ],
          "fill": {
           "color": "#B0C4DE"
          },
          "values": [
           "House Soiling Situation",
           "Number of Dogs",
           "Prevalence (%)"
          ]
         },
         "type": "table"
        }
       ],
       "layout": {}
      },
      "text/html": [
       "<div id=\"c9910cbf-1938-4d06-871c-f82fe6692f8a\" style=\"height: 525px; width: 100%;\" class=\"plotly-graph-div\"></div><script type=\"text/javascript\">require([\"plotly\"], function(Plotly) { window.PLOTLYENV=window.PLOTLYENV || {};window.PLOTLYENV.BASE_URL=\"https://plot.ly\";Plotly.newPlot(\"c9910cbf-1938-4d06-871c-f82fe6692f8a\", [{\"type\": \"table\", \"columnwidth\": [200, 100, 100], \"header\": {\"values\": [\"House Soiling Situation\", \"Number of Dogs\", \"Prevalence (%)\"], \"fill\": {\"color\": \"#B0C4DE\"}, \"align\": [\"left\", \"left\", \"left\", \"left\", \"left\"]}, \"cells\": {\"values\": [[\"owner away\", \"owner present\", \"excited/overwhelmed\"], [407, 373, 111], [10.856228327554014, 9.949319818618298, 2.9607895438783673]], \"align\": [\"left\", \"left\", \"left\", \"left\", \"left\"], \"format\": [null, \"d\", \".2f\"]}}], {}, {\"showLink\": true, \"linkText\": \"Export to plot.ly\"})});</script>"
      ],
      "text/vnd.plotly.v1+html": [
       "<div id=\"c9910cbf-1938-4d06-871c-f82fe6692f8a\" style=\"height: 525px; width: 100%;\" class=\"plotly-graph-div\"></div><script type=\"text/javascript\">require([\"plotly\"], function(Plotly) { window.PLOTLYENV=window.PLOTLYENV || {};window.PLOTLYENV.BASE_URL=\"https://plot.ly\";Plotly.newPlot(\"c9910cbf-1938-4d06-871c-f82fe6692f8a\", [{\"type\": \"table\", \"columnwidth\": [200, 100, 100], \"header\": {\"values\": [\"House Soiling Situation\", \"Number of Dogs\", \"Prevalence (%)\"], \"fill\": {\"color\": \"#B0C4DE\"}, \"align\": [\"left\", \"left\", \"left\", \"left\", \"left\"]}, \"cells\": {\"values\": [[\"owner away\", \"owner present\", \"excited/overwhelmed\"], [407, 373, 111], [10.856228327554014, 9.949319818618298, 2.9607895438783673]], \"align\": [\"left\", \"left\", \"left\", \"left\", \"left\"], \"format\": [null, \"d\", \".2f\"]}}], {}, {\"showLink\": true, \"linkText\": \"Export to plot.ly\"})});</script>"
      ]
     },
     "metadata": {},
     "output_type": "display_data"
    }
   ],
   "source": [
    "# Create the necessary dataframe.\n",
    "query = ('SELECT question_reason_for_part_3, q06_situation_1, q06_situation_2, '\n",
    "         'q06_situation_3 FROM users JOIN dogs USING(record_id)')\n",
    "df = pd.read_sql_query(query, con)\n",
    "df.columns = ['suspicion', 'owner present', 'owner away', 'excited/overwhelmed']\n",
    "\n",
    "# Remove biased results and discard suspicion column.\n",
    "df = df[df['suspicion'] == '0']\n",
    "df.drop('suspicion', axis=1, inplace=True)\n",
    "\n",
    "# Convert columns to integer type.\n",
    "for col in df:\n",
    "    df[col] = pd.to_numeric(df[col])\n",
    "\n",
    "# Get individual behavior problem counts and display as a table.\n",
    "sums = df.sum()\n",
    "sums = sums.sort_values(ascending=False)\n",
    "\n",
    "# Calculate the prevalence of each behavior problem.\n",
    "prevalence_cal = lambda x: (x / total_dogs) * 100\n",
    "prevalences = sums.apply(prevalence_cal)\n",
    "\n",
    "# Get individual behavior problem counts and display as a table.\n",
    "trace = go.Table(\n",
    "    columnwidth = [200, 100, 100],\n",
    "    header=dict(values=['House Soiling Situation', 'Number of Dogs', 'Prevalence (%)'],\n",
    "                fill = dict(color='#B0C4DE'),\n",
    "                align = ['left'] * 5),\n",
    "    cells=dict(values=[sums.index.values, sums.values, prevalences.values],\n",
    "               align = ['left'] * 5,\n",
    "               format = [None, 'd', '.2f']))\n",
    "data = [trace] \n",
    "py.iplot(data)"
   ]
  },
  {
   "cell_type": "markdown",
   "metadata": {},
   "source": [
    "### 5.8 Excessive Barking"
   ]
  },
  {
   "cell_type": "code",
   "execution_count": 16,
   "metadata": {},
   "outputs": [
    {
     "data": {
      "application/vnd.plotly.v1+json": {
       "data": [
        {
         "cells": {
          "align": [
           "left",
           "left",
           "left",
           "left",
           "left"
          ],
          "format": [
           null,
           "d",
           ".2f"
          ],
          "values": [
           [
            "at tiggers (inside)",
            "at triggers (outside)",
            "owner present",
            "to get attention",
            "owner away",
            "during car rides"
           ],
           [
            444,
            442,
            355,
            263,
            196,
            88
           ],
           [
            11.84315817551347,
            11.78981061616431,
            9.469191784475859,
            7.01520405441451,
            5.228060816217658,
            2.34729261136303
           ]
          ]
         },
         "columnwidth": [
          200,
          100,
          100
         ],
         "header": {
          "align": [
           "left",
           "left",
           "left",
           "left",
           "left"
          ],
          "fill": {
           "color": "#B0C4DE"
          },
          "values": [
           "Excessive Barking Scenario",
           "Number of Dogs",
           "Prevalence (%)"
          ]
         },
         "type": "table"
        }
       ],
       "layout": {}
      },
      "text/html": [
       "<div id=\"2996297a-2f6a-41be-a442-f1bbbec8154c\" style=\"height: 525px; width: 100%;\" class=\"plotly-graph-div\"></div><script type=\"text/javascript\">require([\"plotly\"], function(Plotly) { window.PLOTLYENV=window.PLOTLYENV || {};window.PLOTLYENV.BASE_URL=\"https://plot.ly\";Plotly.newPlot(\"2996297a-2f6a-41be-a442-f1bbbec8154c\", [{\"type\": \"table\", \"columnwidth\": [200, 100, 100], \"header\": {\"values\": [\"Excessive Barking Scenario\", \"Number of Dogs\", \"Prevalence (%)\"], \"fill\": {\"color\": \"#B0C4DE\"}, \"align\": [\"left\", \"left\", \"left\", \"left\", \"left\"]}, \"cells\": {\"values\": [[\"at tiggers (inside)\", \"at triggers (outside)\", \"owner present\", \"to get attention\", \"owner away\", \"during car rides\"], [444, 442, 355, 263, 196, 88], [11.84315817551347, 11.78981061616431, 9.469191784475859, 7.01520405441451, 5.228060816217658, 2.34729261136303]], \"align\": [\"left\", \"left\", \"left\", \"left\", \"left\"], \"format\": [null, \"d\", \".2f\"]}}], {}, {\"showLink\": true, \"linkText\": \"Export to plot.ly\"})});</script>"
      ],
      "text/vnd.plotly.v1+html": [
       "<div id=\"2996297a-2f6a-41be-a442-f1bbbec8154c\" style=\"height: 525px; width: 100%;\" class=\"plotly-graph-div\"></div><script type=\"text/javascript\">require([\"plotly\"], function(Plotly) { window.PLOTLYENV=window.PLOTLYENV || {};window.PLOTLYENV.BASE_URL=\"https://plot.ly\";Plotly.newPlot(\"2996297a-2f6a-41be-a442-f1bbbec8154c\", [{\"type\": \"table\", \"columnwidth\": [200, 100, 100], \"header\": {\"values\": [\"Excessive Barking Scenario\", \"Number of Dogs\", \"Prevalence (%)\"], \"fill\": {\"color\": \"#B0C4DE\"}, \"align\": [\"left\", \"left\", \"left\", \"left\", \"left\"]}, \"cells\": {\"values\": [[\"at tiggers (inside)\", \"at triggers (outside)\", \"owner present\", \"to get attention\", \"owner away\", \"during car rides\"], [444, 442, 355, 263, 196, 88], [11.84315817551347, 11.78981061616431, 9.469191784475859, 7.01520405441451, 5.228060816217658, 2.34729261136303]], \"align\": [\"left\", \"left\", \"left\", \"left\", \"left\"], \"format\": [null, \"d\", \".2f\"]}}], {}, {\"showLink\": true, \"linkText\": \"Export to plot.ly\"})});</script>"
      ]
     },
     "metadata": {},
     "output_type": "display_data"
    }
   ],
   "source": [
    "# Create the necessary dataframe.\n",
    "query = ('SELECT question_reason_for_part_3, q07_sitatuon_1, q07_sitatuon_2, '\n",
    "         'q07_sitatuon_3, q07_sitatuon_4, q07_sitatuon_5, q07_sitatuon_6 '\n",
    "         'FROM users JOIN dogs USING(record_id)')\n",
    "df = pd.read_sql_query(query, con)\n",
    "df.columns = ['suspicion', 'owner present', 'owner away', 'to get attention',\n",
    "              'at tiggers (inside)', 'at triggers (outside)', 'during car rides']\n",
    "\n",
    "# Remove biased results and discard suspicion column.\n",
    "df = df[df['suspicion'] == '0']\n",
    "df.drop('suspicion', axis=1, inplace=True)\n",
    "\n",
    "# Convert columns to integer type.\n",
    "for col in df:\n",
    "    df[col] = pd.to_numeric(df[col])\n",
    "\n",
    "# Get individual behavior problem counts and display as a table.\n",
    "sums = df.sum()\n",
    "sums = sums.sort_values(ascending=False)\n",
    "\n",
    "# Calculate the prevalence of each behavior problem.\n",
    "prevalence_cal = lambda x: (x / total_dogs) * 100\n",
    "prevalences = sums.apply(prevalence_cal)\n",
    "\n",
    "# Get individual behavior problem counts and display as a table.\n",
    "trace = go.Table(\n",
    "    columnwidth = [200, 100, 100],\n",
    "    header=dict(values=['Excessive Barking Scenario', 'Number of Dogs', 'Prevalence (%)'],\n",
    "                fill = dict(color='#B0C4DE'),\n",
    "                align = ['left'] * 5),\n",
    "    cells=dict(values=[sums.index.values, sums.values, prevalences.values],\n",
    "               align = ['left'] * 5,\n",
    "               format = [None, 'd', '.2f']))\n",
    "data = [trace] \n",
    "py.iplot(data)"
   ]
  },
  {
   "cell_type": "markdown",
   "metadata": {},
   "source": [
    "### 5.9 Jumping"
   ]
  },
  {
   "cell_type": "code",
   "execution_count": 17,
   "metadata": {},
   "outputs": [
    {
     "data": {
      "application/vnd.plotly.v1+json": {
       "data": [
        {
         "cells": {
          "align": [
           "left",
           "left",
           "left",
           "left",
           "left"
          ],
          "format": [
           null,
           "d",
           ".2f"
          ],
          "values": [
           [
            "family members",
            "owner",
            "strangers"
           ],
           [
            834,
            694,
            617
           ],
           [
            22.245932248599626,
            18.511603094158442,
            16.45772205921579
           ]
          ]
         },
         "columnwidth": [
          200,
          100,
          100
         ],
         "header": {
          "align": [
           "left",
           "left",
           "left",
           "left",
           "left"
          ],
          "fill": {
           "color": "#B0C4DE"
          },
          "values": [
           "Jumping Target",
           "Number of Dogs",
           "Prevalence (%)"
          ]
         },
         "type": "table"
        }
       ],
       "layout": {}
      },
      "text/html": [
       "<div id=\"59759438-1a84-40ce-9da2-52c39646e99a\" style=\"height: 525px; width: 100%;\" class=\"plotly-graph-div\"></div><script type=\"text/javascript\">require([\"plotly\"], function(Plotly) { window.PLOTLYENV=window.PLOTLYENV || {};window.PLOTLYENV.BASE_URL=\"https://plot.ly\";Plotly.newPlot(\"59759438-1a84-40ce-9da2-52c39646e99a\", [{\"type\": \"table\", \"columnwidth\": [200, 100, 100], \"header\": {\"values\": [\"Jumping Target\", \"Number of Dogs\", \"Prevalence (%)\"], \"fill\": {\"color\": \"#B0C4DE\"}, \"align\": [\"left\", \"left\", \"left\", \"left\", \"left\"]}, \"cells\": {\"values\": [[\"family members\", \"owner\", \"strangers\"], [834, 694, 617], [22.245932248599626, 18.511603094158442, 16.45772205921579]], \"align\": [\"left\", \"left\", \"left\", \"left\", \"left\"], \"format\": [null, \"d\", \".2f\"]}}], {}, {\"showLink\": true, \"linkText\": \"Export to plot.ly\"})});</script>"
      ],
      "text/vnd.plotly.v1+html": [
       "<div id=\"59759438-1a84-40ce-9da2-52c39646e99a\" style=\"height: 525px; width: 100%;\" class=\"plotly-graph-div\"></div><script type=\"text/javascript\">require([\"plotly\"], function(Plotly) { window.PLOTLYENV=window.PLOTLYENV || {};window.PLOTLYENV.BASE_URL=\"https://plot.ly\";Plotly.newPlot(\"59759438-1a84-40ce-9da2-52c39646e99a\", [{\"type\": \"table\", \"columnwidth\": [200, 100, 100], \"header\": {\"values\": [\"Jumping Target\", \"Number of Dogs\", \"Prevalence (%)\"], \"fill\": {\"color\": \"#B0C4DE\"}, \"align\": [\"left\", \"left\", \"left\", \"left\", \"left\"]}, \"cells\": {\"values\": [[\"family members\", \"owner\", \"strangers\"], [834, 694, 617], [22.245932248599626, 18.511603094158442, 16.45772205921579]], \"align\": [\"left\", \"left\", \"left\", \"left\", \"left\"], \"format\": [null, \"d\", \".2f\"]}}], {}, {\"showLink\": true, \"linkText\": \"Export to plot.ly\"})});</script>"
      ]
     },
     "metadata": {},
     "output_type": "display_data"
    }
   ],
   "source": [
    "# Create the necessary dataframe.\n",
    "query = ('SELECT question_reason_for_part_3, q08_who_1, q08_who_2, q08_who_3 '\n",
    "         'FROM users JOIN dogs USING(record_id)')\n",
    "df = pd.read_sql_query(query, con)\n",
    "df.columns = ['suspicion', 'owner', 'family members', 'strangers']\n",
    "\n",
    "# Remove biased results and discard suspicion column.\n",
    "df = df[df['suspicion'] == '0']\n",
    "df.drop('suspicion', axis=1, inplace=True)\n",
    "\n",
    "# Convert columns to integer type.\n",
    "for col in df:\n",
    "    df[col] = pd.to_numeric(df[col])\n",
    "\n",
    "# Get individual behavior problem counts and display as a table.\n",
    "sums = df.sum()\n",
    "sums = sums.sort_values(ascending=False)\n",
    "\n",
    "# Calculate the prevalence of each behavior problem.\n",
    "prevalence_cal = lambda x: (x / total_dogs) * 100\n",
    "prevalences = sums.apply(prevalence_cal)\n",
    "\n",
    "# Get individual behavior problem counts and display as a table.\n",
    "trace = go.Table(\n",
    "    columnwidth = [200, 100, 100],\n",
    "    header=dict(values=['Jumping Target', 'Number of Dogs', 'Prevalence (%)'],\n",
    "                fill = dict(color='#B0C4DE'),\n",
    "                align = ['left'] * 5),\n",
    "    cells=dict(values=[sums.index.values, sums.values, prevalences.values],\n",
    "               align = ['left'] * 5,\n",
    "               format = [None, 'd', '.2f']))\n",
    "data = [trace] \n",
    "py.iplot(data)"
   ]
  },
  {
   "cell_type": "markdown",
   "metadata": {},
   "source": [
    "### 5.10 Mounting/Humping"
   ]
  },
  {
   "cell_type": "code",
   "execution_count": 18,
   "metadata": {},
   "outputs": [
    {
     "data": {
      "application/vnd.plotly.v1+json": {
       "data": [
        {
         "cells": {
          "align": [
           "left",
           "left",
           "left",
           "left",
           "left"
          ],
          "format": [
           null,
           "d",
           ".2f"
          ],
          "values": [
           [
            "familiar dogs",
            "people",
            "unfamiliar dogs",
            "inanimate objects"
           ],
           [
            236,
            137,
            102,
            94
           ],
           [
            6.295012003200854,
            3.6543078154174444,
            2.7207255268071484,
            2.5073352894105096
           ]
          ]
         },
         "columnwidth": [
          200,
          100,
          100
         ],
         "header": {
          "align": [
           "left",
           "left",
           "left",
           "left",
           "left"
          ],
          "fill": {
           "color": "#B0C4DE"
          },
          "values": [
           "Mounting/Humping Target",
           "Number of Dogs",
           "Prevalence (%)"
          ]
         },
         "type": "table"
        }
       ],
       "layout": {}
      },
      "text/html": [
       "<div id=\"96cadd6d-29ed-4824-98f3-ffd0714adfe2\" style=\"height: 525px; width: 100%;\" class=\"plotly-graph-div\"></div><script type=\"text/javascript\">require([\"plotly\"], function(Plotly) { window.PLOTLYENV=window.PLOTLYENV || {};window.PLOTLYENV.BASE_URL=\"https://plot.ly\";Plotly.newPlot(\"96cadd6d-29ed-4824-98f3-ffd0714adfe2\", [{\"type\": \"table\", \"columnwidth\": [200, 100, 100], \"header\": {\"values\": [\"Mounting/Humping Target\", \"Number of Dogs\", \"Prevalence (%)\"], \"fill\": {\"color\": \"#B0C4DE\"}, \"align\": [\"left\", \"left\", \"left\", \"left\", \"left\"]}, \"cells\": {\"values\": [[\"familiar dogs\", \"people\", \"unfamiliar dogs\", \"inanimate objects\"], [236, 137, 102, 94], [6.295012003200854, 3.6543078154174444, 2.7207255268071484, 2.5073352894105096]], \"align\": [\"left\", \"left\", \"left\", \"left\", \"left\"], \"format\": [null, \"d\", \".2f\"]}}], {}, {\"showLink\": true, \"linkText\": \"Export to plot.ly\"})});</script>"
      ],
      "text/vnd.plotly.v1+html": [
       "<div id=\"96cadd6d-29ed-4824-98f3-ffd0714adfe2\" style=\"height: 525px; width: 100%;\" class=\"plotly-graph-div\"></div><script type=\"text/javascript\">require([\"plotly\"], function(Plotly) { window.PLOTLYENV=window.PLOTLYENV || {};window.PLOTLYENV.BASE_URL=\"https://plot.ly\";Plotly.newPlot(\"96cadd6d-29ed-4824-98f3-ffd0714adfe2\", [{\"type\": \"table\", \"columnwidth\": [200, 100, 100], \"header\": {\"values\": [\"Mounting/Humping Target\", \"Number of Dogs\", \"Prevalence (%)\"], \"fill\": {\"color\": \"#B0C4DE\"}, \"align\": [\"left\", \"left\", \"left\", \"left\", \"left\"]}, \"cells\": {\"values\": [[\"familiar dogs\", \"people\", \"unfamiliar dogs\", \"inanimate objects\"], [236, 137, 102, 94], [6.295012003200854, 3.6543078154174444, 2.7207255268071484, 2.5073352894105096]], \"align\": [\"left\", \"left\", \"left\", \"left\", \"left\"], \"format\": [null, \"d\", \".2f\"]}}], {}, {\"showLink\": true, \"linkText\": \"Export to plot.ly\"})});</script>"
      ]
     },
     "metadata": {},
     "output_type": "display_data"
    }
   ],
   "source": [
    "# Create the necessary dataframe.\n",
    "query = ('SELECT question_reason_for_part_3, q09_main_1, q09_main_2, q09_main_3, q09_main_4 '\n",
    "         'FROM users JOIN dogs USING(record_id)')\n",
    "df = pd.read_sql_query(query, con)\n",
    "df.columns = ['suspicion', 'people', 'familiar dogs', 'unfamiliar dogs', 'inanimate objects']\n",
    "\n",
    "# Remove biased results and discard suspicion column.\n",
    "df = df[df['suspicion'] == '0']\n",
    "df.drop('suspicion', axis=1, inplace=True)\n",
    "\n",
    "# Convert columns to integer type.\n",
    "for col in df:\n",
    "    df[col] = pd.to_numeric(df[col])\n",
    "\n",
    "# Get individual behavior problem counts and display as a table.\n",
    "sums = df.sum()\n",
    "sums = sums.sort_values(ascending=False)\n",
    "\n",
    "# Calculate the prevalence of each behavior problem.\n",
    "prevalence_cal = lambda x: (x / total_dogs) * 100\n",
    "prevalences = sums.apply(prevalence_cal)\n",
    "\n",
    "# Get individual behavior problem counts and display as a table.\n",
    "trace = go.Table(\n",
    "    columnwidth = [200, 100, 100],\n",
    "    header=dict(values=['Mounting/Humping Target', 'Number of Dogs', 'Prevalence (%)'],\n",
    "                fill = dict(color='#B0C4DE'),\n",
    "                align = ['left'] * 5),\n",
    "    cells=dict(values=[sums.index.values, sums.values, prevalences.values],\n",
    "               align = ['left'] * 5,\n",
    "               format = [None, 'd', '.2f']))\n",
    "data = [trace] \n",
    "py.iplot(data)"
   ]
  },
  {
   "cell_type": "markdown",
   "metadata": {},
   "source": [
    "### 5.11 Consumption of Feces"
   ]
  },
  {
   "cell_type": "code",
   "execution_count": 19,
   "metadata": {},
   "outputs": [
    {
     "data": {
      "application/vnd.plotly.v1+json": {
       "data": [
        {
         "cells": {
          "align": [
           "left",
           "left",
           "left",
           "left",
           "left"
          ],
          "format": [
           null,
           "d",
           ".2f"
          ],
          "values": [
           [
            "other dogs'",
            "other species'",
            "their own"
           ],
           [
            376,
            373,
            306
           ],
           [
            10.029341157642039,
            9.949319818618298,
            8.162176580421447
           ]
          ]
         },
         "columnwidth": [
          200,
          100,
          100
         ],
         "header": {
          "align": [
           "left",
           "left",
           "left",
           "left",
           "left"
          ],
          "fill": {
           "color": "#B0C4DE"
          },
          "values": [
           "Source of Feces Consumed",
           "Number of Dogs",
           "Prevalence (%)"
          ]
         },
         "type": "table"
        }
       ],
       "layout": {}
      },
      "text/html": [
       "<div id=\"f91b16f3-bcd7-4a05-bded-134c93f22b7d\" style=\"height: 525px; width: 100%;\" class=\"plotly-graph-div\"></div><script type=\"text/javascript\">require([\"plotly\"], function(Plotly) { window.PLOTLYENV=window.PLOTLYENV || {};window.PLOTLYENV.BASE_URL=\"https://plot.ly\";Plotly.newPlot(\"f91b16f3-bcd7-4a05-bded-134c93f22b7d\", [{\"type\": \"table\", \"columnwidth\": [200, 100, 100], \"header\": {\"values\": [\"Source of Feces Consumed\", \"Number of Dogs\", \"Prevalence (%)\"], \"fill\": {\"color\": \"#B0C4DE\"}, \"align\": [\"left\", \"left\", \"left\", \"left\", \"left\"]}, \"cells\": {\"values\": [[\"other dogs'\", \"other species'\", \"their own\"], [376, 373, 306], [10.029341157642039, 9.949319818618298, 8.162176580421447]], \"align\": [\"left\", \"left\", \"left\", \"left\", \"left\"], \"format\": [null, \"d\", \".2f\"]}}], {}, {\"showLink\": true, \"linkText\": \"Export to plot.ly\"})});</script>"
      ],
      "text/vnd.plotly.v1+html": [
       "<div id=\"f91b16f3-bcd7-4a05-bded-134c93f22b7d\" style=\"height: 525px; width: 100%;\" class=\"plotly-graph-div\"></div><script type=\"text/javascript\">require([\"plotly\"], function(Plotly) { window.PLOTLYENV=window.PLOTLYENV || {};window.PLOTLYENV.BASE_URL=\"https://plot.ly\";Plotly.newPlot(\"f91b16f3-bcd7-4a05-bded-134c93f22b7d\", [{\"type\": \"table\", \"columnwidth\": [200, 100, 100], \"header\": {\"values\": [\"Source of Feces Consumed\", \"Number of Dogs\", \"Prevalence (%)\"], \"fill\": {\"color\": \"#B0C4DE\"}, \"align\": [\"left\", \"left\", \"left\", \"left\", \"left\"]}, \"cells\": {\"values\": [[\"other dogs'\", \"other species'\", \"their own\"], [376, 373, 306], [10.029341157642039, 9.949319818618298, 8.162176580421447]], \"align\": [\"left\", \"left\", \"left\", \"left\", \"left\"], \"format\": [null, \"d\", \".2f\"]}}], {}, {\"showLink\": true, \"linkText\": \"Export to plot.ly\"})});</script>"
      ]
     },
     "metadata": {},
     "output_type": "display_data"
    }
   ],
   "source": [
    "# Create the necessary dataframe.\n",
    "query = ('SELECT question_reason_for_part_3, q10_main_1, q10_main_2, q10_main_3 '\n",
    "         'FROM users JOIN dogs USING(record_id)')\n",
    "df = pd.read_sql_query(query, con)\n",
    "df.columns = ['suspicion', 'their own', \"other dogs'\", \"other species'\"]\n",
    "\n",
    "# Remove biased results and discard suspicion column.\n",
    "df = df[df['suspicion'] == '0']\n",
    "df.drop('suspicion', axis=1, inplace=True)\n",
    "\n",
    "# Convert columns to integer type.\n",
    "for col in df:\n",
    "    df[col] = pd.to_numeric(df[col])\n",
    "\n",
    "# Get individual behavior problem counts and display as a table.\n",
    "sums = df.sum()\n",
    "sums = sums.sort_values(ascending=False)\n",
    "\n",
    "# Calculate the prevalence of each behavior problem.\n",
    "prevalence_cal = lambda x: (x / total_dogs) * 100\n",
    "prevalences = sums.apply(prevalence_cal)\n",
    "\n",
    "# Get individual behavior problem counts and display as a table.\n",
    "trace = go.Table(\n",
    "    columnwidth = [200, 100, 100],\n",
    "    header=dict(values=['Source of Feces Consumed', 'Number of Dogs', 'Prevalence (%)'],\n",
    "                fill = dict(color='#B0C4DE'),\n",
    "                align = ['left'] * 5),\n",
    "    cells=dict(values=[sums.index.values, sums.values, prevalences.values],\n",
    "               align = ['left'] * 5,\n",
    "               format = [None, 'd', '.2f']))\n",
    "data = [trace] \n",
    "py.iplot(data)"
   ]
  },
  {
   "cell_type": "markdown",
   "metadata": {},
   "source": [
    "### 5.12 Destructive Behavior"
   ]
  },
  {
   "cell_type": "code",
   "execution_count": 20,
   "metadata": {},
   "outputs": [
    {
     "data": {
      "application/vnd.plotly.v1+json": {
       "data": [
        {
         "cells": {
          "align": [
           "left",
           "left",
           "left",
           "left",
           "left"
          ],
          "format": [
           null,
           "d",
           ".2f"
          ],
          "values": [
           [
            "owner is away",
            "owner is home"
           ],
           [
            353,
            194
           ],
           [
            9.4158442251267,
            5.174713256868499
           ]
          ]
         },
         "columnwidth": [
          200,
          100,
          100
         ],
         "header": {
          "align": [
           "left",
           "left",
           "left",
           "left",
           "left"
          ],
          "fill": {
           "color": "#B0C4DE"
          },
          "values": [
           "Destructive Behavior Situation",
           "Number of Dogs",
           "Prevalence (%)"
          ]
         },
         "type": "table"
        }
       ],
       "layout": {}
      },
      "text/html": [
       "<div id=\"67ae6720-37f4-4533-8dd4-37f7b127f944\" style=\"height: 525px; width: 100%;\" class=\"plotly-graph-div\"></div><script type=\"text/javascript\">require([\"plotly\"], function(Plotly) { window.PLOTLYENV=window.PLOTLYENV || {};window.PLOTLYENV.BASE_URL=\"https://plot.ly\";Plotly.newPlot(\"67ae6720-37f4-4533-8dd4-37f7b127f944\", [{\"type\": \"table\", \"columnwidth\": [200, 100, 100], \"header\": {\"values\": [\"Destructive Behavior Situation\", \"Number of Dogs\", \"Prevalence (%)\"], \"fill\": {\"color\": \"#B0C4DE\"}, \"align\": [\"left\", \"left\", \"left\", \"left\", \"left\"]}, \"cells\": {\"values\": [[\"owner is away\", \"owner is home\"], [353, 194], [9.4158442251267, 5.174713256868499]], \"align\": [\"left\", \"left\", \"left\", \"left\", \"left\"], \"format\": [null, \"d\", \".2f\"]}}], {}, {\"showLink\": true, \"linkText\": \"Export to plot.ly\"})});</script>"
      ],
      "text/vnd.plotly.v1+html": [
       "<div id=\"67ae6720-37f4-4533-8dd4-37f7b127f944\" style=\"height: 525px; width: 100%;\" class=\"plotly-graph-div\"></div><script type=\"text/javascript\">require([\"plotly\"], function(Plotly) { window.PLOTLYENV=window.PLOTLYENV || {};window.PLOTLYENV.BASE_URL=\"https://plot.ly\";Plotly.newPlot(\"67ae6720-37f4-4533-8dd4-37f7b127f944\", [{\"type\": \"table\", \"columnwidth\": [200, 100, 100], \"header\": {\"values\": [\"Destructive Behavior Situation\", \"Number of Dogs\", \"Prevalence (%)\"], \"fill\": {\"color\": \"#B0C4DE\"}, \"align\": [\"left\", \"left\", \"left\", \"left\", \"left\"]}, \"cells\": {\"values\": [[\"owner is away\", \"owner is home\"], [353, 194], [9.4158442251267, 5.174713256868499]], \"align\": [\"left\", \"left\", \"left\", \"left\", \"left\"], \"format\": [null, \"d\", \".2f\"]}}], {}, {\"showLink\": true, \"linkText\": \"Export to plot.ly\"})});</script>"
      ]
     },
     "metadata": {},
     "output_type": "display_data"
    }
   ],
   "source": [
    "# Create the necessary dataframe.\n",
    "query = ('SELECT question_reason_for_part_3, q11_situation_1, q11_situation_2 '\n",
    "         'FROM users JOIN dogs USING(record_id)')\n",
    "df = pd.read_sql_query(query, con)\n",
    "df.columns = ['suspicion', 'owner is home', 'owner is away']\n",
    "\n",
    "# Remove biased results and discard suspicion column.\n",
    "df = df[df['suspicion'] == '0']\n",
    "df.drop('suspicion', axis=1, inplace=True)\n",
    "\n",
    "# Convert columns to integer type.\n",
    "for col in df:\n",
    "    df[col] = pd.to_numeric(df[col])\n",
    "\n",
    "# Get individual behavior problem counts and display as a table.\n",
    "sums = df.sum()\n",
    "sums = sums.sort_values(ascending=False)\n",
    "\n",
    "# Calculate the prevalence of each behavior problem.\n",
    "prevalence_cal = lambda x: (x / total_dogs) * 100\n",
    "prevalences = sums.apply(prevalence_cal)\n",
    "\n",
    "# Get individual behavior problem counts and display as a table.\n",
    "trace = go.Table(\n",
    "    columnwidth = [200, 100, 100],\n",
    "    header=dict(values=['Destructive Behavior Situation', 'Number of Dogs', 'Prevalence (%)'],\n",
    "                fill = dict(color='#B0C4DE'),\n",
    "                align = ['left'] * 5),\n",
    "    cells=dict(values=[sums.index.values, sums.values, prevalences.values],\n",
    "               align = ['left'] * 5,\n",
    "               format = [None, 'd', '.2f']))\n",
    "data = [trace] \n",
    "py.iplot(data)"
   ]
  },
  {
   "cell_type": "markdown",
   "metadata": {},
   "source": [
    "### 5.13 Rolling in Repulsive Materials"
   ]
  },
  {
   "cell_type": "code",
   "execution_count": 21,
   "metadata": {},
   "outputs": [
    {
     "data": {
      "application/vnd.plotly.v1+json": {
       "data": [
        {
         "cells": {
          "align": [
           "left",
           "left",
           "left",
           "left",
           "left"
          ],
          "format": [
           null,
           "d",
           ".2f"
          ],
          "values": [
           [
            "feces",
            "dead stuff",
            "urine"
           ],
           [
            376,
            373,
            306
           ],
           [
            10.029341157642039,
            9.949319818618298,
            8.162176580421447
           ]
          ]
         },
         "columnwidth": [
          200,
          100,
          100
         ],
         "header": {
          "align": [
           "left",
           "left",
           "left",
           "left",
           "left"
          ],
          "fill": {
           "color": "#B0C4DE"
          },
          "values": [
           "Rolling in Repulsive Materials",
           "Number of Dogs",
           "Prevalence (%)"
          ]
         },
         "type": "table"
        }
       ],
       "layout": {}
      },
      "text/html": [
       "<div id=\"fe7e8266-1f07-409d-bfd1-d7ed30eb34fd\" style=\"height: 525px; width: 100%;\" class=\"plotly-graph-div\"></div><script type=\"text/javascript\">require([\"plotly\"], function(Plotly) { window.PLOTLYENV=window.PLOTLYENV || {};window.PLOTLYENV.BASE_URL=\"https://plot.ly\";Plotly.newPlot(\"fe7e8266-1f07-409d-bfd1-d7ed30eb34fd\", [{\"type\": \"table\", \"columnwidth\": [200, 100, 100], \"header\": {\"values\": [\"Rolling in Repulsive Materials\", \"Number of Dogs\", \"Prevalence (%)\"], \"fill\": {\"color\": \"#B0C4DE\"}, \"align\": [\"left\", \"left\", \"left\", \"left\", \"left\"]}, \"cells\": {\"values\": [[\"feces\", \"dead stuff\", \"urine\"], [376, 373, 306], [10.029341157642039, 9.949319818618298, 8.162176580421447]], \"align\": [\"left\", \"left\", \"left\", \"left\", \"left\"], \"format\": [null, \"d\", \".2f\"]}}], {}, {\"showLink\": true, \"linkText\": \"Export to plot.ly\"})});</script>"
      ],
      "text/vnd.plotly.v1+html": [
       "<div id=\"fe7e8266-1f07-409d-bfd1-d7ed30eb34fd\" style=\"height: 525px; width: 100%;\" class=\"plotly-graph-div\"></div><script type=\"text/javascript\">require([\"plotly\"], function(Plotly) { window.PLOTLYENV=window.PLOTLYENV || {};window.PLOTLYENV.BASE_URL=\"https://plot.ly\";Plotly.newPlot(\"fe7e8266-1f07-409d-bfd1-d7ed30eb34fd\", [{\"type\": \"table\", \"columnwidth\": [200, 100, 100], \"header\": {\"values\": [\"Rolling in Repulsive Materials\", \"Number of Dogs\", \"Prevalence (%)\"], \"fill\": {\"color\": \"#B0C4DE\"}, \"align\": [\"left\", \"left\", \"left\", \"left\", \"left\"]}, \"cells\": {\"values\": [[\"feces\", \"dead stuff\", \"urine\"], [376, 373, 306], [10.029341157642039, 9.949319818618298, 8.162176580421447]], \"align\": [\"left\", \"left\", \"left\", \"left\", \"left\"], \"format\": [null, \"d\", \".2f\"]}}], {}, {\"showLink\": true, \"linkText\": \"Export to plot.ly\"})});</script>"
      ]
     },
     "metadata": {},
     "output_type": "display_data"
    }
   ],
   "source": [
    "# Create the necessary dataframe.\n",
    "query = ('SELECT question_reason_for_part_3, q10_main_1, q10_main_2, q10_main_3 '\n",
    "         'FROM users JOIN dogs USING(record_id)')\n",
    "df = pd.read_sql_query(query, con)\n",
    "df.columns = ['suspicion', 'urine', 'feces', 'dead stuff']\n",
    "\n",
    "# Remove biased results and discard suspicion column.\n",
    "df = df[df['suspicion'] == '0']\n",
    "df.drop('suspicion', axis=1, inplace=True)\n",
    "\n",
    "# Convert columns to integer type.\n",
    "for col in df:\n",
    "    df[col] = pd.to_numeric(df[col])\n",
    "\n",
    "# Get individual behavior problem counts and display as a table.\n",
    "sums = df.sum()\n",
    "sums = sums.sort_values(ascending=False)\n",
    "\n",
    "# Calculate the prevalence of each behavior problem.\n",
    "prevalence_cal = lambda x: (x / total_dogs) * 100\n",
    "prevalences = sums.apply(prevalence_cal)\n",
    "\n",
    "# Get individual behavior problem counts and display as a table.\n",
    "trace = go.Table(\n",
    "    columnwidth = [200, 100, 100],\n",
    "    header=dict(values=['Rolling in Repulsive Materials', 'Number of Dogs', 'Prevalence (%)'],\n",
    "                fill = dict(color='#B0C4DE'),\n",
    "                align = ['left'] * 5),\n",
    "    cells=dict(values=[sums.index.values, sums.values, prevalences.values],\n",
    "               align = ['left'] * 5,\n",
    "               format = [None, 'd', '.2f']))\n",
    "data = [trace] \n",
    "py.iplot(data)"
   ]
  },
  {
   "cell_type": "markdown",
   "metadata": {},
   "source": [
    "### 5.14 Running Away"
   ]
  },
  {
   "cell_type": "code",
   "execution_count": 22,
   "metadata": {},
   "outputs": [
    {
     "data": {
      "application/vnd.plotly.v1+json": {
       "data": [
        {
         "cells": {
          "align": [
           "left",
           "left",
           "left",
           "left",
           "left"
          ],
          "format": [
           null,
           "d",
           ".2f"
          ],
          "values": [
           [
            "escapes from home",
            "escapes when out",
            "escapes from confinement",
            "returns home after escape"
           ],
           [
            219,
            188,
            173,
            140
           ],
           [
            5.8415577487329955,
            5.014670578821019,
            4.614563883702321,
            3.734329154441184
           ]
          ]
         },
         "columnwidth": [
          200,
          100,
          100
         ],
         "header": {
          "align": [
           "left",
           "left",
           "left",
           "left",
           "left"
          ],
          "fill": {
           "color": "#B0C4DE"
          },
          "values": [
           "Running Away",
           "Number of Dogs",
           "Prevalence (%)"
          ]
         },
         "type": "table"
        }
       ],
       "layout": {}
      },
      "text/html": [
       "<div id=\"f4240695-ec0a-4a04-9b00-b1342c9ad90a\" style=\"height: 525px; width: 100%;\" class=\"plotly-graph-div\"></div><script type=\"text/javascript\">require([\"plotly\"], function(Plotly) { window.PLOTLYENV=window.PLOTLYENV || {};window.PLOTLYENV.BASE_URL=\"https://plot.ly\";Plotly.newPlot(\"f4240695-ec0a-4a04-9b00-b1342c9ad90a\", [{\"type\": \"table\", \"columnwidth\": [200, 100, 100], \"header\": {\"values\": [\"Running Away\", \"Number of Dogs\", \"Prevalence (%)\"], \"fill\": {\"color\": \"#B0C4DE\"}, \"align\": [\"left\", \"left\", \"left\", \"left\", \"left\"]}, \"cells\": {\"values\": [[\"escapes from home\", \"escapes when out\", \"escapes from confinement\", \"returns home after escape\"], [219.0, 188.0, 173.0, 140.0], [5.8415577487329955, 5.014670578821019, 4.614563883702321, 3.734329154441184]], \"align\": [\"left\", \"left\", \"left\", \"left\", \"left\"], \"format\": [null, \"d\", \".2f\"]}}], {}, {\"showLink\": true, \"linkText\": \"Export to plot.ly\"})});</script>"
      ],
      "text/vnd.plotly.v1+html": [
       "<div id=\"f4240695-ec0a-4a04-9b00-b1342c9ad90a\" style=\"height: 525px; width: 100%;\" class=\"plotly-graph-div\"></div><script type=\"text/javascript\">require([\"plotly\"], function(Plotly) { window.PLOTLYENV=window.PLOTLYENV || {};window.PLOTLYENV.BASE_URL=\"https://plot.ly\";Plotly.newPlot(\"f4240695-ec0a-4a04-9b00-b1342c9ad90a\", [{\"type\": \"table\", \"columnwidth\": [200, 100, 100], \"header\": {\"values\": [\"Running Away\", \"Number of Dogs\", \"Prevalence (%)\"], \"fill\": {\"color\": \"#B0C4DE\"}, \"align\": [\"left\", \"left\", \"left\", \"left\", \"left\"]}, \"cells\": {\"values\": [[\"escapes from home\", \"escapes when out\", \"escapes from confinement\", \"returns home after escape\"], [219.0, 188.0, 173.0, 140.0], [5.8415577487329955, 5.014670578821019, 4.614563883702321, 3.734329154441184]], \"align\": [\"left\", \"left\", \"left\", \"left\", \"left\"], \"format\": [null, \"d\", \".2f\"]}}], {}, {\"showLink\": true, \"linkText\": \"Export to plot.ly\"})});</script>"
      ]
     },
     "metadata": {},
     "output_type": "display_data"
    }
   ],
   "source": [
    "# Create the necessary dataframe.\n",
    "query = ('SELECT question_reason_for_part_3, q14_out, q14_house, q14_conf, q14_return FROM '\n",
    "         'users JOIN dogs USING(record_id)')\n",
    "df = pd.read_sql_query(query, con)\n",
    "df.columns = ['suspicion', 'escapes when out', 'escapes from home',\n",
    "              'escapes from confinement', 'returns home after escape']\n",
    "\n",
    "# Remove biased results and discard suspicion column.\n",
    "df = df[df['suspicion'] == '0']\n",
    "df.drop('suspicion', axis=1, inplace=True)\n",
    "\n",
    "# Convert columns to integer type.\n",
    "for col in df:\n",
    "    df[col] = pd.to_numeric(df[col])\n",
    "\n",
    "# Get individual behavior problem counts and display as a table.\n",
    "sums = df.sum()\n",
    "sums = sums.sort_values(ascending=False)\n",
    "\n",
    "# Calculate the prevalence of each behavior problem.\n",
    "prevalence_cal = lambda x: (x / total_dogs) * 100\n",
    "prevalences = sums.apply(prevalence_cal)\n",
    "\n",
    "# Get individual behavior problem counts and display as a table.\n",
    "trace = go.Table(\n",
    "    columnwidth = [200, 100, 100],\n",
    "    header=dict(values=['Running Away', 'Number of Dogs', 'Prevalence (%)'],\n",
    "                fill = dict(color='#B0C4DE'),\n",
    "                align = ['left'] * 5),\n",
    "    cells=dict(values=[sums.index.values, sums.values, prevalences.values],\n",
    "               align = ['left'] * 5,\n",
    "               format = [None, 'd', '.2f']))\n",
    "data = [trace] \n",
    "py.iplot(data)"
   ]
  },
  {
   "cell_type": "markdown",
   "metadata": {},
   "source": [
    "### 5.15 Types of Overactivity/Hyperactivity"
   ]
  },
  {
   "cell_type": "code",
   "execution_count": 23,
   "metadata": {},
   "outputs": [
    {
     "data": {
      "application/vnd.plotly.v1+json": {
       "data": [
        {
         "cells": {
          "align": [
           "left",
           "left",
           "left",
           "left",
           "left"
          ],
          "format": [
           null,
           "d",
           ".2f"
          ],
          "values": [
           [
            "difficulty settling",
            "constant moving/jumping",
            "impulsive",
            "highly distractible"
           ],
           [
            282,
            250,
            238,
            192
           ],
           [
            7.522005868231528,
            6.668444918644973,
            6.348359562550013,
            5.121365697519339
           ]
          ]
         },
         "columnwidth": [
          200,
          100,
          100
         ],
         "header": {
          "align": [
           "left",
           "left",
           "left",
           "left",
           "left"
          ],
          "fill": {
           "color": "#B0C4DE"
          },
          "values": [
           "Overactivity/Hyperactivity",
           "Number of Dogs",
           "Prevalence (%)"
          ]
         },
         "type": "table"
        }
       ],
       "layout": {}
      },
      "text/html": [
       "<div id=\"5acd1ee7-d3c7-4a0a-8d79-bc0c7294a488\" style=\"height: 525px; width: 100%;\" class=\"plotly-graph-div\"></div><script type=\"text/javascript\">require([\"plotly\"], function(Plotly) { window.PLOTLYENV=window.PLOTLYENV || {};window.PLOTLYENV.BASE_URL=\"https://plot.ly\";Plotly.newPlot(\"5acd1ee7-d3c7-4a0a-8d79-bc0c7294a488\", [{\"type\": \"table\", \"columnwidth\": [200, 100, 100], \"header\": {\"values\": [\"Overactivity/Hyperactivity\", \"Number of Dogs\", \"Prevalence (%)\"], \"fill\": {\"color\": \"#B0C4DE\"}, \"align\": [\"left\", \"left\", \"left\", \"left\", \"left\"]}, \"cells\": {\"values\": [[\"difficulty settling\", \"constant moving/jumping\", \"impulsive\", \"highly distractible\"], [282, 250, 238, 192], [7.522005868231528, 6.668444918644973, 6.348359562550013, 5.121365697519339]], \"align\": [\"left\", \"left\", \"left\", \"left\", \"left\"], \"format\": [null, \"d\", \".2f\"]}}], {}, {\"showLink\": true, \"linkText\": \"Export to plot.ly\"})});</script>"
      ],
      "text/vnd.plotly.v1+html": [
       "<div id=\"5acd1ee7-d3c7-4a0a-8d79-bc0c7294a488\" style=\"height: 525px; width: 100%;\" class=\"plotly-graph-div\"></div><script type=\"text/javascript\">require([\"plotly\"], function(Plotly) { window.PLOTLYENV=window.PLOTLYENV || {};window.PLOTLYENV.BASE_URL=\"https://plot.ly\";Plotly.newPlot(\"5acd1ee7-d3c7-4a0a-8d79-bc0c7294a488\", [{\"type\": \"table\", \"columnwidth\": [200, 100, 100], \"header\": {\"values\": [\"Overactivity/Hyperactivity\", \"Number of Dogs\", \"Prevalence (%)\"], \"fill\": {\"color\": \"#B0C4DE\"}, \"align\": [\"left\", \"left\", \"left\", \"left\", \"left\"]}, \"cells\": {\"values\": [[\"difficulty settling\", \"constant moving/jumping\", \"impulsive\", \"highly distractible\"], [282, 250, 238, 192], [7.522005868231528, 6.668444918644973, 6.348359562550013, 5.121365697519339]], \"align\": [\"left\", \"left\", \"left\", \"left\", \"left\"], \"format\": [null, \"d\", \".2f\"]}}], {}, {\"showLink\": true, \"linkText\": \"Export to plot.ly\"})});</script>"
      ]
     },
     "metadata": {},
     "output_type": "display_data"
    }
   ],
   "source": [
    "# Create the necessary dataframe.\n",
    "query = ('SELECT question_reason_for_part_3, q15_main_1, q15_main_2, q15_main_3, q15_main_4 '\n",
    "         'FROM users JOIN dogs USING(record_id)')\n",
    "df = pd.read_sql_query(query, con)\n",
    "df.columns = ['suspicion', 'constant moving/jumping', 'difficulty settling',\n",
    "              'highly distractible', 'impulsive']\n",
    "\n",
    "# Remove biased results and discard suspicion column.\n",
    "df = df[df['suspicion'] == '0']\n",
    "df.drop('suspicion', axis=1, inplace=True)\n",
    "\n",
    "# Convert columns to integer type.\n",
    "for col in df:\n",
    "    df[col] = pd.to_numeric(df[col])\n",
    "\n",
    "# Get individual behavior problem counts and display as a table.\n",
    "sums = df.sum()\n",
    "sums = sums.sort_values(ascending=False)\n",
    "\n",
    "# Calculate the prevalence of each behavior problem.\n",
    "prevalence_cal = lambda x: (x / total_dogs) * 100\n",
    "prevalences = sums.apply(prevalence_cal)\n",
    "\n",
    "# Get individual behavior problem counts and display as a table.\n",
    "trace = go.Table(\n",
    "    columnwidth = [200, 100, 100],\n",
    "    header=dict(values=['Overactivity/Hyperactivity', 'Number of Dogs', 'Prevalence (%)'],\n",
    "                fill = dict(color='#B0C4DE'),\n",
    "                align = ['left'] * 5),\n",
    "    cells=dict(values=[sums.index.values, sums.values, prevalences.values],\n",
    "               align = ['left'] * 5,\n",
    "               format = [None, 'd', '.2f']))\n",
    "data = [trace] \n",
    "py.iplot(data)"
   ]
  },
  {
   "cell_type": "markdown",
   "metadata": {},
   "source": [
    "## 6. Separation Anxiety, Noise Phobia, and Thunderstorm Phobia"
   ]
  },
  {
   "cell_type": "code",
   "execution_count": 24,
   "metadata": {},
   "outputs": [
    {
     "data": {
      "image/png": "[encoded data removed]",
      "text/plain": [
       "<Figure size 432x288 with 1 Axes>"
      ]
     },
     "metadata": {},
     "output_type": "display_data"
    },
    {
     "name": "stdout",
     "output_type": "stream",
     "text": [
      "Chi-squared Test of Independence for thunderstorm phobia and noise phobia:\n",
      "chi2 = 1200.877626, p = 3.93E-263, dof = 1\n",
      "The resulting p-value is below the set significance threshold (0.01).\n"
     ]
    },
    {
     "data": {
      "image/png": "[encoded data removed]",
      "text/plain": [
       "<Figure size 432x288 with 1 Axes>"
      ]
     },
     "metadata": {},
     "output_type": "display_data"
    },
    {
     "name": "stdout",
     "output_type": "stream",
     "text": [
      "Chi-squared Test of Independence for thunderstorm phobia and separation anxiety:\n",
      "chi2 = 160.293122, p = 9.76E-37, dof = 1\n",
      "The resulting p-value is below the set significance threshold (0.01).\n"
     ]
    },
    {
     "data": {
      "image/png": "[encoded data removed]",
      "text/plain": [
       "<Figure size 432x288 with 1 Axes>"
      ]
     },
     "metadata": {},
     "output_type": "display_data"
    },
    {
     "name": "stdout",
     "output_type": "stream",
     "text": [
      "Chi-squared Test of Independence for noise phobia and separation anxiety:\n",
      "chi2 = 184.001984, p = 6.48E-42, dof = 1\n",
      "The resulting p-value is below the set significance threshold (0.01).\n"
     ]
    }
   ],
   "source": [
    "# Create the necessary dataframe.\n",
    "query = ('SELECT question_reason_for_part_3, q04_1, q04_2, q04_9 FROM users JOIN dogs '\n",
    "         'USING(record_id)')\n",
    "df = pd.read_sql_query(query, con)\n",
    "df.columns = ['suspicion', 'thunderstorm phobia', 'noise phobia', 'separation anxiety']\n",
    "\n",
    "# Remove biased results and discard suspicion column.\n",
    "df = df[df['suspicion'] == '0']\n",
    "df.drop('suspicion', axis=1, inplace=True)\n",
    "\n",
    "# Convert all columns to type integer.\n",
    "for col in df:\n",
    "    df[col] = pd.to_numeric(df[col])\n",
    "\n",
    "# Set a significance level.\n",
    "sig_p = 0.01\n",
    "\n",
    "pairs = [['thunderstorm phobia', 'noise phobia'],\n",
    "         ['thunderstorm phobia', 'separation anxiety'],\n",
    "         ['noise phobia', 'separation anxiety']]\n",
    "\n",
    "titles = ['Thunderstorm Phobia and Noise Phobia',\n",
    "          'Thunderstorm Phobia and Separation Anxiety',\n",
    "          'Noise Phobia and Separation Anxiety']\n",
    "\n",
    "counter = 0\n",
    "for pair in pairs:\n",
    "    # Create a contingency table.\n",
    "    contingency = pd.crosstab(df[pair[0]], df[pair[1]])\n",
    "    # Convert the cross tabulated dataframe to a series of sums.\n",
    "    d = {pair[0]: contingency[0][1],\n",
    "         pair[1]: contingency[1][0],\n",
    "         'both': contingency[1][1]}   \n",
    "    cross_sums = pd.Series(d)\n",
    "    # Display the cross tabulated data as a venn diagram.\n",
    "    labels = cross_sums.index.values\n",
    "    venn2(cross_sums, set_labels=labels[0:2])\n",
    "    plt.title(titles[counter])\n",
    "    plt.show()\n",
    "    # Execute a chi-squared test of independence.\n",
    "    print('Chi-squared Test of Independence for %s and %s:' %(pair[0], pair[1]))\n",
    "    c, p, dof, expected = scs.chi2_contingency(contingency, correction=False)\n",
    "    print('chi2 = %f, p = %.2E, dof = %d' %(c, p, dof))\n",
    "    if p < sig_p:\n",
    "        print('The resulting p-value is below the set significance threshold (%.2f).' %sig_p)\n",
    "    counter += 1"
   ]
  },
  {
   "cell_type": "code",
   "execution_count": 25,
   "metadata": {},
   "outputs": [
    {
     "data": {
      "image/png": "[encoded data removed]",
      "text/plain": [
       "<Figure size 432x288 with 1 Axes>"
      ]
     },
     "metadata": {},
     "output_type": "display_data"
    },
    {
     "name": "stdout",
     "output_type": "stream",
     "text": [
      "Chi-squared Test of Independence for separation anxiety and the combination of noise and\n",
      "thunderstorm phobia:\n",
      "chi2 = 247.979410, p = 1.79E-53, dof = 3\n",
      "The resulting p-value is below the set significance threshold (0.01).\n"
     ]
    }
   ],
   "source": [
    "# Create a contingency table.\n",
    "contingency = pd.crosstab(df['separation anxiety'], [df['noise phobia'],\n",
    "                                                     df['thunderstorm phobia']])\n",
    "\n",
    "# Convert the cross tabulated dataframe to a series of sums.\n",
    "d = {'separation anxiety': contingency[0][0][1],\n",
    "     'noise phobia': contingency[1][0][0],\n",
    "     'separation-noise': contingency[1][0][1],\n",
    "     'thunderstorm phobia': contingency[0][1][0],\n",
    "     'separation-thunderstorm': contingency[0][1][1],\n",
    "     'noise-thunderstorm': contingency[1][1][0],     \n",
    "     'all': contingency[1][1][1]}   \n",
    "cross_sums = pd.Series(d)\n",
    "\n",
    "# Display the cross tabulated data as a venn diagram.\n",
    "labels = [cross_sums.index.values[i] for i in [0, 1, 3]]\n",
    "venn3(cross_sums, set_labels=labels)\n",
    "plt.title('Separation Anxiety, Noise Phobia, and Thunderstorm Phobia')\n",
    "plt.show()\n",
    "\n",
    "# Execute a chi-squared test of independence.\n",
    "title = ('Chi-squared Test of Independence for separation anxiety and the combination of '\n",
    "         'noise and thunderstorm phobia:')\n",
    "print(textwrap.fill(title, width=90))\n",
    "c, p, dof, expected = scs.chi2_contingency(contingency, correction=False)\n",
    "print('chi2 = %f, p = %.2E, dof = %d' %(c, p, dof))\n",
    "if p < sig_p:\n",
    "    print('The resulting p-value is below the set significance threshold (%.2f).' %sig_p)"
   ]
  },
  {
   "cell_type": "markdown",
   "metadata": {},
   "source": [
    "## 7. Compulsion and Fearful/Anxious Behaviors"
   ]
  },
  {
   "cell_type": "code",
   "execution_count": 26,
   "metadata": {},
   "outputs": [
    {
     "data": {
      "image/png": "[encoded data removed]",
      "text/plain": [
       "<Figure size 432x288 with 1 Axes>"
      ]
     },
     "metadata": {},
     "output_type": "display_data"
    }
   ],
   "source": [
    "# Create the necessary hdataframe.\n",
    "query = ('SELECT question_reason_for_part_3, q02_main_2, q02_main_3 FROM users JOIN dogs '\n",
    "         'USING(record_id)')\n",
    "df = pd.read_sql_query(query, con)\n",
    "df.columns = ['suspicion', 'fear/anxiety', 'compulsion']\n",
    "\n",
    "# Remove biased results and discard suspicion column.\n",
    "df = df[df['suspicion'] == '0']\n",
    "df.drop('suspicion', axis=1, inplace=True)\n",
    "\n",
    "# Convert all columns to type integer.\n",
    "for col in df:\n",
    "    df[col] = pd.to_numeric(df[col])\n",
    "\n",
    "# Cross tabulate the relevant columns.\n",
    "contingency = pd.crosstab(df['fear/anxiety'], df['compulsion'])\n",
    "\n",
    "# Convert the cross tabulated dataframe to a series of sums.\n",
    "d = {'fear/anxiety': contingency[0][1],\n",
    "     'compulsion': contingency[1][0],\n",
    "     'both': contingency[1][1]}   \n",
    "cross_sums = pd.Series(d)\n",
    "\n",
    "# Display the cross tabulated data as a venn diagram.\n",
    "labels = cross_sums.index.values\n",
    "venn2(cross_sums, set_labels=labels[0:2])\n",
    "plt.title('Fear/Anxiety and Compulsion')\n",
    "plt.show()"
   ]
  },
  {
   "cell_type": "code",
   "execution_count": 27,
   "metadata": {},
   "outputs": [
    {
     "name": "stdout",
     "output_type": "stream",
     "text": [
      "Chi-square Test of Independence:\n",
      "chi2 = 33.448407, p = 7.32E-09, dof = 1\n",
      "The resulting p-value is below the set significance threshold (0.01).\n"
     ]
    }
   ],
   "source": [
    "# Execute a chi-squared test of independence.\n",
    "c, p, dof, expected = scs.chi2_contingency(contingency, correction=False)\n",
    "print('Chi-square Test of Independence:')\n",
    "print('chi2 = %f, p = %.2E, dof = %d' %(c, p, dof))\n",
    "if p < sig_p:\n",
    "    print('The resulting p-value is below the set significance threshold (%.2f).' %sig_p)"
   ]
  },
  {
   "cell_type": "markdown",
   "metadata": {},
   "source": [
    "## 8. Aggression and Fearful/Anxious Behavior"
   ]
  },
  {
   "cell_type": "markdown",
   "metadata": {},
   "source": [
    "### 8.1 Overall Aggression and Fearful/Anxious Behavior"
   ]
  },
  {
   "cell_type": "code",
   "execution_count": 28,
   "metadata": {},
   "outputs": [
    {
     "data": {
      "image/png": "[encoded data removed]",
      "text/plain": [
       "<Figure size 432x288 with 1 Axes>"
      ]
     },
     "metadata": {},
     "output_type": "display_data"
    },
    {
     "name": "stdout",
     "output_type": "stream",
     "text": [
      "Chi-square Test of Independence:\n",
      "chi2 = 88.721901, p = 4.54E-21, dof = 1\n",
      "The resulting p-value is below the set significance threshold (0.01).\n"
     ]
    }
   ],
   "source": [
    "# Create the necessary dataframe.\n",
    "query = ('SELECT question_reason_for_part_3, q02_main_1, q02_main_2 FROM users JOIN dogs '\n",
    "         'USING(record_id)')\n",
    "df = pd.read_sql_query(query, con)\n",
    "df.columns = ['suspicion', 'aggression', 'fear/anxiety']\n",
    "\n",
    "# Remove biased results and discard suspicion column.\n",
    "df = df[df['suspicion'] == '0']\n",
    "df.drop('suspicion', axis=1, inplace=True)\n",
    "\n",
    "# Convert all columns to type integer.\n",
    "for col in df:\n",
    "    df[col] = pd.to_numeric(df[col])\n",
    "    \n",
    "# Create a contingency table.\n",
    "contingency = pd.crosstab(df['aggression'], df['fear/anxiety'])\n",
    "\n",
    "# Convert the cross tabulated dataframe to a series of sums.\n",
    "d = {'aggression': contingency[0][1],\n",
    "     'fear/anxiety': contingency[1][0],\n",
    "     'both': contingency[1][1]}   \n",
    "cross_sums = pd.Series(d)\n",
    "\n",
    "# Display the cross tabulated data as a venn diagram.\n",
    "labels = cross_sums.index.values\n",
    "venn2(cross_sums, set_labels=labels[0:2])\n",
    "plt.title('Aggression and Fear/Anxiety')\n",
    "plt.show()\n",
    "\n",
    "# Execute a chi-squared test of independence.\n",
    "c, p, dof, expected = scs.chi2_contingency(contingency, correction=False)\n",
    "print('Chi-square Test of Independence:')\n",
    "print('chi2 = %f, p = %.2E, dof = %d' %(c, p, dof))\n",
    "if p < sig_p:\n",
    "    print('The resulting p-value is below the set significance threshold (%.2f).' %sig_p)"
   ]
  },
  {
   "cell_type": "markdown",
   "metadata": {},
   "source": [
    "### 8.2 Specifically Owner Directed Aggression and Fearful/Anxious Behavior"
   ]
  },
  {
   "cell_type": "code",
   "execution_count": 29,
   "metadata": {},
   "outputs": [
    {
     "data": {
      "image/png": "[encoded data removed]",
      "text/plain": [
       "<Figure size 432x288 with 1 Axes>"
      ]
     },
     "metadata": {},
     "output_type": "display_data"
    },
    {
     "name": "stdout",
     "output_type": "stream",
     "text": [
      "Chi-square Test of Independence:\n",
      "chi2 = 42.560816, p = 6.85E-11, dof = 1\n",
      "The resulting p-value is below the set significance threshold (0.01).\n"
     ]
    }
   ],
   "source": [
    "# Create the necessary dataframe.\n",
    "query = ('SELECT question_reason_for_part_3, q03_main_1, q02_main_2 FROM users JOIN dogs '\n",
    "         'USING(record_id)')\n",
    "df = pd.read_sql_query(query, con)\n",
    "df.columns = ['suspicion', 'aggression', 'fear/anxiety']\n",
    "\n",
    "# Remove biased results and discard suspicion column.\n",
    "df = df[df['suspicion'] == '0']\n",
    "df.drop('suspicion', axis=1, inplace=True)\n",
    "\n",
    "# Convert all columns to type integer.\n",
    "for col in df:\n",
    "    df[col] = pd.to_numeric(df[col])\n",
    "    \n",
    "# Create a contingency table.\n",
    "contingency = pd.crosstab(df['aggression'], df['fear/anxiety'])\n",
    "\n",
    "# Convert the cross tabulated dataframe to a series of sums.\n",
    "d = {'owner directed aggression': contingency[0][1],\n",
    "     'fear/anxiety': contingency[1][0],\n",
    "     'both': contingency[1][1]}   \n",
    "cross_sums = pd.Series(d)\n",
    "\n",
    "# Display the cross tabulated data as a venn diagram.\n",
    "labels = cross_sums.index.values\n",
    "venn2(cross_sums, set_labels=labels[0:2])\n",
    "plt.title('Owner Directed Aggression and Fear/Anxiety')\n",
    "plt.show()\n",
    "\n",
    "# Execute a chi-squared test of independence.\n",
    "c, p, dof, expected = scs.chi2_contingency(contingency, correction=False)\n",
    "print('Chi-square Test of Independence:')\n",
    "print('chi2 = %f, p = %.2E, dof = %d' %(c, p, dof))\n",
    "if p < sig_p:\n",
    "    print('The resulting p-value is below the set significance threshold (%.2f).' %sig_p)"
   ]
  },
  {
   "cell_type": "markdown",
   "metadata": {},
   "source": [
    "### 8.3 Specifically Owner Directed Aggression and Separation Anxiety"
   ]
  },
  {
   "cell_type": "code",
   "execution_count": 30,
   "metadata": {},
   "outputs": [
    {
     "data": {
      "image/png": "[encoded data removed]",
      "text/plain": [
       "<Figure size 432x288 with 1 Axes>"
      ]
     },
     "metadata": {},
     "output_type": "display_data"
    },
    {
     "name": "stdout",
     "output_type": "stream",
     "text": [
      "Chi-square Test of Independence:\n",
      "chi2 = 37.394009, p = 9.65E-10, dof = 1\n",
      "The resulting p-value is below the set significance threshold (0.01).\n"
     ]
    }
   ],
   "source": [
    "# Create the necessary dataframe.\n",
    "query = ('SELECT question_reason_for_part_3, q03_main_1, q04_9 FROM users JOIN dogs '\n",
    "         'USING(record_id)')\n",
    "df = pd.read_sql_query(query, con)\n",
    "df.columns = ['suspicion', 'aggression', 'anxiety']\n",
    "\n",
    "# Remove biased results and discard suspicion column.\n",
    "df = df[df['suspicion'] == '0']\n",
    "df.drop('suspicion', axis=1, inplace=True)\n",
    "\n",
    "# Convert all columns to type integer.\n",
    "for col in df:\n",
    "    df[col] = pd.to_numeric(df[col])\n",
    "    \n",
    "# Create a contingency table.\n",
    "contingency = pd.crosstab(df['aggression'], df['anxiety'])\n",
    "\n",
    "# Convert the cross tabulated dataframe to a series of sums.\n",
    "d = {'owner directed aggression': contingency[0][1],\n",
    "     'separation anxiety': contingency[1][0],\n",
    "     'both': contingency[1][1]}   \n",
    "cross_sums = pd.Series(d)\n",
    "\n",
    "# Display the cross tabulated data as a venn diagram.\n",
    "labels = cross_sums.index.values\n",
    "venn2(cross_sums, set_labels=labels[0:2])\n",
    "plt.title('Owner Direct Aggression and Separation Anxiety')\n",
    "plt.show()\n",
    "\n",
    "# Execute a chi-squared test of independence.\n",
    "c, p, dof, expected = scs.chi2_contingency(contingency, correction=False)\n",
    "print('Chi-square Test of Independence:')\n",
    "print('chi2 = %f, p = %.2E, dof = %d' %(c, p, dof))\n",
    "if p < sig_p:\n",
    "    print('The resulting p-value is below the set significance threshold (%.2f).' %sig_p)"
   ]
  },
  {
   "cell_type": "markdown",
   "metadata": {},
   "source": [
    "## 9. Chi-squared Matrix"
   ]
  },
  {
   "cell_type": "code",
   "execution_count": 31,
   "metadata": {},
   "outputs": [
    {
     "name": "stdout",
     "output_type": "stream",
     "text": [
      "[{'A2': 254.7591681771337, 'A3': 98.9685690679733, 'A4': 299.52379089035423, 'A5': 112.57016475353687, 'A6': 79.20184360179715, 'A7': 92.83831101413091, 'A8': 343.9268929197353, 'A9': 106.8558936749317, 'A10': 207.17616381950012, 'A11': 132.45075050814378}\n",
      " {'A3': 1182.3705027968695, 'A4': 216.05045002659682, 'A5': 355.8310750402481, 'A6': 200.34542986282952, 'A7': 311.8329567296948, 'A8': 345.85869134688943, 'A9': 222.0356704399084, 'A10': 107.74577588652066, 'A11': 95.49007438660502}\n",
      " {'A4': 150.54274433956604, 'A5': 239.00207506639015, 'A6': 297.3238504052413, 'A7': 546.8174324078923, 'A8': 414.86874956107744, 'A9': 153.52639655243942, 'A10': 62.29257480456627, 'A11': 85.07359919143074}\n",
      " {'A5': 590.057561324062, 'A6': 209.03507873426452, 'A7': 282.0067905187461, 'A8': 131.7846223093362, 'A9': 63.50545555631838, 'A10': 68.44564727640159, 'A11': 355.49941732757674}\n",
      " {'A6': 781.4761265955761, 'A7': 715.8126259774235, 'A8': 138.91424141357015, 'A9': 78.58765204991913, 'A10': 37.95674701419233, 'A11': 273.0460072024403}\n",
      " {'A7': 1254.6867534594196, 'A8': 97.22166226583701, 'A9': 56.03872889032555, 'A10': 25.700431849367558, 'A11': 136.55365968790622}\n",
      " {'A8': 151.8366677038352, 'A9': 45.90268607943044, 'A10': 33.39104870798845, 'A11': 206.28477412286523}\n",
      " {'A9': 383.4778246709834, 'A10': 352.31950107251794, 'A11': 66.07983432095989}\n",
      " {'A10': 209.38244543667523, 'A11': 21.396315177941656}\n",
      " {'A11': 21.229147740128813} {}]\n"
     ]
    }
   ],
   "source": [
    "query = ('SELECT question_reason_for_part_3, q03_main_1, q03_main_2, q03_main_3, '\n",
    "         'q03_main_4, q03_main_5, q03_main_6, q03_main_7, q03_main_8, q03_main_9, '\n",
    "         'q03_main_10, q03_main_11 FROM users JOIN dogs '\n",
    "         'USING(record_id)')\n",
    "df = pd.read_sql_query(query, con)\n",
    "df.columns = ['suspicion', 'A1', 'A2', 'A3', 'A4', 'A5', 'A6', 'A7', 'A8', 'A9', 'A10', 'A11']\n",
    "\n",
    "# Remove biased results and discard suspicion column.\n",
    "df = df[df['suspicion'] == '0']\n",
    "df.drop('suspicion', axis=1, inplace=True)\n",
    "\n",
    "cols = []\n",
    "chi2 = {}\n",
    "# Convert columns to integer type.\n",
    "for col in df:\n",
    "    df[col] = pd.to_numeric(df[col])\n",
    "    cols.append(col)\n",
    "    chi2[col] = {}\n",
    "\n",
    "from  itertools import combinations\n",
    "pairs = list(combinations(df.columns,2))\n",
    "for pair in pairs:\n",
    "    contingency = pd.crosstab(df[pair[0]], df[pair[1]])\n",
    "    c, p, dof, expected = scs.chi2_contingency(contingency, correction=False)\n",
    "    chi2[pair[0]][pair[1]] = c\n",
    "chi2_matrix = np.array([chi2[i] for i in cols])\n",
    "print(chi2_matrix)"
   ]
  }
 ],
 "metadata": {
  "kernelspec": {
   "display_name": "Python 3",
   "language": "python",
   "name": "python3"
  },
  "language_info": {
   "codemirror_mode": {
    "name": "ipython",
    "version": 3
   },
   "file_extension": ".py",
   "mimetype": "text/x-python",
   "name": "python",
   "nbconvert_exporter": "python",
   "pygments_lexer": "ipython3",
   "version": "3.6.3"
  }
 },
 "nbformat": 4,
 "nbformat_minor": 2
}
