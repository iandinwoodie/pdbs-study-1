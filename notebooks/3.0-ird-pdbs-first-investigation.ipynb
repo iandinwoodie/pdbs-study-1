{
 "cells": [
  {
   "cell_type": "markdown",
   "metadata": {},
   "source": [
    "## First Investigation"
   ]
  },
  {
   "cell_type": "code",
   "execution_count": 1,
   "metadata": {},
   "outputs": [
    {
     "name": "stdout",
     "output_type": "stream",
     "text": [
      "\n",
      "First Investigation:\n",
      "The Relationship Between Noise and Anxiety\n",
      "\n",
      "Sums:\n",
      "thunder = 752\n",
      "noise = 969\n",
      "anxiety = 767\n",
      "\n",
      "Modes:\n",
      "thunder = 0\n",
      "noise = 0\n",
      "anxiety = 0\n",
      "\n",
      "Contingency Table: (thunder|noise)\n",
      "noise       0    1\n",
      "thunder           \n",
      "0        3839  427\n",
      "1         210  542\n",
      "\n",
      "Probabilities: (thunder|noise)\n",
      "thunder: 0, noise: 0, P = 0.765\n",
      "thunder: 0, noise: 1, P = 0.085\n",
      "thunder: 1, noise: 0, P = 0.042\n",
      "thunder: 1, noise: 1, P = 0.108\n",
      "\n",
      "Chi-squared Test of Independence: (thunder|noise)\n",
      "chi2 = 1580.493072, p = 0.00E+00, dof = 1\n",
      "\n",
      "Contingency Table: (thunder|anxiety)\n",
      "anxiety     0    1\n",
      "thunder           \n",
      "0        3750  516\n",
      "1         501  251\n",
      "\n",
      "Probabilities: (thunder|anxiety)\n",
      "thunder: 0, anxiety: 0, P = 0.747\n",
      "thunder: 0, anxiety: 1, P = 0.103\n",
      "thunder: 1, anxiety: 0, P = 0.100\n",
      "thunder: 1, anxiety: 1, P = 0.050\n",
      "\n",
      "Chi-squared Test of Independence: (thunder|anxiety)\n",
      "chi2 = 223.618927, p = 1.47E-50, dof = 1\n",
      "\n",
      "Contingency Table: (noise|anxiety)\n",
      "anxiety     0    1\n",
      "noise             \n",
      "0        3592  457\n",
      "1         659  310\n",
      "\n",
      "Probabilities: (noise|anxiety)\n",
      "noise: 0, anxiety: 0, P = 0.716\n",
      "noise: 0, anxiety: 1, P = 0.091\n",
      "noise: 1, anxiety: 0, P = 0.131\n",
      "noise: 1, anxiety: 1, P = 0.062\n",
      "\n",
      "Chi-squared Test of Independence: (noise|anxiety)\n",
      "chi2 = 258.860919, p = 3.04E-58, dof = 1\n",
      "\n",
      "Contingency Table: (anxiety|noise+thunder)\n",
      "noise       0         1     \n",
      "thunder     0    1    0    1\n",
      "anxiety                     \n",
      "0        3452  140  298  361\n",
      "1         387   70  129  181\n",
      "\n",
      "Probabilities: (anxiety|noise+thunder)\n",
      "anxiety: 0, noise: 0, thunder: 0, P = 0.688\n",
      "anxiety: 0, noise: 0, thunder: 1, P = 0.028\n",
      "anxiety: 0, noise: 1, thunder: 0, P = 0.059\n",
      "anxiety: 0, noise: 1, thunder: 1, P = 0.072\n",
      "anxiety: 1, noise: 0, thunder: 0, P = 0.077\n",
      "anxiety: 1, noise: 0, thunder: 1, P = 0.014\n",
      "anxiety: 1, noise: 1, thunder: 0, P = 0.026\n",
      "anxiety: 1, noise: 1, thunder: 1, P = 0.036\n",
      "\n",
      "Chi-squared Test of Independence: (anxiety|noise+thunder)\n",
      "chi2 = 343.870316, p = 3.17E-74, dof = 3\n",
      "\n"
     ]
    }
   ],
   "source": [
    "%run -i '../src/features/first_investigation.py'"
   ]
  }
 ],
 "metadata": {
  "kernelspec": {
   "display_name": "Python 3",
   "language": "python",
   "name": "python3"
  },
  "language_info": {
   "codemirror_mode": {
    "name": "ipython",
    "version": 3
   },
   "file_extension": ".py",
   "mimetype": "text/x-python",
   "name": "python",
   "nbconvert_exporter": "python",
   "pygments_lexer": "ipython3",
   "version": "3.6.3"
  }
 },
 "nbformat": 4,
 "nbformat_minor": 2
}
