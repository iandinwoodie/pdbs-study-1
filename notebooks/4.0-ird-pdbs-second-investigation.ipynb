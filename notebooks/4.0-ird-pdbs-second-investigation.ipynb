{
 "cells": [
  {
   "cell_type": "markdown",
   "metadata": {},
   "source": [
    "## Second Investigation"
   ]
  },
  {
   "cell_type": "code",
   "execution_count": 1,
   "metadata": {},
   "outputs": [
    {
     "name": "stdout",
     "output_type": "stream",
     "text": [
      "\n",
      "Second Investigation:\n",
      "The Relationship Between Anxiety and Compulsion\n",
      "\n",
      "Sums:\n",
      "anxious = 2387\n",
      "repetitive = 818\n",
      "\n",
      "Modes:\n",
      "anxious = 0\n",
      "repetitive = 0\n",
      "\n",
      "Contingency Table:\n",
      "repetitive     0    1\n",
      "anxious              \n",
      "0           2307  324\n",
      "1           1893  494\n",
      "\n",
      "Probabilities:\n",
      "anxious: 0, repetitive: 0, P = 0.460\n",
      "anxious: 0, repetitive: 1, P = 0.065\n",
      "anxious: 1, repetitive: 0, P = 0.377\n",
      "anxious: 1, repetitive: 1, P = 0.098\n",
      "\n",
      "Chi-square Test of Independence:\n",
      "chi2 = 64.426486, p = 1.00E-15, dof = 1\n",
      "\n"
     ]
    }
   ],
   "source": [
    "%run -i '../src/features/second_investigation.py'"
   ]
  }
 ],
 "metadata": {
  "kernelspec": {
   "display_name": "Python 3",
   "language": "python",
   "name": "python3"
  },
  "language_info": {
   "codemirror_mode": {
    "name": "ipython",
    "version": 3
   },
   "file_extension": ".py",
   "mimetype": "text/x-python",
   "name": "python",
   "nbconvert_exporter": "python",
   "pygments_lexer": "ipython3",
   "version": "3.6.3"
  }
 },
 "nbformat": 4,
 "nbformat_minor": 2
}
